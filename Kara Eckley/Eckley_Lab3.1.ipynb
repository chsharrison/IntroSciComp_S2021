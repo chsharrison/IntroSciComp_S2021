{
 "cells": [
  {
   "cell_type": "markdown",
   "metadata": {},
   "source": [
    "Name: Kara Eckley"
   ]
  },
  {
   "cell_type": "markdown",
   "metadata": {},
   "source": [
    "Lab partner(s): Adam Sanjar"
   ]
  },
  {
   "cell_type": "code",
   "execution_count": null,
   "metadata": {},
   "outputs": [],
   "source": []
  },
  {
   "cell_type": "markdown",
   "metadata": {},
   "source": [
    "## Instructions\n",
    "\n",
    "For each class, download the lab and have it up and running in Jupyter when we begin the class period. This will allow you to code along with the demonstrations and be ready to go. You will be assigned a lab partner in your breakout room, they are your partner for this lab. Put their name above."
   ]
  },
  {
   "cell_type": "markdown",
   "metadata": {},
   "source": [
    "When you are done with your lab, upload this document to your github folder on the class site. Then submit a url link to the completed lab, along with a screenshot of your completed score for the chapter assigned in datacamp to the assignment tab in Blackboard."
   ]
  },
  {
   "cell_type": "markdown",
   "metadata": {},
   "source": [
    "# Warmups"
   ]
  },
  {
   "cell_type": "markdown",
   "metadata": {},
   "source": [
    "**W.1** Define a string variable that has the value \"All my exes live in Texas\". Print out the word Texas from this string two ways, using both postive and negative indexing."
   ]
  },
  {
   "cell_type": "code",
   "execution_count": 2,
   "metadata": {},
   "outputs": [],
   "source": [
    "Xs = \"All my exes live in Texas\""
   ]
  },
  {
   "cell_type": "code",
   "execution_count": 3,
   "metadata": {},
   "outputs": [
    {
     "name": "stdout",
     "output_type": "stream",
     "text": [
      "Texas\n"
     ]
    }
   ],
   "source": [
    "print(Xs[-5:])"
   ]
  },
  {
   "cell_type": "code",
   "execution_count": 4,
   "metadata": {},
   "outputs": [
    {
     "name": "stdout",
     "output_type": "stream",
     "text": [
      "Texas\n"
     ]
    }
   ],
   "source": [
    "print(Xs[20:])"
   ]
  },
  {
   "cell_type": "markdown",
   "metadata": {},
   "source": [
    "**W.2** How many times is the letter e used in the above?"
   ]
  },
  {
   "cell_type": "code",
   "execution_count": 5,
   "metadata": {},
   "outputs": [
    {
     "data": {
      "text/plain": [
       "4"
      ]
     },
     "execution_count": 5,
     "metadata": {},
     "output_type": "execute_result"
    }
   ],
   "source": [
    "Xs.count(\"e\")"
   ]
  },
  {
   "cell_type": "markdown",
   "metadata": {},
   "source": [
    "**W.3** Define both a list and a numpy array that has even integers from 0 to 20"
   ]
  },
  {
   "cell_type": "code",
   "execution_count": 6,
   "metadata": {},
   "outputs": [],
   "source": [
    "import numpy"
   ]
  },
  {
   "cell_type": "code",
   "execution_count": 7,
   "metadata": {},
   "outputs": [],
   "source": [
    "evenlist = [2, 4, 6, 8, 10, 12, 14, 16, 18, 20]"
   ]
  },
  {
   "cell_type": "code",
   "execution_count": 8,
   "metadata": {},
   "outputs": [
    {
     "name": "stdout",
     "output_type": "stream",
     "text": [
      "[[ 2  4  6  8 10 12 14 16 18 20]]\n"
     ]
    }
   ],
   "source": [
    "array1 = numpy.array([evenlist])\n",
    "print(array1)"
   ]
  },
  {
   "cell_type": "markdown",
   "metadata": {},
   "source": [
    "**W.4** Add this array to itself, what is the result? Do the same thing with a list, how is the result different?"
   ]
  },
  {
   "cell_type": "code",
   "execution_count": 9,
   "metadata": {},
   "outputs": [
    {
     "name": "stdout",
     "output_type": "stream",
     "text": [
      "[2, 4, 6, 8, 10, 12, 14, 16, 18, 20, 2, 4, 6, 8, 10, 12, 14, 16, 18, 20]\n"
     ]
    }
   ],
   "source": [
    "evenlist2 = evenlist+evenlist\n",
    "print(evenlist2)"
   ]
  },
  {
   "cell_type": "code",
   "execution_count": 10,
   "metadata": {},
   "outputs": [
    {
     "name": "stdout",
     "output_type": "stream",
     "text": [
      "[[ 4  8 12 16 20 24 28 32 36 40]]\n"
     ]
    }
   ],
   "source": [
    "array2 = array1+array1\n",
    "print(array2)"
   ]
  },
  {
   "cell_type": "code",
   "execution_count": 11,
   "metadata": {},
   "outputs": [],
   "source": [
    "#The array added the elements in the same position whereas the list jusat appended the whole list onto the end again."
   ]
  },
  {
   "cell_type": "markdown",
   "metadata": {},
   "source": [
    "**W.5** Find the mean of the numpy array you created using a method and a function."
   ]
  },
  {
   "cell_type": "code",
   "execution_count": 12,
   "metadata": {},
   "outputs": [
    {
     "data": {
      "text/plain": [
       "22.0"
      ]
     },
     "execution_count": 12,
     "metadata": {},
     "output_type": "execute_result"
    }
   ],
   "source": [
    "#Method\n",
    "array2.mean()"
   ]
  },
  {
   "cell_type": "code",
   "execution_count": 13,
   "metadata": {},
   "outputs": [
    {
     "data": {
      "text/plain": [
       "22.0"
      ]
     },
     "execution_count": 13,
     "metadata": {},
     "output_type": "execute_result"
    }
   ],
   "source": [
    "#Function\n",
    "numpy.mean(array2)"
   ]
  },
  {
   "cell_type": "markdown",
   "metadata": {},
   "source": [
    "**W.6** Now try finding the mean of the list, does it work in the same way?"
   ]
  },
  {
   "cell_type": "code",
   "execution_count": 14,
   "metadata": {},
   "outputs": [
    {
     "ename": "NameError",
     "evalue": "name 'mean' is not defined",
     "output_type": "error",
     "traceback": [
      "\u001b[1;31m---------------------------------------------------------------------------\u001b[0m",
      "\u001b[1;31mNameError\u001b[0m                                 Traceback (most recent call last)",
      "\u001b[1;32m<ipython-input-14-c1e5d113aa5b>\u001b[0m in \u001b[0;36m<module>\u001b[1;34m\u001b[0m\n\u001b[1;32m----> 1\u001b[1;33m \u001b[0mmean\u001b[0m\u001b[1;33m(\u001b[0m\u001b[0mevenlist\u001b[0m\u001b[1;33m)\u001b[0m\u001b[1;33m\u001b[0m\u001b[1;33m\u001b[0m\u001b[0m\n\u001b[0m",
      "\u001b[1;31mNameError\u001b[0m: name 'mean' is not defined"
     ]
    }
   ],
   "source": [
    "mean(evenlist)"
   ]
  },
  {
   "cell_type": "code",
   "execution_count": 15,
   "metadata": {},
   "outputs": [
    {
     "ename": "AttributeError",
     "evalue": "'list' object has no attribute 'mean'",
     "output_type": "error",
     "traceback": [
      "\u001b[1;31m---------------------------------------------------------------------------\u001b[0m",
      "\u001b[1;31mAttributeError\u001b[0m                            Traceback (most recent call last)",
      "\u001b[1;32m<ipython-input-15-a6bfc203c8ba>\u001b[0m in \u001b[0;36m<module>\u001b[1;34m\u001b[0m\n\u001b[1;32m----> 1\u001b[1;33m \u001b[0mevenlist\u001b[0m\u001b[1;33m.\u001b[0m\u001b[0mmean\u001b[0m\u001b[1;33m(\u001b[0m\u001b[1;33m)\u001b[0m\u001b[1;33m\u001b[0m\u001b[1;33m\u001b[0m\u001b[0m\n\u001b[0m",
      "\u001b[1;31mAttributeError\u001b[0m: 'list' object has no attribute 'mean'"
     ]
    }
   ],
   "source": [
    "evenlist.mean()"
   ]
  },
  {
   "cell_type": "code",
   "execution_count": 16,
   "metadata": {},
   "outputs": [],
   "source": [
    "#It does not appear to work either as a function or a method (unless there's a command other than mean that I don't know of.)"
   ]
  },
  {
   "cell_type": "markdown",
   "metadata": {},
   "source": [
    "# Lecture 3.1"
   ]
  },
  {
   "cell_type": "markdown",
   "metadata": {},
   "source": [
    "Lecture Agenda:\n",
    "\n",
    "* questions so far\n",
    "* standard import statements\n",
    "* basic things in numpy and matplotlib\n",
    "* how to investigate how a pre-defined function works\n",
    "* First plot! "
   ]
  },
  {
   "cell_type": "markdown",
   "metadata": {},
   "source": [
    "In general, your python notebook, interactive session, or script will start with some importing statements to add the packages you are going to use. Below we will go over the most standard ones and make a simple plot"
   ]
  },
  {
   "cell_type": "code",
   "execution_count": 17,
   "metadata": {},
   "outputs": [],
   "source": [
    "import numpy as np                        # load the numerical python package\n",
    "import matplotlib.pyplot as plt           # load the plotting package"
   ]
  },
  {
   "cell_type": "markdown",
   "metadata": {},
   "source": [
    "Note you only have to load the packages once, then they are available in your kernel. If you restart the kernel, you need to reload the packages. You can check what packages are loaded using whos, just like for variables"
   ]
  },
  {
   "cell_type": "code",
   "execution_count": 18,
   "metadata": {
    "scrolled": true
   },
   "outputs": [
    {
     "name": "stdout",
     "output_type": "stream",
     "text": [
      "Variable    Type       Data/Info\n",
      "--------------------------------\n",
      "Xs          str        All my exes live in Texas\n",
      "array1      ndarray    1x10: 10 elems, type `int32`, 40 bytes\n",
      "array2      ndarray    1x10: 10 elems, type `int32`, 40 bytes\n",
      "evenlist    list       n=10\n",
      "evenlist2   list       n=20\n",
      "np          module     <module 'numpy' from 'C:\\<...>ges\\\\numpy\\\\__init__.py'>\n",
      "numpy       module     <module 'numpy' from 'C:\\<...>ges\\\\numpy\\\\__init__.py'>\n",
      "plt         module     <module 'matplotlib.pyplo<...>\\\\matplotlib\\\\pyplot.py'>\n"
     ]
    }
   ],
   "source": [
    "whos"
   ]
  },
  {
   "cell_type": "markdown",
   "metadata": {},
   "source": [
    "Let's make a basic plot, a sine wave. Fist we have to define the x-axis data, the points we want to plot. You can type these all out, but numpy has a few functions to create this date, let's use one.\n",
    "\n",
    "Look at the documentation for the numpy function *arange*. The inputs are start, stop and step, and there are some examples at the bottom. Some of these inputs are optional. Let's play around with this"
   ]
  },
  {
   "cell_type": "code",
   "execution_count": 19,
   "metadata": {},
   "outputs": [
    {
     "data": {
      "text/plain": [
       "\u001b[1;31mDocstring:\u001b[0m\n",
       "arange([start,] stop[, step,], dtype=None)\n",
       "\n",
       "Return evenly spaced values within a given interval.\n",
       "\n",
       "Values are generated within the half-open interval ``[start, stop)``\n",
       "(in other words, the interval including `start` but excluding `stop`).\n",
       "For integer arguments the function is equivalent to the Python built-in\n",
       "`range` function, but returns an ndarray rather than a list.\n",
       "\n",
       "When using a non-integer step, such as 0.1, the results will often not\n",
       "be consistent.  It is better to use `numpy.linspace` for these cases.\n",
       "\n",
       "Parameters\n",
       "----------\n",
       "start : number, optional\n",
       "    Start of interval.  The interval includes this value.  The default\n",
       "    start value is 0.\n",
       "stop : number\n",
       "    End of interval.  The interval does not include this value, except\n",
       "    in some cases where `step` is not an integer and floating point\n",
       "    round-off affects the length of `out`.\n",
       "step : number, optional\n",
       "    Spacing between values.  For any output `out`, this is the distance\n",
       "    between two adjacent values, ``out[i+1] - out[i]``.  The default\n",
       "    step size is 1.  If `step` is specified as a position argument,\n",
       "    `start` must also be given.\n",
       "dtype : dtype\n",
       "    The type of the output array.  If `dtype` is not given, infer the data\n",
       "    type from the other input arguments.\n",
       "\n",
       "Returns\n",
       "-------\n",
       "arange : ndarray\n",
       "    Array of evenly spaced values.\n",
       "\n",
       "    For floating point arguments, the length of the result is\n",
       "    ``ceil((stop - start)/step)``.  Because of floating point overflow,\n",
       "    this rule may result in the last element of `out` being greater\n",
       "    than `stop`.\n",
       "\n",
       "See Also\n",
       "--------\n",
       "numpy.linspace : Evenly spaced numbers with careful handling of endpoints.\n",
       "numpy.ogrid: Arrays of evenly spaced numbers in N-dimensions.\n",
       "numpy.mgrid: Grid-shaped arrays of evenly spaced numbers in N-dimensions.\n",
       "\n",
       "Examples\n",
       "--------\n",
       ">>> np.arange(3)\n",
       "array([0, 1, 2])\n",
       ">>> np.arange(3.0)\n",
       "array([ 0.,  1.,  2.])\n",
       ">>> np.arange(3,7)\n",
       "array([3, 4, 5, 6])\n",
       ">>> np.arange(3,7,2)\n",
       "array([3, 5])\n",
       "\u001b[1;31mType:\u001b[0m      builtin_function_or_method\n"
      ]
     },
     "metadata": {},
     "output_type": "display_data"
    }
   ],
   "source": [
    "np.arange?\n",
    "#creates a range of numbers."
   ]
  },
  {
   "cell_type": "markdown",
   "metadata": {},
   "source": [
    "If we type the arange function without assigning it to a variable, the result will be printed out instead of stored in a variable. Let's use this to explore how this function works."
   ]
  },
  {
   "cell_type": "code",
   "execution_count": 20,
   "metadata": {},
   "outputs": [
    {
     "data": {
      "text/plain": [
       "array([0, 1, 2, 3, 4])"
      ]
     },
     "execution_count": 20,
     "metadata": {},
     "output_type": "execute_result"
    }
   ],
   "source": [
    "np.arange(5) # the 5 here is the \"stop\""
   ]
  },
  {
   "cell_type": "markdown",
   "metadata": {},
   "source": [
    "The result is that the array starts at zero and stops before 5, similar to how indexing works. We can get the same result by specifying a starting number"
   ]
  },
  {
   "cell_type": "code",
   "execution_count": 21,
   "metadata": {},
   "outputs": [
    {
     "data": {
      "text/plain": [
       "array([0, 1, 2, 3, 4])"
      ]
     },
     "execution_count": 21,
     "metadata": {},
     "output_type": "execute_result"
    }
   ],
   "source": [
    "np.arange(0,5) # here 0 is the \"start\", this gives you the same result"
   ]
  },
  {
   "cell_type": "markdown",
   "metadata": {},
   "source": [
    "What about if we add three arguments to the function? Let's try"
   ]
  },
  {
   "cell_type": "code",
   "execution_count": 22,
   "metadata": {},
   "outputs": [
    {
     "data": {
      "text/plain": [
       "array([ 1,  3,  5,  7,  9, 11, 13, 15, 17, 19, 21, 23, 25, 27, 29, 31, 33,\n",
       "       35, 37, 39, 41, 43, 45, 47, 49, 51, 53, 55, 57, 59, 61, 63, 65, 67,\n",
       "       69, 71, 73, 75, 77, 79, 81, 83, 85, 87, 89, 91, 93, 95, 97, 99])"
      ]
     },
     "execution_count": 22,
     "metadata": {},
     "output_type": "execute_result"
    }
   ],
   "source": [
    "np.arange(1,100,2) # here the 2 is the \"stride\""
   ]
  },
  {
   "cell_type": "markdown",
   "metadata": {},
   "source": [
    "Let's define an x basis array that goes from -2$\\pi$ to 2$\\pi$ in steps of $\\pi$/8. First we will check it out, then do the assignment. We will use np.pi for $\\pi$. I'm going to define the start, stop and step values as variables to make the function syntax clearer."
   ]
  },
  {
   "cell_type": "code",
   "execution_count": 23,
   "metadata": {},
   "outputs": [
    {
     "data": {
      "text/plain": [
       "3.141592653589793"
      ]
     },
     "execution_count": 23,
     "metadata": {},
     "output_type": "execute_result"
    }
   ],
   "source": [
    "np.pi"
   ]
  },
  {
   "cell_type": "code",
   "execution_count": 24,
   "metadata": {},
   "outputs": [
    {
     "data": {
      "text/plain": [
       "array([-6.28318531e+00, -5.89048623e+00, -5.49778714e+00, -5.10508806e+00,\n",
       "       -4.71238898e+00, -4.31968990e+00, -3.92699082e+00, -3.53429174e+00,\n",
       "       -3.14159265e+00, -2.74889357e+00, -2.35619449e+00, -1.96349541e+00,\n",
       "       -1.57079633e+00, -1.17809725e+00, -7.85398163e-01, -3.92699082e-01,\n",
       "        7.10542736e-15,  3.92699082e-01,  7.85398163e-01,  1.17809725e+00,\n",
       "        1.57079633e+00,  1.96349541e+00,  2.35619449e+00,  2.74889357e+00,\n",
       "        3.14159265e+00,  3.53429174e+00,  3.92699082e+00,  4.31968990e+00,\n",
       "        4.71238898e+00,  5.10508806e+00,  5.49778714e+00,  5.89048623e+00])"
      ]
     },
     "execution_count": 24,
     "metadata": {},
     "output_type": "execute_result"
    }
   ],
   "source": [
    "start = -2*np.pi\n",
    "stop = 2*np.pi\n",
    "step = np.pi/8\n",
    "\n",
    "np.arange(start, stop, step) # this is wrong, why?"
   ]
  },
  {
   "cell_type": "markdown",
   "metadata": {},
   "source": [
    "The numpy array doesn't go to 2$\\pi$, but stops before this. This is because it doesn't go all the way to the stop value, but ends at stop - step. How can we fix this?"
   ]
  },
  {
   "cell_type": "code",
   "execution_count": 25,
   "metadata": {},
   "outputs": [
    {
     "data": {
      "text/plain": [
       "array([-6.28318531e+00, -5.89048623e+00, -5.49778714e+00, -5.10508806e+00,\n",
       "       -4.71238898e+00, -4.31968990e+00, -3.92699082e+00, -3.53429174e+00,\n",
       "       -3.14159265e+00, -2.74889357e+00, -2.35619449e+00, -1.96349541e+00,\n",
       "       -1.57079633e+00, -1.17809725e+00, -7.85398163e-01, -3.92699082e-01,\n",
       "        7.10542736e-15,  3.92699082e-01,  7.85398163e-01,  1.17809725e+00,\n",
       "        1.57079633e+00,  1.96349541e+00,  2.35619449e+00,  2.74889357e+00,\n",
       "        3.14159265e+00,  3.53429174e+00,  3.92699082e+00,  4.31968990e+00,\n",
       "        4.71238898e+00,  5.10508806e+00,  5.49778714e+00,  5.89048623e+00,\n",
       "        6.28318531e+00])"
      ]
     },
     "execution_count": 25,
     "metadata": {},
     "output_type": "execute_result"
    }
   ],
   "source": [
    "# note my start, stop and step are defined above, so I can reuse them here.\n",
    "\n",
    "np.arange(start, stop+step, step) # now it works"
   ]
  },
  {
   "cell_type": "markdown",
   "metadata": {},
   "source": [
    "NOW the array ends at 2$\\pi$. Let's save this to an array we can use later."
   ]
  },
  {
   "cell_type": "code",
   "execution_count": 26,
   "metadata": {},
   "outputs": [
    {
     "data": {
      "text/plain": [
       "array([-6.28318531e+00, -5.89048623e+00, -5.49778714e+00, -5.10508806e+00,\n",
       "       -4.71238898e+00, -4.31968990e+00, -3.92699082e+00, -3.53429174e+00,\n",
       "       -3.14159265e+00, -2.74889357e+00, -2.35619449e+00, -1.96349541e+00,\n",
       "       -1.57079633e+00, -1.17809725e+00, -7.85398163e-01, -3.92699082e-01,\n",
       "        7.10542736e-15,  3.92699082e-01,  7.85398163e-01,  1.17809725e+00,\n",
       "        1.57079633e+00,  1.96349541e+00,  2.35619449e+00,  2.74889357e+00,\n",
       "        3.14159265e+00,  3.53429174e+00,  3.92699082e+00,  4.31968990e+00,\n",
       "        4.71238898e+00,  5.10508806e+00,  5.49778714e+00,  5.89048623e+00,\n",
       "        6.28318531e+00])"
      ]
     },
     "execution_count": 26,
     "metadata": {},
     "output_type": "execute_result"
    }
   ],
   "source": [
    "x = np.arange(start, stop+step, step)\n",
    "# check:\n",
    "x"
   ]
  },
  {
   "cell_type": "markdown",
   "metadata": {},
   "source": [
    "Next we need to define the y-values for our plot, using the np.sin function. We will use the x array we just created."
   ]
  },
  {
   "cell_type": "code",
   "execution_count": 27,
   "metadata": {},
   "outputs": [
    {
     "data": {
      "text/plain": [
       "\u001b[1;31mCall signature:\u001b[0m  \u001b[0mnp\u001b[0m\u001b[1;33m.\u001b[0m\u001b[0msin\u001b[0m\u001b[1;33m(\u001b[0m\u001b[1;33m*\u001b[0m\u001b[0margs\u001b[0m\u001b[1;33m,\u001b[0m \u001b[1;33m**\u001b[0m\u001b[0mkwargs\u001b[0m\u001b[1;33m)\u001b[0m\u001b[1;33m\u001b[0m\u001b[1;33m\u001b[0m\u001b[0m\n",
       "\u001b[1;31mType:\u001b[0m            ufunc\n",
       "\u001b[1;31mString form:\u001b[0m     <ufunc 'sin'>\n",
       "\u001b[1;31mFile:\u001b[0m            c:\\users\\kara\\anaconda3\\lib\\site-packages\\numpy\\__init__.py\n",
       "\u001b[1;31mDocstring:\u001b[0m      \n",
       "sin(x, /, out=None, *, where=True, casting='same_kind', order='K', dtype=None, subok=True[, signature, extobj])\n",
       "\n",
       "Trigonometric sine, element-wise.\n",
       "\n",
       "Parameters\n",
       "----------\n",
       "x : array_like\n",
       "    Angle, in radians (:math:`2 \\pi` rad equals 360 degrees).\n",
       "out : ndarray, None, or tuple of ndarray and None, optional\n",
       "    A location into which the result is stored. If provided, it must have\n",
       "    a shape that the inputs broadcast to. If not provided or None,\n",
       "    a freshly-allocated array is returned. A tuple (possible only as a\n",
       "    keyword argument) must have length equal to the number of outputs.\n",
       "where : array_like, optional\n",
       "    This condition is broadcast over the input. At locations where the\n",
       "    condition is True, the `out` array will be set to the ufunc result.\n",
       "    Elsewhere, the `out` array will retain its original value.\n",
       "    Note that if an uninitialized `out` array is created via the default\n",
       "    ``out=None``, locations within it where the condition is False will\n",
       "    remain uninitialized.\n",
       "**kwargs\n",
       "    For other keyword-only arguments, see the\n",
       "    :ref:`ufunc docs <ufuncs.kwargs>`.\n",
       "\n",
       "Returns\n",
       "-------\n",
       "y : array_like\n",
       "    The sine of each element of x.\n",
       "    This is a scalar if `x` is a scalar.\n",
       "\n",
       "See Also\n",
       "--------\n",
       "arcsin, sinh, cos\n",
       "\n",
       "Notes\n",
       "-----\n",
       "The sine is one of the fundamental functions of trigonometry (the\n",
       "mathematical study of triangles).  Consider a circle of radius 1\n",
       "centered on the origin.  A ray comes in from the :math:`+x` axis, makes\n",
       "an angle at the origin (measured counter-clockwise from that axis), and\n",
       "departs from the origin.  The :math:`y` coordinate of the outgoing\n",
       "ray's intersection with the unit circle is the sine of that angle.  It\n",
       "ranges from -1 for :math:`x=3\\pi / 2` to +1 for :math:`\\pi / 2.`  The\n",
       "function has zeroes where the angle is a multiple of :math:`\\pi`.\n",
       "Sines of angles between :math:`\\pi` and :math:`2\\pi` are negative.\n",
       "The numerous properties of the sine and related functions are included\n",
       "in any standard trigonometry text.\n",
       "\n",
       "Examples\n",
       "--------\n",
       "Print sine of one angle:\n",
       "\n",
       ">>> np.sin(np.pi/2.)\n",
       "1.0\n",
       "\n",
       "Print sines of an array of angles given in degrees:\n",
       "\n",
       ">>> np.sin(np.array((0., 30., 45., 60., 90.)) * np.pi / 180. )\n",
       "array([ 0.        ,  0.5       ,  0.70710678,  0.8660254 ,  1.        ])\n",
       "\n",
       "Plot the sine function:\n",
       "\n",
       ">>> import matplotlib.pylab as plt\n",
       ">>> x = np.linspace(-np.pi, np.pi, 201)\n",
       ">>> plt.plot(x, np.sin(x))\n",
       ">>> plt.xlabel('Angle [rad]')\n",
       ">>> plt.ylabel('sin(x)')\n",
       ">>> plt.axis('tight')\n",
       ">>> plt.show()\n",
       "\u001b[1;31mClass docstring:\u001b[0m\n",
       "Functions that operate element by element on whole arrays.\n",
       "\n",
       "To see the documentation for a specific ufunc, use `info`.  For\n",
       "example, ``np.info(np.sin)``.  Because ufuncs are written in C\n",
       "(for speed) and linked into Python with NumPy's ufunc facility,\n",
       "Python's help() function finds this page whenever help() is called\n",
       "on a ufunc.\n",
       "\n",
       "A detailed explanation of ufuncs can be found in the docs for :ref:`ufuncs`.\n",
       "\n",
       "Calling ufuncs:\n",
       "===============\n",
       "\n",
       "op(*x[, out], where=True, **kwargs)\n",
       "Apply `op` to the arguments `*x` elementwise, broadcasting the arguments.\n",
       "\n",
       "The broadcasting rules are:\n",
       "\n",
       "* Dimensions of length 1 may be prepended to either array.\n",
       "* Arrays may be repeated along dimensions of length 1.\n",
       "\n",
       "Parameters\n",
       "----------\n",
       "*x : array_like\n",
       "    Input arrays.\n",
       "out : ndarray, None, or tuple of ndarray and None, optional\n",
       "    Alternate array object(s) in which to put the result; if provided, it\n",
       "    must have a shape that the inputs broadcast to. A tuple of arrays\n",
       "    (possible only as a keyword argument) must have length equal to the\n",
       "    number of outputs; use None for uninitialized outputs to be\n",
       "    allocated by the ufunc.\n",
       "where : array_like, optional\n",
       "    This condition is broadcast over the input. At locations where the\n",
       "    condition is True, the `out` array will be set to the ufunc result.\n",
       "    Elsewhere, the `out` array will retain its original value.\n",
       "    Note that if an uninitialized `out` array is created via the default\n",
       "    ``out=None``, locations within it where the condition is False will\n",
       "    remain uninitialized.\n",
       "**kwargs\n",
       "    For other keyword-only arguments, see the :ref:`ufunc docs <ufuncs.kwargs>`.\n",
       "\n",
       "Returns\n",
       "-------\n",
       "r : ndarray or tuple of ndarray\n",
       "    `r` will have the shape that the arrays in `x` broadcast to; if `out` is\n",
       "    provided, it will be returned. If not, `r` will be allocated and\n",
       "    may contain uninitialized values. If the function has more than one\n",
       "    output, then the result will be a tuple of arrays.\n"
      ]
     },
     "metadata": {},
     "output_type": "display_data"
    }
   ],
   "source": [
    "# note the input has to be in radians, not degrees\n",
    "np.sin?"
   ]
  },
  {
   "cell_type": "code",
   "execution_count": 28,
   "metadata": {
    "scrolled": true
   },
   "outputs": [
    {
     "data": {
      "text/plain": [
       "array([ 2.44929360e-16,  3.82683432e-01,  7.07106781e-01,  9.23879533e-01,\n",
       "        1.00000000e+00,  9.23879533e-01,  7.07106781e-01,  3.82683432e-01,\n",
       "       -3.67517836e-15, -3.82683432e-01, -7.07106781e-01, -9.23879533e-01,\n",
       "       -1.00000000e+00, -9.23879533e-01, -7.07106781e-01, -3.82683432e-01,\n",
       "        7.10542736e-15,  3.82683432e-01,  7.07106781e-01,  9.23879533e-01,\n",
       "        1.00000000e+00,  9.23879533e-01,  7.07106781e-01,  3.82683432e-01,\n",
       "       -1.05356764e-14, -3.82683432e-01, -7.07106781e-01, -9.23879533e-01,\n",
       "       -1.00000000e+00, -9.23879533e-01, -7.07106781e-01, -3.82683432e-01,\n",
       "        1.39659254e-14])"
      ]
     },
     "execution_count": 28,
     "metadata": {},
     "output_type": "execute_result"
    }
   ],
   "source": [
    "y = np.sin(x)\n",
    "y #check"
   ]
  },
  {
   "cell_type": "markdown",
   "metadata": {},
   "source": [
    "The most basic plotting command:"
   ]
  },
  {
   "cell_type": "code",
   "execution_count": 29,
   "metadata": {},
   "outputs": [
    {
     "data": {
      "text/plain": [
       "[<matplotlib.lines.Line2D at 0x270783c88b0>]"
      ]
     },
     "execution_count": 29,
     "metadata": {},
     "output_type": "execute_result"
    },
    {
     "data": {
      "image/png": "[encoded data removed]",
      "text/plain": [
       "<Figure size 432x288 with 1 Axes>"
      ]
     },
     "metadata": {
      "needs_background": "light"
     },
     "output_type": "display_data"
    }
   ],
   "source": [
    "plt.plot(x,y)\n",
    "\n",
    "# note this uses the shortcut we created when we used the import statement: \n",
    "# import matplotlib.pyplot as plt \n",
    "# otherwise you would have to type matplotlib.pyplot.plot(x,y)"
   ]
  },
  {
   "cell_type": "markdown",
   "metadata": {},
   "source": [
    "You can see above that the plot is kind of choppy. To fix this we need to have more x points and fill in the plot more"
   ]
  },
  {
   "cell_type": "code",
   "execution_count": 30,
   "metadata": {},
   "outputs": [],
   "source": [
    "start = -2*np.pi\n",
    "stop = 2*np.pi\n",
    "#step = np.pi/8\n",
    "step = np.pi/16 #making a smaller step\n",
    "\n",
    "x_2 = np.arange(start,stop,step)"
   ]
  },
  {
   "cell_type": "code",
   "execution_count": 31,
   "metadata": {},
   "outputs": [
    {
     "data": {
      "text/plain": [
       "[<matplotlib.lines.Line2D at 0x270784432b0>]"
      ]
     },
     "execution_count": 31,
     "metadata": {},
     "output_type": "execute_result"
    },
    {
     "data": {
      "image/png": "[encoded data removed]",
      "text/plain": [
       "<Figure size 432x288 with 1 Axes>"
      ]
     },
     "metadata": {
      "needs_background": "light"
     },
     "output_type": "display_data"
    }
   ],
   "source": [
    "# note we can just put the np.sin function call right inside the plotting statement\n",
    "\n",
    "plt.plot(x_2, np.sin(x_2))\n"
   ]
  },
  {
   "cell_type": "markdown",
   "metadata": {},
   "source": [
    "Looks much better with more x values"
   ]
  },
  {
   "cell_type": "code",
   "execution_count": 32,
   "metadata": {
    "scrolled": true
   },
   "outputs": [
    {
     "data": {
      "text/plain": [
       "Text(0.5, 1.0, 'y = sin(x) Graph')"
      ]
     },
     "execution_count": 32,
     "metadata": {},
     "output_type": "execute_result"
    },
    {
     "data": {
      "image/png": "[encoded data removed]",
      "text/plain": [
       "<Figure size 432x288 with 1 Axes>"
      ]
     },
     "metadata": {
      "needs_background": "light"
     },
     "output_type": "display_data"
    }
   ],
   "source": [
    "# add some labels and a title in\n",
    "\n",
    "plt.plot(x_2, np.sin(x_2))\n",
    "plt.xlabel('X values')\n",
    "plt.ylabel('Y values')\n",
    "plt.title('y = sin(x) Graph')"
   ]
  },
  {
   "cell_type": "markdown",
   "metadata": {},
   "source": [
    "We can save the plot by using python functions, or just right click and copy or saveas..."
   ]
  },
  {
   "cell_type": "code",
   "execution_count": 33,
   "metadata": {},
   "outputs": [
    {
     "data": {
      "text/plain": [
       "\u001b[1;31mSignature:\u001b[0m \u001b[0mplt\u001b[0m\u001b[1;33m.\u001b[0m\u001b[0msavefig\u001b[0m\u001b[1;33m(\u001b[0m\u001b[1;33m*\u001b[0m\u001b[0margs\u001b[0m\u001b[1;33m,\u001b[0m \u001b[1;33m**\u001b[0m\u001b[0mkwargs\u001b[0m\u001b[1;33m)\u001b[0m\u001b[1;33m\u001b[0m\u001b[1;33m\u001b[0m\u001b[0m\n",
       "\u001b[1;31mDocstring:\u001b[0m\n",
       "Save the current figure.\n",
       "\n",
       "Call signature::\n",
       "\n",
       "  savefig(fname, dpi=None, facecolor='w', edgecolor='w',\n",
       "          orientation='portrait', papertype=None, format=None,\n",
       "          transparent=False, bbox_inches=None, pad_inches=0.1,\n",
       "          frameon=None, metadata=None)\n",
       "\n",
       "The output formats available depend on the backend being used.\n",
       "\n",
       "Parameters\n",
       "----------\n",
       "fname : str or PathLike or file-like object\n",
       "    A path, or a Python file-like object, or\n",
       "    possibly some backend-dependent object such as\n",
       "    `matplotlib.backends.backend_pdf.PdfPages`.\n",
       "\n",
       "    If *format* is not set, then the output format is inferred from\n",
       "    the extension of *fname*, if any, and from :rc:`savefig.format`\n",
       "    otherwise.  If *format* is set, it determines the output format.\n",
       "\n",
       "    Hence, if *fname* is not a path or has no extension, remember to\n",
       "    specify *format* to ensure that the correct backend is used.\n",
       "\n",
       "Other Parameters\n",
       "----------------\n",
       "dpi : [ *None* | scalar > 0 | 'figure' ]\n",
       "    The resolution in dots per inch.  If *None*, defaults to\n",
       "    :rc:`savefig.dpi`.  If 'figure', uses the figure's dpi value.\n",
       "\n",
       "quality : [ *None* | 1 <= scalar <= 100 ]\n",
       "    The image quality, on a scale from 1 (worst) to 95 (best).\n",
       "    Applicable only if *format* is jpg or jpeg, ignored otherwise.\n",
       "    If *None*, defaults to :rc:`savefig.jpeg_quality`.\n",
       "    Values above 95 should be avoided; 100 completely disables the\n",
       "    JPEG quantization stage.\n",
       "\n",
       "optimize : bool\n",
       "    If *True*, indicates that the JPEG encoder should make an extra\n",
       "    pass over the image in order to select optimal encoder settings.\n",
       "    Applicable only if *format* is jpg or jpeg, ignored otherwise.\n",
       "    Is *False* by default.\n",
       "\n",
       "progressive : bool\n",
       "    If *True*, indicates that this image should be stored as a\n",
       "    progressive JPEG file. Applicable only if *format* is jpg or\n",
       "    jpeg, ignored otherwise. Is *False* by default.\n",
       "\n",
       "facecolor : color or None, optional\n",
       "    The facecolor of the figure; if *None*, defaults to\n",
       "    :rc:`savefig.facecolor`.\n",
       "\n",
       "edgecolor : color or None, optional\n",
       "    The edgecolor of the figure; if *None*, defaults to\n",
       "    :rc:`savefig.edgecolor`\n",
       "\n",
       "orientation : {'landscape', 'portrait'}\n",
       "    Currently only supported by the postscript backend.\n",
       "\n",
       "papertype : str\n",
       "    One of 'letter', 'legal', 'executive', 'ledger', 'a0' through\n",
       "    'a10', 'b0' through 'b10'. Only supported for postscript\n",
       "    output.\n",
       "\n",
       "format : str\n",
       "    The file format, e.g. 'png', 'pdf', 'svg', ... The behavior when\n",
       "    this is unset is documented under *fname*.\n",
       "\n",
       "transparent : bool\n",
       "    If *True*, the axes patches will all be transparent; the\n",
       "    figure patch will also be transparent unless facecolor\n",
       "    and/or edgecolor are specified via kwargs.\n",
       "    This is useful, for example, for displaying\n",
       "    a plot on top of a colored background on a web page.  The\n",
       "    transparency of these patches will be restored to their\n",
       "    original values upon exit of this function.\n",
       "\n",
       "bbox_inches : str or `~matplotlib.transforms.Bbox`, optional\n",
       "    Bbox in inches. Only the given portion of the figure is\n",
       "    saved. If 'tight', try to figure out the tight bbox of\n",
       "    the figure. If None, use savefig.bbox\n",
       "\n",
       "pad_inches : scalar, optional\n",
       "    Amount of padding around the figure when bbox_inches is\n",
       "    'tight'. If None, use savefig.pad_inches\n",
       "\n",
       "bbox_extra_artists : list of `~matplotlib.artist.Artist`, optional\n",
       "    A list of extra artists that will be considered when the\n",
       "    tight bbox is calculated.\n",
       "\n",
       "metadata : dict, optional\n",
       "    Key/value pairs to store in the image metadata. The supported keys\n",
       "    and defaults depend on the image format and backend:\n",
       "\n",
       "    - 'png' with Agg backend: See the parameter ``metadata`` of\n",
       "      `~.FigureCanvasAgg.print_png`.\n",
       "    - 'pdf' with pdf backend: See the parameter ``metadata`` of\n",
       "      `~.backend_pdf.PdfPages`.\n",
       "    - 'eps' and 'ps' with PS backend: Only 'Creator' is supported.\n",
       "\n",
       "pil_kwargs : dict, optional\n",
       "    Additional keyword arguments that are passed to `PIL.Image.save`\n",
       "    when saving the figure.  Only applicable for formats that are saved\n",
       "    using Pillow, i.e. JPEG, TIFF, and (if the keyword is set to a\n",
       "    non-None value) PNG.\n",
       "\u001b[1;31mFile:\u001b[0m      c:\\users\\kara\\anaconda3\\lib\\site-packages\\matplotlib\\pyplot.py\n",
       "\u001b[1;31mType:\u001b[0m      function\n"
      ]
     },
     "metadata": {},
     "output_type": "display_data"
    }
   ],
   "source": [
    "plt.savefig?\n",
    "#Can save with function or right click and save as."
   ]
  },
  {
   "cell_type": "code",
   "execution_count": 34,
   "metadata": {},
   "outputs": [
    {
     "data": {
      "image/png": "[encoded data removed]",
      "text/plain": [
       "<Figure size 432x288 with 1 Axes>"
      ]
     },
     "metadata": {
      "needs_background": "light"
     },
     "output_type": "display_data"
    }
   ],
   "source": [
    "# add some labels and a title in\n",
    "\n",
    "plt.plot(x_2, np.sin(x_2))\n",
    "plt.xlabel('x')\n",
    "plt.ylabel('y')\n",
    "plt.title('y = sin(x)')\n",
    "\n",
    "plt.savefig('sin.png')\n",
    "plt.savefig('sin_HR.png', dpi = 900) # higher resolution, dpi = \"dots per square inch\""
   ]
  },
  {
   "cell_type": "code",
   "execution_count": null,
   "metadata": {},
   "outputs": [],
   "source": []
  },
  {
   "cell_type": "markdown",
   "metadata": {},
   "source": [
    "# Lab 3.1"
   ]
  },
  {
   "cell_type": "markdown",
   "metadata": {},
   "source": [
    "**E.1** Complete Complete Ch 4 of Introduction to Python in datacamp: Numpy"
   ]
  },
  {
   "cell_type": "markdown",
   "metadata": {},
   "source": [
    "**E.2** What are the differences between lists and arrays? Demonstrate."
   ]
  },
  {
   "cell_type": "code",
   "execution_count": 35,
   "metadata": {},
   "outputs": [],
   "source": [
    "#Lists can have different types (string, float, etc) whereas arrays must be of the same type or they will just become strings.\n",
    "#Arrays can handle math somewhat easier, such as multiplying and adding elements, and doing basic statistics.\n",
    "#To use arrays, the numpy package must be imported but lists do not need any additional packages."
   ]
  },
  {
   "cell_type": "markdown",
   "metadata": {},
   "source": [
    "**E.3** Using the numpy function arange, make an array of even intergers that goes from 0 to 20, and includes 20."
   ]
  },
  {
   "cell_type": "code",
   "execution_count": 50,
   "metadata": {},
   "outputs": [
    {
     "data": {
      "text/plain": [
       "array([ 0,  2,  4,  6,  8, 10, 12, 14, 16, 18, 20])"
      ]
     },
     "execution_count": 50,
     "metadata": {},
     "output_type": "execute_result"
    }
   ],
   "source": [
    "#making an array of even integers 0-20\n",
    "array = np.arange(0, 22, 2)\n",
    "array"
   ]
  },
  {
   "cell_type": "markdown",
   "metadata": {},
   "source": [
    "**E.4** Using the above and logical (boolean) indexing, make an array that has even integers from 10 to 20, including 10 and 20."
   ]
  },
  {
   "cell_type": "code",
   "execution_count": 51,
   "metadata": {},
   "outputs": [
    {
     "data": {
      "text/plain": [
       "array([False, False, False, False, False,  True,  True,  True,  True,\n",
       "        True,  True])"
      ]
     },
     "execution_count": 51,
     "metadata": {},
     "output_type": "execute_result"
    }
   ],
   "source": [
    "#selecting 10 and above\n",
    "array >= 10"
   ]
  },
  {
   "cell_type": "code",
   "execution_count": 52,
   "metadata": {},
   "outputs": [
    {
     "data": {
      "text/plain": [
       "array([10, 12, 14, 16, 18, 20])"
      ]
     },
     "execution_count": 52,
     "metadata": {},
     "output_type": "execute_result"
    }
   ],
   "source": [
    "#printing it out.\n",
    "array[array >= 10]"
   ]
  },
  {
   "cell_type": "code",
   "execution_count": 53,
   "metadata": {},
   "outputs": [
    {
     "data": {
      "text/plain": [
       "array([ 0,  2,  4,  6,  8, 10])"
      ]
     },
     "execution_count": 53,
     "metadata": {},
     "output_type": "execute_result"
    }
   ],
   "source": [
    "# to print out a new array 12 and less\n",
    "array[array < 12]"
   ]
  },
  {
   "cell_type": "markdown",
   "metadata": {},
   "source": [
    "**E.5** What is the shape of the array you just created?"
   ]
  },
  {
   "cell_type": "code",
   "execution_count": 38,
   "metadata": {},
   "outputs": [
    {
     "data": {
      "text/plain": [
       "(6,)"
      ]
     },
     "execution_count": 38,
     "metadata": {},
     "output_type": "execute_result"
    }
   ],
   "source": [
    "range1.shape"
   ]
  },
  {
   "cell_type": "markdown",
   "metadata": {},
   "source": [
    "**E.6** Plot the function $y=(x+4)(x-3)(x+1)^2$ over the interval [-5, 5]. Make sure you include the endpoints of this interval and use enough points so that your plot looks smooth. Label your axes and add a title that includes the function you just plotted. Save this plot to both a .png and .pdf file using python commands, and copy and paste the plot directly from this notebook into a word document. "
   ]
  },
  {
   "cell_type": "code",
   "execution_count": 73,
   "metadata": {},
   "outputs": [],
   "source": [
    "start = -5\n",
    "stop = 5\n",
    "step = 0.2"
   ]
  },
  {
   "cell_type": "code",
   "execution_count": 63,
   "metadata": {},
   "outputs": [
    {
     "data": {
      "image/png": "[encoded data removed]",
      "text/plain": [
       "<Figure size 432x288 with 1 Axes>"
      ]
     },
     "metadata": {
      "needs_background": "light"
     },
     "output_type": "display_data"
    }
   ],
   "source": [
    "y = (x+4)*(x-3)*((x+1)**2)\n",
    "x = np.arange(start, stop+step, step)\n",
    "\n",
    "plt.plot(x,y)\n",
    "plt.ylabel('Y Axis')\n",
    "plt.xlabel('X Axis')\n",
    "plt.title('Plotting Example')\n",
    "plt.savefig('graph.png')\n",
    "plt.savefig('graph.pdf')"
   ]
  },
  {
   "cell_type": "markdown",
   "metadata": {},
   "source": [
    "**E.7** Find the approximate minimum value of the function in **E.6**. How does your definition of the x-value basis array affect this minimum? Demonstrate."
   ]
  },
  {
   "cell_type": "code",
   "execution_count": 66,
   "metadata": {},
   "outputs": [
    {
     "data": {
      "text/plain": [
       "-54.566400000000016"
      ]
     },
     "execution_count": 66,
     "metadata": {},
     "output_type": "execute_result"
    }
   ],
   "source": [
    "np.min(y)"
   ]
  },
  {
   "cell_type": "code",
   "execution_count": 71,
   "metadata": {},
   "outputs": [],
   "source": [
    "x = np.arange(-10, 10+.01, .01)"
   ]
  },
  {
   "cell_type": "code",
   "execution_count": 72,
   "metadata": {},
   "outputs": [
    {
     "data": {
      "text/plain": [
       "-54.56639999999988"
      ]
     },
     "execution_count": 72,
     "metadata": {},
     "output_type": "execute_result"
    }
   ],
   "source": [
    "np.min(y)"
   ]
  },
  {
   "cell_type": "code",
   "execution_count": null,
   "metadata": {},
   "outputs": [],
   "source": [
    "#The minimum value stays the same because the minimum within these ranges were the same.\n",
    "#If I had chosen -4 to -2 there would have been a different answer since the point near 2 on the x axis which corresponds to the minimum y values would have been excluded.\n",
    "#Smaller step makes the minimm more accurate!"
   ]
  },
  {
   "cell_type": "markdown",
   "metadata": {},
   "source": [
    "**E.8** Using logical (boolean) indexing, plot the function again but only the negative values."
   ]
  },
  {
   "cell_type": "code",
   "execution_count": 79,
   "metadata": {},
   "outputs": [
    {
     "data": {
      "text/plain": [
       "Text(0.5, 1.0, 'Plotting Example')"
      ]
     },
     "execution_count": 79,
     "metadata": {},
     "output_type": "execute_result"
    },
    {
     "data": {
      "image/png": "[encoded data removed]",
      "text/plain": [
       "<Figure size 432x288 with 1 Axes>"
      ]
     },
     "metadata": {
      "needs_background": "light"
     },
     "output_type": "display_data"
    }
   ],
   "source": [
    "start = -5\n",
    "stop = 5\n",
    "step = 0.01\n",
    "\n",
    "x = np.arange(start, stop+step, step) \n",
    "#define x basis array\n",
    "\n",
    "y = (x+4)*(x-3)*((x+1)**2)\n",
    "#define y based on y. it's sequential\n",
    "\n",
    "plt.plot(x[y<=0],y[y<=0])\n",
    "plt.ylabel('Y Axis')\n",
    "plt.xlabel('X Axis')\n",
    "plt.title('Plotting Example')"
   ]
  },
  {
   "cell_type": "markdown",
   "metadata": {},
   "source": [
    "**E.9** Given the numpy array below, find two ways to add 10 to the first column and 20 to the second column. Hint: you can do this in one line."
   ]
  },
  {
   "cell_type": "code",
   "execution_count": 83,
   "metadata": {},
   "outputs": [],
   "source": [
    "#method 1, by adding to arrays\n",
    "np_mat = np.array([[1, 2],\n",
    "                   [3, 4],\n",
    "                   [5, 6]])"
   ]
  },
  {
   "cell_type": "code",
   "execution_count": 98,
   "metadata": {},
   "outputs": [],
   "source": [
    "np_mat2 = np.array([10,20])"
   ]
  },
  {
   "cell_type": "code",
   "execution_count": 107,
   "metadata": {},
   "outputs": [],
   "source": [
    "np_mat3 = np_mat, np_mat2"
   ]
  },
  {
   "cell_type": "code",
   "execution_count": 121,
   "metadata": {},
   "outputs": [],
   "source": [
    "#method 2, using insert function\n",
    "np_mat4 = np.insert(np_mat, 3, [10,20], axis=0)"
   ]
  },
  {
   "cell_type": "code",
   "execution_count": 122,
   "metadata": {},
   "outputs": [
    {
     "data": {
      "text/plain": [
       "array([[ 1,  2],\n",
       "       [ 3,  4],\n",
       "       [ 5,  6],\n",
       "       [10, 20]])"
      ]
     },
     "execution_count": 122,
     "metadata": {},
     "output_type": "execute_result"
    }
   ],
   "source": [
    "np_mat4"
   ]
  },
  {
   "cell_type": "markdown",
   "metadata": {},
   "source": [
    "**E.10** Add 10 to the second row of the above array"
   ]
  },
  {
   "cell_type": "code",
   "execution_count": 155,
   "metadata": {},
   "outputs": [],
   "source": [
    "np_mat5 = np.insert(np_mat, (2), 10, axis=0)"
   ]
  },
  {
   "cell_type": "code",
   "execution_count": 156,
   "metadata": {},
   "outputs": [
    {
     "data": {
      "text/plain": [
       "array([[ 1,  2],\n",
       "       [ 3,  4],\n",
       "       [10, 10],\n",
       "       [ 5,  6]])"
      ]
     },
     "execution_count": 156,
     "metadata": {},
     "output_type": "execute_result"
    }
   ],
   "source": [
    "np_mat5"
   ]
  },
  {
   "cell_type": "markdown",
   "metadata": {},
   "source": [
    "**E.11** Define an array that has eight columns and ten rows and is full of ones"
   ]
  },
  {
   "cell_type": "code",
   "execution_count": 227,
   "metadata": {},
   "outputs": [],
   "source": [
    "Array1 = numpy.array([[1, 1, 1, 1, 1, 1, 1, 1],\n",
    "                      [1, 1, 1, 1, 1, 1, 1, 1],\n",
    "                      [1, 1, 1, 1, 1, 1, 1, 1],\n",
    "                      [1, 1, 1, 1, 1, 1, 1, 1],\n",
    "                      [1, 1, 1, 1, 1, 1, 1, 1],\n",
    "                      [1, 1, 1, 1, 1, 1, 1, 1],\n",
    "                      [1, 1, 1, 1, 1, 1, 1, 1],\n",
    "                      [1, 1, 1, 1, 1, 1, 1, 1]])"
   ]
  },
  {
   "cell_type": "markdown",
   "metadata": {},
   "source": [
    "**E.12** Turn all of the ones in the interior of your array to fives, that is everything but the first and last rows and first and last columns."
   ]
  },
  {
   "cell_type": "code",
   "execution_count": 228,
   "metadata": {},
   "outputs": [],
   "source": [
    "Array1[:,1:7] = 5"
   ]
  },
  {
   "cell_type": "code",
   "execution_count": 229,
   "metadata": {},
   "outputs": [
    {
     "data": {
      "text/plain": [
       "array([[1, 5, 5, 5, 5, 5, 5, 1],\n",
       "       [1, 5, 5, 5, 5, 5, 5, 1],\n",
       "       [1, 5, 5, 5, 5, 5, 5, 1],\n",
       "       [1, 5, 5, 5, 5, 5, 5, 1],\n",
       "       [1, 5, 5, 5, 5, 5, 5, 1],\n",
       "       [1, 5, 5, 5, 5, 5, 5, 1],\n",
       "       [1, 5, 5, 5, 5, 5, 5, 1],\n",
       "       [1, 5, 5, 5, 5, 5, 5, 1]])"
      ]
     },
     "execution_count": 229,
     "metadata": {},
     "output_type": "execute_result"
    }
   ],
   "source": [
    "Array1"
   ]
  },
  {
   "cell_type": "markdown",
   "metadata": {},
   "source": [
    "**E.13** Using logical indexing, turn all of the fives to eights"
   ]
  },
  {
   "cell_type": "code",
   "execution_count": 232,
   "metadata": {},
   "outputs": [],
   "source": [
    "Array1[Array1 > 3] = 8"
   ]
  },
  {
   "cell_type": "code",
   "execution_count": 258,
   "metadata": {},
   "outputs": [
    {
     "data": {
      "text/plain": [
       "array([[1, 8, 8, 8, 8, 8, 8, 1],\n",
       "       [1, 8, 8, 8, 8, 8, 8, 1],\n",
       "       [1, 8, 8, 8, 8, 8, 8, 1],\n",
       "       [1, 8, 8, 8, 8, 8, 8, 1],\n",
       "       [1, 8, 8, 8, 8, 8, 8, 1],\n",
       "       [1, 8, 8, 8, 8, 8, 8, 1],\n",
       "       [1, 8, 8, 8, 8, 8, 8, 1],\n",
       "       [1, 8, 8, 8, 8, 8, 8, 1]])"
      ]
     },
     "execution_count": 258,
     "metadata": {},
     "output_type": "execute_result"
    }
   ],
   "source": [
    "Array1"
   ]
  },
  {
   "cell_type": "markdown",
   "metadata": {},
   "source": [
    "**E.14** Plot the resulting 2D array and add a colorbar (google it!)."
   ]
  },
  {
   "cell_type": "code",
   "execution_count": 264,
   "metadata": {},
   "outputs": [
    {
     "ename": "NameError",
     "evalue": "name 'figure' is not defined",
     "output_type": "error",
     "traceback": [
      "\u001b[1;31m---------------------------------------------------------------------------\u001b[0m",
      "\u001b[1;31mNameError\u001b[0m                                 Traceback (most recent call last)",
      "\u001b[1;32m<ipython-input-264-a149117b610a>\u001b[0m in \u001b[0;36m<module>\u001b[1;34m\u001b[0m\n\u001b[1;32m----> 1\u001b[1;33m \u001b[0mfct\u001b[0m\u001b[1;33m(\u001b[0m\u001b[1;33m)\u001b[0m\u001b[1;33m\u001b[0m\u001b[1;33m\u001b[0m\u001b[0m\n\u001b[0m\u001b[0;32m      2\u001b[0m \u001b[0max\u001b[0m\u001b[1;33m=\u001b[0m\u001b[0mplt\u001b[0m\u001b[1;33m.\u001b[0m\u001b[0mArray1\u001b[0m\u001b[1;33m(\u001b[0m\u001b[1;33m)\u001b[0m \u001b[1;31m#get the current axes\u001b[0m\u001b[1;33m\u001b[0m\u001b[1;33m\u001b[0m\u001b[0m\n\u001b[0;32m      3\u001b[0m \u001b[0mPCM\u001b[0m\u001b[1;33m=\u001b[0m\u001b[0max\u001b[0m\u001b[1;33m.\u001b[0m\u001b[0mArray1\u001b[0m\u001b[1;33m(\u001b[0m\u001b[1;33m)\u001b[0m\u001b[1;33m[\u001b[0m\u001b[1;36m2\u001b[0m\u001b[1;33m]\u001b[0m \u001b[1;31m#get the mappable, the 1st and the 2nd are the x and y axes\u001b[0m\u001b[1;33m\u001b[0m\u001b[1;33m\u001b[0m\u001b[0m\n\u001b[0;32m      4\u001b[0m \u001b[0mplt\u001b[0m\u001b[1;33m.\u001b[0m\u001b[0mcolorbar\u001b[0m\u001b[1;33m(\u001b[0m\u001b[0mPCM\u001b[0m\u001b[1;33m,\u001b[0m \u001b[0max\u001b[0m\u001b[1;33m=\u001b[0m\u001b[0max\u001b[0m\u001b[1;33m)\u001b[0m\u001b[1;33m\u001b[0m\u001b[1;33m\u001b[0m\u001b[0m\n\u001b[0;32m      5\u001b[0m \u001b[1;33m\u001b[0m\u001b[0m\n",
      "\u001b[1;32m<ipython-input-262-ee29b6819121>\u001b[0m in \u001b[0;36mfct\u001b[1;34m()\u001b[0m\n\u001b[0;32m      1\u001b[0m \u001b[1;32mdef\u001b[0m \u001b[0mfct\u001b[0m\u001b[1;33m(\u001b[0m\u001b[1;33m)\u001b[0m\u001b[1;33m:\u001b[0m\u001b[1;33m\u001b[0m\u001b[1;33m\u001b[0m\u001b[0m\n\u001b[1;32m----> 2\u001b[1;33m     \u001b[0mf\u001b[0m\u001b[1;33m=\u001b[0m\u001b[0mfigure\u001b[0m\u001b[1;33m(\u001b[0m\u001b[1;33m)\u001b[0m\u001b[1;33m\u001b[0m\u001b[1;33m\u001b[0m\u001b[0m\n\u001b[0m\u001b[0;32m      3\u001b[0m     \u001b[0mx\u001b[0m\u001b[1;33m,\u001b[0m\u001b[0my\u001b[0m\u001b[1;33m=\u001b[0m\u001b[0mmgrid\u001b[0m\u001b[1;33m[\u001b[0m\u001b[1;36m0\u001b[0m\u001b[1;33m:\u001b[0m\u001b[1;36m5\u001b[0m\u001b[1;33m,\u001b[0m\u001b[1;36m0\u001b[0m\u001b[1;33m:\u001b[0m\u001b[1;36m5\u001b[0m\u001b[1;33m]\u001b[0m\u001b[1;33m\u001b[0m\u001b[1;33m\u001b[0m\u001b[0m\n\u001b[0;32m      4\u001b[0m     \u001b[0mz\u001b[0m\u001b[1;33m=\u001b[0m\u001b[0msin\u001b[0m\u001b[1;33m(\u001b[0m\u001b[0mx\u001b[0m\u001b[1;33m**\u001b[0m\u001b[1;36m2\u001b[0m\u001b[1;33m+\u001b[0m\u001b[0my\u001b[0m\u001b[1;33m**\u001b[0m\u001b[1;36m2\u001b[0m\u001b[1;33m)\u001b[0m\u001b[1;33m\u001b[0m\u001b[1;33m\u001b[0m\u001b[0m\n\u001b[0;32m      5\u001b[0m     \u001b[0mpcolormesh\u001b[0m\u001b[1;33m(\u001b[0m\u001b[0mx\u001b[0m\u001b[1;33m,\u001b[0m\u001b[0my\u001b[0m\u001b[1;33m,\u001b[0m\u001b[0mz\u001b[0m\u001b[1;33m)\u001b[0m\u001b[1;33m\u001b[0m\u001b[1;33m\u001b[0m\u001b[0m\n",
      "\u001b[1;31mNameError\u001b[0m: name 'figure' is not defined"
     ]
    }
   ],
   "source": [
    "#I have probably spent honestly an hour or more on google, the matplotlib website, etc., and tried a dozen different ways - I cannot get this colorbar to work.\n",
    "\n",
    "plt.plot(Array1)\n",
    "plt.colorbar()\n",
    "plt.show()"
   ]
  },
  {
   "cell_type": "code",
   "execution_count": 240,
   "metadata": {},
   "outputs": [
    {
     "data": {
      "text/plain": [
       "\u001b[1;31mSignature:\u001b[0m \u001b[0mplt\u001b[0m\u001b[1;33m.\u001b[0m\u001b[0mcolorbar\u001b[0m\u001b[1;33m(\u001b[0m\u001b[0mmappable\u001b[0m\u001b[1;33m=\u001b[0m\u001b[1;32mNone\u001b[0m\u001b[1;33m,\u001b[0m \u001b[0mcax\u001b[0m\u001b[1;33m=\u001b[0m\u001b[1;32mNone\u001b[0m\u001b[1;33m,\u001b[0m \u001b[0max\u001b[0m\u001b[1;33m=\u001b[0m\u001b[1;32mNone\u001b[0m\u001b[1;33m,\u001b[0m \u001b[1;33m**\u001b[0m\u001b[0mkw\u001b[0m\u001b[1;33m)\u001b[0m\u001b[1;33m\u001b[0m\u001b[1;33m\u001b[0m\u001b[0m\n",
       "\u001b[1;31mDocstring:\u001b[0m\n",
       "Add a colorbar to a plot.\n",
       "\n",
       "Function signatures for the :mod:`~matplotlib.pyplot` interface; all\n",
       "but the first are also method signatures for the\n",
       ":meth:`~matplotlib.figure.Figure.colorbar` method::\n",
       "\n",
       "  colorbar(**kwargs)\n",
       "  colorbar(mappable, **kwargs)\n",
       "  colorbar(mappable, cax=cax, **kwargs)\n",
       "  colorbar(mappable, ax=ax, **kwargs)\n",
       "\n",
       "Parameters\n",
       "----------\n",
       "mappable\n",
       "    The `matplotlib.cm.ScalarMappable` (i.e., `~matplotlib.image.Image`,\n",
       "    `~matplotlib.contour.ContourSet`, etc.) described by this colorbar.\n",
       "    This argument is mandatory for the `.Figure.colorbar` method but optional\n",
       "    for the `.pyplot.colorbar` function, which sets the default to the current\n",
       "    image.\n",
       "\n",
       "    Note that one can create a `ScalarMappable` \"on-the-fly\" to generate\n",
       "    colorbars not attached to a previously drawn artist, e.g. ::\n",
       "\n",
       "        fig.colorbar(cm.ScalarMappable(norm=norm, cmap=cmap), ax=ax)\n",
       "\n",
       "cax : :class:`~matplotlib.axes.Axes` object, optional\n",
       "    Axes into which the colorbar will be drawn.\n",
       "\n",
       "ax : :class:`~matplotlib.axes.Axes`, list of Axes, optional\n",
       "    Parent axes from which space for a new colorbar axes will be stolen.\n",
       "    If a list of axes is given they will all be resized to make room for the\n",
       "    colorbar axes.\n",
       "\n",
       "use_gridspec : bool, optional\n",
       "    If *cax* is ``None``, a new *cax* is created as an instance of Axes.  If\n",
       "    *ax* is an instance of Subplot and *use_gridspec* is ``True``, *cax* is\n",
       "    created as an instance of Subplot using the :mod:`~.gridspec` module.\n",
       "\n",
       "Returns\n",
       "-------\n",
       "colorbar : `~matplotlib.colorbar.Colorbar`\n",
       "    See also its base class, `~matplotlib.colorbar.ColorbarBase`.\n",
       "\n",
       "Notes\n",
       "-----\n",
       "Additional keyword arguments are of two kinds:\n",
       "\n",
       "  axes properties:\n",
       "\n",
       "\n",
       "    ============= ====================================================\n",
       "    Property      Description\n",
       "    ============= ====================================================\n",
       "    *orientation* vertical or horizontal\n",
       "    *fraction*    0.15; fraction of original axes to use for colorbar\n",
       "    *pad*         0.05 if vertical, 0.15 if horizontal; fraction\n",
       "                  of original axes between colorbar and new image axes\n",
       "    *shrink*      1.0; fraction by which to multiply the size of the colorbar\n",
       "    *aspect*      20; ratio of long to short dimensions\n",
       "    *anchor*      (0.0, 0.5) if vertical; (0.5, 1.0) if horizontal;\n",
       "                  the anchor point of the colorbar axes\n",
       "    *panchor*     (1.0, 0.5) if vertical; (0.5, 0.0) if horizontal;\n",
       "                  the anchor point of the colorbar parent axes. If\n",
       "                  False, the parent axes' anchor will be unchanged\n",
       "    ============= ====================================================\n",
       "\n",
       "\n",
       "  colorbar properties:\n",
       "\n",
       "\n",
       "    ============  ====================================================\n",
       "    Property      Description\n",
       "    ============  ====================================================\n",
       "    *extend*      {'neither', 'both', 'min', 'max'}\n",
       "                  If not 'neither', make pointed end(s) for out-of-\n",
       "                  range values.  These are set for a given colormap\n",
       "                  using the colormap set_under and set_over methods.\n",
       "    *extendfrac*  {*None*, 'auto', length, lengths}\n",
       "                  If set to *None*, both the minimum and maximum\n",
       "                  triangular colorbar extensions with have a length of\n",
       "                  5% of the interior colorbar length (this is the\n",
       "                  default setting). If set to 'auto', makes the\n",
       "                  triangular colorbar extensions the same lengths as\n",
       "                  the interior boxes (when *spacing* is set to\n",
       "                  'uniform') or the same lengths as the respective\n",
       "                  adjacent interior boxes (when *spacing* is set to\n",
       "                  'proportional'). If a scalar, indicates the length\n",
       "                  of both the minimum and maximum triangular colorbar\n",
       "                  extensions as a fraction of the interior colorbar\n",
       "                  length. A two-element sequence of fractions may also\n",
       "                  be given, indicating the lengths of the minimum and\n",
       "                  maximum colorbar extensions respectively as a\n",
       "                  fraction of the interior colorbar length.\n",
       "    *extendrect*  bool\n",
       "                  If *False* the minimum and maximum colorbar extensions\n",
       "                  will be triangular (the default). If *True* the\n",
       "                  extensions will be rectangular.\n",
       "    *spacing*     {'uniform', 'proportional'}\n",
       "                  Uniform spacing gives each discrete color the same\n",
       "                  space; proportional makes the space proportional to\n",
       "                  the data interval.\n",
       "    *ticks*       *None* or list of ticks or Locator\n",
       "                  If None, ticks are determined automatically from the\n",
       "                  input.\n",
       "    *format*      None or str or Formatter\n",
       "                  If None, the\n",
       "                  :class:`~matplotlib.ticker.ScalarFormatter` is used.\n",
       "                  If a format string is given, e.g., '%.3f', that is\n",
       "                  used. An alternative\n",
       "                  :class:`~matplotlib.ticker.Formatter` object may be\n",
       "                  given instead.\n",
       "    *drawedges*   bool\n",
       "                  Whether to draw lines at color boundaries.\n",
       "    *label*       str\n",
       "                  The label on the colorbar's long axis.\n",
       "    ============  ====================================================\n",
       "\n",
       "    The following will probably be useful only in the context of\n",
       "    indexed colors (that is, when the mappable has norm=NoNorm()),\n",
       "    or other unusual circumstances.\n",
       "\n",
       "    ============   ===================================================\n",
       "    Property       Description\n",
       "    ============   ===================================================\n",
       "    *boundaries*   None or a sequence\n",
       "    *values*       None or a sequence which must be of length 1 less\n",
       "                   than the sequence of *boundaries*. For each region\n",
       "                   delimited by adjacent entries in *boundaries*, the\n",
       "                   color mapped to the corresponding value in values\n",
       "                   will be used.\n",
       "    ============   ===================================================\n",
       "\n",
       "\n",
       "\n",
       "If *mappable* is a :class:`~matplotlib.contours.ContourSet`, its *extend*\n",
       "kwarg is included automatically.\n",
       "\n",
       "The *shrink* kwarg provides a simple way to scale the colorbar with respect\n",
       "to the axes. Note that if *cax* is specified, it determines the size of the\n",
       "colorbar and *shrink* and *aspect* kwargs are ignored.\n",
       "\n",
       "For more precise control, you can manually specify the positions of\n",
       "the axes objects in which the mappable and the colorbar are drawn.  In\n",
       "this case, do not use any of the axes properties kwargs.\n",
       "\n",
       "It is known that some vector graphics viewers (svg and pdf) renders white gaps\n",
       "between segments of the colorbar.  This is due to bugs in the viewers, not\n",
       "Matplotlib.  As a workaround, the colorbar can be rendered with overlapping\n",
       "segments::\n",
       "\n",
       "    cbar = colorbar()\n",
       "    cbar.solids.set_edgecolor(\"face\")\n",
       "    draw()\n",
       "\n",
       "However this has negative consequences in other circumstances, e.g. with\n",
       "semi-transparent images (alpha < 1) and colorbar extensions; therefore, this\n",
       "workaround is not used by default (see issue #1188).\n",
       "\u001b[1;31mFile:\u001b[0m      c:\\users\\kara\\anaconda3\\lib\\site-packages\\matplotlib\\pyplot.py\n",
       "\u001b[1;31mType:\u001b[0m      function\n"
      ]
     },
     "metadata": {},
     "output_type": "display_data"
    }
   ],
   "source": [
    "plt.colorbar?"
   ]
  },
  {
   "cell_type": "code",
   "execution_count": null,
   "metadata": {},
   "outputs": [],
   "source": []
  }
 ],
 "metadata": {
  "kernelspec": {
   "display_name": "Python 3",
   "language": "python",
   "name": "python3"
  },
  "language_info": {
   "codemirror_mode": {
    "name": "ipython",
    "version": 3
   },
   "file_extension": ".py",
   "mimetype": "text/x-python",
   "name": "python",
   "nbconvert_exporter": "python",
   "pygments_lexer": "ipython3",
   "version": "3.8.3"
  }
 },
 "nbformat": 4,
 "nbformat_minor": 4
}
