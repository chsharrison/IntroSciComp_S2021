{
 "cells": [
  {
   "cell_type": "markdown",
   "metadata": {},
   "source": [
    "Name: Kara Eckley"
   ]
  },
  {
   "cell_type": "markdown",
   "metadata": {},
   "source": [
    "Labpartner(s): Dwight Capus"
   ]
  },
  {
   "cell_type": "code",
   "execution_count": 1,
   "metadata": {},
   "outputs": [],
   "source": [
    "#import statements go here\n",
    "\n",
    "import numpy as np\n",
    "import matplotlib.pyplot as plt\n",
    "import pandas as pd"
   ]
  },
  {
   "cell_type": "code",
   "execution_count": null,
   "metadata": {},
   "outputs": [],
   "source": []
  },
  {
   "cell_type": "markdown",
   "metadata": {},
   "source": [
    "# Class 10.2"
   ]
  },
  {
   "cell_type": "markdown",
   "metadata": {},
   "source": [
    "# Warmups 10.2"
   ]
  },
  {
   "cell_type": "markdown",
   "metadata": {},
   "source": [
    "If you do not complete the warmup during the class period, complete for homework and review/expand for weekly practice. These are basic coding skills you need to be comfortable with. Work on the following for 25 min and then we will go over them together:"
   ]
  },
  {
   "cell_type": "markdown",
   "metadata": {},
   "source": [
    "**W.1** Write a function that returns a list of the first n powers of 2 (2^0, 2^1, 2^2, 2^3...2^n)."
   ]
  },
  {
   "cell_type": "code",
   "execution_count": 2,
   "metadata": {},
   "outputs": [],
   "source": [
    "def Powers(n):\n",
    "\n",
    "    new = 0\n",
    "    \n",
    "    mylist = []\n",
    "    \n",
    "    \n",
    "    while new <n:\n",
    "        \n",
    "        mylist.append(2**new)\n",
    "        \n",
    "        nex = new+1\n",
    "        \n",
    "        new=nex\n",
    "        \n",
    "    return mylist"
   ]
  },
  {
   "cell_type": "code",
   "execution_count": 3,
   "metadata": {},
   "outputs": [
    {
     "data": {
      "text/plain": [
       "[1, 2, 4, 8, 16]"
      ]
     },
     "execution_count": 3,
     "metadata": {},
     "output_type": "execute_result"
    }
   ],
   "source": [
    "Powers(5)"
   ]
  },
  {
   "cell_type": "code",
   "execution_count": 4,
   "metadata": {},
   "outputs": [
    {
     "data": {
      "text/plain": [
       "[1, 2, 4, 8, 16, 32, 64, 128, 256, 512]"
      ]
     },
     "execution_count": 4,
     "metadata": {},
     "output_type": "execute_result"
    }
   ],
   "source": [
    "Powers(10)"
   ]
  },
  {
   "cell_type": "markdown",
   "metadata": {},
   "source": [
    "**W.2** Using the function above, plot the first 100 powers of 2"
   ]
  },
  {
   "cell_type": "code",
   "execution_count": 5,
   "metadata": {},
   "outputs": [],
   "source": [
    "x = Powers(100)\n",
    "y = np.arange(1,101)"
   ]
  },
  {
   "cell_type": "code",
   "execution_count": 6,
   "metadata": {},
   "outputs": [
    {
     "data": {
      "text/plain": [
       "Text(0, 0.5, '$2^n$')"
      ]
     },
     "execution_count": 6,
     "metadata": {},
     "output_type": "execute_result"
    },
    {
     "data": {
      "image/png": "[encoded data removed]",
      "text/plain": [
       "<Figure size 432x288 with 1 Axes>"
      ]
     },
     "metadata": {
      "needs_background": "light"
     },
     "output_type": "display_data"
    }
   ],
   "source": [
    "plt.plot(Powers(100))\n",
    "plt.xlabel('n')\n",
    "plt.ylabel('$2^n$')"
   ]
  },
  {
   "cell_type": "markdown",
   "metadata": {},
   "source": [
    "# Lecture 10.1\n",
    "\n",
    "### Agenda:\n",
    "- Announcements\n",
    "- Correlation \n",
    "- Introduction to fittng models to data"
   ]
  },
  {
   "cell_type": "markdown",
   "metadata": {},
   "source": [
    "#### Announcements\n",
    "- Congratulations to everyone who got over 20,000 points on data camp! +5 tokens for all of you. For those of you catching up, let me know if you reach this. There will be pizza and other prizes for the top token folks.\n",
    "- August figured out the issue with making all the frames the same length in Davinci Resolve +2 tokens\n",
    "- Reports that the last few datacamp chapters were unclear. What are good strategies for dealing with this?\n"
   ]
  },
  {
   "cell_type": "markdown",
   "metadata": {},
   "source": [
    "### Correlation"
   ]
  },
  {
   "cell_type": "markdown",
   "metadata": {},
   "source": [
    "### A note of caution:\n",
    "\n",
    "\"Correlation does not imply causation\"\n",
    "\n",
    "Example:\n",
    "As ice cream sales increase, the rate of drowning deaths increases sharply.\n",
    "Therefore, ice cream consumption causes drowning.\n",
    "\n",
    "When we get data, we want to describe how variables relate to each other. The simplest question we can ask are two variables correlated, that is do they change togehter?\n",
    "\n",
    "The metric we use for correlation is the Pearson correlation coefficient, which is hard to grasp intuitively from looking at the equation (see https://en.wikipedia.org/wiki/Correlation_and_dependence). Basically, correlation is a measure of how linearly correlated two variables are, and has values between 1 and -1. If the two variables fall on a straight line and the both increase together, then the correlation is 1. If one increases while the other decreases, the correlation is -1. Correlations near zero mean the two variables are not correlated. \n",
    "\n",
    "Let's use some movie data to test if budgets and gross earnings are correlated. This is from the pandas tutorial here https://www.dataquest.io/blog/excel-and-pandas/ which uses and IMDB dataset. See also the lectures from this class in Fall 2019 "
   ]
  },
  {
   "cell_type": "markdown",
   "metadata": {},
   "source": [
    "You can download the data file on the above website."
   ]
  },
  {
   "cell_type": "code",
   "execution_count": 7,
   "metadata": {},
   "outputs": [],
   "source": [
    "file = \"movies.xls\"\n",
    "movies_sheet1 = pd.read_excel(file, sheet_name=0, index_col=0)\n",
    "movies_sheet2 = pd.read_excel(file, sheet_name=1, index_col=0)\n",
    "movies_sheet3 = pd.read_excel(file, sheet_name=2, index_col=0)\n",
    "movies = pd.concat([movies_sheet1, movies_sheet2, movies_sheet3])"
   ]
  },
  {
   "cell_type": "code",
   "execution_count": 8,
   "metadata": {},
   "outputs": [
    {
     "data": {
      "text/html": [
       "<div>\n",
       "<style scoped>\n",
       "    .dataframe tbody tr th:only-of-type {\n",
       "        vertical-align: middle;\n",
       "    }\n",
       "\n",
       "    .dataframe tbody tr th {\n",
       "        vertical-align: top;\n",
       "    }\n",
       "\n",
       "    .dataframe thead th {\n",
       "        text-align: right;\n",
       "    }\n",
       "</style>\n",
       "<table border=\"1\" class=\"dataframe\">\n",
       "  <thead>\n",
       "    <tr style=\"text-align: right;\">\n",
       "      <th></th>\n",
       "      <th>Year</th>\n",
       "      <th>Genres</th>\n",
       "      <th>Language</th>\n",
       "      <th>Country</th>\n",
       "      <th>Content Rating</th>\n",
       "      <th>Duration</th>\n",
       "      <th>Aspect Ratio</th>\n",
       "      <th>Budget</th>\n",
       "      <th>Gross Earnings</th>\n",
       "      <th>Director</th>\n",
       "      <th>...</th>\n",
       "      <th>Facebook Likes - Actor 1</th>\n",
       "      <th>Facebook Likes - Actor 2</th>\n",
       "      <th>Facebook Likes - Actor 3</th>\n",
       "      <th>Facebook Likes - cast Total</th>\n",
       "      <th>Facebook likes - Movie</th>\n",
       "      <th>Facenumber in posters</th>\n",
       "      <th>User Votes</th>\n",
       "      <th>Reviews by Users</th>\n",
       "      <th>Reviews by Crtiics</th>\n",
       "      <th>IMDB Score</th>\n",
       "    </tr>\n",
       "    <tr>\n",
       "      <th>Title</th>\n",
       "      <th></th>\n",
       "      <th></th>\n",
       "      <th></th>\n",
       "      <th></th>\n",
       "      <th></th>\n",
       "      <th></th>\n",
       "      <th></th>\n",
       "      <th></th>\n",
       "      <th></th>\n",
       "      <th></th>\n",
       "      <th></th>\n",
       "      <th></th>\n",
       "      <th></th>\n",
       "      <th></th>\n",
       "      <th></th>\n",
       "      <th></th>\n",
       "      <th></th>\n",
       "      <th></th>\n",
       "      <th></th>\n",
       "      <th></th>\n",
       "      <th></th>\n",
       "    </tr>\n",
       "  </thead>\n",
       "  <tbody>\n",
       "    <tr>\n",
       "      <th>Intolerance: Love's Struggle Throughout the Ages</th>\n",
       "      <td>1916.0</td>\n",
       "      <td>Drama|History|War</td>\n",
       "      <td>NaN</td>\n",
       "      <td>USA</td>\n",
       "      <td>Not Rated</td>\n",
       "      <td>123.0</td>\n",
       "      <td>1.33</td>\n",
       "      <td>385907.0</td>\n",
       "      <td>NaN</td>\n",
       "      <td>D.W. Griffith</td>\n",
       "      <td>...</td>\n",
       "      <td>436.0</td>\n",
       "      <td>22.0</td>\n",
       "      <td>9.0</td>\n",
       "      <td>481</td>\n",
       "      <td>691</td>\n",
       "      <td>1.0</td>\n",
       "      <td>10718</td>\n",
       "      <td>88.0</td>\n",
       "      <td>69.0</td>\n",
       "      <td>8.0</td>\n",
       "    </tr>\n",
       "    <tr>\n",
       "      <th>Over the Hill to the Poorhouse</th>\n",
       "      <td>1920.0</td>\n",
       "      <td>Crime|Drama</td>\n",
       "      <td>NaN</td>\n",
       "      <td>USA</td>\n",
       "      <td>NaN</td>\n",
       "      <td>110.0</td>\n",
       "      <td>1.33</td>\n",
       "      <td>100000.0</td>\n",
       "      <td>3000000.0</td>\n",
       "      <td>Harry F. Millarde</td>\n",
       "      <td>...</td>\n",
       "      <td>2.0</td>\n",
       "      <td>2.0</td>\n",
       "      <td>0.0</td>\n",
       "      <td>4</td>\n",
       "      <td>0</td>\n",
       "      <td>1.0</td>\n",
       "      <td>5</td>\n",
       "      <td>1.0</td>\n",
       "      <td>1.0</td>\n",
       "      <td>4.8</td>\n",
       "    </tr>\n",
       "    <tr>\n",
       "      <th>The Big Parade</th>\n",
       "      <td>1925.0</td>\n",
       "      <td>Drama|Romance|War</td>\n",
       "      <td>NaN</td>\n",
       "      <td>USA</td>\n",
       "      <td>Not Rated</td>\n",
       "      <td>151.0</td>\n",
       "      <td>1.33</td>\n",
       "      <td>245000.0</td>\n",
       "      <td>NaN</td>\n",
       "      <td>King Vidor</td>\n",
       "      <td>...</td>\n",
       "      <td>81.0</td>\n",
       "      <td>12.0</td>\n",
       "      <td>6.0</td>\n",
       "      <td>108</td>\n",
       "      <td>226</td>\n",
       "      <td>0.0</td>\n",
       "      <td>4849</td>\n",
       "      <td>45.0</td>\n",
       "      <td>48.0</td>\n",
       "      <td>8.3</td>\n",
       "    </tr>\n",
       "    <tr>\n",
       "      <th>Metropolis</th>\n",
       "      <td>1927.0</td>\n",
       "      <td>Drama|Sci-Fi</td>\n",
       "      <td>German</td>\n",
       "      <td>Germany</td>\n",
       "      <td>Not Rated</td>\n",
       "      <td>145.0</td>\n",
       "      <td>1.33</td>\n",
       "      <td>6000000.0</td>\n",
       "      <td>26435.0</td>\n",
       "      <td>Fritz Lang</td>\n",
       "      <td>...</td>\n",
       "      <td>136.0</td>\n",
       "      <td>23.0</td>\n",
       "      <td>18.0</td>\n",
       "      <td>203</td>\n",
       "      <td>12000</td>\n",
       "      <td>1.0</td>\n",
       "      <td>111841</td>\n",
       "      <td>413.0</td>\n",
       "      <td>260.0</td>\n",
       "      <td>8.3</td>\n",
       "    </tr>\n",
       "    <tr>\n",
       "      <th>Pandora's Box</th>\n",
       "      <td>1929.0</td>\n",
       "      <td>Crime|Drama|Romance</td>\n",
       "      <td>German</td>\n",
       "      <td>Germany</td>\n",
       "      <td>Not Rated</td>\n",
       "      <td>110.0</td>\n",
       "      <td>1.33</td>\n",
       "      <td>NaN</td>\n",
       "      <td>9950.0</td>\n",
       "      <td>Georg Wilhelm Pabst</td>\n",
       "      <td>...</td>\n",
       "      <td>426.0</td>\n",
       "      <td>20.0</td>\n",
       "      <td>3.0</td>\n",
       "      <td>455</td>\n",
       "      <td>926</td>\n",
       "      <td>1.0</td>\n",
       "      <td>7431</td>\n",
       "      <td>84.0</td>\n",
       "      <td>71.0</td>\n",
       "      <td>8.0</td>\n",
       "    </tr>\n",
       "    <tr>\n",
       "      <th>...</th>\n",
       "      <td>...</td>\n",
       "      <td>...</td>\n",
       "      <td>...</td>\n",
       "      <td>...</td>\n",
       "      <td>...</td>\n",
       "      <td>...</td>\n",
       "      <td>...</td>\n",
       "      <td>...</td>\n",
       "      <td>...</td>\n",
       "      <td>...</td>\n",
       "      <td>...</td>\n",
       "      <td>...</td>\n",
       "      <td>...</td>\n",
       "      <td>...</td>\n",
       "      <td>...</td>\n",
       "      <td>...</td>\n",
       "      <td>...</td>\n",
       "      <td>...</td>\n",
       "      <td>...</td>\n",
       "      <td>...</td>\n",
       "      <td>...</td>\n",
       "    </tr>\n",
       "    <tr>\n",
       "      <th>War &amp; Peace</th>\n",
       "      <td>NaN</td>\n",
       "      <td>Drama|History|Romance|War</td>\n",
       "      <td>English</td>\n",
       "      <td>UK</td>\n",
       "      <td>TV-14</td>\n",
       "      <td>NaN</td>\n",
       "      <td>16.00</td>\n",
       "      <td>NaN</td>\n",
       "      <td>NaN</td>\n",
       "      <td>NaN</td>\n",
       "      <td>...</td>\n",
       "      <td>1000.0</td>\n",
       "      <td>888.0</td>\n",
       "      <td>502.0</td>\n",
       "      <td>4528</td>\n",
       "      <td>11000</td>\n",
       "      <td>1.0</td>\n",
       "      <td>9277</td>\n",
       "      <td>44.0</td>\n",
       "      <td>10.0</td>\n",
       "      <td>8.2</td>\n",
       "    </tr>\n",
       "    <tr>\n",
       "      <th>Wings</th>\n",
       "      <td>NaN</td>\n",
       "      <td>Comedy|Drama</td>\n",
       "      <td>English</td>\n",
       "      <td>USA</td>\n",
       "      <td>NaN</td>\n",
       "      <td>30.0</td>\n",
       "      <td>1.33</td>\n",
       "      <td>NaN</td>\n",
       "      <td>NaN</td>\n",
       "      <td>NaN</td>\n",
       "      <td>...</td>\n",
       "      <td>685.0</td>\n",
       "      <td>511.0</td>\n",
       "      <td>424.0</td>\n",
       "      <td>1884</td>\n",
       "      <td>1000</td>\n",
       "      <td>5.0</td>\n",
       "      <td>7646</td>\n",
       "      <td>56.0</td>\n",
       "      <td>19.0</td>\n",
       "      <td>7.3</td>\n",
       "    </tr>\n",
       "    <tr>\n",
       "      <th>Wolf Creek</th>\n",
       "      <td>NaN</td>\n",
       "      <td>Drama|Horror|Thriller</td>\n",
       "      <td>English</td>\n",
       "      <td>Australia</td>\n",
       "      <td>NaN</td>\n",
       "      <td>NaN</td>\n",
       "      <td>2.00</td>\n",
       "      <td>NaN</td>\n",
       "      <td>NaN</td>\n",
       "      <td>NaN</td>\n",
       "      <td>...</td>\n",
       "      <td>511.0</td>\n",
       "      <td>457.0</td>\n",
       "      <td>206.0</td>\n",
       "      <td>1617</td>\n",
       "      <td>954</td>\n",
       "      <td>0.0</td>\n",
       "      <td>726</td>\n",
       "      <td>6.0</td>\n",
       "      <td>2.0</td>\n",
       "      <td>7.1</td>\n",
       "    </tr>\n",
       "    <tr>\n",
       "      <th>Wuthering Heights</th>\n",
       "      <td>NaN</td>\n",
       "      <td>Drama|Romance</td>\n",
       "      <td>English</td>\n",
       "      <td>UK</td>\n",
       "      <td>NaN</td>\n",
       "      <td>142.0</td>\n",
       "      <td>NaN</td>\n",
       "      <td>NaN</td>\n",
       "      <td>NaN</td>\n",
       "      <td>NaN</td>\n",
       "      <td>...</td>\n",
       "      <td>27000.0</td>\n",
       "      <td>698.0</td>\n",
       "      <td>427.0</td>\n",
       "      <td>29196</td>\n",
       "      <td>0</td>\n",
       "      <td>2.0</td>\n",
       "      <td>6053</td>\n",
       "      <td>33.0</td>\n",
       "      <td>9.0</td>\n",
       "      <td>7.7</td>\n",
       "    </tr>\n",
       "    <tr>\n",
       "      <th>Yu-Gi-Oh! Duel Monsters</th>\n",
       "      <td>NaN</td>\n",
       "      <td>Action|Adventure|Animation|Family|Fantasy</td>\n",
       "      <td>Japanese</td>\n",
       "      <td>Japan</td>\n",
       "      <td>NaN</td>\n",
       "      <td>24.0</td>\n",
       "      <td>NaN</td>\n",
       "      <td>NaN</td>\n",
       "      <td>NaN</td>\n",
       "      <td>NaN</td>\n",
       "      <td>...</td>\n",
       "      <td>0.0</td>\n",
       "      <td>NaN</td>\n",
       "      <td>NaN</td>\n",
       "      <td>0</td>\n",
       "      <td>124</td>\n",
       "      <td>0.0</td>\n",
       "      <td>12417</td>\n",
       "      <td>51.0</td>\n",
       "      <td>6.0</td>\n",
       "      <td>7.0</td>\n",
       "    </tr>\n",
       "  </tbody>\n",
       "</table>\n",
       "<p>5042 rows × 24 columns</p>\n",
       "</div>"
      ],
      "text/plain": [
       "                                                     Year  \\\n",
       "Title                                                       \n",
       "Intolerance: Love's Struggle Throughout the Ages   1916.0   \n",
       "Over the Hill to the Poorhouse                     1920.0   \n",
       "The Big Parade                                     1925.0   \n",
       "Metropolis                                         1927.0   \n",
       "Pandora's Box                                      1929.0   \n",
       "...                                                   ...   \n",
       "War & Peace                                           NaN   \n",
       "Wings                                                 NaN   \n",
       "Wolf Creek                                            NaN   \n",
       "Wuthering Heights                                     NaN   \n",
       "Yu-Gi-Oh! Duel Monsters                               NaN   \n",
       "\n",
       "                                                                                      Genres  \\\n",
       "Title                                                                                          \n",
       "Intolerance: Love's Struggle Throughout the Ages                           Drama|History|War   \n",
       "Over the Hill to the Poorhouse                                                   Crime|Drama   \n",
       "The Big Parade                                                             Drama|Romance|War   \n",
       "Metropolis                                                                      Drama|Sci-Fi   \n",
       "Pandora's Box                                                            Crime|Drama|Romance   \n",
       "...                                                                                      ...   \n",
       "War & Peace                                                        Drama|History|Romance|War   \n",
       "Wings                                                                           Comedy|Drama   \n",
       "Wolf Creek                                                             Drama|Horror|Thriller   \n",
       "Wuthering Heights                                                              Drama|Romance   \n",
       "Yu-Gi-Oh! Duel Monsters                            Action|Adventure|Animation|Family|Fantasy   \n",
       "\n",
       "                                                   Language    Country  \\\n",
       "Title                                                                    \n",
       "Intolerance: Love's Struggle Throughout the Ages        NaN        USA   \n",
       "Over the Hill to the Poorhouse                          NaN        USA   \n",
       "The Big Parade                                          NaN        USA   \n",
       "Metropolis                                           German    Germany   \n",
       "Pandora's Box                                        German    Germany   \n",
       "...                                                     ...        ...   \n",
       "War & Peace                                         English         UK   \n",
       "Wings                                               English        USA   \n",
       "Wolf Creek                                          English  Australia   \n",
       "Wuthering Heights                                   English         UK   \n",
       "Yu-Gi-Oh! Duel Monsters                            Japanese      Japan   \n",
       "\n",
       "                                                  Content Rating  Duration  \\\n",
       "Title                                                                        \n",
       "Intolerance: Love's Struggle Throughout the Ages       Not Rated     123.0   \n",
       "Over the Hill to the Poorhouse                               NaN     110.0   \n",
       "The Big Parade                                         Not Rated     151.0   \n",
       "Metropolis                                             Not Rated     145.0   \n",
       "Pandora's Box                                          Not Rated     110.0   \n",
       "...                                                          ...       ...   \n",
       "War & Peace                                                TV-14       NaN   \n",
       "Wings                                                        NaN      30.0   \n",
       "Wolf Creek                                                   NaN       NaN   \n",
       "Wuthering Heights                                            NaN     142.0   \n",
       "Yu-Gi-Oh! Duel Monsters                                      NaN      24.0   \n",
       "\n",
       "                                                   Aspect Ratio     Budget  \\\n",
       "Title                                                                        \n",
       "Intolerance: Love's Struggle Throughout the Ages           1.33   385907.0   \n",
       "Over the Hill to the Poorhouse                             1.33   100000.0   \n",
       "The Big Parade                                             1.33   245000.0   \n",
       "Metropolis                                                 1.33  6000000.0   \n",
       "Pandora's Box                                              1.33        NaN   \n",
       "...                                                         ...        ...   \n",
       "War & Peace                                               16.00        NaN   \n",
       "Wings                                                      1.33        NaN   \n",
       "Wolf Creek                                                 2.00        NaN   \n",
       "Wuthering Heights                                           NaN        NaN   \n",
       "Yu-Gi-Oh! Duel Monsters                                     NaN        NaN   \n",
       "\n",
       "                                                   Gross Earnings  \\\n",
       "Title                                                               \n",
       "Intolerance: Love's Struggle Throughout the Ages              NaN   \n",
       "Over the Hill to the Poorhouse                          3000000.0   \n",
       "The Big Parade                                                NaN   \n",
       "Metropolis                                                26435.0   \n",
       "Pandora's Box                                              9950.0   \n",
       "...                                                           ...   \n",
       "War & Peace                                                   NaN   \n",
       "Wings                                                         NaN   \n",
       "Wolf Creek                                                    NaN   \n",
       "Wuthering Heights                                             NaN   \n",
       "Yu-Gi-Oh! Duel Monsters                                       NaN   \n",
       "\n",
       "                                                              Director  ...  \\\n",
       "Title                                                                   ...   \n",
       "Intolerance: Love's Struggle Throughout the Ages         D.W. Griffith  ...   \n",
       "Over the Hill to the Poorhouse                       Harry F. Millarde  ...   \n",
       "The Big Parade                                              King Vidor  ...   \n",
       "Metropolis                                                  Fritz Lang  ...   \n",
       "Pandora's Box                                      Georg Wilhelm Pabst  ...   \n",
       "...                                                                ...  ...   \n",
       "War & Peace                                                        NaN  ...   \n",
       "Wings                                                              NaN  ...   \n",
       "Wolf Creek                                                         NaN  ...   \n",
       "Wuthering Heights                                                  NaN  ...   \n",
       "Yu-Gi-Oh! Duel Monsters                                            NaN  ...   \n",
       "\n",
       "                                                  Facebook Likes - Actor 1  \\\n",
       "Title                                                                        \n",
       "Intolerance: Love's Struggle Throughout the Ages                     436.0   \n",
       "Over the Hill to the Poorhouse                                         2.0   \n",
       "The Big Parade                                                        81.0   \n",
       "Metropolis                                                           136.0   \n",
       "Pandora's Box                                                        426.0   \n",
       "...                                                                    ...   \n",
       "War & Peace                                                         1000.0   \n",
       "Wings                                                                685.0   \n",
       "Wolf Creek                                                           511.0   \n",
       "Wuthering Heights                                                  27000.0   \n",
       "Yu-Gi-Oh! Duel Monsters                                                0.0   \n",
       "\n",
       "                                                  Facebook Likes - Actor 2  \\\n",
       "Title                                                                        \n",
       "Intolerance: Love's Struggle Throughout the Ages                      22.0   \n",
       "Over the Hill to the Poorhouse                                         2.0   \n",
       "The Big Parade                                                        12.0   \n",
       "Metropolis                                                            23.0   \n",
       "Pandora's Box                                                         20.0   \n",
       "...                                                                    ...   \n",
       "War & Peace                                                          888.0   \n",
       "Wings                                                                511.0   \n",
       "Wolf Creek                                                           457.0   \n",
       "Wuthering Heights                                                    698.0   \n",
       "Yu-Gi-Oh! Duel Monsters                                                NaN   \n",
       "\n",
       "                                                  Facebook Likes - Actor 3  \\\n",
       "Title                                                                        \n",
       "Intolerance: Love's Struggle Throughout the Ages                       9.0   \n",
       "Over the Hill to the Poorhouse                                         0.0   \n",
       "The Big Parade                                                         6.0   \n",
       "Metropolis                                                            18.0   \n",
       "Pandora's Box                                                          3.0   \n",
       "...                                                                    ...   \n",
       "War & Peace                                                          502.0   \n",
       "Wings                                                                424.0   \n",
       "Wolf Creek                                                           206.0   \n",
       "Wuthering Heights                                                    427.0   \n",
       "Yu-Gi-Oh! Duel Monsters                                                NaN   \n",
       "\n",
       "                                                   Facebook Likes - cast Total  \\\n",
       "Title                                                                            \n",
       "Intolerance: Love's Struggle Throughout the Ages                           481   \n",
       "Over the Hill to the Poorhouse                                               4   \n",
       "The Big Parade                                                             108   \n",
       "Metropolis                                                                 203   \n",
       "Pandora's Box                                                              455   \n",
       "...                                                                        ...   \n",
       "War & Peace                                                               4528   \n",
       "Wings                                                                     1884   \n",
       "Wolf Creek                                                                1617   \n",
       "Wuthering Heights                                                        29196   \n",
       "Yu-Gi-Oh! Duel Monsters                                                      0   \n",
       "\n",
       "                                                   Facebook likes - Movie  \\\n",
       "Title                                                                       \n",
       "Intolerance: Love's Struggle Throughout the Ages                      691   \n",
       "Over the Hill to the Poorhouse                                          0   \n",
       "The Big Parade                                                        226   \n",
       "Metropolis                                                          12000   \n",
       "Pandora's Box                                                         926   \n",
       "...                                                                   ...   \n",
       "War & Peace                                                         11000   \n",
       "Wings                                                                1000   \n",
       "Wolf Creek                                                            954   \n",
       "Wuthering Heights                                                       0   \n",
       "Yu-Gi-Oh! Duel Monsters                                               124   \n",
       "\n",
       "                                                   Facenumber in posters  \\\n",
       "Title                                                                      \n",
       "Intolerance: Love's Struggle Throughout the Ages                     1.0   \n",
       "Over the Hill to the Poorhouse                                       1.0   \n",
       "The Big Parade                                                       0.0   \n",
       "Metropolis                                                           1.0   \n",
       "Pandora's Box                                                        1.0   \n",
       "...                                                                  ...   \n",
       "War & Peace                                                          1.0   \n",
       "Wings                                                                5.0   \n",
       "Wolf Creek                                                           0.0   \n",
       "Wuthering Heights                                                    2.0   \n",
       "Yu-Gi-Oh! Duel Monsters                                              0.0   \n",
       "\n",
       "                                                   User Votes  \\\n",
       "Title                                                           \n",
       "Intolerance: Love's Struggle Throughout the Ages        10718   \n",
       "Over the Hill to the Poorhouse                              5   \n",
       "The Big Parade                                           4849   \n",
       "Metropolis                                             111841   \n",
       "Pandora's Box                                            7431   \n",
       "...                                                       ...   \n",
       "War & Peace                                              9277   \n",
       "Wings                                                    7646   \n",
       "Wolf Creek                                                726   \n",
       "Wuthering Heights                                        6053   \n",
       "Yu-Gi-Oh! Duel Monsters                                 12417   \n",
       "\n",
       "                                                   Reviews by Users  \\\n",
       "Title                                                                 \n",
       "Intolerance: Love's Struggle Throughout the Ages               88.0   \n",
       "Over the Hill to the Poorhouse                                  1.0   \n",
       "The Big Parade                                                 45.0   \n",
       "Metropolis                                                    413.0   \n",
       "Pandora's Box                                                  84.0   \n",
       "...                                                             ...   \n",
       "War & Peace                                                    44.0   \n",
       "Wings                                                          56.0   \n",
       "Wolf Creek                                                      6.0   \n",
       "Wuthering Heights                                              33.0   \n",
       "Yu-Gi-Oh! Duel Monsters                                        51.0   \n",
       "\n",
       "                                                   Reviews by Crtiics  \\\n",
       "Title                                                                   \n",
       "Intolerance: Love's Struggle Throughout the Ages                 69.0   \n",
       "Over the Hill to the Poorhouse                                    1.0   \n",
       "The Big Parade                                                   48.0   \n",
       "Metropolis                                                      260.0   \n",
       "Pandora's Box                                                    71.0   \n",
       "...                                                               ...   \n",
       "War & Peace                                                      10.0   \n",
       "Wings                                                            19.0   \n",
       "Wolf Creek                                                        2.0   \n",
       "Wuthering Heights                                                 9.0   \n",
       "Yu-Gi-Oh! Duel Monsters                                           6.0   \n",
       "\n",
       "                                                   IMDB Score  \n",
       "Title                                                          \n",
       "Intolerance: Love's Struggle Throughout the Ages          8.0  \n",
       "Over the Hill to the Poorhouse                            4.8  \n",
       "The Big Parade                                            8.3  \n",
       "Metropolis                                                8.3  \n",
       "Pandora's Box                                             8.0  \n",
       "...                                                       ...  \n",
       "War & Peace                                               8.2  \n",
       "Wings                                                     7.3  \n",
       "Wolf Creek                                                7.1  \n",
       "Wuthering Heights                                         7.7  \n",
       "Yu-Gi-Oh! Duel Monsters                                   7.0  \n",
       "\n",
       "[5042 rows x 24 columns]"
      ]
     },
     "execution_count": 8,
     "metadata": {},
     "output_type": "execute_result"
    }
   ],
   "source": [
    "movies # over 5000 movies"
   ]
  },
  {
   "cell_type": "code",
   "execution_count": 9,
   "metadata": {},
   "outputs": [
    {
     "data": {
      "text/plain": [
       "\u001b[1;31mType:\u001b[0m        DataFrame\n",
       "\u001b[1;31mString form:\u001b[0m\n",
       "Year  \\\n",
       "           Title                                <...>   7.7\n",
       "           Yu-Gi-Oh! Duel Monsters                                   7.0\n",
       "           \n",
       "           [5042 rows x 24 columns]\n",
       "\u001b[1;31mLength:\u001b[0m      5042\n",
       "\u001b[1;31mFile:\u001b[0m        c:\\users\\kara\\anaconda3\\lib\\site-packages\\pandas\\core\\frame.py\n",
       "\u001b[1;31mDocstring:\u001b[0m  \n",
       "Two-dimensional, size-mutable, potentially heterogeneous tabular data.\n",
       "\n",
       "Data structure also contains labeled axes (rows and columns).\n",
       "Arithmetic operations align on both row and column labels. Can be\n",
       "thought of as a dict-like container for Series objects. The primary\n",
       "pandas data structure.\n",
       "\n",
       "Parameters\n",
       "----------\n",
       "data : ndarray (structured or homogeneous), Iterable, dict, or DataFrame\n",
       "    Dict can contain Series, arrays, constants, or list-like objects.\n",
       "\n",
       "    .. versionchanged:: 0.23.0\n",
       "       If data is a dict, column order follows insertion-order for\n",
       "       Python 3.6 and later.\n",
       "\n",
       "    .. versionchanged:: 0.25.0\n",
       "       If data is a list of dicts, column order follows insertion-order\n",
       "       for Python 3.6 and later.\n",
       "\n",
       "index : Index or array-like\n",
       "    Index to use for resulting frame. Will default to RangeIndex if\n",
       "    no indexing information part of input data and no index provided.\n",
       "columns : Index or array-like\n",
       "    Column labels to use for resulting frame. Will default to\n",
       "    RangeIndex (0, 1, 2, ..., n) if no column labels are provided.\n",
       "dtype : dtype, default None\n",
       "    Data type to force. Only a single dtype is allowed. If None, infer.\n",
       "copy : bool, default False\n",
       "    Copy data from inputs. Only affects DataFrame / 2d ndarray input.\n",
       "\n",
       "See Also\n",
       "--------\n",
       "DataFrame.from_records : Constructor from tuples, also record arrays.\n",
       "DataFrame.from_dict : From dicts of Series, arrays, or dicts.\n",
       "read_csv\n",
       "read_table\n",
       "read_clipboard\n",
       "\n",
       "Examples\n",
       "--------\n",
       "Constructing DataFrame from a dictionary.\n",
       "\n",
       ">>> d = {'col1': [1, 2], 'col2': [3, 4]}\n",
       ">>> df = pd.DataFrame(data=d)\n",
       ">>> df\n",
       "   col1  col2\n",
       "0     1     3\n",
       "1     2     4\n",
       "\n",
       "Notice that the inferred dtype is int64.\n",
       "\n",
       ">>> df.dtypes\n",
       "col1    int64\n",
       "col2    int64\n",
       "dtype: object\n",
       "\n",
       "To enforce a single dtype:\n",
       "\n",
       ">>> df = pd.DataFrame(data=d, dtype=np.int8)\n",
       ">>> df.dtypes\n",
       "col1    int8\n",
       "col2    int8\n",
       "dtype: object\n",
       "\n",
       "Constructing DataFrame from numpy ndarray:\n",
       "\n",
       ">>> df2 = pd.DataFrame(np.array([[1, 2, 3], [4, 5, 6], [7, 8, 9]]),\n",
       "...                    columns=['a', 'b', 'c'])\n",
       ">>> df2\n",
       "   a  b  c\n",
       "0  1  2  3\n",
       "1  4  5  6\n",
       "2  7  8  9\n"
      ]
     },
     "metadata": {},
     "output_type": "display_data"
    }
   ],
   "source": [
    "movies?"
   ]
  },
  {
   "cell_type": "code",
   "execution_count": 10,
   "metadata": {},
   "outputs": [
    {
     "data": {
      "text/plain": [
       "(0.0, 1000000000.0)"
      ]
     },
     "execution_count": 10,
     "metadata": {},
     "output_type": "execute_result"
    },
    {
     "data": {
      "image/png": "[encoded data removed]",
      "text/plain": [
       "<Figure size 432x288 with 1 Axes>"
      ]
     },
     "metadata": {
      "needs_background": "light"
     },
     "output_type": "display_data"
    }
   ],
   "source": [
    "# let's plot earnings vs. budget and a 1 to 1 line\n",
    "\n",
    "# plot Budget vs Gross Earnings\n",
    "plt.scatter(movies['Budget'], movies['Gross Earnings'])\n",
    "plt.plot([0,1E10],[0,1E10], 'k--')\n",
    "plt.xlabel('Budget')\n",
    "plt.ylabel('Gross Earnings')\n",
    "plt.xlim([0,0.1E10])\n",
    "plt.ylim([0,1E9])"
   ]
  },
  {
   "cell_type": "markdown",
   "metadata": {},
   "source": [
    "In the above I have added the y=x line to visualize if the gross earnings were above the budget. \n",
    "Because many of the data points are on top of each other, it is difficult to assess visually the relationship between the two variables"
   ]
  },
  {
   "cell_type": "markdown",
   "metadata": {},
   "source": [
    "Note that pandas allows us to get the correlation of the entire dataframe all at once. There are many other packages that will do this as well, including numpy."
   ]
  },
  {
   "cell_type": "code",
   "execution_count": 11,
   "metadata": {},
   "outputs": [
    {
     "data": {
      "text/html": [
       "<div>\n",
       "<style scoped>\n",
       "    .dataframe tbody tr th:only-of-type {\n",
       "        vertical-align: middle;\n",
       "    }\n",
       "\n",
       "    .dataframe tbody tr th {\n",
       "        vertical-align: top;\n",
       "    }\n",
       "\n",
       "    .dataframe thead th {\n",
       "        text-align: right;\n",
       "    }\n",
       "</style>\n",
       "<table border=\"1\" class=\"dataframe\">\n",
       "  <thead>\n",
       "    <tr style=\"text-align: right;\">\n",
       "      <th></th>\n",
       "      <th>Year</th>\n",
       "      <th>Duration</th>\n",
       "      <th>Aspect Ratio</th>\n",
       "      <th>Budget</th>\n",
       "      <th>Gross Earnings</th>\n",
       "      <th>Facebook Likes - Director</th>\n",
       "      <th>Facebook Likes - Actor 1</th>\n",
       "      <th>Facebook Likes - Actor 2</th>\n",
       "      <th>Facebook Likes - Actor 3</th>\n",
       "      <th>Facebook Likes - cast Total</th>\n",
       "      <th>Facebook likes - Movie</th>\n",
       "      <th>Facenumber in posters</th>\n",
       "      <th>User Votes</th>\n",
       "      <th>Reviews by Users</th>\n",
       "      <th>Reviews by Crtiics</th>\n",
       "      <th>IMDB Score</th>\n",
       "    </tr>\n",
       "  </thead>\n",
       "  <tbody>\n",
       "    <tr>\n",
       "      <th>Year</th>\n",
       "      <td>1.000000</td>\n",
       "      <td>-0.135038</td>\n",
       "      <td>0.159973</td>\n",
       "      <td>0.045726</td>\n",
       "      <td>0.030886</td>\n",
       "      <td>-0.063820</td>\n",
       "      <td>0.086873</td>\n",
       "      <td>0.101890</td>\n",
       "      <td>0.096137</td>\n",
       "      <td>0.109971</td>\n",
       "      <td>0.218678</td>\n",
       "      <td>0.061504</td>\n",
       "      <td>0.007397</td>\n",
       "      <td>-0.003147</td>\n",
       "      <td>0.275707</td>\n",
       "      <td>-0.209167</td>\n",
       "    </tr>\n",
       "    <tr>\n",
       "      <th>Duration</th>\n",
       "      <td>-0.135038</td>\n",
       "      <td>1.000000</td>\n",
       "      <td>-0.090071</td>\n",
       "      <td>0.074276</td>\n",
       "      <td>0.250298</td>\n",
       "      <td>0.173296</td>\n",
       "      <td>0.088449</td>\n",
       "      <td>0.131673</td>\n",
       "      <td>0.123558</td>\n",
       "      <td>0.123074</td>\n",
       "      <td>0.196605</td>\n",
       "      <td>0.013469</td>\n",
       "      <td>0.314765</td>\n",
       "      <td>0.328403</td>\n",
       "      <td>0.258486</td>\n",
       "      <td>0.261662</td>\n",
       "    </tr>\n",
       "    <tr>\n",
       "      <th>Aspect Ratio</th>\n",
       "      <td>0.159973</td>\n",
       "      <td>-0.090071</td>\n",
       "      <td>1.000000</td>\n",
       "      <td>0.006598</td>\n",
       "      <td>0.069346</td>\n",
       "      <td>0.001642</td>\n",
       "      <td>-0.020049</td>\n",
       "      <td>-0.007783</td>\n",
       "      <td>-0.003366</td>\n",
       "      <td>-0.017885</td>\n",
       "      <td>0.025737</td>\n",
       "      <td>0.013713</td>\n",
       "      <td>-0.014761</td>\n",
       "      <td>-0.024719</td>\n",
       "      <td>-0.049786</td>\n",
       "      <td>0.059445</td>\n",
       "    </tr>\n",
       "    <tr>\n",
       "      <th>Budget</th>\n",
       "      <td>0.045726</td>\n",
       "      <td>0.074276</td>\n",
       "      <td>0.006598</td>\n",
       "      <td>1.000000</td>\n",
       "      <td>0.102179</td>\n",
       "      <td>0.021090</td>\n",
       "      <td>0.022639</td>\n",
       "      <td>0.044236</td>\n",
       "      <td>0.047451</td>\n",
       "      <td>0.036557</td>\n",
       "      <td>0.062039</td>\n",
       "      <td>-0.019559</td>\n",
       "      <td>0.079621</td>\n",
       "      <td>0.084292</td>\n",
       "      <td>0.119994</td>\n",
       "      <td>0.030688</td>\n",
       "    </tr>\n",
       "    <tr>\n",
       "      <th>Gross Earnings</th>\n",
       "      <td>0.030886</td>\n",
       "      <td>0.250298</td>\n",
       "      <td>0.069346</td>\n",
       "      <td>0.102179</td>\n",
       "      <td>1.000000</td>\n",
       "      <td>0.144945</td>\n",
       "      <td>0.154468</td>\n",
       "      <td>0.262768</td>\n",
       "      <td>0.308026</td>\n",
       "      <td>0.247400</td>\n",
       "      <td>0.378082</td>\n",
       "      <td>-0.027755</td>\n",
       "      <td>0.637271</td>\n",
       "      <td>0.559958</td>\n",
       "      <td>0.480601</td>\n",
       "      <td>0.198021</td>\n",
       "    </tr>\n",
       "    <tr>\n",
       "      <th>Facebook Likes - Director</th>\n",
       "      <td>-0.063820</td>\n",
       "      <td>0.173296</td>\n",
       "      <td>0.001642</td>\n",
       "      <td>0.021090</td>\n",
       "      <td>0.144945</td>\n",
       "      <td>1.000000</td>\n",
       "      <td>0.090707</td>\n",
       "      <td>0.119587</td>\n",
       "      <td>0.120199</td>\n",
       "      <td>0.119532</td>\n",
       "      <td>0.162036</td>\n",
       "      <td>-0.041297</td>\n",
       "      <td>0.297045</td>\n",
       "      <td>0.221890</td>\n",
       "      <td>0.180674</td>\n",
       "      <td>0.170834</td>\n",
       "    </tr>\n",
       "    <tr>\n",
       "      <th>Facebook Likes - Actor 1</th>\n",
       "      <td>0.086873</td>\n",
       "      <td>0.088449</td>\n",
       "      <td>-0.020049</td>\n",
       "      <td>0.022639</td>\n",
       "      <td>0.154468</td>\n",
       "      <td>0.090707</td>\n",
       "      <td>1.000000</td>\n",
       "      <td>0.390466</td>\n",
       "      <td>0.249927</td>\n",
       "      <td>0.951660</td>\n",
       "      <td>0.135320</td>\n",
       "      <td>0.072204</td>\n",
       "      <td>0.192763</td>\n",
       "      <td>0.145461</td>\n",
       "      <td>0.190016</td>\n",
       "      <td>0.076153</td>\n",
       "    </tr>\n",
       "    <tr>\n",
       "      <th>Facebook Likes - Actor 2</th>\n",
       "      <td>0.101890</td>\n",
       "      <td>0.131673</td>\n",
       "      <td>-0.007783</td>\n",
       "      <td>0.044236</td>\n",
       "      <td>0.262768</td>\n",
       "      <td>0.119587</td>\n",
       "      <td>0.390466</td>\n",
       "      <td>1.000000</td>\n",
       "      <td>0.559662</td>\n",
       "      <td>0.628389</td>\n",
       "      <td>0.243464</td>\n",
       "      <td>0.071177</td>\n",
       "      <td>0.270755</td>\n",
       "      <td>0.219496</td>\n",
       "      <td>0.282306</td>\n",
       "      <td>0.083860</td>\n",
       "    </tr>\n",
       "    <tr>\n",
       "      <th>Facebook Likes - Actor 3</th>\n",
       "      <td>0.096137</td>\n",
       "      <td>0.123558</td>\n",
       "      <td>-0.003366</td>\n",
       "      <td>0.047451</td>\n",
       "      <td>0.308026</td>\n",
       "      <td>0.120199</td>\n",
       "      <td>0.249927</td>\n",
       "      <td>0.559662</td>\n",
       "      <td>1.000000</td>\n",
       "      <td>0.473920</td>\n",
       "      <td>0.278844</td>\n",
       "      <td>0.099368</td>\n",
       "      <td>0.287239</td>\n",
       "      <td>0.230189</td>\n",
       "      <td>0.271646</td>\n",
       "      <td>0.052633</td>\n",
       "    </tr>\n",
       "    <tr>\n",
       "      <th>Facebook Likes - cast Total</th>\n",
       "      <td>0.109971</td>\n",
       "      <td>0.123074</td>\n",
       "      <td>-0.017885</td>\n",
       "      <td>0.036557</td>\n",
       "      <td>0.247400</td>\n",
       "      <td>0.119532</td>\n",
       "      <td>0.951660</td>\n",
       "      <td>0.628389</td>\n",
       "      <td>0.473920</td>\n",
       "      <td>1.000000</td>\n",
       "      <td>0.209754</td>\n",
       "      <td>0.091410</td>\n",
       "      <td>0.265865</td>\n",
       "      <td>0.206923</td>\n",
       "      <td>0.263203</td>\n",
       "      <td>0.085854</td>\n",
       "    </tr>\n",
       "    <tr>\n",
       "      <th>Facebook likes - Movie</th>\n",
       "      <td>0.218678</td>\n",
       "      <td>0.196605</td>\n",
       "      <td>0.025737</td>\n",
       "      <td>0.062039</td>\n",
       "      <td>0.378082</td>\n",
       "      <td>0.162036</td>\n",
       "      <td>0.135320</td>\n",
       "      <td>0.243464</td>\n",
       "      <td>0.278844</td>\n",
       "      <td>0.209754</td>\n",
       "      <td>1.000000</td>\n",
       "      <td>0.008866</td>\n",
       "      <td>0.537905</td>\n",
       "      <td>0.400594</td>\n",
       "      <td>0.683176</td>\n",
       "      <td>0.247106</td>\n",
       "    </tr>\n",
       "    <tr>\n",
       "      <th>Facenumber in posters</th>\n",
       "      <td>0.061504</td>\n",
       "      <td>0.013469</td>\n",
       "      <td>0.013713</td>\n",
       "      <td>-0.019559</td>\n",
       "      <td>-0.027755</td>\n",
       "      <td>-0.041297</td>\n",
       "      <td>0.072204</td>\n",
       "      <td>0.071177</td>\n",
       "      <td>0.099368</td>\n",
       "      <td>0.091410</td>\n",
       "      <td>0.008866</td>\n",
       "      <td>1.000000</td>\n",
       "      <td>-0.027082</td>\n",
       "      <td>-0.069018</td>\n",
       "      <td>-0.033897</td>\n",
       "      <td>-0.062883</td>\n",
       "    </tr>\n",
       "    <tr>\n",
       "      <th>User Votes</th>\n",
       "      <td>0.007397</td>\n",
       "      <td>0.314765</td>\n",
       "      <td>-0.014761</td>\n",
       "      <td>0.079621</td>\n",
       "      <td>0.637271</td>\n",
       "      <td>0.297045</td>\n",
       "      <td>0.192763</td>\n",
       "      <td>0.270755</td>\n",
       "      <td>0.287239</td>\n",
       "      <td>0.265865</td>\n",
       "      <td>0.537905</td>\n",
       "      <td>-0.027082</td>\n",
       "      <td>1.000000</td>\n",
       "      <td>0.798406</td>\n",
       "      <td>0.624943</td>\n",
       "      <td>0.411064</td>\n",
       "    </tr>\n",
       "    <tr>\n",
       "      <th>Reviews by Users</th>\n",
       "      <td>-0.003147</td>\n",
       "      <td>0.328403</td>\n",
       "      <td>-0.024719</td>\n",
       "      <td>0.084292</td>\n",
       "      <td>0.559958</td>\n",
       "      <td>0.221890</td>\n",
       "      <td>0.145461</td>\n",
       "      <td>0.219496</td>\n",
       "      <td>0.230189</td>\n",
       "      <td>0.206923</td>\n",
       "      <td>0.400594</td>\n",
       "      <td>-0.069018</td>\n",
       "      <td>0.798406</td>\n",
       "      <td>1.000000</td>\n",
       "      <td>0.609387</td>\n",
       "      <td>0.292475</td>\n",
       "    </tr>\n",
       "    <tr>\n",
       "      <th>Reviews by Crtiics</th>\n",
       "      <td>0.275707</td>\n",
       "      <td>0.258486</td>\n",
       "      <td>-0.049786</td>\n",
       "      <td>0.119994</td>\n",
       "      <td>0.480601</td>\n",
       "      <td>0.180674</td>\n",
       "      <td>0.190016</td>\n",
       "      <td>0.282306</td>\n",
       "      <td>0.271646</td>\n",
       "      <td>0.263203</td>\n",
       "      <td>0.683176</td>\n",
       "      <td>-0.033897</td>\n",
       "      <td>0.624943</td>\n",
       "      <td>0.609387</td>\n",
       "      <td>1.000000</td>\n",
       "      <td>0.305303</td>\n",
       "    </tr>\n",
       "    <tr>\n",
       "      <th>IMDB Score</th>\n",
       "      <td>-0.209167</td>\n",
       "      <td>0.261662</td>\n",
       "      <td>0.059445</td>\n",
       "      <td>0.030688</td>\n",
       "      <td>0.198021</td>\n",
       "      <td>0.170834</td>\n",
       "      <td>0.076153</td>\n",
       "      <td>0.083860</td>\n",
       "      <td>0.052633</td>\n",
       "      <td>0.085854</td>\n",
       "      <td>0.247106</td>\n",
       "      <td>-0.062883</td>\n",
       "      <td>0.411064</td>\n",
       "      <td>0.292475</td>\n",
       "      <td>0.305303</td>\n",
       "      <td>1.000000</td>\n",
       "    </tr>\n",
       "  </tbody>\n",
       "</table>\n",
       "</div>"
      ],
      "text/plain": [
       "                                 Year  Duration  Aspect Ratio    Budget  \\\n",
       "Year                         1.000000 -0.135038      0.159973  0.045726   \n",
       "Duration                    -0.135038  1.000000     -0.090071  0.074276   \n",
       "Aspect Ratio                 0.159973 -0.090071      1.000000  0.006598   \n",
       "Budget                       0.045726  0.074276      0.006598  1.000000   \n",
       "Gross Earnings               0.030886  0.250298      0.069346  0.102179   \n",
       "Facebook Likes - Director   -0.063820  0.173296      0.001642  0.021090   \n",
       "Facebook Likes - Actor 1     0.086873  0.088449     -0.020049  0.022639   \n",
       "Facebook Likes - Actor 2     0.101890  0.131673     -0.007783  0.044236   \n",
       "Facebook Likes - Actor 3     0.096137  0.123558     -0.003366  0.047451   \n",
       "Facebook Likes - cast Total  0.109971  0.123074     -0.017885  0.036557   \n",
       "Facebook likes - Movie       0.218678  0.196605      0.025737  0.062039   \n",
       "Facenumber in posters        0.061504  0.013469      0.013713 -0.019559   \n",
       "User Votes                   0.007397  0.314765     -0.014761  0.079621   \n",
       "Reviews by Users            -0.003147  0.328403     -0.024719  0.084292   \n",
       "Reviews by Crtiics           0.275707  0.258486     -0.049786  0.119994   \n",
       "IMDB Score                  -0.209167  0.261662      0.059445  0.030688   \n",
       "\n",
       "                             Gross Earnings  Facebook Likes - Director  \\\n",
       "Year                               0.030886                  -0.063820   \n",
       "Duration                           0.250298                   0.173296   \n",
       "Aspect Ratio                       0.069346                   0.001642   \n",
       "Budget                             0.102179                   0.021090   \n",
       "Gross Earnings                     1.000000                   0.144945   \n",
       "Facebook Likes - Director          0.144945                   1.000000   \n",
       "Facebook Likes - Actor 1           0.154468                   0.090707   \n",
       "Facebook Likes - Actor 2           0.262768                   0.119587   \n",
       "Facebook Likes - Actor 3           0.308026                   0.120199   \n",
       "Facebook Likes - cast Total        0.247400                   0.119532   \n",
       "Facebook likes - Movie             0.378082                   0.162036   \n",
       "Facenumber in posters             -0.027755                  -0.041297   \n",
       "User Votes                         0.637271                   0.297045   \n",
       "Reviews by Users                   0.559958                   0.221890   \n",
       "Reviews by Crtiics                 0.480601                   0.180674   \n",
       "IMDB Score                         0.198021                   0.170834   \n",
       "\n",
       "                             Facebook Likes - Actor 1  \\\n",
       "Year                                         0.086873   \n",
       "Duration                                     0.088449   \n",
       "Aspect Ratio                                -0.020049   \n",
       "Budget                                       0.022639   \n",
       "Gross Earnings                               0.154468   \n",
       "Facebook Likes - Director                    0.090707   \n",
       "Facebook Likes - Actor 1                     1.000000   \n",
       "Facebook Likes - Actor 2                     0.390466   \n",
       "Facebook Likes - Actor 3                     0.249927   \n",
       "Facebook Likes - cast Total                  0.951660   \n",
       "Facebook likes - Movie                       0.135320   \n",
       "Facenumber in posters                        0.072204   \n",
       "User Votes                                   0.192763   \n",
       "Reviews by Users                             0.145461   \n",
       "Reviews by Crtiics                           0.190016   \n",
       "IMDB Score                                   0.076153   \n",
       "\n",
       "                             Facebook Likes - Actor 2  \\\n",
       "Year                                         0.101890   \n",
       "Duration                                     0.131673   \n",
       "Aspect Ratio                                -0.007783   \n",
       "Budget                                       0.044236   \n",
       "Gross Earnings                               0.262768   \n",
       "Facebook Likes - Director                    0.119587   \n",
       "Facebook Likes - Actor 1                     0.390466   \n",
       "Facebook Likes - Actor 2                     1.000000   \n",
       "Facebook Likes - Actor 3                     0.559662   \n",
       "Facebook Likes - cast Total                  0.628389   \n",
       "Facebook likes - Movie                       0.243464   \n",
       "Facenumber in posters                        0.071177   \n",
       "User Votes                                   0.270755   \n",
       "Reviews by Users                             0.219496   \n",
       "Reviews by Crtiics                           0.282306   \n",
       "IMDB Score                                   0.083860   \n",
       "\n",
       "                             Facebook Likes - Actor 3  \\\n",
       "Year                                         0.096137   \n",
       "Duration                                     0.123558   \n",
       "Aspect Ratio                                -0.003366   \n",
       "Budget                                       0.047451   \n",
       "Gross Earnings                               0.308026   \n",
       "Facebook Likes - Director                    0.120199   \n",
       "Facebook Likes - Actor 1                     0.249927   \n",
       "Facebook Likes - Actor 2                     0.559662   \n",
       "Facebook Likes - Actor 3                     1.000000   \n",
       "Facebook Likes - cast Total                  0.473920   \n",
       "Facebook likes - Movie                       0.278844   \n",
       "Facenumber in posters                        0.099368   \n",
       "User Votes                                   0.287239   \n",
       "Reviews by Users                             0.230189   \n",
       "Reviews by Crtiics                           0.271646   \n",
       "IMDB Score                                   0.052633   \n",
       "\n",
       "                             Facebook Likes - cast Total  \\\n",
       "Year                                            0.109971   \n",
       "Duration                                        0.123074   \n",
       "Aspect Ratio                                   -0.017885   \n",
       "Budget                                          0.036557   \n",
       "Gross Earnings                                  0.247400   \n",
       "Facebook Likes - Director                       0.119532   \n",
       "Facebook Likes - Actor 1                        0.951660   \n",
       "Facebook Likes - Actor 2                        0.628389   \n",
       "Facebook Likes - Actor 3                        0.473920   \n",
       "Facebook Likes - cast Total                     1.000000   \n",
       "Facebook likes - Movie                          0.209754   \n",
       "Facenumber in posters                           0.091410   \n",
       "User Votes                                      0.265865   \n",
       "Reviews by Users                                0.206923   \n",
       "Reviews by Crtiics                              0.263203   \n",
       "IMDB Score                                      0.085854   \n",
       "\n",
       "                             Facebook likes - Movie  Facenumber in posters  \\\n",
       "Year                                       0.218678               0.061504   \n",
       "Duration                                   0.196605               0.013469   \n",
       "Aspect Ratio                               0.025737               0.013713   \n",
       "Budget                                     0.062039              -0.019559   \n",
       "Gross Earnings                             0.378082              -0.027755   \n",
       "Facebook Likes - Director                  0.162036              -0.041297   \n",
       "Facebook Likes - Actor 1                   0.135320               0.072204   \n",
       "Facebook Likes - Actor 2                   0.243464               0.071177   \n",
       "Facebook Likes - Actor 3                   0.278844               0.099368   \n",
       "Facebook Likes - cast Total                0.209754               0.091410   \n",
       "Facebook likes - Movie                     1.000000               0.008866   \n",
       "Facenumber in posters                      0.008866               1.000000   \n",
       "User Votes                                 0.537905              -0.027082   \n",
       "Reviews by Users                           0.400594              -0.069018   \n",
       "Reviews by Crtiics                         0.683176              -0.033897   \n",
       "IMDB Score                                 0.247106              -0.062883   \n",
       "\n",
       "                             User Votes  Reviews by Users  Reviews by Crtiics  \\\n",
       "Year                           0.007397         -0.003147            0.275707   \n",
       "Duration                       0.314765          0.328403            0.258486   \n",
       "Aspect Ratio                  -0.014761         -0.024719           -0.049786   \n",
       "Budget                         0.079621          0.084292            0.119994   \n",
       "Gross Earnings                 0.637271          0.559958            0.480601   \n",
       "Facebook Likes - Director      0.297045          0.221890            0.180674   \n",
       "Facebook Likes - Actor 1       0.192763          0.145461            0.190016   \n",
       "Facebook Likes - Actor 2       0.270755          0.219496            0.282306   \n",
       "Facebook Likes - Actor 3       0.287239          0.230189            0.271646   \n",
       "Facebook Likes - cast Total    0.265865          0.206923            0.263203   \n",
       "Facebook likes - Movie         0.537905          0.400594            0.683176   \n",
       "Facenumber in posters         -0.027082         -0.069018           -0.033897   \n",
       "User Votes                     1.000000          0.798406            0.624943   \n",
       "Reviews by Users               0.798406          1.000000            0.609387   \n",
       "Reviews by Crtiics             0.624943          0.609387            1.000000   \n",
       "IMDB Score                     0.411064          0.292475            0.305303   \n",
       "\n",
       "                             IMDB Score  \n",
       "Year                          -0.209167  \n",
       "Duration                       0.261662  \n",
       "Aspect Ratio                   0.059445  \n",
       "Budget                         0.030688  \n",
       "Gross Earnings                 0.198021  \n",
       "Facebook Likes - Director      0.170834  \n",
       "Facebook Likes - Actor 1       0.076153  \n",
       "Facebook Likes - Actor 2       0.083860  \n",
       "Facebook Likes - Actor 3       0.052633  \n",
       "Facebook Likes - cast Total    0.085854  \n",
       "Facebook likes - Movie         0.247106  \n",
       "Facenumber in posters         -0.062883  \n",
       "User Votes                     0.411064  \n",
       "Reviews by Users               0.292475  \n",
       "Reviews by Crtiics             0.305303  \n",
       "IMDB Score                     1.000000  "
      ]
     },
     "execution_count": 11,
     "metadata": {},
     "output_type": "execute_result"
    }
   ],
   "source": [
    "movies.corr()\n",
    "# Budget and Gross earnings are not very correlated, r = 0.10"
   ]
  },
  {
   "cell_type": "code",
   "execution_count": null,
   "metadata": {},
   "outputs": [],
   "source": []
  },
  {
   "cell_type": "markdown",
   "metadata": {},
   "source": [
    "### Introduction to linear regression\n",
    "\n",
    "See https://en.wikipedia.org/wiki/Linear_regression and http://onlinestatbook.com/2/regression/regression.html for a nice introduction. See https://towardsdatascience.com/linear-regression-using-python-b136c91bf0a2 for a good intro on the math\n",
    "\n",
    "Supposed we were convinced that gross earnings were linearly related to budget, i.e. G = a*B +c. To test this, we would fit the scatterplot we made above to a line, which would solve for the coefficients a (slope) and c (intercept) in our linear equation.\n",
    "\n",
    "The basic idea of linear regression is that one finds the distance of each data point to a line and minimize this (using calculus) to find the best fit line. This is commonly called ordinary least squares, as the distance of the data from the linear model is squared.\n",
    "\n",
    "Because the movies database has a number of NaNs (not a number, or missing values) in it, it's a bit difficult to work with (but see tips on revmoving NaNs in the resources page in github). Instead, let's do the tutorial here on linear regression using Boston housing data: https://towardsdatascience.com/linear-regression-on-boston-housing-dataset-f409b7e4a155 This tutorial uses the package scikit-learn, which is a collection of advanced data analysis and machine learning functions. We will use this again in the future. Scikit-learn comes with a number of datasets to practice with, the housing data is one of them.\n"
   ]
  },
  {
   "cell_type": "code",
   "execution_count": 12,
   "metadata": {},
   "outputs": [],
   "source": [
    "from sklearn import datasets ## imports datasets from scikit-learn\n",
    "data = datasets.load_boston() ## loads Boston dataset from datasets library "
   ]
  },
  {
   "cell_type": "markdown",
   "metadata": {},
   "source": [
    "What we want to do here is to determine which variables contribute to housing prices"
   ]
  },
  {
   "cell_type": "code",
   "execution_count": 13,
   "metadata": {},
   "outputs": [
    {
     "data": {
      "text/plain": [
       "\u001b[1;31mType:\u001b[0m        Bunch\n",
       "\u001b[1;31mString form:\u001b[0m\n",
       "{'data': array([[6.3200e-03, 1.8000e+01, 2.3100e+00, ..., 1.5300e+01, 3.9690e+02,\n",
       "           4.9800e <...> :\\\\Users\\\\Kara\\\\anaconda3\\\\lib\\\\site-packages\\\\sklearn\\\\datasets\\\\data\\\\boston_house_prices.csv'}\n",
       "\u001b[1;31mLength:\u001b[0m      5\n",
       "\u001b[1;31mFile:\u001b[0m        c:\\users\\kara\\anaconda3\\lib\\site-packages\\sklearn\\utils\\__init__.py\n",
       "\u001b[1;31mDocstring:\u001b[0m  \n",
       "Container object exposing keys as attributes\n",
       "\n",
       "Bunch objects are sometimes used as an output for functions and methods.\n",
       "They extend dictionaries by enabling values to be accessed by key,\n",
       "`bunch[\"value_key\"]`, or by an attribute, `bunch.value_key`.\n",
       "\n",
       "Examples\n",
       "--------\n",
       ">>> b = Bunch(a=1, b=2)\n",
       ">>> b['b']\n",
       "2\n",
       ">>> b.b\n",
       "2\n",
       ">>> b.a = 3\n",
       ">>> b['a']\n",
       "3\n",
       ">>> b.c = 6\n",
       ">>> b['c']\n",
       "6\n"
      ]
     },
     "metadata": {},
     "output_type": "display_data"
    }
   ],
   "source": [
    "data?\n",
    "# this is a new type of thing, a bunch"
   ]
  },
  {
   "cell_type": "code",
   "execution_count": 14,
   "metadata": {},
   "outputs": [
    {
     "name": "stdout",
     "output_type": "stream",
     "text": [
      ".. _boston_dataset:\n",
      "\n",
      "Boston house prices dataset\n",
      "---------------------------\n",
      "\n",
      "**Data Set Characteristics:**  \n",
      "\n",
      "    :Number of Instances: 506 \n",
      "\n",
      "    :Number of Attributes: 13 numeric/categorical predictive. Median Value (attribute 14) is usually the target.\n",
      "\n",
      "    :Attribute Information (in order):\n",
      "        - CRIM     per capita crime rate by town\n",
      "        - ZN       proportion of residential land zoned for lots over 25,000 sq.ft.\n",
      "        - INDUS    proportion of non-retail business acres per town\n",
      "        - CHAS     Charles River dummy variable (= 1 if tract bounds river; 0 otherwise)\n",
      "        - NOX      nitric oxides concentration (parts per 10 million)\n",
      "        - RM       average number of rooms per dwelling\n",
      "        - AGE      proportion of owner-occupied units built prior to 1940\n",
      "        - DIS      weighted distances to five Boston employment centres\n",
      "        - RAD      index of accessibility to radial highways\n",
      "        - TAX      full-value property-tax rate per $10,000\n",
      "        - PTRATIO  pupil-teacher ratio by town\n",
      "        - B        1000(Bk - 0.63)^2 where Bk is the proportion of blacks by town\n",
      "        - LSTAT    % lower status of the population\n",
      "        - MEDV     Median value of owner-occupied homes in $1000's\n",
      "\n",
      "    :Missing Attribute Values: None\n",
      "\n",
      "    :Creator: Harrison, D. and Rubinfeld, D.L.\n",
      "\n",
      "This is a copy of UCI ML housing dataset.\n",
      "https://archive.ics.uci.edu/ml/machine-learning-databases/housing/\n",
      "\n",
      "\n",
      "This dataset was taken from the StatLib library which is maintained at Carnegie Mellon University.\n",
      "\n",
      "The Boston house-price data of Harrison, D. and Rubinfeld, D.L. 'Hedonic\n",
      "prices and the demand for clean air', J. Environ. Economics & Management,\n",
      "vol.5, 81-102, 1978.   Used in Belsley, Kuh & Welsch, 'Regression diagnostics\n",
      "...', Wiley, 1980.   N.B. Various transformations are used in the table on\n",
      "pages 244-261 of the latter.\n",
      "\n",
      "The Boston house-price data has been used in many machine learning papers that address regression\n",
      "problems.   \n",
      "     \n",
      ".. topic:: References\n",
      "\n",
      "   - Belsley, Kuh & Welsch, 'Regression diagnostics: Identifying Influential Data and Sources of Collinearity', Wiley, 1980. 244-261.\n",
      "   - Quinlan,R. (1993). Combining Instance-Based and Model-Based Learning. In Proceedings on the Tenth International Conference of Machine Learning, 236-243, University of Massachusetts, Amherst. Morgan Kaufmann.\n",
      "\n"
     ]
    }
   ],
   "source": [
    "# information on the data:\n",
    "print(data.DESCR)"
   ]
  },
  {
   "cell_type": "markdown",
   "metadata": {},
   "source": [
    "It is really common in scikitlearn to break the data up into a target dataset, the thing one is trying to predict, and all the factors that may affect that target variable"
   ]
  },
  {
   "cell_type": "code",
   "execution_count": 15,
   "metadata": {},
   "outputs": [],
   "source": [
    "# convert the data set into a pandas data frame  \n",
    "df = pd.DataFrame(data.data, columns=data.feature_names)\n",
    "\n",
    "# Put the target (housing value -- MEDV) in another DataFrame\n",
    "target = pd.DataFrame(data.target, columns=[\"MEDV\"])"
   ]
  },
  {
   "cell_type": "markdown",
   "metadata": {},
   "source": [
    "Create a second dataframe with the housing value added as a column. \n",
    "What variables correlate most with housing value? Hypothesize why this might be."
   ]
  },
  {
   "cell_type": "code",
   "execution_count": 16,
   "metadata": {},
   "outputs": [],
   "source": [
    "# create a second dataframe that has MEDV in it so we can look at correlation`\n",
    "df2 = df\n",
    "df2['MEDV'] = target.MEDV"
   ]
  },
  {
   "cell_type": "code",
   "execution_count": 17,
   "metadata": {},
   "outputs": [
    {
     "data": {
      "text/html": [
       "<div>\n",
       "<style scoped>\n",
       "    .dataframe tbody tr th:only-of-type {\n",
       "        vertical-align: middle;\n",
       "    }\n",
       "\n",
       "    .dataframe tbody tr th {\n",
       "        vertical-align: top;\n",
       "    }\n",
       "\n",
       "    .dataframe thead th {\n",
       "        text-align: right;\n",
       "    }\n",
       "</style>\n",
       "<table border=\"1\" class=\"dataframe\">\n",
       "  <thead>\n",
       "    <tr style=\"text-align: right;\">\n",
       "      <th></th>\n",
       "      <th>CRIM</th>\n",
       "      <th>ZN</th>\n",
       "      <th>INDUS</th>\n",
       "      <th>CHAS</th>\n",
       "      <th>NOX</th>\n",
       "      <th>RM</th>\n",
       "      <th>AGE</th>\n",
       "      <th>DIS</th>\n",
       "      <th>RAD</th>\n",
       "      <th>TAX</th>\n",
       "      <th>PTRATIO</th>\n",
       "      <th>B</th>\n",
       "      <th>LSTAT</th>\n",
       "      <th>MEDV</th>\n",
       "    </tr>\n",
       "  </thead>\n",
       "  <tbody>\n",
       "    <tr>\n",
       "      <th>CRIM</th>\n",
       "      <td>1.000000</td>\n",
       "      <td>-0.200469</td>\n",
       "      <td>0.406583</td>\n",
       "      <td>-0.055892</td>\n",
       "      <td>0.420972</td>\n",
       "      <td>-0.219247</td>\n",
       "      <td>0.352734</td>\n",
       "      <td>-0.379670</td>\n",
       "      <td>0.625505</td>\n",
       "      <td>0.582764</td>\n",
       "      <td>0.289946</td>\n",
       "      <td>-0.385064</td>\n",
       "      <td>0.455621</td>\n",
       "      <td>-0.388305</td>\n",
       "    </tr>\n",
       "    <tr>\n",
       "      <th>ZN</th>\n",
       "      <td>-0.200469</td>\n",
       "      <td>1.000000</td>\n",
       "      <td>-0.533828</td>\n",
       "      <td>-0.042697</td>\n",
       "      <td>-0.516604</td>\n",
       "      <td>0.311991</td>\n",
       "      <td>-0.569537</td>\n",
       "      <td>0.664408</td>\n",
       "      <td>-0.311948</td>\n",
       "      <td>-0.314563</td>\n",
       "      <td>-0.391679</td>\n",
       "      <td>0.175520</td>\n",
       "      <td>-0.412995</td>\n",
       "      <td>0.360445</td>\n",
       "    </tr>\n",
       "    <tr>\n",
       "      <th>INDUS</th>\n",
       "      <td>0.406583</td>\n",
       "      <td>-0.533828</td>\n",
       "      <td>1.000000</td>\n",
       "      <td>0.062938</td>\n",
       "      <td>0.763651</td>\n",
       "      <td>-0.391676</td>\n",
       "      <td>0.644779</td>\n",
       "      <td>-0.708027</td>\n",
       "      <td>0.595129</td>\n",
       "      <td>0.720760</td>\n",
       "      <td>0.383248</td>\n",
       "      <td>-0.356977</td>\n",
       "      <td>0.603800</td>\n",
       "      <td>-0.483725</td>\n",
       "    </tr>\n",
       "    <tr>\n",
       "      <th>CHAS</th>\n",
       "      <td>-0.055892</td>\n",
       "      <td>-0.042697</td>\n",
       "      <td>0.062938</td>\n",
       "      <td>1.000000</td>\n",
       "      <td>0.091203</td>\n",
       "      <td>0.091251</td>\n",
       "      <td>0.086518</td>\n",
       "      <td>-0.099176</td>\n",
       "      <td>-0.007368</td>\n",
       "      <td>-0.035587</td>\n",
       "      <td>-0.121515</td>\n",
       "      <td>0.048788</td>\n",
       "      <td>-0.053929</td>\n",
       "      <td>0.175260</td>\n",
       "    </tr>\n",
       "    <tr>\n",
       "      <th>NOX</th>\n",
       "      <td>0.420972</td>\n",
       "      <td>-0.516604</td>\n",
       "      <td>0.763651</td>\n",
       "      <td>0.091203</td>\n",
       "      <td>1.000000</td>\n",
       "      <td>-0.302188</td>\n",
       "      <td>0.731470</td>\n",
       "      <td>-0.769230</td>\n",
       "      <td>0.611441</td>\n",
       "      <td>0.668023</td>\n",
       "      <td>0.188933</td>\n",
       "      <td>-0.380051</td>\n",
       "      <td>0.590879</td>\n",
       "      <td>-0.427321</td>\n",
       "    </tr>\n",
       "    <tr>\n",
       "      <th>RM</th>\n",
       "      <td>-0.219247</td>\n",
       "      <td>0.311991</td>\n",
       "      <td>-0.391676</td>\n",
       "      <td>0.091251</td>\n",
       "      <td>-0.302188</td>\n",
       "      <td>1.000000</td>\n",
       "      <td>-0.240265</td>\n",
       "      <td>0.205246</td>\n",
       "      <td>-0.209847</td>\n",
       "      <td>-0.292048</td>\n",
       "      <td>-0.355501</td>\n",
       "      <td>0.128069</td>\n",
       "      <td>-0.613808</td>\n",
       "      <td>0.695360</td>\n",
       "    </tr>\n",
       "    <tr>\n",
       "      <th>AGE</th>\n",
       "      <td>0.352734</td>\n",
       "      <td>-0.569537</td>\n",
       "      <td>0.644779</td>\n",
       "      <td>0.086518</td>\n",
       "      <td>0.731470</td>\n",
       "      <td>-0.240265</td>\n",
       "      <td>1.000000</td>\n",
       "      <td>-0.747881</td>\n",
       "      <td>0.456022</td>\n",
       "      <td>0.506456</td>\n",
       "      <td>0.261515</td>\n",
       "      <td>-0.273534</td>\n",
       "      <td>0.602339</td>\n",
       "      <td>-0.376955</td>\n",
       "    </tr>\n",
       "    <tr>\n",
       "      <th>DIS</th>\n",
       "      <td>-0.379670</td>\n",
       "      <td>0.664408</td>\n",
       "      <td>-0.708027</td>\n",
       "      <td>-0.099176</td>\n",
       "      <td>-0.769230</td>\n",
       "      <td>0.205246</td>\n",
       "      <td>-0.747881</td>\n",
       "      <td>1.000000</td>\n",
       "      <td>-0.494588</td>\n",
       "      <td>-0.534432</td>\n",
       "      <td>-0.232471</td>\n",
       "      <td>0.291512</td>\n",
       "      <td>-0.496996</td>\n",
       "      <td>0.249929</td>\n",
       "    </tr>\n",
       "    <tr>\n",
       "      <th>RAD</th>\n",
       "      <td>0.625505</td>\n",
       "      <td>-0.311948</td>\n",
       "      <td>0.595129</td>\n",
       "      <td>-0.007368</td>\n",
       "      <td>0.611441</td>\n",
       "      <td>-0.209847</td>\n",
       "      <td>0.456022</td>\n",
       "      <td>-0.494588</td>\n",
       "      <td>1.000000</td>\n",
       "      <td>0.910228</td>\n",
       "      <td>0.464741</td>\n",
       "      <td>-0.444413</td>\n",
       "      <td>0.488676</td>\n",
       "      <td>-0.381626</td>\n",
       "    </tr>\n",
       "    <tr>\n",
       "      <th>TAX</th>\n",
       "      <td>0.582764</td>\n",
       "      <td>-0.314563</td>\n",
       "      <td>0.720760</td>\n",
       "      <td>-0.035587</td>\n",
       "      <td>0.668023</td>\n",
       "      <td>-0.292048</td>\n",
       "      <td>0.506456</td>\n",
       "      <td>-0.534432</td>\n",
       "      <td>0.910228</td>\n",
       "      <td>1.000000</td>\n",
       "      <td>0.460853</td>\n",
       "      <td>-0.441808</td>\n",
       "      <td>0.543993</td>\n",
       "      <td>-0.468536</td>\n",
       "    </tr>\n",
       "    <tr>\n",
       "      <th>PTRATIO</th>\n",
       "      <td>0.289946</td>\n",
       "      <td>-0.391679</td>\n",
       "      <td>0.383248</td>\n",
       "      <td>-0.121515</td>\n",
       "      <td>0.188933</td>\n",
       "      <td>-0.355501</td>\n",
       "      <td>0.261515</td>\n",
       "      <td>-0.232471</td>\n",
       "      <td>0.464741</td>\n",
       "      <td>0.460853</td>\n",
       "      <td>1.000000</td>\n",
       "      <td>-0.177383</td>\n",
       "      <td>0.374044</td>\n",
       "      <td>-0.507787</td>\n",
       "    </tr>\n",
       "    <tr>\n",
       "      <th>B</th>\n",
       "      <td>-0.385064</td>\n",
       "      <td>0.175520</td>\n",
       "      <td>-0.356977</td>\n",
       "      <td>0.048788</td>\n",
       "      <td>-0.380051</td>\n",
       "      <td>0.128069</td>\n",
       "      <td>-0.273534</td>\n",
       "      <td>0.291512</td>\n",
       "      <td>-0.444413</td>\n",
       "      <td>-0.441808</td>\n",
       "      <td>-0.177383</td>\n",
       "      <td>1.000000</td>\n",
       "      <td>-0.366087</td>\n",
       "      <td>0.333461</td>\n",
       "    </tr>\n",
       "    <tr>\n",
       "      <th>LSTAT</th>\n",
       "      <td>0.455621</td>\n",
       "      <td>-0.412995</td>\n",
       "      <td>0.603800</td>\n",
       "      <td>-0.053929</td>\n",
       "      <td>0.590879</td>\n",
       "      <td>-0.613808</td>\n",
       "      <td>0.602339</td>\n",
       "      <td>-0.496996</td>\n",
       "      <td>0.488676</td>\n",
       "      <td>0.543993</td>\n",
       "      <td>0.374044</td>\n",
       "      <td>-0.366087</td>\n",
       "      <td>1.000000</td>\n",
       "      <td>-0.737663</td>\n",
       "    </tr>\n",
       "    <tr>\n",
       "      <th>MEDV</th>\n",
       "      <td>-0.388305</td>\n",
       "      <td>0.360445</td>\n",
       "      <td>-0.483725</td>\n",
       "      <td>0.175260</td>\n",
       "      <td>-0.427321</td>\n",
       "      <td>0.695360</td>\n",
       "      <td>-0.376955</td>\n",
       "      <td>0.249929</td>\n",
       "      <td>-0.381626</td>\n",
       "      <td>-0.468536</td>\n",
       "      <td>-0.507787</td>\n",
       "      <td>0.333461</td>\n",
       "      <td>-0.737663</td>\n",
       "      <td>1.000000</td>\n",
       "    </tr>\n",
       "  </tbody>\n",
       "</table>\n",
       "</div>"
      ],
      "text/plain": [
       "             CRIM        ZN     INDUS      CHAS       NOX        RM       AGE  \\\n",
       "CRIM     1.000000 -0.200469  0.406583 -0.055892  0.420972 -0.219247  0.352734   \n",
       "ZN      -0.200469  1.000000 -0.533828 -0.042697 -0.516604  0.311991 -0.569537   \n",
       "INDUS    0.406583 -0.533828  1.000000  0.062938  0.763651 -0.391676  0.644779   \n",
       "CHAS    -0.055892 -0.042697  0.062938  1.000000  0.091203  0.091251  0.086518   \n",
       "NOX      0.420972 -0.516604  0.763651  0.091203  1.000000 -0.302188  0.731470   \n",
       "RM      -0.219247  0.311991 -0.391676  0.091251 -0.302188  1.000000 -0.240265   \n",
       "AGE      0.352734 -0.569537  0.644779  0.086518  0.731470 -0.240265  1.000000   \n",
       "DIS     -0.379670  0.664408 -0.708027 -0.099176 -0.769230  0.205246 -0.747881   \n",
       "RAD      0.625505 -0.311948  0.595129 -0.007368  0.611441 -0.209847  0.456022   \n",
       "TAX      0.582764 -0.314563  0.720760 -0.035587  0.668023 -0.292048  0.506456   \n",
       "PTRATIO  0.289946 -0.391679  0.383248 -0.121515  0.188933 -0.355501  0.261515   \n",
       "B       -0.385064  0.175520 -0.356977  0.048788 -0.380051  0.128069 -0.273534   \n",
       "LSTAT    0.455621 -0.412995  0.603800 -0.053929  0.590879 -0.613808  0.602339   \n",
       "MEDV    -0.388305  0.360445 -0.483725  0.175260 -0.427321  0.695360 -0.376955   \n",
       "\n",
       "              DIS       RAD       TAX   PTRATIO         B     LSTAT      MEDV  \n",
       "CRIM    -0.379670  0.625505  0.582764  0.289946 -0.385064  0.455621 -0.388305  \n",
       "ZN       0.664408 -0.311948 -0.314563 -0.391679  0.175520 -0.412995  0.360445  \n",
       "INDUS   -0.708027  0.595129  0.720760  0.383248 -0.356977  0.603800 -0.483725  \n",
       "CHAS    -0.099176 -0.007368 -0.035587 -0.121515  0.048788 -0.053929  0.175260  \n",
       "NOX     -0.769230  0.611441  0.668023  0.188933 -0.380051  0.590879 -0.427321  \n",
       "RM       0.205246 -0.209847 -0.292048 -0.355501  0.128069 -0.613808  0.695360  \n",
       "AGE     -0.747881  0.456022  0.506456  0.261515 -0.273534  0.602339 -0.376955  \n",
       "DIS      1.000000 -0.494588 -0.534432 -0.232471  0.291512 -0.496996  0.249929  \n",
       "RAD     -0.494588  1.000000  0.910228  0.464741 -0.444413  0.488676 -0.381626  \n",
       "TAX     -0.534432  0.910228  1.000000  0.460853 -0.441808  0.543993 -0.468536  \n",
       "PTRATIO -0.232471  0.464741  0.460853  1.000000 -0.177383  0.374044 -0.507787  \n",
       "B        0.291512 -0.444413 -0.441808 -0.177383  1.000000 -0.366087  0.333461  \n",
       "LSTAT   -0.496996  0.488676  0.543993  0.374044 -0.366087  1.000000 -0.737663  \n",
       "MEDV     0.249929 -0.381626 -0.468536 -0.507787  0.333461 -0.737663  1.000000  "
      ]
     },
     "execution_count": 17,
     "metadata": {},
     "output_type": "execute_result"
    }
   ],
   "source": [
    "df2.corr()"
   ]
  },
  {
   "cell_type": "markdown",
   "metadata": {},
   "source": [
    "LSTAT, % lower status of the population, correlates negatively, which is not surprising.\n",
    "\n",
    "RM, the number of rooms, has the highest positive correlation"
   ]
  },
  {
   "cell_type": "code",
   "execution_count": 18,
   "metadata": {},
   "outputs": [
    {
     "data": {
      "text/plain": [
       "array([[1.        , 0.69535995],\n",
       "       [0.69535995, 1.        ]])"
      ]
     },
     "execution_count": 18,
     "metadata": {},
     "output_type": "execute_result"
    }
   ],
   "source": [
    "# are room numbers and value correlated?\n",
    "np.corrcoef(df[\"RM\"], target[\"MEDV\"])\n",
    "\n",
    "# note this is a matrix of correlation coefficients, you only need the top right one"
   ]
  },
  {
   "cell_type": "code",
   "execution_count": 19,
   "metadata": {},
   "outputs": [
    {
     "data": {
      "text/plain": [
       "Text(0, 0.5, 'House value ($1000s)')"
      ]
     },
     "execution_count": 19,
     "metadata": {},
     "output_type": "execute_result"
    },
    {
     "data": {
      "image/png": "[encoded data removed]",
      "text/plain": [
       "<Figure size 432x288 with 1 Axes>"
      ]
     },
     "metadata": {
      "needs_background": "light"
     },
     "output_type": "display_data"
    }
   ],
   "source": [
    "plt.scatter(df[\"RM\"], target[\"MEDV\"])\n",
    "plt.xlabel('Number of Rooms')\n",
    "plt.ylabel('House value ($1000s)')"
   ]
  },
  {
   "cell_type": "markdown",
   "metadata": {},
   "source": [
    "### Doing a linear regression using scipy"
   ]
  },
  {
   "cell_type": "code",
   "execution_count": 20,
   "metadata": {},
   "outputs": [],
   "source": [
    "from scipy import stats"
   ]
  },
  {
   "cell_type": "code",
   "execution_count": 21,
   "metadata": {},
   "outputs": [
    {
     "data": {
      "text/plain": [
       "\u001b[1;31mSignature:\u001b[0m \u001b[0mstats\u001b[0m\u001b[1;33m.\u001b[0m\u001b[0mlinregress\u001b[0m\u001b[1;33m(\u001b[0m\u001b[0mx\u001b[0m\u001b[1;33m,\u001b[0m \u001b[0my\u001b[0m\u001b[1;33m=\u001b[0m\u001b[1;32mNone\u001b[0m\u001b[1;33m)\u001b[0m\u001b[1;33m\u001b[0m\u001b[1;33m\u001b[0m\u001b[0m\n",
       "\u001b[1;31mDocstring:\u001b[0m\n",
       "Calculate a linear least-squares regression for two sets of measurements.\n",
       "\n",
       "Parameters\n",
       "----------\n",
       "x, y : array_like\n",
       "    Two sets of measurements.  Both arrays should have the same length.  If\n",
       "    only `x` is given (and ``y=None``), then it must be a two-dimensional\n",
       "    array where one dimension has length 2.  The two sets of measurements\n",
       "    are then found by splitting the array along the length-2 dimension.  In\n",
       "    the case where ``y=None`` and `x` is a 2x2 array, ``linregress(x)`` is\n",
       "    equivalent to ``linregress(x[0], x[1])``.\n",
       "\n",
       "Returns\n",
       "-------\n",
       "slope : float\n",
       "    Slope of the regression line.\n",
       "intercept : float\n",
       "    Intercept of the regression line.\n",
       "rvalue : float\n",
       "    Correlation coefficient.\n",
       "pvalue : float\n",
       "    Two-sided p-value for a hypothesis test whose null hypothesis is\n",
       "    that the slope is zero, using Wald Test with t-distribution of\n",
       "    the test statistic.\n",
       "stderr : float\n",
       "    Standard error of the estimated gradient.\n",
       "\n",
       "See also\n",
       "--------\n",
       ":func:`scipy.optimize.curve_fit` : Use non-linear\n",
       " least squares to fit a function to data.\n",
       ":func:`scipy.optimize.leastsq` : Minimize the sum of\n",
       " squares of a set of equations.\n",
       "\n",
       "Notes\n",
       "-----\n",
       "Missing values are considered pair-wise: if a value is missing in `x`,\n",
       "the corresponding value in `y` is masked.\n",
       "\n",
       "Examples\n",
       "--------\n",
       ">>> import matplotlib.pyplot as plt\n",
       ">>> from scipy import stats\n",
       "\n",
       "Generate some data:\n",
       "\n",
       ">>> np.random.seed(12345678)\n",
       ">>> x = np.random.random(10)\n",
       ">>> y = 1.6*x + np.random.random(10)\n",
       "\n",
       "Perform the linear regression:\n",
       "\n",
       ">>> slope, intercept, r_value, p_value, std_err = stats.linregress(x, y)\n",
       ">>> print(\"slope: %f    intercept: %f\" % (slope, intercept))\n",
       "slope: 1.944864    intercept: 0.268578\n",
       "\n",
       "To get coefficient of determination (R-squared):\n",
       "\n",
       ">>> print(\"R-squared: %f\" % r_value**2)\n",
       "R-squared: 0.735498\n",
       "\n",
       "Plot the data along with the fitted line:\n",
       "\n",
       ">>> plt.plot(x, y, 'o', label='original data')\n",
       ">>> plt.plot(x, intercept + slope*x, 'r', label='fitted line')\n",
       ">>> plt.legend()\n",
       ">>> plt.show()\n",
       "\n",
       "Example for the case where only x is provided as a 2x2 array:\n",
       "\n",
       ">>> x = np.array([[0, 1], [0, 2]])\n",
       ">>> r = stats.linregress(x)\n",
       ">>> r.slope, r.intercept\n",
       "(2.0, 0.0)\n",
       "\u001b[1;31mFile:\u001b[0m      c:\\users\\kara\\anaconda3\\lib\\site-packages\\scipy\\stats\\_stats_mstats_common.py\n",
       "\u001b[1;31mType:\u001b[0m      function\n"
      ]
     },
     "metadata": {},
     "output_type": "display_data"
    }
   ],
   "source": [
    "stats.linregress?"
   ]
  },
  {
   "cell_type": "code",
   "execution_count": 22,
   "metadata": {},
   "outputs": [],
   "source": [
    "slope, intercept, r_value, p_value, std_err = stats.linregress(df[\"RM\"],target[\"MEDV\"])"
   ]
  },
  {
   "cell_type": "markdown",
   "metadata": {},
   "source": [
    "this gives us the slope and intercept of the line, the corrlation (r_value)\n",
    "\n",
    "A low p-value (< 0.05) indicates that the linear regression is a good model\n",
    "\n",
    "the standard error is the standard deviation of the data from the model (as opposed to the standard deviation from the mean of the data)"
   ]
  },
  {
   "cell_type": "code",
   "execution_count": 23,
   "metadata": {},
   "outputs": [
    {
     "data": {
      "text/plain": [
       "9.102108981180306"
      ]
     },
     "execution_count": 23,
     "metadata": {},
     "output_type": "execute_result"
    }
   ],
   "source": [
    "slope"
   ]
  },
  {
   "cell_type": "code",
   "execution_count": 24,
   "metadata": {},
   "outputs": [
    {
     "data": {
      "text/plain": [
       "-34.67062077643854"
      ]
     },
     "execution_count": 24,
     "metadata": {},
     "output_type": "execute_result"
    }
   ],
   "source": [
    "intercept"
   ]
  },
  {
   "cell_type": "code",
   "execution_count": 25,
   "metadata": {},
   "outputs": [
    {
     "data": {
      "text/plain": [
       "0.695359947071539"
      ]
     },
     "execution_count": 25,
     "metadata": {},
     "output_type": "execute_result"
    }
   ],
   "source": [
    "r_value\n",
    "# note this is the same correlation value we got before"
   ]
  },
  {
   "cell_type": "code",
   "execution_count": 26,
   "metadata": {},
   "outputs": [
    {
     "data": {
      "text/plain": [
       "2.487228871008377e-74"
      ]
     },
     "execution_count": 26,
     "metadata": {},
     "output_type": "execute_result"
    }
   ],
   "source": [
    "p_value\n",
    "# is this good? Do we have confidence in our linear model?"
   ]
  },
  {
   "cell_type": "code",
   "execution_count": 27,
   "metadata": {},
   "outputs": [
    {
     "data": {
      "text/plain": [
       "0.41902656012134054"
      ]
     },
     "execution_count": 27,
     "metadata": {},
     "output_type": "execute_result"
    }
   ],
   "source": [
    "std_err"
   ]
  },
  {
   "cell_type": "code",
   "execution_count": 28,
   "metadata": {},
   "outputs": [
    {
     "data": {
      "text/plain": [
       "Text(0, 0.5, 'House value ($1000s)')"
      ]
     },
     "execution_count": 28,
     "metadata": {},
     "output_type": "execute_result"
    },
    {
     "data": {
      "image/png": "[encoded data removed]",
      "text/plain": [
       "<Figure size 432x288 with 1 Axes>"
      ]
     },
     "metadata": {
      "needs_background": "light"
     },
     "output_type": "display_data"
    }
   ],
   "source": [
    "# let's plot the data with the linear fit and see how it looks\n",
    "plt.plot(df[\"RM\"], slope*df[\"RM\"]+intercept, 'k--')\n",
    "plt.scatter(df[\"RM\"], target[\"MEDV\"])\n",
    "plt.xlabel('Number of Rooms')\n",
    "plt.ylabel('House value ($1000s)')"
   ]
  },
  {
   "cell_type": "code",
   "execution_count": null,
   "metadata": {},
   "outputs": [],
   "source": []
  },
  {
   "cell_type": "markdown",
   "metadata": {},
   "source": [
    "### Doing a linear regression using statsmodels"
   ]
  },
  {
   "cell_type": "markdown",
   "metadata": {},
   "source": [
    "Statsmodels is a powerful statistics package that is very popular\n",
    "\n",
    "See https://towardsdatascience.com/simple-and-multiple-linear-regression-in-python-c928425168f9\n",
    "\n",
    "and\n",
    "\n",
    "https://www.statsmodels.org/dev/index.html\n",
    "\n",
    "http://www.statsmodels.org/dev/examples/index.html#linear-regression-models"
   ]
  },
  {
   "cell_type": "code",
   "execution_count": 29,
   "metadata": {},
   "outputs": [],
   "source": [
    "import statsmodels.api as sm"
   ]
  },
  {
   "cell_type": "code",
   "execution_count": 30,
   "metadata": {},
   "outputs": [
    {
     "name": "stdout",
     "output_type": "stream",
     "text": [
      "Help on class OLS in module statsmodels.regression.linear_model:\n",
      "\n",
      "class OLS(WLS)\n",
      " |  OLS(endog, exog=None, missing='none', hasconst=None, **kwargs)\n",
      " |  \n",
      " |  Ordinary Least Squares\n",
      " |  \n",
      " |  Parameters\n",
      " |  ----------\n",
      " |  endog : array_like\n",
      " |      A 1-d endogenous response variable. The dependent variable.\n",
      " |  exog : array_like\n",
      " |      A nobs x k array where `nobs` is the number of observations and `k`\n",
      " |      is the number of regressors. An intercept is not included by default\n",
      " |      and should be added by the user. See\n",
      " |      :func:`statsmodels.tools.add_constant`.\n",
      " |  missing : str\n",
      " |      Available options are 'none', 'drop', and 'raise'. If 'none', no nan\n",
      " |      checking is done. If 'drop', any observations with nans are dropped.\n",
      " |      If 'raise', an error is raised. Default is 'none'.\n",
      " |  hasconst : None or bool\n",
      " |      Indicates whether the RHS includes a user-supplied constant. If True,\n",
      " |      a constant is not checked for and k_constant is set to 1 and all\n",
      " |      result statistics are calculated as if a constant is present. If\n",
      " |      False, a constant is not checked for and k_constant is set to 0.\n",
      " |  **kwargs\n",
      " |      Extra arguments that are used to set model properties when using the\n",
      " |      formula interface.\n",
      " |  \n",
      " |  Attributes\n",
      " |  ----------\n",
      " |  weights : scalar\n",
      " |      Has an attribute weights = array(1.0) due to inheritance from WLS.\n",
      " |  \n",
      " |  See Also\n",
      " |  --------\n",
      " |  WLS : Fit a linear model using Weighted Least Squares.\n",
      " |  GLS : Fit a linear model using Generalized Least Squares.\n",
      " |  \n",
      " |  Notes\n",
      " |  -----\n",
      " |  No constant is added by the model unless you are using formulas.\n",
      " |  \n",
      " |  Examples\n",
      " |  --------\n",
      " |  >>> import statsmodels.api as sm\n",
      " |  >>> Y = [1,3,4,5,2,3,4]\n",
      " |  >>> X = range(1,8)\n",
      " |  >>> X = sm.add_constant(X)\n",
      " |  >>> model = sm.OLS(Y,X)\n",
      " |  >>> results = model.fit()\n",
      " |  >>> results.params\n",
      " |  array([ 2.14285714,  0.25      ])\n",
      " |  \n",
      " |  >>> results.tvalues\n",
      " |  array([ 1.87867287,  0.98019606])\n",
      " |  \n",
      " |  >>> print(results.t_test([1, 0]))\n",
      " |  <T test: effect=array([ 2.14285714]), sd=array([[ 1.14062282]]), t=array([[ 1.87867287]]), p=array([[ 0.05953974]]), df_denom=5>\n",
      " |  >>> print(results.f_test(np.identity(2)))\n",
      " |  <F test: F=array([[ 19.46078431]]), p=[[ 0.00437251]], df_denom=5, df_num=2>\n",
      " |  \n",
      " |  Method resolution order:\n",
      " |      OLS\n",
      " |      WLS\n",
      " |      RegressionModel\n",
      " |      statsmodels.base.model.LikelihoodModel\n",
      " |      statsmodels.base.model.Model\n",
      " |      builtins.object\n",
      " |  \n",
      " |  Methods defined here:\n",
      " |  \n",
      " |  __init__(self, endog, exog=None, missing='none', hasconst=None, **kwargs)\n",
      " |      Initialize self.  See help(type(self)) for accurate signature.\n",
      " |  \n",
      " |  fit_regularized(self, method='elastic_net', alpha=0.0, L1_wt=1.0, start_params=None, profile_scale=False, refit=False, **kwargs)\n",
      " |      Return a regularized fit to a linear regression model.\n",
      " |      \n",
      " |      Parameters\n",
      " |      ----------\n",
      " |      method : str\n",
      " |          Either 'elastic_net' or 'sqrt_lasso'.\n",
      " |      alpha : scalar or array_like\n",
      " |          The penalty weight.  If a scalar, the same penalty weight\n",
      " |          applies to all variables in the model.  If a vector, it\n",
      " |          must have the same length as `params`, and contains a\n",
      " |          penalty weight for each coefficient.\n",
      " |      L1_wt : scalar\n",
      " |          The fraction of the penalty given to the L1 penalty term.\n",
      " |          Must be between 0 and 1 (inclusive).  If 0, the fit is a\n",
      " |          ridge fit, if 1 it is a lasso fit.\n",
      " |      start_params : array_like\n",
      " |          Starting values for ``params``.\n",
      " |      profile_scale : bool\n",
      " |          If True the penalized fit is computed using the profile\n",
      " |          (concentrated) log-likelihood for the Gaussian model.\n",
      " |          Otherwise the fit uses the residual sum of squares.\n",
      " |      refit : bool\n",
      " |          If True, the model is refit using only the variables that\n",
      " |          have non-zero coefficients in the regularized fit.  The\n",
      " |          refitted model is not regularized.\n",
      " |      **kwargs\n",
      " |          Additional keyword arguments that contain information used when\n",
      " |          constructing a model using the formula interface.\n",
      " |      \n",
      " |      Returns\n",
      " |      -------\n",
      " |      statsmodels.base.elastic_net.RegularizedResults\n",
      " |          The regularized results.\n",
      " |      \n",
      " |      Notes\n",
      " |      -----\n",
      " |      The elastic net uses a combination of L1 and L2 penalties.\n",
      " |      The implementation closely follows the glmnet package in R.\n",
      " |      \n",
      " |      The function that is minimized is:\n",
      " |      \n",
      " |      .. math::\n",
      " |      \n",
      " |          0.5*RSS/n + alpha*((1-L1\\_wt)*|params|_2^2/2 + L1\\_wt*|params|_1)\n",
      " |      \n",
      " |      where RSS is the usual regression sum of squares, n is the\n",
      " |      sample size, and :math:`|*|_1` and :math:`|*|_2` are the L1 and L2\n",
      " |      norms.\n",
      " |      \n",
      " |      For WLS and GLS, the RSS is calculated using the whitened endog and\n",
      " |      exog data.\n",
      " |      \n",
      " |      Post-estimation results are based on the same data used to\n",
      " |      select variables, hence may be subject to overfitting biases.\n",
      " |      \n",
      " |      The elastic_net method uses the following keyword arguments:\n",
      " |      \n",
      " |      maxiter : int\n",
      " |          Maximum number of iterations\n",
      " |      cnvrg_tol : float\n",
      " |          Convergence threshold for line searches\n",
      " |      zero_tol : float\n",
      " |          Coefficients below this threshold are treated as zero.\n",
      " |      \n",
      " |      The square root lasso approach is a variation of the Lasso\n",
      " |      that is largely self-tuning (the optimal tuning parameter\n",
      " |      does not depend on the standard deviation of the regression\n",
      " |      errors).  If the errors are Gaussian, the tuning parameter\n",
      " |      can be taken to be\n",
      " |      \n",
      " |      alpha = 1.1 * np.sqrt(n) * norm.ppf(1 - 0.05 / (2 * p))\n",
      " |      \n",
      " |      where n is the sample size and p is the number of predictors.\n",
      " |      \n",
      " |      The square root lasso uses the following keyword arguments:\n",
      " |      \n",
      " |      zero_tol : float\n",
      " |          Coefficients below this threshold are treated as zero.\n",
      " |      \n",
      " |      The cvxopt module is required to estimate model using the square root\n",
      " |      lasso.\n",
      " |      \n",
      " |      References\n",
      " |      ----------\n",
      " |      .. [*] Friedman, Hastie, Tibshirani (2008).  Regularization paths for\n",
      " |         generalized linear models via coordinate descent.  Journal of\n",
      " |         Statistical Software 33(1), 1-22 Feb 2010.\n",
      " |      \n",
      " |      .. [*] A Belloni, V Chernozhukov, L Wang (2011).  Square-root Lasso:\n",
      " |         pivotal recovery of sparse signals via conic programming.\n",
      " |         Biometrika 98(4), 791-806. https://arxiv.org/pdf/1009.5689.pdf\n",
      " |  \n",
      " |  hessian(self, params, scale=None)\n",
      " |      Evaluate the Hessian function at a given point.\n",
      " |      \n",
      " |      Parameters\n",
      " |      ----------\n",
      " |      params : array_like\n",
      " |          The parameter vector at which the Hessian is computed.\n",
      " |      scale : float or None\n",
      " |          If None, return the profile (concentrated) log likelihood\n",
      " |          (profiled over the scale parameter), else return the\n",
      " |          log-likelihood using the given scale value.\n",
      " |      \n",
      " |      Returns\n",
      " |      -------\n",
      " |      ndarray\n",
      " |          The Hessian matrix.\n",
      " |  \n",
      " |  hessian_factor(self, params, scale=None, observed=True)\n",
      " |      Calculate the weights for the Hessian.\n",
      " |      \n",
      " |      Parameters\n",
      " |      ----------\n",
      " |      params : ndarray\n",
      " |          The parameter at which Hessian is evaluated.\n",
      " |      scale : None or float\n",
      " |          If scale is None, then the default scale will be calculated.\n",
      " |          Default scale is defined by `self.scaletype` and set in fit.\n",
      " |          If scale is not None, then it is used as a fixed scale.\n",
      " |      observed : bool\n",
      " |          If True, then the observed Hessian is returned. If false then the\n",
      " |          expected information matrix is returned.\n",
      " |      \n",
      " |      Returns\n",
      " |      -------\n",
      " |      ndarray\n",
      " |          A 1d weight vector used in the calculation of the Hessian.\n",
      " |          The hessian is obtained by `(exog.T * hessian_factor).dot(exog)`.\n",
      " |  \n",
      " |  loglike(self, params, scale=None)\n",
      " |      The likelihood function for the OLS model.\n",
      " |      \n",
      " |      Parameters\n",
      " |      ----------\n",
      " |      params : array_like\n",
      " |          The coefficients with which to estimate the log-likelihood.\n",
      " |      scale : float or None\n",
      " |          If None, return the profile (concentrated) log likelihood\n",
      " |          (profiled over the scale parameter), else return the\n",
      " |          log-likelihood using the given scale value.\n",
      " |      \n",
      " |      Returns\n",
      " |      -------\n",
      " |      float\n",
      " |          The likelihood function evaluated at params.\n",
      " |  \n",
      " |  score(self, params, scale=None)\n",
      " |      Evaluate the score function at a given point.\n",
      " |      \n",
      " |      The score corresponds to the profile (concentrated)\n",
      " |      log-likelihood in which the scale parameter has been profiled\n",
      " |      out.\n",
      " |      \n",
      " |      Parameters\n",
      " |      ----------\n",
      " |      params : array_like\n",
      " |          The parameter vector at which the score function is\n",
      " |          computed.\n",
      " |      scale : float or None\n",
      " |          If None, return the profile (concentrated) log likelihood\n",
      " |          (profiled over the scale parameter), else return the\n",
      " |          log-likelihood using the given scale value.\n",
      " |      \n",
      " |      Returns\n",
      " |      -------\n",
      " |      ndarray\n",
      " |          The score vector.\n",
      " |  \n",
      " |  whiten(self, x)\n",
      " |      OLS model whitener does nothing.\n",
      " |      \n",
      " |      Parameters\n",
      " |      ----------\n",
      " |      x : array_like\n",
      " |          Data to be whitened.\n",
      " |      \n",
      " |      Returns\n",
      " |      -------\n",
      " |      array_like\n",
      " |          The input array unmodified.\n",
      " |      \n",
      " |      See Also\n",
      " |      --------\n",
      " |      OLS : Fit a linear model using Ordinary Least Squares.\n",
      " |  \n",
      " |  ----------------------------------------------------------------------\n",
      " |  Methods inherited from RegressionModel:\n",
      " |  \n",
      " |  fit(self, method='pinv', cov_type='nonrobust', cov_kwds=None, use_t=None, **kwargs)\n",
      " |      Full fit of the model.\n",
      " |      \n",
      " |      The results include an estimate of covariance matrix, (whitened)\n",
      " |      residuals and an estimate of scale.\n",
      " |      \n",
      " |      Parameters\n",
      " |      ----------\n",
      " |      method : str, optional\n",
      " |          Can be \"pinv\", \"qr\".  \"pinv\" uses the Moore-Penrose pseudoinverse\n",
      " |          to solve the least squares problem. \"qr\" uses the QR\n",
      " |          factorization.\n",
      " |      cov_type : str, optional\n",
      " |          See `regression.linear_model.RegressionResults` for a description\n",
      " |          of the available covariance estimators.\n",
      " |      cov_kwds : list or None, optional\n",
      " |          See `linear_model.RegressionResults.get_robustcov_results` for a\n",
      " |          description required keywords for alternative covariance\n",
      " |          estimators.\n",
      " |      use_t : bool, optional\n",
      " |          Flag indicating to use the Student's t distribution when computing\n",
      " |          p-values.  Default behavior depends on cov_type. See\n",
      " |          `linear_model.RegressionResults.get_robustcov_results` for\n",
      " |          implementation details.\n",
      " |      **kwargs\n",
      " |          Additional keyword arguments that contain information used when\n",
      " |          constructing a model using the formula interface.\n",
      " |      \n",
      " |      Returns\n",
      " |      -------\n",
      " |      RegressionResults\n",
      " |          The model estimation results.\n",
      " |      \n",
      " |      See Also\n",
      " |      --------\n",
      " |      RegressionResults\n",
      " |          The results container.\n",
      " |      RegressionResults.get_robustcov_results\n",
      " |          A method to change the covariance estimator used when fitting the\n",
      " |          model.\n",
      " |      \n",
      " |      Notes\n",
      " |      -----\n",
      " |      The fit method uses the pseudoinverse of the design/exogenous variables\n",
      " |      to solve the least squares minimization.\n",
      " |  \n",
      " |  get_distribution(self, params, scale, exog=None, dist_class=None)\n",
      " |      Construct a random number generator for the predictive distribution.\n",
      " |      \n",
      " |      Parameters\n",
      " |      ----------\n",
      " |      params : array_like\n",
      " |          The model parameters (regression coefficients).\n",
      " |      scale : scalar\n",
      " |          The variance parameter.\n",
      " |      exog : array_like\n",
      " |          The predictor variable matrix.\n",
      " |      dist_class : class\n",
      " |          A random number generator class.  Must take 'loc' and 'scale'\n",
      " |          as arguments and return a random number generator implementing\n",
      " |          an ``rvs`` method for simulating random values. Defaults to normal.\n",
      " |      \n",
      " |      Returns\n",
      " |      -------\n",
      " |      gen\n",
      " |          Frozen random number generator object with mean and variance\n",
      " |          determined by the fitted linear model.  Use the ``rvs`` method\n",
      " |          to generate random values.\n",
      " |      \n",
      " |      Notes\n",
      " |      -----\n",
      " |      Due to the behavior of ``scipy.stats.distributions objects``,\n",
      " |      the returned random number generator must be called with\n",
      " |      ``gen.rvs(n)`` where ``n`` is the number of observations in\n",
      " |      the data set used to fit the model.  If any other value is\n",
      " |      used for ``n``, misleading results will be produced.\n",
      " |  \n",
      " |  initialize(self)\n",
      " |      Initialize model components.\n",
      " |  \n",
      " |  predict(self, params, exog=None)\n",
      " |      Return linear predicted values from a design matrix.\n",
      " |      \n",
      " |      Parameters\n",
      " |      ----------\n",
      " |      params : array_like\n",
      " |          Parameters of a linear model.\n",
      " |      exog : array_like, optional\n",
      " |          Design / exogenous data. Model exog is used if None.\n",
      " |      \n",
      " |      Returns\n",
      " |      -------\n",
      " |      array_like\n",
      " |          An array of fitted values.\n",
      " |      \n",
      " |      Notes\n",
      " |      -----\n",
      " |      If the model has not yet been fit, params is not optional.\n",
      " |  \n",
      " |  ----------------------------------------------------------------------\n",
      " |  Data descriptors inherited from RegressionModel:\n",
      " |  \n",
      " |  df_model\n",
      " |      The model degree of freedom.\n",
      " |      \n",
      " |      The dof is defined as the rank of the regressor matrix minus 1 if a\n",
      " |      constant is included.\n",
      " |  \n",
      " |  df_resid\n",
      " |      The residual degree of freedom.\n",
      " |      \n",
      " |      The dof is defined as the number of observations minus the rank of\n",
      " |      the regressor matrix.\n",
      " |  \n",
      " |  ----------------------------------------------------------------------\n",
      " |  Methods inherited from statsmodels.base.model.LikelihoodModel:\n",
      " |  \n",
      " |  information(self, params)\n",
      " |      Fisher information matrix of model.\n",
      " |      \n",
      " |      Returns -1 * Hessian of the log-likelihood evaluated at params.\n",
      " |      \n",
      " |      Parameters\n",
      " |      ----------\n",
      " |      params : ndarray\n",
      " |          The model parameters.\n",
      " |  \n",
      " |  ----------------------------------------------------------------------\n",
      " |  Class methods inherited from statsmodels.base.model.Model:\n",
      " |  \n",
      " |  from_formula(formula, data, subset=None, drop_cols=None, *args, **kwargs) from builtins.type\n",
      " |      Create a Model from a formula and dataframe.\n",
      " |      \n",
      " |      Parameters\n",
      " |      ----------\n",
      " |      formula : str or generic Formula object\n",
      " |          The formula specifying the model.\n",
      " |      data : array_like\n",
      " |          The data for the model. See Notes.\n",
      " |      subset : array_like\n",
      " |          An array-like object of booleans, integers, or index values that\n",
      " |          indicate the subset of df to use in the model. Assumes df is a\n",
      " |          `pandas.DataFrame`.\n",
      " |      drop_cols : array_like\n",
      " |          Columns to drop from the design matrix.  Cannot be used to\n",
      " |          drop terms involving categoricals.\n",
      " |      *args\n",
      " |          Additional positional argument that are passed to the model.\n",
      " |      **kwargs\n",
      " |          These are passed to the model with one exception. The\n",
      " |          ``eval_env`` keyword is passed to patsy. It can be either a\n",
      " |          :class:`patsy:patsy.EvalEnvironment` object or an integer\n",
      " |          indicating the depth of the namespace to use. For example, the\n",
      " |          default ``eval_env=0`` uses the calling namespace. If you wish\n",
      " |          to use a \"clean\" environment set ``eval_env=-1``.\n",
      " |      \n",
      " |      Returns\n",
      " |      -------\n",
      " |      model\n",
      " |          The model instance.\n",
      " |      \n",
      " |      Notes\n",
      " |      -----\n",
      " |      data must define __getitem__ with the keys in the formula terms\n",
      " |      args and kwargs are passed on to the model instantiation. E.g.,\n",
      " |      a numpy structured or rec array, a dictionary, or a pandas DataFrame.\n",
      " |  \n",
      " |  ----------------------------------------------------------------------\n",
      " |  Readonly properties inherited from statsmodels.base.model.Model:\n",
      " |  \n",
      " |  endog_names\n",
      " |      Names of endogenous variables.\n",
      " |  \n",
      " |  exog_names\n",
      " |      Names of exogenous variables.\n",
      " |  \n",
      " |  ----------------------------------------------------------------------\n",
      " |  Data descriptors inherited from statsmodels.base.model.Model:\n",
      " |  \n",
      " |  __dict__\n",
      " |      dictionary for instance variables (if defined)\n",
      " |  \n",
      " |  __weakref__\n",
      " |      list of weak references to the object (if defined)\n",
      "\n"
     ]
    }
   ],
   "source": [
    "# look at the helpfiles for OLS, ordinary least squares fitting, aka linear fitting\n",
    "help(sm.OLS)"
   ]
  },
  {
   "cell_type": "code",
   "execution_count": 31,
   "metadata": {},
   "outputs": [],
   "source": [
    "# same data as before:\n",
    "X = df[\"RM\"] # what we think the cost depends on, rooms\n",
    "y = target[\"MEDV\"]"
   ]
  },
  {
   "cell_type": "code",
   "execution_count": 32,
   "metadata": {},
   "outputs": [],
   "source": [
    "# Note y, the target of what we are fitting to, goes first:\n",
    "model = sm.OLS(y, X).fit()\n",
    "\n",
    "# this is fitting y = aX, with no constant, i.e. using an intercept of zero"
   ]
  },
  {
   "cell_type": "code",
   "execution_count": 33,
   "metadata": {},
   "outputs": [
    {
     "data": {
      "text/plain": [
       "RM    3.65335\n",
       "dtype: float64"
      ]
     },
     "execution_count": 33,
     "metadata": {},
     "output_type": "execute_result"
    }
   ],
   "source": [
    "model.params"
   ]
  },
  {
   "cell_type": "code",
   "execution_count": 34,
   "metadata": {},
   "outputs": [
    {
     "data": {
      "text/html": [
       "<table class=\"simpletable\">\n",
       "<caption>OLS Regression Results</caption>\n",
       "<tr>\n",
       "  <th>Dep. Variable:</th>          <td>MEDV</td>       <th>  R-squared (uncentered):</th>      <td>   0.901</td> \n",
       "</tr>\n",
       "<tr>\n",
       "  <th>Model:</th>                   <td>OLS</td>       <th>  Adj. R-squared (uncentered):</th> <td>   0.901</td> \n",
       "</tr>\n",
       "<tr>\n",
       "  <th>Method:</th>             <td>Least Squares</td>  <th>  F-statistic:       </th>          <td>   4615.</td> \n",
       "</tr>\n",
       "<tr>\n",
       "  <th>Date:</th>             <td>Sun, 28 Mar 2021</td> <th>  Prob (F-statistic):</th>          <td>3.74e-256</td>\n",
       "</tr>\n",
       "<tr>\n",
       "  <th>Time:</th>                 <td>14:34:04</td>     <th>  Log-Likelihood:    </th>          <td> -1747.1</td> \n",
       "</tr>\n",
       "<tr>\n",
       "  <th>No. Observations:</th>      <td>   506</td>      <th>  AIC:               </th>          <td>   3496.</td> \n",
       "</tr>\n",
       "<tr>\n",
       "  <th>Df Residuals:</th>          <td>   505</td>      <th>  BIC:               </th>          <td>   3500.</td> \n",
       "</tr>\n",
       "<tr>\n",
       "  <th>Df Model:</th>              <td>     1</td>      <th>                     </th>              <td> </td>    \n",
       "</tr>\n",
       "<tr>\n",
       "  <th>Covariance Type:</th>      <td>nonrobust</td>    <th>                     </th>              <td> </td>    \n",
       "</tr>\n",
       "</table>\n",
       "<table class=\"simpletable\">\n",
       "<tr>\n",
       "   <td></td>     <th>coef</th>     <th>std err</th>      <th>t</th>      <th>P>|t|</th>  <th>[0.025</th>    <th>0.975]</th>  \n",
       "</tr>\n",
       "<tr>\n",
       "  <th>RM</th> <td>    3.6534</td> <td>    0.054</td> <td>   67.930</td> <td> 0.000</td> <td>    3.548</td> <td>    3.759</td>\n",
       "</tr>\n",
       "</table>\n",
       "<table class=\"simpletable\">\n",
       "<tr>\n",
       "  <th>Omnibus:</th>       <td>83.295</td> <th>  Durbin-Watson:     </th> <td>   0.493</td>\n",
       "</tr>\n",
       "<tr>\n",
       "  <th>Prob(Omnibus):</th> <td> 0.000</td> <th>  Jarque-Bera (JB):  </th> <td> 152.507</td>\n",
       "</tr>\n",
       "<tr>\n",
       "  <th>Skew:</th>          <td> 0.955</td> <th>  Prob(JB):          </th> <td>7.65e-34</td>\n",
       "</tr>\n",
       "<tr>\n",
       "  <th>Kurtosis:</th>      <td> 4.894</td> <th>  Cond. No.          </th> <td>    1.00</td>\n",
       "</tr>\n",
       "</table><br/><br/>Warnings:<br/>[1] Standard Errors assume that the covariance matrix of the errors is correctly specified."
      ],
      "text/plain": [
       "<class 'statsmodels.iolib.summary.Summary'>\n",
       "\"\"\"\n",
       "                                 OLS Regression Results                                \n",
       "=======================================================================================\n",
       "Dep. Variable:                   MEDV   R-squared (uncentered):                   0.901\n",
       "Model:                            OLS   Adj. R-squared (uncentered):              0.901\n",
       "Method:                 Least Squares   F-statistic:                              4615.\n",
       "Date:                Sun, 28 Mar 2021   Prob (F-statistic):                   3.74e-256\n",
       "Time:                        14:34:04   Log-Likelihood:                         -1747.1\n",
       "No. Observations:                 506   AIC:                                      3496.\n",
       "Df Residuals:                     505   BIC:                                      3500.\n",
       "Df Model:                           1                                                  \n",
       "Covariance Type:            nonrobust                                                  \n",
       "==============================================================================\n",
       "                 coef    std err          t      P>|t|      [0.025      0.975]\n",
       "------------------------------------------------------------------------------\n",
       "RM             3.6534      0.054     67.930      0.000       3.548       3.759\n",
       "==============================================================================\n",
       "Omnibus:                       83.295   Durbin-Watson:                   0.493\n",
       "Prob(Omnibus):                  0.000   Jarque-Bera (JB):              152.507\n",
       "Skew:                           0.955   Prob(JB):                     7.65e-34\n",
       "Kurtosis:                       4.894   Cond. No.                         1.00\n",
       "==============================================================================\n",
       "\n",
       "Warnings:\n",
       "[1] Standard Errors assume that the covariance matrix of the errors is correctly specified.\n",
       "\"\"\""
      ]
     },
     "execution_count": 34,
     "metadata": {},
     "output_type": "execute_result"
    }
   ],
   "source": [
    "model.summary()"
   ]
  },
  {
   "cell_type": "code",
   "execution_count": 35,
   "metadata": {},
   "outputs": [],
   "source": [
    "predictions = model.predict(X) # make the predictions by the model"
   ]
  },
  {
   "cell_type": "code",
   "execution_count": 73,
   "metadata": {},
   "outputs": [
    {
     "data": {
      "text/plain": [
       "Text(0, 0.5, 'House value ($1000s)')"
      ]
     },
     "execution_count": 73,
     "metadata": {},
     "output_type": "execute_result"
    },
    {
     "data": {
      "image/png": "[encoded data removed]",
      "text/plain": [
       "<Figure size 432x288 with 1 Axes>"
      ]
     },
     "metadata": {
      "needs_background": "light"
     },
     "output_type": "display_data"
    }
   ],
   "source": [
    "# let's plot the result like we did before\n",
    "\n",
    "plt.plot(X,predictions, 'k--')\n",
    "plt.scatter(df[\"RM\"], target[\"MEDV\"])\n",
    "plt.xlabel('Number of Rooms')\n",
    "plt.ylabel('House value ($1000s)')\n",
    "\n",
    "# this is not a very good fit, because we assumed the intercept of the line was zero"
   ]
  },
  {
   "cell_type": "markdown",
   "metadata": {},
   "source": [
    "# Lab 10.2"
   ]
  },
  {
   "cell_type": "markdown",
   "metadata": {},
   "source": [
    "**E.1** What kind of thing is movies? How do you know?"
   ]
  },
  {
   "cell_type": "code",
   "execution_count": 37,
   "metadata": {},
   "outputs": [],
   "source": [
    "#movies is a dataframe, I used '?' to check and see."
   ]
  },
  {
   "cell_type": "markdown",
   "metadata": {},
   "source": [
    "**E.2**  What does it mean that year and duration in movies are negatively correlated? Plot these two variables togther and explain."
   ]
  },
  {
   "cell_type": "code",
   "execution_count": 38,
   "metadata": {},
   "outputs": [
    {
     "data": {
      "text/plain": [
       "[<matplotlib.lines.Line2D at 0x142159192e0>]"
      ]
     },
     "execution_count": 38,
     "metadata": {},
     "output_type": "execute_result"
    },
    {
     "data": {
      "image/png": "[encoded data removed]",
      "text/plain": [
       "<Figure size 432x288 with 1 Axes>"
      ]
     },
     "metadata": {
      "needs_background": "light"
     },
     "output_type": "display_data"
    }
   ],
   "source": [
    "#It means that as time goes on movies get shorter.\n",
    "plt.plot(movies['Year'], movies['Duration'])"
   ]
  },
  {
   "cell_type": "markdown",
   "metadata": {},
   "source": [
    "**E.3** Which pairs of variables in the movies dataset have the highest correlation? What might explain this?"
   ]
  },
  {
   "cell_type": "code",
   "execution_count": 39,
   "metadata": {},
   "outputs": [],
   "source": [
    "#It looks like facebook likes cast total - by facebook likes actor 1. I supposed the marketing team for those films must have been going after the cast, they had a high marketing budget, or the cast really liked the promoting the film on social media - modern marketing. The correlation was 0.95, so it was particularly high."
   ]
  },
  {
   "cell_type": "markdown",
   "metadata": {},
   "source": [
    "**E.4** Remake the house value vs. number of rooms plot and write the equation of the fitted line the title or as an annotation"
   ]
  },
  {
   "cell_type": "code",
   "execution_count": 45,
   "metadata": {},
   "outputs": [
    {
     "data": {
      "text/plain": [
       "Text(0.5, 1.0, 'y = 9.10x - 34.67')"
      ]
     },
     "execution_count": 45,
     "metadata": {},
     "output_type": "execute_result"
    },
    {
     "data": {
      "image/png": "[encoded data removed]",
      "text/plain": [
       "<Figure size 432x288 with 1 Axes>"
      ]
     },
     "metadata": {
      "needs_background": "light"
     },
     "output_type": "display_data"
    }
   ],
   "source": [
    "plt.scatter(df['RM'], target['MEDV'], color = 'red')\n",
    "plt.plot(df['RM'], slope*df['RM']+intercept, color = 'black')\n",
    "plt.xlabel('Number of Rooms')\n",
    "plt.ylabel('Value of House ($1000s)')\n",
    "plt.title('y = 9.10x - 34.67')"
   ]
  },
  {
   "cell_type": "markdown",
   "metadata": {},
   "source": [
    "**E.5** Following the same method, make a linear model for the house value as a function of the LSTAT (% lower status of the population). Plot your result and the resulting model, and annotate your result with the model equation. How good is this model compared to the one with the number of rooms? Use the statistcs returned by the linear regression function to support your argument."
   ]
  },
  {
   "cell_type": "code",
   "execution_count": 46,
   "metadata": {},
   "outputs": [
    {
     "data": {
      "text/plain": [
       "Text(0, 0.5, 'Value of House ($1000s)')"
      ]
     },
     "execution_count": 46,
     "metadata": {},
     "output_type": "execute_result"
    },
    {
     "data": {
      "image/png": "[encoded data removed]",
      "text/plain": [
       "<Figure size 432x288 with 1 Axes>"
      ]
     },
     "metadata": {
      "needs_background": "light"
     },
     "output_type": "display_data"
    }
   ],
   "source": [
    "plt.scatter(df['LSTAT'], target['MEDV'], color = 'red')\n",
    "plt.xlabel('% Lower Status of the Population')\n",
    "plt.ylabel('Value of House ($1000s)')"
   ]
  },
  {
   "cell_type": "code",
   "execution_count": 57,
   "metadata": {},
   "outputs": [],
   "source": [
    "slope, intercept, r_value, p_value, std_err = stats.linregress(df[\"LSTAT\"],target[\"MEDV\"])"
   ]
  },
  {
   "cell_type": "code",
   "execution_count": 58,
   "metadata": {},
   "outputs": [
    {
     "data": {
      "text/plain": [
       "-0.9500493537579909"
      ]
     },
     "execution_count": 58,
     "metadata": {},
     "output_type": "execute_result"
    }
   ],
   "source": [
    "slope"
   ]
  },
  {
   "cell_type": "code",
   "execution_count": 59,
   "metadata": {},
   "outputs": [
    {
     "data": {
      "text/plain": [
       "34.55384087938311"
      ]
     },
     "execution_count": 59,
     "metadata": {},
     "output_type": "execute_result"
    }
   ],
   "source": [
    "intercept"
   ]
  },
  {
   "cell_type": "code",
   "execution_count": 63,
   "metadata": {},
   "outputs": [
    {
     "data": {
      "text/plain": [
       "-0.7376627261740147"
      ]
     },
     "execution_count": 63,
     "metadata": {},
     "output_type": "execute_result"
    }
   ],
   "source": [
    "r_value"
   ]
  },
  {
   "cell_type": "code",
   "execution_count": 64,
   "metadata": {},
   "outputs": [
    {
     "data": {
      "text/plain": [
       "5.081103394388519e-88"
      ]
     },
     "execution_count": 64,
     "metadata": {},
     "output_type": "execute_result"
    }
   ],
   "source": [
    "p_value"
   ]
  },
  {
   "cell_type": "code",
   "execution_count": 65,
   "metadata": {},
   "outputs": [
    {
     "data": {
      "text/plain": [
       "0.03873341621263944"
      ]
     },
     "execution_count": 65,
     "metadata": {},
     "output_type": "execute_result"
    }
   ],
   "source": [
    "std_err"
   ]
  },
  {
   "cell_type": "code",
   "execution_count": 69,
   "metadata": {},
   "outputs": [
    {
     "data": {
      "text/plain": [
       "Text(0.5, 1.0, 'y = -0.95x + 34.55')"
      ]
     },
     "execution_count": 69,
     "metadata": {},
     "output_type": "execute_result"
    },
    {
     "data": {
      "image/png": "[encoded data removed]",
      "text/plain": [
       "<Figure size 432x288 with 1 Axes>"
      ]
     },
     "metadata": {
      "needs_background": "light"
     },
     "output_type": "display_data"
    }
   ],
   "source": [
    "plt.scatter(df['LSTAT'], target['MEDV'], color = 'red')\n",
    "plt.plot(df['LSTAT'], slope*df['LSTAT']+intercept, color = 'black')\n",
    "plt.xlabel('Number of Rooms')\n",
    "plt.ylabel('Value of House ($1000s)')\n",
    "plt.title('y = -0.95x + 34.55')"
   ]
  },
  {
   "cell_type": "code",
   "execution_count": null,
   "metadata": {},
   "outputs": [],
   "source": [
    "#The p value is slightly smaller for the model with LSTAT (x10**-88 vs x10**-74), but they are both very small numbers meaning that both factors are correlated with house value.\n",
    "#The R value is larger for this model as well, which means that the data fits the model better than the previous model (-0.73 vs 0.69)."
   ]
  },
  {
   "cell_type": "code",
   "execution_count": 72,
   "metadata": {},
   "outputs": [
    {
     "data": {
      "text/plain": [
       "Text(12, 40, 'y= -0.95x + 34.55')"
      ]
     },
     "execution_count": 72,
     "metadata": {},
     "output_type": "execute_result"
    },
    {
     "data": {
      "image/png": "[encoded data removed]",
      "text/plain": [
       "<Figure size 432x288 with 1 Axes>"
      ]
     },
     "metadata": {
      "needs_background": "light"
     },
     "output_type": "display_data"
    }
   ],
   "source": [
    "#Plot with annotation of model equation.\n",
    "fig, ax = plt.subplots()\n",
    "ax.scatter(df['LSTAT'], target['MEDV'], color = 'red')\n",
    "ax.plot(df['LSTAT'], slope*df['LSTAT']+intercept, color = 'black')\n",
    "ax.set_xlabel('Number of Rooms')\n",
    "ax.set_ylabel('Value of House ($1000s)')\n",
    "ax.set_title('y = -0.95x + 34.55')\n",
    "ax.annotate('y= -0.95x + 34.55', xy = (12,40))"
   ]
  },
  {
   "cell_type": "markdown",
   "metadata": {},
   "source": [
    "**E.6** Following the example in the documentation below, add an intercept to the statsmodels housing model and plot your result\n",
    "\n",
    "http://www.statsmodels.org/dev/examples/notebooks/generated/ols.html"
   ]
  },
  {
   "cell_type": "code",
   "execution_count": 74,
   "metadata": {},
   "outputs": [
    {
     "data": {
      "text/plain": [
       "Text(0, 0.5, 'House value ($1000s)')"
      ]
     },
     "execution_count": 74,
     "metadata": {},
     "output_type": "execute_result"
    },
    {
     "data": {
      "image/png": "[encoded data removed]",
      "text/plain": [
       "<Figure size 432x288 with 1 Axes>"
      ]
     },
     "metadata": {
      "needs_background": "light"
     },
     "output_type": "display_data"
    }
   ],
   "source": [
    "plt.plot(X,predictions, 'k--')\n",
    "plt.scatter(df[\"RM\"], target[\"MEDV\"])\n",
    "plt.xlabel('Number of Rooms')\n",
    "plt.ylabel('House value ($1000s)')"
   ]
  },
  {
   "cell_type": "code",
   "execution_count": 77,
   "metadata": {},
   "outputs": [],
   "source": [
    "from statsmodels.sandbox.regression.predstd import wls_prediction_std"
   ]
  },
  {
   "cell_type": "code",
   "execution_count": 78,
   "metadata": {},
   "outputs": [],
   "source": [
    "np.random.seed(9876789)"
   ]
  },
  {
   "cell_type": "code",
   "execution_count": 129,
   "metadata": {},
   "outputs": [],
   "source": [
    "nsample = 100\n",
    "X = df['RM']\n",
    "beta = np.array([1, 0.1, 10])\n",
    "e = np.random.normal(size=nsample)"
   ]
  },
  {
   "cell_type": "code",
   "execution_count": 130,
   "metadata": {},
   "outputs": [],
   "source": [
    "X = sm.add_constant(X)\n",
    "y = target['MEDV']"
   ]
  },
  {
   "cell_type": "code",
   "execution_count": 131,
   "metadata": {},
   "outputs": [
    {
     "name": "stdout",
     "output_type": "stream",
     "text": [
      "                            OLS Regression Results                            \n",
      "==============================================================================\n",
      "Dep. Variable:                   MEDV   R-squared:                       0.484\n",
      "Model:                            OLS   Adj. R-squared:                  0.483\n",
      "Method:                 Least Squares   F-statistic:                     471.8\n",
      "Date:                Sun, 28 Mar 2021   Prob (F-statistic):           2.49e-74\n",
      "Time:                        16:42:19   Log-Likelihood:                -1673.1\n",
      "No. Observations:                 506   AIC:                             3350.\n",
      "Df Residuals:                     504   BIC:                             3359.\n",
      "Df Model:                           1                                         \n",
      "Covariance Type:            nonrobust                                         \n",
      "==============================================================================\n",
      "                 coef    std err          t      P>|t|      [0.025      0.975]\n",
      "------------------------------------------------------------------------------\n",
      "const        -34.6706      2.650    -13.084      0.000     -39.877     -29.465\n",
      "RM             9.1021      0.419     21.722      0.000       8.279       9.925\n",
      "==============================================================================\n",
      "Omnibus:                      102.585   Durbin-Watson:                   0.684\n",
      "Prob(Omnibus):                  0.000   Jarque-Bera (JB):              612.449\n",
      "Skew:                           0.726   Prob(JB):                    1.02e-133\n",
      "Kurtosis:                       8.190   Cond. No.                         58.4\n",
      "==============================================================================\n",
      "\n",
      "Warnings:\n",
      "[1] Standard Errors assume that the covariance matrix of the errors is correctly specified.\n"
     ]
    }
   ],
   "source": [
    "model = sm.OLS(y, X)\n",
    "results = model.fit()\n",
    "print(results.summary())"
   ]
  },
  {
   "cell_type": "code",
   "execution_count": 132,
   "metadata": {},
   "outputs": [
    {
     "name": "stdout",
     "output_type": "stream",
     "text": [
      "Parameters:  const   -34.670621\n",
      "RM        9.102109\n",
      "dtype: float64\n",
      "R2:  0.4835254559913341\n"
     ]
    }
   ],
   "source": [
    "print('Parameters: ', results.params)\n",
    "print('R2: ', results.rsquared)"
   ]
  },
  {
   "cell_type": "code",
   "execution_count": 134,
   "metadata": {},
   "outputs": [
    {
     "data": {
      "text/plain": [
       "Text(0, 0.5, 'House value ($1000s)')"
      ]
     },
     "execution_count": 134,
     "metadata": {},
     "output_type": "execute_result"
    },
    {
     "data": {
      "image/png": "[encoded data removed]",
      "text/plain": [
       "<Figure size 432x288 with 1 Axes>"
      ]
     },
     "metadata": {
      "needs_background": "light"
     },
     "output_type": "display_data"
    }
   ],
   "source": [
    "#Using my model (which I didn't have much confidence in but somehow it looks decent), the intercept is -34.67, and the slope is 9.1.\n",
    "plt.plot(df['RM'], 9.1*df['RM']-34.67, color = 'black')\n",
    "plt.scatter(df[\"RM\"], target[\"MEDV\"])\n",
    "plt.xlabel('Number of Rooms')\n",
    "plt.ylabel('House value ($1000s)')"
   ]
  },
  {
   "cell_type": "code",
   "execution_count": null,
   "metadata": {},
   "outputs": [],
   "source": []
  },
  {
   "cell_type": "markdown",
   "metadata": {},
   "source": [
    "**E.7** (Advanced/optional, +1 token) Do the tutorial here to use scikitlearn to do a linear model: https://towardsdatascience.com/linear-regression-on-boston-housing-dataset-f409b7e4a155"
   ]
  },
  {
   "cell_type": "code",
   "execution_count": null,
   "metadata": {},
   "outputs": [],
   "source": []
  },
  {
   "cell_type": "code",
   "execution_count": 137,
   "metadata": {},
   "outputs": [
    {
     "data": {
      "text/plain": [
       "<cartopy.mpl.feature_artist.FeatureArtist at 0x1421a4c6340>"
      ]
     },
     "execution_count": 137,
     "metadata": {},
     "output_type": "execute_result"
    },
    {
     "data": {
      "image/png": "[encoded data removed]",
      "text/plain": [
       "<Figure size 720x576 with 1 Axes>"
      ]
     },
     "metadata": {
      "needs_background": "light"
     },
     "output_type": "display_data"
    }
   ],
   "source": [
    "#Practice\n",
    "import cartopy.crs as ccrs   #import map styles/types\n",
    "import cartopy.feature as cfeature  # features such as the ocean, coastlines rivers, etc\n",
    "from cartopy.mpl.gridliner import LONGITUDE_FORMATTER, LATITUDE_FORMATTER\n",
    "\n",
    "fig, ax = plt.subplots(figsize =(10,8))  \n",
    "ax = plt.axes(projection=ccrs.PlateCarree())\n",
    "ax.coastlines(resolution='110m')"
   ]
  },
  {
   "cell_type": "code",
   "execution_count": 138,
   "metadata": {},
   "outputs": [
    {
     "data": {
      "text/plain": [
       "<cartopy.mpl.gridliner.Gridliner at 0x1421a538160>"
      ]
     },
     "execution_count": 138,
     "metadata": {},
     "output_type": "execute_result"
    },
    {
     "data": {
      "image/png": "[encoded data removed]",
      "text/plain": [
       "<Figure size 720x576 with 1 Axes>"
      ]
     },
     "metadata": {
      "needs_background": "light"
     },
     "output_type": "display_data"
    }
   ],
   "source": [
    "fig, ax = plt.subplots(figsize =(10,8))  \n",
    "ax = plt.axes(projection=ccrs.PlateCarree())\n",
    "ax.coastlines(resolution='110m')\n",
    "ax.gridlines(draw_labels=True)"
   ]
  },
  {
   "cell_type": "code",
   "execution_count": 161,
   "metadata": {},
   "outputs": [
    {
     "data": {
      "text/plain": [
       "Text(99.8, 10.13, 'Koh Tao')"
      ]
     },
     "execution_count": 161,
     "metadata": {},
     "output_type": "execute_result"
    },
    {
     "data": {
      "image/png": "[encoded data removed]",
      "text/plain": [
       "<Figure size 720x576 with 1 Axes>"
      ]
     },
     "metadata": {
      "needs_background": "light"
     },
     "output_type": "display_data"
    }
   ],
   "source": [
    "fig, ax = plt.subplots(figsize =(10,8))  \n",
    "ax = plt.axes(projection=ccrs.PlateCarree())\n",
    "ax.coastlines(resolution='10m')\n",
    "ax.gridlines(draw_labels=True)\n",
    "ax.set_extent([102, 97, 7, 11])\n",
    "plt.plot(99.8404, 10.0956, color = 'blue', markersize=4, marker='o', transform = ccrs.PlateCarree())\n",
    "plt.text(99.8, 10.13, 'Koh Tao', horizontalalignment='right', transform=ccrs.PlateCarree())"
   ]
  },
  {
   "cell_type": "code",
   "execution_count": 183,
   "metadata": {},
   "outputs": [
    {
     "data": {
      "text/plain": [
       "Text(-85, 28, 'South Padre Island')"
      ]
     },
     "execution_count": 183,
     "metadata": {},
     "output_type": "execute_result"
    },
    {
     "data": {
      "image/png": "[encoded data removed]",
      "text/plain": [
       "<Figure size 720x576 with 1 Axes>"
      ]
     },
     "metadata": {
      "needs_background": "light"
     },
     "output_type": "display_data"
    }
   ],
   "source": [
    "fig, ax = plt.subplots(figsize =(10,8))  \n",
    "ax = plt.axes(projection=ccrs.PlateCarree())\n",
    "ax.coastlines(resolution='110m')\n",
    "ax.gridlines(draw_labels=True)\n",
    "ax.set_extent([-180, 180, -90, 90])\n",
    "plt.plot([99.8404, -97.1681], [10.0956, 26.1118], color = 'blue', markersize=4, marker='o', transform = ccrs.PlateCarree())\n",
    "plt.text(100, 12, 'Koh Tao', color='green', horizontalalignment='right', transform=ccrs.PlateCarree())\n",
    "plt.text(-85, 28, 'South Padre Island', color='green', horizontalalignment='right', transform=ccrs.PlateCarree())"
   ]
  },
  {
   "cell_type": "code",
   "execution_count": 190,
   "metadata": {},
   "outputs": [
    {
     "data": {
      "text/plain": [
       "[<matplotlib.lines.Line2D at 0x1421e785b50>]"
      ]
     },
     "execution_count": 190,
     "metadata": {},
     "output_type": "execute_result"
    },
    {
     "data": {
      "image/png": "[encoded data removed]",
      "text/plain": [
       "<Figure size 720x576 with 1 Axes>"
      ]
     },
     "metadata": {
      "needs_background": "light"
     },
     "output_type": "display_data"
    }
   ],
   "source": [
    "fig, ax = plt.subplots(figsize =(10,8))  \n",
    "ax = plt.axes(projection=ccrs.Robinson())\n",
    "ax.coastlines(resolution='110m')\n",
    "ax.gridlines(draw_labels=True)\n",
    "plt.plot([99.8404, -97.1681], [10.0956, 26.1118], color = 'blue', markersize=4, marker='o', transform = ccrs.PlateCarree())"
   ]
  },
  {
   "cell_type": "code",
   "execution_count": 191,
   "metadata": {},
   "outputs": [
    {
     "data": {
      "text/plain": [
       "[<matplotlib.lines.Line2D at 0x142202b37f0>]"
      ]
     },
     "execution_count": 191,
     "metadata": {},
     "output_type": "execute_result"
    },
    {
     "data": {
      "image/png": "[encoded data removed]",
      "text/plain": [
       "<Figure size 720x576 with 1 Axes>"
      ]
     },
     "metadata": {
      "needs_background": "light"
     },
     "output_type": "display_data"
    }
   ],
   "source": [
    "fig, ax = plt.subplots(figsize =(10,8))  \n",
    "ax = plt.axes(projection=ccrs.Robinson())\n",
    "ax.coastlines(resolution='110m')\n",
    "ax.gridlines(draw_labels=True)\n",
    "plt.plot([99.8404, -97.1681], [10.0956, 26.1118], color = 'blue', markersize=4, marker='o', transform = ccrs.Mercator())"
   ]
  },
  {
   "cell_type": "code",
   "execution_count": null,
   "metadata": {},
   "outputs": [],
   "source": []
  }
 ],
 "metadata": {
  "kernelspec": {
   "display_name": "Python 3",
   "language": "python",
   "name": "python3"
  },
  "language_info": {
   "codemirror_mode": {
    "name": "ipython",
    "version": 3
   },
   "file_extension": ".py",
   "mimetype": "text/x-python",
   "name": "python",
   "nbconvert_exporter": "python",
   "pygments_lexer": "ipython3",
   "version": "3.8.3"
  }
 },
 "nbformat": 4,
 "nbformat_minor": 5
}
