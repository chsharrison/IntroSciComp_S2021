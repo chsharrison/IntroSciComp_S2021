{
 "cells": [
  {
   "cell_type": "markdown",
   "metadata": {},
   "source": [
    "Name: Rocio "
   ]
  },
  {
   "cell_type": "markdown",
   "metadata": {},
   "source": [
    "Labpartner(s): Edoardo"
   ]
  },
  {
   "cell_type": "code",
   "execution_count": null,
   "metadata": {},
   "outputs": [],
   "source": [
    "#import statements go here\n",
    "import numpy as np\n",
    "import matplotlib.pyplot as plt\n",
    "import pandas as pd"
   ]
  },
  {
   "cell_type": "markdown",
   "metadata": {},
   "source": [
    "# Class 8.2"
   ]
  },
  {
   "cell_type": "markdown",
   "metadata": {},
   "source": [
    "# Warmups 8.2"
   ]
  },
  {
   "cell_type": "markdown",
   "metadata": {},
   "source": [
    "Music to code loops by (featuring samples of Warf and Geordi from Star Trek TNG). Mobius by Orbital:\n",
    "\n",
    "https://www.youtube.com/watch?v=4PG5PCd284o.\n",
    "\n",
    "(I was this many years old when I learned you could stick a period at the end of the youtube url to suprress the ads, try it)\n",
    "\n",
    "Let's keep practiciing functions and logical control. Raise your hand when you get confused, and look at the suggested solutions, this is tricky stuff to master.\n"
   ]
  },
  {
   "cell_type": "markdown",
   "metadata": {},
   "source": [
    "**W.1** Do Practice Python 28, Max of Three https://www.practicepython.org. \n",
    "\n",
    "Suggested approach: Writing some notes on how you will code something before you begin is really helpful and standard practice. Write some pseudocode to think out the problem before you begin. Here are some examples of this: https://www.unf.edu/~broggio/cop2221/2221pseu.htm  \n",
    "\n",
    "https://www.youtube.com/watch?v=HhBrkpTqzqg\n",
    "\n",
    "We'll do more of this in lab, but give it a shot here."
   ]
  },
  {
   "cell_type": "code",
   "execution_count": null,
   "metadata": {},
   "outputs": [],
   "source": []
  },
  {
   "cell_type": "markdown",
   "metadata": {},
   "source": [
    "# Lecture 8.2\n",
    "\n",
    "### Agenda:\n",
    "\n",
    "- Syllabus changes\n",
    "- CV Assignement\n",
    "- Questions\n",
    "- (if time) pseudocode example"
   ]
  },
  {
   "cell_type": "markdown",
   "metadata": {},
   "source": [
    "### Syllabus changes"
   ]
  },
  {
   "cell_type": "markdown",
   "metadata": {},
   "source": [
    "New Syllabus is up on BB. Here is the grading changes (changes in **BOLD**)\n",
    "\n",
    "To receive an A grade, students must\n",
    "-\tMeet the specifications for receiving a B grade\n",
    "-\tSatisfactorily complete all advanced labs\n",
    "\n",
    "To receive a B grade, students must\n",
    "-\tMeet the specifications for receiving a C grade\n",
    "-\tSatisfactorily complete **one out of three** advanced labs\n",
    "\n",
    "To pass the course with a C, students must\n",
    "-\tMeet the specifications for receiving a D grade \n",
    "-\tSatisfactorily complete the Linear Regression, Timeseries Analysis and **History of Hacking** labs\n",
    "-\tProvide satisfactory course feedback\n",
    "\n",
    "To pass the course with a D, students must \n",
    "-\tSatisfactorily complete all assigned chapters in datacamp **and the associated labs, as well as Cartopy and Movies lab**\n",
    "-\tSatisfactorily complete all components of the final project\n",
    "\n",
    "Failure to deliver a satisfactory final assignment will result in an F, regardless of other assignments done."
   ]
  },
  {
   "cell_type": "markdown",
   "metadata": {},
   "source": [
    "### New Schedule\n",
    "![](revised_schedule.png)"
   ]
  },
  {
   "cell_type": "markdown",
   "metadata": {},
   "source": [
    "### CV assignment, Word and Zotero integration assignment (turn these in with Lab 8.2)\n",
    "\n",
    "- Demo of Overleaf\n",
    "- Demo of Zotero and Word\n",
    "- Demo of Zotero and Overleaf\n",
    "\n",
    "Assignement:\n",
    "\n",
    "You will make a CV in Overleaf using the LaTex typesetting software. Pick a CV template and modify it to have your info. Make sure you include a picture (required, this is to get you used to the syntax for this). Don't get overwhelmed by all the detailed code, just figure out what you need to modify to put in your information.\n",
    "\n",
    "You will submit a word document that is integrated with zotero and features three references. Submit both the document file, and a screenshot of your zotero account with the references in it.\n",
    "\n",
    "Extra Credit (2 assignment tokens):\n",
    "Integrate Overleaf and Zotero. There are two ways to do this, you can integrate zotero directly into overleaf (but I think they charge for this now) or you can export your citations from zotero as a .bib file and upload this into Overleaf. If you're keen, give it a shot! \n"
   ]
  },
  {
   "cell_type": "code",
   "execution_count": null,
   "metadata": {},
   "outputs": [],
   "source": []
  },
  {
   "cell_type": "code",
   "execution_count": null,
   "metadata": {},
   "outputs": [],
   "source": []
  },
  {
   "cell_type": "markdown",
   "metadata": {},
   "source": [
    "### Questions"
   ]
  },
  {
   "cell_type": "code",
   "execution_count": null,
   "metadata": {},
   "outputs": [],
   "source": []
  },
  {
   "cell_type": "code",
   "execution_count": null,
   "metadata": {},
   "outputs": [],
   "source": []
  },
  {
   "cell_type": "markdown",
   "metadata": {},
   "source": [
    "# Lab 8.2"
   ]
  },
  {
   "cell_type": "markdown",
   "metadata": {},
   "source": [
    "**E.1** Go through the following tutorial on pseudocode and logical control. They are coding in a different language (I think C++). You will translate what they did into python. You can do it!\n",
    "\n",
    "https://www.youtube.com/watch?v=PwGA4Lm8zuE\n",
    "\n",
    "Make sure you write your notes out here with your pseudocode. Take your time and think it through"
   ]
  },
  {
   "cell_type": "code",
   "execution_count": 4,
   "metadata": {},
   "outputs": [
    {
     "ename": "IndentationError",
     "evalue": "expected an indented block (<ipython-input-4-fa2ad968ccc5>, line 29)",
     "output_type": "error",
     "traceback": [
      "\u001b[0;36m  File \u001b[0;32m\"<ipython-input-4-fa2ad968ccc5>\"\u001b[0;36m, line \u001b[0;32m29\u001b[0m\n\u001b[0;31m    num_2 = num_0+num_1\u001b[0m\n\u001b[0m    ^\u001b[0m\n\u001b[0;31mIndentationError\u001b[0m\u001b[0;31m:\u001b[0m expected an indented block\n"
     ]
    }
   ],
   "source": [
    "#inputs: how many Fibonacci numbers to generate (total_numbers)\n",
    "\n",
    "\n",
    "#output: the numbers\n",
    "\n",
    "#def function(total_numbers): \n",
    "def fibonacci(total_numbers): \n",
    "    \n",
    "    #define a counter\n",
    "    #initialize to zero\n",
    "    counter = 0\n",
    "    \n",
    "    #start with 0\n",
    "    num_0 = 0\n",
    "    print('num_0 = ' +str(num_0))\n",
    "    counter = counter +1\n",
    "    print('counter = ' + str(counter))\n",
    "    \n",
    "    #next one is one\n",
    "    num_1(num_1)\n",
    "    print('num_1' = + )\n",
    "    counter =  counter +1\n",
    "    print(counter)\n",
    "    \n",
    "    #    ...some kind of looping...\n",
    "    #    ger th enumber of numbers\n",
    "    while counter < total_numbers:\n",
    "    \n",
    "    #the one after is the sum of the previous two numbers\n",
    "    num_2 = num_0+num_1\n",
    "    counter = counter +1\n",
    "    print( 'num_2 = ' + str(num_2))\n",
    "    print('counter = ' + str(counter))\n",
    "    \n",
    "    \n",
    "    \n",
    "# do this until I get to the number of numbers that were specified\n",
    "\n",
    "#save output into list\n"
   ]
  },
  {
   "cell_type": "code",
   "execution_count": 5,
   "metadata": {},
   "outputs": [
    {
     "name": "stdout",
     "output_type": "stream",
     "text": [
      "0\n"
     ]
    },
    {
     "ename": "TypeError",
     "evalue": "'int' object is not callable",
     "output_type": "error",
     "traceback": [
      "\u001b[0;31m---------------------------------------------------------------------------\u001b[0m",
      "\u001b[0;31mTypeError\u001b[0m                                 Traceback (most recent call last)",
      "\u001b[0;32m<ipython-input-5-6670443a25fc>\u001b[0m in \u001b[0;36m<module>\u001b[0;34m\u001b[0m\n\u001b[0;32m----> 1\u001b[0;31m \u001b[0mfibonacci\u001b[0m\u001b[0;34m(\u001b[0m\u001b[0;36m9\u001b[0m\u001b[0;34m)\u001b[0m\u001b[0;34m\u001b[0m\u001b[0;34m\u001b[0m\u001b[0m\n\u001b[0m",
      "\u001b[0;32m<ipython-input-1-cc070f27d455>\u001b[0m in \u001b[0;36mfibonacci\u001b[0;34m(total_numbers)\u001b[0m\n\u001b[1;32m     18\u001b[0m \u001b[0;34m\u001b[0m\u001b[0m\n\u001b[1;32m     19\u001b[0m     \u001b[0;31m#next one is one\u001b[0m\u001b[0;34m\u001b[0m\u001b[0;34m\u001b[0m\u001b[0;34m\u001b[0m\u001b[0m\n\u001b[0;32m---> 20\u001b[0;31m     \u001b[0mnum_1\u001b[0m\u001b[0;34m(\u001b[0m\u001b[0mnum_1\u001b[0m\u001b[0;34m)\u001b[0m\u001b[0;34m\u001b[0m\u001b[0;34m\u001b[0m\u001b[0m\n\u001b[0m\u001b[1;32m     21\u001b[0m     \u001b[0mcounter\u001b[0m \u001b[0;34m=\u001b[0m  \u001b[0mcounter\u001b[0m \u001b[0;34m+\u001b[0m\u001b[0;36m1\u001b[0m\u001b[0;34m\u001b[0m\u001b[0;34m\u001b[0m\u001b[0m\n\u001b[1;32m     22\u001b[0m     \u001b[0mprint\u001b[0m\u001b[0;34m(\u001b[0m\u001b[0mcounter\u001b[0m\u001b[0;34m)\u001b[0m\u001b[0;34m\u001b[0m\u001b[0;34m\u001b[0m\u001b[0m\n",
      "\u001b[0;31mTypeError\u001b[0m: 'int' object is not callable"
     ]
    }
   ],
   "source": [
    "fibonacci(9)"
   ]
  },
  {
   "cell_type": "markdown",
   "metadata": {},
   "source": [
    "**E.2** Complete Data Manipulation with pandas Ch 2 in datacamp.\n"
   ]
  },
  {
   "cell_type": "code",
   "execution_count": null,
   "metadata": {},
   "outputs": [],
   "source": [
    "#Done."
   ]
  },
  {
   "cell_type": "markdown",
   "metadata": {},
   "source": [
    "**E.3** Make notes for yourself on progamming tecniques and commands you learned in the datacamp chapter above, including examples, comments and explainitory text. You can do this here or in a separate notebook that you link to here. Basically, you are making a cheat sheet for yourself."
   ]
  },
  {
   "cell_type": "code",
   "execution_count": null,
   "metadata": {},
   "outputs": [],
   "source": []
  },
  {
   "cell_type": "markdown",
   "metadata": {},
   "source": [
    "### This week's project:\n",
    "\n",
    "This week we will be doing a CV assignment in LaTeX. Make your CV in LaTeX using Overleaf or the LaTeX interface of your choice (Word is not an option!!). You might find a cool template"
   ]
  },
  {
   "cell_type": "code",
   "execution_count": null,
   "metadata": {},
   "outputs": [],
   "source": [
    "#I had a lot of fun with this actually, \n",
    "#took me a solid 4x ruining one resume over another and not being able to fix it until finally seeing one through.\n",
    "#It felt pretty powerful to navigate through this tool-  thank you!"
   ]
  }
 ],
 "metadata": {
  "kernelspec": {
   "display_name": "Python 3",
   "language": "python",
   "name": "python3"
  },
  "language_info": {
   "codemirror_mode": {
    "name": "ipython",
    "version": 3
   },
   "file_extension": ".py",
   "mimetype": "text/x-python",
   "name": "python",
   "nbconvert_exporter": "python",
   "pygments_lexer": "ipython3",
   "version": "3.8.5"
  }
 },
 "nbformat": 4,
 "nbformat_minor": 5
}
