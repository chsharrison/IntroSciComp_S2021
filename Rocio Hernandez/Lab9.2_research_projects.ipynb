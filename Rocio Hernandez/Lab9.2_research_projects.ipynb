{
 "cells": [
  {
   "cell_type": "markdown",
   "metadata": {},
   "source": [
    "Name: Rocio Hernandez"
   ]
  },
  {
   "cell_type": "markdown",
   "metadata": {},
   "source": [
    "Labpartner(s): Edoardo"
   ]
  },
  {
   "cell_type": "code",
   "execution_count": 1,
   "metadata": {},
   "outputs": [],
   "source": [
    "#import statements go here\n",
    "import numpy as np\n",
    "import matplotlib.pyplot as plt\n",
    "import pandas as pd"
   ]
  },
  {
   "cell_type": "markdown",
   "metadata": {},
   "source": [
    "# Class 9.2"
   ]
  },
  {
   "cell_type": "markdown",
   "metadata": {},
   "source": [
    "# Warmups 9.2"
   ]
  },
  {
   "cell_type": "markdown",
   "metadata": {},
   "source": [
    "It was so much fun working together on Monday we will do it again. Spend 15 min working on the following and then we will go over it together:"
   ]
  },
  {
   "cell_type": "markdown",
   "metadata": {},
   "source": [
    "**W.1** Write a function that returns the first n consectutive odd intergers (ex: 1,3,5,7,9 for n = 5) using only logical control (i.e. don't use indexing short cuts to make the odd integers, only for or while loops)"
   ]
  },
  {
   "cell_type": "code",
   "execution_count": 12,
   "metadata": {},
   "outputs": [
    {
     "name": "stdout",
     "output_type": "stream",
     "text": [
      "n = 4\n",
      "5\n",
      "[1, 5]\n",
      "5\n",
      "n = 3\n",
      "7\n",
      "[1, 5, 7]\n",
      "7\n",
      "n = 2\n",
      "9\n",
      "[1, 5, 7, 9]\n",
      "9\n",
      "n = 1\n",
      "11\n",
      "[1, 5, 7, 9, 11]\n",
      "11\n"
     ]
    }
   ],
   "source": [
    "#Making consecutive integers and putting it into a function\n",
    "#ex:n=5, then 1, 3, 5, 7, 9\n",
    "\n",
    "#input is going to be n, which I will use for a counter\n",
    "\n",
    "n = 5  #counter testing\n",
    "\n",
    "start = 1 #first number\n",
    "\n",
    "#initialize my list with the first number\n",
    "my_list = [start]\n",
    "\n",
    "new_number = start\n",
    "\n",
    "#some kind of loop\n",
    "while n >1: \n",
    "### not sure yet.\n",
    "#already have one element, so can count down at the beginning\n",
    "    n = n-1 #decrease counter\n",
    "    # n = 1\n",
    "    print('n = ' + str(n))\n",
    "#add two to start and keep doing this\n",
    "\n",
    "    next_num = next_num + 2\n",
    "    print(next_num)\n",
    "#add the resulting number to a list\n",
    "#my_list.append(next_num)\n",
    "    my_list = my_list + [next_num]\n",
    "    print(my_list)\n",
    "    \n",
    "    #save the last number in the list to use next time we go through the loop\n",
    "    new_number = next_num #3\n",
    "    print(new_number)"
   ]
  },
  {
   "cell_type": "code",
   "execution_count": 4,
   "metadata": {},
   "outputs": [
    {
     "name": "stdout",
     "output_type": "stream",
     "text": [
      "[1, 3]\n",
      "3\n"
     ]
    }
   ],
   "source": [
    "start = 1 #first numbr\n",
    "#initializ my list with the first number\n",
    "my_list = [start]   #define my_list as a list to start with, it needs to be in the brackets. \n",
    "next_num = start +2\n",
    "\n",
    "#add next_num to my_list\n",
    "my_list.append(next_num)\n",
    "\n",
    "print(my_list)\n",
    "print(next_num)"
   ]
  },
  {
   "cell_type": "code",
   "execution_count": 5,
   "metadata": {},
   "outputs": [
    {
     "name": "stdout",
     "output_type": "stream",
     "text": [
      "[1, 3]\n",
      "3\n"
     ]
    }
   ],
   "source": [
    "#whats another way you can do this?\n",
    "start = 1 #first number is always 1\n",
    "#initializ my list with the first number\n",
    "my_list = [start]   #define my_list as a list to start with, it needs to be in the brackets. \n",
    "#[not putting brackets around means it keeps it as an integer, so youre changing from integer to list] \n",
    "#youcan't append with integer, you need to convert. \n",
    "next_num = start +2  # it would then equal to 3. \n",
    "\n",
    "#add next_num to my_list\n",
    "my_list = my_list + [next_num] #these are you adding two lists together.\n",
    "\n",
    "print(my_list)\n",
    "print(next_num)\n",
    "\n"
   ]
  },
  {
   "cell_type": "code",
   "execution_count": 7,
   "metadata": {},
   "outputs": [
    {
     "data": {
      "text/plain": [
       "[4, 5, 7, 8]"
      ]
     },
     "execution_count": 7,
     "metadata": {},
     "output_type": "execute_result"
    }
   ],
   "source": [
    "[4,5] + [7,8]  #example on what we think it's going to be. "
   ]
  },
  {
   "cell_type": "markdown",
   "metadata": {},
   "source": [
    "**Extra:** Modify your function so that it can start anywhere. That is, add a second input that gives a starting integer. Ex: 7,9,11 for n = 3 and a starting value of 7"
   ]
  },
  {
   "cell_type": "code",
   "execution_count": 19,
   "metadata": {},
   "outputs": [
    {
     "name": "stdout",
     "output_type": "stream",
     "text": [
      "n = 4\n",
      "13\n",
      "[1, 13]\n",
      "13\n",
      "n = 3\n",
      "15\n",
      "[1, 13, 15]\n",
      "15\n",
      "n = 2\n",
      "17\n",
      "[1, 13, 15, 17]\n",
      "17\n",
      "n = 1\n",
      "19\n",
      "[1, 13, 15, 17, 19]\n",
      "19\n"
     ]
    }
   ],
   "source": [
    "#Making consecutive integers and putting it into a function\n",
    "#ex:n=5, then 1, 3, 5, 7, 9\n",
    "\n",
    "#input is going to be n, which I will use for a counter\n",
    "    \n",
    "#now you are making a function\n",
    "#input is going to be n, \"the counter\", which is the number\n",
    "#of integers wanted\n",
    "#the output will be the list of odd integers. \n",
    "n = 5  #counter testing\n",
    "\n",
    "start = 1 #first number\n",
    "\n",
    "#initialize my list with the first number\n",
    "my_list = [start]\n",
    "\n",
    "new_number = start\n",
    "\n",
    "#some kind of loop\n",
    "while n >1: \n",
    "### not sure yet.\n",
    "#already have one element, so can count down at the beginning\n",
    "    n = n-1 #decrease counter\n",
    "    # n = 1\n",
    "    print('n = ' + str(n))\n",
    "#add two to start and keep doing this\n",
    "\n",
    "    next_num = next_num + 2\n",
    "    print(next_num)\n",
    "#add the resulting number to a list\n",
    "#my_list.append(next_num)\n",
    "    my_list = my_list + [next_num]\n",
    "    print(my_list)\n",
    "    \n",
    "    #save the last number in the list to use next time we go through the loop\n",
    "    new_number = next_num #3\n",
    "    print(new_number)\n",
    "    \n",
    "\n",
    "    "
   ]
  },
  {
   "cell_type": "code",
   "execution_count": 20,
   "metadata": {},
   "outputs": [
    {
     "ename": "IndentationError",
     "evalue": "expected an indented block (<ipython-input-20-e0cf122cad2d>, line 3)",
     "output_type": "error",
     "traceback": [
      "\u001b[0;36m  File \u001b[0;32m\"<ipython-input-20-e0cf122cad2d>\"\u001b[0;36m, line \u001b[0;32m3\u001b[0m\n\u001b[0;31m    return my_list\u001b[0m\n\u001b[0m    ^\u001b[0m\n\u001b[0;31mIndentationError\u001b[0m\u001b[0;31m:\u001b[0m expected an indented block\n"
     ]
    }
   ],
   "source": [
    "    \n",
    "def oddnum(counter):\n",
    "    \n",
    "return my_list"
   ]
  },
  {
   "cell_type": "code",
   "execution_count": 16,
   "metadata": {},
   "outputs": [
    {
     "ename": "NameError",
     "evalue": "name 'oddnumb' is not defined",
     "output_type": "error",
     "traceback": [
      "\u001b[0;31m---------------------------------------------------------------------------\u001b[0m",
      "\u001b[0;31mNameError\u001b[0m                                 Traceback (most recent call last)",
      "\u001b[0;32m<ipython-input-16-a2217d03e0d4>\u001b[0m in \u001b[0;36m<module>\u001b[0;34m\u001b[0m\n\u001b[0;32m----> 1\u001b[0;31m \u001b[0moddnumb\u001b[0m\u001b[0;34m(\u001b[0m\u001b[0;36m10\u001b[0m\u001b[0;34m)\u001b[0m\u001b[0;34m\u001b[0m\u001b[0;34m\u001b[0m\u001b[0m\n\u001b[0m",
      "\u001b[0;31mNameError\u001b[0m: name 'oddnumb' is not defined"
     ]
    }
   ],
   "source": [
    "oddnumb(10)"
   ]
  },
  {
   "cell_type": "markdown",
   "metadata": {},
   "source": [
    "# Lecture 9.2\n",
    "\n",
    "### Agenda:\n",
    "- Research project assignment and what is due this week\n",
    "- Links to previous class githubs are in our github in the resources document in the Course Materials folder: https://github.com/chsharrison/IntroSciComp_S2021/blob/main/Class_materials/resources.md"
   ]
  },
  {
   "cell_type": "code",
   "execution_count": null,
   "metadata": {},
   "outputs": [],
   "source": [
    "#Feeling less intimidated"
   ]
  },
  {
   "cell_type": "markdown",
   "metadata": {},
   "source": [
    "#### Reminders\n",
    "- Many of you need to make up \"show us your functions\" we will do this in office hours or by appointment. I want to make sure everyone gets this function syntax down. See column in BB for above. Many of you need to redo this.\n",
    "- To get tokens for turning in labs or finishing datacamp chapters early, you need to send me and Adrian a message on slack (see instructions I gave you, on blackboard and in previous labs). We won't notice unless you tell us to look."
   ]
  },
  {
   "cell_type": "code",
   "execution_count": null,
   "metadata": {},
   "outputs": [],
   "source": [
    "#noted. "
   ]
  },
  {
   "cell_type": "markdown",
   "metadata": {},
   "source": [
    "### Questions"
   ]
  },
  {
   "cell_type": "code",
   "execution_count": null,
   "metadata": {},
   "outputs": [],
   "source": []
  },
  {
   "cell_type": "code",
   "execution_count": null,
   "metadata": {},
   "outputs": [],
   "source": []
  },
  {
   "cell_type": "markdown",
   "metadata": {},
   "source": [
    "# Lab 9.2"
   ]
  },
  {
   "cell_type": "markdown",
   "metadata": {},
   "source": [
    "**E.1** Complete Data Manipulation with pandas Ch 4 in datacamp.\n"
   ]
  },
  {
   "cell_type": "code",
   "execution_count": null,
   "metadata": {},
   "outputs": [],
   "source": [
    "#done"
   ]
  },
  {
   "cell_type": "markdown",
   "metadata": {},
   "source": [
    "**E.2** Make notes for yourself on progamming tecniques and commands you learned in the datacamp chapter above, including examples, comments and explainitory text. You can do this here or in a separate notebook that you link to here. Basically, you are making a cheat sheet for yourself."
   ]
  },
  {
   "cell_type": "code",
   "execution_count": null,
   "metadata": {},
   "outputs": [],
   "source": []
  },
  {
   "cell_type": "markdown",
   "metadata": {},
   "source": [
    "### This week's project:\n",
    "\n",
    "This week you will be doing two things, planning on what grade you will get in this course (due Thursday with lab 9.1) and submitting your research topic (due Sunday with lab 9.2). "
   ]
  },
  {
   "cell_type": "markdown",
   "metadata": {},
   "source": [
    "**E.4** Write a few sentances about what you plan to do for your research project. See tab in BB to turn this in"
   ]
  },
  {
   "cell_type": "code",
   "execution_count": null,
   "metadata": {},
   "outputs": [],
   "source": [
    "#I'm thinking I can breakdown my research and hyperfocus on a portion of it and create a proposal from that skeleton. "
   ]
  },
  {
   "cell_type": "code",
   "execution_count": null,
   "metadata": {},
   "outputs": [],
   "source": [
    "#So, I can collect data from my current soil aggregate lab and then hopefully have data on time otherwise I can borrow free data?"
   ]
  }
 ],
 "metadata": {
  "kernelspec": {
   "display_name": "Python 3",
   "language": "python",
   "name": "python3"
  },
  "language_info": {
   "codemirror_mode": {
    "name": "ipython",
    "version": 3
   },
   "file_extension": ".py",
   "mimetype": "text/x-python",
   "name": "python",
   "nbconvert_exporter": "python",
   "pygments_lexer": "ipython3",
   "version": "3.8.5"
  }
 },
 "nbformat": 4,
 "nbformat_minor": 5
}
