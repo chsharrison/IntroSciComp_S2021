{
 "cells": [
  {
   "cell_type": "markdown",
   "metadata": {},
   "source": [
    "Name: Christopher De La Rosa"
   ]
  },
  {
   "cell_type": "markdown",
   "metadata": {},
   "source": [
    "Labpartner(s)"
   ]
  },
  {
   "cell_type": "code",
   "execution_count": 1,
   "metadata": {},
   "outputs": [],
   "source": [
    "#import statements go here\n",
    "\n",
    "import numpy as np\n",
    "import matplotlib.pyplot as plt\n",
    "import pandas as pd"
   ]
  },
  {
   "cell_type": "markdown",
   "metadata": {},
   "source": [
    "# Class 8.2"
   ]
  },
  {
   "cell_type": "markdown",
   "metadata": {},
   "source": [
    "# Warmups 8.2"
   ]
  },
  {
   "cell_type": "markdown",
   "metadata": {},
   "source": [
    "Music to code loops by (featuring samples of Warf and Geordi from Star Trek TNG). Mobius by Orbital:\n",
    "\n",
    "https://www.youtube.com/watch?v=4PG5PCd284o.\n",
    "\n",
    "(I was this many years old when I learned you could stick a period at the end of the youtube url to suprress the ads, try it)\n",
    "\n",
    "Let's keep practiciing functions and logical control. Raise your hand when you get confused, and look at the suggested solutions, this is tricky stuff to master.\n"
   ]
  },
  {
   "cell_type": "markdown",
   "metadata": {},
   "source": [
    "**W.1** Do Practice Python 28, Max of Three https://www.practicepython.org. \n",
    "\n",
    "Suggested approach: Writing some notes on how you will code something before you begin is really helpful and standard practice. Write some pseudocode to think out the problem before you begin. Here are some examples of this: https://www.unf.edu/~broggio/cop2221/2221pseu.htm  \n",
    "\n",
    "https://www.youtube.com/watch?v=HhBrkpTqzqg\n",
    "\n",
    "We'll do more of this in lab, but give it a shot here."
   ]
  },
  {
   "cell_type": "code",
   "execution_count": null,
   "metadata": {},
   "outputs": [],
   "source": [
    "#initialize/input first variable AS AN INT\n",
    "#initialize/input second variable AS AN INT\n",
    "#initialize/input third variable AS AN INT\n",
    "#forgot to make sure type was set to int\n",
    "\n",
    "#define function that takes these three variables as inputs\n",
    "#if first variable is greater than second and third\n",
    "#     print first variable\n",
    "#elif second variable is greater than first and third\n",
    "#     print second variable\n",
    "#elif third variable is greater than first and second\n",
    "#     print third variable\n",
    "#else\n",
    "#     print some form of error statement"
   ]
  },
  {
   "cell_type": "code",
   "execution_count": 56,
   "metadata": {},
   "outputs": [
    {
     "name": "stdin",
     "output_type": "stream",
     "text": [
      "Give me a number:  5\n"
     ]
    }
   ],
   "source": [
    "a = int(input(\"Give me a number: \"))"
   ]
  },
  {
   "cell_type": "code",
   "execution_count": 57,
   "metadata": {},
   "outputs": [
    {
     "name": "stdin",
     "output_type": "stream",
     "text": [
      "Now another one:  18\n"
     ]
    }
   ],
   "source": [
    "b = int(input(\"Now another one: \"))"
   ]
  },
  {
   "cell_type": "code",
   "execution_count": 58,
   "metadata": {},
   "outputs": [
    {
     "name": "stdin",
     "output_type": "stream",
     "text": [
      "And another one:  3\n"
     ]
    }
   ],
   "source": [
    "c = int(input(\"And another one: \"))"
   ]
  },
  {
   "cell_type": "code",
   "execution_count": 35,
   "metadata": {},
   "outputs": [],
   "source": [
    "def max_3(int1,int2,int3):\n",
    "    int(int1)\n",
    "    int(int2)\n",
    "    int(int3)\n",
    "    \n",
    "    if (int1 > int2) and (int1 > int3):\n",
    "        print(str(int1) + \" is the largest number.\")\n",
    "    elif (int2 > int1) and (int2 > int3):\n",
    "        print(str(int2) + \" is the largest number.\")\n",
    "    elif (int3 > int1) and (int3 > int2):\n",
    "        print(str(int3) + \" is the largest number.\")\n",
    "    else:\n",
    "        print(\"There must have been some mistake somewhere.\")"
   ]
  },
  {
   "cell_type": "code",
   "execution_count": 59,
   "metadata": {},
   "outputs": [
    {
     "name": "stdout",
     "output_type": "stream",
     "text": [
      "18 is the largest number.\n"
     ]
    }
   ],
   "source": [
    "max_3(a,b,c)"
   ]
  },
  {
   "cell_type": "code",
   "execution_count": 51,
   "metadata": {},
   "outputs": [
    {
     "name": "stdout",
     "output_type": "stream",
     "text": [
      "18 is the largest number.\n"
     ]
    }
   ],
   "source": [
    "max_3(5,18,3)"
   ]
  },
  {
   "cell_type": "markdown",
   "metadata": {},
   "source": [
    "# Lecture 8.2\n",
    "\n",
    "### Agenda:\n",
    "\n",
    "- Syllabus changes\n",
    "- CV Assignement\n",
    "- Questions\n",
    "- (if time) pseudocode example"
   ]
  },
  {
   "cell_type": "markdown",
   "metadata": {},
   "source": [
    "### Syllabus changes"
   ]
  },
  {
   "cell_type": "markdown",
   "metadata": {},
   "source": [
    "New Syllabus is up on BB. Here is the grading changes (changes in **BOLD**)\n",
    "\n",
    "To receive an A grade, students must\n",
    "-\tMeet the specifications for receiving a B grade\n",
    "-\tSatisfactorily complete all advanced labs\n",
    "\n",
    "To receive a B grade, students must\n",
    "-\tMeet the specifications for receiving a C grade\n",
    "-\tSatisfactorily complete **one out of three** advanced labs\n",
    "\n",
    "To pass the course with a C, students must\n",
    "-\tMeet the specifications for receiving a D grade \n",
    "-\tSatisfactorily complete the Linear Regression, Timeseries Analysis and **History of Hacking** labs\n",
    "-\tProvide satisfactory course feedback\n",
    "\n",
    "To pass the course with a D, students must \n",
    "-\tSatisfactorily complete all assigned chapters in datacamp **and the associated labs, as well as Cartopy and Movies lab**\n",
    "-\tSatisfactorily complete all components of the final project\n",
    "\n",
    "Failure to deliver a satisfactory final assignment will result in an F, regardless of other assignments done."
   ]
  },
  {
   "cell_type": "markdown",
   "metadata": {},
   "source": [
    "### New Schedule\n",
    "![](revised_schedule.png)"
   ]
  },
  {
   "cell_type": "markdown",
   "metadata": {},
   "source": [
    "### CV assignment, Word and Zotero integration assignment (turn these in with Lab 8.2)\n",
    "\n",
    "- Demo of Overleaf\n",
    "- Demo of Zotero and Word\n",
    "- Demo of Zotero and Overleaf\n",
    "\n",
    "Assignement:\n",
    "\n",
    "You will make a CV in Overleaf using the LaTex typesetting software. Pick a CV template and modify it to have your info. Make sure you include a picture (required, this is to get you used to the syntax for this). Don't get overwhelmed by all the detailed code, just figure out what you need to modify to put in your information.\n",
    "\n",
    "You will submit a word document that is integrated with zotero and features three references. Submit both the document file, and a screenshot of your zotero account with the references in it.\n",
    "\n",
    "Extra Credit (2 assignment tokens):\n",
    "Integrate Overleaf and Zotero. There are two ways to do this, you can integrate zotero directly into overleaf (but I think they charge for this now) or you can export your citations from zotero as a .bib file and upload this into Overleaf. If you're keen, give it a shot! \n"
   ]
  },
  {
   "cell_type": "code",
   "execution_count": null,
   "metadata": {},
   "outputs": [],
   "source": []
  },
  {
   "cell_type": "markdown",
   "metadata": {},
   "source": [
    "### Questions"
   ]
  },
  {
   "cell_type": "code",
   "execution_count": null,
   "metadata": {},
   "outputs": [],
   "source": []
  },
  {
   "cell_type": "markdown",
   "metadata": {},
   "source": [
    "### Pseudocode"
   ]
  },
  {
   "cell_type": "markdown",
   "metadata": {},
   "source": [
    "Practice python fibonacci numbers\n",
    "\n",
    "1,1,2,3,5....\n",
    "\n",
    "the sequence is the sum of the previous two numbers\n",
    "\n",
    "Write a program that asks the user how many Fibonnaci numbers to generate and then generates them. Take this opportunity to think about how you can use functions. Make sure to ask the user to enter the number of numbers in the sequence to generate.(Hint: The Fibonnaci seqence is a sequence of numbers where the next number in the sequence is the sum of the previous two numbers in the sequence. The sequence looks like this: 1, 1, 2, 3, 5, 8, 13, …)\n",
    "\n",
    "\n",
    "\n",
    "\n"
   ]
  },
  {
   "cell_type": "code",
   "execution_count": 37,
   "metadata": {},
   "outputs": [],
   "source": [
    "#inputs: how many Fibonnaci numbers to generate (total_numbers)\n",
    "\n",
    "# output: the numbers\n",
    "\n",
    "# def function(total_numbers):\n",
    "def fibonacci(total_numbers):\n",
    "    \n",
    "    # check if negative or zero\n",
    "    if (total_numbers <= 0):\n",
    "        return \"Error: you must input a positive non-zero number\"\n",
    "    \n",
    "    # if only one is asked for\n",
    "    if total_numbers == 1:\n",
    "        return 0\n",
    "    \n",
    "    #define a counter\n",
    "    # initialize to zero\n",
    "    counter = 0\n",
    "    \n",
    "    # start with 0\n",
    "    num_0 = 0\n",
    "    #print('num_0 = ' + str(num_0)) # put in some print statments to see how it's working\n",
    "    counter = counter +1 \n",
    "    #print('counter = ' + str(counter)) # put in some print statments to see how it's working\n",
    "    \n",
    "    # next one is one\n",
    "    num_1 = 1\n",
    "    #print('num_1 = ' + str(num_1))\n",
    "    counter = counter +1 \n",
    "    #print('counter = ' + str(counter))\n",
    "    \n",
    "    #     ...some kind of looping....\n",
    "    #     get the number of numbers\n",
    "    \n",
    "    last_number = num_1\n",
    "    older_number = num_0\n",
    "    \n",
    "    output = [num_0, num_1]\n",
    "    \n",
    "    while counter < total_numbers:\n",
    "        \n",
    "        # need to save the previous two numbers somehow\n",
    "        \n",
    "        #  the one after is the sum of the previous two numbers\n",
    "        new_num = older_number + last_number\n",
    "        counter = counter +1 \n",
    "        #   print( 'new_num = ' + str(new_num))\n",
    "        #   print('counter = ' + str(counter))\n",
    "\n",
    "        # update the previous two numbers\n",
    "        older_number = last_number\n",
    "        #  print('older_number =' + str(older_number))\n",
    "        last_number = new_num\n",
    "        # print('last_number =' + str(last_number))\n",
    "\n",
    "        #     save output into list\n",
    "        output = output + [new_num]\n",
    "        \n",
    "    print(output)\n",
    "\n",
    "#     do this until I get to the number of numbers that were specified\n",
    "    "
   ]
  },
  {
   "cell_type": "code",
   "execution_count": 38,
   "metadata": {},
   "outputs": [
    {
     "data": {
      "text/plain": [
       "[1, 2, 3]"
      ]
     },
     "execution_count": 38,
     "metadata": {},
     "output_type": "execute_result"
    }
   ],
   "source": [
    "test = [1,2]\n",
    "test + [3]"
   ]
  },
  {
   "cell_type": "code",
   "execution_count": 39,
   "metadata": {},
   "outputs": [
    {
     "name": "stdout",
     "output_type": "stream",
     "text": [
      "[0, 1, 1, 2, 3, 5, 8, 13, 21]\n"
     ]
    }
   ],
   "source": [
    "fibonacci(9)"
   ]
  },
  {
   "cell_type": "code",
   "execution_count": 40,
   "metadata": {},
   "outputs": [
    {
     "name": "stdout",
     "output_type": "stream",
     "text": [
      "[0, 1, 1, 2, 3, 5, 8, 13, 21, 34, 55, 89, 144, 233, 377, 610, 987, 1597, 2584, 4181]\n"
     ]
    }
   ],
   "source": [
    "fibonacci(20)"
   ]
  },
  {
   "cell_type": "code",
   "execution_count": 41,
   "metadata": {},
   "outputs": [
    {
     "name": "stdout",
     "output_type": "stream",
     "text": [
      "[0, 1, 1]\n"
     ]
    }
   ],
   "source": [
    "fibonacci(3)"
   ]
  },
  {
   "cell_type": "code",
   "execution_count": 42,
   "metadata": {},
   "outputs": [
    {
     "data": {
      "text/plain": [
       "'Error: you must input a positive non-zero number'"
      ]
     },
     "execution_count": 42,
     "metadata": {},
     "output_type": "execute_result"
    }
   ],
   "source": [
    "# there are some issues here\n",
    "fibonacci(0)"
   ]
  },
  {
   "cell_type": "markdown",
   "metadata": {},
   "source": [
    "# Lab 8.2"
   ]
  },
  {
   "cell_type": "markdown",
   "metadata": {},
   "source": [
    "**E.1** Go through the following tutorial on pseudocode and logical control. They are coding in a different language (I think C++). You will translate what they did into python. You can do it!\n",
    "\n",
    "https://www.youtube.com/watch?v=PwGA4Lm8zuE\n",
    "\n",
    "Make sure you write your notes out here with your pseudocode. Take your time and think it through"
   ]
  },
  {
   "cell_type": "code",
   "execution_count": 43,
   "metadata": {},
   "outputs": [],
   "source": [
    "#FizzBuzz problem\n",
    "#Write a program that prints numbers 1 to 20\n",
    "#For multiples of 3 print \"Fizz\" instead of num\n",
    "#Multiples of 5 print \"Buzz\"\n",
    "#multiples of both print FizzBuzz\n",
    "#all else just print num\n",
    "\n",
    "#define function fizzbuzz\n",
    "#   FOR LOOP\n",
    "#   initialize and iterate variable with stopping point at 20\n",
    "#      IF variable %3 == 0\n",
    "#           IF variable %5 ==0 too print FIZZBUZZ\n",
    "#           ELSE print Fizz\n",
    "#      ELIF variable %5 == 0 print buzz\n",
    "#      else print num"
   ]
  },
  {
   "cell_type": "code",
   "execution_count": 60,
   "metadata": {},
   "outputs": [],
   "source": [
    "def fizzbuzz():\n",
    "    numnum = np.arange(1,20+1)\n",
    "    for num in numnum:\n",
    "        if num%3 ==0:\n",
    "            if num%5 ==0:\n",
    "                print(\"FizzBuzz!\")\n",
    "            else:\n",
    "                print(\"Fizz\")\n",
    "        elif num%5 ==0:\n",
    "            print(\"Buzz\")\n",
    "        else:\n",
    "            print(num)\n",
    "        num = num+1"
   ]
  },
  {
   "cell_type": "code",
   "execution_count": 61,
   "metadata": {},
   "outputs": [
    {
     "name": "stdout",
     "output_type": "stream",
     "text": [
      "1\n",
      "2\n",
      "Fizz\n",
      "4\n",
      "Buzz\n",
      "Fizz\n",
      "7\n",
      "8\n",
      "Fizz\n",
      "Buzz\n",
      "11\n",
      "Fizz\n",
      "13\n",
      "14\n",
      "FizzBuzz!\n",
      "16\n",
      "17\n",
      "Fizz\n",
      "19\n",
      "Buzz\n"
     ]
    }
   ],
   "source": [
    "fizzbuzz()"
   ]
  },
  {
   "cell_type": "markdown",
   "metadata": {},
   "source": [
    "**E.2** Complete Data Manipulation with pandas Ch 2 in datacamp.\n"
   ]
  },
  {
   "cell_type": "code",
   "execution_count": null,
   "metadata": {},
   "outputs": [],
   "source": []
  },
  {
   "cell_type": "markdown",
   "metadata": {},
   "source": [
    "**E.3** Make notes for yourself on progamming tecniques and commands you learned in the datacamp chapter above, including examples, comments and explainitory text. You can do this here or in a separate notebook that you link to here. Basically, you are making a cheat sheet for yourself."
   ]
  },
  {
   "cell_type": "code",
   "execution_count": null,
   "metadata": {},
   "outputs": [],
   "source": [
    "#cummax and cumsum can be used for cumulative values\n",
    "\n",
    "#.drop_duplicates(subset = name of column) to remove duplicates in a count; can pair columns for dropping duplicates by (subset = [column1 name, column2 name])\n",
    "#.value_counts() can be used for number of times each unique value/name in a column appear, must initialize with DataFrame[name of column] however. can includ .value_counts(sort = True) if want sort\n",
    "#another parameter is (normalize = True) which can show each unique values proportion relative to the total count\n",
    "\n",
    "#grouping is easy: dataframe.groupby(descriptive column you want grouped)[column with data you want manipulated (if necessary)].whatever method you want to manipulate data with\n",
    "#can group by multiple columns: dataframe.groupby([column1,column2]).etcetc\n",
    "#can multigroup multigroups: dataframe.groupby([column1,column2])[[datacolumn1,datacolumn2]].method\n",
    "#.agg can aggregate different summary statistics (ex. min, max, sum, etc.)\n",
    "#.agg([min,max,sum,.mean(),etc.]) IMPORTANT: WHEN USING MEAN AND MEDIAN, CORRECT SYNTAX IN .AGG IS np.mean, np.median NO () OR ANYTHING ELSE\n",
    "\n",
    "#pivot tables\n",
    "#similar process to grouping: dataframe.pivot_table(values = column in dataframe with manipulated data, index = descriptive column, aggfunc is .agg = [np.mean, np.median, etc.etc.])\n",
    "#can do multiple variables as well including a columns parameter\n",
    "#if blank values can use parameter fill_values\n",
    "#margin parameter if True returns a bottom row and right_most column of means not including empty slots"
   ]
  },
  {
   "cell_type": "markdown",
   "metadata": {},
   "source": [
    "### This week's project:\n",
    "\n",
    "This week we will be doing a CV assignment in LaTeX. Make your CV in LaTeX using Overleaf or the LaTeX interface of your choice (Word is not an option!!). You might find a cool template"
   ]
  },
  {
   "cell_type": "markdown",
   "metadata": {},
   "source": [
    "PRACTICE:"
   ]
  },
  {
   "cell_type": "code",
   "execution_count": 62,
   "metadata": {},
   "outputs": [],
   "source": [
    "def driving():\n",
    "    age = int(input(\"Tell me your age and I can tell you if you can drive legally in the US with reasonable insurance: \"))\n",
    "    if age >= 16:\n",
    "        if age >= 25:\n",
    "            print(\"You can legally drive with reasonable insurance.\")\n",
    "        else:\n",
    "            print(\"You can legally drive, but insurance costs are going to be insane.\")"
   ]
  },
  {
   "cell_type": "code",
   "execution_count": 63,
   "metadata": {},
   "outputs": [
    {
     "name": "stdin",
     "output_type": "stream",
     "text": [
      "Tell me your age and I can tell you if you can drive legally in the US with reasonable insurance:  23\n"
     ]
    },
    {
     "name": "stdout",
     "output_type": "stream",
     "text": [
      "You can legally drive, but insurance costs are going to be insane.\n"
     ]
    }
   ],
   "source": [
    "driving()"
   ]
  },
  {
   "cell_type": "code",
   "execution_count": null,
   "metadata": {},
   "outputs": [],
   "source": []
  }
 ],
 "metadata": {
  "kernelspec": {
   "display_name": "Python 3",
   "language": "python",
   "name": "python3"
  },
  "language_info": {
   "codemirror_mode": {
    "name": "ipython",
    "version": 3
   },
   "file_extension": ".py",
   "mimetype": "text/x-python",
   "name": "python",
   "nbconvert_exporter": "python",
   "pygments_lexer": "ipython3",
   "version": "3.8.5"
  }
 },
 "nbformat": 4,
 "nbformat_minor": 5
}
