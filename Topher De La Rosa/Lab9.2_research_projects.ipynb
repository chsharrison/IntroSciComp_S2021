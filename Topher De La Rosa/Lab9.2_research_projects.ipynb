{
 "cells": [
  {
   "cell_type": "markdown",
   "metadata": {},
   "source": [
    "Name: Christopher De La Rosa"
   ]
  },
  {
   "cell_type": "markdown",
   "metadata": {},
   "source": [
    "Labpartner(s)"
   ]
  },
  {
   "cell_type": "code",
   "execution_count": 2,
   "metadata": {},
   "outputs": [],
   "source": [
    "#import statements go here\n",
    "\n",
    "import numpy as np\n",
    "import pandas as pd\n",
    "import matplotlib.pyplot as plt"
   ]
  },
  {
   "cell_type": "markdown",
   "metadata": {},
   "source": [
    "# Class 9.2"
   ]
  },
  {
   "cell_type": "markdown",
   "metadata": {},
   "source": [
    "# Warmups 9.2"
   ]
  },
  {
   "cell_type": "markdown",
   "metadata": {},
   "source": [
    "It was so much fun working together on Monday we will do it again. Spend 15 min working on the following and then we will go over it together:"
   ]
  },
  {
   "cell_type": "markdown",
   "metadata": {},
   "source": [
    "**W.1** Write a function that returns the first n consectutive odd intergers (ex: 1,3,5,7,9 for n = 5) using only logical control (i.e. don't use indexing short cuts to make the odd integers, only for or while loops)"
   ]
  },
  {
   "cell_type": "code",
   "execution_count": 3,
   "metadata": {},
   "outputs": [
    {
     "name": "stdout",
     "output_type": "stream",
     "text": [
      "n = 4\n",
      "3\n",
      "[1, 3]\n",
      "3\n",
      "n = 3\n",
      "5\n",
      "[1, 3, 5]\n",
      "5\n",
      "n = 2\n",
      "7\n",
      "[1, 3, 5, 7]\n",
      "7\n",
      "n = 1\n",
      "9\n",
      "[1, 3, 5, 7, 9]\n",
      "9\n"
     ]
    }
   ],
   "source": [
    "# problem: make consecutive odd intergers and put in a function\n",
    "# ex: n = 5, then 1,3,5,7,9\n",
    "\n",
    "# input is going to be n, which I will use for a counter\n",
    "\n",
    "n = 5 # counter, testing\n",
    "\n",
    "start =1 # first number\n",
    "\n",
    "#initialize my list with the first number\n",
    "my_list = [start] # brakets make it a list\n",
    "\n",
    "new_number = start\n",
    "\n",
    "# some kind of loop\n",
    "while n>1:\n",
    "    \n",
    "    # already have one element, so can count down at the beginning\n",
    "    n = n-1 #decrease counter\n",
    "    # n-=1\n",
    "    print('n = ' + str(n))\n",
    "    \n",
    "    # add two to start and keep doing this\n",
    "    next_num= new_number +2 #3\n",
    "    print(next_num)\n",
    "    \n",
    "    # add the resulting number to my_list\n",
    "    #my_list.append(next_num)\n",
    "    my_list = my_list + [next_num]\n",
    "    print(my_list)\n",
    "\n",
    "    # save the last numer in the list to use next time we go through the loop\n",
    "    new_number = next_num #3\n",
    "    print(new_number)\n",
    "\n",
    "\n",
    "\n"
   ]
  },
  {
   "cell_type": "code",
   "execution_count": 28,
   "metadata": {},
   "outputs": [
    {
     "name": "stdout",
     "output_type": "stream",
     "text": [
      "n = 4\n",
      "3\n",
      "[1, 3]\n",
      "n = 3\n",
      "5\n",
      "[1, 3, 5]\n",
      "n = 2\n",
      "7\n",
      "[1, 3, 5, 7]\n",
      "n = 1\n",
      "9\n",
      "[1, 3, 5, 7, 9]\n"
     ]
    }
   ],
   "source": [
    "# problem: make consecutive odd intergers and put in a function\n",
    "# ex: n = 5, then 1,3,5,7,9\n",
    "\n",
    "# input is going to be n, which I will use for a counter\n",
    "\n",
    "n = 5 # counter, testing\n",
    "\n",
    "start =1 # first number\n",
    "\n",
    "#initialize my list with the first number\n",
    "my_list = [start] # brakets make it a list\n",
    "\n",
    "next_num = start\n",
    "\n",
    "# some kind of loop\n",
    "while n>1:\n",
    "    \n",
    "    # already have one element, so can count down at the beginning\n",
    "    n = n-1 #decrease counter\n",
    "    # n-=1\n",
    "    print('n = ' + str(n))\n",
    "    \n",
    "    # add two to start and keep doing this\n",
    "    next_num= next_num +2 #3\n",
    "    print(next_num)\n",
    "    \n",
    "    # add the resulting number to my_list\n",
    "    #my_list.append(next_num)\n",
    "    my_list = my_list + [next_num]\n",
    "    print(my_list)\n",
    "\n"
   ]
  },
  {
   "cell_type": "code",
   "execution_count": 34,
   "metadata": {},
   "outputs": [],
   "source": [
    "# problem: make consecutive odd intergers and put in a function\n",
    "# ex: n = 5, then 1,3,5,7,9\n",
    "\n",
    "# input is going to be n, the number of integers wanted, which I will use for a counter\n",
    "# output is going to be a list of odd integers\n",
    "\n",
    "def oddnumb(counter):\n",
    "    \"\"\" Function to make a list of odd integers starting with one. The counter is the number of integers to return\"\"\"\n",
    "\n",
    "    n = counter # counter, testing\n",
    "\n",
    "    start =1 # first number\n",
    "\n",
    "    #initialize my list with the first number\n",
    "    my_list = [start] # brakets make it a list\n",
    "\n",
    "    next_num = start\n",
    "\n",
    "    # some kind of loop, count down until we have the number of odd intergers we want in the list (countdown)\n",
    "    while n>1:\n",
    "\n",
    "        # already have one element, so can count down at the beginning\n",
    "        n = n-1 #decrease counter\n",
    "        # n-=1\n",
    "        #print('n = ' + str(n))\n",
    "\n",
    "        # add two to start and keep doing this\n",
    "        next_num= next_num +2 #3\n",
    "        #print(next_num)\n",
    "\n",
    "        # add the resulting number to my_list\n",
    "        #my_list.append(next_num)\n",
    "        my_list = my_list + [next_num]\n",
    "        #print(my_list)\n",
    "        \n",
    "    # return the list of numbers\n",
    "    return my_list"
   ]
  },
  {
   "cell_type": "code",
   "execution_count": 31,
   "metadata": {},
   "outputs": [
    {
     "data": {
      "text/plain": [
       "[1, 3, 5, 7, 9]"
      ]
     },
     "execution_count": 31,
     "metadata": {},
     "output_type": "execute_result"
    }
   ],
   "source": [
    "# now test the function\n",
    "oddnumb(5)"
   ]
  },
  {
   "cell_type": "code",
   "execution_count": 32,
   "metadata": {},
   "outputs": [
    {
     "data": {
      "text/plain": [
       "[1]"
      ]
     },
     "execution_count": 32,
     "metadata": {},
     "output_type": "execute_result"
    }
   ],
   "source": [
    "oddnumb(-5) # we could put an error statment if we wanted to"
   ]
  },
  {
   "cell_type": "code",
   "execution_count": 33,
   "metadata": {},
   "outputs": [
    {
     "data": {
      "text/plain": [
       "[1, 3, 5, 7, 9, 11, 13, 15, 17, 19]"
      ]
     },
     "execution_count": 33,
     "metadata": {},
     "output_type": "execute_result"
    }
   ],
   "source": [
    "oddnumb(10)"
   ]
  },
  {
   "cell_type": "code",
   "execution_count": null,
   "metadata": {},
   "outputs": [],
   "source": []
  },
  {
   "cell_type": "markdown",
   "metadata": {},
   "source": [
    "#### Scratch"
   ]
  },
  {
   "cell_type": "code",
   "execution_count": 24,
   "metadata": {},
   "outputs": [],
   "source": [
    "# trick to initilize as a list\n",
    "my_list = []"
   ]
  },
  {
   "cell_type": "code",
   "execution_count": 18,
   "metadata": {},
   "outputs": [],
   "source": [
    "my_list = [start]"
   ]
  },
  {
   "cell_type": "code",
   "execution_count": 25,
   "metadata": {},
   "outputs": [
    {
     "data": {
      "text/plain": [
       "list"
      ]
     },
     "execution_count": 25,
     "metadata": {},
     "output_type": "execute_result"
    }
   ],
   "source": [
    "type(my_list)"
   ]
  },
  {
   "cell_type": "code",
   "execution_count": 23,
   "metadata": {},
   "outputs": [
    {
     "name": "stdout",
     "output_type": "stream",
     "text": [
      "[1, 3]\n"
     ]
    }
   ],
   "source": [
    "start =1 # first number\n",
    "#initialize my list with the first number\n",
    "\n",
    "my_list = [start] #define my_list as a list to start with, so we can append things to it\n",
    "#my_list = start \n",
    "\n",
    "next_num = start+2 # 3\n",
    "\n",
    "# add next_num to my_list\n",
    "#my_list.append(next_num)\n",
    "my_list = my_list + [next_num]\n",
    "\n",
    "\n",
    "print(my_list)\n",
    "#print(next_num)"
   ]
  },
  {
   "cell_type": "code",
   "execution_count": 22,
   "metadata": {},
   "outputs": [
    {
     "data": {
      "text/plain": [
       "[4, 5, 7, 8]"
      ]
     },
     "execution_count": 22,
     "metadata": {},
     "output_type": "execute_result"
    }
   ],
   "source": [
    "[4, 5] + [7, 8]"
   ]
  },
  {
   "cell_type": "markdown",
   "metadata": {},
   "source": [
    "**Extra:** Modify your function so that it can start anywhere. That is, add a second input that gives a starting integer. Ex: 7,9,11 for n = 3 and a starting value of 7"
   ]
  },
  {
   "cell_type": "markdown",
   "metadata": {},
   "source": [
    "For Monday: do the extra, do evens, add user input"
   ]
  },
  {
   "cell_type": "markdown",
   "metadata": {},
   "source": [
    "# Lecture 9.2\n",
    "\n",
    "### Agenda:\n",
    "- Research project assignment and what is due this week\n",
    "- Links to previous class githubs are in our github in the resources document in the Course Materials folder: https://github.com/chsharrison/IntroSciComp_S2021/blob/main/Class_materials/resources.md"
   ]
  },
  {
   "cell_type": "markdown",
   "metadata": {},
   "source": [
    "#### Reminders\n",
    "- Many of you need to make up \"show us your functions\" we will do this in office hours or by appointment. I want to make sure everyone gets this function syntax down. See column in BB for above. Many of you need to redo this.\n",
    "- To get tokens for turning in labs or finishing datacamp chapters early, you need to send me and Adrian a message on slack (see instructions I gave you, on blackboard and in previous labs). We won't notice unless you tell us to look."
   ]
  },
  {
   "cell_type": "code",
   "execution_count": null,
   "metadata": {},
   "outputs": [],
   "source": []
  },
  {
   "cell_type": "markdown",
   "metadata": {},
   "source": [
    "### Questions"
   ]
  },
  {
   "cell_type": "code",
   "execution_count": null,
   "metadata": {},
   "outputs": [],
   "source": []
  },
  {
   "cell_type": "code",
   "execution_count": null,
   "metadata": {},
   "outputs": [],
   "source": []
  },
  {
   "cell_type": "markdown",
   "metadata": {},
   "source": [
    "# Lab 9.2"
   ]
  },
  {
   "cell_type": "markdown",
   "metadata": {},
   "source": [
    "**E.1** Complete Data Manipulation with pandas Ch 4 in datacamp.\n"
   ]
  },
  {
   "cell_type": "code",
   "execution_count": null,
   "metadata": {},
   "outputs": [],
   "source": []
  },
  {
   "cell_type": "markdown",
   "metadata": {},
   "source": [
    "**E.2** Make notes for yourself on progamming tecniques and commands you learned in the datacamp chapter above, including examples, comments and explainitory text. You can do this here or in a separate notebook that you link to here. Basically, you are making a cheat sheet for yourself."
   ]
  },
  {
   "cell_type": "code",
   "execution_count": null,
   "metadata": {},
   "outputs": [],
   "source": [
    "#histogram transperancy modifier is parameter in .hist(alpha = 0 to 1)\n",
    "#.isna() shows missing values, .isna().any() for finding if one column/index has any NaNs, and .isna().sum() to count how many in each\n",
    "#missing data plotable, .isna().sum().plot\n",
    "#can drop missing data .dropna(), or better to fill with .fillna(0)\n",
    "\n",
    "#on making dataframes, i had a slip-up and forgot that \"\"'s weren't needed for the integers in that exercise and that is why they are at 0 xp, because I couldn't figure out what i did wrong"
   ]
  },
  {
   "cell_type": "markdown",
   "metadata": {},
   "source": [
    "### This week's project:\n",
    "\n",
    "This week you will be doing two things, planning on what grade you will get in this course (due Thursday with lab 9.1) and submitting your research topic (due Sunday with lab 9.2). "
   ]
  },
  {
   "cell_type": "markdown",
   "metadata": {},
   "source": [
    "**E.4** Write a few sentances about what you plan to do for your research project. See tab in BB to turn this in"
   ]
  },
  {
   "cell_type": "code",
   "execution_count": null,
   "metadata": {},
   "outputs": [],
   "source": [
    "print(\"I am going to plot/analyze soil temperatures that have been taken from similar experiments that I plan to run, and *attempt* to extrapolate the data to our region based on the trends and temp.\")\n",
    "print(\"As in, if I can find the full dataset of the day so I can analyze and see if I can predict soil temperature here.\")"
   ]
  },
  {
   "cell_type": "code",
   "execution_count": 11,
   "metadata": {},
   "outputs": [],
   "source": [
    "np.random.seed(123)\n",
    "\n",
    "def game():\n",
    "    num = int(input(\"Hey let's play a game! What number am I thinking of between 1 and 100? Guess: \"))\n",
    "    random = np.random.randint(1,101)\n",
    "    \n",
    "    if num == random:\n",
    "        print(\"Hey, you got it right!\")\n",
    "    elif (num < 1) | (num > 100):\n",
    "        print(\"Hey, I said a number between 1 and 100! Oh well.\")\n",
    "    else:\n",
    "        print(\"Nope! I was thinking of \" + str(random) + \".\")\n",
    "        \n",
    "    print(\"Thanks for playing!\")"
   ]
  },
  {
   "cell_type": "code",
   "execution_count": 30,
   "metadata": {},
   "outputs": [
    {
     "name": "stdin",
     "output_type": "stream",
     "text": [
      "Hey let's play a game! What number am I thinking of between 1 and 100? Guess:  97\n"
     ]
    },
    {
     "name": "stdout",
     "output_type": "stream",
     "text": [
      "Hey, you got it right!\n",
      "Thanks for playing!\n"
     ]
    }
   ],
   "source": [
    "game()"
   ]
  },
  {
   "cell_type": "code",
   "execution_count": null,
   "metadata": {},
   "outputs": [],
   "source": []
  }
 ],
 "metadata": {
  "kernelspec": {
   "display_name": "Python 3",
   "language": "python",
   "name": "python3"
  },
  "language_info": {
   "codemirror_mode": {
    "name": "ipython",
    "version": 3
   },
   "file_extension": ".py",
   "mimetype": "text/x-python",
   "name": "python",
   "nbconvert_exporter": "python",
   "pygments_lexer": "ipython3",
   "version": "3.7.7"
  }
 },
 "nbformat": 4,
 "nbformat_minor": 5
}
