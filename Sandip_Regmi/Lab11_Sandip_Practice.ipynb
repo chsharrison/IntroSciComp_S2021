{
 "cells": [
  {
   "cell_type": "code",
   "execution_count": 2,
   "metadata": {},
   "outputs": [
    {
     "name": "stdout",
     "output_type": "stream",
     "text": [
      "0.2222222222222222\n",
      "33\n"
     ]
    }
   ],
   "source": [
    "# Division\n",
    "print(10 / 45)\n",
    "\n",
    "#Addition\n",
    "print(21 + 12)"
   ]
  },
  {
   "cell_type": "code",
   "execution_count": 3,
   "metadata": {},
   "outputs": [
    {
     "name": "stdout",
     "output_type": "stream",
     "text": [
      "672.7499949325611\n"
     ]
    }
   ],
   "source": [
    "#Suppose you have $100, which you can invest with a 10% return each year. Calculate its worth after 20 year\n",
    "print(100 * 1.1 ** 20)"
   ]
  },
  {
   "cell_type": "code",
   "execution_count": 4,
   "metadata": {},
   "outputs": [
    {
     "name": "stdout",
     "output_type": "stream",
     "text": [
      "200\n"
     ]
    }
   ],
   "source": [
    "mysave = 200\n",
    "print(mysave)"
   ]
  },
  {
   "cell_type": "code",
   "execution_count": 9,
   "metadata": {},
   "outputs": [
    {
     "name": "stdout",
     "output_type": "stream",
     "text": [
      " My saving of this month is $200 and I would like to spent it on buying python advanced course.\n"
     ]
    }
   ],
   "source": [
    "#addition of different data types\n",
    "print(\" My saving of this month is $\" + str(mysave) + \" and I would like to spent it on buying Python Advanced course.\")"
   ]
  },
  {
   "cell_type": "code",
   "execution_count": 12,
   "metadata": {},
   "outputs": [
    {
     "name": "stdout",
     "output_type": "stream",
     "text": [
      " Woww Woww Woww Woww \n"
     ]
    }
   ],
   "source": [
    "#Typing one word multiple times:\n",
    "print(\" Woww \" + (\"Woww \") *3)"
   ]
  },
  {
   "cell_type": "code",
   "execution_count": 13,
   "metadata": {},
   "outputs": [],
   "source": [
    "#Define Pi\n",
    "Pie_Str = \"3.1416\"\n",
    "pie_float = float(Pie_Str) "
   ]
  },
  {
   "cell_type": "code",
   "execution_count": 16,
   "metadata": {},
   "outputs": [
    {
     "name": "stdout",
     "output_type": "stream",
     "text": [
      "[21.35, 42, 22, 6]\n",
      "[['my table', 21.35], [' my bed', 42], [' my chair', 22], [' my pillow', 6]]\n",
      "<class 'list'>\n"
     ]
    }
   ],
   "source": [
    "#My Stuff area\n",
    "table = 21.35\n",
    "bed = 42\n",
    "chair = 22\n",
    "pillow = 6\n",
    "\n",
    "area = [table, bed, chair, pillow]\n",
    "print(area)\n",
    "\n",
    "MYROOM = [[\"my table\", table],\n",
    "         [\" my bed\", bed],\n",
    "         [\" my chair\", chair],\n",
    "         [\" my pillow\", pillow]]\n",
    "print(MYROOM)\n",
    "print(type(MYROOM))"
   ]
  },
  {
   "cell_type": "code",
   "execution_count": null,
   "metadata": {},
   "outputs": [],
   "source": []
  }
 ],
 "metadata": {
  "kernelspec": {
   "display_name": "Python 3",
   "language": "python",
   "name": "python3"
  },
  "language_info": {
   "codemirror_mode": {
    "name": "ipython",
    "version": 3
   },
   "file_extension": ".py",
   "mimetype": "text/x-python",
   "name": "python",
   "nbconvert_exporter": "python",
   "pygments_lexer": "ipython3",
   "version": "3.8.5"
  }
 },
 "nbformat": 4,
 "nbformat_minor": 4
}
