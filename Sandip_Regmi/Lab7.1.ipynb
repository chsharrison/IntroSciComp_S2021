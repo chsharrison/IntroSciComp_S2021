{
 "cells": [
  {
   "cell_type": "markdown",
   "metadata": {},
   "source": [
    "Name Sandip Regmi"
   ]
  },
  {
   "cell_type": "markdown",
   "metadata": {},
   "source": [
    "Labpartner(s): Dwight"
   ]
  },
  {
   "cell_type": "code",
   "execution_count": null,
   "metadata": {},
   "outputs": [],
   "source": [
    "#import statements go here"
   ]
  },
  {
   "cell_type": "markdown",
   "metadata": {},
   "source": [
    "# Class 7.1"
   ]
  },
  {
   "cell_type": "markdown",
   "metadata": {},
   "source": [
    "Hope everyone is recovering from the freeze. Being in survival mode is stressful! I am going to attemt to be easy on you this week. As announced, there are no labs assigned last week, we are just taking a pass on those. I may have to shuffle some of the later material in the schedule, TBD.\n",
    "\n",
    "I am having special office hours tomorrow, Tuesday 2-3 on the class zoom channel. I am asking those of you who are behind on any labs to check in with me and make a plan. If you can't make that time, let's schedule another one ASAP. Please note that you cannot miss these early labs and pass the class, and the material builds, so it is critical we get you caught up.\n"
   ]
  },
  {
   "cell_type": "markdown",
   "metadata": {},
   "source": [
    "This week we are going to do more plotting, learn about functions, and apply this to your datasets. Next Monday we will have present your work day again, see below for details. Hopefully at this point the material is building to the point where it is not all forein and you will feel a bit more confident.\n",
    "\n",
    "Originally we had introduction of Zotero and a CV assignment on the schedule for this week, but I'm pushing that until next week so we have less new material to deal with this week."
   ]
  },
  {
   "cell_type": "markdown",
   "metadata": {},
   "source": [
    "# Warmups 7.1"
   ]
  },
  {
   "cell_type": "markdown",
   "metadata": {},
   "source": [
    "**W.1** Go through 1.4.1.5 Indexing and Slicking in the scipy lecture notes, up to the exercises, which you will do on Wednesday. http://scipy-lectures.org/intro/numpy/array_object.html#id2"
   ]
  },
  {
   "cell_type": "code",
   "execution_count": null,
   "metadata": {},
   "outputs": [],
   "source": []
  },
  {
   "cell_type": "markdown",
   "metadata": {},
   "source": [
    "# Lecture 7.1\n",
    "\n",
    "### Agenda:\n",
    "\n",
    "- The Parable Of Finding Nemo, or How To Do The Seemingly Impossible\n",
    "- Questions\n",
    "- Functions!\n"
   ]
  },
  {
   "cell_type": "markdown",
   "metadata": {},
   "source": [
    "### Questions"
   ]
  },
  {
   "cell_type": "code",
   "execution_count": null,
   "metadata": {},
   "outputs": [],
   "source": []
  },
  {
   "cell_type": "code",
   "execution_count": null,
   "metadata": {},
   "outputs": [],
   "source": []
  },
  {
   "cell_type": "markdown",
   "metadata": {},
   "source": [
    "### Functions\n",
    "\n",
    "Functions are super-useful for doing repetative tasks. You have been using pre-defined functions constantly, when you define arrays, make a plot, or analyse data. Now you are going to learn to write your own.\n",
    "\n",
    "For more information on functions and documenting:\n",
    "- http://scipy-lectures.org/intro/language/functions.html?highlight=functions\n",
    "- https://realpython.com/documenting-python-code/\n",
    "\n",
    "\n",
    "Basic syntax:"
   ]
  },
  {
   "cell_type": "code",
   "execution_count": null,
   "metadata": {},
   "outputs": [],
   "source": [
    "# first you define the function\n",
    "\n",
    "def function_name():\n",
    "    # some code that does something\n",
    "    print('Inside the function')"
   ]
  },
  {
   "cell_type": "code",
   "execution_count": null,
   "metadata": {},
   "outputs": [],
   "source": [
    "# then you call the function\n",
    "function_name()"
   ]
  },
  {
   "cell_type": "markdown",
   "metadata": {},
   "source": [
    "Note that defined funtions show up using whos"
   ]
  },
  {
   "cell_type": "code",
   "execution_count": null,
   "metadata": {},
   "outputs": [],
   "source": [
    "whos"
   ]
  },
  {
   "cell_type": "markdown",
   "metadata": {},
   "source": [
    "That's a really useless function, let's make a better one."
   ]
  },
  {
   "cell_type": "code",
   "execution_count": null,
   "metadata": {},
   "outputs": [],
   "source": [
    "# usually you want to pass a varible of some sort to the function to manipulate\n",
    "\n",
    "def circle_area(radius):\n",
    "    area = 3.14*radius**2\n",
    "    return area   # the return statement means that the function will return that variable"
   ]
  },
  {
   "cell_type": "code",
   "execution_count": null,
   "metadata": {},
   "outputs": [],
   "source": [
    "circle_area(5)"
   ]
  },
  {
   "cell_type": "markdown",
   "metadata": {},
   "source": [
    "What happens if I don't add the required input?"
   ]
  },
  {
   "cell_type": "code",
   "execution_count": null,
   "metadata": {},
   "outputs": [],
   "source": []
  },
  {
   "cell_type": "markdown",
   "metadata": {},
   "source": [
    "What happens if I omit the return statement?"
   ]
  },
  {
   "cell_type": "code",
   "execution_count": null,
   "metadata": {},
   "outputs": [],
   "source": []
  },
  {
   "cell_type": "markdown",
   "metadata": {},
   "source": [
    "How do I save the function output to a variable?"
   ]
  },
  {
   "cell_type": "code",
   "execution_count": null,
   "metadata": {},
   "outputs": [],
   "source": []
  },
  {
   "cell_type": "markdown",
   "metadata": {},
   "source": [
    "Does the area variable inside the function exist outside of it?"
   ]
  },
  {
   "cell_type": "code",
   "execution_count": null,
   "metadata": {},
   "outputs": [],
   "source": []
  },
  {
   "cell_type": "markdown",
   "metadata": {},
   "source": [
    "Note I also could have made my function like this:"
   ]
  },
  {
   "cell_type": "code",
   "execution_count": null,
   "metadata": {},
   "outputs": [],
   "source": [
    "def circle_area4(radius):\n",
    "    return 3.14*radius**2"
   ]
  },
  {
   "cell_type": "code",
   "execution_count": null,
   "metadata": {},
   "outputs": [],
   "source": [
    "circle_area4(5)"
   ]
  },
  {
   "cell_type": "markdown",
   "metadata": {},
   "source": [
    "### Parsing for bad imput"
   ]
  },
  {
   "cell_type": "markdown",
   "metadata": {},
   "source": [
    "Note my above function will work even if the input is negative, which is not reasonable. So I probably want to include a statement that checks if the input is weird."
   ]
  },
  {
   "cell_type": "code",
   "execution_count": null,
   "metadata": {},
   "outputs": [],
   "source": [
    "def circle_area5(radius):\n",
    "    \n",
    "    # put in an if statement to handle bad inputs\n",
    "    \n",
    "    \n",
    "    return 3.14*radius**2"
   ]
  },
  {
   "cell_type": "code",
   "execution_count": null,
   "metadata": {},
   "outputs": [],
   "source": [
    "circle_area5(-3)"
   ]
  },
  {
   "cell_type": "code",
   "execution_count": null,
   "metadata": {},
   "outputs": [],
   "source": [
    "circle_area5(3)"
   ]
  },
  {
   "cell_type": "markdown",
   "metadata": {},
   "source": [
    "### Using packages within functions"
   ]
  },
  {
   "cell_type": "markdown",
   "metadata": {},
   "source": [
    "We can also have import statements within a function, but this can slow the function down if the package is not loaded already"
   ]
  },
  {
   "cell_type": "code",
   "execution_count": null,
   "metadata": {},
   "outputs": [],
   "source": [
    "def circle_area6(radius):\n",
    "    import numpy as np\n",
    "    \n",
    "    return np.pi*radius**2"
   ]
  },
  {
   "cell_type": "code",
   "execution_count": null,
   "metadata": {},
   "outputs": [],
   "source": [
    "circle_area6(3) # note this is a much more accurate"
   ]
  },
  {
   "cell_type": "markdown",
   "metadata": {},
   "source": [
    "We can have the function inputs have pre-defined default values, so that if you don't pass a variable it will use the default"
   ]
  },
  {
   "cell_type": "code",
   "execution_count": null,
   "metadata": {},
   "outputs": [],
   "source": [
    "def circle_area7(radius = 3):\n",
    "    import numpy as np #import numpy so we can use the more exact value of pi\n",
    "    \n",
    "    return np.pi*radius**2"
   ]
  },
  {
   "cell_type": "code",
   "execution_count": null,
   "metadata": {},
   "outputs": [],
   "source": [
    "circle_area7() # no argument given, so uses radius = 3 by default"
   ]
  },
  {
   "cell_type": "markdown",
   "metadata": {},
   "source": [
    "Is numpy imported outside the function? Let's check"
   ]
  },
  {
   "cell_type": "code",
   "execution_count": null,
   "metadata": {},
   "outputs": [],
   "source": []
  },
  {
   "cell_type": "code",
   "execution_count": null,
   "metadata": {},
   "outputs": [],
   "source": [
    "# can our function handle lists? Let's check\n",
    "r = [1,2,3]\n",
    "circle_area7(r)\n",
    "\n"
   ]
  },
  {
   "cell_type": "code",
   "execution_count": null,
   "metadata": {},
   "outputs": [],
   "source": [
    "# can our function handle arrays?\n",
    "\n",
    "rnp = np.array(r)\n",
    "circle_area7(rnp)\n",
    "\n",
    "# what type of variable did the function return?"
   ]
  },
  {
   "cell_type": "markdown",
   "metadata": {},
   "source": [
    "### It is very useful to add some documentation string info to your functions"
   ]
  },
  {
   "cell_type": "code",
   "execution_count": null,
   "metadata": {},
   "outputs": [],
   "source": [
    "def circle_area7(radius = 3):\n",
    "    \"\"\" Returns the area of a circle given the radius. \n",
    "    Assumes the radius is 3 if not supplied. \"\"\"\n",
    "    import numpy as np\n",
    "    \n",
    "    return np.pi*radius**2"
   ]
  },
  {
   "cell_type": "markdown",
   "metadata": {},
   "source": [
    "Now my note in the triple quotes shows up as a docstring"
   ]
  },
  {
   "cell_type": "code",
   "execution_count": null,
   "metadata": {},
   "outputs": [],
   "source": [
    "circle_area7?"
   ]
  },
  {
   "cell_type": "markdown",
   "metadata": {},
   "source": [
    "There is a standard practice in programming to write out the Parameters (inputs/arguments) and Returns (output) in the docstring. Let's look a this for a predefined function and then make if for our simple function."
   ]
  },
  {
   "cell_type": "code",
   "execution_count": null,
   "metadata": {},
   "outputs": [],
   "source": []
  },
  {
   "cell_type": "code",
   "execution_count": null,
   "metadata": {},
   "outputs": [],
   "source": [
    "import numpy as np"
   ]
  },
  {
   "cell_type": "code",
   "execution_count": null,
   "metadata": {},
   "outputs": [],
   "source": [
    "np.max?"
   ]
  },
  {
   "cell_type": "code",
   "execution_count": null,
   "metadata": {},
   "outputs": [],
   "source": [
    "def circle_area7(radius = 3):\n",
    "    \"\"\" Returns the area of a circle given the radius. \n",
    "    \n",
    "    Parameters\n",
    "    ----------\n",
    "    radus: array like, radius of the circle\n",
    "    Assumes the radius is 3 if not supplied.\n",
    "    \n",
    "    Returns\n",
    "    -------\n",
    "    area: ndarray or scalar\n",
    "    Returns the area for the given radii\n",
    "    \n",
    "    \"\"\"\n",
    "    \n",
    "    import numpy as np\n",
    "    \n",
    "    return np.pi*radius**2"
   ]
  },
  {
   "cell_type": "code",
   "execution_count": null,
   "metadata": {},
   "outputs": [],
   "source": [
    "circle_area7?"
   ]
  },
  {
   "cell_type": "code",
   "execution_count": null,
   "metadata": {},
   "outputs": [],
   "source": []
  },
  {
   "cell_type": "markdown",
   "metadata": {},
   "source": [
    "# Lab 7.1"
   ]
  },
  {
   "cell_type": "markdown",
   "metadata": {},
   "source": [
    "**E.1** Complete Introduction to Data Visualization with Matplotlib Chapters 1-2\n"
   ]
  },
  {
   "cell_type": "code",
   "execution_count": null,
   "metadata": {},
   "outputs": [],
   "source": []
  },
  {
   "cell_type": "markdown",
   "metadata": {},
   "source": [
    "**E.2** Make notes for yourself on progamming tecniques and commands you learned in the datacamp chapter above, including examples, comments and explainitory text. You can do this here or in a separate notebook that you link to here. Basically, you are making a cheat sheet for yourself."
   ]
  },
  {
   "cell_type": "code",
   "execution_count": null,
   "metadata": {},
   "outputs": [],
   "source": []
  },
  {
   "cell_type": "markdown",
   "metadata": {},
   "source": [
    "### This week's project:\n",
    "\n",
    "For Monday's class you will write two functions that work on your dataset (you can use the same dataset or a different one). The first function will do some sort of analysis, manipulation or calculation, the second will be a plotting function. The idea here is that if you had another datafile that was similar, you could use the function to do the operation again easily."
   ]
  },
  {
   "cell_type": "markdown",
   "metadata": {},
   "source": [
    "**E.3** Write one or more functions that manipulate your dataset and do some sort of analysis. You will present these to the class on Monday."
   ]
  },
  {
   "cell_type": "code",
   "execution_count": 1,
   "metadata": {},
   "outputs": [],
   "source": [
    "import numpy as np\n",
    "import matplotlib.pyplot as plt\n",
    "import pandas as pd\n",
    "import statistics\n"
   ]
  },
  {
   "cell_type": "code",
   "execution_count": 2,
   "metadata": {},
   "outputs": [],
   "source": [
    "US_Tech = {'Jan 20': {'Open' : '74.287', 'Close' : '74.5975', 'High' : '75.225'}, 'Feb 20': {'Open' : '80.88', 'Close' : '79.90255', 'High' : '81.305'}, 'Mar 20': {'Open' : '74.11', 'Close' : '71.335', 'High' : '75.85'}, 'Apr 20': {'Open' : '61.625', 'Close' : '64.85', 'High' : '67.925'}, 'May 20': {'Open' : '75.115', 'Close' : '74.39', 'High' : '71.45'}, 'Jun 20': {'Open' : '81.1657', 'Close' : '91.632', 'High' : '94.655'}, 'Jul 20': {'Open' : '94.18', 'Close' : '97.05', 'High' : '98.652'}, 'Aug 20': {'Open' : '109.254', 'Close' : '109.375', 'High' : '114.412'}, 'Sep 20': {'Open' : '137.59', 'Close' : '112.82', 'High' : '137.98'}, 'Oct 20': {'Open' : '113.79', 'Close' : '110.236', 'High' : '114.3556'}, 'Nov 20': {'Open' : '117.18', 'Close' : '112.325', 'High' : '119.547'}, 'Dec 20': {'Open' : '132.547', 'Close' : '137.889', 'High' : '142.021'},}"
   ]
  },
  {
   "cell_type": "code",
   "execution_count": 3,
   "metadata": {},
   "outputs": [],
   "source": [
    "nyse = pd.DataFrame(US_Tech)"
   ]
  },
  {
   "cell_type": "code",
   "execution_count": 4,
   "metadata": {},
   "outputs": [],
   "source": [
    "pd_Tech = (pd.DataFrame(US_Tech))"
   ]
  },
  {
   "cell_type": "code",
   "execution_count": 5,
   "metadata": {},
   "outputs": [],
   "source": [
    "pd_Tech.to_csv('pd_Tech.csv')"
   ]
  },
  {
   "cell_type": "code",
   "execution_count": 6,
   "metadata": {},
   "outputs": [
    {
     "data": {
      "text/html": [
       "<div>\n",
       "<style scoped>\n",
       "    .dataframe tbody tr th:only-of-type {\n",
       "        vertical-align: middle;\n",
       "    }\n",
       "\n",
       "    .dataframe tbody tr th {\n",
       "        vertical-align: top;\n",
       "    }\n",
       "\n",
       "    .dataframe thead th {\n",
       "        text-align: right;\n",
       "    }\n",
       "</style>\n",
       "<table border=\"1\" class=\"dataframe\">\n",
       "  <thead>\n",
       "    <tr style=\"text-align: right;\">\n",
       "      <th></th>\n",
       "      <th>Jan 20</th>\n",
       "      <th>Feb 20</th>\n",
       "      <th>Mar 20</th>\n",
       "      <th>Apr 20</th>\n",
       "      <th>May 20</th>\n",
       "      <th>Jun 20</th>\n",
       "      <th>Jul 20</th>\n",
       "      <th>Aug 20</th>\n",
       "      <th>Sep 20</th>\n",
       "      <th>Oct 20</th>\n",
       "      <th>Nov 20</th>\n",
       "      <th>Dec 20</th>\n",
       "    </tr>\n",
       "  </thead>\n",
       "  <tbody>\n",
       "    <tr>\n",
       "      <td>Open</td>\n",
       "      <td>74.287</td>\n",
       "      <td>80.88</td>\n",
       "      <td>74.11</td>\n",
       "      <td>61.625</td>\n",
       "      <td>75.115</td>\n",
       "      <td>81.1657</td>\n",
       "      <td>94.18</td>\n",
       "      <td>109.254</td>\n",
       "      <td>137.59</td>\n",
       "      <td>113.79</td>\n",
       "      <td>117.18</td>\n",
       "      <td>132.547</td>\n",
       "    </tr>\n",
       "    <tr>\n",
       "      <td>Close</td>\n",
       "      <td>74.5975</td>\n",
       "      <td>79.90255</td>\n",
       "      <td>71.335</td>\n",
       "      <td>64.85</td>\n",
       "      <td>74.39</td>\n",
       "      <td>91.632</td>\n",
       "      <td>97.05</td>\n",
       "      <td>109.375</td>\n",
       "      <td>112.82</td>\n",
       "      <td>110.236</td>\n",
       "      <td>112.325</td>\n",
       "      <td>137.889</td>\n",
       "    </tr>\n",
       "    <tr>\n",
       "      <td>High</td>\n",
       "      <td>75.225</td>\n",
       "      <td>81.305</td>\n",
       "      <td>75.85</td>\n",
       "      <td>67.925</td>\n",
       "      <td>71.45</td>\n",
       "      <td>94.655</td>\n",
       "      <td>98.652</td>\n",
       "      <td>114.412</td>\n",
       "      <td>137.98</td>\n",
       "      <td>114.3556</td>\n",
       "      <td>119.547</td>\n",
       "      <td>142.021</td>\n",
       "    </tr>\n",
       "  </tbody>\n",
       "</table>\n",
       "</div>"
      ],
      "text/plain": [
       "        Jan 20    Feb 20  Mar 20  Apr 20  May 20   Jun 20  Jul 20   Aug 20  \\\n",
       "Open    74.287     80.88   74.11  61.625  75.115  81.1657   94.18  109.254   \n",
       "Close  74.5975  79.90255  71.335   64.85   74.39   91.632   97.05  109.375   \n",
       "High    75.225    81.305   75.85  67.925   71.45   94.655  98.652  114.412   \n",
       "\n",
       "       Sep 20    Oct 20   Nov 20   Dec 20  \n",
       "Open   137.59    113.79   117.18  132.547  \n",
       "Close  112.82   110.236  112.325  137.889  \n",
       "High   137.98  114.3556  119.547  142.021  "
      ]
     },
     "execution_count": 6,
     "metadata": {},
     "output_type": "execute_result"
    }
   ],
   "source": [
    "pd_Tech"
   ]
  },
  {
   "cell_type": "code",
   "execution_count": null,
   "metadata": {},
   "outputs": [],
   "source": []
  },
  {
   "cell_type": "markdown",
   "metadata": {},
   "source": [
    "**E.4** If you haven't yet, complete the introductions assignment on slack (add the channel, introduce yourself)"
   ]
  },
  {
   "cell_type": "code",
   "execution_count": 7,
   "metadata": {},
   "outputs": [],
   "source": [
    "#Done earlier"
   ]
  },
  {
   "cell_type": "code",
   "execution_count": null,
   "metadata": {},
   "outputs": [],
   "source": []
  }
 ],
 "metadata": {
  "kernelspec": {
   "display_name": "Python 3",
   "language": "python",
   "name": "python3"
  },
  "language_info": {
   "codemirror_mode": {
    "name": "ipython",
    "version": 3
   },
   "file_extension": ".py",
   "mimetype": "text/x-python",
   "name": "python",
   "nbconvert_exporter": "python",
   "pygments_lexer": "ipython3",
   "version": "3.6.9"
  }
 },
 "nbformat": 4,
 "nbformat_minor": 5
}
