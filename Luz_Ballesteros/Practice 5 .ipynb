{
 "cells": [
  {
   "cell_type": "raw",
   "metadata": {},
   "source": [
    "WEEK 5 PRACTICE "
   ]
  },
  {
   "cell_type": "code",
   "execution_count": 1,
   "metadata": {},
   "outputs": [],
   "source": [
    "#STATEMENTS \n",
    "import numpy as np \n",
    "import pandas as pd"
   ]
  },
  {
   "cell_type": "markdown",
   "metadata": {},
   "source": [
    "#creating a Fibonacci series between 0 and 60\n"
   ]
  },
  {
   "cell_type": "code",
   "execution_count": 2,
   "metadata": {},
   "outputs": [],
   "source": [
    "#the first two numbers \n",
    "x,y = 0,1"
   ]
  },
  {
   "cell_type": "code",
   "execution_count": 3,
   "metadata": {},
   "outputs": [
    {
     "name": "stdout",
     "output_type": "stream",
     "text": [
      "1\n",
      "1\n",
      "2\n",
      "3\n",
      "5\n",
      "8\n",
      "13\n",
      "21\n",
      "34\n",
      "55\n"
     ]
    }
   ],
   "source": [
    "while y<60:\n",
    "    print(y)\n",
    "    x,y= y,x+y"
   ]
  },
  {
   "cell_type": "code",
   "execution_count": 5,
   "metadata": {},
   "outputs": [
    {
     "data": {
      "text/plain": [
       "1"
      ]
     },
     "execution_count": 5,
     "metadata": {},
     "output_type": "execute_result"
    }
   ],
   "source": [
    "#generating a random number \n",
    "z = np.random.randint(0,20)\n",
    "z"
   ]
  },
  {
   "cell_type": "code",
   "execution_count": 6,
   "metadata": {},
   "outputs": [
    {
     "name": "stdout",
     "output_type": "stream",
     "text": [
      "Enter your grade: 80\n",
      "Enter your grade: 70\n",
      "Enter your grade: 90\n",
      "Yay you got an A\n"
     ]
    }
   ],
   "source": [
    "#generating loops \n",
    "\n",
    "grades = 3 # this sets the number of input you can do \n",
    "\n",
    "while grades >0:\n",
    "    grade = int(input(\"Enter your grade: \")) \n",
    "    if grade == 90:\n",
    "        print(\"Yay you got an A\")\n",
    "        break \n",
    "else:\n",
    "    print(\"Get working\")"
   ]
  },
  {
   "cell_type": "code",
   "execution_count": 12,
   "metadata": {},
   "outputs": [],
   "source": [
    "## you can also set blank lists \n",
    "desserts = []"
   ]
  },
  {
   "cell_type": "code",
   "execution_count": 13,
   "metadata": {},
   "outputs": [
    {
     "name": "stdout",
     "output_type": "stream",
     "text": [
      "Enter dessert: cheesecake\n",
      "Enter dessert: brownies\n",
      "Enter dessert: ice-cream\n",
      "My favorite desserts include: cheesecake, brownies, and ice-cream\n"
     ]
    }
   ],
   "source": [
    "for i in range(3):\n",
    "    x = input(\"Enter dessert: \")\n",
    "    desserts.append(x)\n",
    "    \n",
    "print(\"My favorite desserts include: \" +str(desserts[0])+\", \"+str(desserts[1])+\", and \"+str(desserts[2]))"
   ]
  },
  {
   "cell_type": "code",
   "execution_count": 16,
   "metadata": {},
   "outputs": [],
   "source": [
    "## creating a loop that returns the sum of the digits \n",
    "def digits(n):\n",
    "    num = str(n)\n",
    "    count = 0\n",
    "    for x in num:\n",
    "        add = int(x)\n",
    "        count = count+add\n",
    "    return count"
   ]
  },
  {
   "cell_type": "code",
   "execution_count": 17,
   "metadata": {},
   "outputs": [
    {
     "data": {
      "text/plain": [
       "15"
      ]
     },
     "execution_count": 17,
     "metadata": {},
     "output_type": "execute_result"
    }
   ],
   "source": [
    "digits(456)"
   ]
  },
  {
   "cell_type": "code",
   "execution_count": 18,
   "metadata": {},
   "outputs": [
    {
     "data": {
      "text/plain": [
       "24"
      ]
     },
     "execution_count": 18,
     "metadata": {},
     "output_type": "execute_result"
    }
   ],
   "source": [
    "digits(987)"
   ]
  },
  {
   "cell_type": "code",
   "execution_count": null,
   "metadata": {},
   "outputs": [],
   "source": []
  }
 ],
 "metadata": {
  "kernelspec": {
   "display_name": "Python 3",
   "language": "python",
   "name": "python3"
  },
  "language_info": {
   "codemirror_mode": {
    "name": "ipython",
    "version": 3
   },
   "file_extension": ".py",
   "mimetype": "text/x-python",
   "name": "python",
   "nbconvert_exporter": "python",
   "pygments_lexer": "ipython3",
   "version": "3.8.5"
  }
 },
 "nbformat": 4,
 "nbformat_minor": 4
}
