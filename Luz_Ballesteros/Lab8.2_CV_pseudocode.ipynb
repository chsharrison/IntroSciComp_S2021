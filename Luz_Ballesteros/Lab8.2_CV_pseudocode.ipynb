{
 "cells": [
  {
   "cell_type": "markdown",
   "metadata": {},
   "source": [
    "Name: Luz Ballesteros "
   ]
  },
  {
   "cell_type": "markdown",
   "metadata": {},
   "source": [
    "Labpartner(s): Renee "
   ]
  },
  {
   "cell_type": "code",
   "execution_count": 1,
   "metadata": {},
   "outputs": [],
   "source": [
    "#import statements go here\n",
    "import numpy as np \n",
    "import pandas as pd\n",
    "import matplotlib as plt "
   ]
  },
  {
   "cell_type": "markdown",
   "metadata": {},
   "source": [
    "# Class 8.2"
   ]
  },
  {
   "cell_type": "markdown",
   "metadata": {},
   "source": [
    "# Warmups 8.2"
   ]
  },
  {
   "cell_type": "markdown",
   "metadata": {},
   "source": [
    "Music to code loops by (featuring samples of Warf and Geordi from Star Trek TNG). Mobius by Orbital:\n",
    "\n",
    "https://www.youtube.com/watch?v=4PG5PCd284o.\n",
    "\n",
    "(I was this many years old when I learned you could stick a period at the end of the youtube url to suprress the ads, try it)\n",
    "\n",
    "Let's keep practiciing functions and logical control. Raise your hand when you get confused, and look at the suggested solutions, this is tricky stuff to master.\n"
   ]
  },
  {
   "cell_type": "code",
   "execution_count": null,
   "metadata": {},
   "outputs": [],
   "source": []
  },
  {
   "cell_type": "code",
   "execution_count": null,
   "metadata": {},
   "outputs": [],
   "source": []
  },
  {
   "cell_type": "markdown",
   "metadata": {},
   "source": [
    "**W.1** Do Practice Python 28, Max of Three https://www.practicepython.org. \n",
    "\n",
    "Suggested approach: Writing some notes on how you will code something before you begin is really helpful and standard practice. Write some pseudocode to think out the problem before you begin. Here are some examples of this: https://www.unf.edu/~broggio/cop2221/2221pseu.htm  \n",
    "\n",
    "https://www.youtube.com/watch?v=HhBrkpTqzqg\n",
    "\n",
    "We'll do more of this in lab, but give it a shot here."
   ]
  },
  {
   "cell_type": "markdown",
   "metadata": {},
   "source": [
    "#Implement a function that takes as input three variables, and returns the largest of the three. Do this without using the Python max() function!"
   ]
  },
  {
   "cell_type": "code",
   "execution_count": null,
   "metadata": {},
   "outputs": [],
   "source": [
    "## series of if statements and comparisons to find the largest elements \n"
   ]
  },
  {
   "cell_type": "code",
   "execution_count": 2,
   "metadata": {},
   "outputs": [],
   "source": [
    "def max_of_three(a,b,c): ## have in mind you can name it anything\n",
    "    max_3=0\n",
    "    if a>b:\n",
    "        #max_3=a\n",
    "        if a>c:\n",
    "            max_3=c\n",
    "        else:\n",
    "            max_3=a\n",
    "    else:\n",
    "        if b>c:\n",
    "            max_3=b\n",
    "        else:\n",
    "            max_3=c\n",
    "    return max_3\n"
   ]
  },
  {
   "cell_type": "code",
   "execution_count": 3,
   "metadata": {},
   "outputs": [
    {
     "data": {
      "text/plain": [
       "6"
      ]
     },
     "execution_count": 3,
     "metadata": {},
     "output_type": "execute_result"
    }
   ],
   "source": [
    "max_of_three(2,4,6) ## yay it works "
   ]
  },
  {
   "cell_type": "code",
   "execution_count": null,
   "metadata": {},
   "outputs": [],
   "source": [
    "## there are multiple ways of doing this, anothes examples is using a more compact series of if statements to cover the cases of 3 elements "
   ]
  },
  {
   "cell_type": "code",
   "execution_count": 5,
   "metadata": {},
   "outputs": [],
   "source": [
    "def maxfunction(a,b,c): \n",
    "    if (a > b) and (a > c):\n",
    "        print ('Max value is :',a)\n",
    "    elif (b > a) and (b > c):\n",
    "        print ('Max value is :',b)\n",
    "    elif (c > a) and (c > b):\n",
    "        print ('Max value is :', c)\n",
    "        "
   ]
  },
  {
   "cell_type": "code",
   "execution_count": 6,
   "metadata": {},
   "outputs": [
    {
     "name": "stdout",
     "output_type": "stream",
     "text": [
      "Max value is : 20\n"
     ]
    }
   ],
   "source": [
    "maxfunction(10, 11, 20) ## i like this one better "
   ]
  },
  {
   "cell_type": "markdown",
   "metadata": {},
   "source": [
    "# Lecture 8.2\n",
    "\n",
    "### Agenda:\n",
    "\n",
    "- Syllabus changes\n",
    "- CV Assignement\n",
    "- Questions\n",
    "- (if time) pseudocode example"
   ]
  },
  {
   "cell_type": "markdown",
   "metadata": {},
   "source": [
    "### Syllabus changes"
   ]
  },
  {
   "cell_type": "markdown",
   "metadata": {},
   "source": [
    "New Syllabus is up on BB. Here is the grading changes (changes in **BOLD**)\n",
    "\n",
    "To receive an A grade, students must\n",
    "-\tMeet the specifications for receiving a B grade\n",
    "-\tSatisfactorily complete all advanced labs\n",
    "\n",
    "To receive a B grade, students must\n",
    "-\tMeet the specifications for receiving a C grade\n",
    "-\tSatisfactorily complete **one out of three** advanced labs\n",
    "\n",
    "To pass the course with a C, students must\n",
    "-\tMeet the specifications for receiving a D grade \n",
    "-\tSatisfactorily complete the Linear Regression, Timeseries Analysis and **History of Hacking** labs\n",
    "-\tProvide satisfactory course feedback\n",
    "\n",
    "To pass the course with a D, students must \n",
    "-\tSatisfactorily complete all assigned chapters in datacamp **and the associated labs, as well as Cartopy and Movies lab**\n",
    "-\tSatisfactorily complete all components of the final project\n",
    "\n",
    "Failure to deliver a satisfactory final assignment will result in an F, regardless of other assignments done."
   ]
  },
  {
   "cell_type": "markdown",
   "metadata": {},
   "source": [
    "### New Schedule\n",
    "![](revised_schedule.png)"
   ]
  },
  {
   "cell_type": "markdown",
   "metadata": {},
   "source": [
    "### CV assignment, Word and Zotero integration assignment (turn these in with Lab 8.2)\n",
    "\n",
    "- Demo of Overleaf\n",
    "- Demo of Zotero and Word\n",
    "- Demo of Zotero and Overleaf\n",
    "\n",
    "Assignement:\n",
    "\n",
    "You will make a CV in Overleaf using the LaTex typesetting software. Pick a CV template and modify it to have your info. Make sure you include a picture (required, this is to get you used to the syntax for this). Don't get overwhelmed by all the detailed code, just figure out what you need to modify to put in your information.\n",
    "\n",
    "You will submit a word document that is integrated with zotero and features three references. Submit both the document file, and a screenshot of your zotero account with the references in it.\n",
    "\n",
    "Extra Credit (2 assignment tokens):\n",
    "Integrate Overleaf and Zotero. There are two ways to do this, you can integrate zotero directly into overleaf (but I think they charge for this now) or you can export your citations from zotero as a .bib file and upload this into Overleaf. If you're keen, give it a shot! \n"
   ]
  },
  {
   "cell_type": "code",
   "execution_count": null,
   "metadata": {},
   "outputs": [],
   "source": []
  },
  {
   "cell_type": "markdown",
   "metadata": {},
   "source": [
    "### Questions"
   ]
  },
  {
   "cell_type": "code",
   "execution_count": null,
   "metadata": {},
   "outputs": [],
   "source": []
  },
  {
   "cell_type": "markdown",
   "metadata": {},
   "source": [
    "### Pseudocode"
   ]
  },
  {
   "cell_type": "markdown",
   "metadata": {},
   "source": [
    "Practice python fibonacci numbers\n",
    "\n",
    "1,1,2,3,5....\n",
    "\n",
    "the sequence is the sum of the previous two numbers\n",
    "\n",
    "Write a program that asks the user how many Fibonnaci numbers to generate and then generates them. Take this opportunity to think about how you can use functions. Make sure to ask the user to enter the number of numbers in the sequence to generate.(Hint: The Fibonnaci seqence is a sequence of numbers where the next number in the sequence is the sum of the previous two numbers in the sequence. The sequence looks like this: 1, 1, 2, 3, 5, 8, 13, …)\n",
    "\n",
    "\n",
    "\n",
    "\n"
   ]
  },
  {
   "cell_type": "code",
   "execution_count": 31,
   "metadata": {},
   "outputs": [],
   "source": [
    "#inputs: how many Fibonnaci numbers to generate (total_numbers)\n",
    "\n",
    "# output: the numbers\n",
    "\n",
    "# def function(total_numbers):\n",
    "def fibonacci(total_numbers):\n",
    "    \n",
    "    # check if negative or zero\n",
    "    if (total_numbers <= 0):\n",
    "        return \"Error: you must input a positive non-zero number\"\n",
    "    \n",
    "    # if only one is asked for\n",
    "    if total_numbers == 1:\n",
    "        return 0\n",
    "    \n",
    "    #define a counter\n",
    "    # initialize to zero\n",
    "    counter = 0\n",
    "    \n",
    "    # start with 0\n",
    "    num_0 = 0\n",
    "    #print('num_0 = ' + str(num_0)) # put in some print statments to see how it's working\n",
    "    counter = counter +1 \n",
    "    #print('counter = ' + str(counter)) # put in some print statments to see how it's working\n",
    "    \n",
    "    # next one is one\n",
    "    num_1 = 1\n",
    "    #print('num_1 = ' + str(num_1))\n",
    "    counter = counter +1 \n",
    "    #print('counter = ' + str(counter))\n",
    "    \n",
    "    #     ...some kind of looping....\n",
    "    #     get the number of numbers\n",
    "    \n",
    "    last_number = num_1\n",
    "    older_number = num_0\n",
    "    \n",
    "    output = [num_0, num_1]\n",
    "    \n",
    "    while counter < total_numbers:\n",
    "        \n",
    "        # need to save the previous two numbers somehow\n",
    "        \n",
    "        #  the one after is the sum of the previous two numbers\n",
    "        new_num = older_number + last_number\n",
    "        counter = counter +1 \n",
    "        #   print( 'new_num = ' + str(new_num))\n",
    "        #   print('counter = ' + str(counter))\n",
    "\n",
    "        # update the previous two numbers\n",
    "        older_number = last_number\n",
    "        #  print('older_number =' + str(older_number))\n",
    "        last_number = new_num\n",
    "        # print('last_number =' + str(last_number))\n",
    "\n",
    "        #     save output into list\n",
    "        output = output + [new_num]\n",
    "        \n",
    "    print(output)\n",
    "\n",
    "#     do this until I get to the number of numbers that were specified\n",
    "    "
   ]
  },
  {
   "cell_type": "code",
   "execution_count": 9,
   "metadata": {},
   "outputs": [
    {
     "data": {
      "text/plain": [
       "[1, 2, 3]"
      ]
     },
     "execution_count": 9,
     "metadata": {},
     "output_type": "execute_result"
    }
   ],
   "source": [
    "test = [1,2]\n",
    "test + [3]"
   ]
  },
  {
   "cell_type": "code",
   "execution_count": 19,
   "metadata": {},
   "outputs": [
    {
     "name": "stdout",
     "output_type": "stream",
     "text": [
      "[0, 1, 1, 2, 3, 5, 8, 13, 21]\n"
     ]
    }
   ],
   "source": [
    "fibonacci(9)"
   ]
  },
  {
   "cell_type": "code",
   "execution_count": 20,
   "metadata": {},
   "outputs": [
    {
     "name": "stdout",
     "output_type": "stream",
     "text": [
      "[0, 1, 1, 2, 3, 5, 8, 13, 21, 34, 55, 89, 144, 233, 377, 610, 987, 1597, 2584, 4181]\n"
     ]
    }
   ],
   "source": [
    "fibonacci(20)"
   ]
  },
  {
   "cell_type": "code",
   "execution_count": 34,
   "metadata": {},
   "outputs": [
    {
     "name": "stdout",
     "output_type": "stream",
     "text": [
      "[0, 1, 1]\n"
     ]
    }
   ],
   "source": [
    "fibonacci(3)"
   ]
  },
  {
   "cell_type": "code",
   "execution_count": 35,
   "metadata": {},
   "outputs": [
    {
     "data": {
      "text/plain": [
       "'Error: you must input a positive non-zero number'"
      ]
     },
     "execution_count": 35,
     "metadata": {},
     "output_type": "execute_result"
    }
   ],
   "source": [
    "# there are some issues here\n",
    "fibonacci(0)"
   ]
  },
  {
   "cell_type": "markdown",
   "metadata": {},
   "source": [
    "# Lab 8.2"
   ]
  },
  {
   "cell_type": "markdown",
   "metadata": {},
   "source": [
    "**E.1** Go through the following tutorial on pseudocode and logical control. They are coding in a different language (I think C++). You will translate what they did into python. You can do it!\n",
    "\n",
    "https://www.youtube.com/watch?v=PwGA4Lm8zuE\n",
    "\n",
    "Make sure you write your notes out here with your pseudocode. Take your time and think it through"
   ]
  },
  {
   "cell_type": "code",
   "execution_count": null,
   "metadata": {},
   "outputs": [],
   "source": [
    "## What is pseudocode? = simpler version of programming code in plain English before it is implemented in a specific programming language \n",
    "## not a programming language but a learning and reasoning tool "
   ]
  },
  {
   "cell_type": "code",
   "execution_count": null,
   "metadata": {},
   "outputs": [],
   "source": [
    "# How to write pseudocode?\n",
    "1. capitalized key commands (IF number is > 10 THEN)\n",
    "2. Write one statement per line \n",
    "3. Use indentation \n",
    "4. Be specific \n",
    "5. Keep it simple "
   ]
  },
  {
   "cell_type": "code",
   "execution_count": null,
   "metadata": {},
   "outputs": [],
   "source": [
    "#pseudocode\n",
    "set counter to 1 \n",
    "Break when counter reaches 20 \n",
    "increment counter by 1 \n",
    "if number MOD 15 == 0 \n",
    "print\"FizzBuzz\"\n",
    "elif number MOD 3 == 0 \n",
    "print \"Fizz\"\n",
    "elif number MOD 5 == 0 \n",
    "print \"Buzz\"\n",
    "else \n",
    "print number "
   ]
  },
  {
   "cell_type": "code",
   "execution_count": 10,
   "metadata": {},
   "outputs": [
    {
     "name": "stdout",
     "output_type": "stream",
     "text": [
      "1\n",
      "2\n",
      "3\n",
      "Fizz\n",
      "4\n",
      "5\n",
      "Buzz\n",
      "6\n",
      "Fizz\n",
      "7\n",
      "8\n",
      "9\n",
      "Fizz\n",
      "10\n",
      "Buzz\n",
      "11\n",
      "12\n",
      "Fizz\n",
      "13\n",
      "14\n",
      "15\n",
      "FizzBuzz\n",
      "16\n",
      "17\n",
      "18\n",
      "Fizz\n",
      "19\n",
      "20\n",
      "Buzz\n"
     ]
    }
   ],
   "source": [
    "for i in np.arange(1,21):\n",
    "    print(i)\n",
    "    if i%15 == 0:\n",
    "        print(\"FizzBuzz\")\n",
    "    elif i%3 == 0:\n",
    "        print(\"Fizz\")\n",
    "    elif i%5 == 0:\n",
    "        print(\"Buzz\")\n",
    "  \n",
    "        \n",
    "    "
   ]
  },
  {
   "cell_type": "markdown",
   "metadata": {},
   "source": [
    "**E.2** Complete Data Manipulation with pandas Ch 2 in datacamp.\n"
   ]
  },
  {
   "cell_type": "code",
   "execution_count": null,
   "metadata": {},
   "outputs": [],
   "source": [
    "# completed "
   ]
  },
  {
   "cell_type": "markdown",
   "metadata": {},
   "source": [
    "**E.3** Make notes for yourself on progamming tecniques and commands you learned in the datacamp chapter above, including examples, comments and explainitory text. You can do this here or in a separate notebook that you link to here. Basically, you are making a cheat sheet for yourself."
   ]
  },
  {
   "cell_type": "code",
   "execution_count": null,
   "metadata": {},
   "outputs": [],
   "source": [
    "## agregating data and summary statictics.\n",
    "# most common one is the mean for example -> dog[\"height\"].mean()\n"
   ]
  },
  {
   "cell_type": "code",
   "execution_count": null,
   "metadata": {},
   "outputs": [],
   "source": [
    "# there are alot :\n",
    ".median()\n",
    ".mode()\n",
    ".min()\n",
    ".max()\n",
    ".var()\n",
    ".std()\n",
    ".sum()\n",
    ".quantiles()"
   ]
  },
  {
   "cell_type": "code",
   "execution_count": null,
   "metadata": {},
   "outputs": [],
   "source": [
    "##the agg.() method allows you to compute summary statistics \n",
    "#example: \n",
    "def pct30(column):\n",
    "    return column.quantile(0.3) # spits out the 30th percentile\n",
    "\n",
    "# you can then subset by using this syntax based on the function created \n",
    "dog[\"weight_kg\"].agg(pct30)\n",
    "\n",
    "## more than one column \n",
    "dog[[\"weight_kg\", \"height_cm\"]].agg(pct30)\n",
    "\n",
    "## multiple summaries \n",
    "dogs[\"weight_kg\"].agg([pct30, pct40])\n"
   ]
  },
  {
   "cell_type": "code",
   "execution_count": null,
   "metadata": {},
   "outputs": [],
   "source": [
    "# cumulative sum by .cumsum()\n",
    "dog[\"weight_kg\"].cumsum()\n",
    "\n",
    "#there are also others such as \n",
    ".cummax()\n",
    ".cummin()\n",
    ".cumprod()"
   ]
  },
  {
   "cell_type": "code",
   "execution_count": null,
   "metadata": {},
   "outputs": [],
   "source": [
    "##dropping duplicate names \n",
    "vet_visits.drop_duplicates(subset=\"name\")\n",
    "\n",
    "## to count the breeds \n",
    "unique_dogs[\"breed\"].value_counts()\n",
    "# you can also sort it by doing \n",
    "unique_dogs[\"breed\"].value_counts(sort=True)\n",
    "\n",
    "#you can turn the totals to proportions using \n",
    "normalize=True \n",
    "\n"
   ]
  },
  {
   "cell_type": "code",
   "execution_count": null,
   "metadata": {},
   "outputs": [],
   "source": [
    "# you can do summaries of groups to answer questions such as \"does one color of dog weigh more than another on average?\"\n",
    "#Group summaries \n",
    "dogs.groupby(\"color\")[\"weight_kg\"].mean()\n",
    "#using .agg to get multiple statistics \n",
    ".agg([min, max, sum])\n",
    "\n"
   ]
  },
  {
   "cell_type": "code",
   "execution_count": null,
   "metadata": {},
   "outputs": [],
   "source": [
    "## pivot tables \n",
    ".pivot_table()\n",
    "## they have useful arguments such as \n",
    "fill_value -> #replaces missing values with a real value \n",
    "margins -> #it gives the row and column totals of the pivot table contents \n"
   ]
  },
  {
   "cell_type": "markdown",
   "metadata": {},
   "source": [
    "### This week's project:\n",
    "\n",
    "This week we will be doing a CV assignment in LaTeX. Make your CV in LaTeX using Overleaf or the LaTeX interface of your choice (Word is not an option!!). You might find a cool template"
   ]
  },
  {
   "cell_type": "code",
   "execution_count": null,
   "metadata": {},
   "outputs": [],
   "source": []
  }
 ],
 "metadata": {
  "kernelspec": {
   "display_name": "Python 3",
   "language": "python",
   "name": "python3"
  },
  "language_info": {
   "codemirror_mode": {
    "name": "ipython",
    "version": 3
   },
   "file_extension": ".py",
   "mimetype": "text/x-python",
   "name": "python",
   "nbconvert_exporter": "python",
   "pygments_lexer": "ipython3",
   "version": "3.8.5"
  }
 },
 "nbformat": 4,
 "nbformat_minor": 5
}
