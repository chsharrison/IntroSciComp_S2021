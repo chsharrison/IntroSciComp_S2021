{
 "cells": [
  {
   "cell_type": "markdown",
   "metadata": {},
   "source": [
    "Name: Luz Ballesteros "
   ]
  },
  {
   "cell_type": "markdown",
   "metadata": {},
   "source": [
    "Labpartner(s)"
   ]
  },
  {
   "cell_type": "code",
   "execution_count": 8,
   "metadata": {},
   "outputs": [],
   "source": [
    "#import statements go here\n",
    "import numpy as np\n",
    "import pandas as pd"
   ]
  },
  {
   "cell_type": "markdown",
   "metadata": {},
   "source": [
    "# Class 9.1"
   ]
  },
  {
   "cell_type": "markdown",
   "metadata": {},
   "source": []
  },
  {
   "cell_type": "markdown",
   "metadata": {},
   "source": [
    "# Warmups 9.1"
   ]
  },
  {
   "cell_type": "markdown",
   "metadata": {},
   "source": [
    "**W.1** Make your own version of the Fibonacci problem I went over on Wed from Practice Python https://www.practicepython.org/exercise/2014/04/30/13-fibonacci.html"
   ]
  },
  {
   "cell_type": "code",
   "execution_count": 11,
   "metadata": {},
   "outputs": [
    {
     "name": "stdout",
     "output_type": "stream",
     "text": [
      "How many numbers to generate?:2\n",
      "[1, 1]\n",
      "3\n"
     ]
    },
    {
     "data": {
      "text/plain": [
       "'3'"
      ]
     },
     "execution_count": 11,
     "metadata": {},
     "output_type": "execute_result"
    }
   ],
   "source": [
    "def series():\n",
    "    num = int(input(\"How many numbers to generate?:\"))\n",
    "    a = 1\n",
    "    if num == 0:\n",
    "        fib = []\n",
    "    elif num == 1:\n",
    "        fib = [1]\n",
    "    elif num == 2:\n",
    "        fib = [1,1]\n",
    "    elif num > 2:\n",
    "        fib ==[1,1]\n",
    "        while a < (num - 1):\n",
    "            fib.append(fib[a] + fib[a-1])\n",
    "            a += 1\n",
    "    return fib\n",
    "\n",
    "print(series())\n",
    "input()"
   ]
  },
  {
   "cell_type": "markdown",
   "metadata": {},
   "source": [
    "# Lecture 9.1\n",
    "\n",
    "### Agenda:\n",
    "- Announcements\n",
    "    - show us your functions redo moved to office hours, new column in BB\n",
    "- How to kill a job/loop/python session\n",
    "- Notes slides in datacamp\n",
    "- Expected grade and missing work assignment\n",
    "    - Educational family history exercise\n",
    "    - Assignment info\n",
    "- Questions\n"
   ]
  },
  {
   "cell_type": "code",
   "execution_count": null,
   "metadata": {},
   "outputs": [],
   "source": []
  },
  {
   "cell_type": "code",
   "execution_count": null,
   "metadata": {},
   "outputs": [],
   "source": []
  },
  {
   "cell_type": "code",
   "execution_count": null,
   "metadata": {},
   "outputs": [],
   "source": []
  },
  {
   "cell_type": "code",
   "execution_count": null,
   "metadata": {},
   "outputs": [],
   "source": []
  },
  {
   "cell_type": "markdown",
   "metadata": {},
   "source": [
    "### Questions"
   ]
  },
  {
   "cell_type": "code",
   "execution_count": null,
   "metadata": {},
   "outputs": [],
   "source": []
  },
  {
   "cell_type": "code",
   "execution_count": null,
   "metadata": {},
   "outputs": [],
   "source": []
  },
  {
   "cell_type": "markdown",
   "metadata": {},
   "source": [
    "# Lab 9.1"
   ]
  },
  {
   "cell_type": "markdown",
   "metadata": {},
   "source": [
    "**E.1** Complete Data Manipulation with pandas Ch 3 in datacamp.\n"
   ]
  },
  {
   "cell_type": "code",
   "execution_count": null,
   "metadata": {},
   "outputs": [],
   "source": [
    "# Completed "
   ]
  },
  {
   "cell_type": "markdown",
   "metadata": {},
   "source": [
    "**E.2** Make notes for yourself on progamming tecniques and commands you learned in the datacamp chapter above, including examples, comments and explainitory text. You can do this here or in a separate notebook that you link to here. Basically, you are making a cheat sheet for yourself."
   ]
  },
  {
   "cell_type": "code",
   "execution_count": null,
   "metadata": {},
   "outputs": [],
   "source": [
    "# Explicit indexes \n",
    "data.columns\n",
    "data.index\n",
    "\n",
    "# You can set an index by following this syntax \n",
    "data_1 = data.set_index(\"name of column\")\n",
    "\n",
    "# you can reset the index by doing this: \n",
    "data_1.ind.reset_index()\n",
    "\n",
    "# indexes make subsettign simpler \n",
    "example: data[data[\"name\"].isin([\"name1\", \"name2\"])] \n",
    "    vs \n",
    "         data.ind.loc[[\"name1\"], [\"name2\"]]\n",
    "        \n",
    "# there is multilevel indexes like: \n",
    "example: data_ind3 = data.set_index([\"name1\",\"name2\"])\n",
    "    \n",
    "\n",
    "# you can also sort by index values using : \n",
    "data.sort_index()\n",
    "\n",
    "    \n",
    "    \n"
   ]
  },
  {
   "cell_type": "code",
   "execution_count": null,
   "metadata": {},
   "outputs": [],
   "source": [
    "    \n",
    "    # Slicing and subsetting with .loc and .iloc \n",
    "Examples: data[:3] # starts from the beginning and omits zero \n",
    "          data[:] # returns the whole list \n",
    "\n",
    "# to slice rows at the outer level of an index you use .loc then first and last values separated by a colon\n",
    "# slicing the inner index levels correctly you need to pass them as tuples \n"
   ]
  },
  {
   "cell_type": "code",
   "execution_count": null,
   "metadata": {},
   "outputs": [],
   "source": [
    "# Pivot table \n",
    "To recall you do data.pivot_table()\n",
    "\n",
    "# axis argument meand \"calculate the statictis across rows\"\n"
   ]
  },
  {
   "cell_type": "markdown",
   "metadata": {},
   "source": [
    "### This week's project:\n",
    "\n",
    "This week you will be doing two things, planning on what grade you will get in this course (due Thursday with lab 9.1) and submitting your research topic (due Sunday with lab 9.2). "
   ]
  },
  {
   "cell_type": "markdown",
   "metadata": {},
   "source": [
    "**E.3** complete the expected grade assignment (note this has a separate tab in Blackboard for turning in)"
   ]
  },
  {
   "cell_type": "code",
   "execution_count": null,
   "metadata": {},
   "outputs": [],
   "source": [
    "# completed expected grade assigment on BB "
   ]
  }
 ],
 "metadata": {
  "kernelspec": {
   "display_name": "Python 3",
   "language": "python",
   "name": "python3"
  },
  "language_info": {
   "codemirror_mode": {
    "name": "ipython",
    "version": 3
   },
   "file_extension": ".py",
   "mimetype": "text/x-python",
   "name": "python",
   "nbconvert_exporter": "python",
   "pygments_lexer": "ipython3",
   "version": "3.8.5"
  }
 },
 "nbformat": 4,
 "nbformat_minor": 5
}
