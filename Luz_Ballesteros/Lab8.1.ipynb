{
 "cells": [
  {
   "cell_type": "markdown",
   "metadata": {},
   "source": [
    "Name : Luz Ballesteros "
   ]
  },
  {
   "cell_type": "markdown",
   "metadata": {},
   "source": [
    "Labpartner(s): Rene"
   ]
  },
  {
   "cell_type": "code",
   "execution_count": 1,
   "metadata": {},
   "outputs": [],
   "source": [
    "#import statements go here\n",
    "import pandas as pd \n",
    "import numpy as np\n"
   ]
  },
  {
   "cell_type": "markdown",
   "metadata": {},
   "source": [
    "# Class 8.1"
   ]
  },
  {
   "cell_type": "markdown",
   "metadata": {},
   "source": [
    "I realized I wrote our syllabus and schedule of material like we weren't going to be one year into a global pandemic. So I am adjusting and making a more realistic schedule (more on Wed), which means scaling back the amount of material we will cover, and for now doing one chapter in datacamp a class instead of two or more. If by some miracle you have the mental bandwith, feel free to do extra work, but I in no way expect or encourage this. The main goal of this class is to empower you all to know how to figure out how to learn what you need, and we will still very much reach this goal. Every scientific progammer I know is self taught, and is learning just like you all, by looking at sample code, googling, and using online resources. You all are doing great! Let's have realistic expectations of ourselves for the next few months.\n",
    "\n",
    "Here is my suggested order of priorities for you all:\n",
    "\n",
    "1. Personal health (physical, mental, emotional). You have to take care of your health so you can help others.\n",
    "1. Health of loved ones (physical, mental, emotional).\n",
    "1. Research (if you are a grad student particularly)\n",
    "1. Classwork (you might need to put this above research if you need perfect grades for fellowships, etc.)\n"
   ]
  },
  {
   "cell_type": "markdown",
   "metadata": {},
   "source": [
    "# Warmups 8.1"
   ]
  },
  {
   "cell_type": "markdown",
   "metadata": {},
   "source": [
    "Short warmup today as we are doing show us your functions (1:45-2:05)"
   ]
  },
  {
   "cell_type": "markdown",
   "metadata": {},
   "source": [
    "**W.1** Do Practice Python #12, list ends https://www.practicepython.org/exercise/2014/04/25/12-list-ends.html"
   ]
  },
  {
   "cell_type": "code",
   "execution_count": 4,
   "metadata": {},
   "outputs": [],
   "source": [
    "a = [5, 10, 15, 20, 25]"
   ]
  },
  {
   "cell_type": "code",
   "execution_count": 9,
   "metadata": {},
   "outputs": [],
   "source": [
    "def list_ends(list):\n",
    "    return[list[0], list[-1]]\n"
   ]
  },
  {
   "cell_type": "code",
   "execution_count": 10,
   "metadata": {},
   "outputs": [
    {
     "data": {
      "text/plain": [
       "[5, 25]"
      ]
     },
     "execution_count": 10,
     "metadata": {},
     "output_type": "execute_result"
    }
   ],
   "source": [
    "list_ends(a)"
   ]
  },
  {
   "cell_type": "markdown",
   "metadata": {},
   "source": [
    "# Lecture 8.1\n",
    "\n",
    "### Agenda:\n",
    "\n",
    "- Questions\n",
    "- Show us your funtions! "
   ]
  },
  {
   "cell_type": "markdown",
   "metadata": {},
   "source": [
    "### Questions"
   ]
  },
  {
   "cell_type": "code",
   "execution_count": null,
   "metadata": {},
   "outputs": [],
   "source": [
    "#n/a"
   ]
  },
  {
   "cell_type": "markdown",
   "metadata": {},
   "source": [
    "### Show us your functions"
   ]
  },
  {
   "cell_type": "markdown",
   "metadata": {},
   "source": [
    "The project for last week was to write two funtions, one that manipulates or analyzes your data, and one that plots it."
   ]
  },
  {
   "cell_type": "code",
   "execution_count": null,
   "metadata": {},
   "outputs": [],
   "source": [
    "#n/a "
   ]
  },
  {
   "cell_type": "markdown",
   "metadata": {},
   "source": [
    "# Lab 8.1"
   ]
  },
  {
   "cell_type": "markdown",
   "metadata": {},
   "source": [
    "**E.1** Complete Data Manipulation with pandas Ch 1 in datacamp.\n"
   ]
  },
  {
   "cell_type": "code",
   "execution_count": null,
   "metadata": {},
   "outputs": [],
   "source": [
    "#Completed "
   ]
  },
  {
   "cell_type": "markdown",
   "metadata": {},
   "source": [
    "**E.2** Make notes for yourself on progamming tecniques and commands you learned in the datacamp chapter above, including examples, comments and explainitory text. You can do this here or in a separate notebook that you link to here. Basically, you are making a cheat sheet for yourself."
   ]
  },
  {
   "cell_type": "code",
   "execution_count": null,
   "metadata": {},
   "outputs": [],
   "source": [
    "## Rectangular Data : print(\"data\"), data.head(), data.info(), and data.shape\n",
    "\n"
   ]
  },
  {
   "cell_type": "code",
   "execution_count": null,
   "metadata": {},
   "outputs": [],
   "source": [
    "# data.describe(), prints out information such as count, mean, std, min, max "
   ]
  },
  {
   "cell_type": "code",
   "execution_count": null,
   "metadata": {},
   "outputs": [],
   "source": [
    "#data.values -> prints out an array \n",
    "#data.colunms \n",
    "#data.index -> prints out things such as Range(start=0, stop=7, step=1)"
   ]
  },
  {
   "cell_type": "code",
   "execution_count": null,
   "metadata": {},
   "outputs": [],
   "source": [
    "## You can also sort and subset \n",
    "#Example: data.sort_values(\"name of colunm\")\n",
    "# if you add at the end ascending = False it will go from largest to smalles, so reversed\n",
    "\n"
   ]
  },
  {
   "cell_type": "code",
   "execution_count": null,
   "metadata": {},
   "outputs": [],
   "source": [
    "# You can sort more tan one column at a time for example you can do data.sort_values([\"name1\", \"name2\"])\n",
    "# then is you add , ascending = [True, False] it sort them accordingly. \n",
    "# True means smallest to largest \n",
    "# False means largest to smallest "
   ]
  },
  {
   "cell_type": "code",
   "execution_count": null,
   "metadata": {},
   "outputs": [],
   "source": [
    "# You can subset a column by using the name of the data set and the name of the column \n",
    "#like this -> data[\"name1\"]\n",
    "# to subset multiple columns you can do -> data[[\"name1\", \"name2\"]]\n"
   ]
  },
  {
   "cell_type": "code",
   "execution_count": null,
   "metadata": {},
   "outputs": [],
   "source": [
    "# You can also subset rows example -> data[\"name1\"] > 50 and it will print True and False "
   ]
  },
  {
   "cell_type": "code",
   "execution_count": null,
   "metadata": {
    "collapsed": true
   },
   "outputs": [],
   "source": [
    "# You can subset rows to print all the information by using this syntax -> data[data[\"name1\"] > 50]"
   ]
  },
  {
   "cell_type": "code",
   "execution_count": null,
   "metadata": {},
   "outputs": [],
   "source": [
    "# You can subset based on text data for example data[data[\"name1\"] == \"name2\"]\n",
    "# this will only print the rows where name1 is name2 \n",
    "# you can follow the same syntax and subset by data as well "
   ]
  },
  {
   "cell_type": "code",
   "execution_count": null,
   "metadata": {},
   "outputs": [],
   "source": [
    "# you can also subsett using .isin() where you can say things such as -> data[\"name1\"].isin([\"name2\", \"name3\"])\n"
   ]
  },
  {
   "cell_type": "code",
   "execution_count": null,
   "metadata": {},
   "outputs": [],
   "source": [
    "# adding a new colunm example-> dogs[\"height_m\"] = dogs[\"height_cm\"] / 100 \n",
    "#print(dogs)"
   ]
  },
  {
   "cell_type": "code",
   "execution_count": null,
   "metadata": {},
   "outputs": [],
   "source": [
    "# you can do multiple manipulations at the same time "
   ]
  },
  {
   "cell_type": "markdown",
   "metadata": {},
   "source": [
    "### This week's project:\n",
    "\n",
    "This week we will be doing a CV assignment in LaTeX, which I will introduce on Wed. For now, you can go check out Overleaf (https://www.overleaf.com) and make an account, and get zotero running on your computer (https://www.zotero.org) and make an account; you will need the downloaded version. If you're really excited, you can try to get the zotero plugin working in a web browser and install the Word plug in, but this is not requried until later this week and I will explain on Wednesday."
   ]
  },
  {
   "cell_type": "code",
   "execution_count": null,
   "metadata": {},
   "outputs": [],
   "source": []
  }
 ],
 "metadata": {
  "kernelspec": {
   "display_name": "Python 3",
   "language": "python",
   "name": "python3"
  },
  "language_info": {
   "codemirror_mode": {
    "name": "ipython",
    "version": 3
   },
   "file_extension": ".py",
   "mimetype": "text/x-python",
   "name": "python",
   "nbconvert_exporter": "python",
   "pygments_lexer": "ipython3",
   "version": "3.8.5"
  }
 },
 "nbformat": 4,
 "nbformat_minor": 5
}
