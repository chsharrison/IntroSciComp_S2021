{
 "cells": [
  {
   "cell_type": "markdown",
   "metadata": {},
   "source": [
    "WEEK 3 PRACTICE "
   ]
  },
  {
   "cell_type": "code",
   "execution_count": 1,
   "metadata": {},
   "outputs": [],
   "source": [
    "# importing statements needed \n",
    "import numpy as np \n",
    "import matplotlib.pyplot as plt"
   ]
  },
  {
   "cell_type": "code",
   "execution_count": 3,
   "metadata": {},
   "outputs": [
    {
     "data": {
      "text/plain": [
       "array([-10.  ,  -9.75,  -9.5 ,  -9.25,  -9.  ,  -8.75,  -8.5 ,  -8.25,\n",
       "        -8.  ,  -7.75,  -7.5 ,  -7.25,  -7.  ,  -6.75,  -6.5 ,  -6.25,\n",
       "        -6.  ,  -5.75,  -5.5 ,  -5.25,  -5.  ,  -4.75,  -4.5 ,  -4.25,\n",
       "        -4.  ,  -3.75,  -3.5 ,  -3.25,  -3.  ,  -2.75,  -2.5 ,  -2.25,\n",
       "        -2.  ,  -1.75,  -1.5 ,  -1.25,  -1.  ,  -0.75,  -0.5 ,  -0.25,\n",
       "         0.  ,   0.25,   0.5 ,   0.75,   1.  ,   1.25,   1.5 ,   1.75,\n",
       "         2.  ,   2.25,   2.5 ,   2.75,   3.  ,   3.25,   3.5 ,   3.75,\n",
       "         4.  ,   4.25,   4.5 ,   4.75,   5.  ,   5.25,   5.5 ,   5.75,\n",
       "         6.  ,   6.25,   6.5 ,   6.75,   7.  ,   7.25,   7.5 ,   7.75,\n",
       "         8.  ,   8.25,   8.5 ,   8.75,   9.  ,   9.25,   9.5 ,   9.75])"
      ]
     },
     "execution_count": 3,
     "metadata": {},
     "output_type": "execute_result"
    }
   ],
   "source": [
    "# using np.arange (start, stop, end)\n",
    "x = np.arange(-10,10,0.25)\n",
    "x"
   ]
  },
  {
   "cell_type": "code",
   "execution_count": 4,
   "metadata": {},
   "outputs": [
    {
     "data": {
      "text/plain": [
       "array([-9.72000000e+02, -8.99609375e+02, -8.30875000e+02, -7.65703125e+02,\n",
       "       -7.04000000e+02, -6.45671875e+02, -5.90625000e+02, -5.38765625e+02,\n",
       "       -4.90000000e+02, -4.44234375e+02, -4.01375000e+02, -3.61328125e+02,\n",
       "       -3.24000000e+02, -2.89296875e+02, -2.57125000e+02, -2.27390625e+02,\n",
       "       -2.00000000e+02, -1.74859375e+02, -1.51875000e+02, -1.30953125e+02,\n",
       "       -1.12000000e+02, -9.49218750e+01, -7.96250000e+01, -6.60156250e+01,\n",
       "       -5.40000000e+01, -4.34843750e+01, -3.43750000e+01, -2.65781250e+01,\n",
       "       -2.00000000e+01, -1.45468750e+01, -1.01250000e+01, -6.64062500e+00,\n",
       "       -4.00000000e+00, -2.10937500e+00, -8.75000000e-01, -2.03125000e-01,\n",
       "       -0.00000000e+00, -1.71875000e-01, -6.25000000e-01, -1.26562500e+00,\n",
       "       -2.00000000e+00, -2.73437500e+00, -3.37500000e+00, -3.82812500e+00,\n",
       "       -4.00000000e+00, -3.79687500e+00, -3.12500000e+00, -1.89062500e+00,\n",
       "        0.00000000e+00,  2.64062500e+00,  6.12500000e+00,  1.05468750e+01,\n",
       "        1.60000000e+01,  2.25781250e+01,  3.03750000e+01,  3.94843750e+01,\n",
       "        5.00000000e+01,  6.20156250e+01,  7.56250000e+01,  9.09218750e+01,\n",
       "        1.08000000e+02,  1.26953125e+02,  1.47875000e+02,  1.70859375e+02,\n",
       "        1.96000000e+02,  2.23390625e+02,  2.53125000e+02,  2.85296875e+02,\n",
       "        3.20000000e+02,  3.57328125e+02,  3.97375000e+02,  4.40234375e+02,\n",
       "        4.86000000e+02,  5.34765625e+02,  5.86625000e+02,  6.41671875e+02,\n",
       "        7.00000000e+02,  7.61703125e+02,  8.26875000e+02,  8.95609375e+02])"
      ]
     },
     "execution_count": 4,
     "metadata": {},
     "output_type": "execute_result"
    }
   ],
   "source": [
    "#using mathematical equations to calculate for another variable which will make it part of the exisiting array\n",
    "y = ((x+1)**2)*(x-2)\n",
    "y"
   ]
  },
  {
   "cell_type": "code",
   "execution_count": 5,
   "metadata": {},
   "outputs": [
    {
     "data": {
      "text/plain": [
       "Text(0, 0.5, 'Y values')"
      ]
     },
     "execution_count": 5,
     "metadata": {},
     "output_type": "execute_result"
    },
    {
     "data": {
      "image/png": "[encoded data removed]",
      "text/plain": [
       "<Figure size 432x288 with 1 Axes>"
      ]
     },
     "metadata": {
      "needs_background": "light"
     },
     "output_type": "display_data"
    }
   ],
   "source": [
    "# ploting the array just created \n",
    "plt.plot(x,y)\n",
    "plt.xlabel(\"X values\")\n",
    "plt.ylabel(\"Y values\")"
   ]
  },
  {
   "cell_type": "code",
   "execution_count": 7,
   "metadata": {},
   "outputs": [
    {
     "data": {
      "text/plain": [
       "array([[1., 1., 1., 1., 1.],\n",
       "       [1., 1., 1., 1., 1.],\n",
       "       [1., 1., 1., 1., 1.],\n",
       "       [1., 1., 1., 1., 1.],\n",
       "       [1., 1., 1., 1., 1.]])"
      ]
     },
     "execution_count": 7,
     "metadata": {},
     "output_type": "execute_result"
    }
   ],
   "source": [
    "# creating arrays of 1 \n",
    "array1 = np.ones([5,5])## the brackets show the number of columns and rows\n",
    "array1"
   ]
  },
  {
   "cell_type": "code",
   "execution_count": 8,
   "metadata": {},
   "outputs": [],
   "source": [
    "# you can index this 2-D array by using the following: \n",
    "array1[0:2,0:4] = 2 # this is basically saying [turn column 1 and 2, turn row1, 2,3, and 4]"
   ]
  },
  {
   "cell_type": "code",
   "execution_count": 9,
   "metadata": {},
   "outputs": [
    {
     "data": {
      "text/plain": [
       "array([[2., 2., 2., 2., 1.],\n",
       "       [2., 2., 2., 2., 1.],\n",
       "       [1., 1., 1., 1., 1.],\n",
       "       [1., 1., 1., 1., 1.],\n",
       "       [1., 1., 1., 1., 1.]])"
      ]
     },
     "execution_count": 9,
     "metadata": {},
     "output_type": "execute_result"
    }
   ],
   "source": [
    "array1"
   ]
  },
  {
   "cell_type": "code",
   "execution_count": 14,
   "metadata": {},
   "outputs": [],
   "source": [
    "#There are other ways to index for example:\n",
    "array1[3:6,3:6]= 5"
   ]
  },
  {
   "cell_type": "code",
   "execution_count": 15,
   "metadata": {},
   "outputs": [
    {
     "data": {
      "text/plain": [
       "array([[2., 2., 2., 2., 1.],\n",
       "       [2., 2., 2., 2., 1.],\n",
       "       [1., 1., 1., 1., 1.],\n",
       "       [1., 1., 1., 5., 5.],\n",
       "       [1., 1., 1., 5., 5.]])"
      ]
     },
     "execution_count": 15,
     "metadata": {},
     "output_type": "execute_result"
    }
   ],
   "source": [
    "array1"
   ]
  },
  {
   "cell_type": "code",
   "execution_count": 16,
   "metadata": {},
   "outputs": [],
   "source": [
    "#You can also select a single element\n",
    "array1[2,2]=10"
   ]
  },
  {
   "cell_type": "code",
   "execution_count": 17,
   "metadata": {},
   "outputs": [
    {
     "data": {
      "text/plain": [
       "array([[ 2.,  2.,  2.,  2.,  1.],\n",
       "       [ 2.,  2.,  2.,  2.,  1.],\n",
       "       [ 1.,  1., 10.,  1.,  1.],\n",
       "       [ 1.,  1.,  1.,  5.,  5.],\n",
       "       [ 1.,  1.,  1.,  5.,  5.]])"
      ]
     },
     "execution_count": 17,
     "metadata": {},
     "output_type": "execute_result"
    }
   ],
   "source": [
    "array1"
   ]
  },
  {
   "cell_type": "code",
   "execution_count": 19,
   "metadata": {},
   "outputs": [],
   "source": [
    "#you can also select and do mathematical functions to arrays\n",
    "array2 = array1[array1>1]*10"
   ]
  },
  {
   "cell_type": "code",
   "execution_count": 20,
   "metadata": {},
   "outputs": [
    {
     "data": {
      "text/plain": [
       "array([ 20.,  20.,  20.,  20.,  20.,  20.,  20.,  20., 100.,  50.,  50.,\n",
       "        50.,  50.])"
      ]
     },
     "execution_count": 20,
     "metadata": {},
     "output_type": "execute_result"
    }
   ],
   "source": [
    "array2 # only the integers greater than 1 where selected and multiplied by 10"
   ]
  },
  {
   "cell_type": "code",
   "execution_count": 21,
   "metadata": {},
   "outputs": [],
   "source": [
    "array3 = array1[array1<5]"
   ]
  },
  {
   "cell_type": "code",
   "execution_count": 22,
   "metadata": {},
   "outputs": [
    {
     "data": {
      "text/plain": [
       "array([2., 2., 2., 2., 1., 2., 2., 2., 2., 1., 1., 1., 1., 1., 1., 1., 1.,\n",
       "       1., 1., 1.])"
      ]
     },
     "execution_count": 22,
     "metadata": {},
     "output_type": "execute_result"
    }
   ],
   "source": [
    "array3"
   ]
  },
  {
   "cell_type": "code",
   "execution_count": null,
   "metadata": {},
   "outputs": [],
   "source": []
  }
 ],
 "metadata": {
  "kernelspec": {
   "display_name": "Python 3",
   "language": "python",
   "name": "python3"
  },
  "language_info": {
   "codemirror_mode": {
    "name": "ipython",
    "version": 3
   },
   "file_extension": ".py",
   "mimetype": "text/x-python",
   "name": "python",
   "nbconvert_exporter": "python",
   "pygments_lexer": "ipython3",
   "version": "3.8.5"
  }
 },
 "nbformat": 4,
 "nbformat_minor": 4
}
