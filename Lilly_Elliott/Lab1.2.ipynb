{
 "cells": [
  {
   "cell_type": "markdown",
   "metadata": {},
   "source": [
    "put your name, etc here"
   ]
  },
  {
   "cell_type": "code",
   "execution_count": null,
   "metadata": {},
   "outputs": [],
   "source": [
    "Lilly Elliott"
   ]
  },
  {
   "cell_type": "markdown",
   "metadata": {},
   "source": [
    "# Lecture 1.2"
   ]
  },
  {
   "cell_type": "markdown",
   "metadata": {},
   "source": [
    "Short lecture today, and mostly logistics. I will introduce the final projects and grading next week. (Sorry!) Short story for the grading is that you have to complete these first labs to pass the class, and I am grading them in a binary done/not-done scheme. So you need to complete them.\n",
    "\n",
    "Lecture Agenda:\n",
    "\n",
    "* debriefing on first class and homework, how's it going?\n",
    "* logistics of github, downloading this Lab 1.2 notebook\n",
    "* commenting and markup in notebooks\n",
    "* workflow for the class\n"
   ]
  },
  {
   "cell_type": "markdown",
   "metadata": {},
   "source": [
    "In general, we will do warmup exercises and lab exercises in a jupyter notebook. For most classes, you will download the notebook from github, open it on your local computer, and then upload your completed work back on github in  your folder. In general, all lab work for the week is due Sunday before midnight on blackboard.\n",
    "\n",
    "\n"
   ]
  },
  {
   "cell_type": "code",
   "execution_count": null,
   "metadata": {},
   "outputs": [],
   "source": [
    "# here is an example of code commenting. The # symbol means everything on this line will be ignored \n",
    "\n",
    "#Everything after this will be ignored!\n"
   ]
  },
  {
   "cell_type": "markdown",
   "metadata": {},
   "source": [
    "Here is an example of markdown text. Because this cell is in markdown mode it will also be ignored by the python shell"
   ]
  },
  {
   "cell_type": "code",
   "execution_count": null,
   "metadata": {},
   "outputs": [],
   "source": [
    "#ignore! ignore! ignore! ignore!"
   ]
  },
  {
   "cell_type": "markdown",
   "metadata": {},
   "source": [
    "## Preliminaries"
   ]
  },
  {
   "cell_type": "markdown",
   "metadata": {},
   "source": [
    "In our class github site, create a folder for yourself where you will submit your jupyter notebooks. The easiest way to do this is to create a new file that is a placeholder document in the new folder. You can delete it later."
   ]
  },
  {
   "cell_type": "markdown",
   "metadata": {},
   "source": [
    "## Warmup exercises"
   ]
  },
  {
   "cell_type": "markdown",
   "metadata": {},
   "source": [
    "As you are doing these exercises, get familiar with jupyter notebook commands \n",
    "https://towardsdatascience.com/jypyter-notebook-shortcuts-bf0101a98330\n",
    "\n",
    "and markdown text https://medium.com/@ingeh/markdown-for-jupyter-notebooks-cheatsheet-386c05aeebed\n",
    "\n",
    "These exercises are based on what you have learned previously. Feel free to go look at what you did in datacamp to figure out how to answer them."
   ]
  },
  {
   "cell_type": "markdown",
   "metadata": {},
   "source": [
    "**W.1** Define and assign values to three variables of the three types we learned about Monday: integer, floating point, string and boolian. \n",
    "\n",
    "Note you can add more cells below by pressing the + button above or typing [esc] to command mode, then [b] to enter a cell below, or [a] to enter a cell above. See the link above for more commands"
   ]
  },
  {
   "cell_type": "code",
   "execution_count": 6,
   "metadata": {},
   "outputs": [
    {
     "name": "stdout",
     "output_type": "stream",
     "text": [
      "['I make an average of 3520 a month']\n"
     ]
    }
   ],
   "source": [
    "lol = (40*22*4)\n",
    "e = ['I make an average of ' + str(lol) + ' a month']\n",
    "print(e)"
   ]
  },
  {
   "cell_type": "code",
   "execution_count": 9,
   "metadata": {},
   "outputs": [],
   "source": [
    "w = \"2.453512\"\n",
    "petal_length = float(w)"
   ]
  },
  {
   "cell_type": "code",
   "execution_count": 26,
   "metadata": {},
   "outputs": [
    {
     "data": {
      "text/plain": [
       "False"
      ]
     },
     "execution_count": 26,
     "metadata": {},
     "output_type": "execute_result"
    }
   ],
   "source": [
    "red == 30\n",
    "bool(red == 2)"
   ]
  },
  {
   "cell_type": "markdown",
   "metadata": {},
   "source": [
    "**W.2** Print out the value and check the type of each variable"
   ]
  },
  {
   "cell_type": "code",
   "execution_count": 28,
   "metadata": {},
   "outputs": [
    {
     "name": "stdout",
     "output_type": "stream",
     "text": [
      "6\n"
     ]
    }
   ],
   "source": [
    "red = [3, 5, 6, 78]\n",
    "print(red[2])"
   ]
  },
  {
   "cell_type": "markdown",
   "metadata": {},
   "source": [
    "**W.3** Create a new variable that saves the value of the float variable as a string. Print it out"
   ]
  },
  {
   "cell_type": "code",
   "execution_count": 101,
   "metadata": {},
   "outputs": [
    {
     "data": {
      "text/plain": [
       "str"
      ]
     },
     "execution_count": 101,
     "metadata": {},
     "output_type": "execute_result"
    }
   ],
   "source": [
    "e = str(2.34)\n",
    "type(e)"
   ]
  },
  {
   "cell_type": "markdown",
   "metadata": {},
   "source": [
    "**W.4** Using multiplication of a variable, print out the text \"Bueno Bueno Bueno Bueno Bueno\" (Shoutout to Monsieur Periné https://youtu.be/JGL-eQAAxGs see 10:45)"
   ]
  },
  {
   "cell_type": "code",
   "execution_count": 31,
   "metadata": {},
   "outputs": [
    {
     "name": "stdout",
     "output_type": "stream",
     "text": [
      "['Bueno', 'Bueno', 'Bueno', 'Bueno', 'Bueno']\n"
     ]
    }
   ],
   "source": [
    "e = ['Bueno']\n",
    "print(e*5)"
   ]
  },
  {
   "cell_type": "markdown",
   "metadata": {},
   "source": [
    "**W.5** Do the same thing using addtion"
   ]
  },
  {
   "cell_type": "code",
   "execution_count": 39,
   "metadata": {},
   "outputs": [
    {
     "name": "stdout",
     "output_type": "stream",
     "text": [
      "['bueno', 'bueno', 'bueno', 'bueno', 'bueno']\n"
     ]
    }
   ],
   "source": [
    "b = ['bueno']\n",
    "print(b+b+b+b+b)"
   ]
  },
  {
   "cell_type": "markdown",
   "metadata": {},
   "source": [
    "**W.6** If you add an int and a float, what is the resulting variable type? Demonstrate"
   ]
  },
  {
   "cell_type": "code",
   "execution_count": 44,
   "metadata": {},
   "outputs": [
    {
     "name": "stdout",
     "output_type": "stream",
     "text": [
      "<class 'int'>\n",
      "<class 'float'>\n",
      "<class 'float'>\n"
     ]
    }
   ],
   "source": [
    "a = 10\n",
    "b = 2.43\n",
    "print(type(a))\n",
    "print(type(b))\n",
    "print(type(a+b))"
   ]
  },
  {
   "cell_type": "markdown",
   "metadata": {},
   "source": [
    "**W.7** Can you convert a Boolian to an interger type variable? If so, what is the resulting value? What happens if you convert a float to an int?"
   ]
  },
  {
   "cell_type": "code",
   "execution_count": 47,
   "metadata": {},
   "outputs": [
    {
     "data": {
      "text/plain": [
       "False"
      ]
     },
     "execution_count": 47,
     "metadata": {},
     "output_type": "execute_result"
    }
   ],
   "source": [
    "Yes and it would be considered an integer. If you convert a float to an integer it will round down to the nearest whole number."
   ]
  },
  {
   "cell_type": "markdown",
   "metadata": {},
   "source": [
    "# Lab 1.2"
   ]
  },
  {
   "cell_type": "markdown",
   "metadata": {},
   "source": [
    "## Lab Exercises"
   ]
  },
  {
   "cell_type": "markdown",
   "metadata": {},
   "source": [
    "**E.1** Complete Ch 2 of Introduction to Python in datacamp. "
   ]
  },
  {
   "cell_type": "markdown",
   "metadata": {},
   "source": [
    "**E.2** Below you will spend time practicing what you have learned in Ch 2. Use a comination of code, code commenting, and markdown text to take notes. Make sure you investigate how python syntax works and understand what you are doing, and what went wrong if you have any issues. You can refer to this document later if you need to review, so give future you lots of commenting to be helpful."
   ]
  },
  {
   "cell_type": "markdown",
   "metadata": {},
   "source": [
    "**E.2.1** Let's work on lists, indexing and printing out elements of lists.\n",
    "\n",
    "We are going to calculate the BMI of five family members (or friends/colleaues if you have a small family, or famous people/politicians/atheletes if you really don't like talking to people, they just have to be adults and you need their data). Make intellegently named lists for the first name, last name, height, weight and age of each person. So, five lists in total."
   ]
  },
  {
   "cell_type": "code",
   "execution_count": 48,
   "metadata": {},
   "outputs": [],
   "source": [
    "f_name = [\"John\", \"Amy\", \"Armando\", \"Jeremiah\", \"Lila\"]\n",
    "l_name = [\"Adams\", \"Richardson\", \"Ramirez\", \"Bryanns\", \"Downs\"]\n",
    "height = [1.25, 1.52, 1.76, 1.83, 1.52]\n",
    "weight = [60, 75, 68, 64, 50]\n",
    "age = [\"16\", \"24\", \"32\", \"56\", \"29\"]"
   ]
  },
  {
   "cell_type": "markdown",
   "metadata": {},
   "source": [
    "**E.2.2** Now create a new list that calculates the BMI of each person using the lists you created before"
   ]
  },
  {
   "cell_type": "code",
   "execution_count": 50,
   "metadata": {},
   "outputs": [],
   "source": [
    "BMI =[]\n",
    "for i in range(0,len(height)):\n",
    "    BMI.append(weight[i]/(height[i]**))"
   ]
  },
  {
   "cell_type": "markdown",
   "metadata": {},
   "source": [
    "**E.2.3** Look up the weight classification of each person based on their BMI (what's a good source for this, who do you trust?). Create a new list with this information for each person. (Don't judge, after 9 mo of COVID we all ate too much comfort foods.)"
   ]
  },
  {
   "cell_type": "code",
   "execution_count": 61,
   "metadata": {},
   "outputs": [],
   "source": [
    "#information provided by cdc.gov\n",
    "underweight = BMI[i] < 18.5\n",
    "normal = ((BMI[i] >= 18.5) and (BMI[i] <= 25))\n",
    "overweight = ((BMI[i] > 25) and (BMI[i] < 30))\n",
    "obese = ((BMI[i] >= 30))"
   ]
  },
  {
   "cell_type": "markdown",
   "metadata": {},
   "source": [
    "**E.2.3** Let's practice some print statements and iterate manually through the people on your lists.\n",
    "\n",
    "For each person, print out something like: \"First_name last_name, age xx, has a height of xx units and weight of xx units, giving them a body mass index (BMI) of xx, making them yy\" where yy is if they are normal, obese, etc."
   ]
  },
  {
   "cell_type": "code",
   "execution_count": 81,
   "metadata": {},
   "outputs": [
    {
     "name": "stdout",
     "output_type": "stream",
     "text": [
      "John Adams,16, has a height of 1.25m and a weight of 60kgs, giving them a body mass index (BMI) of 38 making them obese.\n",
      "Amy Richardson,24, has a height of 1.52m and a weight of 75kgs, giving them a body mass index (BMI) of 32 making them obese.\n",
      "Armando Adams,32, has a height of 1.76m and a weight of 68kgs, giving them a body mass index (BMI) of 22 making them normal.\n",
      "Jeremiah Adams,56, has a height of 1.83m and a weight of 64kgs, giving them a body mass index (BMI) of 19 making them normal.\n",
      "Lila Downs,29, has a height of 1.52m and a weight of 50kgs, giving them a body mass index (BMI) of 22 making them normal.\n"
     ]
    }
   ],
   "source": [
    "print(f_name[0] + ' ' + l_name[0] + ',' + str(age[0]) + ', has a height of ' + str(height[0]) + 'm and a weight of ' + str(weight[0]) + 'kgs, giving them a body mass index (BMI) of ' + str(round(BMI[0])) + ' making them obese.') \n",
    "\n",
    "print(f_name[1] + ' ' + l_name[1] + ',' + str(age[1]) + ', has a height of ' + str(height[1]) + 'm and a weight of ' + str(weight[1]) + 'kgs, giving them a body mass index (BMI) of ' + str(round(BMI[1])) + ' making them obese.')\n",
    "\n",
    "print(f_name[2] + ' ' + l_name[0] + ',' + str(age[2]) + ', has a height of ' + str(height[2]) + 'm and a weight of ' + str(weight[2]) + 'kgs, giving them a body mass index (BMI) of ' + str(round(BMI[2])) + ' making them normal.')\n",
    "\n",
    "print(f_name[3] + ' ' + l_name[0] + ',' + str(age[3]) + ', has a height of ' + str(height[3]) + 'm and a weight of ' + str(weight[3]) + 'kgs, giving them a body mass index (BMI) of ' + str(round(BMI[3])) + ' making them normal.')\n",
    "\n",
    "print(f_name[4] + ' ' + l_name[4] + ',' + str(age[4]) + ', has a height of ' + str(height[4]) + 'm and a weight of ' + str(weight[4]) + 'kgs, giving them a body mass index (BMI) of ' + str(round(BMI[4])) + ' making them normal.')"
   ]
  },
  {
   "cell_type": "markdown",
   "metadata": {},
   "source": [
    "**E.2.4** Now add/append your information to each of the lists, and do the same print statement for you. Make a resolution to eat more veggies."
   ]
  },
  {
   "cell_type": "code",
   "execution_count": 99,
   "metadata": {},
   "outputs": [
    {
     "name": "stdout",
     "output_type": "stream",
     "text": [
      "['John', 'Amy', 'Armando', 'Jeremiah', 'Lila', 'Lilly']\n",
      "['Adams', 'Richardson', 'Ramirez', 'Bryanns', 'Downs', 'Elliott']\n",
      "[1.25, 1.52, 1.76, 1.83, 1.52, 1.6]\n",
      "[60, 75, 68, 64, 50, 89]\n",
      "['16', '24', '32', '56', '29', 21]\n",
      "Lilly Elliott, 21, has a height of 1.6m and a weight of 89kgs, giving them a body mass index (BMI) of 35 making them obese.\n"
     ]
    }
   ],
   "source": [
    "#f_name.append('Lilly')\n",
    "#l_name.append('Elliott')\n",
    "#height.append(1.6)\n",
    "#weight.append(89)\n",
    "#age.append(21)\n",
    "print(f_name)\n",
    "print(l_name)\n",
    "print(height)\n",
    "print(weight)\n",
    "print(age)\n",
    "BMI =[]\n",
    "for i in range(0,len(height)):\n",
    "    BMI.append(weight[i]/(height[i]*height[i]))\n",
    "    \n",
    "print(f_name[-1] + ' ' + l_name[-1] + ', ' + str(age[-1]) + ', has a height of ' + str(height[-1]) + 'm and a weight of ' + str(weight[-1]) + 'kgs, giving them a body mass index (BMI) of ' + str(round(BMI[-1])) + ' making them obese.') "
   ]
  },
  {
   "cell_type": "markdown",
   "metadata": {},
   "source": [
    "When you are done with your lab, upload this document to your github folder on the class site. Then submit a url link to the completed lab, along with a screenshot of your completed Ch 2 score in datacamp, to the assignment tab in Blackboard."
   ]
  },
  {
   "cell_type": "code",
   "execution_count": 93,
   "metadata": {},
   "outputs": [],
   "source": []
  },
  {
   "cell_type": "markdown",
   "metadata": {},
   "source": [
    "# Scratch"
   ]
  },
  {
   "cell_type": "code",
   "execution_count": 5,
   "metadata": {},
   "outputs": [],
   "source": [
    "# this is an area of the notebook you can mess around and test things out, if you don't want to put it above"
   ]
  },
  {
   "cell_type": "code",
   "execution_count": null,
   "metadata": {},
   "outputs": [],
   "source": []
  },
  {
   "cell_type": "code",
   "execution_count": null,
   "metadata": {},
   "outputs": [],
   "source": []
  }
 ],
 "metadata": {
  "kernelspec": {
   "display_name": "Python 3",
   "language": "python",
   "name": "python3"
  },
  "language_info": {
   "codemirror_mode": {
    "name": "ipython",
    "version": 3
   },
   "file_extension": ".py",
   "mimetype": "text/x-python",
   "name": "python",
   "nbconvert_exporter": "python",
   "pygments_lexer": "ipython3",
   "version": "3.8.5"
  }
 },
 "nbformat": 4,
 "nbformat_minor": 4
}
