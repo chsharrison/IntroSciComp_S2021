{
 "cells": [
  {
   "cell_type": "markdown",
   "metadata": {},
   "source": [
    "Name Lilly Elliott"
   ]
  },
  {
   "cell_type": "markdown",
   "metadata": {},
   "source": [
    "Labpartner(s) Regmi, Sandip"
   ]
  },
  {
   "cell_type": "code",
   "execution_count": null,
   "metadata": {},
   "outputs": [],
   "source": [
    "# import statements go here\n",
    "import pandas as pn\n",
    "import numpy as np\n",
    "import matplotlib.plt as plt"
   ]
  },
  {
   "cell_type": "markdown",
   "metadata": {},
   "source": [
    "# Class 5.1"
   ]
  },
  {
   "cell_type": "markdown",
   "metadata": {},
   "source": [
    "## Monday labs are due Thursday at midnight\n",
    "\n",
    "Today you all are going to do the lecture! It's Present Your Plots Day."
   ]
  },
  {
   "cell_type": "markdown",
   "metadata": {},
   "source": [
    "# Warmups 5.1"
   ]
  },
  {
   "cell_type": "markdown",
   "metadata": {},
   "source": [
    "### Warmup is short today (20 min) so we have time to focus on your plots."
   ]
  },
  {
   "cell_type": "markdown",
   "metadata": {},
   "source": [
    "**W.1** Do Exercise 3 in practice python https://www.practicepython.org"
   ]
  },
  {
   "cell_type": "code",
   "execution_count": 23,
   "metadata": {},
   "outputs": [
    {
     "name": "stdout",
     "output_type": "stream",
     "text": [
      "[1, 2, 3]\n"
     ]
    }
   ],
   "source": [
    "#make a list and print out variables less than 5\n",
    "a = [1,6,6,2,5,3,5,7,8]\n",
    "print([num for num in a if num < 5])"
   ]
  },
  {
   "cell_type": "markdown",
   "metadata": {},
   "source": [
    "# Lecture 5.1"
   ]
  },
  {
   "cell_type": "markdown",
   "metadata": {},
   "source": [
    "## Agenda:\n",
    "\n",
    "- Questions about class or coding\n",
    "- Review of assignment tokens system\n",
    "- Show us your plots! Explain your data set, what you did with it, and what your learned, including any difficulties you had and how you solved them."
   ]
  },
  {
   "cell_type": "markdown",
   "metadata": {},
   "source": [
    "## Assignment Tokens review\n",
    "\n",
    "### From syllabus:\n",
    "\n",
    "Each student will begin the semester with ten assignment tokens, which they can use to miss a lab meeting, an assessment exercise, resubmit an unsatisfactory assignment or turn an assignment in late.\n",
    "\n",
    "### From: 4.1.1 How to earn more assingment tokens\n",
    "\n",
    "Studies show students at all levels like gamification. So let’s try this. We are going to institute an assignment token earning system starting next wek. There will be awards for having lots of tokens…and a winner...and prizes. \n",
    "\n",
    "Earn assignment tokens for: \n",
    "- Doing the data camp chapter before class (1 token)\n",
    "- Turning in Monday’s lab by Tuesday at midnight (1 token)\n",
    "- Creating a cool demo or exercise for your classmates (1+ tokens, depending on awesomeness)\n",
    "- Creating warmup exercises (1+ tokens, depending on how many, quality, etc.)\n",
    "\n",
    "To earn your tokens, send me and Adrian your proof, code, etc. over slack. That is, in a group message to both Adrian and I.\n",
    "\n",
    "As always, let me know in your weekly assessments if you have ideas on how to improve this game.\n",
    "\n"
   ]
  },
  {
   "cell_type": "code",
   "execution_count": null,
   "metadata": {},
   "outputs": [],
   "source": [
    "#alright!"
   ]
  },
  {
   "cell_type": "markdown",
   "metadata": {},
   "source": [
    "# Lab 5.1"
   ]
  },
  {
   "cell_type": "markdown",
   "metadata": {},
   "source": [
    "**E.1** Complete intermediate python chapter 4: Loops\n",
    "\n",
    "Note that loops often are very confusing for new programmers, but they are very powerful and super-useful. You will be seing them again.\n",
    "\n",
    "Note that the tutorials here have similar material for your needs:\n",
    "https://github.com/chsharrison/IntroSciComp_S2021/blob/main/Class_materials/resources.md"
   ]
  },
  {
   "cell_type": "markdown",
   "metadata": {},
   "source": [
    "**E.2** Make notes for yourself on all of the progamming tecniques and commands you learned in the datacamp chapter above, including examples, comments and explainitory text. You might use the resources linked above for supplementary examples. You can do this here or in a separate notebook that you link to here. Basically, you are making a cheat sheet for yourself."
   ]
  },
  {
   "cell_type": "code",
   "execution_count": null,
   "metadata": {},
   "outputs": [],
   "source": []
  },
  {
   "cell_type": "markdown",
   "metadata": {},
   "source": [
    "**E.3-6** Exercises 4-7 in practice python (see link above)"
   ]
  },
  {
   "cell_type": "code",
   "execution_count": 13,
   "metadata": {},
   "outputs": [
    {
     "name": "stdout",
     "output_type": "stream",
     "text": [
      "Type in your favorite number: 10\n",
      "[1, 2, 5, 10]\n"
     ]
    }
   ],
   "source": [
    "#https://www.practicepython.org/\n",
    "#4\n",
    "x = int(input('Type in your favorite number: '))\n",
    "b = list(range(1,x+1))\n",
    "c = []\n",
    "for number in b:\n",
    "    if x % number == 0:\n",
    "        c.append(number)\n",
    "print(c)"
   ]
  },
  {
   "cell_type": "code",
   "execution_count": 24,
   "metadata": {},
   "outputs": [
    {
     "data": {
      "text/plain": [
       "[1, 6, 12]"
      ]
     },
     "execution_count": 24,
     "metadata": {},
     "output_type": "execute_result"
    }
   ],
   "source": [
    "#5. \n",
    "#and write a program that returns a list that contains only the elements that are common between the lists \n",
    "#(without duplicates). Make sure your program works on two lists of different sizes.\n",
    "\n",
    "a = [1, 2, 4, 6, 8, 12, 15, 18, 26]\n",
    "b = [1, 3, 6, 9, 12, 46, 79, 80]\n",
    "c = [i for i in a if i in b]\n",
    "c"
   ]
  },
  {
   "cell_type": "code",
   "execution_count": 25,
   "metadata": {},
   "outputs": [
    {
     "name": "stdout",
     "output_type": "stream",
     "text": [
      "Please enter a word: racecar\n",
      "racecar\n",
      "This is a palindrome\n"
     ]
    }
   ],
   "source": [
    "#6. Ask the user for a string and print out whether this string is a palindrome or not. (A palindrome is a string that \n",
    "#reads the same forwards and backwards.)\n",
    "\n",
    "x = input(\"Please enter a word: \")\n",
    "str_x=str(x)\n",
    "rev_x=str_x[::-1]\n",
    "\n",
    "print(rev_x)\n",
    "if str_x == rev_x:\n",
    "    print(\"This is a palindrome\")\n",
    "else:\n",
    "    print(\"This is not a palindrome\")"
   ]
  },
  {
   "cell_type": "code",
   "execution_count": 45,
   "metadata": {},
   "outputs": [
    {
     "name": "stdout",
     "output_type": "stream",
     "text": [
      "20\n",
      "22\n",
      "22\n",
      "24\n",
      "30\n"
     ]
    }
   ],
   "source": [
    "#7 Let’s say I give you a list saved in a variable: a = [1, 4, 9, 16, 25, 36, 49, 64, 81, 100]. Write one line \n",
    "#of Python that takes this list a and makes a new list that has only the even elements of this list in it.\n",
    "\n",
    "age = [21, 33, 20, 25, 22, 22, 47, 19, 23, 24, 30, 29]\n",
    "\n",
    "for num in age :\n",
    "    if num % 2 == 0 :\n",
    "        print(num)"
   ]
  },
  {
   "cell_type": "code",
   "execution_count": null,
   "metadata": {},
   "outputs": [],
   "source": []
  }
 ],
 "metadata": {
  "kernelspec": {
   "display_name": "Python 3",
   "language": "python",
   "name": "python3"
  },
  "language_info": {
   "codemirror_mode": {
    "name": "ipython",
    "version": 3
   },
   "file_extension": ".py",
   "mimetype": "text/x-python",
   "name": "python",
   "nbconvert_exporter": "python",
   "pygments_lexer": "ipython3",
   "version": "3.8.5"
  }
 },
 "nbformat": 4,
 "nbformat_minor": 5
}
