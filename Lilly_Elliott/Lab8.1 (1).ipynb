{
 "cells": [
  {
   "cell_type": "markdown",
   "metadata": {},
   "source": [
    "Name"
   ]
  },
  {
   "cell_type": "markdown",
   "metadata": {},
   "source": [
    "Labpartner(s)"
   ]
  },
  {
   "cell_type": "code",
   "execution_count": null,
   "metadata": {},
   "outputs": [],
   "source": [
    "#import statements go here\n"
   ]
  },
  {
   "cell_type": "markdown",
   "metadata": {},
   "source": [
    "# Class 8.1"
   ]
  },
  {
   "cell_type": "markdown",
   "metadata": {},
   "source": [
    "I realized I wrote our syllabus and schedule of material like we weren't going to be one year into a global pandemic. So I am adjusting and making a more realistic schedule (more on Wed), which means scaling back the amount of material we will cover, and for now doing one chapter in datacamp a class instead of two or more. If by some miracle you have the mental bandwith, feel free to do extra work, but I in no way expect or encourage this. The main goal of this class is to empower you all to know how to figure out how to learn what you need, and we will still very much reach this goal. Every scientific progammer I know is self taught, and is learning just like you all, by looking at sample code, googling, and using online resources. You all are doing great! Let's have realistic expectations of ourselves for the next few months.\n",
    "\n",
    "Here is my suggested order of priorities for you all:\n",
    "\n",
    "1. Personal health (physical, mental, emotional). You have to take care of your health so you can help others.\n",
    "1. Health of loved ones (physical, mental, emotional).\n",
    "1. Research (if you are a grad student particularly)\n",
    "1. Classwork (you might need to put this above research if you need perfect grades for fellowships, etc.)\n"
   ]
  },
  {
   "cell_type": "markdown",
   "metadata": {},
   "source": [
    "# Warmups 8.1"
   ]
  },
  {
   "cell_type": "markdown",
   "metadata": {},
   "source": [
    "Short warmup today as we are doing show us your functions (1:45-2:05)"
   ]
  },
  {
   "cell_type": "markdown",
   "metadata": {},
   "source": [
    "**W.1** Do Practice Python #12, list ends https://www.practicepython.org/exercise/2014/04/25/12-list-ends.html"
   ]
  },
  {
   "cell_type": "code",
   "execution_count": 3,
   "metadata": {},
   "outputs": [],
   "source": [
    "c = [1, 3, 5, 7, 2, 7, 2]\n",
    "\n",
    "def list_ends(c):\n",
    "    return [c[0], c[-1]]"
   ]
  },
  {
   "cell_type": "markdown",
   "metadata": {},
   "source": [
    "# Lecture 8.1\n",
    "\n",
    "### Agenda:\n",
    "\n",
    "- Questions\n",
    "- Show us your funtions! "
   ]
  },
  {
   "cell_type": "markdown",
   "metadata": {},
   "source": [
    "### Questions"
   ]
  },
  {
   "cell_type": "code",
   "execution_count": null,
   "metadata": {},
   "outputs": [],
   "source": []
  },
  {
   "cell_type": "markdown",
   "metadata": {},
   "source": [
    "### Show us your functions"
   ]
  },
  {
   "cell_type": "markdown",
   "metadata": {},
   "source": [
    "The project for last week was to write two funtions, one that manipulates or analyzes your data, and one that plots it."
   ]
  },
  {
   "cell_type": "code",
   "execution_count": 6,
   "metadata": {},
   "outputs": [
    {
     "data": {
      "text/html": [
       "<div>\n",
       "<style scoped>\n",
       "    .dataframe tbody tr th:only-of-type {\n",
       "        vertical-align: middle;\n",
       "    }\n",
       "\n",
       "    .dataframe tbody tr th {\n",
       "        vertical-align: top;\n",
       "    }\n",
       "\n",
       "    .dataframe thead th {\n",
       "        text-align: right;\n",
       "    }\n",
       "</style>\n",
       "<table border=\"1\" class=\"dataframe\">\n",
       "  <thead>\n",
       "    <tr style=\"text-align: right;\">\n",
       "      <th></th>\n",
       "      <th>Trial</th>\n",
       "      <th>Time point</th>\n",
       "      <th>Vetch</th>\n",
       "      <th>Oat</th>\n",
       "      <th>Sunhemp</th>\n",
       "      <th>Wheatgrass</th>\n",
       "      <th>Radish</th>\n",
       "    </tr>\n",
       "  </thead>\n",
       "  <tbody>\n",
       "    <tr>\n",
       "      <th>0</th>\n",
       "      <td>1</td>\n",
       "      <td>0</td>\n",
       "      <td>0</td>\n",
       "      <td>0</td>\n",
       "      <td>0</td>\n",
       "      <td>0</td>\n",
       "      <td>0</td>\n",
       "    </tr>\n",
       "    <tr>\n",
       "      <th>1</th>\n",
       "      <td>2</td>\n",
       "      <td>0</td>\n",
       "      <td>0</td>\n",
       "      <td>0</td>\n",
       "      <td>0</td>\n",
       "      <td>0</td>\n",
       "      <td>0</td>\n",
       "    </tr>\n",
       "    <tr>\n",
       "      <th>2</th>\n",
       "      <td>3</td>\n",
       "      <td>0</td>\n",
       "      <td>0</td>\n",
       "      <td>0</td>\n",
       "      <td>0</td>\n",
       "      <td>0</td>\n",
       "      <td>0</td>\n",
       "    </tr>\n",
       "    <tr>\n",
       "      <th>3</th>\n",
       "      <td>4</td>\n",
       "      <td>0</td>\n",
       "      <td>0</td>\n",
       "      <td>0</td>\n",
       "      <td>0</td>\n",
       "      <td>0</td>\n",
       "      <td>0</td>\n",
       "    </tr>\n",
       "    <tr>\n",
       "      <th>4</th>\n",
       "      <td>5</td>\n",
       "      <td>0</td>\n",
       "      <td>0</td>\n",
       "      <td>0</td>\n",
       "      <td>0</td>\n",
       "      <td>0</td>\n",
       "      <td>0</td>\n",
       "    </tr>\n",
       "    <tr>\n",
       "      <th>...</th>\n",
       "      <td>...</td>\n",
       "      <td>...</td>\n",
       "      <td>...</td>\n",
       "      <td>...</td>\n",
       "      <td>...</td>\n",
       "      <td>...</td>\n",
       "      <td>...</td>\n",
       "    </tr>\n",
       "    <tr>\n",
       "      <th>315</th>\n",
       "      <td>58</td>\n",
       "      <td>24</td>\n",
       "      <td>0</td>\n",
       "      <td>1</td>\n",
       "      <td>3</td>\n",
       "      <td>2</td>\n",
       "      <td>3</td>\n",
       "    </tr>\n",
       "    <tr>\n",
       "      <th>316</th>\n",
       "      <td>59</td>\n",
       "      <td>24</td>\n",
       "      <td>1</td>\n",
       "      <td>1</td>\n",
       "      <td>0</td>\n",
       "      <td>10</td>\n",
       "      <td>10</td>\n",
       "    </tr>\n",
       "    <tr>\n",
       "      <th>317</th>\n",
       "      <td>60</td>\n",
       "      <td>24</td>\n",
       "      <td>7</td>\n",
       "      <td>10</td>\n",
       "      <td>10</td>\n",
       "      <td>10</td>\n",
       "      <td>10</td>\n",
       "    </tr>\n",
       "    <tr>\n",
       "      <th>318</th>\n",
       "      <td>61</td>\n",
       "      <td>24</td>\n",
       "      <td>0</td>\n",
       "      <td>1</td>\n",
       "      <td>0</td>\n",
       "      <td>0</td>\n",
       "      <td>1</td>\n",
       "    </tr>\n",
       "    <tr>\n",
       "      <th>319</th>\n",
       "      <td>62</td>\n",
       "      <td>24</td>\n",
       "      <td>3</td>\n",
       "      <td>7</td>\n",
       "      <td>7</td>\n",
       "      <td>10</td>\n",
       "      <td>9</td>\n",
       "    </tr>\n",
       "  </tbody>\n",
       "</table>\n",
       "<p>320 rows × 7 columns</p>\n",
       "</div>"
      ],
      "text/plain": [
       "     Trial  Time point  Vetch  Oat  Sunhemp  Wheatgrass  Radish\n",
       "0        1           0      0    0        0           0       0\n",
       "1        2           0      0    0        0           0       0\n",
       "2        3           0      0    0        0           0       0\n",
       "3        4           0      0    0        0           0       0\n",
       "4        5           0      0    0        0           0       0\n",
       "..     ...         ...    ...  ...      ...         ...     ...\n",
       "315     58          24      0    1        3           2       3\n",
       "316     59          24      1    1        0          10      10\n",
       "317     60          24      7   10       10          10      10\n",
       "318     61          24      0    1        0           0       1\n",
       "319     62          24      3    7        7          10       9\n",
       "\n",
       "[320 rows x 7 columns]"
      ]
     },
     "execution_count": 6,
     "metadata": {},
     "output_type": "execute_result"
    }
   ],
   "source": [
    "ant = pd.read_csv(r'C:\\Users\\Choudhury_Lab\\Downloads\\log.csv')\n",
    "ant"
   ]
  },
  {
   "cell_type": "code",
   "execution_count": 4,
   "metadata": {},
   "outputs": [
    {
     "data": {
      "image/png": "[encoded data removed]",
      "text/plain": [
       "<Figure size 432x288 with 4 Axes>"
      ]
     },
     "metadata": {
      "needs_background": "light"
     },
     "output_type": "display_data"
    }
   ],
   "source": [
    "import pandas as pd \n",
    "import matplotlib.pyplot as plt\n",
    "\n",
    "ant = pd.read_csv(r'C:\\Users\\Choudhury_Lab\\Downloads\\log.csv')\n",
    "\n",
    "b = ant['Trial']\n",
    "time = ant['Time point']\n",
    "fig, ax = plt.subplots()\n",
    "ax2 = ax.twinx()\n",
    "ax3 = ax.twinx()\n",
    "ax4 = ax.twinx()\n",
    "\n",
    "ax.plot(time, ant[\"Vetch\"], label = 'Vetch', color = 'red')\n",
    "ax2.plot(time,ant[\"Oat\"], label = 'Oat', color = 'blue')\n",
    "ax3.plot(time, ant[\"Wheatgrass\"], label = 'Wheatgrass', color = 'black')\n",
    "ax4.plot(time, ant[\"Radish\"], label = 'Radish', color = 'orange')\n",
    "ax.set_ylabel(\"Seeds taken over time\")\n",
    "ax.set_xlabel('Time (hours)')\n",
    "\n",
    "ax.legend()\n",
    "ax2.legend()\n",
    "ax3.legend()\n",
    "ax4.legend()\n",
    "plt.show()"
   ]
  },
  {
   "cell_type": "code",
   "execution_count": 5,
   "metadata": {},
   "outputs": [
    {
     "data": {
      "image/png": "[encoded data removed]",
      "text/plain": [
       "<Figure size 432x288 with 1 Axes>"
      ]
     },
     "metadata": {
      "needs_background": "light"
     },
     "output_type": "display_data"
    },
    {
     "data": {
      "image/png": "[encoded data removed]",
      "text/plain": [
       "<Figure size 432x288 with 1 Axes>"
      ]
     },
     "metadata": {
      "needs_background": "light"
     },
     "output_type": "display_data"
    }
   ],
   "source": [
    "import matplotlib.pyplot as plt\n",
    "def plot_timeseries(axes, x, y, color, xlabel, ylabel):\n",
    "  axes.plot(x, y, color=color)\n",
    "  axes.set_xlabel(xlabel)\n",
    "  axes.set_ylabel(ylabel, color=color)\n",
    "  axes.tick_params('y', colors=color) \n",
    "\n",
    "fig, ax = plt.subplots()\n",
    "ant = pd.read_csv(r'C:\\Users\\Choudhury_Lab\\Downloads\\log.csv')\n",
    "\n",
    "b = ant['Trial']\n",
    "time = ant['Time point']\n",
    "fig, ax = plt.subplots()\n",
    "\n",
    "plot_timeseries(ax, time, ant[\"Vetch\"], \"blue\", 'Vetch', 'Seeds Taken')\n",
    "plot_timeseries(ax, time, ant[\"Wheatgrass\"], \"red\",'Wheatgrass','Seeds Taken')\n",
    "ax.set_xlabel('Time (hours)')\n",
    "ax.set_ylabel('Seeds Taken')\n",
    "plt.show()"
   ]
  },
  {
   "cell_type": "markdown",
   "metadata": {},
   "source": [
    "# Lab 8.1"
   ]
  },
  {
   "cell_type": "markdown",
   "metadata": {},
   "source": [
    "**E.1** Complete Data Manipulation with pandas Ch 1 in datacamp.\n"
   ]
  },
  {
   "cell_type": "code",
   "execution_count": null,
   "metadata": {},
   "outputs": [],
   "source": [
    "#done!"
   ]
  },
  {
   "cell_type": "markdown",
   "metadata": {},
   "source": [
    "**E.2** Make notes for yourself on progamming tecniques and commands you learned in the datacamp chapter above, including examples, comments and explainitory text. You can do this here or in a separate notebook that you link to here. Basically, you are making a cheat sheet for yourself."
   ]
  },
  {
   "cell_type": "code",
   "execution_count": null,
   "metadata": {},
   "outputs": [],
   "source": [
    "#.head() first few rows of df, .info() shows data type, info, missing values, etc, .shape # of rows/col, .describe() \n",
    "#summar stats. .sort_values(\"what uwanna sort it by\", \"other column\") good for organizing data.\n",
    "#when wanting to remove certain items from a column based on __ : df[df[\"col\"] ==/>/< \"sub\"]"
   ]
  },
  {
   "cell_type": "markdown",
   "metadata": {},
   "source": [
    "### This week's project:\n",
    "\n",
    "This week we will be doing a CV assignment in LaTeX, which I will introduce on Wed. For now, you can go check out Overleaf (https://www.overleaf.com) and make an account, and get zotero running on your computer (https://www.zotero.org) and make an account; you will need the downloaded version. If you're really excited, you can try to get the zotero plugin working in a web browser and install the Word plug in, but this is not requried until later this week and I will explain on Wednesday."
   ]
  },
  {
   "cell_type": "code",
   "execution_count": null,
   "metadata": {},
   "outputs": [],
   "source": []
  }
 ],
 "metadata": {
  "kernelspec": {
   "display_name": "Python 3",
   "language": "python",
   "name": "python3"
  },
  "language_info": {
   "codemirror_mode": {
    "name": "ipython",
    "version": 3
   },
   "file_extension": ".py",
   "mimetype": "text/x-python",
   "name": "python",
   "nbconvert_exporter": "python",
   "pygments_lexer": "ipython3",
   "version": "3.8.5"
  }
 },
 "nbformat": 4,
 "nbformat_minor": 5
}
