{
 "cells": [
  {
   "cell_type": "markdown",
   "metadata": {},
   "source": [
    "put your name, etc here"
   ]
  },
  {
   "cell_type": "code",
   "execution_count": null,
   "metadata": {},
   "outputs": [],
   "source": [
    "Reyna Tovar"
   ]
  },
  {
   "cell_type": "markdown",
   "metadata": {},
   "source": [
    "# Lecture 1.2"
   ]
  },
  {
   "cell_type": "markdown",
   "metadata": {},
   "source": [
    "Short lecture today, and mostly logistics. I will introduce the final projects and grading next week. (Sorry!) Short story for the grading is that you have to complete these first labs to pass the class, and I am grading them in a binary done/not-done scheme. So you need to complete them.\n",
    "\n",
    "Lecture Agenda:\n",
    "\n",
    "* debriefing on first class and homework, how's it going?\n",
    "* logistics of github, downloading this Lab 1.2 notebook\n",
    "* commenting and markup in notebooks\n",
    "* workflow for the class\n"
   ]
  },
  {
   "cell_type": "markdown",
   "metadata": {},
   "source": [
    "In general, we will do warmup exercises and lab exercises in a jupyter notebook. For most classes, you will download the notebook from github, open it on your local computer, and then upload your completed work back on github in  your folder. In general, all lab work for the week is due Sunday before midnight on blackboard.\n",
    "\n",
    "\n"
   ]
  },
  {
   "cell_type": "code",
   "execution_count": null,
   "metadata": {},
   "outputs": [],
   "source": [
    "# here is an example of code commenting. The # symbol means everything on this line will be ignored \n",
    "\n",
    "\n"
   ]
  },
  {
   "cell_type": "markdown",
   "metadata": {},
   "source": [
    "Here is an example of markdown text. Because this cell is in markdown mode it will also be ignored by the python shell"
   ]
  },
  {
   "cell_type": "code",
   "execution_count": null,
   "metadata": {},
   "outputs": [],
   "source": []
  },
  {
   "cell_type": "markdown",
   "metadata": {},
   "source": [
    "## Preliminaries"
   ]
  },
  {
   "cell_type": "markdown",
   "metadata": {},
   "source": [
    "In our class github site, create a folder for yourself where you will submit your jupyter notebooks. The easiest way to do this is to create a new file that is a placeholder document in the new folder. You can delete it later."
   ]
  },
  {
   "cell_type": "markdown",
   "metadata": {},
   "source": [
    "## Warmup exercises"
   ]
  },
  {
   "cell_type": "markdown",
   "metadata": {},
   "source": [
    "As you are doing these exercises, get familiar with jupyter notebook commands \n",
    "https://towardsdatascience.com/jypyter-notebook-shortcuts-bf0101a98330\n",
    "\n",
    "and markdown text https://medium.com/@ingeh/markdown-for-jupyter-notebooks-cheatsheet-386c05aeebed\n",
    "\n",
    "These exercises are based on what you have learned previously. Feel free to go look at what you did in datacamp to figure out how to answer them."
   ]
  },
  {
   "cell_type": "markdown",
   "metadata": {},
   "source": [
    "**W.1** Define and assign values to three variables of the three types we learned about Monday: integer, floating point, string and boolian. \n",
    "\n",
    "Note you can add more cells below by pressing the + button above or typing [esc] to command mode, then [b] to enter a cell below, or [a] to enter a cell above. See the link above for more commands"
   ]
  },
  {
   "cell_type": "code",
   "execution_count": 45,
   "metadata": {},
   "outputs": [],
   "source": [
    "integer = 7"
   ]
  },
  {
   "cell_type": "code",
   "execution_count": 44,
   "metadata": {},
   "outputs": [],
   "source": [
    "floating_point= 3.9"
   ]
  },
  {
   "cell_type": "code",
   "execution_count": 46,
   "metadata": {},
   "outputs": [],
   "source": [
    "string= \"It is drizzling today\""
   ]
  },
  {
   "cell_type": "code",
   "execution_count": 47,
   "metadata": {},
   "outputs": [],
   "source": [
    "boolean= True"
   ]
  },
  {
   "cell_type": "markdown",
   "metadata": {},
   "source": [
    "**W.2** Print out the value and check the type of each variable"
   ]
  },
  {
   "cell_type": "code",
   "execution_count": 9,
   "metadata": {},
   "outputs": [
    {
     "name": "stdout",
     "output_type": "stream",
     "text": [
      "integer\n"
     ]
    },
    {
     "data": {
      "text/plain": [
       "str"
      ]
     },
     "execution_count": 9,
     "metadata": {},
     "output_type": "execute_result"
    }
   ],
   "source": [
    "print(\"integer\")\n",
    "type(\"integer\")"
   ]
  },
  {
   "cell_type": "code",
   "execution_count": 10,
   "metadata": {},
   "outputs": [
    {
     "name": "stdout",
     "output_type": "stream",
     "text": [
      "floating_point\n"
     ]
    },
    {
     "data": {
      "text/plain": [
       "str"
      ]
     },
     "execution_count": 10,
     "metadata": {},
     "output_type": "execute_result"
    }
   ],
   "source": [
    "print(\"floating_point\")\n",
    "type(\"floating_point\")"
   ]
  },
  {
   "cell_type": "code",
   "execution_count": 11,
   "metadata": {},
   "outputs": [
    {
     "name": "stdout",
     "output_type": "stream",
     "text": [
      "string\n"
     ]
    },
    {
     "data": {
      "text/plain": [
       "str"
      ]
     },
     "execution_count": 11,
     "metadata": {},
     "output_type": "execute_result"
    }
   ],
   "source": [
    "print(\"string\")\n",
    "type(\"string\")"
   ]
  },
  {
   "cell_type": "code",
   "execution_count": 12,
   "metadata": {},
   "outputs": [
    {
     "name": "stdout",
     "output_type": "stream",
     "text": [
      "boolean\n"
     ]
    },
    {
     "data": {
      "text/plain": [
       "str"
      ]
     },
     "execution_count": 12,
     "metadata": {},
     "output_type": "execute_result"
    }
   ],
   "source": [
    "print(\"boolean\")\n",
    "type(\"boolean\")"
   ]
  },
  {
   "cell_type": "markdown",
   "metadata": {},
   "source": [
    "**W.3** Create a new variable that saves the value of the float variable as a string. Print it out"
   ]
  },
  {
   "cell_type": "code",
   "execution_count": 68,
   "metadata": {},
   "outputs": [],
   "source": [
    "a_float = str(floating_point)"
   ]
  },
  {
   "cell_type": "code",
   "execution_count": 70,
   "metadata": {},
   "outputs": [
    {
     "name": "stdout",
     "output_type": "stream",
     "text": [
      "3.9\n"
     ]
    }
   ],
   "source": [
    "print(a_float)"
   ]
  },
  {
   "cell_type": "code",
   "execution_count": null,
   "metadata": {},
   "outputs": [],
   "source": [
    "W.4 Using multiplication of a variable, print out the text \"Bueno Bueno Bueno Bueno Bueno\" (Shoutout to Monsieur Periné https://youtu.be/JGL-eQAAxGs see 10:45)"
   ]
  },
  {
   "cell_type": "code",
   "execution_count": 58,
   "metadata": {},
   "outputs": [
    {
     "name": "stdout",
     "output_type": "stream",
     "text": [
      "Bueno Bueno Bueno Bueno Bueno \n"
     ]
    }
   ],
   "source": [
    "b = \"Bueno \"\n",
    "print(b*5)"
   ]
  },
  {
   "cell_type": "markdown",
   "metadata": {},
   "source": [
    "**W.5** Do the same thing using addtion"
   ]
  },
  {
   "cell_type": "code",
   "execution_count": 59,
   "metadata": {},
   "outputs": [
    {
     "name": "stdout",
     "output_type": "stream",
     "text": [
      "Bueno Bueno Bueno Bueno Bueno \n"
     ]
    }
   ],
   "source": [
    "print(b+b+b+b+b)\n",
    "\n"
   ]
  },
  {
   "cell_type": "markdown",
   "metadata": {},
   "source": [
    "**W.6** If you add an int and a float, what is the resulting variable type? Demonstrate"
   ]
  },
  {
   "cell_type": "code",
   "execution_count": 34,
   "metadata": {},
   "outputs": [],
   "source": [
    "x = \"95 + 1.4\""
   ]
  },
  {
   "cell_type": "code",
   "execution_count": 35,
   "metadata": {},
   "outputs": [
    {
     "data": {
      "text/plain": [
       "str"
      ]
     },
     "execution_count": 35,
     "metadata": {},
     "output_type": "execute_result"
    }
   ],
   "source": [
    "type(x)"
   ]
  },
  {
   "cell_type": "code",
   "execution_count": 37,
   "metadata": {},
   "outputs": [
    {
     "data": {
      "text/plain": [
       "str"
      ]
     },
     "execution_count": 37,
     "metadata": {},
     "output_type": "execute_result"
    }
   ],
   "source": [
    "type(\"95 + 1.4\")"
   ]
  },
  {
   "cell_type": "markdown",
   "metadata": {},
   "source": [
    "**W.7** Can you convert a Boolian to an interger type variable? If so, what is the resulting value? What happens if you convert a float to an int?"
   ]
  },
  {
   "cell_type": "code",
   "execution_count": 75,
   "metadata": {},
   "outputs": [
    {
     "name": "stdout",
     "output_type": "stream",
     "text": [
      "1\n",
      "3\n"
     ]
    }
   ],
   "source": [
    "bool_tointeger = int(boolean)\n",
    "print(bool_tointeger)\n",
    "float_tointeger = int(floating_point)\n",
    "print(float_tointeger)"
   ]
  },
  {
   "cell_type": "markdown",
   "metadata": {},
   "source": [
    "# Lab 1.2"
   ]
  },
  {
   "cell_type": "markdown",
   "metadata": {},
   "source": [
    "## Lab Exercises"
   ]
  },
  {
   "cell_type": "markdown",
   "metadata": {},
   "source": [
    "**E.1** Complete Ch 2 of Introduction to Python in datacamp. "
   ]
  },
  {
   "cell_type": "markdown",
   "metadata": {},
   "source": [
    "**E.2** Below you will spend time practicing what you have learned in Ch 2. Use a comination of code, code commenting, and markdown text to take notes. Make sure you investigate how python syntax works and understand what you are doing, and what went wrong if you have any issues. You can refer to this document later if you need to review, so give future you lots of commenting to be helpful."
   ]
  },
  {
   "cell_type": "markdown",
   "metadata": {},
   "source": [
    "**E.2.1** Let's work on lists, indexing and printing out elements of lists.\n",
    "\n",
    "We are going to calculate the BMI of five family members (or friends/colleaues if you have a small family, or famous people/politicians/atheletes if you really don't like talking to people, they just have to be adults and you need their data). Make intellegently named lists for the first name, last name, height, weight and age of each person. So, five lists in total."
   ]
  },
  {
   "cell_type": "code",
   "execution_count": 76,
   "metadata": {},
   "outputs": [],
   "source": [
    "#Relatives that are fat\n",
    "Alexis = [\"Alexis\", \"Moreno\", 1.57, 73, 12 ]   \n",
    "Karina = [\"Karina\", \"Trevino\", 1.60, 77, 36]\n",
    "Neyra = [\"Neyra\", \"Gutierrez\", 1.70, 81.6, 27 ]\n",
    "Esther = [\"Esther\", \"DelaCruz\", 1.52, 79.37, 55]\n",
    "Damian = [\"Damian\", \"Espinosa\", 1.75, 81.64, 17]"
   ]
  },
  {
   "cell_type": "markdown",
   "metadata": {},
   "source": [
    "**E.2.2** Now create a new list that calculates the BMI of each person using the lists you created before"
   ]
  },
  {
   "cell_type": "code",
   "execution_count": 78,
   "metadata": {},
   "outputs": [
    {
     "name": "stdout",
     "output_type": "stream",
     "text": [
      "[29.61580591504726, 30.078124999999993, 28.23529411764706, 34.35335872576177, 26.65795918367347]\n"
     ]
    }
   ],
   "source": [
    "fatties_BMI = [Alexis[3]/Alexis[2]**2, Karina[3]/Karina[2]**2, Neyra[3]/Neyra[2]**2, Esther[3]/Esther[2]**2, Damian[3]/Damian[2]**2]\n",
    "print(fatties_BMI)"
   ]
  },
  {
   "cell_type": "markdown",
   "metadata": {},
   "source": [
    "**E.2.3** Look up the weight classification of each person based on their BMI (what's a good source for this, who do you trust?). Create a new list with this information for each person. (Don't judge, after 9 mo of COVID we all ate too much comfort foods.)"
   ]
  },
  {
   "cell_type": "code",
   "execution_count": 80,
   "metadata": {},
   "outputs": [],
   "source": [
    "#Credits to CDC Below 18.5: Underweight, 18.5 – 24.9: Normal Weight, 25.0 – 29.9: Overweight, 30.0 and Above: Obese\n",
    "Alexis_BMI = Alexis[:] + [29.61, \"Overweight\"]\n",
    "Karina_BMI = Karina[:] + [30.07, \"Overweight\"]\n",
    "Neyra_BMI = Neyra[:] + [28.23, \"Overweight\"]\n",
    "Esther_BMI = Esther[:] + [34.35, \"Overweight\"]\n",
    "Damian_BMI = Damian[:] + [26.65, \"Normal Weight\"]"
   ]
  },
  {
   "cell_type": "markdown",
   "metadata": {},
   "source": [
    "**E.2.3** Let's practice some print statements and iterate manually through the people on your lists.\n",
    "\n",
    "For each person, print out something like: \"First_name last_name, age xx, has a height of xx units and weight of xx units, giving them a body mass index (BMI) of xx, making them yy\" where yy is if they are normal, obese, etc."
   ]
  },
  {
   "cell_type": "code",
   "execution_count": 98,
   "metadata": {},
   "outputs": [
    {
     "name": "stdout",
     "output_type": "stream",
     "text": [
      "Alexis Moreno, age 12, has a height of 1.57 meters and weight of 73 kilograms, giving him a body mass index (BMI) of 29.61, making him Overweight\n",
      "Karina Trevino, age 36, has a height of 1.6 meters and weight of 77 kilograms, giving her a body mass index (BMI) of 30.07, making her Overweight\n",
      "Neyra Gutierrez, age 27, has a height of 1.7 meters and weight of 81.6 kilograms, giving her a body mass index (BMI) of 28.23, making her Overweight\n",
      "Esther DelaCruz, age 55, has a height of 1.52 meters and weight of 79.37 kilograms, giving her a body mass index (BMI) of 34.35, making her Overweight\n",
      "Damian Espinosa, age 17, has a height of 1.75 meters and weight of 81.64 kilograms, giving him a body mass index (BMI) of 26.65, making him Normal Weight\n"
     ]
    }
   ],
   "source": [
    "print(Alexis[0] + \" \" + Alexis[1] + \", age \" + str(Alexis[4]) + \", has a height of \" + str(Alexis[2]) + \" meters and weight of \" + str(Alexis[-2]) + \n",
    " \" kilograms, giving him a body mass index (BMI) of \" + str(Alexis_BMI[-2]) + \", making him \" + Alexis_BMI[6])\n",
    "print(Karina[0] + \" \" + Karina[1] + \", age \" + str(Karina[4]) + \", has a height of \" + str(Karina[2]) + \" meters and weight of \" + str(Karina[-2]) + \n",
    "      \" kilograms, giving her a body mass index (BMI) of \" + str(Karina_BMI[-2]) + \", making her \" + Karina_BMI[6])\n",
    "print(Neyra[0] + \" \" + Neyra[1] + \", age \" + str(Neyra[4]) + \", has a height of \" + str(Neyra[2]) + \" meters and weight of \" + str(Neyra[-2]) + \n",
    "      \" kilograms, giving her a body mass index (BMI) of \" + str(Neyra_BMI[-2]) + \", making her \" + Neyra_BMI[6])\n",
    "print(Esther[0] + \" \" + Esther[1] + \", age \" + str(Esther[4]) + \", has a height of \" + str(Esther[2]) + \" meters and weight of \" + str(Esther[-2]) + \n",
    "      \" kilograms, giving her a body mass index (BMI) of \" + str(Esther_BMI[-2]) + \", making her \" + Esther_BMI[6])\n",
    "print(Damian[0] + \" \" + Damian[1] + \", age \" + str(Damian[4]) + \", has a height of \" + str(Damian[2]) + \" meters and weight of \" + str(Damian[-2]) + \n",
    "      \" kilograms, giving him a body mass index (BMI) of \" + str(Damian_BMI[-2]) + \", making him \" + Damian_BMI[6])"
   ]
  },
  {
   "cell_type": "markdown",
   "metadata": {},
   "source": [
    "**E.2.4** Now add/append your information to each of the lists, and do the same print statement for you. Make a resolution to eat more veggies."
   ]
  },
  {
   "cell_type": "code",
   "execution_count": 102,
   "metadata": {},
   "outputs": [
    {
     "name": "stdout",
     "output_type": "stream",
     "text": [
      "[26.501904432132964, 'Normal Weight']\n",
      "Reyna Tovar, age 40, has a height of 1.52 meters and weight of 61.23 kilograms, giving her a body mass index (BMI) of 26.501904432132964, making her Normal Weight\n"
     ]
    }
   ],
   "source": [
    "# I guess we all need to lose some corona-fat\n",
    "Reyna = [\"Reyna\", \"Tovar\", 1.52, 61.23, 40]\n",
    "BMI = [Reyna[3]/Reyna[2]**2, \"Normal Weight\"]\n",
    "print(BMI)\n",
    "print(Reyna[0] + \" \" + Reyna[1] + \", age \" + str(Reyna[4]) + \", has a height of \" + str(Reyna[2]) + \" meters and weight of \" + str(Reyna[-2]) + \n",
    "      \" kilograms, giving her a body mass index (BMI) of \" + str(BMI[0]) + \", making her \" + BMI[1])"
   ]
  },
  {
   "cell_type": "markdown",
   "metadata": {},
   "source": [
    "When you are done with your lab, upload this document to your github folder on the class site. Then submit a url link to the completed lab, along with a screenshot of your completed Ch 2 score in datacamp, to the assignment tab in Blackboard."
   ]
  },
  {
   "cell_type": "code",
   "execution_count": null,
   "metadata": {},
   "outputs": [],
   "source": []
  },
  {
   "cell_type": "markdown",
   "metadata": {},
   "source": [
    "# Scratch"
   ]
  },
  {
   "cell_type": "code",
   "execution_count": 5,
   "metadata": {},
   "outputs": [],
   "source": [
    "# this is an area of the notebook you can mess around and test things out, if you don't want to put it above"
   ]
  },
  {
   "cell_type": "code",
   "execution_count": null,
   "metadata": {},
   "outputs": [],
   "source": [
    "# this took forever"
   ]
  },
  {
   "cell_type": "code",
   "execution_count": 103,
   "metadata": {},
   "outputs": [
    {
     "name": "stdout",
     "output_type": "stream",
     "text": [
      "   / |\n",
      "  /  |\n",
      " /   |\n",
      "/____|\n"
     ]
    }
   ],
   "source": [
    "print(\"   / |\")\n",
    "print(\"  /  |\")\n",
    "print(\" /   |\")\n",
    "print(\"/____|\")"
   ]
  },
  {
   "cell_type": "code",
   "execution_count": null,
   "metadata": {},
   "outputs": [],
   "source": []
  }
 ],
 "metadata": {
  "kernelspec": {
   "display_name": "Python 3",
   "language": "python",
   "name": "python3"
  },
  "language_info": {
   "codemirror_mode": {
    "name": "ipython",
    "version": 3
   },
   "file_extension": ".py",
   "mimetype": "text/x-python",
   "name": "python",
   "nbconvert_exporter": "python",
   "pygments_lexer": "ipython3",
   "version": "3.8.5"
  }
 },
 "nbformat": 4,
 "nbformat_minor": 4
}
