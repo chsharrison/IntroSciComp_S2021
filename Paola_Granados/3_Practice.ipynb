{
 "cells": [
  {
   "cell_type": "markdown",
   "metadata": {},
   "source": [
    "# Week 3 Practice"
   ]
  },
  {
   "cell_type": "code",
   "execution_count": 1,
   "metadata": {},
   "outputs": [],
   "source": [
    "import numpy as np\n",
    "import matplotlib.pyplot as plt "
   ]
  },
  {
   "cell_type": "markdown",
   "metadata": {},
   "source": [
    "Plotting a function"
   ]
  },
  {
   "cell_type": "code",
   "execution_count": 2,
   "metadata": {},
   "outputs": [],
   "source": [
    "#np.arange(start,stop,end)\n",
    "x= np.arange(-20,20,0.5)"
   ]
  },
  {
   "cell_type": "code",
   "execution_count": 6,
   "metadata": {},
   "outputs": [
    {
     "data": {
      "text/plain": [
       "array([-7.452000e+03, -6.890625e+03, -6.358000e+03, -5.853375e+03,\n",
       "       -5.376000e+03, -4.925125e+03, -4.500000e+03, -4.099875e+03,\n",
       "       -3.724000e+03, -3.371625e+03, -3.042000e+03, -2.734375e+03,\n",
       "       -2.448000e+03, -2.182125e+03, -1.936000e+03, -1.708875e+03,\n",
       "       -1.500000e+03, -1.308625e+03, -1.134000e+03, -9.753750e+02,\n",
       "       -8.320000e+02, -7.031250e+02, -5.880000e+02, -4.858750e+02,\n",
       "       -3.960000e+02, -3.176250e+02, -2.500000e+02, -1.923750e+02,\n",
       "       -1.440000e+02, -1.041250e+02, -7.200000e+01, -4.687500e+01,\n",
       "       -2.800000e+01, -1.462500e+01, -6.000000e+00, -1.375000e+00,\n",
       "       -0.000000e+00, -1.125000e+00, -4.000000e+00, -7.875000e+00,\n",
       "       -1.200000e+01, -1.562500e+01, -1.800000e+01, -1.837500e+01,\n",
       "       -1.600000e+01, -1.012500e+01,  0.000000e+00,  1.512500e+01,\n",
       "        3.600000e+01,  6.337500e+01,  9.800000e+01,  1.406250e+02,\n",
       "        1.920000e+02,  2.528750e+02,  3.240000e+02,  4.061250e+02,\n",
       "        5.000000e+02,  6.063750e+02,  7.260000e+02,  8.596250e+02,\n",
       "        1.008000e+03,  1.171875e+03,  1.352000e+03,  1.549125e+03,\n",
       "        1.764000e+03,  1.997375e+03,  2.250000e+03,  2.522625e+03,\n",
       "        2.816000e+03,  3.130875e+03,  3.468000e+03,  3.828125e+03,\n",
       "        4.212000e+03,  4.620375e+03,  5.054000e+03,  5.513625e+03,\n",
       "        6.000000e+03,  6.513875e+03,  7.056000e+03,  7.627125e+03])"
      ]
     },
     "execution_count": 6,
     "metadata": {},
     "output_type": "execute_result"
    }
   ],
   "source": [
    "#use x to calculate for y; resulting y will be an array \n",
    "y = ((x+2)**2)*(x-3)\n",
    "y"
   ]
  },
  {
   "cell_type": "code",
   "execution_count": 8,
   "metadata": {},
   "outputs": [
    {
     "data": {
      "text/plain": [
       "Text(0, 0.5, 'y values')"
      ]
     },
     "execution_count": 8,
     "metadata": {},
     "output_type": "execute_result"
    },
    {
     "data": {
      "image/png": "[encoded data removed]",
      "text/plain": [
       "<Figure size 432x288 with 1 Axes>"
      ]
     },
     "metadata": {
      "needs_background": "light"
     },
     "output_type": "display_data"
    }
   ],
   "source": [
    "plt.plot(x,y)\n",
    "plt.xlabel(\"X values\")\n",
    "plt.ylabel(\"y values\")"
   ]
  },
  {
   "cell_type": "markdown",
   "metadata": {},
   "source": [
    "2-D Arrays"
   ]
  },
  {
   "cell_type": "code",
   "execution_count": 9,
   "metadata": {},
   "outputs": [],
   "source": [
    "array1 = np.ones([10,10])"
   ]
  },
  {
   "cell_type": "code",
   "execution_count": 10,
   "metadata": {},
   "outputs": [
    {
     "data": {
      "text/plain": [
       "array([[1., 1., 1., 1., 1., 1., 1., 1., 1., 1.],\n",
       "       [1., 1., 1., 1., 1., 1., 1., 1., 1., 1.],\n",
       "       [1., 1., 1., 1., 1., 1., 1., 1., 1., 1.],\n",
       "       [1., 1., 1., 1., 1., 1., 1., 1., 1., 1.],\n",
       "       [1., 1., 1., 1., 1., 1., 1., 1., 1., 1.],\n",
       "       [1., 1., 1., 1., 1., 1., 1., 1., 1., 1.],\n",
       "       [1., 1., 1., 1., 1., 1., 1., 1., 1., 1.],\n",
       "       [1., 1., 1., 1., 1., 1., 1., 1., 1., 1.],\n",
       "       [1., 1., 1., 1., 1., 1., 1., 1., 1., 1.],\n",
       "       [1., 1., 1., 1., 1., 1., 1., 1., 1., 1.]])"
      ]
     },
     "execution_count": 10,
     "metadata": {},
     "output_type": "execute_result"
    }
   ],
   "source": [
    "array1"
   ]
  },
  {
   "cell_type": "code",
   "execution_count": 13,
   "metadata": {},
   "outputs": [],
   "source": [
    "#indexing 2-D arrays \n",
    "\n",
    "#selects subarray from row 0 to 3, and from col 0 to 5\n",
    "array1[0:4,0:6] = 3"
   ]
  },
  {
   "cell_type": "code",
   "execution_count": 15,
   "metadata": {},
   "outputs": [
    {
     "data": {
      "text/plain": [
       "array([[3., 3., 3., 3., 3., 3., 1., 1., 1., 1.],\n",
       "       [3., 3., 3., 3., 3., 3., 1., 1., 1., 1.],\n",
       "       [3., 3., 3., 3., 3., 3., 1., 1., 1., 1.],\n",
       "       [3., 3., 3., 3., 3., 3., 1., 1., 1., 1.],\n",
       "       [1., 1., 1., 1., 1., 1., 1., 1., 1., 1.],\n",
       "       [1., 1., 1., 1., 1., 1., 1., 1., 1., 1.],\n",
       "       [1., 1., 1., 1., 1., 1., 1., 1., 1., 1.],\n",
       "       [1., 1., 1., 1., 1., 1., 1., 1., 1., 1.],\n",
       "       [1., 1., 1., 1., 1., 1., 1., 1., 1., 1.],\n",
       "       [1., 1., 1., 1., 1., 1., 1., 1., 1., 1.]])"
      ]
     },
     "execution_count": 15,
     "metadata": {},
     "output_type": "execute_result"
    }
   ],
   "source": [
    "array1"
   ]
  },
  {
   "cell_type": "code",
   "execution_count": 22,
   "metadata": {},
   "outputs": [],
   "source": [
    "#didn't work?\n",
    "\n",
    "array1[-1:-6,-2:-4]=8"
   ]
  },
  {
   "cell_type": "code",
   "execution_count": 23,
   "metadata": {},
   "outputs": [
    {
     "data": {
      "text/plain": [
       "array([[3., 3., 3., 3., 3., 3., 1., 1., 1., 1.],\n",
       "       [3., 3., 3., 3., 3., 3., 1., 1., 1., 1.],\n",
       "       [3., 3., 3., 3., 3., 3., 1., 1., 1., 1.],\n",
       "       [3., 3., 3., 3., 3., 3., 1., 1., 1., 1.],\n",
       "       [1., 1., 1., 1., 1., 1., 1., 1., 1., 1.],\n",
       "       [1., 1., 1., 1., 1., 1., 1., 1., 1., 1.],\n",
       "       [1., 1., 1., 1., 1., 1., 1., 1., 1., 1.],\n",
       "       [1., 1., 1., 1., 1., 1., 1., 1., 1., 1.],\n",
       "       [1., 1., 1., 1., 1., 1., 1., 1., 1., 1.],\n",
       "       [1., 1., 1., 1., 1., 1., 1., 1., 1., 1.]])"
      ]
     },
     "execution_count": 23,
     "metadata": {},
     "output_type": "execute_result"
    }
   ],
   "source": [
    "array1"
   ]
  },
  {
   "cell_type": "code",
   "execution_count": 24,
   "metadata": {},
   "outputs": [],
   "source": [
    "array1[5:11,6:10]=8"
   ]
  },
  {
   "cell_type": "code",
   "execution_count": 25,
   "metadata": {},
   "outputs": [
    {
     "data": {
      "text/plain": [
       "array([[3., 3., 3., 3., 3., 3., 1., 1., 1., 1.],\n",
       "       [3., 3., 3., 3., 3., 3., 1., 1., 1., 1.],\n",
       "       [3., 3., 3., 3., 3., 3., 1., 1., 1., 1.],\n",
       "       [3., 3., 3., 3., 3., 3., 1., 1., 1., 1.],\n",
       "       [1., 1., 1., 1., 1., 1., 1., 1., 1., 1.],\n",
       "       [1., 1., 1., 1., 1., 1., 8., 8., 8., 8.],\n",
       "       [1., 1., 1., 1., 1., 1., 8., 8., 8., 8.],\n",
       "       [1., 1., 1., 1., 1., 1., 8., 8., 8., 8.],\n",
       "       [1., 1., 1., 1., 1., 1., 8., 8., 8., 8.],\n",
       "       [1., 1., 1., 1., 1., 1., 8., 8., 8., 8.]])"
      ]
     },
     "execution_count": 25,
     "metadata": {},
     "output_type": "execute_result"
    }
   ],
   "source": [
    "array1"
   ]
  },
  {
   "cell_type": "code",
   "execution_count": 26,
   "metadata": {},
   "outputs": [],
   "source": [
    "#select a single element \n",
    "array1[6,3]=10"
   ]
  },
  {
   "cell_type": "code",
   "execution_count": 27,
   "metadata": {},
   "outputs": [
    {
     "data": {
      "text/plain": [
       "array([[ 3.,  3.,  3.,  3.,  3.,  3.,  1.,  1.,  1.,  1.],\n",
       "       [ 3.,  3.,  3.,  3.,  3.,  3.,  1.,  1.,  1.,  1.],\n",
       "       [ 3.,  3.,  3.,  3.,  3.,  3.,  1.,  1.,  1.,  1.],\n",
       "       [ 3.,  3.,  3.,  3.,  3.,  3.,  1.,  1.,  1.,  1.],\n",
       "       [ 1.,  1.,  1.,  1.,  1.,  1.,  1.,  1.,  1.,  1.],\n",
       "       [ 1.,  1.,  1.,  1.,  1.,  1.,  8.,  8.,  8.,  8.],\n",
       "       [ 1.,  1.,  1., 10.,  1.,  1.,  8.,  8.,  8.,  8.],\n",
       "       [ 1.,  1.,  1.,  1.,  1.,  1.,  8.,  8.,  8.,  8.],\n",
       "       [ 1.,  1.,  1.,  1.,  1.,  1.,  8.,  8.,  8.,  8.],\n",
       "       [ 1.,  1.,  1.,  1.,  1.,  1.,  8.,  8.,  8.,  8.]])"
      ]
     },
     "execution_count": 27,
     "metadata": {},
     "output_type": "execute_result"
    }
   ],
   "source": [
    "array1"
   ]
  },
  {
   "cell_type": "code",
   "execution_count": 29,
   "metadata": {},
   "outputs": [],
   "source": [
    "#selects for where array1 is greater than 1 and multiplies by 20\n",
    "array2 = array1[array1>1]*20"
   ]
  },
  {
   "cell_type": "code",
   "execution_count": 30,
   "metadata": {},
   "outputs": [
    {
     "data": {
      "text/plain": [
       "array([ 60.,  60.,  60.,  60.,  60.,  60.,  60.,  60.,  60.,  60.,  60.,\n",
       "        60.,  60.,  60.,  60.,  60.,  60.,  60.,  60.,  60.,  60.,  60.,\n",
       "        60.,  60., 160., 160., 160., 160., 200., 160., 160., 160., 160.,\n",
       "       160., 160., 160., 160., 160., 160., 160., 160., 160., 160., 160.,\n",
       "       160.])"
      ]
     },
     "execution_count": 30,
     "metadata": {},
     "output_type": "execute_result"
    }
   ],
   "source": [
    "#converts it into a flattened list \n",
    "array2"
   ]
  },
  {
   "cell_type": "code",
   "execution_count": 34,
   "metadata": {},
   "outputs": [],
   "source": [
    "array3 = array1[array1>1]"
   ]
  },
  {
   "cell_type": "code",
   "execution_count": 35,
   "metadata": {},
   "outputs": [
    {
     "data": {
      "text/plain": [
       "array([ 3.,  3.,  3.,  3.,  3.,  3.,  3.,  3.,  3.,  3.,  3.,  3.,  3.,\n",
       "        3.,  3.,  3.,  3.,  3.,  3.,  3.,  3.,  3.,  3.,  3.,  8.,  8.,\n",
       "        8.,  8., 10.,  8.,  8.,  8.,  8.,  8.,  8.,  8.,  8.,  8.,  8.,\n",
       "        8.,  8.,  8.,  8.,  8.,  8.])"
      ]
     },
     "execution_count": 35,
     "metadata": {},
     "output_type": "execute_result"
    }
   ],
   "source": [
    "array3"
   ]
  },
  {
   "cell_type": "code",
   "execution_count": null,
   "metadata": {},
   "outputs": [],
   "source": []
  }
 ],
 "metadata": {
  "kernelspec": {
   "display_name": "Python 3",
   "language": "python",
   "name": "python3"
  },
  "language_info": {
   "codemirror_mode": {
    "name": "ipython",
    "version": 3
   },
   "file_extension": ".py",
   "mimetype": "text/x-python",
   "name": "python",
   "nbconvert_exporter": "python",
   "pygments_lexer": "ipython3",
   "version": "3.8.5"
  }
 },
 "nbformat": 4,
 "nbformat_minor": 4
}
