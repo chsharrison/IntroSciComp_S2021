{
 "cells": [
  {
   "cell_type": "markdown",
   "metadata": {},
   "source": [
    "Name: Paola Granados"
   ]
  },
  {
   "cell_type": "markdown",
   "metadata": {},
   "source": [
    "Labpartner(s): Destiny Martinez "
   ]
  },
  {
   "cell_type": "code",
   "execution_count": 42,
   "metadata": {},
   "outputs": [],
   "source": [
    "#import statements go here\n",
    "import numpy as np \n",
    "import pandas as pd\n",
    "import matplotlib.pyplot as plt"
   ]
  },
  {
   "cell_type": "markdown",
   "metadata": {},
   "source": [
    "# Class 7.1"
   ]
  },
  {
   "cell_type": "markdown",
   "metadata": {},
   "source": [
    "Hope everyone is recovering from the freeze. Being in survival mode is stressful! I am going to attemt to be easy on you this week. As announced, there are no labs assigned last week, we are just taking a pass on those. I may have to shuffle some of the later material in the schedule, TBD.\n",
    "\n",
    "I am having special office hours tomorrow, Tuesday 2-3 on the class zoom channel. I am asking those of you who are behind on any labs to check in with me and make a plan. If you can't make that time, let's schedule another one ASAP. Please note that you cannot miss these early labs and pass the class, and the material builds, so it is critical we get you caught up.\n"
   ]
  },
  {
   "cell_type": "markdown",
   "metadata": {},
   "source": [
    "This week we are going to do more plotting, learn about functions, and apply this to your datasets. Next Monday we will have present your work day again, see below for details. Hopefully at this point the material is building to the point where it is not all forein and you will feel a bit more confident.\n",
    "\n",
    "Originally we had introduction of Zotero and a CV assignment on the schedule for this week, but I'm pushing that until next week so we have less new material to deal with this week."
   ]
  },
  {
   "cell_type": "markdown",
   "metadata": {},
   "source": [
    "# Warmups 7.1"
   ]
  },
  {
   "cell_type": "markdown",
   "metadata": {},
   "source": [
    "**W.1** Go through 1.4.1.5 Indexing and Slicking in the scipy lecture notes, up to the exercises, which you will do on Wednesday. http://scipy-lectures.org/intro/numpy/array_object.html#id2"
   ]
  },
  {
   "cell_type": "code",
   "execution_count": 2,
   "metadata": {},
   "outputs": [
    {
     "data": {
      "text/plain": [
       "array([0, 1, 2, 3, 4, 5, 6, 7, 8, 9])"
      ]
     },
     "execution_count": 2,
     "metadata": {},
     "output_type": "execute_result"
    }
   ],
   "source": [
    "#create an array \n",
    "a = np.arange(10)\n",
    "a"
   ]
  },
  {
   "cell_type": "code",
   "execution_count": 4,
   "metadata": {},
   "outputs": [
    {
     "data": {
      "text/plain": [
       "array([9, 8, 7, 6, 5, 4, 3, 2, 1, 0])"
      ]
     },
     "execution_count": 4,
     "metadata": {},
     "output_type": "execute_result"
    }
   ],
   "source": [
    "#reversing a sequence \n",
    "a[::-1]"
   ]
  },
  {
   "cell_type": "code",
   "execution_count": 6,
   "metadata": {},
   "outputs": [
    {
     "data": {
      "text/plain": [
       "array([[0, 0, 0],\n",
       "       [0, 1, 0],\n",
       "       [0, 0, 2]])"
      ]
     },
     "execution_count": 6,
     "metadata": {},
     "output_type": "execute_result"
    }
   ],
   "source": [
    "#2_D array; diag fills out the digonal inside array with sepcified range \n",
    "b = np.diag(np.arange(3))\n",
    "b"
   ]
  },
  {
   "cell_type": "code",
   "execution_count": 7,
   "metadata": {},
   "outputs": [
    {
     "data": {
      "text/plain": [
       "array([[ 0,  0,  0],\n",
       "       [ 0,  1,  0],\n",
       "       [ 0, 10,  2]])"
      ]
     },
     "execution_count": 7,
     "metadata": {},
     "output_type": "execute_result"
    }
   ],
   "source": [
    "#indexing \n",
    "b[2,1]=10 #set number in third row, second column equal to 10\n",
    "b"
   ]
  },
  {
   "cell_type": "code",
   "execution_count": 9,
   "metadata": {},
   "outputs": [
    {
     "data": {
      "text/plain": [
       "array([0, 1, 0])"
      ]
     },
     "execution_count": 9,
     "metadata": {},
     "output_type": "execute_result"
    }
   ],
   "source": [
    "b[1] #index for the second row "
   ]
  },
  {
   "cell_type": "code",
   "execution_count": 10,
   "metadata": {},
   "outputs": [
    {
     "data": {
      "text/plain": [
       "array([2, 5, 8])"
      ]
     },
     "execution_count": 10,
     "metadata": {},
     "output_type": "execute_result"
    }
   ],
   "source": [
    "#slicing \n",
    "a[2:9:3]#start:end:step"
   ]
  },
  {
   "cell_type": "code",
   "execution_count": 11,
   "metadata": {},
   "outputs": [
    {
     "data": {
      "text/plain": [
       "array([0, 1, 2, 3])"
      ]
     },
     "execution_count": 11,
     "metadata": {},
     "output_type": "execute_result"
    }
   ],
   "source": [
    "#slicing \n",
    "a[:4]#select up to element 4"
   ]
  },
  {
   "cell_type": "code",
   "execution_count": 12,
   "metadata": {},
   "outputs": [
    {
     "data": {
      "text/plain": [
       "array([1, 2])"
      ]
     },
     "execution_count": 12,
     "metadata": {},
     "output_type": "execute_result"
    }
   ],
   "source": [
    "a[1:3]"
   ]
  },
  {
   "cell_type": "code",
   "execution_count": 13,
   "metadata": {},
   "outputs": [
    {
     "data": {
      "text/plain": [
       "array([0, 2, 4, 6, 8])"
      ]
     },
     "execution_count": 13,
     "metadata": {},
     "output_type": "execute_result"
    }
   ],
   "source": [
    "a[::2]#step of 2? starts with 0"
   ]
  },
  {
   "cell_type": "code",
   "execution_count": 14,
   "metadata": {},
   "outputs": [
    {
     "data": {
      "text/plain": [
       "array([3, 4, 5, 6, 7, 8, 9])"
      ]
     },
     "execution_count": 14,
     "metadata": {},
     "output_type": "execute_result"
    }
   ],
   "source": [
    "a[3:]"
   ]
  },
  {
   "cell_type": "code",
   "execution_count": 15,
   "metadata": {},
   "outputs": [
    {
     "data": {
      "text/plain": [
       "array([ 0,  1,  2,  3,  4, 10, 10, 10, 10, 10])"
      ]
     },
     "execution_count": 15,
     "metadata": {},
     "output_type": "execute_result"
    }
   ],
   "source": [
    "#combining and assignment \n",
    "a[5:]=10\n",
    "a"
   ]
  },
  {
   "cell_type": "code",
   "execution_count": null,
   "metadata": {},
   "outputs": [],
   "source": []
  },
  {
   "cell_type": "markdown",
   "metadata": {},
   "source": [
    "# Lecture 7.1\n",
    "\n",
    "### Agenda:\n",
    "\n",
    "- The Parable Of Finding Nemo, or How To Do The Seemingly Impossible\n",
    "- Questions\n",
    "- Functions!\n"
   ]
  },
  {
   "cell_type": "markdown",
   "metadata": {},
   "source": [
    "### Questions"
   ]
  },
  {
   "cell_type": "code",
   "execution_count": null,
   "metadata": {},
   "outputs": [],
   "source": []
  },
  {
   "cell_type": "code",
   "execution_count": null,
   "metadata": {},
   "outputs": [],
   "source": []
  },
  {
   "cell_type": "markdown",
   "metadata": {},
   "source": [
    "### Functions\n",
    "\n",
    "Functions are super-useful for doing repetative tasks. You have been using pre-defined functions constantly, when you define arrays, make a plot, or analyse data. Now you are going to learn to write your own.\n",
    "\n",
    "For more information on functions and documenting:\n",
    "- http://scipy-lectures.org/intro/language/functions.html?highlight=functions\n",
    "- https://realpython.com/documenting-python-code/\n",
    "\n",
    "\n",
    "Basic syntax:"
   ]
  },
  {
   "cell_type": "code",
   "execution_count": 16,
   "metadata": {},
   "outputs": [],
   "source": [
    "# first you define the function\n",
    "\n",
    "def function_name():\n",
    "    # some code that does something\n",
    "    print('Inside the function')"
   ]
  },
  {
   "cell_type": "code",
   "execution_count": 17,
   "metadata": {},
   "outputs": [
    {
     "name": "stdout",
     "output_type": "stream",
     "text": [
      "Inside the function\n"
     ]
    }
   ],
   "source": [
    "# then you call the function\n",
    "function_name()"
   ]
  },
  {
   "cell_type": "markdown",
   "metadata": {},
   "source": [
    "Note that defined funtions show up using whos"
   ]
  },
  {
   "cell_type": "code",
   "execution_count": 18,
   "metadata": {},
   "outputs": [
    {
     "name": "stdout",
     "output_type": "stream",
     "text": [
      "Variable        Type        Data/Info\n",
      "-------------------------------------\n",
      "a               ndarray     10: 10 elems, type `int32`, 40 bytes\n",
      "b               ndarray     3x3: 9 elems, type `int32`, 36 bytes\n",
      "function_name   function    <function function_name at 0x000001E72B094C10>\n",
      "np              module      <module 'numpy' from 'C:\\<...>ges\\\\numpy\\\\__init__.py'>\n",
      "pd              module      <module 'pandas' from 'C:<...>es\\\\pandas\\\\__init__.py'>\n",
      "plt             module      <module 'matplotlib' from<...>matplotlib\\\\__init__.py'>\n"
     ]
    }
   ],
   "source": [
    "whos"
   ]
  },
  {
   "cell_type": "markdown",
   "metadata": {},
   "source": [
    "That's a really useless function, let's make a better one."
   ]
  },
  {
   "cell_type": "code",
   "execution_count": 19,
   "metadata": {},
   "outputs": [],
   "source": [
    "# usually you want to pass a varible of some sort to the function to manipulate\n",
    "\n",
    "def circle_area(radius):\n",
    "    area = 3.14*radius**2\n",
    "    return area   # the return statement means that the function will return that variable"
   ]
  },
  {
   "cell_type": "code",
   "execution_count": 20,
   "metadata": {},
   "outputs": [
    {
     "data": {
      "text/plain": [
       "78.5"
      ]
     },
     "execution_count": 20,
     "metadata": {},
     "output_type": "execute_result"
    }
   ],
   "source": [
    "circle_area(5)"
   ]
  },
  {
   "cell_type": "markdown",
   "metadata": {},
   "source": [
    "What happens if I don't add the required input?"
   ]
  },
  {
   "cell_type": "code",
   "execution_count": 21,
   "metadata": {},
   "outputs": [
    {
     "ename": "TypeError",
     "evalue": "circle_area() missing 1 required positional argument: 'radius'",
     "output_type": "error",
     "traceback": [
      "\u001b[1;31m---------------------------------------------------------------------------\u001b[0m",
      "\u001b[1;31mTypeError\u001b[0m                                 Traceback (most recent call last)",
      "\u001b[1;32m<ipython-input-21-32072fe4474f>\u001b[0m in \u001b[0;36m<module>\u001b[1;34m\u001b[0m\n\u001b[1;32m----> 1\u001b[1;33m \u001b[0mcircle_area\u001b[0m\u001b[1;33m(\u001b[0m\u001b[1;33m)\u001b[0m\u001b[1;33m\u001b[0m\u001b[1;33m\u001b[0m\u001b[0m\n\u001b[0m",
      "\u001b[1;31mTypeError\u001b[0m: circle_area() missing 1 required positional argument: 'radius'"
     ]
    }
   ],
   "source": [
    "circle_area()"
   ]
  },
  {
   "cell_type": "markdown",
   "metadata": {},
   "source": [
    "What happens if I omit the return statement?"
   ]
  },
  {
   "cell_type": "code",
   "execution_count": 24,
   "metadata": {},
   "outputs": [],
   "source": [
    "def circle_area2(radius):\n",
    "    area = 3.14*radius**2"
   ]
  },
  {
   "cell_type": "code",
   "execution_count": 26,
   "metadata": {},
   "outputs": [],
   "source": [
    "circle_area2(5)\n",
    "#nothing is returned"
   ]
  },
  {
   "cell_type": "markdown",
   "metadata": {},
   "source": [
    "How do I save the function output to a variable?"
   ]
  },
  {
   "cell_type": "code",
   "execution_count": null,
   "metadata": {},
   "outputs": [],
   "source": []
  },
  {
   "cell_type": "markdown",
   "metadata": {},
   "source": [
    "Does the area variable inside the function exist outside of it?"
   ]
  },
  {
   "cell_type": "code",
   "execution_count": null,
   "metadata": {},
   "outputs": [],
   "source": []
  },
  {
   "cell_type": "markdown",
   "metadata": {},
   "source": [
    "Note I also could have made my function like this:"
   ]
  },
  {
   "cell_type": "code",
   "execution_count": null,
   "metadata": {},
   "outputs": [],
   "source": [
    "def circle_area4(radius):\n",
    "    return 3.14*radius**2"
   ]
  },
  {
   "cell_type": "code",
   "execution_count": null,
   "metadata": {},
   "outputs": [],
   "source": [
    "circle_area4(5)"
   ]
  },
  {
   "cell_type": "markdown",
   "metadata": {},
   "source": [
    "### Parsing for bad imput"
   ]
  },
  {
   "cell_type": "markdown",
   "metadata": {},
   "source": [
    "Note my above function will work even if the input is negative, which is not reasonable. So I probably want to include a statement that checks if the input is weird."
   ]
  },
  {
   "cell_type": "code",
   "execution_count": 31,
   "metadata": {},
   "outputs": [],
   "source": [
    "def circle_area5(radius):\n",
    "    if radius <= 0:\n",
    "        print(\"Error: Radius needs to be positive\")\n",
    "        return #exit the function \n",
    "    \n",
    "    return 3.14*radius**2"
   ]
  },
  {
   "cell_type": "code",
   "execution_count": 28,
   "metadata": {},
   "outputs": [
    {
     "name": "stdout",
     "output_type": "stream",
     "text": [
      "Error: Radius needs to be positive\n"
     ]
    }
   ],
   "source": [
    "circle_area5(-3)"
   ]
  },
  {
   "cell_type": "code",
   "execution_count": 29,
   "metadata": {},
   "outputs": [
    {
     "data": {
      "text/plain": [
       "28.26"
      ]
     },
     "execution_count": 29,
     "metadata": {},
     "output_type": "execute_result"
    }
   ],
   "source": [
    "circle_area5(3)"
   ]
  },
  {
   "cell_type": "markdown",
   "metadata": {},
   "source": [
    "### Using packages within functions"
   ]
  },
  {
   "cell_type": "markdown",
   "metadata": {},
   "source": [
    "We can also have import statements within a function, but this can slow the function down if the package is not loaded already"
   ]
  },
  {
   "cell_type": "code",
   "execution_count": 33,
   "metadata": {},
   "outputs": [],
   "source": [
    "def circle_area6(radius):\n",
    "    import numpy as np\n",
    "    if radius <= 0:\n",
    "        print(\"Error: Radius needs to be positive\")\n",
    "        return #exit the function \n",
    "    return np.pi*radius**2"
   ]
  },
  {
   "cell_type": "code",
   "execution_count": 34,
   "metadata": {},
   "outputs": [
    {
     "data": {
      "text/plain": [
       "28.274333882308138"
      ]
     },
     "execution_count": 34,
     "metadata": {},
     "output_type": "execute_result"
    }
   ],
   "source": [
    "circle_area6(3) # note this is a much more accurate"
   ]
  },
  {
   "cell_type": "markdown",
   "metadata": {},
   "source": [
    "We can have the function inputs have pre-defined default values, so that if you don't pass a variable it will use the default"
   ]
  },
  {
   "cell_type": "code",
   "execution_count": 35,
   "metadata": {},
   "outputs": [],
   "source": [
    "def circle_area7(radius = 3):\n",
    "    import numpy as np #import numpy so we can use the more exact value of pi\n",
    "    \n",
    "    return np.pi*radius**2"
   ]
  },
  {
   "cell_type": "code",
   "execution_count": 36,
   "metadata": {},
   "outputs": [
    {
     "data": {
      "text/plain": [
       "28.274333882308138"
      ]
     },
     "execution_count": 36,
     "metadata": {},
     "output_type": "execute_result"
    }
   ],
   "source": [
    "circle_area7() # no argument given, so uses radius = 3 by default"
   ]
  },
  {
   "cell_type": "markdown",
   "metadata": {},
   "source": [
    "Is numpy imported outside the function? Let's check"
   ]
  },
  {
   "cell_type": "code",
   "execution_count": 37,
   "metadata": {},
   "outputs": [
    {
     "name": "stdout",
     "output_type": "stream",
     "text": [
      "Variable        Type        Data/Info\n",
      "-------------------------------------\n",
      "a               ndarray     10: 10 elems, type `int32`, 40 bytes\n",
      "b               ndarray     3x3: 9 elems, type `int32`, 36 bytes\n",
      "circle_area     function    <function circle_area at 0x000001E72B094EE0>\n",
      "circle_area2    function    <function circle_area2 at 0x000001E72B0949D0>\n",
      "circle_area5    function    <function circle_area5 at 0x000001E72B094DC0>\n",
      "circle_area6    function    <function circle_area6 at 0x000001E72B094790>\n",
      "circle_area7    function    <function circle_area7 at 0x000001E72B094940>\n",
      "function_name   function    <function function_name at 0x000001E72B094C10>\n",
      "np              module      <module 'numpy' from 'C:\\<...>ges\\\\numpy\\\\__init__.py'>\n",
      "pd              module      <module 'pandas' from 'C:<...>es\\\\pandas\\\\__init__.py'>\n",
      "plt             module      <module 'matplotlib' from<...>matplotlib\\\\__init__.py'>\n"
     ]
    }
   ],
   "source": [
    "whos\n",
    "#numpy has not be imported outside "
   ]
  },
  {
   "cell_type": "code",
   "execution_count": null,
   "metadata": {},
   "outputs": [],
   "source": [
    "# can our function handle lists? Let's check\n",
    "r = [1,2,3]\n",
    "circle_area7(r)\n",
    "\n"
   ]
  },
  {
   "cell_type": "code",
   "execution_count": null,
   "metadata": {},
   "outputs": [],
   "source": [
    "# can our function handle arrays?\n",
    "\n",
    "rnp = np.array(r)\n",
    "circle_area7(rnp)\n",
    "\n",
    "# what type of variable did the function return?"
   ]
  },
  {
   "cell_type": "markdown",
   "metadata": {},
   "source": [
    "### It is very useful to add some documentation string info to your functions"
   ]
  },
  {
   "cell_type": "code",
   "execution_count": null,
   "metadata": {},
   "outputs": [],
   "source": [
    "def circle_area7(radius = 3):\n",
    "    \"\"\" Returns the area of a circle given the radius. \n",
    "    Assumes the radius is 3 if not supplied. \"\"\"\n",
    "    import numpy as np\n",
    "    \n",
    "    return np.pi*radius**2"
   ]
  },
  {
   "cell_type": "markdown",
   "metadata": {},
   "source": [
    "Now my note in the triple quotes shows up as a docstring"
   ]
  },
  {
   "cell_type": "code",
   "execution_count": null,
   "metadata": {},
   "outputs": [],
   "source": [
    "circle_area7?"
   ]
  },
  {
   "cell_type": "markdown",
   "metadata": {},
   "source": [
    "There is a standard practice in programming to write out the Parameters (inputs/arguments) and Returns (output) in the docstring. Let's look a this for a predefined function and then make if for our simple function."
   ]
  },
  {
   "cell_type": "code",
   "execution_count": null,
   "metadata": {},
   "outputs": [],
   "source": []
  },
  {
   "cell_type": "code",
   "execution_count": null,
   "metadata": {},
   "outputs": [],
   "source": [
    "import numpy as np"
   ]
  },
  {
   "cell_type": "code",
   "execution_count": null,
   "metadata": {},
   "outputs": [],
   "source": [
    "np.max?"
   ]
  },
  {
   "cell_type": "code",
   "execution_count": 38,
   "metadata": {},
   "outputs": [],
   "source": [
    "def circle_area7(radius = 3):\n",
    "    \"\"\" Returns the area of a circle given the radius. \n",
    "    \n",
    "    Parameters\n",
    "    ----------\n",
    "    radus: array like, radius of the circle\n",
    "    Assumes the radius is 3 if not supplied.\n",
    "    \n",
    "    Returns\n",
    "    -------\n",
    "    area: ndarray or scalar\n",
    "    Returns the area for the given radii\n",
    "    \n",
    "    \"\"\"\n",
    "    \n",
    "    import numpy as np\n",
    "    \n",
    "    return np.pi*radius**2"
   ]
  },
  {
   "cell_type": "code",
   "execution_count": 39,
   "metadata": {},
   "outputs": [],
   "source": [
    "circle_area7?"
   ]
  },
  {
   "cell_type": "code",
   "execution_count": null,
   "metadata": {},
   "outputs": [],
   "source": []
  },
  {
   "cell_type": "markdown",
   "metadata": {},
   "source": [
    "# Lab 7.1"
   ]
  },
  {
   "cell_type": "markdown",
   "metadata": {},
   "source": [
    "**E.1** Complete Introduction to Data Visualization with Matplotlib Chapters 1-2\n"
   ]
  },
  {
   "cell_type": "code",
   "execution_count": null,
   "metadata": {},
   "outputs": [],
   "source": []
  },
  {
   "cell_type": "markdown",
   "metadata": {},
   "source": [
    "**E.2** Make notes for yourself on progamming tecniques and commands you learned in the datacamp chapter above, including examples, comments and explainitory text. You can do this here or in a separate notebook that you link to here. Basically, you are making a cheat sheet for yourself."
   ]
  },
  {
   "cell_type": "code",
   "execution_count": 43,
   "metadata": {},
   "outputs": [
    {
     "data": {
      "image/png": "[encoded data removed]",
      "text/plain": [
       "<Figure size 432x288 with 6 Axes>"
      ]
     },
     "metadata": {
      "needs_background": "light"
     },
     "output_type": "display_data"
    }
   ],
   "source": [
    "#making subplots\n",
    "fig, ax = plt.subplots(3,2)"
   ]
  },
  {
   "cell_type": "code",
   "execution_count": null,
   "metadata": {},
   "outputs": [],
   "source": [
    "#import data , index dates\n",
    "# c = pd.read_csv(\"filename\",parse_dates = [\"dates column\"],index_col = \"dates column\")"
   ]
  },
  {
   "cell_type": "code",
   "execution_count": null,
   "metadata": {},
   "outputs": [],
   "source": [
    "#can index by dates \n",
    "#seventies = climate_change[\"1970-01-01\":\"1979-12-31\"]\n",
    "\n",
    "#seventies.index -> will get you the x axis/dates information"
   ]
  },
  {
   "cell_type": "code",
   "execution_count": null,
   "metadata": {},
   "outputs": [],
   "source": [
    "#to use shared y axis on a graph you can use twinx (twin Axes)\n",
    "\n",
    "#fig, ax = plt.subplots\n",
    "#plot-timeseries(ax,data.index,data[\"y1\"])\n",
    "\n",
    "#ax2 = ax.twinx()\n",
    "\n",
    "#plot_timeseries(ax, data.index, data[\"y2\"])"
   ]
  },
  {
   "cell_type": "code",
   "execution_count": null,
   "metadata": {},
   "outputs": [],
   "source": [
    "#annotating \n",
    "\n",
    "#ax.annotate(\">1 degree\", xy =[pd.Timestamp(\"2015-10-06\"),1])"
   ]
  },
  {
   "cell_type": "code",
   "execution_count": null,
   "metadata": {},
   "outputs": [],
   "source": []
  },
  {
   "cell_type": "code",
   "execution_count": null,
   "metadata": {},
   "outputs": [],
   "source": []
  },
  {
   "cell_type": "markdown",
   "metadata": {},
   "source": [
    "### This week's project:\n",
    "\n",
    "For Monday's class you will write two functions that work on your dataset (you can use the same dataset or a different one). The first function will do some sort of analysis, manipulation or calculation, the second will be a plotting function. The idea here is that if you had another datafile that was similar, you could use the function to do the operation again easily."
   ]
  },
  {
   "cell_type": "markdown",
   "metadata": {},
   "source": [
    "**E.3** Write one or more functions that manipulate your dataset and do some sort of analysis. You will present these to the class on Monday."
   ]
  },
  {
   "cell_type": "code",
   "execution_count": 44,
   "metadata": {},
   "outputs": [],
   "source": [
    "#import data \n",
    "#importing data \n",
    "air_data = pd.read_csv(\"C:/Users/Pgran/Documents/Python Scripts/Untitled Folder/SARP_mysamples.csv\")"
   ]
  },
  {
   "cell_type": "code",
   "execution_count": 45,
   "metadata": {},
   "outputs": [
    {
     "data": {
      "text/html": [
       "<div>\n",
       "<style scoped>\n",
       "    .dataframe tbody tr th:only-of-type {\n",
       "        vertical-align: middle;\n",
       "    }\n",
       "\n",
       "    .dataframe tbody tr th {\n",
       "        vertical-align: top;\n",
       "    }\n",
       "\n",
       "    .dataframe thead th {\n",
       "        text-align: right;\n",
       "    }\n",
       "</style>\n",
       "<table border=\"1\" class=\"dataframe\">\n",
       "  <thead>\n",
       "    <tr style=\"text-align: right;\">\n",
       "      <th></th>\n",
       "      <th>Can #</th>\n",
       "      <th>Snake can #</th>\n",
       "      <th>Location</th>\n",
       "      <th>State</th>\n",
       "      <th>Box</th>\n",
       "      <th>Date</th>\n",
       "      <th>Time</th>\n",
       "      <th>Altitude (m)</th>\n",
       "      <th>Temp. Celsius</th>\n",
       "      <th>Wind Spd (mph)</th>\n",
       "      <th>...</th>\n",
       "      <th>3-Ethyltoluene (MS)</th>\n",
       "      <th>4-Ethyltoluene (MS)</th>\n",
       "      <th>2-Ethyltoluene (MS)</th>\n",
       "      <th>1,3,5-Trimethylbenzene (MS)</th>\n",
       "      <th>1,2,4-Trimethylbenzene (MS)</th>\n",
       "      <th>alpha-Pinene (B/MS)</th>\n",
       "      <th>beta-Pinene (B/MS)</th>\n",
       "      <th>Unnamed: 113</th>\n",
       "      <th>Box.1</th>\n",
       "      <th>CH4 (ppmv height).1</th>\n",
       "    </tr>\n",
       "  </thead>\n",
       "  <tbody>\n",
       "    <tr>\n",
       "      <th>0</th>\n",
       "      <td>8148</td>\n",
       "      <td>4601</td>\n",
       "      <td>Santa Ana National Wildlife Refuge, Alamo, Texas</td>\n",
       "      <td>Texas</td>\n",
       "      <td>46</td>\n",
       "      <td>4/21/2020</td>\n",
       "      <td>9:26</td>\n",
       "      <td>27</td>\n",
       "      <td>27</td>\n",
       "      <td>10</td>\n",
       "      <td>...</td>\n",
       "      <td>-888</td>\n",
       "      <td>-888</td>\n",
       "      <td>-888</td>\n",
       "      <td>-888</td>\n",
       "      <td>-888</td>\n",
       "      <td>20</td>\n",
       "      <td>6</td>\n",
       "      <td>NaN</td>\n",
       "      <td>46.0</td>\n",
       "      <td>1.898</td>\n",
       "    </tr>\n",
       "    <tr>\n",
       "      <th>1</th>\n",
       "      <td>7208</td>\n",
       "      <td>4616</td>\n",
       "      <td>Alton, Texas</td>\n",
       "      <td>Texas</td>\n",
       "      <td>46</td>\n",
       "      <td>4/21/2020</td>\n",
       "      <td>16:07</td>\n",
       "      <td>49</td>\n",
       "      <td>31</td>\n",
       "      <td>16</td>\n",
       "      <td>...</td>\n",
       "      <td>-888</td>\n",
       "      <td>-888</td>\n",
       "      <td>-888</td>\n",
       "      <td>-888</td>\n",
       "      <td>-888</td>\n",
       "      <td>5</td>\n",
       "      <td>-888</td>\n",
       "      <td>NaN</td>\n",
       "      <td>46.0</td>\n",
       "      <td>1.943</td>\n",
       "    </tr>\n",
       "    <tr>\n",
       "      <th>2</th>\n",
       "      <td>6232</td>\n",
       "      <td>4617</td>\n",
       "      <td>Santa Ana National Wildlife Refuge, Alamo, Texas</td>\n",
       "      <td>Texas</td>\n",
       "      <td>46</td>\n",
       "      <td>4/25/2020</td>\n",
       "      <td>9:26</td>\n",
       "      <td>27</td>\n",
       "      <td>27</td>\n",
       "      <td>11</td>\n",
       "      <td>...</td>\n",
       "      <td>22</td>\n",
       "      <td>27</td>\n",
       "      <td>24</td>\n",
       "      <td>22</td>\n",
       "      <td>23</td>\n",
       "      <td>11</td>\n",
       "      <td>22</td>\n",
       "      <td>NaN</td>\n",
       "      <td>46.0</td>\n",
       "      <td>1.933</td>\n",
       "    </tr>\n",
       "    <tr>\n",
       "      <th>3</th>\n",
       "      <td>8128</td>\n",
       "      <td>4602</td>\n",
       "      <td>Alton, Texas</td>\n",
       "      <td>Texas</td>\n",
       "      <td>46</td>\n",
       "      <td>4/25/2020</td>\n",
       "      <td>14:45</td>\n",
       "      <td>55</td>\n",
       "      <td>32</td>\n",
       "      <td>11</td>\n",
       "      <td>...</td>\n",
       "      <td>-888</td>\n",
       "      <td>-888</td>\n",
       "      <td>-888</td>\n",
       "      <td>-888</td>\n",
       "      <td>3</td>\n",
       "      <td>8</td>\n",
       "      <td>-888</td>\n",
       "      <td>NaN</td>\n",
       "      <td>46.0</td>\n",
       "      <td>1.930</td>\n",
       "    </tr>\n",
       "    <tr>\n",
       "      <th>4</th>\n",
       "      <td>7143</td>\n",
       "      <td>4615</td>\n",
       "      <td>Santa Ana National Wildlife Refuge, Alamo, Texas</td>\n",
       "      <td>Texas</td>\n",
       "      <td>46</td>\n",
       "      <td>4/27/2020</td>\n",
       "      <td>9:08</td>\n",
       "      <td>27</td>\n",
       "      <td>25</td>\n",
       "      <td>12</td>\n",
       "      <td>...</td>\n",
       "      <td>-888</td>\n",
       "      <td>-888</td>\n",
       "      <td>-888</td>\n",
       "      <td>-888</td>\n",
       "      <td>-888</td>\n",
       "      <td>21</td>\n",
       "      <td>-888</td>\n",
       "      <td>NaN</td>\n",
       "      <td>46.0</td>\n",
       "      <td>1.987</td>\n",
       "    </tr>\n",
       "    <tr>\n",
       "      <th>5</th>\n",
       "      <td>6007</td>\n",
       "      <td>4618</td>\n",
       "      <td>Alton, Texas</td>\n",
       "      <td>Texas</td>\n",
       "      <td>46</td>\n",
       "      <td>4/27/2020</td>\n",
       "      <td>15:16</td>\n",
       "      <td>51</td>\n",
       "      <td>33</td>\n",
       "      <td>17</td>\n",
       "      <td>...</td>\n",
       "      <td>7</td>\n",
       "      <td>11</td>\n",
       "      <td>9</td>\n",
       "      <td>7</td>\n",
       "      <td>12</td>\n",
       "      <td>41</td>\n",
       "      <td>6</td>\n",
       "      <td>NaN</td>\n",
       "      <td>46.0</td>\n",
       "      <td>1.937</td>\n",
       "    </tr>\n",
       "    <tr>\n",
       "      <th>6</th>\n",
       "      <td>8026</td>\n",
       "      <td>4603</td>\n",
       "      <td>Santa Ana National Wildlife Refuge, Alamo, Texas</td>\n",
       "      <td>Texas</td>\n",
       "      <td>46</td>\n",
       "      <td>4/30/2020</td>\n",
       "      <td>9:27</td>\n",
       "      <td>27</td>\n",
       "      <td>26</td>\n",
       "      <td>2</td>\n",
       "      <td>...</td>\n",
       "      <td>-888</td>\n",
       "      <td>-888</td>\n",
       "      <td>-888</td>\n",
       "      <td>-888</td>\n",
       "      <td>-888</td>\n",
       "      <td>6</td>\n",
       "      <td>9</td>\n",
       "      <td>NaN</td>\n",
       "      <td>46.0</td>\n",
       "      <td>1.946</td>\n",
       "    </tr>\n",
       "    <tr>\n",
       "      <th>7</th>\n",
       "      <td>7172</td>\n",
       "      <td>4614</td>\n",
       "      <td>Alton, Texas</td>\n",
       "      <td>Texas</td>\n",
       "      <td>46</td>\n",
       "      <td>4/30/2020</td>\n",
       "      <td>15:26</td>\n",
       "      <td>51</td>\n",
       "      <td>33</td>\n",
       "      <td>7</td>\n",
       "      <td>...</td>\n",
       "      <td>-888</td>\n",
       "      <td>-888</td>\n",
       "      <td>-888</td>\n",
       "      <td>-888</td>\n",
       "      <td>-888</td>\n",
       "      <td>3</td>\n",
       "      <td>-888</td>\n",
       "      <td>NaN</td>\n",
       "      <td>46.0</td>\n",
       "      <td>1.954</td>\n",
       "    </tr>\n",
       "    <tr>\n",
       "      <th>8</th>\n",
       "      <td>6608</td>\n",
       "      <td>4619</td>\n",
       "      <td>Santa Ana National Wildlife Refuge, Alamo, Texas</td>\n",
       "      <td>Texas</td>\n",
       "      <td>46</td>\n",
       "      <td>5/3/2020</td>\n",
       "      <td>9:23</td>\n",
       "      <td>27</td>\n",
       "      <td>27</td>\n",
       "      <td>13</td>\n",
       "      <td>...</td>\n",
       "      <td>3</td>\n",
       "      <td>-888</td>\n",
       "      <td>-888</td>\n",
       "      <td>-888</td>\n",
       "      <td>4</td>\n",
       "      <td>17</td>\n",
       "      <td>6</td>\n",
       "      <td>NaN</td>\n",
       "      <td>46.0</td>\n",
       "      <td>1.917</td>\n",
       "    </tr>\n",
       "    <tr>\n",
       "      <th>9</th>\n",
       "      <td>8072</td>\n",
       "      <td>4604</td>\n",
       "      <td>Alton, Texas</td>\n",
       "      <td>Texas</td>\n",
       "      <td>46</td>\n",
       "      <td>5/3/2020</td>\n",
       "      <td>15:24</td>\n",
       "      <td>51</td>\n",
       "      <td>36</td>\n",
       "      <td>16</td>\n",
       "      <td>...</td>\n",
       "      <td>9</td>\n",
       "      <td>6</td>\n",
       "      <td>5</td>\n",
       "      <td>5</td>\n",
       "      <td>15</td>\n",
       "      <td>5</td>\n",
       "      <td>-888</td>\n",
       "      <td>NaN</td>\n",
       "      <td>46.0</td>\n",
       "      <td>1.899</td>\n",
       "    </tr>\n",
       "    <tr>\n",
       "      <th>10</th>\n",
       "      <td>7140</td>\n",
       "      <td>4613</td>\n",
       "      <td>Santa Ana National Wildlife Refuge, Alamo, Texas</td>\n",
       "      <td>Texas</td>\n",
       "      <td>46</td>\n",
       "      <td>5/11/2020</td>\n",
       "      <td>9:17</td>\n",
       "      <td>27</td>\n",
       "      <td>26</td>\n",
       "      <td>8</td>\n",
       "      <td>...</td>\n",
       "      <td>-888</td>\n",
       "      <td>-888</td>\n",
       "      <td>-888</td>\n",
       "      <td>-888</td>\n",
       "      <td>4</td>\n",
       "      <td>21</td>\n",
       "      <td>5</td>\n",
       "      <td>NaN</td>\n",
       "      <td>46.0</td>\n",
       "      <td>1.932</td>\n",
       "    </tr>\n",
       "    <tr>\n",
       "      <th>11</th>\n",
       "      <td>6343</td>\n",
       "      <td>4620</td>\n",
       "      <td>Alton, Texas</td>\n",
       "      <td>Texas</td>\n",
       "      <td>46</td>\n",
       "      <td>5/11/2020</td>\n",
       "      <td>15:21</td>\n",
       "      <td>53</td>\n",
       "      <td>33</td>\n",
       "      <td>16</td>\n",
       "      <td>...</td>\n",
       "      <td>3</td>\n",
       "      <td>-888</td>\n",
       "      <td>-888</td>\n",
       "      <td>-888</td>\n",
       "      <td>6</td>\n",
       "      <td>12</td>\n",
       "      <td>8</td>\n",
       "      <td>NaN</td>\n",
       "      <td>46.0</td>\n",
       "      <td>1.899</td>\n",
       "    </tr>\n",
       "    <tr>\n",
       "      <th>12</th>\n",
       "      <td>8174</td>\n",
       "      <td>4605</td>\n",
       "      <td>Santa Ana National Wildlife Refuge, Alamo, Texas</td>\n",
       "      <td>Texas</td>\n",
       "      <td>46</td>\n",
       "      <td>5/15/2020</td>\n",
       "      <td>9:22</td>\n",
       "      <td>27</td>\n",
       "      <td>35</td>\n",
       "      <td>17</td>\n",
       "      <td>...</td>\n",
       "      <td>-888</td>\n",
       "      <td>-888</td>\n",
       "      <td>-888</td>\n",
       "      <td>-888</td>\n",
       "      <td>-888</td>\n",
       "      <td>13</td>\n",
       "      <td>12</td>\n",
       "      <td>NaN</td>\n",
       "      <td>46.0</td>\n",
       "      <td>1.880</td>\n",
       "    </tr>\n",
       "    <tr>\n",
       "      <th>13</th>\n",
       "      <td>6295</td>\n",
       "      <td>4621</td>\n",
       "      <td>Alton, Texas</td>\n",
       "      <td>Texas</td>\n",
       "      <td>46</td>\n",
       "      <td>5/15/2020</td>\n",
       "      <td>15:15</td>\n",
       "      <td>53</td>\n",
       "      <td>34</td>\n",
       "      <td>15</td>\n",
       "      <td>...</td>\n",
       "      <td>-888</td>\n",
       "      <td>-888</td>\n",
       "      <td>-888</td>\n",
       "      <td>-888</td>\n",
       "      <td>3</td>\n",
       "      <td>10</td>\n",
       "      <td>3</td>\n",
       "      <td>NaN</td>\n",
       "      <td>46.0</td>\n",
       "      <td>1.880</td>\n",
       "    </tr>\n",
       "    <tr>\n",
       "      <th>14</th>\n",
       "      <td>8249</td>\n",
       "      <td>4606</td>\n",
       "      <td>Santa Ana National Wildlife Refuge, Alamo, Texas</td>\n",
       "      <td>Texas</td>\n",
       "      <td>46</td>\n",
       "      <td>5/21/2020</td>\n",
       "      <td>9:28</td>\n",
       "      <td>27</td>\n",
       "      <td>33</td>\n",
       "      <td>14</td>\n",
       "      <td>...</td>\n",
       "      <td>7</td>\n",
       "      <td>6</td>\n",
       "      <td>5</td>\n",
       "      <td>6</td>\n",
       "      <td>12</td>\n",
       "      <td>18</td>\n",
       "      <td>4</td>\n",
       "      <td>NaN</td>\n",
       "      <td>46.0</td>\n",
       "      <td>1.881</td>\n",
       "    </tr>\n",
       "    <tr>\n",
       "      <th>15</th>\n",
       "      <td>7244</td>\n",
       "      <td>4611</td>\n",
       "      <td>Alton, Texas</td>\n",
       "      <td>Texas</td>\n",
       "      <td>46</td>\n",
       "      <td>5/21/2020</td>\n",
       "      <td>15:33</td>\n",
       "      <td>51</td>\n",
       "      <td>33</td>\n",
       "      <td>15</td>\n",
       "      <td>...</td>\n",
       "      <td>-888</td>\n",
       "      <td>-888</td>\n",
       "      <td>-888</td>\n",
       "      <td>-888</td>\n",
       "      <td>4</td>\n",
       "      <td>18</td>\n",
       "      <td>5</td>\n",
       "      <td>NaN</td>\n",
       "      <td>46.0</td>\n",
       "      <td>1.880</td>\n",
       "    </tr>\n",
       "    <tr>\n",
       "      <th>16</th>\n",
       "      <td>8199</td>\n",
       "      <td>4607</td>\n",
       "      <td>Santa Ana National Wildlife Refuge, Alamo, Texas</td>\n",
       "      <td>Texas</td>\n",
       "      <td>46</td>\n",
       "      <td>5/28/2020</td>\n",
       "      <td>9:20</td>\n",
       "      <td>27</td>\n",
       "      <td>28</td>\n",
       "      <td>12</td>\n",
       "      <td>...</td>\n",
       "      <td>-888</td>\n",
       "      <td>-888</td>\n",
       "      <td>-888</td>\n",
       "      <td>-888</td>\n",
       "      <td>-888</td>\n",
       "      <td>36</td>\n",
       "      <td>8</td>\n",
       "      <td>NaN</td>\n",
       "      <td>46.0</td>\n",
       "      <td>1.880</td>\n",
       "    </tr>\n",
       "    <tr>\n",
       "      <th>17</th>\n",
       "      <td>7047</td>\n",
       "      <td>4610</td>\n",
       "      <td>Alton, Texas</td>\n",
       "      <td>Texas</td>\n",
       "      <td>46</td>\n",
       "      <td>5/28/2020</td>\n",
       "      <td>15:22</td>\n",
       "      <td>53</td>\n",
       "      <td>33</td>\n",
       "      <td>6</td>\n",
       "      <td>...</td>\n",
       "      <td>14</td>\n",
       "      <td>15</td>\n",
       "      <td>14</td>\n",
       "      <td>12</td>\n",
       "      <td>16</td>\n",
       "      <td>27</td>\n",
       "      <td>6</td>\n",
       "      <td>NaN</td>\n",
       "      <td>46.0</td>\n",
       "      <td>1.878</td>\n",
       "    </tr>\n",
       "    <tr>\n",
       "      <th>18</th>\n",
       "      <td>6120</td>\n",
       "      <td>4623</td>\n",
       "      <td>Santa Ana National Wildlife Refuge, Alamo, Texas</td>\n",
       "      <td>Texas</td>\n",
       "      <td>46</td>\n",
       "      <td>6/2/2020</td>\n",
       "      <td>9:23</td>\n",
       "      <td>27</td>\n",
       "      <td>27</td>\n",
       "      <td>7</td>\n",
       "      <td>...</td>\n",
       "      <td>5</td>\n",
       "      <td>-888</td>\n",
       "      <td>-888</td>\n",
       "      <td>-888</td>\n",
       "      <td>6</td>\n",
       "      <td>22</td>\n",
       "      <td>3</td>\n",
       "      <td>NaN</td>\n",
       "      <td>46.0</td>\n",
       "      <td>1.890</td>\n",
       "    </tr>\n",
       "    <tr>\n",
       "      <th>19</th>\n",
       "      <td>7149</td>\n",
       "      <td>4609</td>\n",
       "      <td>Alton, Texas</td>\n",
       "      <td>Texas</td>\n",
       "      <td>46</td>\n",
       "      <td>6/2/2020</td>\n",
       "      <td>15:34</td>\n",
       "      <td>53</td>\n",
       "      <td>24</td>\n",
       "      <td>9</td>\n",
       "      <td>...</td>\n",
       "      <td>4</td>\n",
       "      <td>-888</td>\n",
       "      <td>-888</td>\n",
       "      <td>-888</td>\n",
       "      <td>6</td>\n",
       "      <td>8</td>\n",
       "      <td>3</td>\n",
       "      <td>NaN</td>\n",
       "      <td>46.0</td>\n",
       "      <td>1.879</td>\n",
       "    </tr>\n",
       "    <tr>\n",
       "      <th>20</th>\n",
       "      <td>8200</td>\n",
       "      <td>4608</td>\n",
       "      <td>Santa Ana National Wildlife Refuge, Alamo, Texas</td>\n",
       "      <td>Texas</td>\n",
       "      <td>46</td>\n",
       "      <td>6/8/2020</td>\n",
       "      <td>9:26</td>\n",
       "      <td>27</td>\n",
       "      <td>29</td>\n",
       "      <td>14</td>\n",
       "      <td>...</td>\n",
       "      <td>3</td>\n",
       "      <td>-888</td>\n",
       "      <td>-888</td>\n",
       "      <td>-888</td>\n",
       "      <td>4</td>\n",
       "      <td>32</td>\n",
       "      <td>9</td>\n",
       "      <td>NaN</td>\n",
       "      <td>46.0</td>\n",
       "      <td>1.880</td>\n",
       "    </tr>\n",
       "    <tr>\n",
       "      <th>21</th>\n",
       "      <td>6038</td>\n",
       "      <td>4624</td>\n",
       "      <td>Alton, Texas</td>\n",
       "      <td>Texas</td>\n",
       "      <td>46</td>\n",
       "      <td>6/8/2020</td>\n",
       "      <td>15:04</td>\n",
       "      <td>53</td>\n",
       "      <td>37</td>\n",
       "      <td>12</td>\n",
       "      <td>...</td>\n",
       "      <td>6</td>\n",
       "      <td>4</td>\n",
       "      <td>4</td>\n",
       "      <td>-888</td>\n",
       "      <td>8</td>\n",
       "      <td>15</td>\n",
       "      <td>8</td>\n",
       "      <td>NaN</td>\n",
       "      <td>46.0</td>\n",
       "      <td>1.880</td>\n",
       "    </tr>\n",
       "  </tbody>\n",
       "</table>\n",
       "<p>22 rows × 116 columns</p>\n",
       "</div>"
      ],
      "text/plain": [
       "    Can #  Snake can #                                          Location  \\\n",
       "0    8148         4601  Santa Ana National Wildlife Refuge, Alamo, Texas   \n",
       "1    7208         4616                                      Alton, Texas   \n",
       "2    6232         4617  Santa Ana National Wildlife Refuge, Alamo, Texas   \n",
       "3    8128         4602                                      Alton, Texas   \n",
       "4    7143         4615  Santa Ana National Wildlife Refuge, Alamo, Texas   \n",
       "5    6007         4618                                      Alton, Texas   \n",
       "6    8026         4603  Santa Ana National Wildlife Refuge, Alamo, Texas   \n",
       "7    7172         4614                                      Alton, Texas   \n",
       "8    6608         4619  Santa Ana National Wildlife Refuge, Alamo, Texas   \n",
       "9    8072         4604                                      Alton, Texas   \n",
       "10   7140         4613  Santa Ana National Wildlife Refuge, Alamo, Texas   \n",
       "11   6343         4620                                      Alton, Texas   \n",
       "12   8174         4605  Santa Ana National Wildlife Refuge, Alamo, Texas   \n",
       "13   6295         4621                                      Alton, Texas   \n",
       "14   8249         4606  Santa Ana National Wildlife Refuge, Alamo, Texas   \n",
       "15   7244         4611                                      Alton, Texas   \n",
       "16   8199         4607  Santa Ana National Wildlife Refuge, Alamo, Texas   \n",
       "17   7047         4610                                      Alton, Texas   \n",
       "18   6120         4623  Santa Ana National Wildlife Refuge, Alamo, Texas   \n",
       "19   7149         4609                                      Alton, Texas   \n",
       "20   8200         4608  Santa Ana National Wildlife Refuge, Alamo, Texas   \n",
       "21   6038         4624                                      Alton, Texas   \n",
       "\n",
       "    State  Box       Date  Time   Altitude (m)  Temp. Celsius  Wind Spd (mph)  \\\n",
       "0   Texas   46  4/21/2020   9:26            27             27              10   \n",
       "1   Texas   46  4/21/2020  16:07            49             31              16   \n",
       "2   Texas   46  4/25/2020   9:26            27             27              11   \n",
       "3   Texas   46  4/25/2020  14:45            55             32              11   \n",
       "4   Texas   46  4/27/2020   9:08            27             25              12   \n",
       "5   Texas   46  4/27/2020  15:16            51             33              17   \n",
       "6   Texas   46  4/30/2020   9:27            27             26               2   \n",
       "7   Texas   46  4/30/2020  15:26            51             33               7   \n",
       "8   Texas   46   5/3/2020   9:23            27             27              13   \n",
       "9   Texas   46   5/3/2020  15:24            51             36              16   \n",
       "10  Texas   46  5/11/2020   9:17            27             26               8   \n",
       "11  Texas   46  5/11/2020  15:21            53             33              16   \n",
       "12  Texas   46  5/15/2020   9:22            27             35              17   \n",
       "13  Texas   46  5/15/2020  15:15            53             34              15   \n",
       "14  Texas   46  5/21/2020   9:28            27             33              14   \n",
       "15  Texas   46  5/21/2020  15:33            51             33              15   \n",
       "16  Texas   46  5/28/2020   9:20            27             28              12   \n",
       "17  Texas   46  5/28/2020  15:22            53             33               6   \n",
       "18  Texas   46   6/2/2020   9:23            27             27               7   \n",
       "19  Texas   46   6/2/2020  15:34            53             24               9   \n",
       "20  Texas   46   6/8/2020   9:26            27             29              14   \n",
       "21  Texas   46   6/8/2020  15:04            53             37              12   \n",
       "\n",
       "    ... 3-Ethyltoluene (MS) 4-Ethyltoluene (MS) 2-Ethyltoluene (MS)  \\\n",
       "0   ...                -888                -888                -888   \n",
       "1   ...                -888                -888                -888   \n",
       "2   ...                  22                  27                  24   \n",
       "3   ...                -888                -888                -888   \n",
       "4   ...                -888                -888                -888   \n",
       "5   ...                   7                  11                   9   \n",
       "6   ...                -888                -888                -888   \n",
       "7   ...                -888                -888                -888   \n",
       "8   ...                   3                -888                -888   \n",
       "9   ...                   9                   6                   5   \n",
       "10  ...                -888                -888                -888   \n",
       "11  ...                   3                -888                -888   \n",
       "12  ...                -888                -888                -888   \n",
       "13  ...                -888                -888                -888   \n",
       "14  ...                   7                   6                   5   \n",
       "15  ...                -888                -888                -888   \n",
       "16  ...                -888                -888                -888   \n",
       "17  ...                  14                  15                  14   \n",
       "18  ...                   5                -888                -888   \n",
       "19  ...                   4                -888                -888   \n",
       "20  ...                   3                -888                -888   \n",
       "21  ...                   6                   4                   4   \n",
       "\n",
       "    1,3,5-Trimethylbenzene (MS)  1,2,4-Trimethylbenzene (MS)  \\\n",
       "0                          -888                         -888   \n",
       "1                          -888                         -888   \n",
       "2                            22                           23   \n",
       "3                          -888                            3   \n",
       "4                          -888                         -888   \n",
       "5                             7                           12   \n",
       "6                          -888                         -888   \n",
       "7                          -888                         -888   \n",
       "8                          -888                            4   \n",
       "9                             5                           15   \n",
       "10                         -888                            4   \n",
       "11                         -888                            6   \n",
       "12                         -888                         -888   \n",
       "13                         -888                            3   \n",
       "14                            6                           12   \n",
       "15                         -888                            4   \n",
       "16                         -888                         -888   \n",
       "17                           12                           16   \n",
       "18                         -888                            6   \n",
       "19                         -888                            6   \n",
       "20                         -888                            4   \n",
       "21                         -888                            8   \n",
       "\n",
       "    alpha-Pinene (B/MS)  beta-Pinene (B/MS)  Unnamed: 113  Box.1  \\\n",
       "0                    20                   6           NaN   46.0   \n",
       "1                     5                -888           NaN   46.0   \n",
       "2                    11                  22           NaN   46.0   \n",
       "3                     8                -888           NaN   46.0   \n",
       "4                    21                -888           NaN   46.0   \n",
       "5                    41                   6           NaN   46.0   \n",
       "6                     6                   9           NaN   46.0   \n",
       "7                     3                -888           NaN   46.0   \n",
       "8                    17                   6           NaN   46.0   \n",
       "9                     5                -888           NaN   46.0   \n",
       "10                   21                   5           NaN   46.0   \n",
       "11                   12                   8           NaN   46.0   \n",
       "12                   13                  12           NaN   46.0   \n",
       "13                   10                   3           NaN   46.0   \n",
       "14                   18                   4           NaN   46.0   \n",
       "15                   18                   5           NaN   46.0   \n",
       "16                   36                   8           NaN   46.0   \n",
       "17                   27                   6           NaN   46.0   \n",
       "18                   22                   3           NaN   46.0   \n",
       "19                    8                   3           NaN   46.0   \n",
       "20                   32                   9           NaN   46.0   \n",
       "21                   15                   8           NaN   46.0   \n",
       "\n",
       "    CH4 (ppmv height).1  \n",
       "0                 1.898  \n",
       "1                 1.943  \n",
       "2                 1.933  \n",
       "3                 1.930  \n",
       "4                 1.987  \n",
       "5                 1.937  \n",
       "6                 1.946  \n",
       "7                 1.954  \n",
       "8                 1.917  \n",
       "9                 1.899  \n",
       "10                1.932  \n",
       "11                1.899  \n",
       "12                1.880  \n",
       "13                1.880  \n",
       "14                1.881  \n",
       "15                1.880  \n",
       "16                1.880  \n",
       "17                1.878  \n",
       "18                1.890  \n",
       "19                1.879  \n",
       "20                1.880  \n",
       "21                1.880  \n",
       "\n",
       "[22 rows x 116 columns]"
      ]
     },
     "execution_count": 45,
     "metadata": {},
     "output_type": "execute_result"
    }
   ],
   "source": [
    "air_data"
   ]
  },
  {
   "cell_type": "code",
   "execution_count": 48,
   "metadata": {},
   "outputs": [],
   "source": [
    "#split into 2 groups based on location \n",
    "air_alton = air_data[air_data[\"Location\"] == \"Alton, Texas\"]\n",
    "air_SantaAna = air_data[air_data[\"Location\"] != \"Alton, Texas\"]"
   ]
  },
  {
   "cell_type": "code",
   "execution_count": 50,
   "metadata": {},
   "outputs": [
    {
     "data": {
      "text/html": [
       "<div>\n",
       "<style scoped>\n",
       "    .dataframe tbody tr th:only-of-type {\n",
       "        vertical-align: middle;\n",
       "    }\n",
       "\n",
       "    .dataframe tbody tr th {\n",
       "        vertical-align: top;\n",
       "    }\n",
       "\n",
       "    .dataframe thead th {\n",
       "        text-align: right;\n",
       "    }\n",
       "</style>\n",
       "<table border=\"1\" class=\"dataframe\">\n",
       "  <thead>\n",
       "    <tr style=\"text-align: right;\">\n",
       "      <th></th>\n",
       "      <th>Can #</th>\n",
       "      <th>Snake can #</th>\n",
       "      <th>Location</th>\n",
       "      <th>State</th>\n",
       "      <th>Box</th>\n",
       "      <th>Date</th>\n",
       "      <th>Time</th>\n",
       "      <th>Altitude (m)</th>\n",
       "      <th>Temp. Celsius</th>\n",
       "      <th>Wind Spd (mph)</th>\n",
       "      <th>...</th>\n",
       "      <th>3-Ethyltoluene (MS)</th>\n",
       "      <th>4-Ethyltoluene (MS)</th>\n",
       "      <th>2-Ethyltoluene (MS)</th>\n",
       "      <th>1,3,5-Trimethylbenzene (MS)</th>\n",
       "      <th>1,2,4-Trimethylbenzene (MS)</th>\n",
       "      <th>alpha-Pinene (B/MS)</th>\n",
       "      <th>beta-Pinene (B/MS)</th>\n",
       "      <th>Unnamed: 113</th>\n",
       "      <th>Box.1</th>\n",
       "      <th>CH4 (ppmv height).1</th>\n",
       "    </tr>\n",
       "  </thead>\n",
       "  <tbody>\n",
       "    <tr>\n",
       "      <th>1</th>\n",
       "      <td>7208</td>\n",
       "      <td>4616</td>\n",
       "      <td>Alton, Texas</td>\n",
       "      <td>Texas</td>\n",
       "      <td>46</td>\n",
       "      <td>4/21/2020</td>\n",
       "      <td>16:07</td>\n",
       "      <td>49</td>\n",
       "      <td>31</td>\n",
       "      <td>16</td>\n",
       "      <td>...</td>\n",
       "      <td>-888</td>\n",
       "      <td>-888</td>\n",
       "      <td>-888</td>\n",
       "      <td>-888</td>\n",
       "      <td>-888</td>\n",
       "      <td>5</td>\n",
       "      <td>-888</td>\n",
       "      <td>NaN</td>\n",
       "      <td>46.0</td>\n",
       "      <td>1.943</td>\n",
       "    </tr>\n",
       "    <tr>\n",
       "      <th>3</th>\n",
       "      <td>8128</td>\n",
       "      <td>4602</td>\n",
       "      <td>Alton, Texas</td>\n",
       "      <td>Texas</td>\n",
       "      <td>46</td>\n",
       "      <td>4/25/2020</td>\n",
       "      <td>14:45</td>\n",
       "      <td>55</td>\n",
       "      <td>32</td>\n",
       "      <td>11</td>\n",
       "      <td>...</td>\n",
       "      <td>-888</td>\n",
       "      <td>-888</td>\n",
       "      <td>-888</td>\n",
       "      <td>-888</td>\n",
       "      <td>3</td>\n",
       "      <td>8</td>\n",
       "      <td>-888</td>\n",
       "      <td>NaN</td>\n",
       "      <td>46.0</td>\n",
       "      <td>1.930</td>\n",
       "    </tr>\n",
       "    <tr>\n",
       "      <th>5</th>\n",
       "      <td>6007</td>\n",
       "      <td>4618</td>\n",
       "      <td>Alton, Texas</td>\n",
       "      <td>Texas</td>\n",
       "      <td>46</td>\n",
       "      <td>4/27/2020</td>\n",
       "      <td>15:16</td>\n",
       "      <td>51</td>\n",
       "      <td>33</td>\n",
       "      <td>17</td>\n",
       "      <td>...</td>\n",
       "      <td>7</td>\n",
       "      <td>11</td>\n",
       "      <td>9</td>\n",
       "      <td>7</td>\n",
       "      <td>12</td>\n",
       "      <td>41</td>\n",
       "      <td>6</td>\n",
       "      <td>NaN</td>\n",
       "      <td>46.0</td>\n",
       "      <td>1.937</td>\n",
       "    </tr>\n",
       "    <tr>\n",
       "      <th>7</th>\n",
       "      <td>7172</td>\n",
       "      <td>4614</td>\n",
       "      <td>Alton, Texas</td>\n",
       "      <td>Texas</td>\n",
       "      <td>46</td>\n",
       "      <td>4/30/2020</td>\n",
       "      <td>15:26</td>\n",
       "      <td>51</td>\n",
       "      <td>33</td>\n",
       "      <td>7</td>\n",
       "      <td>...</td>\n",
       "      <td>-888</td>\n",
       "      <td>-888</td>\n",
       "      <td>-888</td>\n",
       "      <td>-888</td>\n",
       "      <td>-888</td>\n",
       "      <td>3</td>\n",
       "      <td>-888</td>\n",
       "      <td>NaN</td>\n",
       "      <td>46.0</td>\n",
       "      <td>1.954</td>\n",
       "    </tr>\n",
       "    <tr>\n",
       "      <th>9</th>\n",
       "      <td>8072</td>\n",
       "      <td>4604</td>\n",
       "      <td>Alton, Texas</td>\n",
       "      <td>Texas</td>\n",
       "      <td>46</td>\n",
       "      <td>5/3/2020</td>\n",
       "      <td>15:24</td>\n",
       "      <td>51</td>\n",
       "      <td>36</td>\n",
       "      <td>16</td>\n",
       "      <td>...</td>\n",
       "      <td>9</td>\n",
       "      <td>6</td>\n",
       "      <td>5</td>\n",
       "      <td>5</td>\n",
       "      <td>15</td>\n",
       "      <td>5</td>\n",
       "      <td>-888</td>\n",
       "      <td>NaN</td>\n",
       "      <td>46.0</td>\n",
       "      <td>1.899</td>\n",
       "    </tr>\n",
       "    <tr>\n",
       "      <th>11</th>\n",
       "      <td>6343</td>\n",
       "      <td>4620</td>\n",
       "      <td>Alton, Texas</td>\n",
       "      <td>Texas</td>\n",
       "      <td>46</td>\n",
       "      <td>5/11/2020</td>\n",
       "      <td>15:21</td>\n",
       "      <td>53</td>\n",
       "      <td>33</td>\n",
       "      <td>16</td>\n",
       "      <td>...</td>\n",
       "      <td>3</td>\n",
       "      <td>-888</td>\n",
       "      <td>-888</td>\n",
       "      <td>-888</td>\n",
       "      <td>6</td>\n",
       "      <td>12</td>\n",
       "      <td>8</td>\n",
       "      <td>NaN</td>\n",
       "      <td>46.0</td>\n",
       "      <td>1.899</td>\n",
       "    </tr>\n",
       "    <tr>\n",
       "      <th>13</th>\n",
       "      <td>6295</td>\n",
       "      <td>4621</td>\n",
       "      <td>Alton, Texas</td>\n",
       "      <td>Texas</td>\n",
       "      <td>46</td>\n",
       "      <td>5/15/2020</td>\n",
       "      <td>15:15</td>\n",
       "      <td>53</td>\n",
       "      <td>34</td>\n",
       "      <td>15</td>\n",
       "      <td>...</td>\n",
       "      <td>-888</td>\n",
       "      <td>-888</td>\n",
       "      <td>-888</td>\n",
       "      <td>-888</td>\n",
       "      <td>3</td>\n",
       "      <td>10</td>\n",
       "      <td>3</td>\n",
       "      <td>NaN</td>\n",
       "      <td>46.0</td>\n",
       "      <td>1.880</td>\n",
       "    </tr>\n",
       "    <tr>\n",
       "      <th>15</th>\n",
       "      <td>7244</td>\n",
       "      <td>4611</td>\n",
       "      <td>Alton, Texas</td>\n",
       "      <td>Texas</td>\n",
       "      <td>46</td>\n",
       "      <td>5/21/2020</td>\n",
       "      <td>15:33</td>\n",
       "      <td>51</td>\n",
       "      <td>33</td>\n",
       "      <td>15</td>\n",
       "      <td>...</td>\n",
       "      <td>-888</td>\n",
       "      <td>-888</td>\n",
       "      <td>-888</td>\n",
       "      <td>-888</td>\n",
       "      <td>4</td>\n",
       "      <td>18</td>\n",
       "      <td>5</td>\n",
       "      <td>NaN</td>\n",
       "      <td>46.0</td>\n",
       "      <td>1.880</td>\n",
       "    </tr>\n",
       "    <tr>\n",
       "      <th>17</th>\n",
       "      <td>7047</td>\n",
       "      <td>4610</td>\n",
       "      <td>Alton, Texas</td>\n",
       "      <td>Texas</td>\n",
       "      <td>46</td>\n",
       "      <td>5/28/2020</td>\n",
       "      <td>15:22</td>\n",
       "      <td>53</td>\n",
       "      <td>33</td>\n",
       "      <td>6</td>\n",
       "      <td>...</td>\n",
       "      <td>14</td>\n",
       "      <td>15</td>\n",
       "      <td>14</td>\n",
       "      <td>12</td>\n",
       "      <td>16</td>\n",
       "      <td>27</td>\n",
       "      <td>6</td>\n",
       "      <td>NaN</td>\n",
       "      <td>46.0</td>\n",
       "      <td>1.878</td>\n",
       "    </tr>\n",
       "    <tr>\n",
       "      <th>19</th>\n",
       "      <td>7149</td>\n",
       "      <td>4609</td>\n",
       "      <td>Alton, Texas</td>\n",
       "      <td>Texas</td>\n",
       "      <td>46</td>\n",
       "      <td>6/2/2020</td>\n",
       "      <td>15:34</td>\n",
       "      <td>53</td>\n",
       "      <td>24</td>\n",
       "      <td>9</td>\n",
       "      <td>...</td>\n",
       "      <td>4</td>\n",
       "      <td>-888</td>\n",
       "      <td>-888</td>\n",
       "      <td>-888</td>\n",
       "      <td>6</td>\n",
       "      <td>8</td>\n",
       "      <td>3</td>\n",
       "      <td>NaN</td>\n",
       "      <td>46.0</td>\n",
       "      <td>1.879</td>\n",
       "    </tr>\n",
       "    <tr>\n",
       "      <th>21</th>\n",
       "      <td>6038</td>\n",
       "      <td>4624</td>\n",
       "      <td>Alton, Texas</td>\n",
       "      <td>Texas</td>\n",
       "      <td>46</td>\n",
       "      <td>6/8/2020</td>\n",
       "      <td>15:04</td>\n",
       "      <td>53</td>\n",
       "      <td>37</td>\n",
       "      <td>12</td>\n",
       "      <td>...</td>\n",
       "      <td>6</td>\n",
       "      <td>4</td>\n",
       "      <td>4</td>\n",
       "      <td>-888</td>\n",
       "      <td>8</td>\n",
       "      <td>15</td>\n",
       "      <td>8</td>\n",
       "      <td>NaN</td>\n",
       "      <td>46.0</td>\n",
       "      <td>1.880</td>\n",
       "    </tr>\n",
       "  </tbody>\n",
       "</table>\n",
       "<p>11 rows × 116 columns</p>\n",
       "</div>"
      ],
      "text/plain": [
       "    Can #  Snake can #      Location  State  Box       Date  Time   \\\n",
       "1    7208         4616  Alton, Texas  Texas   46  4/21/2020  16:07   \n",
       "3    8128         4602  Alton, Texas  Texas   46  4/25/2020  14:45   \n",
       "5    6007         4618  Alton, Texas  Texas   46  4/27/2020  15:16   \n",
       "7    7172         4614  Alton, Texas  Texas   46  4/30/2020  15:26   \n",
       "9    8072         4604  Alton, Texas  Texas   46   5/3/2020  15:24   \n",
       "11   6343         4620  Alton, Texas  Texas   46  5/11/2020  15:21   \n",
       "13   6295         4621  Alton, Texas  Texas   46  5/15/2020  15:15   \n",
       "15   7244         4611  Alton, Texas  Texas   46  5/21/2020  15:33   \n",
       "17   7047         4610  Alton, Texas  Texas   46  5/28/2020  15:22   \n",
       "19   7149         4609  Alton, Texas  Texas   46   6/2/2020  15:34   \n",
       "21   6038         4624  Alton, Texas  Texas   46   6/8/2020  15:04   \n",
       "\n",
       "    Altitude (m)  Temp. Celsius  Wind Spd (mph)  ... 3-Ethyltoluene (MS)  \\\n",
       "1             49             31              16  ...                -888   \n",
       "3             55             32              11  ...                -888   \n",
       "5             51             33              17  ...                   7   \n",
       "7             51             33               7  ...                -888   \n",
       "9             51             36              16  ...                   9   \n",
       "11            53             33              16  ...                   3   \n",
       "13            53             34              15  ...                -888   \n",
       "15            51             33              15  ...                -888   \n",
       "17            53             33               6  ...                  14   \n",
       "19            53             24               9  ...                   4   \n",
       "21            53             37              12  ...                   6   \n",
       "\n",
       "   4-Ethyltoluene (MS) 2-Ethyltoluene (MS)  1,3,5-Trimethylbenzene (MS)  \\\n",
       "1                 -888                -888                         -888   \n",
       "3                 -888                -888                         -888   \n",
       "5                   11                   9                            7   \n",
       "7                 -888                -888                         -888   \n",
       "9                    6                   5                            5   \n",
       "11                -888                -888                         -888   \n",
       "13                -888                -888                         -888   \n",
       "15                -888                -888                         -888   \n",
       "17                  15                  14                           12   \n",
       "19                -888                -888                         -888   \n",
       "21                   4                   4                         -888   \n",
       "\n",
       "    1,2,4-Trimethylbenzene (MS)  alpha-Pinene (B/MS)  beta-Pinene (B/MS)  \\\n",
       "1                          -888                    5                -888   \n",
       "3                             3                    8                -888   \n",
       "5                            12                   41                   6   \n",
       "7                          -888                    3                -888   \n",
       "9                            15                    5                -888   \n",
       "11                            6                   12                   8   \n",
       "13                            3                   10                   3   \n",
       "15                            4                   18                   5   \n",
       "17                           16                   27                   6   \n",
       "19                            6                    8                   3   \n",
       "21                            8                   15                   8   \n",
       "\n",
       "    Unnamed: 113  Box.1  CH4 (ppmv height).1  \n",
       "1            NaN   46.0                1.943  \n",
       "3            NaN   46.0                1.930  \n",
       "5            NaN   46.0                1.937  \n",
       "7            NaN   46.0                1.954  \n",
       "9            NaN   46.0                1.899  \n",
       "11           NaN   46.0                1.899  \n",
       "13           NaN   46.0                1.880  \n",
       "15           NaN   46.0                1.880  \n",
       "17           NaN   46.0                1.878  \n",
       "19           NaN   46.0                1.879  \n",
       "21           NaN   46.0                1.880  \n",
       "\n",
       "[11 rows x 116 columns]"
      ]
     },
     "execution_count": 50,
     "metadata": {},
     "output_type": "execute_result"
    }
   ],
   "source": [
    "air_alton"
   ]
  },
  {
   "cell_type": "code",
   "execution_count": 75,
   "metadata": {},
   "outputs": [],
   "source": [
    "#make a function that will give stats on air concentrations \n",
    "\n",
    "# I want to input the gas column, and want the function to return stats\n",
    "#on the gas conc for the santa ana and the alton sites \n",
    "#return a table?\n",
    "def airdatastats(targetgas):\n",
    "    \n",
    "    SAstats = air_SantaAna[targetgas].describe()#stats for Santa Ana Site \n",
    "    \n",
    "    Alstats = air_alton[targetgas].describe() #Stats for Alton Site \n",
    "    \n",
    "    #Turning the stats into a dataframe \n",
    "    SAstats = pd.DataFrame(SAstats)\n",
    "    Alstatss = pd.DataFrame(Alstats)\n",
    "    \n",
    "    STATS = SAstats.join(Alstatss, lsuffix = \"Santa Ana\", rsuffix = \"Alton\")\n",
    "    \n",
    "    return STATS\n",
    "    "
   ]
  },
  {
   "cell_type": "code",
   "execution_count": 76,
   "metadata": {},
   "outputs": [
    {
     "data": {
      "text/html": [
       "<div>\n",
       "<style scoped>\n",
       "    .dataframe tbody tr th:only-of-type {\n",
       "        vertical-align: middle;\n",
       "    }\n",
       "\n",
       "    .dataframe tbody tr th {\n",
       "        vertical-align: top;\n",
       "    }\n",
       "\n",
       "    .dataframe thead th {\n",
       "        text-align: right;\n",
       "    }\n",
       "</style>\n",
       "<table border=\"1\" class=\"dataframe\">\n",
       "  <thead>\n",
       "    <tr style=\"text-align: right;\">\n",
       "      <th></th>\n",
       "      <th>alpha-Pinene (B/MS)Santa Ana</th>\n",
       "      <th>alpha-Pinene (B/MS)Alton</th>\n",
       "    </tr>\n",
       "  </thead>\n",
       "  <tbody>\n",
       "    <tr>\n",
       "      <th>count</th>\n",
       "      <td>11.000000</td>\n",
       "      <td>11.000000</td>\n",
       "    </tr>\n",
       "    <tr>\n",
       "      <th>mean</th>\n",
       "      <td>19.727273</td>\n",
       "      <td>13.818182</td>\n",
       "    </tr>\n",
       "    <tr>\n",
       "      <th>std</th>\n",
       "      <td>8.626597</td>\n",
       "      <td>11.356216</td>\n",
       "    </tr>\n",
       "    <tr>\n",
       "      <th>min</th>\n",
       "      <td>6.000000</td>\n",
       "      <td>3.000000</td>\n",
       "    </tr>\n",
       "    <tr>\n",
       "      <th>25%</th>\n",
       "      <td>15.000000</td>\n",
       "      <td>6.500000</td>\n",
       "    </tr>\n",
       "    <tr>\n",
       "      <th>50%</th>\n",
       "      <td>20.000000</td>\n",
       "      <td>10.000000</td>\n",
       "    </tr>\n",
       "    <tr>\n",
       "      <th>75%</th>\n",
       "      <td>21.500000</td>\n",
       "      <td>16.500000</td>\n",
       "    </tr>\n",
       "    <tr>\n",
       "      <th>max</th>\n",
       "      <td>36.000000</td>\n",
       "      <td>41.000000</td>\n",
       "    </tr>\n",
       "  </tbody>\n",
       "</table>\n",
       "</div>"
      ],
      "text/plain": [
       "       alpha-Pinene (B/MS)Santa Ana  alpha-Pinene (B/MS)Alton\n",
       "count                     11.000000                 11.000000\n",
       "mean                      19.727273                 13.818182\n",
       "std                        8.626597                 11.356216\n",
       "min                        6.000000                  3.000000\n",
       "25%                       15.000000                  6.500000\n",
       "50%                       20.000000                 10.000000\n",
       "75%                       21.500000                 16.500000\n",
       "max                       36.000000                 41.000000"
      ]
     },
     "execution_count": 76,
     "metadata": {},
     "output_type": "execute_result"
    }
   ],
   "source": [
    "airdatastats(\"alpha-Pinene (B/MS)\")"
   ]
  },
  {
   "cell_type": "code",
   "execution_count": 78,
   "metadata": {},
   "outputs": [
    {
     "data": {
      "text/html": [
       "<div>\n",
       "<style scoped>\n",
       "    .dataframe tbody tr th:only-of-type {\n",
       "        vertical-align: middle;\n",
       "    }\n",
       "\n",
       "    .dataframe tbody tr th {\n",
       "        vertical-align: top;\n",
       "    }\n",
       "\n",
       "    .dataframe thead th {\n",
       "        text-align: right;\n",
       "    }\n",
       "</style>\n",
       "<table border=\"1\" class=\"dataframe\">\n",
       "  <thead>\n",
       "    <tr style=\"text-align: right;\">\n",
       "      <th></th>\n",
       "      <th>CO (ppbv)Santa Ana</th>\n",
       "      <th>CO (ppbv)Alton</th>\n",
       "    </tr>\n",
       "  </thead>\n",
       "  <tbody>\n",
       "    <tr>\n",
       "      <th>count</th>\n",
       "      <td>11.000000</td>\n",
       "      <td>11.000000</td>\n",
       "    </tr>\n",
       "    <tr>\n",
       "      <th>mean</th>\n",
       "      <td>156.545455</td>\n",
       "      <td>153.727273</td>\n",
       "    </tr>\n",
       "    <tr>\n",
       "      <th>std</th>\n",
       "      <td>85.317482</td>\n",
       "      <td>64.151525</td>\n",
       "    </tr>\n",
       "    <tr>\n",
       "      <th>min</th>\n",
       "      <td>86.000000</td>\n",
       "      <td>105.000000</td>\n",
       "    </tr>\n",
       "    <tr>\n",
       "      <th>25%</th>\n",
       "      <td>106.000000</td>\n",
       "      <td>114.000000</td>\n",
       "    </tr>\n",
       "    <tr>\n",
       "      <th>50%</th>\n",
       "      <td>133.000000</td>\n",
       "      <td>132.000000</td>\n",
       "    </tr>\n",
       "    <tr>\n",
       "      <th>75%</th>\n",
       "      <td>163.000000</td>\n",
       "      <td>150.000000</td>\n",
       "    </tr>\n",
       "    <tr>\n",
       "      <th>max</th>\n",
       "      <td>378.000000</td>\n",
       "      <td>291.000000</td>\n",
       "    </tr>\n",
       "  </tbody>\n",
       "</table>\n",
       "</div>"
      ],
      "text/plain": [
       "       CO (ppbv)Santa Ana  CO (ppbv)Alton\n",
       "count           11.000000       11.000000\n",
       "mean           156.545455      153.727273\n",
       "std             85.317482       64.151525\n",
       "min             86.000000      105.000000\n",
       "25%            106.000000      114.000000\n",
       "50%            133.000000      132.000000\n",
       "75%            163.000000      150.000000\n",
       "max            378.000000      291.000000"
      ]
     },
     "execution_count": 78,
     "metadata": {},
     "output_type": "execute_result"
    }
   ],
   "source": [
    "airdatastats(\"CO (ppbv)\")"
   ]
  },
  {
   "cell_type": "code",
   "execution_count": null,
   "metadata": {},
   "outputs": [],
   "source": []
  },
  {
   "cell_type": "code",
   "execution_count": null,
   "metadata": {},
   "outputs": [],
   "source": []
  },
  {
   "cell_type": "markdown",
   "metadata": {},
   "source": [
    "**E.4** If you haven't yet, complete the introductions assignment on slack (add the channel, introduce yourself)"
   ]
  },
  {
   "cell_type": "code",
   "execution_count": null,
   "metadata": {},
   "outputs": [],
   "source": []
  }
 ],
 "metadata": {
  "kernelspec": {
   "display_name": "Python 3",
   "language": "python",
   "name": "python3"
  },
  "language_info": {
   "codemirror_mode": {
    "name": "ipython",
    "version": 3
   },
   "file_extension": ".py",
   "mimetype": "text/x-python",
   "name": "python",
   "nbconvert_exporter": "python",
   "pygments_lexer": "ipython3",
   "version": "3.8.5"
  }
 },
 "nbformat": 4,
 "nbformat_minor": 5
}
