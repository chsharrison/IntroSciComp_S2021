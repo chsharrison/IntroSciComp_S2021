{
 "cells": [
  {
   "cell_type": "code",
   "execution_count": 16,
   "metadata": {},
   "outputs": [],
   "source": [
    "import pandas as pd \n",
    "import numpy as np \n",
    "import matplotlib.pyplot as plt\n",
    "import statsmodels.api as sm"
   ]
  },
  {
   "cell_type": "code",
   "execution_count": 3,
   "metadata": {},
   "outputs": [],
   "source": [
    "air_data = pd.read_csv(\"C:/Users/Pgran/Documents/Python Scripts/Untitled Folder/SARP_mysamples.csv\")"
   ]
  },
  {
   "cell_type": "code",
   "execution_count": 4,
   "metadata": {},
   "outputs": [],
   "source": [
    "air_alton = air_data[air_data[\"Location\"] == \"Alton, Texas\"]\n",
    "air_SantaAna = air_data[air_data[\"Location\"] != \"Alton, Texas\"]"
   ]
  },
  {
   "cell_type": "code",
   "execution_count": 7,
   "metadata": {},
   "outputs": [
    {
     "data": {
      "text/html": [
       "<div>\n",
       "<style scoped>\n",
       "    .dataframe tbody tr th:only-of-type {\n",
       "        vertical-align: middle;\n",
       "    }\n",
       "\n",
       "    .dataframe tbody tr th {\n",
       "        vertical-align: top;\n",
       "    }\n",
       "\n",
       "    .dataframe thead th {\n",
       "        text-align: right;\n",
       "    }\n",
       "</style>\n",
       "<table border=\"1\" class=\"dataframe\">\n",
       "  <thead>\n",
       "    <tr style=\"text-align: right;\">\n",
       "      <th></th>\n",
       "      <th>Can #</th>\n",
       "      <th>Snake can #</th>\n",
       "      <th>Box</th>\n",
       "      <th>Altitude (m)</th>\n",
       "      <th>Temp. Celsius</th>\n",
       "      <th>Wind Spd (mph)</th>\n",
       "      <th>Julian Time</th>\n",
       "      <th>Lat (deg)</th>\n",
       "      <th>Long (deg)</th>\n",
       "      <th>CH4 (ppmv height)</th>\n",
       "      <th>...</th>\n",
       "      <th>3-Ethyltoluene (MS)</th>\n",
       "      <th>4-Ethyltoluene (MS)</th>\n",
       "      <th>2-Ethyltoluene (MS)</th>\n",
       "      <th>1,3,5-Trimethylbenzene (MS)</th>\n",
       "      <th>1,2,4-Trimethylbenzene (MS)</th>\n",
       "      <th>alpha-Pinene (B/MS)</th>\n",
       "      <th>beta-Pinene (B/MS)</th>\n",
       "      <th>Unnamed: 113</th>\n",
       "      <th>Box.1</th>\n",
       "      <th>CH4 (ppmv height).1</th>\n",
       "    </tr>\n",
       "  </thead>\n",
       "  <tbody>\n",
       "    <tr>\n",
       "      <th>Can #</th>\n",
       "      <td>1.000000</td>\n",
       "      <td>-0.928357</td>\n",
       "      <td>NaN</td>\n",
       "      <td>-0.312893</td>\n",
       "      <td>-0.057367</td>\n",
       "      <td>-0.046879</td>\n",
       "      <td>-0.062116</td>\n",
       "      <td>-0.312899</td>\n",
       "      <td>0.100187</td>\n",
       "      <td>-0.106651</td>\n",
       "      <td>...</td>\n",
       "      <td>-0.388278</td>\n",
       "      <td>-0.219824</td>\n",
       "      <td>-0.219624</td>\n",
       "      <td>-0.072579</td>\n",
       "      <td>-0.427951</td>\n",
       "      <td>-0.058124</td>\n",
       "      <td>-0.217214</td>\n",
       "      <td>NaN</td>\n",
       "      <td>NaN</td>\n",
       "      <td>-0.106651</td>\n",
       "    </tr>\n",
       "    <tr>\n",
       "      <th>Snake can #</th>\n",
       "      <td>-0.928357</td>\n",
       "      <td>1.000000</td>\n",
       "      <td>NaN</td>\n",
       "      <td>0.199491</td>\n",
       "      <td>0.093904</td>\n",
       "      <td>0.152205</td>\n",
       "      <td>0.167551</td>\n",
       "      <td>0.196782</td>\n",
       "      <td>-0.096098</td>\n",
       "      <td>0.084456</td>\n",
       "      <td>...</td>\n",
       "      <td>0.327496</td>\n",
       "      <td>0.095980</td>\n",
       "      <td>0.095955</td>\n",
       "      <td>-0.083586</td>\n",
       "      <td>0.332224</td>\n",
       "      <td>0.070094</td>\n",
       "      <td>0.147609</td>\n",
       "      <td>NaN</td>\n",
       "      <td>NaN</td>\n",
       "      <td>0.084456</td>\n",
       "    </tr>\n",
       "    <tr>\n",
       "      <th>Box</th>\n",
       "      <td>NaN</td>\n",
       "      <td>NaN</td>\n",
       "      <td>NaN</td>\n",
       "      <td>NaN</td>\n",
       "      <td>NaN</td>\n",
       "      <td>NaN</td>\n",
       "      <td>NaN</td>\n",
       "      <td>NaN</td>\n",
       "      <td>NaN</td>\n",
       "      <td>NaN</td>\n",
       "      <td>...</td>\n",
       "      <td>NaN</td>\n",
       "      <td>NaN</td>\n",
       "      <td>NaN</td>\n",
       "      <td>NaN</td>\n",
       "      <td>NaN</td>\n",
       "      <td>NaN</td>\n",
       "      <td>NaN</td>\n",
       "      <td>NaN</td>\n",
       "      <td>NaN</td>\n",
       "      <td>NaN</td>\n",
       "    </tr>\n",
       "    <tr>\n",
       "      <th>Altitude (m)</th>\n",
       "      <td>-0.312893</td>\n",
       "      <td>0.199491</td>\n",
       "      <td>NaN</td>\n",
       "      <td>1.000000</td>\n",
       "      <td>0.582576</td>\n",
       "      <td>0.207266</td>\n",
       "      <td>0.032093</td>\n",
       "      <td>0.996975</td>\n",
       "      <td>-0.836886</td>\n",
       "      <td>-0.117346</td>\n",
       "      <td>...</td>\n",
       "      <td>0.100563</td>\n",
       "      <td>0.198144</td>\n",
       "      <td>0.198461</td>\n",
       "      <td>0.095456</td>\n",
       "      <td>0.323245</td>\n",
       "      <td>-0.292533</td>\n",
       "      <td>-0.306612</td>\n",
       "      <td>NaN</td>\n",
       "      <td>NaN</td>\n",
       "      <td>-0.117346</td>\n",
       "    </tr>\n",
       "    <tr>\n",
       "      <th>Temp. Celsius</th>\n",
       "      <td>-0.057367</td>\n",
       "      <td>0.093904</td>\n",
       "      <td>NaN</td>\n",
       "      <td>0.582576</td>\n",
       "      <td>1.000000</td>\n",
       "      <td>0.507978</td>\n",
       "      <td>0.115167</td>\n",
       "      <td>0.596233</td>\n",
       "      <td>-0.508822</td>\n",
       "      <td>-0.341098</td>\n",
       "      <td>...</td>\n",
       "      <td>0.108163</td>\n",
       "      <td>0.441842</td>\n",
       "      <td>0.442331</td>\n",
       "      <td>0.282454</td>\n",
       "      <td>0.203883</td>\n",
       "      <td>-0.128860</td>\n",
       "      <td>-0.142244</td>\n",
       "      <td>NaN</td>\n",
       "      <td>NaN</td>\n",
       "      <td>-0.341098</td>\n",
       "    </tr>\n",
       "    <tr>\n",
       "      <th>...</th>\n",
       "      <td>...</td>\n",
       "      <td>...</td>\n",
       "      <td>...</td>\n",
       "      <td>...</td>\n",
       "      <td>...</td>\n",
       "      <td>...</td>\n",
       "      <td>...</td>\n",
       "      <td>...</td>\n",
       "      <td>...</td>\n",
       "      <td>...</td>\n",
       "      <td>...</td>\n",
       "      <td>...</td>\n",
       "      <td>...</td>\n",
       "      <td>...</td>\n",
       "      <td>...</td>\n",
       "      <td>...</td>\n",
       "      <td>...</td>\n",
       "      <td>...</td>\n",
       "      <td>...</td>\n",
       "      <td>...</td>\n",
       "      <td>...</td>\n",
       "    </tr>\n",
       "    <tr>\n",
       "      <th>alpha-Pinene (B/MS)</th>\n",
       "      <td>-0.058124</td>\n",
       "      <td>0.070094</td>\n",
       "      <td>NaN</td>\n",
       "      <td>-0.292533</td>\n",
       "      <td>-0.128860</td>\n",
       "      <td>0.128609</td>\n",
       "      <td>0.329285</td>\n",
       "      <td>-0.277809</td>\n",
       "      <td>-0.007732</td>\n",
       "      <td>-0.198459</td>\n",
       "      <td>...</td>\n",
       "      <td>0.211612</td>\n",
       "      <td>0.166091</td>\n",
       "      <td>0.165991</td>\n",
       "      <td>0.194666</td>\n",
       "      <td>0.130305</td>\n",
       "      <td>1.000000</td>\n",
       "      <td>0.450141</td>\n",
       "      <td>NaN</td>\n",
       "      <td>NaN</td>\n",
       "      <td>-0.198459</td>\n",
       "    </tr>\n",
       "    <tr>\n",
       "      <th>beta-Pinene (B/MS)</th>\n",
       "      <td>-0.217214</td>\n",
       "      <td>0.147609</td>\n",
       "      <td>NaN</td>\n",
       "      <td>-0.306612</td>\n",
       "      <td>-0.142244</td>\n",
       "      <td>-0.079574</td>\n",
       "      <td>0.510183</td>\n",
       "      <td>-0.308273</td>\n",
       "      <td>0.229071</td>\n",
       "      <td>-0.593801</td>\n",
       "      <td>...</td>\n",
       "      <td>0.325716</td>\n",
       "      <td>0.092785</td>\n",
       "      <td>0.092691</td>\n",
       "      <td>0.039526</td>\n",
       "      <td>0.326285</td>\n",
       "      <td>0.450141</td>\n",
       "      <td>1.000000</td>\n",
       "      <td>NaN</td>\n",
       "      <td>NaN</td>\n",
       "      <td>-0.593801</td>\n",
       "    </tr>\n",
       "    <tr>\n",
       "      <th>Unnamed: 113</th>\n",
       "      <td>NaN</td>\n",
       "      <td>NaN</td>\n",
       "      <td>NaN</td>\n",
       "      <td>NaN</td>\n",
       "      <td>NaN</td>\n",
       "      <td>NaN</td>\n",
       "      <td>NaN</td>\n",
       "      <td>NaN</td>\n",
       "      <td>NaN</td>\n",
       "      <td>NaN</td>\n",
       "      <td>...</td>\n",
       "      <td>NaN</td>\n",
       "      <td>NaN</td>\n",
       "      <td>NaN</td>\n",
       "      <td>NaN</td>\n",
       "      <td>NaN</td>\n",
       "      <td>NaN</td>\n",
       "      <td>NaN</td>\n",
       "      <td>NaN</td>\n",
       "      <td>NaN</td>\n",
       "      <td>NaN</td>\n",
       "    </tr>\n",
       "    <tr>\n",
       "      <th>Box.1</th>\n",
       "      <td>NaN</td>\n",
       "      <td>NaN</td>\n",
       "      <td>NaN</td>\n",
       "      <td>NaN</td>\n",
       "      <td>NaN</td>\n",
       "      <td>NaN</td>\n",
       "      <td>NaN</td>\n",
       "      <td>NaN</td>\n",
       "      <td>NaN</td>\n",
       "      <td>NaN</td>\n",
       "      <td>...</td>\n",
       "      <td>NaN</td>\n",
       "      <td>NaN</td>\n",
       "      <td>NaN</td>\n",
       "      <td>NaN</td>\n",
       "      <td>NaN</td>\n",
       "      <td>NaN</td>\n",
       "      <td>NaN</td>\n",
       "      <td>NaN</td>\n",
       "      <td>NaN</td>\n",
       "      <td>NaN</td>\n",
       "    </tr>\n",
       "    <tr>\n",
       "      <th>CH4 (ppmv height).1</th>\n",
       "      <td>-0.106651</td>\n",
       "      <td>0.084456</td>\n",
       "      <td>NaN</td>\n",
       "      <td>-0.117346</td>\n",
       "      <td>-0.341098</td>\n",
       "      <td>-0.211234</td>\n",
       "      <td>-0.750934</td>\n",
       "      <td>-0.110194</td>\n",
       "      <td>0.271267</td>\n",
       "      <td>1.000000</td>\n",
       "      <td>...</td>\n",
       "      <td>-0.343929</td>\n",
       "      <td>-0.134707</td>\n",
       "      <td>-0.135143</td>\n",
       "      <td>-0.046071</td>\n",
       "      <td>-0.404853</td>\n",
       "      <td>-0.198459</td>\n",
       "      <td>-0.593801</td>\n",
       "      <td>NaN</td>\n",
       "      <td>NaN</td>\n",
       "      <td>1.000000</td>\n",
       "    </tr>\n",
       "  </tbody>\n",
       "</table>\n",
       "<p>109 rows × 109 columns</p>\n",
       "</div>"
      ],
      "text/plain": [
       "                        Can #  Snake can #  Box  Altitude (m)  Temp. Celsius  \\\n",
       "Can #                1.000000    -0.928357  NaN     -0.312893      -0.057367   \n",
       "Snake can #         -0.928357     1.000000  NaN      0.199491       0.093904   \n",
       "Box                       NaN          NaN  NaN           NaN            NaN   \n",
       "Altitude (m)        -0.312893     0.199491  NaN      1.000000       0.582576   \n",
       "Temp. Celsius       -0.057367     0.093904  NaN      0.582576       1.000000   \n",
       "...                       ...          ...  ...           ...            ...   \n",
       "alpha-Pinene (B/MS) -0.058124     0.070094  NaN     -0.292533      -0.128860   \n",
       "beta-Pinene (B/MS)  -0.217214     0.147609  NaN     -0.306612      -0.142244   \n",
       "Unnamed: 113              NaN          NaN  NaN           NaN            NaN   \n",
       "Box.1                     NaN          NaN  NaN           NaN            NaN   \n",
       "CH4 (ppmv height).1 -0.106651     0.084456  NaN     -0.117346      -0.341098   \n",
       "\n",
       "                     Wind Spd (mph)  Julian Time  Lat (deg)  Long (deg)  \\\n",
       "Can #                     -0.046879    -0.062116  -0.312899    0.100187   \n",
       "Snake can #                0.152205     0.167551   0.196782   -0.096098   \n",
       "Box                             NaN          NaN        NaN         NaN   \n",
       "Altitude (m)               0.207266     0.032093   0.996975   -0.836886   \n",
       "Temp. Celsius              0.507978     0.115167   0.596233   -0.508822   \n",
       "...                             ...          ...        ...         ...   \n",
       "alpha-Pinene (B/MS)        0.128609     0.329285  -0.277809   -0.007732   \n",
       "beta-Pinene (B/MS)        -0.079574     0.510183  -0.308273    0.229071   \n",
       "Unnamed: 113                    NaN          NaN        NaN         NaN   \n",
       "Box.1                           NaN          NaN        NaN         NaN   \n",
       "CH4 (ppmv height).1       -0.211234    -0.750934  -0.110194    0.271267   \n",
       "\n",
       "                     CH4 (ppmv height)  ...  3-Ethyltoluene (MS)  \\\n",
       "Can #                        -0.106651  ...            -0.388278   \n",
       "Snake can #                   0.084456  ...             0.327496   \n",
       "Box                                NaN  ...                  NaN   \n",
       "Altitude (m)                 -0.117346  ...             0.100563   \n",
       "Temp. Celsius                -0.341098  ...             0.108163   \n",
       "...                                ...  ...                  ...   \n",
       "alpha-Pinene (B/MS)          -0.198459  ...             0.211612   \n",
       "beta-Pinene (B/MS)           -0.593801  ...             0.325716   \n",
       "Unnamed: 113                       NaN  ...                  NaN   \n",
       "Box.1                              NaN  ...                  NaN   \n",
       "CH4 (ppmv height).1           1.000000  ...            -0.343929   \n",
       "\n",
       "                     4-Ethyltoluene (MS)  2-Ethyltoluene (MS)  \\\n",
       "Can #                          -0.219824            -0.219624   \n",
       "Snake can #                     0.095980             0.095955   \n",
       "Box                                  NaN                  NaN   \n",
       "Altitude (m)                    0.198144             0.198461   \n",
       "Temp. Celsius                   0.441842             0.442331   \n",
       "...                                  ...                  ...   \n",
       "alpha-Pinene (B/MS)             0.166091             0.165991   \n",
       "beta-Pinene (B/MS)              0.092785             0.092691   \n",
       "Unnamed: 113                         NaN                  NaN   \n",
       "Box.1                                NaN                  NaN   \n",
       "CH4 (ppmv height).1            -0.134707            -0.135143   \n",
       "\n",
       "                     1,3,5-Trimethylbenzene (MS)  1,2,4-Trimethylbenzene (MS)  \\\n",
       "Can #                                  -0.072579                    -0.427951   \n",
       "Snake can #                            -0.083586                     0.332224   \n",
       "Box                                          NaN                          NaN   \n",
       "Altitude (m)                            0.095456                     0.323245   \n",
       "Temp. Celsius                           0.282454                     0.203883   \n",
       "...                                          ...                          ...   \n",
       "alpha-Pinene (B/MS)                     0.194666                     0.130305   \n",
       "beta-Pinene (B/MS)                      0.039526                     0.326285   \n",
       "Unnamed: 113                                 NaN                          NaN   \n",
       "Box.1                                        NaN                          NaN   \n",
       "CH4 (ppmv height).1                    -0.046071                    -0.404853   \n",
       "\n",
       "                     alpha-Pinene (B/MS)  beta-Pinene (B/MS)  Unnamed: 113  \\\n",
       "Can #                          -0.058124           -0.217214           NaN   \n",
       "Snake can #                     0.070094            0.147609           NaN   \n",
       "Box                                  NaN                 NaN           NaN   \n",
       "Altitude (m)                   -0.292533           -0.306612           NaN   \n",
       "Temp. Celsius                  -0.128860           -0.142244           NaN   \n",
       "...                                  ...                 ...           ...   \n",
       "alpha-Pinene (B/MS)             1.000000            0.450141           NaN   \n",
       "beta-Pinene (B/MS)              0.450141            1.000000           NaN   \n",
       "Unnamed: 113                         NaN                 NaN           NaN   \n",
       "Box.1                                NaN                 NaN           NaN   \n",
       "CH4 (ppmv height).1            -0.198459           -0.593801           NaN   \n",
       "\n",
       "                     Box.1  CH4 (ppmv height).1  \n",
       "Can #                  NaN            -0.106651  \n",
       "Snake can #            NaN             0.084456  \n",
       "Box                    NaN                  NaN  \n",
       "Altitude (m)           NaN            -0.117346  \n",
       "Temp. Celsius          NaN            -0.341098  \n",
       "...                    ...                  ...  \n",
       "alpha-Pinene (B/MS)    NaN            -0.198459  \n",
       "beta-Pinene (B/MS)     NaN            -0.593801  \n",
       "Unnamed: 113           NaN                  NaN  \n",
       "Box.1                  NaN                  NaN  \n",
       "CH4 (ppmv height).1    NaN             1.000000  \n",
       "\n",
       "[109 rows x 109 columns]"
      ]
     },
     "execution_count": 7,
     "metadata": {},
     "output_type": "execute_result"
    }
   ],
   "source": [
    "air_data.corr()"
   ]
  },
  {
   "cell_type": "code",
   "execution_count": 12,
   "metadata": {},
   "outputs": [],
   "source": [
    "def air_gas(site1, site1name,site2,site2name,targetgas):\n",
    "\n",
    "    plt.figure(figsize=(12,7))\n",
    "    x1=site1[\"Date\"]\n",
    "    y1=site1[targetgas]\n",
    "    a1=site2[\"Date\"]\n",
    "    b1=site2[targetgas]\n",
    "    plt.subplot(2,2,1)\n",
    "    plt.scatter(x1,y1,label=site1name)\n",
    "    plt.scatter(a1,b1, label=site2name)\n",
    "    plt.xticks(rotation=45)\n",
    "    plt.legend()\n",
    "    plt.title(targetgas)"
   ]
  },
  {
   "cell_type": "code",
   "execution_count": 13,
   "metadata": {},
   "outputs": [
    {
     "data": {
      "image/png": "[encoded data removed]",
      "text/plain": [
       "<Figure size 864x504 with 1 Axes>"
      ]
     },
     "metadata": {
      "needs_background": "light"
     },
     "output_type": "display_data"
    }
   ],
   "source": [
    "air_gas(air_alton,\"Alton\",air_SantaAna,\"Santa Ana\",\"CO2 (ppmv)\")"
   ]
  },
  {
   "cell_type": "code",
   "execution_count": 15,
   "metadata": {},
   "outputs": [
    {
     "data": {
      "image/png": "[encoded data removed]",
      "text/plain": [
       "<Figure size 864x504 with 1 Axes>"
      ]
     },
     "metadata": {
      "needs_background": "light"
     },
     "output_type": "display_data"
    }
   ],
   "source": [
    "air_gas(air_alton,\"Alton\",air_SantaAna,\"Santa Ana\",\"Ethene (E)\")"
   ]
  },
  {
   "cell_type": "code",
   "execution_count": 31,
   "metadata": {},
   "outputs": [
    {
     "data": {
      "image/png": "[encoded data removed]",
      "text/plain": [
       "<Figure size 864x504 with 1 Axes>"
      ]
     },
     "metadata": {
      "needs_background": "light"
     },
     "output_type": "display_data"
    }
   ],
   "source": [
    "air_gas(air_alton,\"Alton\",air_SantaAna,\"Santa Ana\",\"Ethane (E)\")"
   ]
  },
  {
   "cell_type": "code",
   "execution_count": 32,
   "metadata": {},
   "outputs": [
    {
     "data": {
      "image/png": "[encoded data removed]",
      "text/plain": [
       "<Figure size 864x504 with 1 Axes>"
      ]
     },
     "metadata": {
      "needs_background": "light"
     },
     "output_type": "display_data"
    }
   ],
   "source": [
    "air_gas(air_alton,\"Alton\",air_SantaAna,\"Santa Ana\",\"Ethyne (E)\")"
   ]
  },
  {
   "cell_type": "markdown",
   "metadata": {},
   "source": [
    "### Ethene and CO2 are related to vehicle emissions. Are they related?"
   ]
  },
  {
   "cell_type": "code",
   "execution_count": 21,
   "metadata": {},
   "outputs": [],
   "source": [
    "def gases_correlate(site,sitename,gas1,gas2):\n",
    "    site = site.dropna(subset = [gas1,gas2])#in case there are any nans\n",
    "    X = site[gas1]\n",
    "    Y = site[gas2]\n",
    "    X = sm.add_constant(X)\n",
    "    model = sm.OLS(Y, X).fit()\n",
    "    predictions = model.predict(X)\n",
    "    \n",
    "    #plot the relationship\n",
    "    plt.plot(X[gas1],predictions,\"k--\")\n",
    "    plt.scatter(site[gas1],site[gas2],label=sitename)\n",
    "    plt.xlabel(gas1)\n",
    "    plt.ylabel(gas2)\n",
    "    plt.legend()\n",
    "    print(model.params)"
   ]
  },
  {
   "cell_type": "code",
   "execution_count": 22,
   "metadata": {},
   "outputs": [
    {
     "name": "stdout",
     "output_type": "stream",
     "text": [
      "const         1825.846539\n",
      "CO2 (ppmv)      -4.036697\n",
      "dtype: float64\n"
     ]
    },
    {
     "data": {
      "image/png": "[encoded data removed]",
      "text/plain": [
       "<Figure size 432x288 with 1 Axes>"
      ]
     },
     "metadata": {
      "needs_background": "light"
     },
     "output_type": "display_data"
    }
   ],
   "source": [
    "gases_correlate(air_alton,\"Alton\",\"CO2 (ppmv)\",\"Ethene (E)\")"
   ]
  },
  {
   "cell_type": "code",
   "execution_count": 23,
   "metadata": {},
   "outputs": [
    {
     "name": "stdout",
     "output_type": "stream",
     "text": [
      "const         54.156936\n",
      "CO2 (ppmv)     0.289069\n",
      "dtype: float64\n"
     ]
    },
    {
     "data": {
      "image/png": "[encoded data removed]",
      "text/plain": [
       "<Figure size 432x288 with 1 Axes>"
      ]
     },
     "metadata": {
      "needs_background": "light"
     },
     "output_type": "display_data"
    }
   ],
   "source": [
    "gases_correlate(air_SantaAna,\"Santa Ana\",\"CO2 (ppmv)\",\"Ethene (E)\")"
   ]
  },
  {
   "cell_type": "markdown",
   "metadata": {},
   "source": [
    "### What about CO and Ethene?"
   ]
  },
  {
   "cell_type": "code",
   "execution_count": 24,
   "metadata": {},
   "outputs": [
    {
     "name": "stdout",
     "output_type": "stream",
     "text": [
      "const        117.432503\n",
      "CO (ppbv)      0.367156\n",
      "dtype: float64\n"
     ]
    },
    {
     "data": {
      "image/png": "[encoded data removed]",
      "text/plain": [
       "<Figure size 432x288 with 1 Axes>"
      ]
     },
     "metadata": {
      "needs_background": "light"
     },
     "output_type": "display_data"
    }
   ],
   "source": [
    "gases_correlate(air_SantaAna,\"Santa Ana\",\"CO (ppbv)\",\"Ethene (E)\")"
   ]
  },
  {
   "cell_type": "code",
   "execution_count": 25,
   "metadata": {},
   "outputs": [
    {
     "name": "stdout",
     "output_type": "stream",
     "text": [
      "const        68.792525\n",
      "CO (ppbv)     0.611048\n",
      "dtype: float64\n"
     ]
    },
    {
     "data": {
      "image/png": "[encoded data removed]",
      "text/plain": [
       "<Figure size 432x288 with 1 Axes>"
      ]
     },
     "metadata": {
      "needs_background": "light"
     },
     "output_type": "display_data"
    }
   ],
   "source": [
    "gases_correlate(air_alton,\"alton\",\"CO (ppbv)\",\"Ethene (E)\")"
   ]
  },
  {
   "cell_type": "code",
   "execution_count": 27,
   "metadata": {},
   "outputs": [
    {
     "data": {
      "text/plain": [
       "array([[1.       , 0.3126322],\n",
       "       [0.3126322, 1.       ]])"
      ]
     },
     "execution_count": 27,
     "metadata": {},
     "output_type": "execute_result"
    }
   ],
   "source": [
    "np.corrcoef(air_alton[\"CO (ppbv)\"],air_alton[\"Ethene (E)\"])"
   ]
  },
  {
   "cell_type": "code",
   "execution_count": 28,
   "metadata": {},
   "outputs": [
    {
     "data": {
      "text/plain": [
       "array([[1.        , 0.57936537],\n",
       "       [0.57936537, 1.        ]])"
      ]
     },
     "execution_count": 28,
     "metadata": {},
     "output_type": "execute_result"
    }
   ],
   "source": [
    "np.corrcoef(air_SantaAna[\"CO (ppbv)\"],air_SantaAna[\"Ethene (E)\"])"
   ]
  },
  {
   "cell_type": "code",
   "execution_count": 29,
   "metadata": {},
   "outputs": [
    {
     "data": {
      "text/plain": [
       "array([[ 1.        , -0.15031621],\n",
       "       [-0.15031621,  1.        ]])"
      ]
     },
     "execution_count": 29,
     "metadata": {},
     "output_type": "execute_result"
    }
   ],
   "source": [
    "np.corrcoef(air_alton[\"CO2 (ppmv)\"],air_alton[\"Ethene (E)\"])"
   ]
  },
  {
   "cell_type": "code",
   "execution_count": 30,
   "metadata": {},
   "outputs": [
    {
     "data": {
      "text/plain": [
       "array([[1.        , 0.03440817],\n",
       "       [0.03440817, 1.        ]])"
      ]
     },
     "execution_count": 30,
     "metadata": {},
     "output_type": "execute_result"
    }
   ],
   "source": [
    "np.corrcoef(air_SantaAna[\"CO2 (ppmv)\"],air_SantaAna[\"Ethene (E)\"])"
   ]
  },
  {
   "cell_type": "code",
   "execution_count": null,
   "metadata": {},
   "outputs": [],
   "source": []
  }
 ],
 "metadata": {
  "kernelspec": {
   "display_name": "Python 3",
   "language": "python",
   "name": "python3"
  },
  "language_info": {
   "codemirror_mode": {
    "name": "ipython",
    "version": 3
   },
   "file_extension": ".py",
   "mimetype": "text/x-python",
   "name": "python",
   "nbconvert_exporter": "python",
   "pygments_lexer": "ipython3",
   "version": "3.8.5"
  }
 },
 "nbformat": 4,
 "nbformat_minor": 4
}
