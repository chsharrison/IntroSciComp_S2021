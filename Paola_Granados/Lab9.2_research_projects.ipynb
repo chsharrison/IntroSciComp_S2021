{
 "cells": [
  {
   "cell_type": "markdown",
   "metadata": {},
   "source": [
    "Name"
   ]
  },
  {
   "cell_type": "markdown",
   "metadata": {},
   "source": [
    "Labpartner(s)"
   ]
  },
  {
   "cell_type": "code",
   "execution_count": null,
   "metadata": {},
   "outputs": [],
   "source": [
    "#import statements go here\n"
   ]
  },
  {
   "cell_type": "markdown",
   "metadata": {},
   "source": [
    "# Class 9.2"
   ]
  },
  {
   "cell_type": "markdown",
   "metadata": {},
   "source": [
    "# Warmups 9.2"
   ]
  },
  {
   "cell_type": "markdown",
   "metadata": {},
   "source": [
    "It was so much fun working together on Monday we will do it again. Spend 15 min working on the following and then we will go over it together:"
   ]
  },
  {
   "cell_type": "markdown",
   "metadata": {},
   "source": [
    "**W.1** Write a function that returns the first n consectutive odd intergers (ex: 1,3,5,7,9 for n = 5) using only logical control (i.e. don't use indexing short cuts to make the odd integers, only for or while loops)"
   ]
  },
  {
   "cell_type": "code",
   "execution_count": 26,
   "metadata": {},
   "outputs": [
    {
     "name": "stdout",
     "output_type": "stream",
     "text": [
      "n = 4\n",
      "3\n",
      "[1, 3]\n",
      "3\n",
      "n = 3\n",
      "5\n",
      "[1, 3, 5]\n",
      "5\n",
      "n = 2\n",
      "7\n",
      "[1, 3, 5, 7]\n",
      "7\n",
      "n = 1\n",
      "9\n",
      "[1, 3, 5, 7, 9]\n",
      "9\n"
     ]
    }
   ],
   "source": [
    "# problem: make consecutive odd intergers and put in a function\n",
    "# ex: n = 5, then 1,3,5,7,9\n",
    "\n",
    "# input is going to be n, which I will use for a counter\n",
    "\n",
    "n = 5 # counter, testing\n",
    "\n",
    "start =1 # first number\n",
    "\n",
    "#initialize my list with the first number\n",
    "my_list = [start] # brakets make it a list\n",
    "\n",
    "new_number = start\n",
    "\n",
    "# some kind of loop\n",
    "while n>1:\n",
    "    \n",
    "    # already have one element, so can count down at the beginning\n",
    "    n = n-1 #decrease counter\n",
    "    # n-=1\n",
    "    print('n = ' + str(n))\n",
    "    \n",
    "    # add two to start and keep doing this\n",
    "    next_num= new_number +2 #3\n",
    "    print(next_num)\n",
    "    \n",
    "    # add the resulting number to my_list\n",
    "    #my_list.append(next_num)\n",
    "    my_list = my_list + [next_num]\n",
    "    print(my_list)\n",
    "\n",
    "    # save the last numer in the list to use next time we go through the loop\n",
    "    new_number = next_num #3\n",
    "    print(new_number)\n",
    "\n",
    "\n",
    "\n"
   ]
  },
  {
   "cell_type": "code",
   "execution_count": 28,
   "metadata": {},
   "outputs": [
    {
     "name": "stdout",
     "output_type": "stream",
     "text": [
      "n = 4\n",
      "3\n",
      "[1, 3]\n",
      "n = 3\n",
      "5\n",
      "[1, 3, 5]\n",
      "n = 2\n",
      "7\n",
      "[1, 3, 5, 7]\n",
      "n = 1\n",
      "9\n",
      "[1, 3, 5, 7, 9]\n"
     ]
    }
   ],
   "source": [
    "# problem: make consecutive odd intergers and put in a function\n",
    "# ex: n = 5, then 1,3,5,7,9\n",
    "\n",
    "# input is going to be n, which I will use for a counter\n",
    "\n",
    "n = 5 # counter, testing\n",
    "\n",
    "start =1 # first number\n",
    "\n",
    "#initialize my list with the first number\n",
    "my_list = [start] # brakets make it a list\n",
    "\n",
    "next_num = start\n",
    "\n",
    "# some kind of loop\n",
    "while n>1:\n",
    "    \n",
    "    # already have one element, so can count down at the beginning\n",
    "    n = n-1 #decrease counter\n",
    "    # n-=1\n",
    "    print('n = ' + str(n))\n",
    "    \n",
    "    # add two to start and keep doing this\n",
    "    next_num= next_num +2 #3\n",
    "    print(next_num)\n",
    "    \n",
    "    # add the resulting number to my_list\n",
    "    #my_list.append(next_num)\n",
    "    my_list = my_list + [next_num]\n",
    "    print(my_list)\n",
    "\n"
   ]
  },
  {
   "cell_type": "code",
   "execution_count": 34,
   "metadata": {},
   "outputs": [],
   "source": [
    "# problem: make consecutive odd intergers and put in a function\n",
    "# ex: n = 5, then 1,3,5,7,9\n",
    "\n",
    "# input is going to be n, the number of integers wanted, which I will use for a counter\n",
    "# output is going to be a list of odd integers\n",
    "\n",
    "def oddnumb(counter):\n",
    "    \"\"\" Function to make a list of odd integers starting with one. The counter is the number of integers to return\"\"\"\n",
    "\n",
    "    n = counter # counter, testing\n",
    "\n",
    "    start =1 # first number\n",
    "\n",
    "    #initialize my list with the first number\n",
    "    my_list = [start] # brakets make it a list\n",
    "\n",
    "    next_num = start\n",
    "\n",
    "    # some kind of loop, count down until we have the number of odd intergers we want in the list (countdown)\n",
    "    while n>1:\n",
    "\n",
    "        # already have one element, so can count down at the beginning\n",
    "        n = n-1 #decrease counter\n",
    "        # n-=1\n",
    "        #print('n = ' + str(n))\n",
    "\n",
    "        # add two to start and keep doing this\n",
    "        next_num= next_num +2 #3\n",
    "        #print(next_num)\n",
    "\n",
    "        # add the resulting number to my_list\n",
    "        #my_list.append(next_num)\n",
    "        my_list = my_list + [next_num]\n",
    "        #print(my_list)\n",
    "        \n",
    "    # return the list of numbers\n",
    "    return my_list"
   ]
  },
  {
   "cell_type": "code",
   "execution_count": 31,
   "metadata": {},
   "outputs": [
    {
     "data": {
      "text/plain": [
       "[1, 3, 5, 7, 9]"
      ]
     },
     "execution_count": 31,
     "metadata": {},
     "output_type": "execute_result"
    }
   ],
   "source": [
    "# now test the function\n",
    "oddnumb(5)"
   ]
  },
  {
   "cell_type": "code",
   "execution_count": 32,
   "metadata": {},
   "outputs": [
    {
     "data": {
      "text/plain": [
       "[1]"
      ]
     },
     "execution_count": 32,
     "metadata": {},
     "output_type": "execute_result"
    }
   ],
   "source": [
    "oddnumb(-5) # we could put an error statment if we wanted to"
   ]
  },
  {
   "cell_type": "code",
   "execution_count": 33,
   "metadata": {},
   "outputs": [
    {
     "data": {
      "text/plain": [
       "[1, 3, 5, 7, 9, 11, 13, 15, 17, 19]"
      ]
     },
     "execution_count": 33,
     "metadata": {},
     "output_type": "execute_result"
    }
   ],
   "source": [
    "oddnumb(10)"
   ]
  },
  {
   "cell_type": "code",
   "execution_count": null,
   "metadata": {},
   "outputs": [],
   "source": []
  },
  {
   "cell_type": "markdown",
   "metadata": {},
   "source": [
    "#### Scratch"
   ]
  },
  {
   "cell_type": "code",
   "execution_count": 24,
   "metadata": {},
   "outputs": [],
   "source": [
    "# trick to initilize as a list\n",
    "my_list = []"
   ]
  },
  {
   "cell_type": "code",
   "execution_count": 18,
   "metadata": {},
   "outputs": [],
   "source": [
    "my_list = [start]"
   ]
  },
  {
   "cell_type": "code",
   "execution_count": 25,
   "metadata": {},
   "outputs": [
    {
     "data": {
      "text/plain": [
       "list"
      ]
     },
     "execution_count": 25,
     "metadata": {},
     "output_type": "execute_result"
    }
   ],
   "source": [
    "type(my_list)"
   ]
  },
  {
   "cell_type": "code",
   "execution_count": 23,
   "metadata": {},
   "outputs": [
    {
     "name": "stdout",
     "output_type": "stream",
     "text": [
      "[1, 3]\n"
     ]
    }
   ],
   "source": [
    "start =1 # first number\n",
    "#initialize my list with the first number\n",
    "\n",
    "my_list = [start] #define my_list as a list to start with, so we can append things to it\n",
    "#my_list = start \n",
    "\n",
    "next_num = start+2 # 3\n",
    "\n",
    "# add next_num to my_list\n",
    "#my_list.append(next_num)\n",
    "my_list = my_list + [next_num]\n",
    "\n",
    "\n",
    "print(my_list)\n",
    "#print(next_num)"
   ]
  },
  {
   "cell_type": "code",
   "execution_count": 22,
   "metadata": {},
   "outputs": [
    {
     "data": {
      "text/plain": [
       "[4, 5, 7, 8]"
      ]
     },
     "execution_count": 22,
     "metadata": {},
     "output_type": "execute_result"
    }
   ],
   "source": [
    "[4, 5] + [7, 8]"
   ]
  },
  {
   "cell_type": "markdown",
   "metadata": {},
   "source": [
    "**Extra:** Modify your function so that it can start anywhere. That is, add a second input that gives a starting integer. Ex: 7,9,11 for n = 3 and a starting value of 7"
   ]
  },
  {
   "cell_type": "markdown",
   "metadata": {},
   "source": [
    "For Monday: do the extra, do evens, add user input"
   ]
  },
  {
   "cell_type": "markdown",
   "metadata": {},
   "source": [
    "# Lecture 9.2\n",
    "\n",
    "### Agenda:\n",
    "- Research project assignment and what is due this week\n",
    "- Links to previous class githubs are in our github in the resources document in the Course Materials folder: https://github.com/chsharrison/IntroSciComp_S2021/blob/main/Class_materials/resources.md"
   ]
  },
  {
   "cell_type": "markdown",
   "metadata": {},
   "source": [
    "#### Reminders\n",
    "- Many of you need to make up \"show us your functions\" we will do this in office hours or by appointment. I want to make sure everyone gets this function syntax down. See column in BB for above. Many of you need to redo this.\n",
    "- To get tokens for turning in labs or finishing datacamp chapters early, you need to send me and Adrian a message on slack (see instructions I gave you, on blackboard and in previous labs). We won't notice unless you tell us to look."
   ]
  },
  {
   "cell_type": "code",
   "execution_count": null,
   "metadata": {},
   "outputs": [],
   "source": []
  },
  {
   "cell_type": "markdown",
   "metadata": {},
   "source": [
    "### Questions"
   ]
  },
  {
   "cell_type": "code",
   "execution_count": null,
   "metadata": {},
   "outputs": [],
   "source": []
  },
  {
   "cell_type": "code",
   "execution_count": null,
   "metadata": {},
   "outputs": [],
   "source": []
  },
  {
   "cell_type": "markdown",
   "metadata": {},
   "source": [
    "# Lab 9.2"
   ]
  },
  {
   "cell_type": "markdown",
   "metadata": {},
   "source": [
    "**E.1** Complete Data Manipulation with pandas Ch 4 in datacamp.\n"
   ]
  },
  {
   "cell_type": "code",
   "execution_count": null,
   "metadata": {},
   "outputs": [],
   "source": []
  },
  {
   "cell_type": "markdown",
   "metadata": {},
   "source": [
    "**E.2** Make notes for yourself on progamming tecniques and commands you learned in the datacamp chapter above, including examples, comments and explainitory text. You can do this here or in a separate notebook that you link to here. Basically, you are making a cheat sheet for yourself."
   ]
  },
  {
   "cell_type": "markdown",
   "metadata": {},
   "source": [
    "Making a Histogram \n",
    "\n",
    "    dataframe[\"column\"].hist(bins = 5)\n",
    "    \n",
    "Making a Bar Plot \n",
    "\n",
    "    dataframe.plot(kind = \"bar\", title = \"Title\")\n",
    "    \n",
    "Making a Line Plot \n",
    "\n",
    "    dataframe.plot(x = \"x-values\", y = \"y-values\", kind = \"line\")"
   ]
  },
  {
   "cell_type": "markdown",
   "metadata": {},
   "source": [
    "Detecting Missing Values \n",
    "\n",
    "    dataframe.isna()\n",
    "    this detects missing values in all the dataframe, matrix form \n",
    "    \n",
    "    datframe.isna().any()\n",
    "    this tells you whether columns have missing values \n",
    "    \n",
    "    dataframe.isna().sum()\n",
    "    counts missing values"
   ]
  },
  {
   "cell_type": "markdown",
   "metadata": {},
   "source": [
    "Removing missing values \n",
    "\n",
    "    dataframe.dropna()\n",
    "    \n",
    "Replacing missing values \n",
    "\n",
    "    dataframe.fillna(0)"
   ]
  },
  {
   "cell_type": "markdown",
   "metadata": {},
   "source": [
    "Importing CSV to pandas\n",
    "\n",
    "    datframe = pd.read_csv(\"dataframe.csv\")\n",
    "    \n",
    "Dataframe to CSV \n",
    "\n",
    "    new_dataframe.to_csv(\"new_dataframe.csv\")"
   ]
  },
  {
   "cell_type": "markdown",
   "metadata": {},
   "source": [
    "### This week's project:\n",
    "\n",
    "This week you will be doing two things, planning on what grade you will get in this course (due Thursday with lab 9.1) and submitting your research topic (due Sunday with lab 9.2). "
   ]
  },
  {
   "cell_type": "markdown",
   "metadata": {},
   "source": [
    "**E.4** Write a few sentances about what you plan to do for your research project. See tab in BB to turn this in"
   ]
  },
  {
   "cell_type": "code",
   "execution_count": null,
   "metadata": {},
   "outputs": [],
   "source": []
  }
 ],
 "metadata": {
  "kernelspec": {
   "display_name": "Python 3",
   "language": "python",
   "name": "python3"
  },
  "language_info": {
   "codemirror_mode": {
    "name": "ipython",
    "version": 3
   },
   "file_extension": ".py",
   "mimetype": "text/x-python",
   "name": "python",
   "nbconvert_exporter": "python",
   "pygments_lexer": "ipython3",
   "version": "3.8.5"
  }
 },
 "nbformat": 4,
 "nbformat_minor": 5
}
