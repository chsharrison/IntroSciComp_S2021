{
 "cells": [
  {
   "cell_type": "markdown",
   "metadata": {},
   "source": [
    "Name: Paola Granados"
   ]
  },
  {
   "cell_type": "markdown",
   "metadata": {},
   "source": [
    "Lab partner: Adam Sanjar"
   ]
  },
  {
   "cell_type": "markdown",
   "metadata": {},
   "source": [
    "## Instructions\n",
    "\n",
    "For each class, download the lab and have it up and running in Jupyter when we begin the class period. This will allow you to code along with the demonstrations and be ready to go. You will be assigned a lab partner in your breakout room, they are your partner for this lab. Put their name above."
   ]
  },
  {
   "cell_type": "markdown",
   "metadata": {},
   "source": [
    "When you are done with your lab, upload this document to your github folder on the class site. Then submit a url link to the completed lab, along with a screenshot of your completed score for the chapter assigned in datacamp to the assignment tab in Blackboard."
   ]
  },
  {
   "cell_type": "markdown",
   "metadata": {},
   "source": [
    "# Lecture 2.1"
   ]
  },
  {
   "cell_type": "markdown",
   "metadata": {},
   "source": [
    "Lecture Agenda:\n",
    "* more review of indexing (before warmups)\n",
    "* go over syllabus, grading\n",
    "* introduction of assessment exercise\n",
    "* questions"
   ]
  },
  {
   "cell_type": "markdown",
   "metadata": {},
   "source": [
    "A helpful reminder of indexing in python:"
   ]
  },
  {
   "cell_type": "markdown",
   "metadata": {},
   "source": [
    "![](monty_python_index.jpg)"
   ]
  },
  {
   "cell_type": "code",
   "execution_count": 1,
   "metadata": {},
   "outputs": [],
   "source": [
    "title = \"Monty Python\""
   ]
  },
  {
   "cell_type": "code",
   "execution_count": 2,
   "metadata": {},
   "outputs": [
    {
     "name": "stdout",
     "output_type": "stream",
     "text": [
      "Monty\n",
      "Python\n"
     ]
    }
   ],
   "source": [
    "# How do I print out \"Monty\" and \"Python\"?\n",
    "\n",
    "#Monthy\n",
    "print(title[0:5])\n",
    "\n",
    "#Python\n",
    "print(title[6:12])"
   ]
  },
  {
   "cell_type": "code",
   "execution_count": 3,
   "metadata": {},
   "outputs": [
    {
     "name": "stdout",
     "output_type": "stream",
     "text": [
      "Monty\n",
      "Python\n"
     ]
    }
   ],
   "source": [
    "# You don't have to specify the beginning or the end index\n",
    "\n",
    "#Monty\n",
    "print(title[:5])\n",
    "\n",
    "#Python\n",
    "print(title[6:])"
   ]
  },
  {
   "cell_type": "code",
   "execution_count": 4,
   "metadata": {},
   "outputs": [
    {
     "name": "stdout",
     "output_type": "stream",
     "text": [
      "Python\n",
      "Monty\n"
     ]
    }
   ],
   "source": [
    "# How do I print them out using negative indices?\n",
    "\n",
    "#Python\n",
    "print(title[-6:])\n",
    "\n",
    "#Monty\n",
    "print(title[-12:-7])"
   ]
  },
  {
   "cell_type": "markdown",
   "metadata": {},
   "source": [
    "# Warmups 2.1"
   ]
  },
  {
   "cell_type": "markdown",
   "metadata": {},
   "source": [
    "**W.1** Create a list of integers from 1-10. Name the list list1. Print the list"
   ]
  },
  {
   "cell_type": "code",
   "execution_count": 5,
   "metadata": {},
   "outputs": [],
   "source": [
    "list1 = [1, 2, 3, 4, 5, 6, 7, 8, 9, 10]"
   ]
  },
  {
   "cell_type": "markdown",
   "metadata": {},
   "source": [
    "**W.2** Print the first element of list1. Then print the last element of list1 on the next line."
   ]
  },
  {
   "cell_type": "code",
   "execution_count": 6,
   "metadata": {},
   "outputs": [
    {
     "name": "stdout",
     "output_type": "stream",
     "text": [
      "1\n"
     ]
    }
   ],
   "source": [
    "#first element\n",
    "print(list1[0])"
   ]
  },
  {
   "cell_type": "code",
   "execution_count": 7,
   "metadata": {},
   "outputs": [
    {
     "name": "stdout",
     "output_type": "stream",
     "text": [
      "10\n"
     ]
    }
   ],
   "source": [
    "#last element\n",
    "print(list1[-1])"
   ]
  },
  {
   "cell_type": "markdown",
   "metadata": {},
   "source": [
    "**W.3** Print the second element through the ninth element of list1"
   ]
  },
  {
   "cell_type": "code",
   "execution_count": 8,
   "metadata": {},
   "outputs": [
    {
     "name": "stdout",
     "output_type": "stream",
     "text": [
      "[2, 3, 4, 5, 6, 7, 8, 9]\n"
     ]
    }
   ],
   "source": [
    "print(list1[1:9])"
   ]
  },
  {
   "cell_type": "markdown",
   "metadata": {},
   "source": [
    "**W.4** Print the sum of the first and last elements of list1"
   ]
  },
  {
   "cell_type": "code",
   "execution_count": 9,
   "metadata": {},
   "outputs": [
    {
     "name": "stdout",
     "output_type": "stream",
     "text": [
      "11\n"
     ]
    }
   ],
   "source": [
    "print(list1[0]+list1[-1])"
   ]
  },
  {
   "cell_type": "markdown",
   "metadata": {},
   "source": [
    "**W.5** Print the product of the second and third element of list1"
   ]
  },
  {
   "cell_type": "code",
   "execution_count": 10,
   "metadata": {},
   "outputs": [
    {
     "name": "stdout",
     "output_type": "stream",
     "text": [
      "6\n"
     ]
    }
   ],
   "source": [
    "print(list1[1]*list1[2])"
   ]
  },
  {
   "cell_type": "markdown",
   "metadata": {},
   "source": [
    "**W.6** Create a new list of only the even numbers of list1 (using indexing to pull numbers from list1). Name the new list list2. Print list2"
   ]
  },
  {
   "cell_type": "code",
   "execution_count": 11,
   "metadata": {},
   "outputs": [
    {
     "name": "stdout",
     "output_type": "stream",
     "text": [
      "[2, 4, 6, 8, 10]\n"
     ]
    }
   ],
   "source": [
    "list2 = [list1[1],list1[3],list1[5],list1[7],list1[9]]\n",
    "print(list2)"
   ]
  },
  {
   "cell_type": "markdown",
   "metadata": {},
   "source": [
    "**W.7** Print the sum of the fifth element of list1 and the fifth element of list2."
   ]
  },
  {
   "cell_type": "code",
   "execution_count": 12,
   "metadata": {},
   "outputs": [
    {
     "name": "stdout",
     "output_type": "stream",
     "text": [
      "15\n"
     ]
    }
   ],
   "source": [
    "print(list1[4]+list2[4])"
   ]
  },
  {
   "cell_type": "markdown",
   "metadata": {},
   "source": [
    "**W.8** Print the product of the second element of list1 and the second element of list2."
   ]
  },
  {
   "cell_type": "code",
   "execution_count": 13,
   "metadata": {},
   "outputs": [
    {
     "name": "stdout",
     "output_type": "stream",
     "text": [
      "8\n"
     ]
    }
   ],
   "source": [
    "print(list1[1]*list2[1])"
   ]
  },
  {
   "cell_type": "markdown",
   "metadata": {},
   "source": [
    "**W.9** Replace the first element of list1 with the integer 5. Print the list"
   ]
  },
  {
   "cell_type": "code",
   "execution_count": 14,
   "metadata": {},
   "outputs": [
    {
     "name": "stdout",
     "output_type": "stream",
     "text": [
      "[5, 2, 3, 4, 5, 6, 7, 8, 9, 10]\n"
     ]
    }
   ],
   "source": [
    "list1[0]=5\n",
    "print(list1)"
   ]
  },
  {
   "cell_type": "markdown",
   "metadata": {},
   "source": [
    "**W.10** Replace the last element of list2 with the integer 5. Print the list"
   ]
  },
  {
   "cell_type": "code",
   "execution_count": 15,
   "metadata": {},
   "outputs": [
    {
     "name": "stdout",
     "output_type": "stream",
     "text": [
      "[2, 4, 6, 8, 5]\n"
     ]
    }
   ],
   "source": [
    "list2[-1]=5\n",
    "print(list2)"
   ]
  },
  {
   "cell_type": "markdown",
   "metadata": {},
   "source": [
    "**W.11** Create a new list that contains list1 and list2. Name the list list3. Print the list."
   ]
  },
  {
   "cell_type": "code",
   "execution_count": 16,
   "metadata": {},
   "outputs": [
    {
     "name": "stdout",
     "output_type": "stream",
     "text": [
      "[5, 2, 3, 4, 5, 6, 7, 8, 9, 10, 2, 4, 6, 8, 5]\n"
     ]
    }
   ],
   "source": [
    "list3 = list1+list2\n",
    "print(list3)"
   ]
  },
  {
   "cell_type": "markdown",
   "metadata": {},
   "source": [
    "**W.12** Create a list named list4 which contains list3 + a list of strings containing your full name."
   ]
  },
  {
   "cell_type": "code",
   "execution_count": 17,
   "metadata": {},
   "outputs": [
    {
     "name": "stdout",
     "output_type": "stream",
     "text": [
      "[5, 2, 3, 4, 5, 6, 7, 8, 9, 10, 2, 4, 6, 8, 5, 'Paola', 'Granados']\n"
     ]
    }
   ],
   "source": [
    "list4 = list3 + [\"Paola\",\"Granados\"]\n",
    "print(list4)"
   ]
  },
  {
   "cell_type": "markdown",
   "metadata": {},
   "source": [
    "**W.13** Using the commands who and whos, print out lists of all of the variables you just created"
   ]
  },
  {
   "cell_type": "code",
   "execution_count": 18,
   "metadata": {},
   "outputs": [
    {
     "name": "stdout",
     "output_type": "stream",
     "text": [
      "list1\t list2\t list3\t list4\t title\t \n"
     ]
    }
   ],
   "source": [
    "who"
   ]
  },
  {
   "cell_type": "code",
   "execution_count": 19,
   "metadata": {},
   "outputs": [
    {
     "name": "stdout",
     "output_type": "stream",
     "text": [
      "Variable   Type    Data/Info\n",
      "----------------------------\n",
      "list1      list    n=10\n",
      "list2      list    n=5\n",
      "list3      list    n=15\n",
      "list4      list    n=17\n",
      "title      str     Monty Python\n"
     ]
    }
   ],
   "source": [
    "whos"
   ]
  },
  {
   "cell_type": "code",
   "execution_count": 20,
   "metadata": {},
   "outputs": [
    {
     "name": "stdout",
     "output_type": "stream",
     "text": [
      "[5, 2, 3, 4, 5, 6, 7, 8, 9, 10]\n",
      "[2, 4, 6, 8, 5]\n",
      "[5, 2, 3, 4, 5, 6, 7, 8, 9, 10, 2, 4, 6, 8, 5]\n",
      "[5, 2, 3, 4, 5, 6, 7, 8, 9, 10, 2, 4, 6, 8, 5, 'Paola', 'Granados']\n"
     ]
    }
   ],
   "source": [
    "print(list1)\n",
    "print(list2)\n",
    "print(list3)\n",
    "print(list4)"
   ]
  },
  {
   "cell_type": "markdown",
   "metadata": {},
   "source": [
    "**W.14** Now restart your notebook kernel and try printing out the list of variables again. What happened? Explain. "
   ]
  },
  {
   "cell_type": "markdown",
   "metadata": {},
   "source": [
    "    An error ocurred, which didn't allow the lists to be printed again. This happened because when you restart the notebook, you kind of clear the memory of the notebook. This means that when you restart the notebook, there are no variables saved, and you would have to rerun each kernel to store the variables."
   ]
  },
  {
   "cell_type": "markdown",
   "metadata": {},
   "source": [
    "**W.15** Rerun the cells above to get your variables back, you will need them in the lab below"
   ]
  },
  {
   "cell_type": "markdown",
   "metadata": {},
   "source": [
    "# Lab 2.1"
   ]
  },
  {
   "cell_type": "markdown",
   "metadata": {},
   "source": [
    "**E.1** Complete Ch 3 of Introduction to Python in datacamp: Functions and Packages"
   ]
  },
  {
   "cell_type": "markdown",
   "metadata": {},
   "source": [
    "**E.2** Explain what a function is and how you use one. Give an example."
   ]
  },
  {
   "cell_type": "markdown",
   "metadata": {},
   "source": [
    "    A function is a set of code that already has a predisposed task for it to do. For example, type() is a function that will return the type a variable is, once the variable is inputted. Another example is round() as it is set to round the inputted number. "
   ]
  },
  {
   "cell_type": "markdown",
   "metadata": {},
   "source": [
    "**E.3** How do you get help with a function? Give an example. Explain what the help file is saying"
   ]
  },
  {
   "cell_type": "markdown",
   "metadata": {},
   "source": [
    "    To get help with a function, you can ask python for help. Running help() with whatever element you want more information inputted will return information on the function"
   ]
  },
  {
   "cell_type": "code",
   "execution_count": 21,
   "metadata": {},
   "outputs": [
    {
     "name": "stdout",
     "output_type": "stream",
     "text": [
      "Help on built-in function round in module builtins:\n",
      "\n",
      "round(number, ndigits=None)\n",
      "    Round a number to a given precision in decimal digits.\n",
      "    \n",
      "    The return value is an integer if ndigits is omitted or None.  Otherwise\n",
      "    the return value has the same type as the number.  ndigits may be negative.\n",
      "\n"
     ]
    }
   ],
   "source": [
    "#Example - Getting help for round()\n",
    "help(round)"
   ]
  },
  {
   "cell_type": "markdown",
   "metadata": {},
   "source": [
    "**E.4** What is a method? How is it different from a function? Demonstrate"
   ]
  },
  {
   "cell_type": "markdown",
   "metadata": {},
   "source": [
    "    A method is a function that belongs to a specific object. It is different from a function in that a method is specific to a variable type, and method for one variable type, for example list, may not be found in a method for a different type of variable, for example a string. "
   ]
  },
  {
   "cell_type": "code",
   "execution_count": 22,
   "metadata": {},
   "outputs": [
    {
     "name": "stdout",
     "output_type": "stream",
     "text": [
      "[3, 4, 5, 6, 7]\n"
     ]
    }
   ],
   "source": [
    "#using method .append for a list\n",
    "list = [3, 4, 5, 6]\n",
    "list.append(7)\n",
    "print(list)"
   ]
  },
  {
   "cell_type": "code",
   "execution_count": 23,
   "metadata": {},
   "outputs": [
    {
     "ename": "AttributeError",
     "evalue": "'str' object has no attribute 'append'",
     "output_type": "error",
     "traceback": [
      "\u001b[1;31m---------------------------------------------------------------------------\u001b[0m",
      "\u001b[1;31mAttributeError\u001b[0m                            Traceback (most recent call last)",
      "\u001b[1;32m<ipython-input-23-ede6e71328d7>\u001b[0m in \u001b[0;36m<module>\u001b[1;34m\u001b[0m\n\u001b[0;32m      1\u001b[0m \u001b[1;31m#trying the same method .append for a string\u001b[0m\u001b[1;33m\u001b[0m\u001b[1;33m\u001b[0m\u001b[1;33m\u001b[0m\u001b[0m\n\u001b[0;32m      2\u001b[0m \u001b[0mstring\u001b[0m \u001b[1;33m=\u001b[0m \u001b[1;34m\"string\"\u001b[0m\u001b[1;33m\u001b[0m\u001b[1;33m\u001b[0m\u001b[0m\n\u001b[1;32m----> 3\u001b[1;33m \u001b[0mstring\u001b[0m\u001b[1;33m.\u001b[0m\u001b[0mappend\u001b[0m\u001b[1;33m(\u001b[0m\u001b[1;36m7\u001b[0m\u001b[1;33m)\u001b[0m\u001b[1;33m\u001b[0m\u001b[1;33m\u001b[0m\u001b[0m\n\u001b[0m\u001b[0;32m      4\u001b[0m \u001b[1;31m#error message states that str object has no attribute append\u001b[0m\u001b[1;33m\u001b[0m\u001b[1;33m\u001b[0m\u001b[1;33m\u001b[0m\u001b[0m\n",
      "\u001b[1;31mAttributeError\u001b[0m: 'str' object has no attribute 'append'"
     ]
    }
   ],
   "source": [
    "#trying the same method .append for a string\n",
    "string = \"string\"\n",
    "string.append(7)\n",
    "#error message states that str object has no attribute append"
   ]
  },
  {
   "cell_type": "markdown",
   "metadata": {},
   "source": [
    "**E.5** Find the maximum value of one of the lists you created in the warmup exercise two ways, using both a function and a method."
   ]
  },
  {
   "cell_type": "code",
   "execution_count": 24,
   "metadata": {},
   "outputs": [
    {
     "data": {
      "text/plain": [
       "10"
      ]
     },
     "execution_count": 24,
     "metadata": {},
     "output_type": "execute_result"
    }
   ],
   "source": [
    "#Using a function to determine max of list1\n",
    "max(list1)"
   ]
  },
  {
   "cell_type": "code",
   "execution_count": 25,
   "metadata": {},
   "outputs": [
    {
     "name": "stdout",
     "output_type": "stream",
     "text": [
      "[2, 3, 4, 5, 5, 6, 7, 8, 9, 10]\n"
     ]
    }
   ],
   "source": [
    "#using a method\n",
    "# sort method is used to sort list values from least to greatest\n",
    "list1.sort()\n",
    "print(list1)\n",
    "#10 is the greatest one, therefore the maximum value"
   ]
  },
  {
   "cell_type": "markdown",
   "metadata": {},
   "source": [
    "**E.6** Repeat W.12 using a method"
   ]
  },
  {
   "cell_type": "code",
   "execution_count": 26,
   "metadata": {},
   "outputs": [
    {
     "name": "stdout",
     "output_type": "stream",
     "text": [
      "[5, 2, 3, 4, 5, 6, 7, 8, 9, 10, 2, 4, 6, 8, 5, 'Paola', 'Granados']\n"
     ]
    }
   ],
   "source": [
    "list3.append(\"Paola\")\n",
    "list3.append(\"Granados\")\n",
    "print(list3)"
   ]
  },
  {
   "cell_type": "markdown",
   "metadata": {},
   "source": [
    "**E.7** What is a python package?"
   ]
  },
  {
   "cell_type": "markdown",
   "metadata": {},
   "source": [
    "    A python package is a directory of python scripts. Each python script has a set of modules, which specify new functions, methods, and types you can use. "
   ]
  },
  {
   "cell_type": "markdown",
   "metadata": {},
   "source": [
    "In the anaconda .distribution you all have, most of the packages you will need are already installed. Later on, we will go over how to add more packages"
   ]
  },
  {
   "cell_type": "markdown",
   "metadata": {},
   "source": [
    "**E.8** What do you need to do to be able to use an installed package in your code? Give an example here."
   ]
  },
  {
   "cell_type": "markdown",
   "metadata": {},
   "source": [
    "    To instus an installed package, you have to call it out in your code every time you want to use it. You will use import ________ with the name of the package to call it out. "
   ]
  },
  {
   "cell_type": "markdown",
   "metadata": {},
   "source": [
    "**E.9** Import numpy and define an array version of list1 in W.1:   array1."
   ]
  },
  {
   "cell_type": "code",
   "execution_count": 27,
   "metadata": {},
   "outputs": [
    {
     "data": {
      "text/plain": [
       "array([ 1,  2,  3,  4,  5,  6,  7,  8,  9, 10])"
      ]
     },
     "execution_count": 27,
     "metadata": {},
     "output_type": "execute_result"
    }
   ],
   "source": [
    "import numpy as np \n",
    "array1 = np.array([1,2,3,4,5,6,7,8,9,10])\n",
    "array1"
   ]
  },
  {
   "cell_type": "markdown",
   "metadata": {},
   "source": [
    "**E.10** Repeat W.2-W.6 using arrays"
   ]
  },
  {
   "cell_type": "code",
   "execution_count": 28,
   "metadata": {},
   "outputs": [
    {
     "data": {
      "text/plain": [
       "1"
      ]
     },
     "execution_count": 28,
     "metadata": {},
     "output_type": "execute_result"
    }
   ],
   "source": [
    "#W.2 Print the first element of array1, then print the last element of array1\n",
    "array1[0]"
   ]
  },
  {
   "cell_type": "code",
   "execution_count": 29,
   "metadata": {},
   "outputs": [
    {
     "data": {
      "text/plain": [
       "10"
      ]
     },
     "execution_count": 29,
     "metadata": {},
     "output_type": "execute_result"
    }
   ],
   "source": [
    "array1[-1]"
   ]
  },
  {
   "cell_type": "code",
   "execution_count": 30,
   "metadata": {},
   "outputs": [
    {
     "data": {
      "text/plain": [
       "array([2, 3, 4, 5, 6, 7, 8, 9])"
      ]
     },
     "execution_count": 30,
     "metadata": {},
     "output_type": "execute_result"
    }
   ],
   "source": [
    "#W.3  Print the second element through the ninth element\n",
    "array1[1:9]"
   ]
  },
  {
   "cell_type": "code",
   "execution_count": 31,
   "metadata": {},
   "outputs": [
    {
     "data": {
      "text/plain": [
       "11"
      ]
     },
     "execution_count": 31,
     "metadata": {},
     "output_type": "execute_result"
    }
   ],
   "source": [
    "#W.4 Print the sum of the first and last elements\n",
    "array1[0]+array1[-1]"
   ]
  },
  {
   "cell_type": "code",
   "execution_count": 32,
   "metadata": {},
   "outputs": [
    {
     "data": {
      "text/plain": [
       "6"
      ]
     },
     "execution_count": 32,
     "metadata": {},
     "output_type": "execute_result"
    }
   ],
   "source": [
    "#W.5 Print the product of the second and third element\n",
    "array1[1]*array1[2]"
   ]
  },
  {
   "cell_type": "code",
   "execution_count": 33,
   "metadata": {},
   "outputs": [
    {
     "data": {
      "text/plain": [
       "array([ 2,  4,  6,  8, 10])"
      ]
     },
     "execution_count": 33,
     "metadata": {},
     "output_type": "execute_result"
    }
   ],
   "source": [
    "#W.6 Create a new array of only the even numbers of array1 Name the new array array2\n",
    "array2 = np.array([array1[1],array1[3],array1[5],array1[7],array1[9]])\n",
    "array2"
   ]
  },
  {
   "cell_type": "code",
   "execution_count": null,
   "metadata": {},
   "outputs": [],
   "source": []
  },
  {
   "cell_type": "markdown",
   "metadata": {},
   "source": [
    "### Practice "
   ]
  },
  {
   "cell_type": "code",
   "execution_count": 34,
   "metadata": {},
   "outputs": [],
   "source": [
    "listp = [4,2,9,1,5,1,8]"
   ]
  },
  {
   "cell_type": "markdown",
   "metadata": {},
   "source": [
    "Practice using functions "
   ]
  },
  {
   "cell_type": "code",
   "execution_count": 35,
   "metadata": {},
   "outputs": [
    {
     "data": {
      "text/plain": [
       "9"
      ]
     },
     "execution_count": 35,
     "metadata": {},
     "output_type": "execute_result"
    }
   ],
   "source": [
    "# max function selects the max value\n",
    "max(listp)"
   ]
  },
  {
   "cell_type": "code",
   "execution_count": 36,
   "metadata": {},
   "outputs": [
    {
     "data": {
      "text/plain": [
       "1"
      ]
     },
     "execution_count": 36,
     "metadata": {},
     "output_type": "execute_result"
    }
   ],
   "source": [
    "#min function\n",
    "min(listp)"
   ]
  },
  {
   "cell_type": "code",
   "execution_count": 37,
   "metadata": {},
   "outputs": [
    {
     "data": {
      "text/plain": [
       "7"
      ]
     },
     "execution_count": 37,
     "metadata": {},
     "output_type": "execute_result"
    }
   ],
   "source": [
    "# len function gives the length of an object\n",
    "len(listp)"
   ]
  },
  {
   "cell_type": "code",
   "execution_count": 38,
   "metadata": {},
   "outputs": [
    {
     "data": {
      "text/plain": [
       "{'__name__': '__main__',\n",
       " '__doc__': 'Automatically created module for IPython interactive environment',\n",
       " '__package__': None,\n",
       " '__loader__': None,\n",
       " '__spec__': None,\n",
       " '__builtin__': <module 'builtins' (built-in)>,\n",
       " '__builtins__': <module 'builtins' (built-in)>,\n",
       " '_ih': ['',\n",
       "  'title = \"Monty Python\"',\n",
       "  '# How do I print out \"Monty\" and \"Python\"?\\n\\n#Monthy\\nprint(title[0:5])\\n\\n#Python\\nprint(title[6:12])',\n",
       "  \"# You don't have to specify the beginning or the end index\\n\\n#Monty\\nprint(title[:5])\\n\\n#Python\\nprint(title[6:])\",\n",
       "  '# How do I print them out using negative indices?\\n\\n#Python\\nprint(title[-6:])\\n\\n#Monty\\nprint(title[-12:-7])',\n",
       "  'list1 = [1, 2, 3, 4, 5, 6, 7, 8, 9, 10]',\n",
       "  '#first element\\nprint(list1[0])',\n",
       "  '#last element\\nprint(list1[-1])',\n",
       "  'print(list1[1:9])',\n",
       "  'print(list1[0]+list1[-1])',\n",
       "  'print(list1[1]*list1[2])',\n",
       "  'list2 = [list1[1],list1[3],list1[5],list1[7],list1[9]]\\nprint(list2)',\n",
       "  'print(list1[4]+list2[4])',\n",
       "  'print(list1[1]*list2[1])',\n",
       "  'list1[0]=5\\nprint(list1)',\n",
       "  'list2[-1]=5\\nprint(list2)',\n",
       "  'list3 = list1+list2\\nprint(list3)',\n",
       "  'list4 = list3 + [\"Paola\",\"Granados\"]\\nprint(list4)',\n",
       "  \"get_ipython().run_line_magic('who', '')\",\n",
       "  \"get_ipython().run_line_magic('whos', '')\",\n",
       "  'print(list1)\\nprint(list2)\\nprint(list3)\\nprint(list4)',\n",
       "  '#Example - Getting help for round()\\nhelp(round)',\n",
       "  '#using method .append for a list\\nlist = [3, 4, 5, 6]\\nlist.append(7)\\nprint(list)',\n",
       "  '#trying the same method .append for a string\\nstring = \"string\"\\nstring.append(7)\\n#error message states that str object has no attribute append',\n",
       "  '#Using a function to determine max of list1\\nmax(list1)',\n",
       "  '#using a method\\n# sort method is used to sort list values from least to greatest\\nlist1.sort()\\nprint(list1)\\n#10 is the greatest one, therefore the maximum value',\n",
       "  'list3.append(\"Paola\")\\nlist3.append(\"Granados\")\\nprint(list3)',\n",
       "  'import numpy as np \\narray1 = np.array([1,2,3,4,5,6,7,8,9,10])\\narray1',\n",
       "  '#W.2 Print the first element of array1, then print the last element of array1\\narray1[0]',\n",
       "  'array1[-1]',\n",
       "  '#W.3  Print the second element through the ninth element\\narray1[1:9]',\n",
       "  '#W.4 Print the sum of the first and last elements\\narray1[0]+array1[-1]',\n",
       "  '#W.5 Print the product of the second and third element\\narray1[1]*array1[2]',\n",
       "  '#W.6 Create a new array of only the even numbers of array1 Name the new array array2\\narray2 = np.array([array1[1],array1[3],array1[5],array1[7],array1[9]])\\narray2',\n",
       "  'listp = [4,2,9,1,5,1,8]',\n",
       "  '# max function selects the max value\\nmax(listp)',\n",
       "  '#min function\\nmin(listp)',\n",
       "  '# len function gives the length of an object\\nlen(listp)',\n",
       "  '#locals returns the current local symbol table \\nlocals()'],\n",
       " '_oh': {24: 10,\n",
       "  27: array([ 1,  2,  3,  4,  5,  6,  7,  8,  9, 10]),\n",
       "  28: 1,\n",
       "  29: 10,\n",
       "  30: array([2, 3, 4, 5, 6, 7, 8, 9]),\n",
       "  31: 11,\n",
       "  32: 6,\n",
       "  33: array([ 2,  4,  6,  8, 10]),\n",
       "  35: 9,\n",
       "  36: 1,\n",
       "  37: 7},\n",
       " '_dh': ['C:\\\\Users\\\\Pgran\\\\Documents\\\\Python Scripts\\\\Untitled Folder'],\n",
       " 'In': ['',\n",
       "  'title = \"Monty Python\"',\n",
       "  '# How do I print out \"Monty\" and \"Python\"?\\n\\n#Monthy\\nprint(title[0:5])\\n\\n#Python\\nprint(title[6:12])',\n",
       "  \"# You don't have to specify the beginning or the end index\\n\\n#Monty\\nprint(title[:5])\\n\\n#Python\\nprint(title[6:])\",\n",
       "  '# How do I print them out using negative indices?\\n\\n#Python\\nprint(title[-6:])\\n\\n#Monty\\nprint(title[-12:-7])',\n",
       "  'list1 = [1, 2, 3, 4, 5, 6, 7, 8, 9, 10]',\n",
       "  '#first element\\nprint(list1[0])',\n",
       "  '#last element\\nprint(list1[-1])',\n",
       "  'print(list1[1:9])',\n",
       "  'print(list1[0]+list1[-1])',\n",
       "  'print(list1[1]*list1[2])',\n",
       "  'list2 = [list1[1],list1[3],list1[5],list1[7],list1[9]]\\nprint(list2)',\n",
       "  'print(list1[4]+list2[4])',\n",
       "  'print(list1[1]*list2[1])',\n",
       "  'list1[0]=5\\nprint(list1)',\n",
       "  'list2[-1]=5\\nprint(list2)',\n",
       "  'list3 = list1+list2\\nprint(list3)',\n",
       "  'list4 = list3 + [\"Paola\",\"Granados\"]\\nprint(list4)',\n",
       "  \"get_ipython().run_line_magic('who', '')\",\n",
       "  \"get_ipython().run_line_magic('whos', '')\",\n",
       "  'print(list1)\\nprint(list2)\\nprint(list3)\\nprint(list4)',\n",
       "  '#Example - Getting help for round()\\nhelp(round)',\n",
       "  '#using method .append for a list\\nlist = [3, 4, 5, 6]\\nlist.append(7)\\nprint(list)',\n",
       "  '#trying the same method .append for a string\\nstring = \"string\"\\nstring.append(7)\\n#error message states that str object has no attribute append',\n",
       "  '#Using a function to determine max of list1\\nmax(list1)',\n",
       "  '#using a method\\n# sort method is used to sort list values from least to greatest\\nlist1.sort()\\nprint(list1)\\n#10 is the greatest one, therefore the maximum value',\n",
       "  'list3.append(\"Paola\")\\nlist3.append(\"Granados\")\\nprint(list3)',\n",
       "  'import numpy as np \\narray1 = np.array([1,2,3,4,5,6,7,8,9,10])\\narray1',\n",
       "  '#W.2 Print the first element of array1, then print the last element of array1\\narray1[0]',\n",
       "  'array1[-1]',\n",
       "  '#W.3  Print the second element through the ninth element\\narray1[1:9]',\n",
       "  '#W.4 Print the sum of the first and last elements\\narray1[0]+array1[-1]',\n",
       "  '#W.5 Print the product of the second and third element\\narray1[1]*array1[2]',\n",
       "  '#W.6 Create a new array of only the even numbers of array1 Name the new array array2\\narray2 = np.array([array1[1],array1[3],array1[5],array1[7],array1[9]])\\narray2',\n",
       "  'listp = [4,2,9,1,5,1,8]',\n",
       "  '# max function selects the max value\\nmax(listp)',\n",
       "  '#min function\\nmin(listp)',\n",
       "  '# len function gives the length of an object\\nlen(listp)',\n",
       "  '#locals returns the current local symbol table \\nlocals()'],\n",
       " 'Out': {24: 10,\n",
       "  27: array([ 1,  2,  3,  4,  5,  6,  7,  8,  9, 10]),\n",
       "  28: 1,\n",
       "  29: 10,\n",
       "  30: array([2, 3, 4, 5, 6, 7, 8, 9]),\n",
       "  31: 11,\n",
       "  32: 6,\n",
       "  33: array([ 2,  4,  6,  8, 10]),\n",
       "  35: 9,\n",
       "  36: 1,\n",
       "  37: 7},\n",
       " 'get_ipython': <bound method InteractiveShell.get_ipython of <ipykernel.zmqshell.ZMQInteractiveShell object at 0x0000020610F86880>>,\n",
       " 'exit': <IPython.core.autocall.ZMQExitAutocall at 0x20610ff86a0>,\n",
       " 'quit': <IPython.core.autocall.ZMQExitAutocall at 0x20610ff86a0>,\n",
       " '_': 7,\n",
       " '__': 1,\n",
       " '___': 9,\n",
       " '_i': '# len function gives the length of an object\\nlen(listp)',\n",
       " '_ii': '#min function\\nmin(listp)',\n",
       " '_iii': '# max function selects the max value\\nmax(listp)',\n",
       " '_i1': 'title = \"Monty Python\"',\n",
       " 'title': 'Monty Python',\n",
       " '_i2': '# How do I print out \"Monty\" and \"Python\"?\\n\\n#Monthy\\nprint(title[0:5])\\n\\n#Python\\nprint(title[6:12])',\n",
       " '_i3': \"# You don't have to specify the beginning or the end index\\n\\n#Monty\\nprint(title[:5])\\n\\n#Python\\nprint(title[6:])\",\n",
       " '_i4': '# How do I print them out using negative indices?\\n\\n#Python\\nprint(title[-6:])\\n\\n#Monty\\nprint(title[-12:-7])',\n",
       " '_i5': 'list1 = [1, 2, 3, 4, 5, 6, 7, 8, 9, 10]',\n",
       " 'list1': [2, 3, 4, 5, 5, 6, 7, 8, 9, 10],\n",
       " '_i6': '#first element\\nprint(list1[0])',\n",
       " '_i7': '#last element\\nprint(list1[-1])',\n",
       " '_i8': 'print(list1[1:9])',\n",
       " '_i9': 'print(list1[0]+list1[-1])',\n",
       " '_i10': 'print(list1[1]*list1[2])',\n",
       " '_i11': 'list2 = [list1[1],list1[3],list1[5],list1[7],list1[9]]\\nprint(list2)',\n",
       " 'list2': [2, 4, 6, 8, 5],\n",
       " '_i12': 'print(list1[4]+list2[4])',\n",
       " '_i13': 'print(list1[1]*list2[1])',\n",
       " '_i14': 'list1[0]=5\\nprint(list1)',\n",
       " '_i15': 'list2[-1]=5\\nprint(list2)',\n",
       " '_i16': 'list3 = list1+list2\\nprint(list3)',\n",
       " 'list3': [5, 2, 3, 4, 5, 6, 7, 8, 9, 10, 2, 4, 6, 8, 5, 'Paola', 'Granados'],\n",
       " '_i17': 'list4 = list3 + [\"Paola\",\"Granados\"]\\nprint(list4)',\n",
       " 'list4': [5, 2, 3, 4, 5, 6, 7, 8, 9, 10, 2, 4, 6, 8, 5, 'Paola', 'Granados'],\n",
       " '_i18': 'who',\n",
       " '_i19': 'whos',\n",
       " '_i20': 'print(list1)\\nprint(list2)\\nprint(list3)\\nprint(list4)',\n",
       " '_i21': '#Example - Getting help for round()\\nhelp(round)',\n",
       " '_i22': '#using method .append for a list\\nlist = [3, 4, 5, 6]\\nlist.append(7)\\nprint(list)',\n",
       " 'list': [3, 4, 5, 6, 7],\n",
       " '_i23': '#trying the same method .append for a string\\nstring = \"string\"\\nstring.append(7)\\n#error message states that str object has no attribute append',\n",
       " 'string': 'string',\n",
       " '_i24': '#Using a function to determine max of list1\\nmax(list1)',\n",
       " '_24': 10,\n",
       " '_i25': '#using a method\\n# sort method is used to sort list values from least to greatest\\nlist1.sort()\\nprint(list1)\\n#10 is the greatest one, therefore the maximum value',\n",
       " '_i26': 'list3.append(\"Paola\")\\nlist3.append(\"Granados\")\\nprint(list3)',\n",
       " '_i27': 'import numpy as np \\narray1 = np.array([1,2,3,4,5,6,7,8,9,10])\\narray1',\n",
       " 'np': <module 'numpy' from 'C:\\\\Users\\\\Pgran\\\\anaconda3\\\\lib\\\\site-packages\\\\numpy\\\\__init__.py'>,\n",
       " 'array1': array([ 1,  2,  3,  4,  5,  6,  7,  8,  9, 10]),\n",
       " '_27': array([ 1,  2,  3,  4,  5,  6,  7,  8,  9, 10]),\n",
       " '_i28': '#W.2 Print the first element of array1, then print the last element of array1\\narray1[0]',\n",
       " '_28': 1,\n",
       " '_i29': 'array1[-1]',\n",
       " '_29': 10,\n",
       " '_i30': '#W.3  Print the second element through the ninth element\\narray1[1:9]',\n",
       " '_30': array([2, 3, 4, 5, 6, 7, 8, 9]),\n",
       " '_i31': '#W.4 Print the sum of the first and last elements\\narray1[0]+array1[-1]',\n",
       " '_31': 11,\n",
       " '_i32': '#W.5 Print the product of the second and third element\\narray1[1]*array1[2]',\n",
       " '_32': 6,\n",
       " '_i33': '#W.6 Create a new array of only the even numbers of array1 Name the new array array2\\narray2 = np.array([array1[1],array1[3],array1[5],array1[7],array1[9]])\\narray2',\n",
       " 'array2': array([ 2,  4,  6,  8, 10]),\n",
       " '_33': array([ 2,  4,  6,  8, 10]),\n",
       " '_i34': 'listp = [4,2,9,1,5,1,8]',\n",
       " 'listp': [4, 2, 9, 1, 5, 1, 8],\n",
       " '_i35': '# max function selects the max value\\nmax(listp)',\n",
       " '_35': 9,\n",
       " '_i36': '#min function\\nmin(listp)',\n",
       " '_36': 1,\n",
       " '_i37': '# len function gives the length of an object\\nlen(listp)',\n",
       " '_37': 7,\n",
       " '_i38': '#locals returns the current local symbol table \\nlocals()'}"
      ]
     },
     "execution_count": 38,
     "metadata": {},
     "output_type": "execute_result"
    }
   ],
   "source": [
    "#locals returns the current local symbol table \n",
    "locals()"
   ]
  },
  {
   "cell_type": "code",
   "execution_count": 39,
   "metadata": {},
   "outputs": [
    {
     "data": {
      "text/plain": [
       "[1, 1, 2, 4, 5, 8, 9]"
      ]
     },
     "execution_count": 39,
     "metadata": {},
     "output_type": "execute_result"
    }
   ],
   "source": [
    "#sorted function\n",
    "sorted(listp)"
   ]
  },
  {
   "cell_type": "markdown",
   "metadata": {},
   "source": [
    "Methods of a list "
   ]
  },
  {
   "cell_type": "code",
   "execution_count": 40,
   "metadata": {},
   "outputs": [
    {
     "name": "stdout",
     "output_type": "stream",
     "text": [
      "Help on list object:\n",
      "\n",
      "class list(object)\n",
      " |  list(iterable=(), /)\n",
      " |  \n",
      " |  Built-in mutable sequence.\n",
      " |  \n",
      " |  If no argument is given, the constructor creates a new empty list.\n",
      " |  The argument must be an iterable if specified.\n",
      " |  \n",
      " |  Methods defined here:\n",
      " |  \n",
      " |  __add__(self, value, /)\n",
      " |      Return self+value.\n",
      " |  \n",
      " |  __contains__(self, key, /)\n",
      " |      Return key in self.\n",
      " |  \n",
      " |  __delitem__(self, key, /)\n",
      " |      Delete self[key].\n",
      " |  \n",
      " |  __eq__(self, value, /)\n",
      " |      Return self==value.\n",
      " |  \n",
      " |  __ge__(self, value, /)\n",
      " |      Return self>=value.\n",
      " |  \n",
      " |  __getattribute__(self, name, /)\n",
      " |      Return getattr(self, name).\n",
      " |  \n",
      " |  __getitem__(...)\n",
      " |      x.__getitem__(y) <==> x[y]\n",
      " |  \n",
      " |  __gt__(self, value, /)\n",
      " |      Return self>value.\n",
      " |  \n",
      " |  __iadd__(self, value, /)\n",
      " |      Implement self+=value.\n",
      " |  \n",
      " |  __imul__(self, value, /)\n",
      " |      Implement self*=value.\n",
      " |  \n",
      " |  __init__(self, /, *args, **kwargs)\n",
      " |      Initialize self.  See help(type(self)) for accurate signature.\n",
      " |  \n",
      " |  __iter__(self, /)\n",
      " |      Implement iter(self).\n",
      " |  \n",
      " |  __le__(self, value, /)\n",
      " |      Return self<=value.\n",
      " |  \n",
      " |  __len__(self, /)\n",
      " |      Return len(self).\n",
      " |  \n",
      " |  __lt__(self, value, /)\n",
      " |      Return self<value.\n",
      " |  \n",
      " |  __mul__(self, value, /)\n",
      " |      Return self*value.\n",
      " |  \n",
      " |  __ne__(self, value, /)\n",
      " |      Return self!=value.\n",
      " |  \n",
      " |  __repr__(self, /)\n",
      " |      Return repr(self).\n",
      " |  \n",
      " |  __reversed__(self, /)\n",
      " |      Return a reverse iterator over the list.\n",
      " |  \n",
      " |  __rmul__(self, value, /)\n",
      " |      Return value*self.\n",
      " |  \n",
      " |  __setitem__(self, key, value, /)\n",
      " |      Set self[key] to value.\n",
      " |  \n",
      " |  __sizeof__(self, /)\n",
      " |      Return the size of the list in memory, in bytes.\n",
      " |  \n",
      " |  append(self, object, /)\n",
      " |      Append object to the end of the list.\n",
      " |  \n",
      " |  clear(self, /)\n",
      " |      Remove all items from list.\n",
      " |  \n",
      " |  copy(self, /)\n",
      " |      Return a shallow copy of the list.\n",
      " |  \n",
      " |  count(self, value, /)\n",
      " |      Return number of occurrences of value.\n",
      " |  \n",
      " |  extend(self, iterable, /)\n",
      " |      Extend list by appending elements from the iterable.\n",
      " |  \n",
      " |  index(self, value, start=0, stop=9223372036854775807, /)\n",
      " |      Return first index of value.\n",
      " |      \n",
      " |      Raises ValueError if the value is not present.\n",
      " |  \n",
      " |  insert(self, index, object, /)\n",
      " |      Insert object before index.\n",
      " |  \n",
      " |  pop(self, index=-1, /)\n",
      " |      Remove and return item at index (default last).\n",
      " |      \n",
      " |      Raises IndexError if list is empty or index is out of range.\n",
      " |  \n",
      " |  remove(self, value, /)\n",
      " |      Remove first occurrence of value.\n",
      " |      \n",
      " |      Raises ValueError if the value is not present.\n",
      " |  \n",
      " |  reverse(self, /)\n",
      " |      Reverse *IN PLACE*.\n",
      " |  \n",
      " |  sort(self, /, *, key=None, reverse=False)\n",
      " |      Sort the list in ascending order and return None.\n",
      " |      \n",
      " |      The sort is in-place (i.e. the list itself is modified) and stable (i.e. the\n",
      " |      order of two equal elements is maintained).\n",
      " |      \n",
      " |      If a key function is given, apply it once to each list item and sort them,\n",
      " |      ascending or descending, according to their function values.\n",
      " |      \n",
      " |      The reverse flag can be set to sort in descending order.\n",
      " |  \n",
      " |  ----------------------------------------------------------------------\n",
      " |  Static methods defined here:\n",
      " |  \n",
      " |  __new__(*args, **kwargs) from builtins.type\n",
      " |      Create and return a new object.  See help(type) for accurate signature.\n",
      " |  \n",
      " |  ----------------------------------------------------------------------\n",
      " |  Data and other attributes defined here:\n",
      " |  \n",
      " |  __hash__ = None\n",
      "\n"
     ]
    }
   ],
   "source": [
    "help(list)"
   ]
  },
  {
   "cell_type": "code",
   "execution_count": 41,
   "metadata": {},
   "outputs": [
    {
     "data": {
      "text/plain": [
       "[9, 8, 5, 4, 2, 1, 1]"
      ]
     },
     "execution_count": 41,
     "metadata": {},
     "output_type": "execute_result"
    }
   ],
   "source": [
    "#sort method - reverse = True makes it from greatest to least\n",
    "listp.sort(reverse=True)\n",
    "listp"
   ]
  },
  {
   "cell_type": "code",
   "execution_count": 42,
   "metadata": {},
   "outputs": [
    {
     "data": {
      "text/plain": [
       "[1, 1, 2, 4, 5, 8, 9]"
      ]
     },
     "execution_count": 42,
     "metadata": {},
     "output_type": "execute_result"
    }
   ],
   "source": [
    "#sort method - reverse = False arranges it from least to greatest\n",
    "listp.sort(reverse=False)\n",
    "listp"
   ]
  },
  {
   "cell_type": "code",
   "execution_count": 45,
   "metadata": {},
   "outputs": [
    {
     "data": {
      "text/plain": [
       "[1, 1, 2, 4, 5, 8, 9, 9, 9, [9, 5, 6]]"
      ]
     },
     "execution_count": 45,
     "metadata": {},
     "output_type": "execute_result"
    }
   ],
   "source": [
    "#append method - adds an item to the list\n",
    "listp.append(9)\n",
    "listp\n",
    "listp.append([9,5,6])\n",
    "listp"
   ]
  },
  {
   "cell_type": "code",
   "execution_count": 46,
   "metadata": {},
   "outputs": [
    {
     "data": {
      "text/plain": [
       "[1, 1, 2, 4, 5, 8, 9, 9, 9]"
      ]
     },
     "execution_count": 46,
     "metadata": {},
     "output_type": "execute_result"
    }
   ],
   "source": [
    "#remove method - remove the first item whose value is equal to x\n",
    "listp.remove([9,5,6])\n",
    "listp"
   ]
  },
  {
   "cell_type": "code",
   "execution_count": 47,
   "metadata": {},
   "outputs": [
    {
     "data": {
      "text/plain": [
       "2"
      ]
     },
     "execution_count": 47,
     "metadata": {},
     "output_type": "execute_result"
    }
   ],
   "source": [
    "#count method - return the number of times x appears\n",
    "listp.count(1)"
   ]
  },
  {
   "cell_type": "markdown",
   "metadata": {},
   "source": [
    "Numpy Arrays "
   ]
  },
  {
   "cell_type": "code",
   "execution_count": 48,
   "metadata": {},
   "outputs": [],
   "source": [
    "#numpy was imported earlier"
   ]
  },
  {
   "cell_type": "code",
   "execution_count": 49,
   "metadata": {},
   "outputs": [
    {
     "data": {
      "text/plain": [
       "array([1, 1, 2, 4, 5, 8, 9, 9, 9])"
      ]
     },
     "execution_count": 49,
     "metadata": {},
     "output_type": "execute_result"
    }
   ],
   "source": [
    "#1D array - making list p into an array \n",
    "arrayp = np.array(listp)\n",
    "arrayp"
   ]
  },
  {
   "cell_type": "code",
   "execution_count": 50,
   "metadata": {},
   "outputs": [],
   "source": [
    "#multiplying arrayp vs multiplying listp"
   ]
  },
  {
   "cell_type": "code",
   "execution_count": 51,
   "metadata": {},
   "outputs": [
    {
     "data": {
      "text/plain": [
       "array([ 2,  2,  4,  8, 10, 16, 18, 18, 18])"
      ]
     },
     "execution_count": 51,
     "metadata": {},
     "output_type": "execute_result"
    }
   ],
   "source": [
    "arrayp*2"
   ]
  },
  {
   "cell_type": "code",
   "execution_count": 52,
   "metadata": {},
   "outputs": [
    {
     "data": {
      "text/plain": [
       "[1, 1, 2, 4, 5, 8, 9, 9, 9, 1, 1, 2, 4, 5, 8, 9, 9, 9]"
      ]
     },
     "execution_count": 52,
     "metadata": {},
     "output_type": "execute_result"
    }
   ],
   "source": [
    "listp*2"
   ]
  },
  {
   "cell_type": "code",
   "execution_count": null,
   "metadata": {},
   "outputs": [],
   "source": []
  },
  {
   "cell_type": "code",
   "execution_count": null,
   "metadata": {},
   "outputs": [],
   "source": []
  }
 ],
 "metadata": {
  "kernelspec": {
   "display_name": "Python 3",
   "language": "python",
   "name": "python3"
  },
  "language_info": {
   "codemirror_mode": {
    "name": "ipython",
    "version": 3
   },
   "file_extension": ".py",
   "mimetype": "text/x-python",
   "name": "python",
   "nbconvert_exporter": "python",
   "pygments_lexer": "ipython3",
   "version": "3.8.5"
  }
 },
 "nbformat": 4,
 "nbformat_minor": 4
}
