{
 "cells": [
  {
   "cell_type": "code",
   "execution_count": 1,
   "metadata": {},
   "outputs": [],
   "source": [
    "import numpy as np \n",
    "import pandas as pd "
   ]
  },
  {
   "cell_type": "markdown",
   "metadata": {},
   "source": [
    "### Dictionaries "
   ]
  },
  {
   "cell_type": "code",
   "execution_count": 2,
   "metadata": {},
   "outputs": [],
   "source": [
    "#create a dictionary \n",
    "tswift = {\"folklore\":[\"cardigan\",\"mirrorball\",\"peace\"],\n",
    "         \"evermore\":[\"willow\",\"ivy\",\"gold rush\"],\n",
    "         \"lover\":[\"cornelia st\",\"daylight\",\"the man\"]}"
   ]
  },
  {
   "cell_type": "code",
   "execution_count": 4,
   "metadata": {},
   "outputs": [
    {
     "data": {
      "text/plain": [
       "dict_keys(['folklore', 'evermore', 'lover'])"
      ]
     },
     "execution_count": 4,
     "metadata": {},
     "output_type": "execute_result"
    }
   ],
   "source": [
    "#checking the keys of our dictionary\n",
    "tswift.keys()"
   ]
  },
  {
   "cell_type": "code",
   "execution_count": 5,
   "metadata": {},
   "outputs": [
    {
     "data": {
      "text/plain": [
       "['willow', 'ivy', 'gold rush']"
      ]
     },
     "execution_count": 5,
     "metadata": {},
     "output_type": "execute_result"
    }
   ],
   "source": [
    "#geting value that belongs to key \n",
    "tswift[\"evermore\"]"
   ]
  },
  {
   "cell_type": "code",
   "execution_count": 6,
   "metadata": {},
   "outputs": [
    {
     "data": {
      "text/plain": [
       "{'folklore': ['cardigan', 'mirrorball', 'peace'],\n",
       " 'evermore': ['willow', 'ivy', 'gold rush'],\n",
       " 'lover': ['cornelia st', 'daylight', 'the man'],\n",
       " 'reputation': ['delicate', 'gorgeous', 'end game']}"
      ]
     },
     "execution_count": 6,
     "metadata": {},
     "output_type": "execute_result"
    }
   ],
   "source": [
    "#add to our dictionary \n",
    "tswift[\"reputation\"]=[\"delicate\",\"gorgeous\",\"end game\"]"
   ]
  },
  {
   "cell_type": "markdown",
   "metadata": {},
   "source": [
    "### Pandas"
   ]
  },
  {
   "cell_type": "code",
   "execution_count": 7,
   "metadata": {},
   "outputs": [
    {
     "data": {
      "text/html": [
       "<div>\n",
       "<style scoped>\n",
       "    .dataframe tbody tr th:only-of-type {\n",
       "        vertical-align: middle;\n",
       "    }\n",
       "\n",
       "    .dataframe tbody tr th {\n",
       "        vertical-align: top;\n",
       "    }\n",
       "\n",
       "    .dataframe thead th {\n",
       "        text-align: right;\n",
       "    }\n",
       "</style>\n",
       "<table border=\"1\" class=\"dataframe\">\n",
       "  <thead>\n",
       "    <tr style=\"text-align: right;\">\n",
       "      <th></th>\n",
       "      <th>folklore</th>\n",
       "      <th>evermore</th>\n",
       "      <th>lover</th>\n",
       "      <th>reputation</th>\n",
       "    </tr>\n",
       "  </thead>\n",
       "  <tbody>\n",
       "    <tr>\n",
       "      <th>0</th>\n",
       "      <td>cardigan</td>\n",
       "      <td>willow</td>\n",
       "      <td>cornelia st</td>\n",
       "      <td>delicate</td>\n",
       "    </tr>\n",
       "    <tr>\n",
       "      <th>1</th>\n",
       "      <td>mirrorball</td>\n",
       "      <td>ivy</td>\n",
       "      <td>daylight</td>\n",
       "      <td>gorgeous</td>\n",
       "    </tr>\n",
       "    <tr>\n",
       "      <th>2</th>\n",
       "      <td>peace</td>\n",
       "      <td>gold rush</td>\n",
       "      <td>the man</td>\n",
       "      <td>end game</td>\n",
       "    </tr>\n",
       "  </tbody>\n",
       "</table>\n",
       "</div>"
      ],
      "text/plain": [
       "     folklore   evermore        lover reputation\n",
       "0    cardigan     willow  cornelia st   delicate\n",
       "1  mirrorball        ivy     daylight   gorgeous\n",
       "2       peace  gold rush      the man   end game"
      ]
     },
     "execution_count": 7,
     "metadata": {},
     "output_type": "execute_result"
    }
   ],
   "source": [
    "#make it into a dataframe \n",
    "tswift_pd = pd.DataFrame(tswift)\n",
    "tswift_pd"
   ]
  },
  {
   "cell_type": "code",
   "execution_count": 14,
   "metadata": {},
   "outputs": [],
   "source": [
    "#add to our dataframe \n",
    "songs = {\"folklore\":16,\"evermore\":15,\"lover\":18,\"reputation\":15}\n",
    "tswift_pd = tswift_pd.append(songs, ignore_index=True)"
   ]
  },
  {
   "cell_type": "code",
   "execution_count": 15,
   "metadata": {},
   "outputs": [
    {
     "data": {
      "text/html": [
       "<div>\n",
       "<style scoped>\n",
       "    .dataframe tbody tr th:only-of-type {\n",
       "        vertical-align: middle;\n",
       "    }\n",
       "\n",
       "    .dataframe tbody tr th {\n",
       "        vertical-align: top;\n",
       "    }\n",
       "\n",
       "    .dataframe thead th {\n",
       "        text-align: right;\n",
       "    }\n",
       "</style>\n",
       "<table border=\"1\" class=\"dataframe\">\n",
       "  <thead>\n",
       "    <tr style=\"text-align: right;\">\n",
       "      <th></th>\n",
       "      <th>folklore</th>\n",
       "      <th>evermore</th>\n",
       "      <th>lover</th>\n",
       "      <th>reputation</th>\n",
       "    </tr>\n",
       "  </thead>\n",
       "  <tbody>\n",
       "    <tr>\n",
       "      <th>0</th>\n",
       "      <td>cardigan</td>\n",
       "      <td>willow</td>\n",
       "      <td>cornelia st</td>\n",
       "      <td>delicate</td>\n",
       "    </tr>\n",
       "    <tr>\n",
       "      <th>1</th>\n",
       "      <td>mirrorball</td>\n",
       "      <td>ivy</td>\n",
       "      <td>daylight</td>\n",
       "      <td>gorgeous</td>\n",
       "    </tr>\n",
       "    <tr>\n",
       "      <th>2</th>\n",
       "      <td>peace</td>\n",
       "      <td>gold rush</td>\n",
       "      <td>the man</td>\n",
       "      <td>end game</td>\n",
       "    </tr>\n",
       "    <tr>\n",
       "      <th>3</th>\n",
       "      <td>16</td>\n",
       "      <td>15</td>\n",
       "      <td>18</td>\n",
       "      <td>15</td>\n",
       "    </tr>\n",
       "  </tbody>\n",
       "</table>\n",
       "</div>"
      ],
      "text/plain": [
       "     folklore   evermore        lover reputation\n",
       "0    cardigan     willow  cornelia st   delicate\n",
       "1  mirrorball        ivy     daylight   gorgeous\n",
       "2       peace  gold rush      the man   end game\n",
       "3          16         15           18         15"
      ]
     },
     "execution_count": 15,
     "metadata": {},
     "output_type": "execute_result"
    }
   ],
   "source": [
    "tswift_pd"
   ]
  },
  {
   "cell_type": "code",
   "execution_count": 16,
   "metadata": {},
   "outputs": [
    {
     "data": {
      "text/html": [
       "<div>\n",
       "<style scoped>\n",
       "    .dataframe tbody tr th:only-of-type {\n",
       "        vertical-align: middle;\n",
       "    }\n",
       "\n",
       "    .dataframe tbody tr th {\n",
       "        vertical-align: top;\n",
       "    }\n",
       "\n",
       "    .dataframe thead th {\n",
       "        text-align: right;\n",
       "    }\n",
       "</style>\n",
       "<table border=\"1\" class=\"dataframe\">\n",
       "  <thead>\n",
       "    <tr style=\"text-align: right;\">\n",
       "      <th></th>\n",
       "      <th>folklore</th>\n",
       "      <th>evermore</th>\n",
       "      <th>lover</th>\n",
       "      <th>reputation</th>\n",
       "    </tr>\n",
       "  </thead>\n",
       "  <tbody>\n",
       "    <tr>\n",
       "      <th>song 1</th>\n",
       "      <td>cardigan</td>\n",
       "      <td>willow</td>\n",
       "      <td>cornelia st</td>\n",
       "      <td>delicate</td>\n",
       "    </tr>\n",
       "    <tr>\n",
       "      <th>song 2</th>\n",
       "      <td>mirrorball</td>\n",
       "      <td>ivy</td>\n",
       "      <td>daylight</td>\n",
       "      <td>gorgeous</td>\n",
       "    </tr>\n",
       "    <tr>\n",
       "      <th>song 3</th>\n",
       "      <td>peace</td>\n",
       "      <td>gold rush</td>\n",
       "      <td>the man</td>\n",
       "      <td>end game</td>\n",
       "    </tr>\n",
       "    <tr>\n",
       "      <th>total songs</th>\n",
       "      <td>16</td>\n",
       "      <td>15</td>\n",
       "      <td>18</td>\n",
       "      <td>15</td>\n",
       "    </tr>\n",
       "  </tbody>\n",
       "</table>\n",
       "</div>"
      ],
      "text/plain": [
       "               folklore   evermore        lover reputation\n",
       "song 1         cardigan     willow  cornelia st   delicate\n",
       "song 2       mirrorball        ivy     daylight   gorgeous\n",
       "song 3            peace  gold rush      the man   end game\n",
       "total songs          16         15           18         15"
      ]
     },
     "execution_count": 16,
     "metadata": {},
     "output_type": "execute_result"
    }
   ],
   "source": [
    "#add row labels \n",
    "row_labels =[\"song 1\",\"song 2\",\"song 3\",\"total songs\"]\n",
    "tswift_pd.index = row_labels\n",
    "tswift_pd"
   ]
  },
  {
   "cell_type": "code",
   "execution_count": 17,
   "metadata": {},
   "outputs": [
    {
     "data": {
      "text/plain": [
       "song 1         cornelia st\n",
       "song 2            daylight\n",
       "song 3             the man\n",
       "total songs             18\n",
       "Name: lover, dtype: object"
      ]
     },
     "execution_count": 17,
     "metadata": {},
     "output_type": "execute_result"
    }
   ],
   "source": [
    "#single brackets creates a series\n",
    "tswift_pd[\"lover\"]"
   ]
  },
  {
   "cell_type": "code",
   "execution_count": 18,
   "metadata": {},
   "outputs": [
    {
     "data": {
      "text/html": [
       "<div>\n",
       "<style scoped>\n",
       "    .dataframe tbody tr th:only-of-type {\n",
       "        vertical-align: middle;\n",
       "    }\n",
       "\n",
       "    .dataframe tbody tr th {\n",
       "        vertical-align: top;\n",
       "    }\n",
       "\n",
       "    .dataframe thead th {\n",
       "        text-align: right;\n",
       "    }\n",
       "</style>\n",
       "<table border=\"1\" class=\"dataframe\">\n",
       "  <thead>\n",
       "    <tr style=\"text-align: right;\">\n",
       "      <th></th>\n",
       "      <th>lover</th>\n",
       "    </tr>\n",
       "  </thead>\n",
       "  <tbody>\n",
       "    <tr>\n",
       "      <th>song 1</th>\n",
       "      <td>cornelia st</td>\n",
       "    </tr>\n",
       "    <tr>\n",
       "      <th>song 2</th>\n",
       "      <td>daylight</td>\n",
       "    </tr>\n",
       "    <tr>\n",
       "      <th>song 3</th>\n",
       "      <td>the man</td>\n",
       "    </tr>\n",
       "    <tr>\n",
       "      <th>total songs</th>\n",
       "      <td>18</td>\n",
       "    </tr>\n",
       "  </tbody>\n",
       "</table>\n",
       "</div>"
      ],
      "text/plain": [
       "                   lover\n",
       "song 1       cornelia st\n",
       "song 2          daylight\n",
       "song 3           the man\n",
       "total songs           18"
      ]
     },
     "execution_count": 18,
     "metadata": {},
     "output_type": "execute_result"
    }
   ],
   "source": [
    "#double brackets creates a dataframe \n",
    "tswift_pd[[\"lover\"]]"
   ]
  },
  {
   "cell_type": "code",
   "execution_count": 19,
   "metadata": {},
   "outputs": [
    {
     "data": {
      "text/html": [
       "<div>\n",
       "<style scoped>\n",
       "    .dataframe tbody tr th:only-of-type {\n",
       "        vertical-align: middle;\n",
       "    }\n",
       "\n",
       "    .dataframe tbody tr th {\n",
       "        vertical-align: top;\n",
       "    }\n",
       "\n",
       "    .dataframe thead th {\n",
       "        text-align: right;\n",
       "    }\n",
       "</style>\n",
       "<table border=\"1\" class=\"dataframe\">\n",
       "  <thead>\n",
       "    <tr style=\"text-align: right;\">\n",
       "      <th></th>\n",
       "      <th>folklore</th>\n",
       "      <th>evermore</th>\n",
       "      <th>lover</th>\n",
       "      <th>reputation</th>\n",
       "    </tr>\n",
       "  </thead>\n",
       "  <tbody>\n",
       "    <tr>\n",
       "      <th>song 2</th>\n",
       "      <td>mirrorball</td>\n",
       "      <td>ivy</td>\n",
       "      <td>daylight</td>\n",
       "      <td>gorgeous</td>\n",
       "    </tr>\n",
       "    <tr>\n",
       "      <th>song 3</th>\n",
       "      <td>peace</td>\n",
       "      <td>gold rush</td>\n",
       "      <td>the man</td>\n",
       "      <td>end game</td>\n",
       "    </tr>\n",
       "  </tbody>\n",
       "</table>\n",
       "</div>"
      ],
      "text/plain": [
       "          folklore   evermore     lover reputation\n",
       "song 2  mirrorball        ivy  daylight   gorgeous\n",
       "song 3       peace  gold rush   the man   end game"
      ]
     },
     "execution_count": 19,
     "metadata": {},
     "output_type": "execute_result"
    }
   ],
   "source": [
    "#select for songs 2 and 3 using iloc\n",
    "tswift_pd.iloc[1:3,:]"
   ]
  },
  {
   "cell_type": "code",
   "execution_count": 22,
   "metadata": {},
   "outputs": [
    {
     "data": {
      "text/html": [
       "<div>\n",
       "<style scoped>\n",
       "    .dataframe tbody tr th:only-of-type {\n",
       "        vertical-align: middle;\n",
       "    }\n",
       "\n",
       "    .dataframe tbody tr th {\n",
       "        vertical-align: top;\n",
       "    }\n",
       "\n",
       "    .dataframe thead th {\n",
       "        text-align: right;\n",
       "    }\n",
       "</style>\n",
       "<table border=\"1\" class=\"dataframe\">\n",
       "  <thead>\n",
       "    <tr style=\"text-align: right;\">\n",
       "      <th></th>\n",
       "      <th>folklore</th>\n",
       "      <th>evermore</th>\n",
       "      <th>lover</th>\n",
       "      <th>reputation</th>\n",
       "    </tr>\n",
       "  </thead>\n",
       "  <tbody>\n",
       "    <tr>\n",
       "      <th>song 2</th>\n",
       "      <td>mirrorball</td>\n",
       "      <td>ivy</td>\n",
       "      <td>daylight</td>\n",
       "      <td>gorgeous</td>\n",
       "    </tr>\n",
       "    <tr>\n",
       "      <th>song 3</th>\n",
       "      <td>peace</td>\n",
       "      <td>gold rush</td>\n",
       "      <td>the man</td>\n",
       "      <td>end game</td>\n",
       "    </tr>\n",
       "  </tbody>\n",
       "</table>\n",
       "</div>"
      ],
      "text/plain": [
       "          folklore   evermore     lover reputation\n",
       "song 2  mirrorball        ivy  daylight   gorgeous\n",
       "song 3       peace  gold rush   the man   end game"
      ]
     },
     "execution_count": 22,
     "metadata": {},
     "output_type": "execute_result"
    }
   ],
   "source": [
    "#select for songs 2 and 3 using loc\n",
    "tswift_pd.loc[[\"song 2\",\"song 3\"],[\"folklore\",\"evermore\",\"lover\",\"reputation\"]]"
   ]
  },
  {
   "cell_type": "code",
   "execution_count": 29,
   "metadata": {},
   "outputs": [],
   "source": [
    "#selecting a row from a dataframe\n",
    "total1=tswift_pd.iloc[3,:]\n",
    "total2=tswift_pd.iloc[[3]]"
   ]
  },
  {
   "cell_type": "code",
   "execution_count": 30,
   "metadata": {},
   "outputs": [
    {
     "data": {
      "text/plain": [
       "16.0"
      ]
     },
     "execution_count": 30,
     "metadata": {},
     "output_type": "execute_result"
    }
   ],
   "source": [
    "#since total1 is a series we can use np.mean to find the avg songs in an album\n",
    "np.mean(total1)"
   ]
  },
  {
   "cell_type": "code",
   "execution_count": 37,
   "metadata": {},
   "outputs": [
    {
     "data": {
      "text/plain": [
       "total songs    16.0\n",
       "dtype: float64"
      ]
     },
     "execution_count": 37,
     "metadata": {},
     "output_type": "execute_result"
    }
   ],
   "source": [
    "#toget the mean from a dataframe we have to use pd.mean \n",
    "total2.mean(1)#1 because row 0 has the keys, row 1 has the total songs"
   ]
  },
  {
   "cell_type": "markdown",
   "metadata": {},
   "source": [
    "### IF Statements"
   ]
  },
  {
   "cell_type": "markdown",
   "metadata": {},
   "source": [
    "Make a calculator that gives you your letter grade "
   ]
  },
  {
   "cell_type": "code",
   "execution_count": 66,
   "metadata": {},
   "outputs": [
    {
     "name": "stdout",
     "output_type": "stream",
     "text": [
      "Grade for test 1: 55\n",
      "Grade for test 2: 65\n",
      "Grade for test 3: 75\n"
     ]
    }
   ],
   "source": [
    "#Input grades for three tests\n",
    "test1 = input(\"Grade for test 1: \")\n",
    "test2 = input(\"Grade for test 2: \")\n",
    "test3 = input(\"Grade for test 3: \")"
   ]
  },
  {
   "cell_type": "code",
   "execution_count": 67,
   "metadata": {},
   "outputs": [],
   "source": [
    "#make test grades int\n",
    "test2 = int(test2)\n",
    "test3 = int(test3)\n",
    "test1 = int(test1)"
   ]
  },
  {
   "cell_type": "code",
   "execution_count": 68,
   "metadata": {},
   "outputs": [],
   "source": [
    "#calculate average of test grades\n",
    "test_avg = (test1+test2+test3)/3"
   ]
  },
  {
   "cell_type": "code",
   "execution_count": 70,
   "metadata": {},
   "outputs": [
    {
     "name": "stdout",
     "output_type": "stream",
     "text": [
      "Your letter grade will be a D\n"
     ]
    }
   ],
   "source": [
    "#If statement to print out your letter grade\n",
    "if test_avg >= 90:\n",
    "    print(\"Your letter grade will be an A\")\n",
    "elif test_avg < 90 and test_avg >= 80:\n",
    "    print(\"Your letter grade will be a B\")\n",
    "elif test_avg < 80 and test_avg >=70:\n",
    "    print(\"Your letter grade will be a C\")\n",
    "else:\n",
    "    print(\"Your letter grade will be a D\")"
   ]
  },
  {
   "cell_type": "code",
   "execution_count": null,
   "metadata": {},
   "outputs": [],
   "source": []
  }
 ],
 "metadata": {
  "kernelspec": {
   "display_name": "Python 3",
   "language": "python",
   "name": "python3"
  },
  "language_info": {
   "codemirror_mode": {
    "name": "ipython",
    "version": 3
   },
   "file_extension": ".py",
   "mimetype": "text/x-python",
   "name": "python",
   "nbconvert_exporter": "python",
   "pygments_lexer": "ipython3",
   "version": "3.8.5"
  }
 },
 "nbformat": 4,
 "nbformat_minor": 4
}
