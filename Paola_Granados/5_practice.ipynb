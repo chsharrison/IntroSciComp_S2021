{
 "cells": [
  {
   "cell_type": "code",
   "execution_count": 1,
   "metadata": {},
   "outputs": [],
   "source": [
    "import numpy as np \n",
    "import pandas as pd\n"
   ]
  },
  {
   "cell_type": "markdown",
   "metadata": {},
   "source": [
    "Write a program to get the Fibonacci series between 0 and 50"
   ]
  },
  {
   "cell_type": "code",
   "execution_count": 12,
   "metadata": {},
   "outputs": [],
   "source": [
    "#setting up the first two numbers\n",
    "x,y = 0,1"
   ]
  },
  {
   "cell_type": "code",
   "execution_count": 13,
   "metadata": {},
   "outputs": [
    {
     "name": "stdout",
     "output_type": "stream",
     "text": [
      "1\n",
      "1\n",
      "2\n",
      "3\n",
      "5\n",
      "8\n",
      "13\n",
      "21\n",
      "34\n"
     ]
    }
   ],
   "source": [
    "while y<50:\n",
    "    print(y)\n",
    "    x,y = y,x+y"
   ]
  },
  {
   "cell_type": "markdown",
   "metadata": {},
   "source": [
    "Practice Exercises from:https://erlerobotics.gitbooks.io/erle-robotics-learning-python-gitbook-free/content/loops/exercises_loops.html"
   ]
  },
  {
   "cell_type": "markdown",
   "metadata": {},
   "source": [
    "Write a program that generates a random number (0-10) and ask you to guess it. You have three asserts."
   ]
  },
  {
   "cell_type": "code",
   "execution_count": 23,
   "metadata": {},
   "outputs": [
    {
     "data": {
      "text/plain": [
       "8"
      ]
     },
     "execution_count": 23,
     "metadata": {},
     "output_type": "execute_result"
    }
   ],
   "source": [
    "#generate a random number \n",
    "rnd = np.random.randint(0,10)\n",
    "rnd"
   ]
  },
  {
   "cell_type": "code",
   "execution_count": 31,
   "metadata": {},
   "outputs": [
    {
     "name": "stdout",
     "output_type": "stream",
     "text": [
      "Enter your guess: 5\n",
      "Enter your guess: 6\n",
      "Enter your guess: 7\n",
      "You lose \n"
     ]
    }
   ],
   "source": [
    "guesses_left = 3 #set up 3 total guesses\n",
    "\n",
    "while guesses_left>0:\n",
    "    guess = int(input(\"Enter your guess: \"))#input your guess\n",
    "    if guess == rnd: #if your guess is equal to random number \n",
    "        print(\"You win!\")#you win \n",
    "        break # ends nearest loop, in this case the previous if statement\n",
    "                #this stops the loop in case you guess the random number\n",
    "    guesses_left-= 1 #subtracts a value from the variable \n",
    "                    #guesses left has tobe outside of the if statement \n",
    "                    #Otherwise it keeps giving you guesses for forever\n",
    "else:\n",
    "    print(\"You lose \")"
   ]
  },
  {
   "cell_type": "code",
   "execution_count": 27,
   "metadata": {},
   "outputs": [
    {
     "name": "stdout",
     "output_type": "stream",
     "text": [
      "The \"break\" statement\n",
      "*********************\n",
      "\n",
      "   break_stmt ::= \"break\"\n",
      "\n",
      "\"break\" may only occur syntactically nested in a \"for\" or \"while\"\n",
      "loop, but not nested in a function or class definition within that\n",
      "loop.\n",
      "\n",
      "It terminates the nearest enclosing loop, skipping the optional \"else\"\n",
      "clause if the loop has one.\n",
      "\n",
      "If a \"for\" loop is terminated by \"break\", the loop control target\n",
      "keeps its current value.\n",
      "\n",
      "When \"break\" passes control out of a \"try\" statement with a \"finally\"\n",
      "clause, that \"finally\" clause is executed before really leaving the\n",
      "loop.\n",
      "\n",
      "Related help topics: while, for\n",
      "\n"
     ]
    }
   ],
   "source": [
    "help(\"break\")"
   ]
  },
  {
   "cell_type": "markdown",
   "metadata": {},
   "source": [
    "Create a loop that prompts the user for a hobby three times then appends each one to hobbies "
   ]
  },
  {
   "cell_type": "code",
   "execution_count": 35,
   "metadata": {},
   "outputs": [],
   "source": [
    "#set up a blank list for hobbies \n",
    "hobbies = []"
   ]
  },
  {
   "cell_type": "code",
   "execution_count": 37,
   "metadata": {},
   "outputs": [
    {
     "name": "stdout",
     "output_type": "stream",
     "text": [
      "Enter hobby:running\n",
      "Enter hobby:hiking\n",
      "Enter hobby:dancing\n",
      "Your hobbies include: running, gardening, and baking\n"
     ]
    }
   ],
   "source": [
    "#for loop \n",
    "for i in range(3):#go through the for loop 3 times\n",
    "    h = input(\"Enter hobby:\")#input one hobby \n",
    "    hobbies.append(h)#hobby is added to list \n",
    "    \n",
    "\n",
    "    \n",
    "print(\"Your hobbies include: \"+str(hobbies[0])+\", \"+str(hobbies[1])+\", and \"+str(hobbies[2]))"
   ]
  },
  {
   "cell_type": "markdown",
   "metadata": {},
   "source": [
    "Write a function called digit_sum that takes a positive integer n as input and returns the sum of all that number's digits."
   ]
  },
  {
   "cell_type": "code",
   "execution_count": 40,
   "metadata": {},
   "outputs": [],
   "source": [
    "def digit_sum(n):#define out function, n will be input number \n",
    "    num = str(n) #convert number into a string \n",
    "    count = 0 #initialize our count\n",
    "    for i in num : #for every number in our string\n",
    "        add = int(i) #add = the number \n",
    "        count = count+add #add the number to the count \n",
    "        \n",
    "    return count"
   ]
  },
  {
   "cell_type": "code",
   "execution_count": 41,
   "metadata": {},
   "outputs": [
    {
     "data": {
      "text/plain": [
       "14"
      ]
     },
     "execution_count": 41,
     "metadata": {},
     "output_type": "execute_result"
    }
   ],
   "source": [
    "digit_sum(356)"
   ]
  },
  {
   "cell_type": "code",
   "execution_count": null,
   "metadata": {},
   "outputs": [],
   "source": []
  }
 ],
 "metadata": {
  "kernelspec": {
   "display_name": "Python 3",
   "language": "python",
   "name": "python3"
  },
  "language_info": {
   "codemirror_mode": {
    "name": "ipython",
    "version": 3
   },
   "file_extension": ".py",
   "mimetype": "text/x-python",
   "name": "python",
   "nbconvert_exporter": "python",
   "pygments_lexer": "ipython3",
   "version": "3.8.5"
  }
 },
 "nbformat": 4,
 "nbformat_minor": 4
}
