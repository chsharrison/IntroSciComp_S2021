{
 "cells": [
  {
   "cell_type": "markdown",
   "metadata": {},
   "source": [
    "Name"
   ]
  },
  {
   "cell_type": "markdown",
   "metadata": {},
   "source": [
    "Labpartner(s)"
   ]
  },
  {
   "cell_type": "code",
   "execution_count": 2,
   "metadata": {},
   "outputs": [],
   "source": [
    "#import statements go here\n",
    "import numpy as np"
   ]
  },
  {
   "cell_type": "markdown",
   "metadata": {},
   "source": [
    "# Class 8.2"
   ]
  },
  {
   "cell_type": "markdown",
   "metadata": {},
   "source": [
    "# Warmups 8.2"
   ]
  },
  {
   "cell_type": "markdown",
   "metadata": {},
   "source": [
    "Music to code loops by (featuring samples of Warf and Geordi from Star Trek TNG). Mobius by Orbital:\n",
    "\n",
    "https://www.youtube.com/watch?v=4PG5PCd284o.\n",
    "\n",
    "(I was this many years old when I learned you could stick a period at the end of the youtube url to suprress the ads, try it)\n",
    "\n",
    "Let's keep practiciing functions and logical control. Raise your hand when you get confused, and look at the suggested solutions, this is tricky stuff to master.\n"
   ]
  },
  {
   "cell_type": "markdown",
   "metadata": {},
   "source": [
    "**W.1** Do Practice Python 28, Max of Three https://www.practicepython.org. \n",
    "\n",
    "Suggested approach: Writing some notes on how you will code something before you begin is really helpful and standard practice. Write some pseudocode to think out the problem before you begin. Here are some examples of this: https://www.unf.edu/~broggio/cop2221/2221pseu.htm  \n",
    "\n",
    "https://www.youtube.com/watch?v=HhBrkpTqzqg\n",
    "\n",
    "We'll do more of this in lab, but give it a shot here."
   ]
  },
  {
   "cell_type": "code",
   "execution_count": null,
   "metadata": {},
   "outputs": [],
   "source": [
    "#Pseudocode\n",
    "\n",
    "#define function:inputs(x,y,z) \n",
    "    #if x > y \n",
    "        #max = x\n",
    "    #elif y > x\n",
    "        #max = y\n",
    "    #if max > z\n",
    "        #max = x\n",
    "    #elif z>max\n",
    "        #max = z\n",
    "    "
   ]
  },
  {
   "cell_type": "code",
   "execution_count": 1,
   "metadata": {},
   "outputs": [],
   "source": [
    "def maxofthree(x,y,z):\n",
    "    if x > y:\n",
    "        max = x\n",
    "    elif y > x:\n",
    "        max = y\n",
    "    if max > z:\n",
    "        max = max\n",
    "    elif z > max:\n",
    "        max = z\n",
    "    return max\n",
    "    "
   ]
  },
  {
   "cell_type": "code",
   "execution_count": 7,
   "metadata": {},
   "outputs": [
    {
     "data": {
      "text/plain": [
       "8"
      ]
     },
     "execution_count": 7,
     "metadata": {},
     "output_type": "execute_result"
    }
   ],
   "source": [
    "#test the function\n",
    "maxofthree(3,2,8)"
   ]
  },
  {
   "cell_type": "code",
   "execution_count": 8,
   "metadata": {},
   "outputs": [
    {
     "data": {
      "text/plain": [
       "22"
      ]
     },
     "execution_count": 8,
     "metadata": {},
     "output_type": "execute_result"
    }
   ],
   "source": [
    "#test the function\n",
    "maxofthree(5,22,10)"
   ]
  },
  {
   "cell_type": "code",
   "execution_count": 9,
   "metadata": {},
   "outputs": [
    {
     "data": {
      "text/plain": [
       "-1"
      ]
     },
     "execution_count": 9,
     "metadata": {},
     "output_type": "execute_result"
    }
   ],
   "source": [
    "#test the function\n",
    "maxofthree(-1,-2,-3)"
   ]
  },
  {
   "cell_type": "markdown",
   "metadata": {},
   "source": [
    "# Lecture 8.2\n",
    "\n",
    "### Agenda:\n",
    "\n",
    "- Syllabus changes\n",
    "- CV Assignement\n",
    "- Questions\n",
    "- (if time) pseudocode example"
   ]
  },
  {
   "cell_type": "markdown",
   "metadata": {},
   "source": [
    "### Syllabus changes"
   ]
  },
  {
   "cell_type": "markdown",
   "metadata": {},
   "source": [
    "New Syllabus is up on BB. Here is the grading changes (changes in **BOLD**)\n",
    "\n",
    "To receive an A grade, students must\n",
    "-\tMeet the specifications for receiving a B grade\n",
    "-\tSatisfactorily complete all advanced labs\n",
    "\n",
    "To receive a B grade, students must\n",
    "-\tMeet the specifications for receiving a C grade\n",
    "-\tSatisfactorily complete **one out of three** advanced labs\n",
    "\n",
    "To pass the course with a C, students must\n",
    "-\tMeet the specifications for receiving a D grade \n",
    "-\tSatisfactorily complete the Linear Regression, Timeseries Analysis and **History of Hacking** labs\n",
    "-\tProvide satisfactory course feedback\n",
    "\n",
    "To pass the course with a D, students must \n",
    "-\tSatisfactorily complete all assigned chapters in datacamp **and the associated labs, as well as Cartopy and Movies lab**\n",
    "-\tSatisfactorily complete all components of the final project\n",
    "\n",
    "Failure to deliver a satisfactory final assignment will result in an F, regardless of other assignments done."
   ]
  },
  {
   "cell_type": "markdown",
   "metadata": {},
   "source": [
    "### New Schedule\n",
    "![](revised_schedule.png)"
   ]
  },
  {
   "cell_type": "markdown",
   "metadata": {},
   "source": [
    "### CV assignment, Word and Zotero integration assignment (turn these in with Lab 8.2)\n",
    "\n",
    "- Demo of Overleaf\n",
    "- Demo of Zotero and Word\n",
    "- Demo of Zotero and Overleaf\n",
    "\n",
    "Assignement:\n",
    "\n",
    "You will make a CV in Overleaf using the LaTex typesetting software. Pick a CV template and modify it to have your info. Make sure you include a picture (required, this is to get you used to the syntax for this). Don't get overwhelmed by all the detailed code, just figure out what you need to modify to put in your information.\n",
    "\n",
    "You will submit a word document that is integrated with zotero and features three references. Submit both the document file, and a screenshot of your zotero account with the references in it.\n",
    "\n",
    "Extra Credit (2 assignment tokens):\n",
    "Integrate Overleaf and Zotero. There are two ways to do this, you can integrate zotero directly into overleaf (but I think they charge for this now) or you can export your citations from zotero as a .bib file and upload this into Overleaf. If you're keen, give it a shot! \n"
   ]
  },
  {
   "cell_type": "code",
   "execution_count": null,
   "metadata": {},
   "outputs": [],
   "source": []
  },
  {
   "cell_type": "code",
   "execution_count": null,
   "metadata": {},
   "outputs": [],
   "source": []
  },
  {
   "cell_type": "markdown",
   "metadata": {},
   "source": [
    "### Questions"
   ]
  },
  {
   "cell_type": "code",
   "execution_count": null,
   "metadata": {},
   "outputs": [],
   "source": []
  },
  {
   "cell_type": "code",
   "execution_count": null,
   "metadata": {},
   "outputs": [],
   "source": []
  },
  {
   "cell_type": "markdown",
   "metadata": {},
   "source": [
    "# Lab 8.2"
   ]
  },
  {
   "cell_type": "markdown",
   "metadata": {},
   "source": [
    "**E.1** Go through the following tutorial on pseudocode and logical control. They are coding in a different language (I think C++). You will translate what they did into python. You can do it!\n",
    "\n",
    "https://www.youtube.com/watch?v=PwGA4Lm8zuE\n",
    "\n",
    "Make sure you write your notes out here with your pseudocode. Take your time and think it through"
   ]
  },
  {
   "cell_type": "markdown",
   "metadata": {},
   "source": [
    "Write a short program that prints each number from 1 to 20 on a new line. \n",
    "    For each multiple of 3, print \"Fizz\"\n",
    "    For each multiple of 5, print \"Buzz\"\n",
    "    For numbers which are multiples of 3 and 5 print \"FizzBUzz\""
   ]
  },
  {
   "cell_type": "code",
   "execution_count": 1,
   "metadata": {},
   "outputs": [],
   "source": [
    "#Pseudocode\n",
    "\n",
    "#FOR loop\n",
    "#For numbers 1-20\n",
    "    #print number\n",
    "    #IF number is divisible by 3 and 5 \n",
    "        #print FizzBuzz\n",
    "    # IF number is divisible by 3\n",
    "        #print Fizz\n",
    "    #IF number is divisible by 5 \n",
    "        #print Buzz\n"
   ]
  },
  {
   "cell_type": "code",
   "execution_count": 11,
   "metadata": {},
   "outputs": [
    {
     "name": "stdout",
     "output_type": "stream",
     "text": [
      "1\n",
      "2\n",
      "3\n",
      "Fizz\n",
      "4\n",
      "5\n",
      "Buzz\n",
      "6\n",
      "Fizz\n",
      "7\n",
      "8\n",
      "9\n",
      "Fizz\n",
      "10\n",
      "Buzz\n",
      "11\n",
      "12\n",
      "Fizz\n",
      "13\n",
      "14\n",
      "15\n",
      "FizzBuzz\n",
      "16\n",
      "17\n",
      "18\n",
      "Fizz\n",
      "19\n",
      "20\n",
      "Buzz\n"
     ]
    }
   ],
   "source": [
    "for x in np.arange(1,21):\n",
    "    print(x)\n",
    "    if x%15 == 0:\n",
    "        print(\"FizzBuzz\")\n",
    "    elif x%3 ==0:\n",
    "        print(\"Fizz\")\n",
    "    elif x%5 == 0:\n",
    "        print(\"Buzz\")"
   ]
  },
  {
   "cell_type": "code",
   "execution_count": 5,
   "metadata": {},
   "outputs": [
    {
     "data": {
      "text/plain": [
       "array([ 1,  2,  3,  4,  5,  6,  7,  8,  9, 10, 11, 12, 13, 14, 15, 16, 17,\n",
       "       18, 19, 20])"
      ]
     },
     "execution_count": 5,
     "metadata": {},
     "output_type": "execute_result"
    }
   ],
   "source": [
    "x = np.arange(1,21)\n",
    "x"
   ]
  },
  {
   "cell_type": "markdown",
   "metadata": {},
   "source": [
    "**E.2** Complete Data Manipulation with pandas Ch 2 in datacamp.\n"
   ]
  },
  {
   "cell_type": "code",
   "execution_count": null,
   "metadata": {},
   "outputs": [],
   "source": []
  },
  {
   "cell_type": "markdown",
   "metadata": {},
   "source": [
    "**E.3** Make notes for yourself on progamming tecniques and commands you learned in the datacamp chapter above, including examples, comments and explainitory text. You can do this here or in a separate notebook that you link to here. Basically, you are making a cheat sheet for yourself."
   ]
  },
  {
   "cell_type": "markdown",
   "metadata": {},
   "source": [
    "Cumulative Sum \n",
    "\n",
    "    Dataframe[\"column\"].cumsum()\n",
    "\n",
    "can also use .cummax() , .cummin(), .cumprod()"
   ]
  },
  {
   "cell_type": "markdown",
   "metadata": {},
   "source": [
    "To avoid double counting:\n",
    "    \n",
    "    dataframe.drop_duplicates(subset = \"column\")"
   ]
  },
  {
   "cell_type": "markdown",
   "metadata": {},
   "source": [
    "To count hoy many of each type/column:\n",
    "\n",
    "    dataframe[\"column\"].value_counts()\n",
    "\n",
    "to do it in proportions:\n",
    "\n",
    "    dataframe[\"column\"].value_counts(normalize = True"
   ]
  },
  {
   "cell_type": "markdown",
   "metadata": {},
   "source": [
    "To get summary bygroups:\n",
    "    \n",
    "    dataframe.groupby(\"column\")[\"value\"].agg([min,max,sum])"
   ]
  },
  {
   "cell_type": "markdown",
   "metadata": {},
   "source": [
    "Pivot Tables:\n",
    "    \n",
    "    dataframe.pivot_table(values=\"value\", index = \"type\")\n",
    "    dataframe.pivot_table(values = \"value\", index = \"type\", columns = \"type2\")"
   ]
  },
  {
   "cell_type": "markdown",
   "metadata": {},
   "source": [
    "### This week's project:\n",
    "\n",
    "This week we will be doing a CV assignment in LaTeX. Make your CV in LaTeX using Overleaf or the LaTeX interface of your choice (Word is not an option!!). You might find a cool template"
   ]
  },
  {
   "cell_type": "code",
   "execution_count": null,
   "metadata": {},
   "outputs": [],
   "source": []
  }
 ],
 "metadata": {
  "kernelspec": {
   "display_name": "Python 3",
   "language": "python",
   "name": "python3"
  },
  "language_info": {
   "codemirror_mode": {
    "name": "ipython",
    "version": 3
   },
   "file_extension": ".py",
   "mimetype": "text/x-python",
   "name": "python",
   "nbconvert_exporter": "python",
   "pygments_lexer": "ipython3",
   "version": "3.8.5"
  }
 },
 "nbformat": 4,
 "nbformat_minor": 5
}
