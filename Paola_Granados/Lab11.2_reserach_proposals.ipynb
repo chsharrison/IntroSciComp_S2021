{
 "cells": [
  {
   "cell_type": "markdown",
   "metadata": {},
   "source": [
    "Name"
   ]
  },
  {
   "cell_type": "markdown",
   "metadata": {},
   "source": [
    "Labpartner(s)"
   ]
  },
  {
   "cell_type": "code",
   "execution_count": 2,
   "metadata": {},
   "outputs": [],
   "source": [
    "#import statements go here\n",
    "import numpy as np \n",
    "import pandas as pd \n",
    "import matplotlib.pyplot as plt "
   ]
  },
  {
   "cell_type": "markdown",
   "metadata": {},
   "source": [
    "# Class 11.2"
   ]
  },
  {
   "cell_type": "markdown",
   "metadata": {},
   "source": [
    "#### Announcements\n",
    "\n",
    "- Please message me and Victoria for coding help on slack, or your lab partners, or just post in the #coding_questions channel and we can all work together (#coding_questions is the best plan, you all often have the same/similar questions, and it makes folks feel good when they can help others). August needs a break and he is too nice to say no.\n",
    "\n",
    "- Lots of cool animations on Monday! If you missed it, watch the recording. Lots of tips on how to make movies easier than I showed you.\n",
    "\n",
    "- Today we are going to have a workday. For lecture I will talk about what makes a good scientific proposal, then you can use the lab period to work on your proposal or what you will. We are skipping the History of Hacking. You can do some research on your own.\n",
    "\n",
    "- Reminder **all labs through Lab 9.2 need to have a satisfactory grade (no zeros) by end of the day Thursday 4/1 (tomorrow) to pass the class.** The last drop date is 4/6. The mastery of this beginning material is needed to complete this course. This includes the functions exercise and the expected grade assignment.\n"
   ]
  },
  {
   "cell_type": "markdown",
   "metadata": {},
   "source": [
    "# Warmups 11.2"
   ]
  },
  {
   "cell_type": "markdown",
   "metadata": {},
   "source": [
    "**W.1. (and finish for practice for this week)**\n",
    "Get the movie dataset from lab 10.2 and load it into pandas. We want to finish what I started, answering the question if gross earnings is related to budget. Pull these two variables out and do a linear regression on them. You will probably have to clean them up by removing NaNs first using the methods you learned in datacamp.\n",
    "Write a sentance or two describing the result of your regression analysis and what it means, that is discuss your results. How confident are you in your model, does budget predict earnings?"
   ]
  },
  {
   "cell_type": "code",
   "execution_count": 3,
   "metadata": {},
   "outputs": [],
   "source": [
    "#importing movies and making it into a dataframe \n",
    "file = \"movies.xls\"\n",
    "movies_sheet1 = pd.read_excel(file, sheet_name=0, index_col=0)\n",
    "movies_sheet2 = pd.read_excel(file, sheet_name=1, index_col=0)\n",
    "movies_sheet3 = pd.read_excel(file, sheet_name=2, index_col=0)\n",
    "movies = pd.concat([movies_sheet1, movies_sheet2, movies_sheet3]) \n",
    "#concatenate sheets to make them into 1 dataframe "
   ]
  },
  {
   "cell_type": "code",
   "execution_count": 4,
   "metadata": {},
   "outputs": [
    {
     "data": {
      "text/html": [
       "<div>\n",
       "<style scoped>\n",
       "    .dataframe tbody tr th:only-of-type {\n",
       "        vertical-align: middle;\n",
       "    }\n",
       "\n",
       "    .dataframe tbody tr th {\n",
       "        vertical-align: top;\n",
       "    }\n",
       "\n",
       "    .dataframe thead th {\n",
       "        text-align: right;\n",
       "    }\n",
       "</style>\n",
       "<table border=\"1\" class=\"dataframe\">\n",
       "  <thead>\n",
       "    <tr style=\"text-align: right;\">\n",
       "      <th></th>\n",
       "      <th>Year</th>\n",
       "      <th>Genres</th>\n",
       "      <th>Language</th>\n",
       "      <th>Country</th>\n",
       "      <th>Content Rating</th>\n",
       "      <th>Duration</th>\n",
       "      <th>Aspect Ratio</th>\n",
       "      <th>Budget</th>\n",
       "      <th>Gross Earnings</th>\n",
       "      <th>Director</th>\n",
       "      <th>...</th>\n",
       "      <th>Facebook Likes - Actor 1</th>\n",
       "      <th>Facebook Likes - Actor 2</th>\n",
       "      <th>Facebook Likes - Actor 3</th>\n",
       "      <th>Facebook Likes - cast Total</th>\n",
       "      <th>Facebook likes - Movie</th>\n",
       "      <th>Facenumber in posters</th>\n",
       "      <th>User Votes</th>\n",
       "      <th>Reviews by Users</th>\n",
       "      <th>Reviews by Crtiics</th>\n",
       "      <th>IMDB Score</th>\n",
       "    </tr>\n",
       "    <tr>\n",
       "      <th>Title</th>\n",
       "      <th></th>\n",
       "      <th></th>\n",
       "      <th></th>\n",
       "      <th></th>\n",
       "      <th></th>\n",
       "      <th></th>\n",
       "      <th></th>\n",
       "      <th></th>\n",
       "      <th></th>\n",
       "      <th></th>\n",
       "      <th></th>\n",
       "      <th></th>\n",
       "      <th></th>\n",
       "      <th></th>\n",
       "      <th></th>\n",
       "      <th></th>\n",
       "      <th></th>\n",
       "      <th></th>\n",
       "      <th></th>\n",
       "      <th></th>\n",
       "      <th></th>\n",
       "    </tr>\n",
       "  </thead>\n",
       "  <tbody>\n",
       "    <tr>\n",
       "      <th>Intolerance: Love's Struggle Throughout the Ages</th>\n",
       "      <td>1916.0</td>\n",
       "      <td>Drama|History|War</td>\n",
       "      <td>NaN</td>\n",
       "      <td>USA</td>\n",
       "      <td>Not Rated</td>\n",
       "      <td>123.0</td>\n",
       "      <td>1.33</td>\n",
       "      <td>385907.0</td>\n",
       "      <td>NaN</td>\n",
       "      <td>D.W. Griffith</td>\n",
       "      <td>...</td>\n",
       "      <td>436.0</td>\n",
       "      <td>22.0</td>\n",
       "      <td>9.0</td>\n",
       "      <td>481</td>\n",
       "      <td>691</td>\n",
       "      <td>1.0</td>\n",
       "      <td>10718</td>\n",
       "      <td>88.0</td>\n",
       "      <td>69.0</td>\n",
       "      <td>8.0</td>\n",
       "    </tr>\n",
       "    <tr>\n",
       "      <th>Over the Hill to the Poorhouse</th>\n",
       "      <td>1920.0</td>\n",
       "      <td>Crime|Drama</td>\n",
       "      <td>NaN</td>\n",
       "      <td>USA</td>\n",
       "      <td>NaN</td>\n",
       "      <td>110.0</td>\n",
       "      <td>1.33</td>\n",
       "      <td>100000.0</td>\n",
       "      <td>3000000.0</td>\n",
       "      <td>Harry F. Millarde</td>\n",
       "      <td>...</td>\n",
       "      <td>2.0</td>\n",
       "      <td>2.0</td>\n",
       "      <td>0.0</td>\n",
       "      <td>4</td>\n",
       "      <td>0</td>\n",
       "      <td>1.0</td>\n",
       "      <td>5</td>\n",
       "      <td>1.0</td>\n",
       "      <td>1.0</td>\n",
       "      <td>4.8</td>\n",
       "    </tr>\n",
       "    <tr>\n",
       "      <th>The Big Parade</th>\n",
       "      <td>1925.0</td>\n",
       "      <td>Drama|Romance|War</td>\n",
       "      <td>NaN</td>\n",
       "      <td>USA</td>\n",
       "      <td>Not Rated</td>\n",
       "      <td>151.0</td>\n",
       "      <td>1.33</td>\n",
       "      <td>245000.0</td>\n",
       "      <td>NaN</td>\n",
       "      <td>King Vidor</td>\n",
       "      <td>...</td>\n",
       "      <td>81.0</td>\n",
       "      <td>12.0</td>\n",
       "      <td>6.0</td>\n",
       "      <td>108</td>\n",
       "      <td>226</td>\n",
       "      <td>0.0</td>\n",
       "      <td>4849</td>\n",
       "      <td>45.0</td>\n",
       "      <td>48.0</td>\n",
       "      <td>8.3</td>\n",
       "    </tr>\n",
       "    <tr>\n",
       "      <th>Metropolis</th>\n",
       "      <td>1927.0</td>\n",
       "      <td>Drama|Sci-Fi</td>\n",
       "      <td>German</td>\n",
       "      <td>Germany</td>\n",
       "      <td>Not Rated</td>\n",
       "      <td>145.0</td>\n",
       "      <td>1.33</td>\n",
       "      <td>6000000.0</td>\n",
       "      <td>26435.0</td>\n",
       "      <td>Fritz Lang</td>\n",
       "      <td>...</td>\n",
       "      <td>136.0</td>\n",
       "      <td>23.0</td>\n",
       "      <td>18.0</td>\n",
       "      <td>203</td>\n",
       "      <td>12000</td>\n",
       "      <td>1.0</td>\n",
       "      <td>111841</td>\n",
       "      <td>413.0</td>\n",
       "      <td>260.0</td>\n",
       "      <td>8.3</td>\n",
       "    </tr>\n",
       "    <tr>\n",
       "      <th>Pandora's Box</th>\n",
       "      <td>1929.0</td>\n",
       "      <td>Crime|Drama|Romance</td>\n",
       "      <td>German</td>\n",
       "      <td>Germany</td>\n",
       "      <td>Not Rated</td>\n",
       "      <td>110.0</td>\n",
       "      <td>1.33</td>\n",
       "      <td>NaN</td>\n",
       "      <td>9950.0</td>\n",
       "      <td>Georg Wilhelm Pabst</td>\n",
       "      <td>...</td>\n",
       "      <td>426.0</td>\n",
       "      <td>20.0</td>\n",
       "      <td>3.0</td>\n",
       "      <td>455</td>\n",
       "      <td>926</td>\n",
       "      <td>1.0</td>\n",
       "      <td>7431</td>\n",
       "      <td>84.0</td>\n",
       "      <td>71.0</td>\n",
       "      <td>8.0</td>\n",
       "    </tr>\n",
       "    <tr>\n",
       "      <th>...</th>\n",
       "      <td>...</td>\n",
       "      <td>...</td>\n",
       "      <td>...</td>\n",
       "      <td>...</td>\n",
       "      <td>...</td>\n",
       "      <td>...</td>\n",
       "      <td>...</td>\n",
       "      <td>...</td>\n",
       "      <td>...</td>\n",
       "      <td>...</td>\n",
       "      <td>...</td>\n",
       "      <td>...</td>\n",
       "      <td>...</td>\n",
       "      <td>...</td>\n",
       "      <td>...</td>\n",
       "      <td>...</td>\n",
       "      <td>...</td>\n",
       "      <td>...</td>\n",
       "      <td>...</td>\n",
       "      <td>...</td>\n",
       "      <td>...</td>\n",
       "    </tr>\n",
       "    <tr>\n",
       "      <th>War &amp; Peace</th>\n",
       "      <td>NaN</td>\n",
       "      <td>Drama|History|Romance|War</td>\n",
       "      <td>English</td>\n",
       "      <td>UK</td>\n",
       "      <td>TV-14</td>\n",
       "      <td>NaN</td>\n",
       "      <td>16.00</td>\n",
       "      <td>NaN</td>\n",
       "      <td>NaN</td>\n",
       "      <td>NaN</td>\n",
       "      <td>...</td>\n",
       "      <td>1000.0</td>\n",
       "      <td>888.0</td>\n",
       "      <td>502.0</td>\n",
       "      <td>4528</td>\n",
       "      <td>11000</td>\n",
       "      <td>1.0</td>\n",
       "      <td>9277</td>\n",
       "      <td>44.0</td>\n",
       "      <td>10.0</td>\n",
       "      <td>8.2</td>\n",
       "    </tr>\n",
       "    <tr>\n",
       "      <th>Wings</th>\n",
       "      <td>NaN</td>\n",
       "      <td>Comedy|Drama</td>\n",
       "      <td>English</td>\n",
       "      <td>USA</td>\n",
       "      <td>NaN</td>\n",
       "      <td>30.0</td>\n",
       "      <td>1.33</td>\n",
       "      <td>NaN</td>\n",
       "      <td>NaN</td>\n",
       "      <td>NaN</td>\n",
       "      <td>...</td>\n",
       "      <td>685.0</td>\n",
       "      <td>511.0</td>\n",
       "      <td>424.0</td>\n",
       "      <td>1884</td>\n",
       "      <td>1000</td>\n",
       "      <td>5.0</td>\n",
       "      <td>7646</td>\n",
       "      <td>56.0</td>\n",
       "      <td>19.0</td>\n",
       "      <td>7.3</td>\n",
       "    </tr>\n",
       "    <tr>\n",
       "      <th>Wolf Creek</th>\n",
       "      <td>NaN</td>\n",
       "      <td>Drama|Horror|Thriller</td>\n",
       "      <td>English</td>\n",
       "      <td>Australia</td>\n",
       "      <td>NaN</td>\n",
       "      <td>NaN</td>\n",
       "      <td>2.00</td>\n",
       "      <td>NaN</td>\n",
       "      <td>NaN</td>\n",
       "      <td>NaN</td>\n",
       "      <td>...</td>\n",
       "      <td>511.0</td>\n",
       "      <td>457.0</td>\n",
       "      <td>206.0</td>\n",
       "      <td>1617</td>\n",
       "      <td>954</td>\n",
       "      <td>0.0</td>\n",
       "      <td>726</td>\n",
       "      <td>6.0</td>\n",
       "      <td>2.0</td>\n",
       "      <td>7.1</td>\n",
       "    </tr>\n",
       "    <tr>\n",
       "      <th>Wuthering Heights</th>\n",
       "      <td>NaN</td>\n",
       "      <td>Drama|Romance</td>\n",
       "      <td>English</td>\n",
       "      <td>UK</td>\n",
       "      <td>NaN</td>\n",
       "      <td>142.0</td>\n",
       "      <td>NaN</td>\n",
       "      <td>NaN</td>\n",
       "      <td>NaN</td>\n",
       "      <td>NaN</td>\n",
       "      <td>...</td>\n",
       "      <td>27000.0</td>\n",
       "      <td>698.0</td>\n",
       "      <td>427.0</td>\n",
       "      <td>29196</td>\n",
       "      <td>0</td>\n",
       "      <td>2.0</td>\n",
       "      <td>6053</td>\n",
       "      <td>33.0</td>\n",
       "      <td>9.0</td>\n",
       "      <td>7.7</td>\n",
       "    </tr>\n",
       "    <tr>\n",
       "      <th>Yu-Gi-Oh! Duel Monsters</th>\n",
       "      <td>NaN</td>\n",
       "      <td>Action|Adventure|Animation|Family|Fantasy</td>\n",
       "      <td>Japanese</td>\n",
       "      <td>Japan</td>\n",
       "      <td>NaN</td>\n",
       "      <td>24.0</td>\n",
       "      <td>NaN</td>\n",
       "      <td>NaN</td>\n",
       "      <td>NaN</td>\n",
       "      <td>NaN</td>\n",
       "      <td>...</td>\n",
       "      <td>0.0</td>\n",
       "      <td>NaN</td>\n",
       "      <td>NaN</td>\n",
       "      <td>0</td>\n",
       "      <td>124</td>\n",
       "      <td>0.0</td>\n",
       "      <td>12417</td>\n",
       "      <td>51.0</td>\n",
       "      <td>6.0</td>\n",
       "      <td>7.0</td>\n",
       "    </tr>\n",
       "  </tbody>\n",
       "</table>\n",
       "<p>5042 rows × 24 columns</p>\n",
       "</div>"
      ],
      "text/plain": [
       "                                                     Year  \\\n",
       "Title                                                       \n",
       "Intolerance: Love's Struggle Throughout the Ages   1916.0   \n",
       "Over the Hill to the Poorhouse                     1920.0   \n",
       "The Big Parade                                     1925.0   \n",
       "Metropolis                                         1927.0   \n",
       "Pandora's Box                                      1929.0   \n",
       "...                                                   ...   \n",
       "War & Peace                                           NaN   \n",
       "Wings                                                 NaN   \n",
       "Wolf Creek                                            NaN   \n",
       "Wuthering Heights                                     NaN   \n",
       "Yu-Gi-Oh! Duel Monsters                               NaN   \n",
       "\n",
       "                                                                                      Genres  \\\n",
       "Title                                                                                          \n",
       "Intolerance: Love's Struggle Throughout the Ages                           Drama|History|War   \n",
       "Over the Hill to the Poorhouse                                                   Crime|Drama   \n",
       "The Big Parade                                                             Drama|Romance|War   \n",
       "Metropolis                                                                      Drama|Sci-Fi   \n",
       "Pandora's Box                                                            Crime|Drama|Romance   \n",
       "...                                                                                      ...   \n",
       "War & Peace                                                        Drama|History|Romance|War   \n",
       "Wings                                                                           Comedy|Drama   \n",
       "Wolf Creek                                                             Drama|Horror|Thriller   \n",
       "Wuthering Heights                                                              Drama|Romance   \n",
       "Yu-Gi-Oh! Duel Monsters                            Action|Adventure|Animation|Family|Fantasy   \n",
       "\n",
       "                                                   Language    Country  \\\n",
       "Title                                                                    \n",
       "Intolerance: Love's Struggle Throughout the Ages        NaN        USA   \n",
       "Over the Hill to the Poorhouse                          NaN        USA   \n",
       "The Big Parade                                          NaN        USA   \n",
       "Metropolis                                           German    Germany   \n",
       "Pandora's Box                                        German    Germany   \n",
       "...                                                     ...        ...   \n",
       "War & Peace                                         English         UK   \n",
       "Wings                                               English        USA   \n",
       "Wolf Creek                                          English  Australia   \n",
       "Wuthering Heights                                   English         UK   \n",
       "Yu-Gi-Oh! Duel Monsters                            Japanese      Japan   \n",
       "\n",
       "                                                  Content Rating  Duration  \\\n",
       "Title                                                                        \n",
       "Intolerance: Love's Struggle Throughout the Ages       Not Rated     123.0   \n",
       "Over the Hill to the Poorhouse                               NaN     110.0   \n",
       "The Big Parade                                         Not Rated     151.0   \n",
       "Metropolis                                             Not Rated     145.0   \n",
       "Pandora's Box                                          Not Rated     110.0   \n",
       "...                                                          ...       ...   \n",
       "War & Peace                                                TV-14       NaN   \n",
       "Wings                                                        NaN      30.0   \n",
       "Wolf Creek                                                   NaN       NaN   \n",
       "Wuthering Heights                                            NaN     142.0   \n",
       "Yu-Gi-Oh! Duel Monsters                                      NaN      24.0   \n",
       "\n",
       "                                                   Aspect Ratio     Budget  \\\n",
       "Title                                                                        \n",
       "Intolerance: Love's Struggle Throughout the Ages           1.33   385907.0   \n",
       "Over the Hill to the Poorhouse                             1.33   100000.0   \n",
       "The Big Parade                                             1.33   245000.0   \n",
       "Metropolis                                                 1.33  6000000.0   \n",
       "Pandora's Box                                              1.33        NaN   \n",
       "...                                                         ...        ...   \n",
       "War & Peace                                               16.00        NaN   \n",
       "Wings                                                      1.33        NaN   \n",
       "Wolf Creek                                                 2.00        NaN   \n",
       "Wuthering Heights                                           NaN        NaN   \n",
       "Yu-Gi-Oh! Duel Monsters                                     NaN        NaN   \n",
       "\n",
       "                                                   Gross Earnings  \\\n",
       "Title                                                               \n",
       "Intolerance: Love's Struggle Throughout the Ages              NaN   \n",
       "Over the Hill to the Poorhouse                          3000000.0   \n",
       "The Big Parade                                                NaN   \n",
       "Metropolis                                                26435.0   \n",
       "Pandora's Box                                              9950.0   \n",
       "...                                                           ...   \n",
       "War & Peace                                                   NaN   \n",
       "Wings                                                         NaN   \n",
       "Wolf Creek                                                    NaN   \n",
       "Wuthering Heights                                             NaN   \n",
       "Yu-Gi-Oh! Duel Monsters                                       NaN   \n",
       "\n",
       "                                                              Director  ...  \\\n",
       "Title                                                                   ...   \n",
       "Intolerance: Love's Struggle Throughout the Ages         D.W. Griffith  ...   \n",
       "Over the Hill to the Poorhouse                       Harry F. Millarde  ...   \n",
       "The Big Parade                                              King Vidor  ...   \n",
       "Metropolis                                                  Fritz Lang  ...   \n",
       "Pandora's Box                                      Georg Wilhelm Pabst  ...   \n",
       "...                                                                ...  ...   \n",
       "War & Peace                                                        NaN  ...   \n",
       "Wings                                                              NaN  ...   \n",
       "Wolf Creek                                                         NaN  ...   \n",
       "Wuthering Heights                                                  NaN  ...   \n",
       "Yu-Gi-Oh! Duel Monsters                                            NaN  ...   \n",
       "\n",
       "                                                  Facebook Likes - Actor 1  \\\n",
       "Title                                                                        \n",
       "Intolerance: Love's Struggle Throughout the Ages                     436.0   \n",
       "Over the Hill to the Poorhouse                                         2.0   \n",
       "The Big Parade                                                        81.0   \n",
       "Metropolis                                                           136.0   \n",
       "Pandora's Box                                                        426.0   \n",
       "...                                                                    ...   \n",
       "War & Peace                                                         1000.0   \n",
       "Wings                                                                685.0   \n",
       "Wolf Creek                                                           511.0   \n",
       "Wuthering Heights                                                  27000.0   \n",
       "Yu-Gi-Oh! Duel Monsters                                                0.0   \n",
       "\n",
       "                                                  Facebook Likes - Actor 2  \\\n",
       "Title                                                                        \n",
       "Intolerance: Love's Struggle Throughout the Ages                      22.0   \n",
       "Over the Hill to the Poorhouse                                         2.0   \n",
       "The Big Parade                                                        12.0   \n",
       "Metropolis                                                            23.0   \n",
       "Pandora's Box                                                         20.0   \n",
       "...                                                                    ...   \n",
       "War & Peace                                                          888.0   \n",
       "Wings                                                                511.0   \n",
       "Wolf Creek                                                           457.0   \n",
       "Wuthering Heights                                                    698.0   \n",
       "Yu-Gi-Oh! Duel Monsters                                                NaN   \n",
       "\n",
       "                                                  Facebook Likes - Actor 3  \\\n",
       "Title                                                                        \n",
       "Intolerance: Love's Struggle Throughout the Ages                       9.0   \n",
       "Over the Hill to the Poorhouse                                         0.0   \n",
       "The Big Parade                                                         6.0   \n",
       "Metropolis                                                            18.0   \n",
       "Pandora's Box                                                          3.0   \n",
       "...                                                                    ...   \n",
       "War & Peace                                                          502.0   \n",
       "Wings                                                                424.0   \n",
       "Wolf Creek                                                           206.0   \n",
       "Wuthering Heights                                                    427.0   \n",
       "Yu-Gi-Oh! Duel Monsters                                                NaN   \n",
       "\n",
       "                                                   Facebook Likes - cast Total  \\\n",
       "Title                                                                            \n",
       "Intolerance: Love's Struggle Throughout the Ages                           481   \n",
       "Over the Hill to the Poorhouse                                               4   \n",
       "The Big Parade                                                             108   \n",
       "Metropolis                                                                 203   \n",
       "Pandora's Box                                                              455   \n",
       "...                                                                        ...   \n",
       "War & Peace                                                               4528   \n",
       "Wings                                                                     1884   \n",
       "Wolf Creek                                                                1617   \n",
       "Wuthering Heights                                                        29196   \n",
       "Yu-Gi-Oh! Duel Monsters                                                      0   \n",
       "\n",
       "                                                   Facebook likes - Movie  \\\n",
       "Title                                                                       \n",
       "Intolerance: Love's Struggle Throughout the Ages                      691   \n",
       "Over the Hill to the Poorhouse                                          0   \n",
       "The Big Parade                                                        226   \n",
       "Metropolis                                                          12000   \n",
       "Pandora's Box                                                         926   \n",
       "...                                                                   ...   \n",
       "War & Peace                                                         11000   \n",
       "Wings                                                                1000   \n",
       "Wolf Creek                                                            954   \n",
       "Wuthering Heights                                                       0   \n",
       "Yu-Gi-Oh! Duel Monsters                                               124   \n",
       "\n",
       "                                                   Facenumber in posters  \\\n",
       "Title                                                                      \n",
       "Intolerance: Love's Struggle Throughout the Ages                     1.0   \n",
       "Over the Hill to the Poorhouse                                       1.0   \n",
       "The Big Parade                                                       0.0   \n",
       "Metropolis                                                           1.0   \n",
       "Pandora's Box                                                        1.0   \n",
       "...                                                                  ...   \n",
       "War & Peace                                                          1.0   \n",
       "Wings                                                                5.0   \n",
       "Wolf Creek                                                           0.0   \n",
       "Wuthering Heights                                                    2.0   \n",
       "Yu-Gi-Oh! Duel Monsters                                              0.0   \n",
       "\n",
       "                                                   User Votes  \\\n",
       "Title                                                           \n",
       "Intolerance: Love's Struggle Throughout the Ages        10718   \n",
       "Over the Hill to the Poorhouse                              5   \n",
       "The Big Parade                                           4849   \n",
       "Metropolis                                             111841   \n",
       "Pandora's Box                                            7431   \n",
       "...                                                       ...   \n",
       "War & Peace                                              9277   \n",
       "Wings                                                    7646   \n",
       "Wolf Creek                                                726   \n",
       "Wuthering Heights                                        6053   \n",
       "Yu-Gi-Oh! Duel Monsters                                 12417   \n",
       "\n",
       "                                                   Reviews by Users  \\\n",
       "Title                                                                 \n",
       "Intolerance: Love's Struggle Throughout the Ages               88.0   \n",
       "Over the Hill to the Poorhouse                                  1.0   \n",
       "The Big Parade                                                 45.0   \n",
       "Metropolis                                                    413.0   \n",
       "Pandora's Box                                                  84.0   \n",
       "...                                                             ...   \n",
       "War & Peace                                                    44.0   \n",
       "Wings                                                          56.0   \n",
       "Wolf Creek                                                      6.0   \n",
       "Wuthering Heights                                              33.0   \n",
       "Yu-Gi-Oh! Duel Monsters                                        51.0   \n",
       "\n",
       "                                                   Reviews by Crtiics  \\\n",
       "Title                                                                   \n",
       "Intolerance: Love's Struggle Throughout the Ages                 69.0   \n",
       "Over the Hill to the Poorhouse                                    1.0   \n",
       "The Big Parade                                                   48.0   \n",
       "Metropolis                                                      260.0   \n",
       "Pandora's Box                                                    71.0   \n",
       "...                                                               ...   \n",
       "War & Peace                                                      10.0   \n",
       "Wings                                                            19.0   \n",
       "Wolf Creek                                                        2.0   \n",
       "Wuthering Heights                                                 9.0   \n",
       "Yu-Gi-Oh! Duel Monsters                                           6.0   \n",
       "\n",
       "                                                   IMDB Score  \n",
       "Title                                                          \n",
       "Intolerance: Love's Struggle Throughout the Ages          8.0  \n",
       "Over the Hill to the Poorhouse                            4.8  \n",
       "The Big Parade                                            8.3  \n",
       "Metropolis                                                8.3  \n",
       "Pandora's Box                                             8.0  \n",
       "...                                                       ...  \n",
       "War & Peace                                               8.2  \n",
       "Wings                                                     7.3  \n",
       "Wolf Creek                                                7.1  \n",
       "Wuthering Heights                                         7.7  \n",
       "Yu-Gi-Oh! Duel Monsters                                   7.0  \n",
       "\n",
       "[5042 rows x 24 columns]"
      ]
     },
     "execution_count": 4,
     "metadata": {},
     "output_type": "execute_result"
    }
   ],
   "source": [
    "movies "
   ]
  },
  {
   "cell_type": "code",
   "execution_count": 5,
   "metadata": {},
   "outputs": [],
   "source": [
    "#drop any nans in the budget and gross earnings \n",
    "movies_dropna = movies.dropna(subset =[\"Budget\", \"Gross Earnings\"])"
   ]
  },
  {
   "cell_type": "code",
   "execution_count": 6,
   "metadata": {},
   "outputs": [
    {
     "data": {
      "text/plain": [
       "Title\n",
       "Over the Hill to the Poorhouse       3000000.0\n",
       "Metropolis                             26435.0\n",
       "The Broadway Melody                  2808000.0\n",
       "42nd Street                          2300000.0\n",
       "Top Hat                              3000000.0\n",
       "                                      ...     \n",
       "The Young Messiah                    6462576.0\n",
       "Triple 9                            12626905.0\n",
       "Warcraft                            46978995.0\n",
       "X-Men: Apocalypse                  154985087.0\n",
       "Zoolander 2                         28837115.0\n",
       "Name: Gross Earnings, Length: 3891, dtype: float64"
      ]
     },
     "execution_count": 6,
     "metadata": {},
     "output_type": "execute_result"
    }
   ],
   "source": [
    "movies_dropna[\"Gross Earnings\"]"
   ]
  },
  {
   "cell_type": "code",
   "execution_count": 7,
   "metadata": {},
   "outputs": [],
   "source": [
    "from scipy import stats"
   ]
  },
  {
   "cell_type": "code",
   "execution_count": 8,
   "metadata": {},
   "outputs": [],
   "source": [
    "slope, intercept, r_value, p_value, std_err = stats.linregress(movies_dropna[\"Budget\"],movies_dropna[\"Gross Earnings\"])"
   ]
  },
  {
   "cell_type": "code",
   "execution_count": 9,
   "metadata": {},
   "outputs": [
    {
     "data": {
      "text/plain": [
       "0.032071572781839926"
      ]
     },
     "execution_count": 9,
     "metadata": {},
     "output_type": "execute_result"
    }
   ],
   "source": [
    "slope"
   ]
  },
  {
   "cell_type": "code",
   "execution_count": 10,
   "metadata": {},
   "outputs": [
    {
     "data": {
      "text/plain": [
       "49605030.51283432"
      ]
     },
     "execution_count": 10,
     "metadata": {},
     "output_type": "execute_result"
    }
   ],
   "source": [
    "intercept"
   ]
  },
  {
   "cell_type": "code",
   "execution_count": 11,
   "metadata": {},
   "outputs": [
    {
     "data": {
      "text/plain": [
       "0.10217945351303392"
      ]
     },
     "execution_count": 11,
     "metadata": {},
     "output_type": "execute_result"
    }
   ],
   "source": [
    "r_value"
   ]
  },
  {
   "cell_type": "code",
   "execution_count": 12,
   "metadata": {},
   "outputs": [
    {
     "data": {
      "text/plain": [
       "1.676127655795583e-10"
      ]
     },
     "execution_count": 12,
     "metadata": {},
     "output_type": "execute_result"
    }
   ],
   "source": [
    "p_value "
   ]
  },
  {
   "cell_type": "code",
   "execution_count": 14,
   "metadata": {},
   "outputs": [
    {
     "data": {
      "text/plain": [
       "(0.0, 800000000.0)"
      ]
     },
     "execution_count": 14,
     "metadata": {},
     "output_type": "execute_result"
    },
    {
     "data": {
      "image/png": "[encoded data removed]",
      "text/plain": [
       "<Figure size 432x288 with 1 Axes>"
      ]
     },
     "metadata": {
      "needs_background": "light"
     },
     "output_type": "display_data"
    }
   ],
   "source": [
    "# let's plot the data with the linear fit and see how it looks\n",
    "plt.plot(movies_dropna[\"Budget\"], slope*movies_dropna[\"Budget\"]+intercept, 'k--') # y = mx+b\n",
    "plt.scatter(movies_dropna[\"Budget\"], movies_dropna[\"Gross Earnings\"])\n",
    "plt.xlabel('Budget')\n",
    "plt.ylabel('Gross Earnings')\n",
    "plt.xlim([0,0.04E10])#x limit\n",
    "plt.ylim([0,.8E9])#y limit"
   ]
  },
  {
   "cell_type": "markdown",
   "metadata": {},
   "source": [
    "Try OLS"
   ]
  },
  {
   "cell_type": "code",
   "execution_count": 15,
   "metadata": {},
   "outputs": [],
   "source": [
    "import statsmodels.api as sm"
   ]
  },
  {
   "cell_type": "code",
   "execution_count": 16,
   "metadata": {},
   "outputs": [],
   "source": [
    "X = movies_dropna[\"Budget\"]\n",
    "Y = movies_dropna[\"Gross Earnings\"]"
   ]
  },
  {
   "cell_type": "code",
   "execution_count": 17,
   "metadata": {},
   "outputs": [],
   "source": [
    "X = sm.add_constant(X)"
   ]
  },
  {
   "cell_type": "code",
   "execution_count": 18,
   "metadata": {},
   "outputs": [
    {
     "data": {
      "text/html": [
       "<div>\n",
       "<style scoped>\n",
       "    .dataframe tbody tr th:only-of-type {\n",
       "        vertical-align: middle;\n",
       "    }\n",
       "\n",
       "    .dataframe tbody tr th {\n",
       "        vertical-align: top;\n",
       "    }\n",
       "\n",
       "    .dataframe thead th {\n",
       "        text-align: right;\n",
       "    }\n",
       "</style>\n",
       "<table border=\"1\" class=\"dataframe\">\n",
       "  <thead>\n",
       "    <tr style=\"text-align: right;\">\n",
       "      <th></th>\n",
       "      <th>const</th>\n",
       "      <th>Budget</th>\n",
       "    </tr>\n",
       "    <tr>\n",
       "      <th>Title</th>\n",
       "      <th></th>\n",
       "      <th></th>\n",
       "    </tr>\n",
       "  </thead>\n",
       "  <tbody>\n",
       "    <tr>\n",
       "      <th>Over the Hill to the Poorhouse</th>\n",
       "      <td>1.0</td>\n",
       "      <td>100000.0</td>\n",
       "    </tr>\n",
       "    <tr>\n",
       "      <th>Metropolis</th>\n",
       "      <td>1.0</td>\n",
       "      <td>6000000.0</td>\n",
       "    </tr>\n",
       "    <tr>\n",
       "      <th>The Broadway Melody</th>\n",
       "      <td>1.0</td>\n",
       "      <td>379000.0</td>\n",
       "    </tr>\n",
       "    <tr>\n",
       "      <th>42nd Street</th>\n",
       "      <td>1.0</td>\n",
       "      <td>439000.0</td>\n",
       "    </tr>\n",
       "    <tr>\n",
       "      <th>Top Hat</th>\n",
       "      <td>1.0</td>\n",
       "      <td>609000.0</td>\n",
       "    </tr>\n",
       "    <tr>\n",
       "      <th>...</th>\n",
       "      <td>...</td>\n",
       "      <td>...</td>\n",
       "    </tr>\n",
       "    <tr>\n",
       "      <th>The Young Messiah</th>\n",
       "      <td>1.0</td>\n",
       "      <td>18500000.0</td>\n",
       "    </tr>\n",
       "    <tr>\n",
       "      <th>Triple 9</th>\n",
       "      <td>1.0</td>\n",
       "      <td>20000000.0</td>\n",
       "    </tr>\n",
       "    <tr>\n",
       "      <th>Warcraft</th>\n",
       "      <td>1.0</td>\n",
       "      <td>160000000.0</td>\n",
       "    </tr>\n",
       "    <tr>\n",
       "      <th>X-Men: Apocalypse</th>\n",
       "      <td>1.0</td>\n",
       "      <td>178000000.0</td>\n",
       "    </tr>\n",
       "    <tr>\n",
       "      <th>Zoolander 2</th>\n",
       "      <td>1.0</td>\n",
       "      <td>50000000.0</td>\n",
       "    </tr>\n",
       "  </tbody>\n",
       "</table>\n",
       "<p>3891 rows × 2 columns</p>\n",
       "</div>"
      ],
      "text/plain": [
       "                                 const       Budget\n",
       "Title                                              \n",
       "Over the Hill to the Poorhouse     1.0     100000.0\n",
       "Metropolis                         1.0    6000000.0\n",
       "The Broadway Melody                1.0     379000.0\n",
       "42nd Street                        1.0     439000.0\n",
       "Top Hat                            1.0     609000.0\n",
       "...                                ...          ...\n",
       "The Young Messiah                  1.0   18500000.0\n",
       "Triple 9                           1.0   20000000.0\n",
       "Warcraft                           1.0  160000000.0\n",
       "X-Men: Apocalypse                  1.0  178000000.0\n",
       "Zoolander 2                        1.0   50000000.0\n",
       "\n",
       "[3891 rows x 2 columns]"
      ]
     },
     "execution_count": 18,
     "metadata": {},
     "output_type": "execute_result"
    }
   ],
   "source": [
    "X"
   ]
  },
  {
   "cell_type": "code",
   "execution_count": 19,
   "metadata": {},
   "outputs": [],
   "source": [
    "model = sm.OLS(Y, X).fit()"
   ]
  },
  {
   "cell_type": "code",
   "execution_count": 21,
   "metadata": {},
   "outputs": [
    {
     "data": {
      "text/plain": [
       "const     4.960503e+07\n",
       "Budget    3.207157e-02\n",
       "dtype: float64"
      ]
     },
     "execution_count": 21,
     "metadata": {},
     "output_type": "execute_result"
    }
   ],
   "source": [
    "model.params"
   ]
  },
  {
   "cell_type": "code",
   "execution_count": 22,
   "metadata": {},
   "outputs": [],
   "source": [
    "predictions = model.predict(X)"
   ]
  },
  {
   "cell_type": "code",
   "execution_count": 24,
   "metadata": {},
   "outputs": [
    {
     "data": {
      "text/plain": [
       "(0.0, 800000000.0)"
      ]
     },
     "execution_count": 24,
     "metadata": {},
     "output_type": "execute_result"
    },
    {
     "data": {
      "image/png": "[encoded data removed]",
      "text/plain": [
       "<Figure size 432x288 with 1 Axes>"
      ]
     },
     "metadata": {
      "needs_background": "light"
     },
     "output_type": "display_data"
    }
   ],
   "source": [
    "plt.plot(X[\"Budget\"],predictions, 'k--')\n",
    "plt.scatter(movies_dropna[\"Budget\"],movies_dropna[\"Gross Earnings\"])\n",
    "plt.xlabel(\"Budget\")\n",
    "plt.ylabel(\"Gross Earnings\")\n",
    "plt.xlim([0,0.04E10])#x limit\n",
    "plt.ylim([0,.8E9])#y limit"
   ]
  },
  {
   "cell_type": "code",
   "execution_count": null,
   "metadata": {},
   "outputs": [],
   "source": []
  },
  {
   "cell_type": "code",
   "execution_count": null,
   "metadata": {},
   "outputs": [],
   "source": []
  },
  {
   "cell_type": "markdown",
   "metadata": {},
   "source": [
    "# Lecture 11.2\n",
    "\n",
    "### Agenda:\n",
    "- What makes a good scientific research proposal?\n",
    "    - Dataset or way to generate data to analyze (e.g. a model)\n",
    "    - Well defined research question(s) that can be adressed with the above dataset/methods\n",
    "    - Clear explaination of what you are going to do to answer these research questions (not too technical/jargony, but some details)\n",
    "    - Convince the reader/reviewer you have the expertise and the resources to do the work (don't promise more than you can do)\n",
    "    - Realistic timelines and adequate personell \n",
    "    \n",
    "#### On Monday you will give a 5 min talk on your proposed research \n",
    "Just a couple of slides and some discussion\n",
    "\n",
    "- What makes a good talk?"
   ]
  },
  {
   "cell_type": "code",
   "execution_count": null,
   "metadata": {},
   "outputs": [],
   "source": []
  },
  {
   "cell_type": "markdown",
   "metadata": {},
   "source": [
    "# Lab 11.2"
   ]
  },
  {
   "cell_type": "markdown",
   "metadata": {},
   "source": [
    "Today is a workday. Catch up and work on your research proposal. I am here to assist you."
   ]
  },
  {
   "cell_type": "markdown",
   "metadata": {},
   "source": [
    "**E.1** Complete your research proposal (see assignment and checklist in folder in github)"
   ]
  },
  {
   "cell_type": "markdown",
   "metadata": {},
   "source": [
    "**E.2** On Monday we will workshop research proposal plans together. This should be fun, helpful, and not too formal/serious. Prepare a few slides (2-3) on your proposed research to share with the class. Talk about your research question(s) and your proposed methods and we will ask you questions and give you feedback."
   ]
  },
  {
   "cell_type": "markdown",
   "metadata": {},
   "source": [
    "Please note both of these exercises are manditory to pass the class and must be completed on time (no late work will be accepted)"
   ]
  },
  {
   "cell_type": "code",
   "execution_count": null,
   "metadata": {},
   "outputs": [],
   "source": []
  }
 ],
 "metadata": {
  "kernelspec": {
   "display_name": "Python 3",
   "language": "python",
   "name": "python3"
  },
  "language_info": {
   "codemirror_mode": {
    "name": "ipython",
    "version": 3
   },
   "file_extension": ".py",
   "mimetype": "text/x-python",
   "name": "python",
   "nbconvert_exporter": "python",
   "pygments_lexer": "ipython3",
   "version": "3.8.5"
  }
 },
 "nbformat": 4,
 "nbformat_minor": 5
}
