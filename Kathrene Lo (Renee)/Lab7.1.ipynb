{
 "cells": [
  {
   "cell_type": "markdown",
   "metadata": {},
   "source": [
    "Name Kathrene Lo"
   ]
  },
  {
   "cell_type": "markdown",
   "metadata": {},
   "source": [
    "Labpartner(s) Dwight Capus"
   ]
  },
  {
   "cell_type": "code",
   "execution_count": null,
   "metadata": {},
   "outputs": [],
   "source": [
    "#import statements go here"
   ]
  },
  {
   "cell_type": "markdown",
   "metadata": {},
   "source": [
    "# Class 7.1"
   ]
  },
  {
   "cell_type": "markdown",
   "metadata": {},
   "source": [
    "Hope everyone is recovering from the freeze. Being in survival mode is stressful! I am going to attemt to be easy on you this week. As announced, there are no labs assigned last week, we are just taking a pass on those. I may have to shuffle some of the later material in the schedule, TBD.\n",
    "\n",
    "I am having special office hours tomorrow, Tuesday 2-3 on the class zoom channel. I am asking those of you who are behind on any labs to check in with me and make a plan. If you can't make that time, let's schedule another one ASAP. Please note that you cannot miss these early labs and pass the class, and the material builds, so it is critical we get you caught up.\n"
   ]
  },
  {
   "cell_type": "markdown",
   "metadata": {},
   "source": [
    "This week we are going to do more plotting, learn about functions, and apply this to your datasets. Next Monday we will have present your work day again, see below for details. Hopefully at this point the material is building to the point where it is not all forein and you will feel a bit more confident.\n",
    "\n",
    "Originally we had introduction of Zotero and a CV assignment on the schedule for this week, but I'm pushing that until next week so we have less new material to deal with this week."
   ]
  },
  {
   "cell_type": "markdown",
   "metadata": {},
   "source": [
    "# Warmups 7.1"
   ]
  },
  {
   "cell_type": "markdown",
   "metadata": {},
   "source": [
    "**W.1** Go through 1.4.1.5 Indexing and Slicking in the scipy lecture notes, up to the exercises, which you will do on Wednesday. http://scipy-lectures.org/intro/numpy/array_object.html#id2"
   ]
  },
  {
   "cell_type": "code",
   "execution_count": null,
   "metadata": {},
   "outputs": [],
   "source": []
  },
  {
   "cell_type": "markdown",
   "metadata": {},
   "source": [
    "# Lecture 7.1\n",
    "\n",
    "### Agenda:\n",
    "\n",
    "- The Parable Of Finding Nemo, or How To Do The Seemingly Impossible\n",
    "- Questions\n",
    "- Functions!\n"
   ]
  },
  {
   "cell_type": "markdown",
   "metadata": {},
   "source": [
    "### Questions"
   ]
  },
  {
   "cell_type": "code",
   "execution_count": null,
   "metadata": {},
   "outputs": [],
   "source": [
    "#Darned people probably smoking outside.\n",
    "#My studio is being filled with the smell of marijuana or tobacco. :("
   ]
  },
  {
   "cell_type": "code",
   "execution_count": null,
   "metadata": {},
   "outputs": [],
   "source": []
  },
  {
   "cell_type": "markdown",
   "metadata": {},
   "source": [
    "### Functions\n",
    "\n",
    "Functions are super-useful for doing repetative tasks. You have been using pre-defined functions constantly, when you define arrays, make a plot, or analyse data. Now you are going to learn to write your own.\n",
    "\n",
    "For more information on functions and documenting:\n",
    "- http://scipy-lectures.org/intro/language/functions.html?highlight=functions\n",
    "- https://realpython.com/documenting-python-code/\n",
    "\n",
    "\n",
    "Basic syntax:"
   ]
  },
  {
   "cell_type": "code",
   "execution_count": 1,
   "metadata": {},
   "outputs": [],
   "source": [
    "# first you define the function\n",
    "\n",
    "def function_name():\n",
    "    # some code that does something\n",
    "    print('Inside the function')"
   ]
  },
  {
   "cell_type": "code",
   "execution_count": 2,
   "metadata": {},
   "outputs": [
    {
     "name": "stdout",
     "output_type": "stream",
     "text": [
      "Inside the function\n"
     ]
    }
   ],
   "source": [
    "# then you call the function\n",
    "function_name()"
   ]
  },
  {
   "cell_type": "markdown",
   "metadata": {},
   "source": [
    "Note that defined funtions show up using whos"
   ]
  },
  {
   "cell_type": "code",
   "execution_count": 3,
   "metadata": {},
   "outputs": [
    {
     "name": "stdout",
     "output_type": "stream",
     "text": [
      "Variable        Type        Data/Info\n",
      "-------------------------------------\n",
      "function_name   function    <function function_name at 0x00000192E3499C10>\n"
     ]
    }
   ],
   "source": [
    "whos"
   ]
  },
  {
   "cell_type": "markdown",
   "metadata": {},
   "source": [
    "That's a really useless function, let's make a better one."
   ]
  },
  {
   "cell_type": "code",
   "execution_count": 4,
   "metadata": {},
   "outputs": [],
   "source": [
    "# usually you want to pass a varible of some sort to the function to manipulate\n",
    "\n",
    "def circle_area(radius):\n",
    "    area = 3.14*radius**2\n",
    "    return area   # the return statement means that the function will return that variable"
   ]
  },
  {
   "cell_type": "code",
   "execution_count": 5,
   "metadata": {},
   "outputs": [
    {
     "data": {
      "text/plain": [
       "78.5"
      ]
     },
     "execution_count": 5,
     "metadata": {},
     "output_type": "execute_result"
    }
   ],
   "source": [
    "circle_area(5)"
   ]
  },
  {
   "cell_type": "markdown",
   "metadata": {},
   "source": [
    "What happens if I don't add the required input?"
   ]
  },
  {
   "cell_type": "code",
   "execution_count": 6,
   "metadata": {},
   "outputs": [
    {
     "ename": "TypeError",
     "evalue": "circle_area() missing 1 required positional argument: 'radius'",
     "output_type": "error",
     "traceback": [
      "\u001b[1;31m---------------------------------------------------------------------------\u001b[0m",
      "\u001b[1;31mTypeError\u001b[0m                                 Traceback (most recent call last)",
      "\u001b[1;32m<ipython-input-6-32072fe4474f>\u001b[0m in \u001b[0;36m<module>\u001b[1;34m\u001b[0m\n\u001b[1;32m----> 1\u001b[1;33m \u001b[0mcircle_area\u001b[0m\u001b[1;33m(\u001b[0m\u001b[1;33m)\u001b[0m\u001b[1;33m\u001b[0m\u001b[1;33m\u001b[0m\u001b[0m\n\u001b[0m",
      "\u001b[1;31mTypeError\u001b[0m: circle_area() missing 1 required positional argument: 'radius'"
     ]
    }
   ],
   "source": [
    "circle_area()"
   ]
  },
  {
   "cell_type": "code",
   "execution_count": null,
   "metadata": {},
   "outputs": [],
   "source": []
  },
  {
   "cell_type": "markdown",
   "metadata": {},
   "source": [
    "What happens if I omit the return statement?"
   ]
  },
  {
   "cell_type": "code",
   "execution_count": 8,
   "metadata": {},
   "outputs": [],
   "source": [
    "def circle_area2(radius):\n",
    "    area = 3.14*radius**2"
   ]
  },
  {
   "cell_type": "markdown",
   "metadata": {},
   "source": [
    "How do I save the function output to a variable?"
   ]
  },
  {
   "cell_type": "code",
   "execution_count": null,
   "metadata": {},
   "outputs": [],
   "source": [
    "circle_area2(5)\n",
    "#what happens in the function stays in the function\n",
    "#there are exceptions, ..."
   ]
  },
  {
   "cell_type": "markdown",
   "metadata": {},
   "source": [
    "Does the area variable inside the function exist outside of it?"
   ]
  },
  {
   "cell_type": "code",
   "execution_count": null,
   "metadata": {},
   "outputs": [],
   "source": [
    "my_circle_area()\n",
    "#didn't finish notes on saving"
   ]
  },
  {
   "cell_type": "markdown",
   "metadata": {},
   "source": [
    "Note I also could have made my function like this:"
   ]
  },
  {
   "cell_type": "code",
   "execution_count": null,
   "metadata": {},
   "outputs": [],
   "source": [
    "def circle_area4(radius):\n",
    "    return 3.14*radius**2"
   ]
  },
  {
   "cell_type": "code",
   "execution_count": null,
   "metadata": {},
   "outputs": [],
   "source": [
    "circle_area4(5)"
   ]
  },
  {
   "cell_type": "code",
   "execution_count": null,
   "metadata": {},
   "outputs": [],
   "source": [
    "circle_area4(-5)\n",
    "#gives an answer even though it doesn't make sense"
   ]
  },
  {
   "cell_type": "markdown",
   "metadata": {},
   "source": [
    "### Parsing for bad input"
   ]
  },
  {
   "cell_type": "markdown",
   "metadata": {},
   "source": [
    "Note my above function will work even if the input is negative, which is not reasonable. So I probably want to include a statement that checks if the input is weird."
   ]
  },
  {
   "cell_type": "code",
   "execution_count": null,
   "metadata": {},
   "outputs": [],
   "source": [
    "def circle_area5(radius):\n",
    "    # put in an if statement to handle bad inputs\n",
    "    if radius < 0:\n",
    "        print('Error: radius needs to be positive')\n",
    "        return #exit the function\n",
    "    \n",
    "    return 3.14*radius**2"
   ]
  },
  {
   "cell_type": "code",
   "execution_count": null,
   "metadata": {},
   "outputs": [],
   "source": [
    "circle_area5(-3)"
   ]
  },
  {
   "cell_type": "code",
   "execution_count": null,
   "metadata": {},
   "outputs": [],
   "source": [
    "circle_area5(0)"
   ]
  },
  {
   "cell_type": "code",
   "execution_count": null,
   "metadata": {},
   "outputs": [],
   "source": [
    "circle_area5(3)"
   ]
  },
  {
   "cell_type": "markdown",
   "metadata": {},
   "source": [
    "### Using packages within functions"
   ]
  },
  {
   "cell_type": "markdown",
   "metadata": {},
   "source": [
    "We can also have import statements within a function, but this can slow the function down if the package is not loaded already"
   ]
  },
  {
   "cell_type": "code",
   "execution_count": null,
   "metadata": {},
   "outputs": [],
   "source": [
    "def circle_area6(radius):\n",
    "    import numpy as np\n",
    "    \n",
    "    return np.pi*radius**2"
   ]
  },
  {
   "cell_type": "code",
   "execution_count": null,
   "metadata": {},
   "outputs": [],
   "source": [
    "circle_area6(3) # note this is a much more accurate"
   ]
  },
  {
   "cell_type": "code",
   "execution_count": null,
   "metadata": {},
   "outputs": [],
   "source": [
    "#snacking and may have missed something after finishing the bad input section\n",
    "#Check"
   ]
  },
  {
   "cell_type": "markdown",
   "metadata": {},
   "source": [
    "We can have the function inputs have pre-defined default values, so that if you don't pass a variable it will use the default"
   ]
  },
  {
   "cell_type": "code",
   "execution_count": null,
   "metadata": {},
   "outputs": [],
   "source": [
    "def circle_area7(radius = 3):\n",
    "    import numpy as np #import numpy so we can use the more exact value of pi\n",
    "    \n",
    "    return np.pi*radius**2"
   ]
  },
  {
   "cell_type": "code",
   "execution_count": null,
   "metadata": {},
   "outputs": [],
   "source": [
    "circle_area7() # no argument given, so uses radius = 3 by default"
   ]
  },
  {
   "cell_type": "markdown",
   "metadata": {},
   "source": [
    "Is numpy imported outside the function? Let's check"
   ]
  },
  {
   "cell_type": "code",
   "execution_count": null,
   "metadata": {},
   "outputs": [],
   "source": [
    "np.pi"
   ]
  },
  {
   "cell_type": "code",
   "execution_count": null,
   "metadata": {},
   "outputs": [],
   "source": [
    "whos"
   ]
  },
  {
   "cell_type": "code",
   "execution_count": null,
   "metadata": {},
   "outputs": [],
   "source": [
    "# can our function handle lists? Let's check\n",
    "r = [1,2,3]\n",
    "circle_area7(r)\n",
    "\n",
    "#lists can't handle math so it needs to be changed to an array"
   ]
  },
  {
   "cell_type": "code",
   "execution_count": null,
   "metadata": {},
   "outputs": [],
   "source": [
    "# can our function handle arrays? Make sure np is defined\n",
    "\n",
    "rnp = np.array(r)\n",
    "circle_area7(rnp)\n",
    "\n",
    "# what type of variable did the function return?"
   ]
  },
  {
   "cell_type": "markdown",
   "metadata": {},
   "source": [
    "### It is very useful to add some documentation string info to your functions"
   ]
  },
  {
   "cell_type": "code",
   "execution_count": null,
   "metadata": {},
   "outputs": [],
   "source": [
    "def circle_area7(radius = 3):\n",
    "    \"\"\" Returns the area of a circle given the radius. \n",
    "    Assumes the radius is 3 if not supplied. \"\"\"\n",
    "    import numpy as np\n",
    "    \n",
    "    return np.pi*radius**2"
   ]
  },
  {
   "cell_type": "markdown",
   "metadata": {},
   "source": [
    "Now my note in the triple quotes shows up as a docstring"
   ]
  },
  {
   "cell_type": "code",
   "execution_count": null,
   "metadata": {},
   "outputs": [],
   "source": [
    "#check if I missed anything after the above. Somehow made the box below appear.\n",
    "circle_area7?"
   ]
  },
  {
   "cell_type": "markdown",
   "metadata": {},
   "source": [
    "There is a standard practice in programming to write out the Parameters (inputs/arguments) and Returns (output) in the docstring. Let's look a this for a predefined function and then make if for our simple function."
   ]
  },
  {
   "cell_type": "code",
   "execution_count": null,
   "metadata": {},
   "outputs": [],
   "source": []
  },
  {
   "cell_type": "code",
   "execution_count": null,
   "metadata": {},
   "outputs": [],
   "source": [
    "import numpy as np"
   ]
  },
  {
   "cell_type": "code",
   "execution_count": null,
   "metadata": {},
   "outputs": [],
   "source": [
    "np.max?"
   ]
  },
  {
   "cell_type": "code",
   "execution_count": null,
   "metadata": {},
   "outputs": [],
   "source": [
    "def circle_area7(radius = 3):\n",
    "    \"\"\" Returns the area of a circle given the radius. \n",
    "    \n",
    "    Parameters\n",
    "    ----------\n",
    "    radus: array like, radius of the circle\n",
    "    Assumes the radius is 3 if not supplied.\n",
    "    \n",
    "    Returns\n",
    "    -------\n",
    "    area: ndarray or scalar\n",
    "    Returns the area for the given radii\n",
    "    \n",
    "    \"\"\"\n",
    "    \n",
    "    import numpy as np\n",
    "    \n",
    "    return np.pi*radius**2"
   ]
  },
  {
   "cell_type": "code",
   "execution_count": null,
   "metadata": {},
   "outputs": [],
   "source": [
    "circle_area7?"
   ]
  },
  {
   "cell_type": "code",
   "execution_count": null,
   "metadata": {},
   "outputs": [],
   "source": []
  },
  {
   "cell_type": "markdown",
   "metadata": {},
   "source": [
    "# Lab 7.1"
   ]
  },
  {
   "cell_type": "markdown",
   "metadata": {},
   "source": [
    "**E.1** Complete Introduction to Data Visualization with Matplotlib Chapters 1-2\n"
   ]
  },
  {
   "cell_type": "code",
   "execution_count": null,
   "metadata": {},
   "outputs": [],
   "source": []
  },
  {
   "cell_type": "markdown",
   "metadata": {},
   "source": [
    "**E.2** Make notes for yourself on progamming tecniques and commands you learned in the datacamp chapter above, including examples, comments and explainitory text. You can do this here or in a separate notebook that you link to here. Basically, you are making a cheat sheet for yourself."
   ]
  },
  {
   "cell_type": "code",
   "execution_count": null,
   "metadata": {},
   "outputs": [],
   "source": [
    "#fig, ax= plt.subplots()\n",
    "#Creates a figure object (holds everything on page) and axes object (holds the data) without anything inside\n",
    "#plot is the method in ax.plot which is used to add data to the above empty graph\n",
    "#marker= v, o, ...; linestyle= --, none, ...; color=...\n",
    "#quotations or apostrophe around for what is used for the marker, linestyle, or color\n",
    "#color for red can be written as \"r\" or \"red.\" It seems to be the same for \"blue\" and \"b.\"\n",
    "#quotations or apostrophe seems interchangeable.\n",
    "#for labeling use: ax.set_ylabel(\"\")...etc.\n",
    "#subplots is used to create small multiples when there is too much data\n",
    "#function called subplot\n",
    "#Use row vs. columns in plt.subplots and now with ax[...]\n",
    "#Use 0 and 1 to separate two graphed patterns with differnt tab.\n",
    "#fig, ax= plt.subplots(2, 1, sharey= True) The \"sharey= True\" keeps the range of the y-axis of two plotted information on graph, the same. "
   ]
  },
  {
   "cell_type": "code",
   "execution_count": null,
   "metadata": {},
   "outputs": [],
   "source": [
    "#Annotation explains a feature."
   ]
  },
  {
   "cell_type": "markdown",
   "metadata": {},
   "source": [
    "### This week's project:\n",
    "\n",
    "For Monday's class you will write two functions that work on your dataset (you can use the same dataset or a different one). The first function will do some sort of analysis, manipulation or calculation, the second will be a plotting function. The idea here is that if you had another datafile that was similar, you could use the function to do the operation again easily."
   ]
  },
  {
   "cell_type": "markdown",
   "metadata": {},
   "source": [
    "**E.3** Write one or more functions that manipulate your dataset and do some sort of analysis. You will present these to the class on Monday."
   ]
  },
  {
   "cell_type": "code",
   "execution_count": null,
   "metadata": {},
   "outputs": [],
   "source": [
    "#In 7.2"
   ]
  },
  {
   "cell_type": "markdown",
   "metadata": {},
   "source": [
    "**E.4** If you haven't yet, complete the introductions assignment on slack (add the channel, introduce yourself)"
   ]
  },
  {
   "cell_type": "code",
   "execution_count": null,
   "metadata": {},
   "outputs": [],
   "source": [
    "#Will submit via Blackboard after sending 7.1 in."
   ]
  },
  {
   "cell_type": "markdown",
   "metadata": {},
   "source": [
    "# Practice"
   ]
  },
  {
   "cell_type": "code",
   "execution_count": 1,
   "metadata": {
    "collapsed": true
   },
   "outputs": [
    {
     "data": {
      "image/png": "[encoded data removed]",
      "text/plain": [
       "<Figure size 432x288 with 1 Axes>"
      ]
     },
     "metadata": {
      "needs_background": "light"
     },
     "output_type": "display_data"
    }
   ],
   "source": [
    "import matplotlib.pyplot as plt\n",
    "fig, ax= plt.subplots()\n",
    "plt.show()"
   ]
  },
  {
   "cell_type": "code",
   "execution_count": null,
   "metadata": {},
   "outputs": [],
   "source": [
    "#Could I use write my own data to use? Information from rssweather.com\n",
    "rain= [1.36, 1.18, 0.93, 1.96, 2.48, 2.93, 1.77, 2.99, 5.31, 3.78, 1.75, 1.11]\n",
    "month= [Jan, Feb, Mar, Apr, May, Jun, Jul, Aug, Sep, Oct, Nov, Dec]\n",
    "low_temp= [50.5, 53.3,59.5, 65.2, 71.6, 74.9, 75.4, 75.3, 72.6, 65.9, 58.6, 52]\n",
    "high_temp= [68.7, 72.2, 78, 82.3, 86.9, 90.5, 92.6, 89.4, 84, ,76.8, 70.2]\n",
    "#I'm going to need to do some searching to figure this out so I can't make it work now.\n",
    "#I will need this to work so I don't to deal with pulling up csv files for Python practice."
   ]
  },
  {
   "cell_type": "code",
   "execution_count": null,
   "metadata": {},
   "outputs": [],
   "source": [
    "#using the data as if it were a csv just for the written part of code.\n",
    "ax.plot(brownsville[\"np.month\"], brownsville[\"low_temp\"])\n",
    "plt.show"
   ]
  },
  {
   "cell_type": "code",
   "execution_count": null,
   "metadata": {},
   "outputs": [],
   "source": [
    "ax.plot(brownsville[\"np.month\"], brownsville[\"low_temp\"], color= \"r\", marker= \"o\", linestyle= \"--\")\n",
    "ax.set_xlabel(\"Month\")\n",
    "ax.set_ylabel(\"Temperature (Celsius)\")\n",
    "ax.set_title(\"Brownsville Yearly Weather\")\n",
    "plt.show"
   ]
  },
  {
   "cell_type": "code",
   "execution_count": null,
   "metadata": {},
   "outputs": [],
   "source": [
    "fig, ax= plt.subplots(2,1)\n",
    "#have to figure out more about the structures\n",
    "ax[0].plot(brownsville[\"month\"], brownsville[\"rain_25perc], color= \"r\")\n",
    "ax[1].plot(brownsville[\"month\"], brownsville[\"rain\"], color= \"b\")\n",
    "plt.show"
   ]
  },
  {
   "cell_type": "code",
   "execution_count": null,
   "metadata": {},
   "outputs": [],
   "source": []
  },
  {
   "cell_type": "code",
   "execution_count": null,
   "metadata": {},
   "outputs": [],
   "source": []
  }
 ],
 "metadata": {
  "kernelspec": {
   "display_name": "Python 3",
   "language": "python",
   "name": "python3"
  },
  "language_info": {
   "codemirror_mode": {
    "name": "ipython",
    "version": 3
   },
   "file_extension": ".py",
   "mimetype": "text/x-python",
   "name": "python",
   "nbconvert_exporter": "python",
   "pygments_lexer": "ipython3",
   "version": "3.8.5"
  }
 },
 "nbformat": 4,
 "nbformat_minor": 5
}
