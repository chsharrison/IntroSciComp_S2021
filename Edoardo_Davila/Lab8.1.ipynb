{
 "cells": [
  {
   "cell_type": "markdown",
   "metadata": {},
   "source": [
    "Name"
   ]
  },
  {
   "cell_type": "markdown",
   "metadata": {},
   "source": [
    "Labpartner(s)"
   ]
  },
  {
   "cell_type": "code",
   "execution_count": null,
   "metadata": {},
   "outputs": [],
   "source": [
    "#import statements go here\n"
   ]
  },
  {
   "cell_type": "markdown",
   "metadata": {},
   "source": [
    "# Class 8.1"
   ]
  },
  {
   "cell_type": "markdown",
   "metadata": {},
   "source": [
    "I realized I wrote our syllabus and schedule of material like we weren't going to be one year into a global pandemic. So I am adjusting and making a more realistic schedule (more on Wed), which means scaling back the amount of material we will cover, and for now doing one chapter in datacamp a class instead of two or more. If by some miracle you have the mental bandwith, feel free to do extra work, but I in no way expect or encourage this. The main goal of this class is to empower you all to know how to figure out how to learn what you need, and we will still very much reach this goal. Every scientific progammer I know is self taught, and is learning just like you all, by looking at sample code, googling, and using online resources. You all are doing great! Let's have realistic expectations of ourselves for the next few months.\n",
    "\n",
    "Here is my suggested order of priorities for you all:\n",
    "\n",
    "1. Personal health (physical, mental, emotional). You have to take care of your health so you can help others.\n",
    "1. Health of loved ones (physical, mental, emotional).\n",
    "1. Research (if you are a grad student particularly)\n",
    "1. Classwork (you might need to put this above research if you need perfect grades for fellowships, etc.)\n"
   ]
  },
  {
   "cell_type": "markdown",
   "metadata": {},
   "source": [
    "# Warmups 8.1"
   ]
  },
  {
   "cell_type": "markdown",
   "metadata": {},
   "source": [
    "Short warmup today as we are doing show us your functions (1:45-2:05)"
   ]
  },
  {
   "cell_type": "markdown",
   "metadata": {},
   "source": [
    "**W.1** Do Practice Python #12, list ends https://www.practicepython.org/exercise/2014/04/25/12-list-ends.html"
   ]
  },
  {
   "cell_type": "code",
   "execution_count": 10,
   "metadata": {},
   "outputs": [],
   "source": [
    "a_list = ([5, 10, 15, 20, 25])"
   ]
  },
  {
   "cell_type": "code",
   "execution_count": 7,
   "metadata": {},
   "outputs": [],
   "source": [
    "def list_ends(a_list):\n",
    "    return [a_list[0], a_list[-1]]"
   ]
  },
  {
   "cell_type": "code",
   "execution_count": 11,
   "metadata": {},
   "outputs": [
    {
     "data": {
      "text/plain": [
       "[5, 25]"
      ]
     },
     "execution_count": 11,
     "metadata": {},
     "output_type": "execute_result"
    }
   ],
   "source": [
    "list_ends(a_list)"
   ]
  },
  {
   "cell_type": "markdown",
   "metadata": {},
   "source": [
    "# Lecture 8.1\n",
    "\n",
    "### Agenda:\n",
    "\n",
    "- Questions\n",
    "- Show us your funtions! "
   ]
  },
  {
   "cell_type": "markdown",
   "metadata": {},
   "source": [
    "### Questions"
   ]
  },
  {
   "cell_type": "code",
   "execution_count": null,
   "metadata": {},
   "outputs": [],
   "source": []
  },
  {
   "cell_type": "markdown",
   "metadata": {},
   "source": [
    "### Show us your functions"
   ]
  },
  {
   "cell_type": "markdown",
   "metadata": {},
   "source": [
    "The project for last week was to write two funtions, one that manipulates or analyzes your data, and one that plots it."
   ]
  },
  {
   "cell_type": "code",
   "execution_count": null,
   "metadata": {},
   "outputs": [],
   "source": []
  },
  {
   "cell_type": "markdown",
   "metadata": {},
   "source": [
    "# Lab 8.1"
   ]
  },
  {
   "cell_type": "markdown",
   "metadata": {},
   "source": [
    "**E.1** Complete Data Manipulation with pandas Ch 1 in datacamp.\n"
   ]
  },
  {
   "cell_type": "code",
   "execution_count": null,
   "metadata": {},
   "outputs": [],
   "source": [
    "\n",
    "\n",
    "wards_census=wards.merge(census, on='ward', suffixes('_ward' , '_cen')\n",
    "print(wards_census.head())\n",
    "print(wards_census.shape)\n",
    "                         \n",
    "df.sortvalues(by=\"Name\", ascending=True, na_position='last') #to arrange in descending order, ascending=False\n",
    "grants_licenses_ward=grants.merge(licenses, on=['address', 'zip'])\\\n",
    "                         .merge(wards, on='ward', suffixes=('_bus' , '_ward'))\n"
   ]
  },
  {
   "cell_type": "markdown",
   "metadata": {},
   "source": [
    "**E.2** Make notes for yourself on progamming tecniques and commands you learned in the datacamp chapter above, including examples, comments and explainitory text. You can do this here or in a separate notebook that you link to here. Basically, you are making a cheat sheet for yourself."
   ]
  },
  {
   "cell_type": "code",
   "execution_count": null,
   "metadata": {},
   "outputs": [],
   "source": []
  },
  {
   "cell_type": "markdown",
   "metadata": {},
   "source": [
    "### This week's project:\n",
    "\n",
    "This week we will be doing a CV assignment in LaTeX, which I will introduce on Wed. For now, you can go check out Overleaf (https://www.overleaf.com) and make an account, and get zotero running on your computer (https://www.zotero.org) and make an account; you will need the downloaded version. If you're really excited, you can try to get the zotero plugin working in a web browser and install the Word plug in, but this is not requried until later this week and I will explain on Wednesday."
   ]
  },
  {
   "cell_type": "code",
   "execution_count": null,
   "metadata": {},
   "outputs": [],
   "source": []
  }
 ],
 "metadata": {
  "kernelspec": {
   "display_name": "Python 3",
   "language": "python",
   "name": "python3"
  },
  "language_info": {
   "codemirror_mode": {
    "name": "ipython",
    "version": 3
   },
   "file_extension": ".py",
   "mimetype": "text/x-python",
   "name": "python",
   "nbconvert_exporter": "python",
   "pygments_lexer": "ipython3",
   "version": "3.8.5"
  }
 },
 "nbformat": 4,
 "nbformat_minor": 5
}
