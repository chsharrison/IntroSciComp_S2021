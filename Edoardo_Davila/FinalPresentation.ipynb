{
 "cells": [
  {
   "cell_type": "code",
   "execution_count": 553,
   "metadata": {},
   "outputs": [],
   "source": [
    "import pandas as pd\n",
    "import numpy as np \n",
    "import matplotlib.pyplot as plt\n",
    "import csv\n",
    "import statistics \n",
    "from statistics import mean\n",
    "from scipy import stats\n",
    "import matplotlib.animation as ani\n",
    "from pylab import rcParams\n",
    "import cartopy.crs as ccrs\n",
    "import cartopy.feature as cfeature\n",
    "\n",
    "\n",
    "from cartopy import config\n",
    "from cartopy.io import shapereader"
   ]
  },
  {
   "cell_type": "code",
   "execution_count": 168,
   "metadata": {},
   "outputs": [
    {
     "name": "stdout",
     "output_type": "stream",
     "text": [
      "Collecting package metadata (current_repodata.json): failed\n",
      "\n",
      "CondaHTTPError: HTTP 000 CONNECTION FAILED for url <https://repo.anaconda.com/pkgs/main/osx-64/current_repodata.json>\n",
      "Elapsed: -\n",
      "\n",
      "An HTTP error occurred when trying to retrieve this URL.\n",
      "HTTP errors are often intermittent, and a simple retry will get you on your way.\n",
      "\n",
      "If your current network has https://www.anaconda.com blocked, please file\n",
      "a support request with your network engineering team.\n",
      "\n",
      "'https://repo.anaconda.com/pkgs/main/osx-64'\n",
      "\n",
      "\n",
      "\n",
      "Note: you may need to restart the kernel to use updated packages.\n"
     ]
    }
   ],
   "source": [
    "conda install cartopy"
   ]
  },
  {
   "cell_type": "code",
   "execution_count": 169,
   "metadata": {},
   "outputs": [
    {
     "name": "stdout",
     "output_type": "stream",
     "text": [
      "Requirement already satisfied: cartopy in /opt/anaconda3/lib/python3.8/site-packages (0.18.0)\n",
      "Requirement already satisfied: numpy>=1.10 in /opt/anaconda3/lib/python3.8/site-packages (from cartopy) (1.19.2)\n",
      "Requirement already satisfied: six>=1.3.0 in /opt/anaconda3/lib/python3.8/site-packages (from cartopy) (1.15.0)\n",
      "Requirement already satisfied: shapely>=1.5.6 in /opt/anaconda3/lib/python3.8/site-packages (from cartopy) (1.7.1)\n",
      "Requirement already satisfied: setuptools>=0.7.2 in /opt/anaconda3/lib/python3.8/site-packages (from cartopy) (50.3.1.post20201107)\n",
      "Requirement already satisfied: pyshp>=1.1.4 in /opt/anaconda3/lib/python3.8/site-packages (from cartopy) (2.1.3)\n",
      "Note: you may need to restart the kernel to use updated packages.\n"
     ]
    }
   ],
   "source": [
    "pip install cartopy "
   ]
  },
  {
   "cell_type": "markdown",
   "metadata": {},
   "source": [
    "-----------------------------------------------------------\n",
    "-----------------------------------------------------------"
   ]
  },
  {
   "cell_type": "code",
   "execution_count": 58,
   "metadata": {},
   "outputs": [],
   "source": [
    "#FLOW AND SEDIMENT DATA"
   ]
  },
  {
   "cell_type": "code",
   "execution_count": 124,
   "metadata": {},
   "outputs": [
    {
     "data": {
      "text/html": [
       "<div>\n",
       "<style scoped>\n",
       "    .dataframe tbody tr th:only-of-type {\n",
       "        vertical-align: middle;\n",
       "    }\n",
       "\n",
       "    .dataframe tbody tr th {\n",
       "        vertical-align: top;\n",
       "    }\n",
       "\n",
       "    .dataframe thead th {\n",
       "        text-align: right;\n",
       "    }\n",
       "</style>\n",
       "<table border=\"1\" class=\"dataframe\">\n",
       "  <thead>\n",
       "    <tr style=\"text-align: right;\">\n",
       "      <th></th>\n",
       "      <th>SSC</th>\n",
       "      <th>Flow</th>\n",
       "    </tr>\n",
       "    <tr>\n",
       "      <th>Year</th>\n",
       "      <th></th>\n",
       "      <th></th>\n",
       "    </tr>\n",
       "  </thead>\n",
       "  <tbody>\n",
       "    <tr>\n",
       "      <th>1966.0</th>\n",
       "      <td>730.00</td>\n",
       "      <td>34.3</td>\n",
       "    </tr>\n",
       "    <tr>\n",
       "      <th>1967.0</th>\n",
       "      <td>907.60</td>\n",
       "      <td>72.8</td>\n",
       "    </tr>\n",
       "    <tr>\n",
       "      <th>1971.0</th>\n",
       "      <td>4110.00</td>\n",
       "      <td>78.0</td>\n",
       "    </tr>\n",
       "    <tr>\n",
       "      <th>1972.0</th>\n",
       "      <td>839.33</td>\n",
       "      <td>25.7</td>\n",
       "    </tr>\n",
       "    <tr>\n",
       "      <th>1973.0</th>\n",
       "      <td>535.88</td>\n",
       "      <td>94.7</td>\n",
       "    </tr>\n",
       "    <tr>\n",
       "      <th>...</th>\n",
       "      <td>...</td>\n",
       "      <td>...</td>\n",
       "    </tr>\n",
       "    <tr>\n",
       "      <th>2016.0</th>\n",
       "      <td>31.60</td>\n",
       "      <td>NaN</td>\n",
       "    </tr>\n",
       "    <tr>\n",
       "      <th>2017.0</th>\n",
       "      <td>36.40</td>\n",
       "      <td>NaN</td>\n",
       "    </tr>\n",
       "    <tr>\n",
       "      <th>2018.0</th>\n",
       "      <td>36.00</td>\n",
       "      <td>NaN</td>\n",
       "    </tr>\n",
       "    <tr>\n",
       "      <th>2019.0</th>\n",
       "      <td>42.80</td>\n",
       "      <td>NaN</td>\n",
       "    </tr>\n",
       "    <tr>\n",
       "      <th>2020.0</th>\n",
       "      <td>17.90</td>\n",
       "      <td>NaN</td>\n",
       "    </tr>\n",
       "  </tbody>\n",
       "</table>\n",
       "<p>11407 rows × 2 columns</p>\n",
       "</div>"
      ],
      "text/plain": [
       "            SSC  Flow\n",
       "Year                 \n",
       "1966.0   730.00  34.3\n",
       "1967.0   907.60  72.8\n",
       "1971.0  4110.00  78.0\n",
       "1972.0   839.33  25.7\n",
       "1973.0   535.88  94.7\n",
       "...         ...   ...\n",
       "2016.0    31.60   NaN\n",
       "2017.0    36.40   NaN\n",
       "2018.0    36.00   NaN\n",
       "2019.0    42.80   NaN\n",
       "2020.0    17.90   NaN\n",
       "\n",
       "[11407 rows x 2 columns]"
      ]
     },
     "execution_count": 124,
     "metadata": {},
     "output_type": "execute_result"
    }
   ],
   "source": [
    "RiverData=pd.read_csv('RiverData.csv', index_col='Year')\n",
    "RiverData"
   ]
  },
  {
   "cell_type": "code",
   "execution_count": 634,
   "metadata": {},
   "outputs": [],
   "source": [
    "NewRiverData=RiverData.fillna(0)"
   ]
  },
  {
   "cell_type": "code",
   "execution_count": 126,
   "metadata": {},
   "outputs": [
    {
     "data": {
      "text/plain": [
       "Year\n",
       "1966.0     730.00\n",
       "1967.0     907.60\n",
       "1971.0    4110.00\n",
       "1972.0     839.33\n",
       "1973.0     535.88\n",
       "           ...   \n",
       "2016.0      31.60\n",
       "2017.0      36.40\n",
       "2018.0      36.00\n",
       "2019.0      42.80\n",
       "2020.0      17.90\n",
       "Name: SSC, Length: 11407, dtype: float64"
      ]
     },
     "execution_count": 126,
     "metadata": {},
     "output_type": "execute_result"
    }
   ],
   "source": [
    "SSC=RiverData['SSC']\n",
    "SSC"
   ]
  },
  {
   "cell_type": "code",
   "execution_count": 127,
   "metadata": {},
   "outputs": [
    {
     "data": {
      "text/plain": [
       "4110.0"
      ]
     },
     "execution_count": 127,
     "metadata": {},
     "output_type": "execute_result"
    }
   ],
   "source": [
    "SSC_max=np.max(SSC)\n",
    "SSC_max"
   ]
  },
  {
   "cell_type": "code",
   "execution_count": null,
   "metadata": {},
   "outputs": [],
   "source": [
    "index=SSC.index(SSC_max)\n",
    "print(index)"
   ]
  },
  {
   "cell_type": "code",
   "execution_count": 129,
   "metadata": {},
   "outputs": [
    {
     "data": {
      "text/plain": [
       "Year\n",
       "1966.0    34.3\n",
       "1967.0    72.8\n",
       "1971.0    78.0\n",
       "1972.0    25.7\n",
       "1973.0    94.7\n",
       "          ... \n",
       "2016.0     NaN\n",
       "2017.0     NaN\n",
       "2018.0     NaN\n",
       "2019.0     NaN\n",
       "2020.0     NaN\n",
       "Name: Flow, Length: 11407, dtype: float64"
      ]
     },
     "execution_count": 129,
     "metadata": {},
     "output_type": "execute_result"
    }
   ],
   "source": [
    "Flow=RiverData['Flow']\n",
    "Flow"
   ]
  },
  {
   "cell_type": "code",
   "execution_count": 130,
   "metadata": {},
   "outputs": [
    {
     "data": {
      "text/plain": [
       "103.1"
      ]
     },
     "execution_count": 130,
     "metadata": {},
     "output_type": "execute_result"
    }
   ],
   "source": [
    "np.max(Flow)"
   ]
  },
  {
   "cell_type": "markdown",
   "metadata": {},
   "source": [
    "-----------------------------------------------------------\n",
    "-----------------------------------------------------------"
   ]
  },
  {
   "cell_type": "code",
   "execution_count": null,
   "metadata": {},
   "outputs": [],
   "source": [
    "#GRAPHING DATA"
   ]
  },
  {
   "cell_type": "code",
   "execution_count": 382,
   "metadata": {},
   "outputs": [],
   "source": [
    "def myplot(mydataset, color1, color2): \n",
    "    \"\"\"Assume data set has an index. Name of columns and data \"\"\"\n",
    "    \n",
    "    fig, ax1=plt.subplots()\n",
    "\n",
    "    \n",
    "    ax1.plot(mydataset.index, mydataset['SSC'], color=color1) \n",
    "    ax1.set_xlabel('Year')\n",
    "    ax1.set_ylabel('Sediment (mg/L/yr)', color=color1)\n",
    "    ax1.tick_params('y', labelcolor=color1)   \n",
    "\n",
    "    ax2=ax1.twinx()\n",
    "    ax2.plot(mydataset.index, mydataset['Flow'], color=color2)\n",
    "    ax2.set_ylabel('Flow (m²/s)', color=color2)\n",
    "    ax2.tick_params('y', labelcolor=color2)"
   ]
  },
  {
   "cell_type": "code",
   "execution_count": 658,
   "metadata": {},
   "outputs": [
    {
     "data": {
      "image/png": "[encoded data removed]",
      "text/plain": [
       "<Figure size 432x288 with 2 Axes>"
      ]
     },
     "metadata": {
      "needs_background": "light"
     },
     "output_type": "display_data"
    }
   ],
   "source": [
    "myplot(RiverData, 'blue', 'red')\n",
    "plt.savefig('SSCFlow.jpg')"
   ]
  },
  {
   "cell_type": "markdown",
   "metadata": {},
   "source": [
    "Sediment and precipitation have drastically declined since the 1970s"
   ]
  },
  {
   "cell_type": "code",
   "execution_count": null,
   "metadata": {},
   "outputs": [],
   "source": []
  },
  {
   "cell_type": "code",
   "execution_count": 386,
   "metadata": {},
   "outputs": [
    {
     "data": {
      "image/png": "[encoded data removed]",
      "text/plain": [
       "<Figure size 432x288 with 2 Axes>"
      ]
     },
     "metadata": {
      "needs_background": "light"
     },
     "output_type": "display_data"
    }
   ],
   "source": [
    "\n",
    "N=50\n",
    "area = (30 * np.random.rand(N))**2\n",
    "\n",
    "fig, ax1=plt.subplots()\n",
    "\n",
    "x=1971.01    \n",
    "ax1.scatter(NewRiverData.index, NewRiverData['SSC'], color='blue') \n",
    "ax1.set_xlabel('Year')\n",
    "ax1.set_ylabel('Sediment (mg/L/yr)', color='blue')\n",
    "ax1.tick_params('y', labelcolor='blue') \n",
    "\n",
    "\n",
    "ax2=ax1.twinx()\n",
    "ax2.scatter(NewRiverData.index, NewRiverData['Flow'], color='red')\n",
    "ax2.set_ylabel('Flow (m²/s)', color='red')\n",
    "ax2.tick_params('y', labelcolor='red')\n",
    "\n",
    "plt.savefig('RiverData1.jpg')\n"
   ]
  },
  {
   "cell_type": "markdown",
   "metadata": {},
   "source": [
    "-----------------------------------------------------------\n",
    "-----------------------------------------------------------"
   ]
  },
  {
   "cell_type": "code",
   "execution_count": 57,
   "metadata": {},
   "outputs": [],
   "source": [
    "#MEAN, STANDARD DEVIATION & VARIANCE"
   ]
  },
  {
   "cell_type": "code",
   "execution_count": 66,
   "metadata": {},
   "outputs": [
    {
     "data": {
      "text/plain": [
       "283.7846153846155"
      ]
     },
     "execution_count": 66,
     "metadata": {},
     "output_type": "execute_result"
    }
   ],
   "source": [
    "np.mean(SSC)"
   ]
  },
  {
   "cell_type": "code",
   "execution_count": 67,
   "metadata": {},
   "outputs": [
    {
     "data": {
      "text/plain": [
       "609.044298942903"
      ]
     },
     "execution_count": 67,
     "metadata": {},
     "output_type": "execute_result"
    }
   ],
   "source": [
    "np.std(SSC)\n",
    "#SSC seems to be more spread out during this period.\n",
    "    #The two points that are the furthest seemed to affect std."
   ]
  },
  {
   "cell_type": "code",
   "execution_count": 68,
   "metadata": {},
   "outputs": [
    {
     "data": {
      "text/plain": [
       "370934.9580748521"
      ]
     },
     "execution_count": 68,
     "metadata": {},
     "output_type": "execute_result"
    }
   ],
   "source": [
    "np.var(SSC)\n",
    "\n",
    "#Two outlier are altering the data"
   ]
  },
  {
   "cell_type": "code",
   "execution_count": null,
   "metadata": {},
   "outputs": [],
   "source": []
  },
  {
   "cell_type": "code",
   "execution_count": 69,
   "metadata": {},
   "outputs": [
    {
     "data": {
      "text/plain": [
       "28.23023255813952"
      ]
     },
     "execution_count": 69,
     "metadata": {},
     "output_type": "execute_result"
    }
   ],
   "source": [
    "np.mean(Flow)"
   ]
  },
  {
   "cell_type": "code",
   "execution_count": 71,
   "metadata": {},
   "outputs": [
    {
     "data": {
      "text/plain": [
       "28.47636747545373"
      ]
     },
     "execution_count": 71,
     "metadata": {},
     "output_type": "execute_result"
    }
   ],
   "source": [
    "np.std(Flow)\n",
    "\n",
    "#Flow not constant through this period.\n",
    "    "
   ]
  },
  {
   "cell_type": "code",
   "execution_count": 72,
   "metadata": {},
   "outputs": [
    {
     "data": {
      "text/plain": [
       "810.9035045970792"
      ]
     },
     "execution_count": 72,
     "metadata": {},
     "output_type": "execute_result"
    }
   ],
   "source": [
    "np.var(Flow)\n",
    "\n",
    "#Data all over the place"
   ]
  },
  {
   "cell_type": "code",
   "execution_count": null,
   "metadata": {},
   "outputs": [],
   "source": []
  },
  {
   "cell_type": "code",
   "execution_count": 166,
   "metadata": {},
   "outputs": [],
   "source": [
    "def SSC_decades(mydata, istart):\n",
    "    a=dec_avg=mydata.iloc[istart:istart+9,0]\n",
    "    b=dec_avg=mydata.iloc[istart:istart+10,0]\n",
    "    \n",
    "    if istart == 2:\n",
    "        return round(np.mean(a),1) \n",
    "        \n",
    "    else:\n",
    "        return round(mean(b),1)"
   ]
  },
  {
   "cell_type": "code",
   "execution_count": 337,
   "metadata": {},
   "outputs": [
    {
     "data": {
      "text/plain": [
       "928.5"
      ]
     },
     "execution_count": 337,
     "metadata": {},
     "output_type": "execute_result"
    }
   ],
   "source": [
    "seventies=SSC_decades(RiverData,2)\n",
    "seventies"
   ]
  },
  {
   "cell_type": "code",
   "execution_count": 338,
   "metadata": {},
   "outputs": [
    {
     "data": {
      "text/plain": [
       "307.0"
      ]
     },
     "execution_count": 338,
     "metadata": {},
     "output_type": "execute_result"
    }
   ],
   "source": [
    "eigthies=SSC_decades(RiverData,11)\n",
    "eigthies"
   ]
  },
  {
   "cell_type": "code",
   "execution_count": 339,
   "metadata": {},
   "outputs": [
    {
     "data": {
      "text/plain": [
       "62.9"
      ]
     },
     "execution_count": 339,
     "metadata": {},
     "output_type": "execute_result"
    }
   ],
   "source": [
    "nineties=SSC_decades(RiverData,21)\n",
    "nineties"
   ]
  },
  {
   "cell_type": "code",
   "execution_count": 340,
   "metadata": {},
   "outputs": [
    {
     "data": {
      "text/plain": [
       "57.4"
      ]
     },
     "execution_count": 340,
     "metadata": {},
     "output_type": "execute_result"
    }
   ],
   "source": [
    "twothousand=SSC_decades(RiverData,32)\n",
    "twothousand"
   ]
  },
  {
   "cell_type": "code",
   "execution_count": 341,
   "metadata": {},
   "outputs": [
    {
     "data": {
      "text/plain": [
       "45.9"
      ]
     },
     "execution_count": 341,
     "metadata": {},
     "output_type": "execute_result"
    }
   ],
   "source": [
    "TwentyTen=SSC_decades(RiverData,42)\n",
    "TwentyTen"
   ]
  },
  {
   "cell_type": "code",
   "execution_count": 136,
   "metadata": {},
   "outputs": [],
   "source": [
    "def flow_decades(mydata, istart):\n",
    "    a=dec_avg=mydata.iloc[istart:istart+9,1]\n",
    "    b=dec_avg=mydata.iloc[istart:istart+10,1]\n",
    "    \n",
    "    if istart == 2:\n",
    "        return round(mean(a),1)\n",
    "       \n",
    "    \n",
    "    else:\n",
    "        return round(mean(b),1)\n",
    "       "
   ]
  },
  {
   "cell_type": "code",
   "execution_count": 342,
   "metadata": {},
   "outputs": [
    {
     "data": {
      "text/plain": [
       "65.7"
      ]
     },
     "execution_count": 342,
     "metadata": {},
     "output_type": "execute_result"
    }
   ],
   "source": [
    "seventiesFlow=flow_decades(RiverData,2)\n",
    "seventiesFlow"
   ]
  },
  {
   "cell_type": "code",
   "execution_count": 344,
   "metadata": {},
   "outputs": [
    {
     "data": {
      "text/plain": [
       "18.9"
      ]
     },
     "execution_count": 344,
     "metadata": {},
     "output_type": "execute_result"
    }
   ],
   "source": [
    "eigthiesFlow=flow_decades(RiverData,11)\n",
    "eigthiesFlow"
   ]
  },
  {
   "cell_type": "code",
   "execution_count": 345,
   "metadata": {},
   "outputs": [
    {
     "data": {
      "text/plain": [
       "10.8"
      ]
     },
     "execution_count": 345,
     "metadata": {},
     "output_type": "execute_result"
    }
   ],
   "source": [
    "ninetiesFlow=flow_decades(RiverData,21)\n",
    "ninetiesFlow"
   ]
  },
  {
   "cell_type": "code",
   "execution_count": 346,
   "metadata": {},
   "outputs": [
    {
     "data": {
      "text/plain": [
       "19.8"
      ]
     },
     "execution_count": 346,
     "metadata": {},
     "output_type": "execute_result"
    }
   ],
   "source": [
    "twothousandsFlow=flow_decades(RiverData,32)\n",
    "twothousandsFlow"
   ]
  },
  {
   "cell_type": "code",
   "execution_count": null,
   "metadata": {},
   "outputs": [],
   "source": []
  },
  {
   "cell_type": "code",
   "execution_count": 362,
   "metadata": {},
   "outputs": [],
   "source": [
    "decades={'DecadesSSC':{'1970s':298,'1980s':307,'1990s':63,'2000s':57,'2010s':46},\n",
    "        'DecadesFlow':{'1970s':66,'1980s':19,'1990s':11,'2000s':20}}"
   ]
  },
  {
   "cell_type": "code",
   "execution_count": 379,
   "metadata": {},
   "outputs": [
    {
     "data": {
      "text/html": [
       "<div>\n",
       "<style scoped>\n",
       "    .dataframe tbody tr th:only-of-type {\n",
       "        vertical-align: middle;\n",
       "    }\n",
       "\n",
       "    .dataframe tbody tr th {\n",
       "        vertical-align: top;\n",
       "    }\n",
       "\n",
       "    .dataframe thead th {\n",
       "        text-align: right;\n",
       "    }\n",
       "</style>\n",
       "<table border=\"1\" class=\"dataframe\">\n",
       "  <thead>\n",
       "    <tr style=\"text-align: right;\">\n",
       "      <th></th>\n",
       "      <th>DecadesSSC</th>\n",
       "      <th>DecadesFlow</th>\n",
       "    </tr>\n",
       "  </thead>\n",
       "  <tbody>\n",
       "    <tr>\n",
       "      <th>1970s</th>\n",
       "      <td>298</td>\n",
       "      <td>66.0</td>\n",
       "    </tr>\n",
       "    <tr>\n",
       "      <th>1980s</th>\n",
       "      <td>307</td>\n",
       "      <td>19.0</td>\n",
       "    </tr>\n",
       "    <tr>\n",
       "      <th>1990s</th>\n",
       "      <td>63</td>\n",
       "      <td>11.0</td>\n",
       "    </tr>\n",
       "    <tr>\n",
       "      <th>2000s</th>\n",
       "      <td>57</td>\n",
       "      <td>20.0</td>\n",
       "    </tr>\n",
       "    <tr>\n",
       "      <th>2010s</th>\n",
       "      <td>46</td>\n",
       "      <td>0.0</td>\n",
       "    </tr>\n",
       "  </tbody>\n",
       "</table>\n",
       "</div>"
      ],
      "text/plain": [
       "       DecadesSSC  DecadesFlow\n",
       "1970s         298         66.0\n",
       "1980s         307         19.0\n",
       "1990s          63         11.0\n",
       "2000s          57         20.0\n",
       "2010s          46          0.0"
      ]
     },
     "execution_count": 379,
     "metadata": {},
     "output_type": "execute_result"
    }
   ],
   "source": [
    "river_decadesdf=pd.DataFrame(decades)\n",
    "river_decadesdf\n",
    "river_decadesdf=river_decadesdf.fillna(0)\n",
    "river_decadesdf\n",
    "\n"
   ]
  },
  {
   "cell_type": "code",
   "execution_count": 366,
   "metadata": {},
   "outputs": [],
   "source": [
    "river_decadesdf.to_csv('river_decades.csv')"
   ]
  },
  {
   "cell_type": "code",
   "execution_count": 385,
   "metadata": {},
   "outputs": [
    {
     "data": {
      "image/png": "[encoded data removed]",
      "text/plain": [
       "<Figure size 432x288 with 2 Axes>"
      ]
     },
     "metadata": {
      "needs_background": "light"
     },
     "output_type": "display_data"
    }
   ],
   "source": [
    "fig, ax1=plt.subplots()\n",
    "\n",
    "    \n",
    "ax1.plot(river_decadesdf.index, river_decadesdf['DecadesSSC'], color='blue') \n",
    "ax1.set_xlabel('Year')\n",
    "ax1.set_ylabel('Sediment (mg/L/yr)', color='blue')\n",
    "ax1.tick_params('y', labelcolor='blue')   \n",
    "\n",
    "ax2=ax1.twinx()\n",
    "ax2.plot(river_decadesdf.index, river_decadesdf['DecadesFlow'], color='red')\n",
    "ax2.set_ylabel('Flow (m²/s)', color='red')\n",
    "ax2.tick_params('y', labelcolor='red')\n",
    "\n",
    "plt.savefig('RiverDecades.jpg')"
   ]
  },
  {
   "cell_type": "code",
   "execution_count": null,
   "metadata": {},
   "outputs": [],
   "source": []
  },
  {
   "cell_type": "markdown",
   "metadata": {},
   "source": [
    "___________________________________________________________________________________________________________________________\n",
    "___________________________________________________________________________________________________________________________"
   ]
  },
  {
   "cell_type": "code",
   "execution_count": null,
   "metadata": {},
   "outputs": [],
   "source": [
    "# PRECIPITATION"
   ]
  },
  {
   "cell_type": "markdown",
   "metadata": {},
   "source": [
    "Here, I will introduced precipitation data from NOAA to see if there is a relationship with the drastic declined in flow in the delta"
   ]
  },
  {
   "cell_type": "code",
   "execution_count": 650,
   "metadata": {},
   "outputs": [
    {
     "data": {
      "text/html": [
       "<div>\n",
       "<style scoped>\n",
       "    .dataframe tbody tr th:only-of-type {\n",
       "        vertical-align: middle;\n",
       "    }\n",
       "\n",
       "    .dataframe tbody tr th {\n",
       "        vertical-align: top;\n",
       "    }\n",
       "\n",
       "    .dataframe thead th {\n",
       "        text-align: right;\n",
       "    }\n",
       "</style>\n",
       "<table border=\"1\" class=\"dataframe\">\n",
       "  <thead>\n",
       "    <tr style=\"text-align: right;\">\n",
       "      <th></th>\n",
       "      <th>Precipitation</th>\n",
       "    </tr>\n",
       "    <tr>\n",
       "      <th>Year</th>\n",
       "      <th></th>\n",
       "    </tr>\n",
       "  </thead>\n",
       "  <tbody>\n",
       "    <tr>\n",
       "      <th>1970</th>\n",
       "      <td>1.82</td>\n",
       "    </tr>\n",
       "    <tr>\n",
       "      <th>1971</th>\n",
       "      <td>1.92</td>\n",
       "    </tr>\n",
       "    <tr>\n",
       "      <th>1972</th>\n",
       "      <td>2.28</td>\n",
       "    </tr>\n",
       "    <tr>\n",
       "      <th>1973</th>\n",
       "      <td>2.06</td>\n",
       "    </tr>\n",
       "    <tr>\n",
       "      <th>1974</th>\n",
       "      <td>1.23</td>\n",
       "    </tr>\n",
       "    <tr>\n",
       "      <th>1975</th>\n",
       "      <td>1.99</td>\n",
       "    </tr>\n",
       "    <tr>\n",
       "      <th>1976</th>\n",
       "      <td>2.85</td>\n",
       "    </tr>\n",
       "    <tr>\n",
       "      <th>1977</th>\n",
       "      <td>1.83</td>\n",
       "    </tr>\n",
       "    <tr>\n",
       "      <th>1978</th>\n",
       "      <td>1.87</td>\n",
       "    </tr>\n",
       "    <tr>\n",
       "      <th>1979</th>\n",
       "      <td>1.97</td>\n",
       "    </tr>\n",
       "    <tr>\n",
       "      <th>1980</th>\n",
       "      <td>1.51</td>\n",
       "    </tr>\n",
       "    <tr>\n",
       "      <th>1981</th>\n",
       "      <td>2.11</td>\n",
       "    </tr>\n",
       "    <tr>\n",
       "      <th>1982</th>\n",
       "      <td>1.75</td>\n",
       "    </tr>\n",
       "    <tr>\n",
       "      <th>1983</th>\n",
       "      <td>1.96</td>\n",
       "    </tr>\n",
       "    <tr>\n",
       "      <th>1984</th>\n",
       "      <td>2.80</td>\n",
       "    </tr>\n",
       "    <tr>\n",
       "      <th>1985</th>\n",
       "      <td>2.28</td>\n",
       "    </tr>\n",
       "    <tr>\n",
       "      <th>1986</th>\n",
       "      <td>1.92</td>\n",
       "    </tr>\n",
       "    <tr>\n",
       "      <th>1987</th>\n",
       "      <td>2.00</td>\n",
       "    </tr>\n",
       "    <tr>\n",
       "      <th>1988</th>\n",
       "      <td>1.60</td>\n",
       "    </tr>\n",
       "    <tr>\n",
       "      <th>1989</th>\n",
       "      <td>1.47</td>\n",
       "    </tr>\n",
       "    <tr>\n",
       "      <th>1990</th>\n",
       "      <td>1.31</td>\n",
       "    </tr>\n",
       "    <tr>\n",
       "      <th>1991</th>\n",
       "      <td>2.20</td>\n",
       "    </tr>\n",
       "    <tr>\n",
       "      <th>1992</th>\n",
       "      <td>2.21</td>\n",
       "    </tr>\n",
       "    <tr>\n",
       "      <th>1993</th>\n",
       "      <td>1.89</td>\n",
       "    </tr>\n",
       "    <tr>\n",
       "      <th>1994</th>\n",
       "      <td>1.67</td>\n",
       "    </tr>\n",
       "    <tr>\n",
       "      <th>1995</th>\n",
       "      <td>2.09</td>\n",
       "    </tr>\n",
       "    <tr>\n",
       "      <th>1996</th>\n",
       "      <td>1.99</td>\n",
       "    </tr>\n",
       "    <tr>\n",
       "      <th>1997</th>\n",
       "      <td>2.52</td>\n",
       "    </tr>\n",
       "    <tr>\n",
       "      <th>1998</th>\n",
       "      <td>1.38</td>\n",
       "    </tr>\n",
       "    <tr>\n",
       "      <th>1999</th>\n",
       "      <td>1.60</td>\n",
       "    </tr>\n",
       "    <tr>\n",
       "      <th>2000</th>\n",
       "      <td>1.15</td>\n",
       "    </tr>\n",
       "    <tr>\n",
       "      <th>2001</th>\n",
       "      <td>1.17</td>\n",
       "    </tr>\n",
       "    <tr>\n",
       "      <th>2002</th>\n",
       "      <td>1.97</td>\n",
       "    </tr>\n",
       "    <tr>\n",
       "      <th>2003</th>\n",
       "      <td>2.34</td>\n",
       "    </tr>\n",
       "    <tr>\n",
       "      <th>2004</th>\n",
       "      <td>2.06</td>\n",
       "    </tr>\n",
       "    <tr>\n",
       "      <th>2005</th>\n",
       "      <td>1.00</td>\n",
       "    </tr>\n",
       "    <tr>\n",
       "      <th>2006</th>\n",
       "      <td>1.51</td>\n",
       "    </tr>\n",
       "    <tr>\n",
       "      <th>2007</th>\n",
       "      <td>1.16</td>\n",
       "    </tr>\n",
       "    <tr>\n",
       "      <th>2008</th>\n",
       "      <td>2.66</td>\n",
       "    </tr>\n",
       "    <tr>\n",
       "      <th>2009</th>\n",
       "      <td>1.82</td>\n",
       "    </tr>\n",
       "    <tr>\n",
       "      <th>2010</th>\n",
       "      <td>2.54</td>\n",
       "    </tr>\n",
       "    <tr>\n",
       "      <th>2011</th>\n",
       "      <td>1.25</td>\n",
       "    </tr>\n",
       "    <tr>\n",
       "      <th>2012</th>\n",
       "      <td>1.48</td>\n",
       "    </tr>\n",
       "    <tr>\n",
       "      <th>2013</th>\n",
       "      <td>2.02</td>\n",
       "    </tr>\n",
       "    <tr>\n",
       "      <th>2014</th>\n",
       "      <td>1.99</td>\n",
       "    </tr>\n",
       "    <tr>\n",
       "      <th>2015</th>\n",
       "      <td>3.26</td>\n",
       "    </tr>\n",
       "    <tr>\n",
       "      <th>2016</th>\n",
       "      <td>1.58</td>\n",
       "    </tr>\n",
       "    <tr>\n",
       "      <th>2017</th>\n",
       "      <td>1.59</td>\n",
       "    </tr>\n",
       "    <tr>\n",
       "      <th>2018</th>\n",
       "      <td>1.60</td>\n",
       "    </tr>\n",
       "    <tr>\n",
       "      <th>2019</th>\n",
       "      <td>1.59</td>\n",
       "    </tr>\n",
       "    <tr>\n",
       "      <th>2020</th>\n",
       "      <td>1.55</td>\n",
       "    </tr>\n",
       "  </tbody>\n",
       "</table>\n",
       "</div>"
      ],
      "text/plain": [
       "      Precipitation\n",
       "Year               \n",
       "1970           1.82\n",
       "1971           1.92\n",
       "1972           2.28\n",
       "1973           2.06\n",
       "1974           1.23\n",
       "1975           1.99\n",
       "1976           2.85\n",
       "1977           1.83\n",
       "1978           1.87\n",
       "1979           1.97\n",
       "1980           1.51\n",
       "1981           2.11\n",
       "1982           1.75\n",
       "1983           1.96\n",
       "1984           2.80\n",
       "1985           2.28\n",
       "1986           1.92\n",
       "1987           2.00\n",
       "1988           1.60\n",
       "1989           1.47\n",
       "1990           1.31\n",
       "1991           2.20\n",
       "1992           2.21\n",
       "1993           1.89\n",
       "1994           1.67\n",
       "1995           2.09\n",
       "1996           1.99\n",
       "1997           2.52\n",
       "1998           1.38\n",
       "1999           1.60\n",
       "2000           1.15\n",
       "2001           1.17\n",
       "2002           1.97\n",
       "2003           2.34\n",
       "2004           2.06\n",
       "2005           1.00\n",
       "2006           1.51\n",
       "2007           1.16\n",
       "2008           2.66\n",
       "2009           1.82\n",
       "2010           2.54\n",
       "2011           1.25\n",
       "2012           1.48\n",
       "2013           2.02\n",
       "2014           1.99\n",
       "2015           3.26\n",
       "2016           1.58\n",
       "2017           1.59\n",
       "2018           1.60\n",
       "2019           1.59\n",
       "2020           1.55"
      ]
     },
     "execution_count": 650,
     "metadata": {},
     "output_type": "execute_result"
    }
   ],
   "source": [
    "RainData=pd.read_csv('precipitation.csv', index_col='Year')\n",
    "RainData"
   ]
  },
  {
   "cell_type": "code",
   "execution_count": 394,
   "metadata": {},
   "outputs": [
    {
     "data": {
      "text/plain": [
       "Year\n",
       "1970    1.82\n",
       "1971    1.92\n",
       "1972    2.28\n",
       "1973    2.06\n",
       "1974    1.23\n",
       "1975    1.99\n",
       "1976    2.85\n",
       "1977    1.83\n",
       "1978    1.87\n",
       "1979    1.97\n",
       "1980    1.51\n",
       "1981    2.11\n",
       "1982    1.75\n",
       "1983    1.96\n",
       "1984    2.80\n",
       "1985    2.28\n",
       "1986    1.92\n",
       "1987    2.00\n",
       "1988    1.60\n",
       "1989    1.47\n",
       "1990    1.31\n",
       "1991    2.20\n",
       "1992    2.21\n",
       "1993    1.89\n",
       "1994    1.67\n",
       "1995    2.09\n",
       "1996    1.99\n",
       "1997    2.52\n",
       "1998    1.38\n",
       "1999    1.60\n",
       "2000    1.15\n",
       "2001    1.17\n",
       "2002    1.97\n",
       "2003    2.34\n",
       "2004    2.06\n",
       "2005    1.00\n",
       "2006    1.51\n",
       "2007    1.16\n",
       "2008    2.66\n",
       "2009    1.82\n",
       "2010    2.54\n",
       "2011    1.25\n",
       "2012    1.48\n",
       "2013    2.02\n",
       "2014    1.99\n",
       "2015    3.26\n",
       "2016    1.58\n",
       "2017    1.59\n",
       "2018    1.60\n",
       "2019    1.59\n",
       "2020    1.55\n",
       "Name: Precipitation, dtype: float64"
      ]
     },
     "execution_count": 394,
     "metadata": {},
     "output_type": "execute_result"
    }
   ],
   "source": [
    "Rain=RainData['Precipitation']\n",
    "Rain"
   ]
  },
  {
   "cell_type": "code",
   "execution_count": 395,
   "metadata": {},
   "outputs": [
    {
     "data": {
      "text/plain": [
       "1.8700000000000003"
      ]
     },
     "execution_count": 395,
     "metadata": {},
     "output_type": "execute_result"
    }
   ],
   "source": [
    "np.mean(Rain)"
   ]
  },
  {
   "cell_type": "code",
   "execution_count": 396,
   "metadata": {},
   "outputs": [
    {
     "data": {
      "text/plain": [
       "0.467370617516385"
      ]
     },
     "execution_count": 396,
     "metadata": {},
     "output_type": "execute_result"
    }
   ],
   "source": [
    "np.std(Rain)"
   ]
  },
  {
   "cell_type": "code",
   "execution_count": 397,
   "metadata": {},
   "outputs": [
    {
     "data": {
      "text/plain": [
       "0.21843529411764703"
      ]
     },
     "execution_count": 397,
     "metadata": {},
     "output_type": "execute_result"
    }
   ],
   "source": [
    "np.var(Rain)"
   ]
  },
  {
   "cell_type": "code",
   "execution_count": 621,
   "metadata": {},
   "outputs": [
    {
     "data": {
      "text/plain": [
       "-0.004676923076923074"
      ]
     },
     "execution_count": 621,
     "metadata": {},
     "output_type": "execute_result"
    }
   ],
   "source": [
    "Rain_trend = stats.linregress(RainData.index, RainData[\"Precipitation\"])"
   ]
  },
  {
   "cell_type": "code",
   "execution_count": null,
   "metadata": {},
   "outputs": [],
   "source": [
    "Rain=RainData['Precipitation']\n",
    "Rain"
   ]
  },
  {
   "cell_type": "code",
   "execution_count": 660,
   "metadata": {},
   "outputs": [
    {
     "data": {
      "image/png": "[encoded data removed]",
      "text/plain": [
       "<Figure size 864x648 with 1 Axes>"
      ]
     },
     "metadata": {
      "needs_background": "light"
     },
     "output_type": "display_data"
    }
   ],
   "source": [
    "plt.figure(figsize=(12, 9))\n",
    "\n",
    "plt.plot(RainData.index, RainData[\"Precipitation\"],)\n",
    "plt.plot(RainData.index, Rain_trend.slope*RainData.index + Rain_trend.intercept)\n",
    "plt.title('Precipitation')\n",
    "plt.xlabel('Year')\n",
    "plt.ylabel('Precipitation (cm/yr)')\n",
    "\n",
    "               \n",
    "plt.savefig('precipitation.jpg')\n",
    "\n"
   ]
  },
  {
   "cell_type": "code",
   "execution_count": 455,
   "metadata": {},
   "outputs": [],
   "source": [
    "def rain_decades(mydata, istart):\n",
    "    a=dec_avg=mydata.iloc[istart:istart+9,1]\n",
    "    b=dec_avg=mydata.iloc[istart:istart+10,1]\n",
    "    \n",
    "    if istart == 2:\n",
    "        return round(mean(a),1)\n",
    "       \n",
    "    \n",
    "    else:\n",
    "        return round(mean(b),1)"
   ]
  },
  {
   "cell_type": "code",
   "execution_count": 483,
   "metadata": {},
   "outputs": [],
   "source": [
    "def rain_decades(mydata, istart):\n",
    "    dec_avg=mydata.iloc[istart:istart+10,0]\n",
    "    \n",
    "    return round(mean(dec_avg),1)\n",
    "    \n",
    " "
   ]
  },
  {
   "cell_type": "code",
   "execution_count": 486,
   "metadata": {},
   "outputs": [
    {
     "data": {
      "text/plain": [
       "2.0"
      ]
     },
     "execution_count": 486,
     "metadata": {},
     "output_type": "execute_result"
    }
   ],
   "source": [
    "seventiesRain=rain_decades(RainData,0)\n",
    "seventiesRain"
   ]
  },
  {
   "cell_type": "code",
   "execution_count": 488,
   "metadata": {},
   "outputs": [
    {
     "data": {
      "text/plain": [
       "1.9"
      ]
     },
     "execution_count": 488,
     "metadata": {},
     "output_type": "execute_result"
    }
   ],
   "source": [
    "eigthiesRain=rain_decades(RainData,11)\n",
    "eigthiesRain"
   ]
  },
  {
   "cell_type": "code",
   "execution_count": 489,
   "metadata": {},
   "outputs": [
    {
     "data": {
      "text/plain": [
       "1.9"
      ]
     },
     "execution_count": 489,
     "metadata": {},
     "output_type": "execute_result"
    }
   ],
   "source": [
    "ninetiesRain=rain_decades(RainData,21)\n",
    "ninetiesRain"
   ]
  },
  {
   "cell_type": "code",
   "execution_count": 490,
   "metadata": {},
   "outputs": [
    {
     "data": {
      "text/plain": [
       "1.8"
      ]
     },
     "execution_count": 490,
     "metadata": {},
     "output_type": "execute_result"
    }
   ],
   "source": [
    "twothousandsRain=rain_decades(RainData,31)\n",
    "twothousandsRain"
   ]
  },
  {
   "cell_type": "code",
   "execution_count": 491,
   "metadata": {},
   "outputs": [
    {
     "data": {
      "text/plain": [
       "1.8"
      ]
     },
     "execution_count": 491,
     "metadata": {},
     "output_type": "execute_result"
    }
   ],
   "source": [
    "TwentyTenRain=rain_decades(RainData,41)\n",
    "TwentyTenRain"
   ]
  },
  {
   "cell_type": "code",
   "execution_count": null,
   "metadata": {},
   "outputs": [],
   "source": []
  },
  {
   "cell_type": "markdown",
   "metadata": {},
   "source": [
    "_____________________________________________________________________________________________________________________________________________\n",
    "_____________________________________________________________________________________________________________________________________________"
   ]
  },
  {
   "cell_type": "code",
   "execution_count": null,
   "metadata": {},
   "outputs": [],
   "source": [
    "#COMPARISON RIVER DATA AND PRECIPITATIPON "
   ]
  },
  {
   "cell_type": "code",
   "execution_count": 493,
   "metadata": {},
   "outputs": [],
   "source": [
    "decades={'DecadesSSC':{'1970s':298,'1980s':307,'1990s':63,'2000s':57,'2010s':46},\n",
    "        'DecadesFlow':{'1970s':66,'1980s':19,'1990s':11,'2000s':20},\n",
    "         'DecadesRain':{'1970s':2.0,'1980s':1.9,'1990s':1.9,'2000s':1.8,'2010s':1.8}}"
   ]
  },
  {
   "cell_type": "code",
   "execution_count": 600,
   "metadata": {},
   "outputs": [
    {
     "data": {
      "text/html": [
       "<div>\n",
       "<style scoped>\n",
       "    .dataframe tbody tr th:only-of-type {\n",
       "        vertical-align: middle;\n",
       "    }\n",
       "\n",
       "    .dataframe tbody tr th {\n",
       "        vertical-align: top;\n",
       "    }\n",
       "\n",
       "    .dataframe thead th {\n",
       "        text-align: right;\n",
       "    }\n",
       "</style>\n",
       "<table border=\"1\" class=\"dataframe\">\n",
       "  <thead>\n",
       "    <tr style=\"text-align: right;\">\n",
       "      <th></th>\n",
       "      <th>DecadesSSC</th>\n",
       "      <th>DecadesFlow</th>\n",
       "      <th>DecadesRain</th>\n",
       "    </tr>\n",
       "  </thead>\n",
       "  <tbody>\n",
       "    <tr>\n",
       "      <th>1970s</th>\n",
       "      <td>298</td>\n",
       "      <td>66.0</td>\n",
       "      <td>2.0</td>\n",
       "    </tr>\n",
       "    <tr>\n",
       "      <th>1980s</th>\n",
       "      <td>307</td>\n",
       "      <td>19.0</td>\n",
       "      <td>1.9</td>\n",
       "    </tr>\n",
       "    <tr>\n",
       "      <th>1990s</th>\n",
       "      <td>63</td>\n",
       "      <td>11.0</td>\n",
       "      <td>1.9</td>\n",
       "    </tr>\n",
       "    <tr>\n",
       "      <th>2000s</th>\n",
       "      <td>57</td>\n",
       "      <td>20.0</td>\n",
       "      <td>1.8</td>\n",
       "    </tr>\n",
       "    <tr>\n",
       "      <th>2010s</th>\n",
       "      <td>46</td>\n",
       "      <td>0.0</td>\n",
       "      <td>1.8</td>\n",
       "    </tr>\n",
       "  </tbody>\n",
       "</table>\n",
       "</div>"
      ],
      "text/plain": [
       "       DecadesSSC  DecadesFlow  DecadesRain\n",
       "1970s         298         66.0          2.0\n",
       "1980s         307         19.0          1.9\n",
       "1990s          63         11.0          1.9\n",
       "2000s          57         20.0          1.8\n",
       "2010s          46          0.0          1.8"
      ]
     },
     "execution_count": 600,
     "metadata": {},
     "output_type": "execute_result"
    }
   ],
   "source": [
    "river_decadesdf=pd.DataFrame(decades)\n",
    "river_decadesdf\n",
    "river_decadesdf=river_decadesdf.fillna(0)\n",
    "river_decadesdf"
   ]
  },
  {
   "cell_type": "code",
   "execution_count": null,
   "metadata": {},
   "outputs": [],
   "source": []
  },
  {
   "cell_type": "code",
   "execution_count": 656,
   "metadata": {},
   "outputs": [
    {
     "data": {
      "image/png": "[encoded data removed]",
      "text/plain": [
       "<Figure size 432x288 with 3 Axes>"
      ]
     },
     "metadata": {
      "needs_background": "light"
     },
     "output_type": "display_data"
    }
   ],
   "source": [
    "fig, ax1=plt.subplots()\n",
    "\n",
    "    \n",
    "ax1.plot(river_decadesdf.index, river_decadesdf['DecadesSSC'], color='blue') \n",
    "ax1.set_xlabel('Year')\n",
    "ax1.set_ylabel('Sediment (mg/L/yr)', color='blue')\n",
    "ax1.tick_params('y', labelcolor='blue')   \n",
    "\n",
    "ax2=ax1.twinx()\n",
    "ax2.plot(river_decadesdf.index, river_decadesdf['DecadesFlow'], color='red')\n",
    "ax2.set_ylabel('Flow (m²/s)', color='red')\n",
    "ax2.tick_params('y', labelcolor='red')\n",
    "\n",
    "ax3=ax1.twinx()\n",
    "ax3.plot(river_decadesdf.index, river_decadesdf['DecadesRain'], color='green')\n",
    "ax3.set_xlabel('Precipitation (cm/yr)', color='green')\n",
    "ax3.tick_params(labelcolor='green')\n",
    "ax3.xaxis.tick_top()\n",
    "\n",
    "               \n",
    "plt.savefig('RiverDecades.jpg')\n"
   ]
  },
  {
   "cell_type": "code",
   "execution_count": null,
   "metadata": {},
   "outputs": [],
   "source": [
    "# I've tried multuple methods to fix the graph, but every method that I find online yields an error message here. "
   ]
  },
  {
   "cell_type": "code",
   "execution_count": null,
   "metadata": {},
   "outputs": [],
   "source": []
  },
  {
   "cell_type": "code",
   "execution_count": 628,
   "metadata": {},
   "outputs": [
    {
     "data": {
      "text/plain": [
       "LinregressResult(slope=-0.004676923076923074, intercept=11.200461538461532, rvalue=-0.1472973291342559, pvalue=0.30231822907091405, stderr=0.004486463282464367)"
      ]
     },
     "execution_count": 628,
     "metadata": {},
     "output_type": "execute_result"
    }
   ],
   "source": [
    "Rain_trend = stats.linregress(RainData.index, RainData[\"Precipitation\"])\n",
    "Rain_trend"
   ]
  },
  {
   "cell_type": "code",
   "execution_count": 671,
   "metadata": {},
   "outputs": [
    {
     "data": {
      "text/plain": [
       "LinregressResult(slope=nan, intercept=nan, rvalue=nan, pvalue=nan, stderr=nan)"
      ]
     },
     "execution_count": 671,
     "metadata": {},
     "output_type": "execute_result"
    }
   ],
   "source": [
    "Flow_trend = stats.linregress(NewRiverData.index, NewRiverData[\"Flow\"])\n",
    "Flow_trend"
   ]
  },
  {
   "cell_type": "code",
   "execution_count": 672,
   "metadata": {},
   "outputs": [
    {
     "data": {
      "text/plain": [
       "LinregressResult(slope=nan, intercept=nan, rvalue=nan, pvalue=nan, stderr=nan)"
      ]
     },
     "execution_count": 672,
     "metadata": {},
     "output_type": "execute_result"
    }
   ],
   "source": [
    "SSC_trend = stats.linregress(NewRiverData.index, NewRiverData[\"SSC\"])\n",
    "SSC_trend"
   ]
  },
  {
   "cell_type": "markdown",
   "metadata": {},
   "source": [
    "I tried solving this issues by deleting the NaN values from my data, but I kept getting the same results. I planned on having a more profound statistical analysis of my data, but it is not possible. "
   ]
  },
  {
   "cell_type": "code",
   "execution_count": null,
   "metadata": {},
   "outputs": [],
   "source": []
  },
  {
   "cell_type": "code",
   "execution_count": null,
   "metadata": {},
   "outputs": [],
   "source": [
    "#PERCENTAGE DECLINES IN ALL THREE DATASETS"
   ]
  },
  {
   "cell_type": "code",
   "execution_count": 649,
   "metadata": {},
   "outputs": [
    {
     "name": "stdout",
     "output_type": "stream",
     "text": [
      "River Data\n",
      "       DecadesSSC  DecadesFlow  DecadesRain\n",
      "1970s         298         66.0          2.0\n",
      "1980s         307         19.0          1.9\n",
      "1990s          63         11.0          1.9\n",
      "2000s          57         20.0          1.8\n",
      "2010s          46          0.0          1.8\n",
      "% River Data:\n",
      "       DecadesSSC  DecadesFlow  DecadesRain\n",
      "1970s   -0.029316     2.473684     0.052632\n",
      "1980s    3.873016     0.727273     0.000000\n",
      "1990s    0.105263    -0.450000     0.055556\n",
      "2000s    0.239130          inf     0.000000\n",
      "2010s         NaN          NaN          NaN\n"
     ]
    },
    {
     "data": {
      "text/plain": [
       "[<matplotlib.lines.Line2D at 0x7f7f0cbad6a0>,\n",
       " <matplotlib.lines.Line2D at 0x7f7f0cbad5b0>,\n",
       " <matplotlib.lines.Line2D at 0x7f7f0cbad7f0>]"
      ]
     },
     "execution_count": 649,
     "metadata": {},
     "output_type": "execute_result"
    },
    {
     "data": {
      "image/png": "[encoded data removed]",
      "text/plain": [
       "<Figure size 432x288 with 1 Axes>"
      ]
     },
     "metadata": {
      "needs_background": "light"
     },
     "output_type": "display_data"
    }
   ],
   "source": [
    "\n",
    "\n",
    "print(\"River Data\");\n",
    "\n",
    "print(river_decadesdf);\n",
    "\n",
    "print(\"% River Data:\")\n",
    "\n",
    "decades = river_decadesdf.pct_change(periods=-1);\n",
    "\n",
    "print(decades);\n",
    "\n",
    "plt.plot(decades)\n"
   ]
  },
  {
   "cell_type": "markdown",
   "metadata": {},
   "source": [
    "Mean precipitation has declined .2 in the last 4 decades. Although it may seem as a minor decline, it can play a major role in the overall reduction of water flowing to the Rio Grande Delta."
   ]
  },
  {
   "cell_type": "code",
   "execution_count": null,
   "metadata": {},
   "outputs": [],
   "source": []
  },
  {
   "cell_type": "code",
   "execution_count": 674,
   "metadata": {},
   "outputs": [
    {
     "name": "stdout",
     "output_type": "stream",
     "text": [
      "Dataset Values:\n",
      "       DecadesSSC  DecadesFlow  DecadesRain\n",
      "1970s         298         66.0          2.0\n",
      "1980s         307         19.0          1.9\n",
      "1990s          63         11.0          1.9\n",
      "2000s          57         20.0          1.8\n",
      "2010s          46          0.0          1.8\n",
      "Descriptive statistics for River Data:\n",
      "       DecadesSSC  DecadesFlow  DecadesRain\n",
      "count    5.000000     5.000000     5.000000\n",
      "mean   154.200000    23.200000     1.880000\n",
      "std    135.553311    25.232915     0.083666\n",
      "min     46.000000     0.000000     1.800000\n",
      "25%     57.000000    11.000000     1.800000\n",
      "50%     63.000000    19.000000     1.900000\n",
      "75%    298.000000    20.000000     1.900000\n",
      "max    307.000000    66.000000     2.000000\n"
     ]
    }
   ],
   "source": [
    "RiverDataFrame = pd.DataFrame(data=river_decadesdf)\n",
    "print(\"Dataset Values:\")\n",
    "print(RiverDataFrame)\n",
    "\n",
    "# Calculate descriptive statistics for the dataframe\n",
    "statistics = RiverDataFrame.describe();\n",
    "\n",
    "print(\"Descriptive statistics for River Data:\")\n",
    "print(statistics)"
   ]
  },
  {
   "cell_type": "code",
   "execution_count": null,
   "metadata": {},
   "outputs": [],
   "source": []
  },
  {
   "cell_type": "code",
   "execution_count": 685,
   "metadata": {},
   "outputs": [
    {
     "data": {
      "image/png": "[encoded data removed]",
      "text/plain": [
       "<Figure size 432x288 with 1 Axes>"
      ]
     },
     "metadata": {
      "needs_background": "light"
     },
     "output_type": "display_data"
    }
   ],
   "source": [
    "\n",
    "\n",
    "fig, ax = plt.subplots()\n",
    "ax.plot(river_decadesdf.index, river_decadesdf['DecadesRain'])\n",
    "ax.set(xlabel='Decades', ylabel='Precipitation (cm/yr)',\n",
    "       title='Precipitation')\n",
    "\n",
    "fig.savefig(\"Rain.png\")\n",
    "plt.show()\n",
    "\n",
    "\n"
   ]
  },
  {
   "cell_type": "code",
   "execution_count": null,
   "metadata": {},
   "outputs": [],
   "source": []
  },
  {
   "cell_type": "code",
   "execution_count": 670,
   "metadata": {},
   "outputs": [
    {
     "ename": "SyntaxError",
     "evalue": "invalid syntax (<ipython-input-670-3961becd2bc0>, line 16)",
     "output_type": "error",
     "traceback": [
      "\u001b[0;36m  File \u001b[0;32m\"<ipython-input-670-3961becd2bc0>\"\u001b[0;36m, line \u001b[0;32m16\u001b[0m\n\u001b[0;31m    ax.legend(river_decadesdf[],['first', 'second'])\u001b[0m\n\u001b[0m                              ^\u001b[0m\n\u001b[0;31mSyntaxError\u001b[0m\u001b[0;31m:\u001b[0m invalid syntax\n"
     ]
    }
   ],
   "source": [
    "fig, ax1=plt.subplots()\n",
    "\n",
    "    \n",
    "ax1.plot(river_decadesdf.index, river_decadesdf['DecadesFlow'], color='blue') \n",
    "ax1.set_xlabel('Year')\n",
    "ax1.set_ylabel('Flow (m²/s)', color='blue')\n",
    "ax1.tick_params('y', labelcolor='blue')   \n",
    "\n",
    "ax2=ax1.twinx()\n",
    "ax2.plot(river_decadesdf.index, river_decadesdf['DecadesRain'], color='green')\n",
    "\n",
    "ax2.set_xlabel('Year')\n",
    "ax2.set_ylabel('Precipitation (cm/yr)', color='green')\n",
    "ax2.tick_params('y', labelcolor='green')\n",
    "\n",
    "ax.legend(river_decadesdf[],['first', 'second'])\n",
    "plt.title('Flow v Precipitation')\n",
    "plt.savefig('RainFlow.jpg')"
   ]
  },
  {
   "cell_type": "markdown",
   "metadata": {},
   "source": [
    "They follow a similar pattern, but it does not seem to be similar. There are areas where they seem to correlate, but it is not very clear. "
   ]
  },
  {
   "cell_type": "markdown",
   "metadata": {},
   "source": [
    "________________________________________________________________________________________________________________________\n",
    "________________________________________________________________________________________________________________________"
   ]
  },
  {
   "cell_type": "code",
   "execution_count": null,
   "metadata": {},
   "outputs": [],
   "source": [
    "#MAP"
   ]
  },
  {
   "cell_type": "code",
   "execution_count": null,
   "metadata": {},
   "outputs": [],
   "source": []
  },
  {
   "cell_type": "code",
   "execution_count": 245,
   "metadata": {},
   "outputs": [],
   "source": [
    "fpath =config['data_dir'] + '/Users/edoardodavila/Downloads/ne_110m_rivers_lake_centerlines/ne_110m_rivers_lake_centerlines.shp'"
   ]
  },
  {
   "cell_type": "code",
   "execution_count": null,
   "metadata": {},
   "outputs": [],
   "source": [
    "fpath"
   ]
  },
  {
   "cell_type": "code",
   "execution_count": 327,
   "metadata": {},
   "outputs": [
    {
     "data": {
      "image/png": "[encoded data removed]",
      "text/plain": [
       "<Figure size 864x648 with 1 Axes>"
      ]
     },
     "metadata": {
      "needs_background": "light"
     },
     "output_type": "display_data"
    }
   ],
   "source": [
    "plt.figure(figsize=(12, 9))\n",
    "\n",
    "ax = plt.axes(projection=ccrs.PlateCarree())\n",
    "plt.title('RGDelta')\n",
    "ax.set_extent([-80,-115,35,15], ccrs.PlateCarree())\n",
    "ax.coastlines(resolution='110m')\n",
    "ax.gridlines(color='black')\n",
    "\n",
    "ax.add_feature(cfeature.OCEAN)\n",
    "ax.add_feature(cfeature.LAND)\n",
    "ax.add_feature(cfeature.LAKES)\n",
    "ax.add_feature(cfeature.BORDERS)\n",
    "ax.add_feature(cfeature.COASTLINE)\n",
    "ax.add_feature(cfeature.RIVERS)\n",
    "\n",
    "\n",
    "plt.plot(-97.5110, 25.9815, markersize=10, marker='o', color='red')\n",
    "plt.text(-97.5110, 26.2815, 'Delta', horizontalalignment='right', transform=ccrs.PlateCarree())\n",
    "plt.savefig('delta.png')\n",
    "plt.show()"
   ]
  },
  {
   "cell_type": "code",
   "execution_count": null,
   "metadata": {},
   "outputs": [],
   "source": []
  }
 ],
 "metadata": {
  "kernelspec": {
   "display_name": "Python 3",
   "language": "python",
   "name": "python3"
  },
  "language_info": {
   "codemirror_mode": {
    "name": "ipython",
    "version": 3
   },
   "file_extension": ".py",
   "mimetype": "text/x-python",
   "name": "python",
   "nbconvert_exporter": "python",
   "pygments_lexer": "ipython3",
   "version": "3.8.5"
  }
 },
 "nbformat": 4,
 "nbformat_minor": 4
}
