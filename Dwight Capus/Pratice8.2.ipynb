{
 "cells": [
  {
   "cell_type": "code",
   "execution_count": 2,
   "id": "historical-intranet",
   "metadata": {},
   "outputs": [
    {
     "name": "stdout",
     "output_type": "stream",
     "text": [
      "[ 500  550  600  650  700  750  800  850  900  950 1000 1050 1100 1150\n",
      " 1200 1250 1300 1350 1400 1450 1500 1550 1600 1650 1700 1750 1800 1850\n",
      " 1900 1950 2000]\n"
     ]
    }
   ],
   "source": [
    "import numpy as np\n",
    "one=np.arange(500,2000+50,50)\n",
    "print(one)"
   ]
  },
  {
   "cell_type": "code",
   "execution_count": 3,
   "id": "aboriginal-secret",
   "metadata": {},
   "outputs": [
    {
     "data": {
      "text/plain": [
       "array([500, 550, 600, 650, 700])"
      ]
     },
     "execution_count": 3,
     "metadata": {},
     "output_type": "execute_result"
    }
   ],
   "source": [
    "one[0:5]"
   ]
  },
  {
   "cell_type": "code",
   "execution_count": 4,
   "id": "numeric-willow",
   "metadata": {},
   "outputs": [
    {
     "data": {
      "text/plain": [
       "[<matplotlib.lines.Line2D at 0x17c5ddf4340>]"
      ]
     },
     "execution_count": 4,
     "metadata": {},
     "output_type": "execute_result"
    },
    {
     "data": {
      "image/png": "[encoded data removed]",
      "text/plain": [
       "<Figure size 432x288 with 1 Axes>"
      ]
     },
     "metadata": {
      "needs_background": "light"
     },
     "output_type": "display_data"
    }
   ],
   "source": [
    "import matplotlib.pyplot as plt\n",
    "plt.plot(one, color= 'red')"
   ]
  },
  {
   "cell_type": "code",
   "execution_count": null,
   "id": "identified-brave",
   "metadata": {},
   "outputs": [],
   "source": []
  }
 ],
 "metadata": {
  "kernelspec": {
   "display_name": "Python 3",
   "language": "python",
   "name": "python3"
  },
  "language_info": {
   "codemirror_mode": {
    "name": "ipython",
    "version": 3
   },
   "file_extension": ".py",
   "mimetype": "text/x-python",
   "name": "python",
   "nbconvert_exporter": "python",
   "pygments_lexer": "ipython3",
   "version": "3.8.5"
  }
 },
 "nbformat": 4,
 "nbformat_minor": 5
}
