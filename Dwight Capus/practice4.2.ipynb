{
 "cells": [
  {
   "cell_type": "code",
   "execution_count": 1,
   "id": "dressed-bangkok",
   "metadata": {},
   "outputs": [],
   "source": [
    "#Practice\n",
    "import numpy as np\n",
    "import pandas as pd"
   ]
  },
  {
   "cell_type": "code",
   "execution_count": 2,
   "id": "distinguished-diamond",
   "metadata": {},
   "outputs": [
    {
     "name": "stdout",
     "output_type": "stream",
     "text": [
      "           hare     lynx  carrot\n",
      "# year                          \n",
      "1900    30000.0   4000.0   48300\n",
      "1901    47200.0   6100.0   48200\n",
      "1902    70200.0   9800.0   41500\n",
      "1903    77400.0  35200.0   38200\n",
      "1904    36300.0  59400.0   40600\n",
      "1905    20600.0  41700.0   39800\n",
      "1906    18100.0  19000.0   38600\n",
      "1907    21400.0  13000.0   42300\n",
      "1908    22000.0   8300.0   44500\n",
      "1909    25400.0   9100.0   42100\n",
      "1910    27100.0   7400.0   46000\n",
      "1911    40300.0   8000.0   46800\n",
      "1912    57000.0  12300.0   43800\n",
      "1913    76600.0  19500.0   40900\n",
      "1914    52300.0  45700.0   39400\n",
      "1915    19500.0  51100.0   39000\n",
      "1916    11200.0  29700.0   36700\n",
      "1917     7600.0  15800.0   41800\n",
      "1918    14600.0   9700.0   43300\n",
      "1919    16200.0  10100.0   41300\n",
      "1920    24700.0   8600.0   47300\n"
     ]
    }
   ],
   "source": [
    "prac_1 = pd.read_csv('http://scipy-lectures.org/_downloads/populations.txt',sep='\\t', index_col='# year')\n",
    "print(prac_1)"
   ]
  },
  {
   "cell_type": "code",
   "execution_count": 3,
   "id": "tamil-invalid",
   "metadata": {},
   "outputs": [
    {
     "data": {
      "text/plain": [
       "hare      715700.0\n",
       "lynx      423500.0\n",
       "carrot    890400.0\n",
       "dtype: float64"
      ]
     },
     "execution_count": 3,
     "metadata": {},
     "output_type": "execute_result"
    }
   ],
   "source": [
    "prac_1.sum()"
   ]
  },
  {
   "cell_type": "code",
   "execution_count": 4,
   "id": "front-document",
   "metadata": {},
   "outputs": [
    {
     "data": {
      "text/plain": [
       "hare      1917\n",
       "lynx      1900\n",
       "carrot    1916\n",
       "dtype: int64"
      ]
     },
     "execution_count": 4,
     "metadata": {},
     "output_type": "execute_result"
    }
   ],
   "source": [
    "prac_1.idxmin()"
   ]
  },
  {
   "cell_type": "code",
   "execution_count": 5,
   "id": "sought-kingdom",
   "metadata": {},
   "outputs": [
    {
     "data": {
      "text/plain": [
       "hare      1903\n",
       "lynx      1904\n",
       "carrot    1900\n",
       "dtype: int64"
      ]
     },
     "execution_count": 5,
     "metadata": {},
     "output_type": "execute_result"
    }
   ],
   "source": [
    "prac_1.idxmax()"
   ]
  },
  {
   "cell_type": "code",
   "execution_count": 11,
   "id": "mediterranean-maple",
   "metadata": {},
   "outputs": [
    {
     "name": "stdin",
     "output_type": "stream",
     "text": [
      "Enter company name:  shell\n",
      "Enter market cap:  113900000000\n",
      "Total Revenue in 12 months:  3625700000\n",
      "Cash and Short investment:  3074000000\n",
      "Enter long term investment:  13000000\n",
      "Enter total dept:  0\n"
     ]
    },
    {
     "name": "stdout",
     "output_type": "stream",
     "text": [
      "30\n",
      "High multiple = Expensive, overbought\n"
     ]
    }
   ],
   "source": [
    "comp_name = (input(\"Enter company name: \"))  #Stock Evaluation\n",
    "market_cap = int(input(\"Enter market cap: \"))\n",
    "tot_rev= int(input(\"Total Revenue in 12 months: \"))\n",
    "cash = int(input(\"Cash and Short investment: \"))\n",
    "longterm= int(input(\"Enter long term investment: \"))\n",
    "depth = int(input(\"Enter total dept: \"))\n",
    "ent_value = market_cap + depth - cash - longterm\n",
    "x= int(ent_value/tot_rev)\n",
    "print(x)\n",
    "if x >= 30:\n",
    "    print('High multiple = Expensive, overbought')\n",
    "else:\n",
    "    print('low multiple = cheap, undervalued')"
   ]
  },
  {
   "cell_type": "code",
   "execution_count": null,
   "id": "august-press",
   "metadata": {},
   "outputs": [],
   "source": []
  }
 ],
 "metadata": {
  "kernelspec": {
   "display_name": "Python 3",
   "language": "python",
   "name": "python3"
  },
  "language_info": {
   "codemirror_mode": {
    "name": "ipython",
    "version": 3
   },
   "file_extension": ".py",
   "mimetype": "text/x-python",
   "name": "python",
   "nbconvert_exporter": "python",
   "pygments_lexer": "ipython3",
   "version": "3.8.5"
  }
 },
 "nbformat": 4,
 "nbformat_minor": 5
}
