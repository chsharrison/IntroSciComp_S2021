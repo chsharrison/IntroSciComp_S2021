{
 "cells": [
  {
   "cell_type": "markdown",
   "id": "fitted-theory",
   "metadata": {},
   "source": [
    "Name"
   ]
  },
  {
   "cell_type": "markdown",
   "id": "driving-screen",
   "metadata": {},
   "source": [
    "Labpartner(s)"
   ]
  },
  {
   "cell_type": "code",
   "execution_count": 1,
   "id": "macro-patrol",
   "metadata": {},
   "outputs": [],
   "source": [
    "#import statements go here\n",
    "\n",
    "import numpy as np\n",
    "import matplotlib.pyplot as plt\n",
    "import pandas as pd"
   ]
  },
  {
   "cell_type": "code",
   "execution_count": null,
   "id": "cardiovascular-distributor",
   "metadata": {},
   "outputs": [],
   "source": []
  },
  {
   "cell_type": "markdown",
   "id": "ordinary-guarantee",
   "metadata": {},
   "source": [
    "# Class 10.2"
   ]
  },
  {
   "cell_type": "markdown",
   "id": "criminal-moore",
   "metadata": {},
   "source": [
    "# Warmups 10.2"
   ]
  },
  {
   "cell_type": "markdown",
   "id": "received-curve",
   "metadata": {},
   "source": [
    "If you do not complete the warmup during the class period, complete for homework and review/expand for weekly practice. These are basic coding skills you need to be comfortable with. Work on the following for 25 min and then we will go over them together:"
   ]
  },
  {
   "cell_type": "markdown",
   "id": "digital-singer",
   "metadata": {},
   "source": [
    "**W.1** Write a function that returns a list of the first n powers of 2 (2^0, 2^1, 2^2, 2^3...2^n)."
   ]
  },
  {
   "cell_type": "code",
   "execution_count": 2,
   "id": "activated-storage",
   "metadata": {},
   "outputs": [],
   "source": [
    "def npowers(n):\n",
    "    return [1 << i for i in range(n)]"
   ]
  },
  {
   "cell_type": "code",
   "execution_count": 3,
   "id": "metric-machinery",
   "metadata": {},
   "outputs": [
    {
     "data": {
      "text/plain": [
       "[1, 2, 4, 8]"
      ]
     },
     "execution_count": 3,
     "metadata": {},
     "output_type": "execute_result"
    }
   ],
   "source": [
    "npowers(4)"
   ]
  },
  {
   "cell_type": "code",
   "execution_count": 4,
   "id": "innovative-indicator",
   "metadata": {},
   "outputs": [
    {
     "data": {
      "text/plain": [
       "[1,\n",
       " 2,\n",
       " 4,\n",
       " 8,\n",
       " 16,\n",
       " 32,\n",
       " 64,\n",
       " 128,\n",
       " 256,\n",
       " 512,\n",
       " 1024,\n",
       " 2048,\n",
       " 4096,\n",
       " 8192,\n",
       " 16384,\n",
       " 32768,\n",
       " 65536,\n",
       " 131072,\n",
       " 262144,\n",
       " 524288,\n",
       " 1048576,\n",
       " 2097152,\n",
       " 4194304,\n",
       " 8388608,\n",
       " 16777216,\n",
       " 33554432,\n",
       " 67108864,\n",
       " 134217728,\n",
       " 268435456,\n",
       " 536870912,\n",
       " 1073741824,\n",
       " 2147483648,\n",
       " 4294967296,\n",
       " 8589934592,\n",
       " 17179869184,\n",
       " 34359738368,\n",
       " 68719476736,\n",
       " 137438953472,\n",
       " 274877906944,\n",
       " 549755813888,\n",
       " 1099511627776,\n",
       " 2199023255552,\n",
       " 4398046511104,\n",
       " 8796093022208,\n",
       " 17592186044416,\n",
       " 35184372088832,\n",
       " 70368744177664,\n",
       " 140737488355328,\n",
       " 281474976710656,\n",
       " 562949953421312,\n",
       " 1125899906842624,\n",
       " 2251799813685248,\n",
       " 4503599627370496,\n",
       " 9007199254740992,\n",
       " 18014398509481984,\n",
       " 36028797018963968,\n",
       " 72057594037927936,\n",
       " 144115188075855872,\n",
       " 288230376151711744,\n",
       " 576460752303423488,\n",
       " 1152921504606846976,\n",
       " 2305843009213693952,\n",
       " 4611686018427387904,\n",
       " 9223372036854775808,\n",
       " 18446744073709551616,\n",
       " 36893488147419103232,\n",
       " 73786976294838206464,\n",
       " 147573952589676412928,\n",
       " 295147905179352825856,\n",
       " 590295810358705651712,\n",
       " 1180591620717411303424,\n",
       " 2361183241434822606848,\n",
       " 4722366482869645213696,\n",
       " 9444732965739290427392,\n",
       " 18889465931478580854784,\n",
       " 37778931862957161709568,\n",
       " 75557863725914323419136,\n",
       " 151115727451828646838272,\n",
       " 302231454903657293676544,\n",
       " 604462909807314587353088,\n",
       " 1208925819614629174706176,\n",
       " 2417851639229258349412352,\n",
       " 4835703278458516698824704,\n",
       " 9671406556917033397649408,\n",
       " 19342813113834066795298816,\n",
       " 38685626227668133590597632,\n",
       " 77371252455336267181195264,\n",
       " 154742504910672534362390528,\n",
       " 309485009821345068724781056,\n",
       " 618970019642690137449562112,\n",
       " 1237940039285380274899124224,\n",
       " 2475880078570760549798248448,\n",
       " 4951760157141521099596496896,\n",
       " 9903520314283042199192993792,\n",
       " 19807040628566084398385987584,\n",
       " 39614081257132168796771975168,\n",
       " 79228162514264337593543950336,\n",
       " 158456325028528675187087900672,\n",
       " 316912650057057350374175801344,\n",
       " 633825300114114700748351602688]"
      ]
     },
     "execution_count": 4,
     "metadata": {},
     "output_type": "execute_result"
    }
   ],
   "source": [
    "npowers(100)"
   ]
  },
  {
   "cell_type": "markdown",
   "id": "broad-southwest",
   "metadata": {},
   "source": [
    "**W.2** Using the function above, plot the first 100 powers of 2"
   ]
  },
  {
   "cell_type": "code",
   "execution_count": 5,
   "id": "basic-tamil",
   "metadata": {},
   "outputs": [
    {
     "data": {
      "text/plain": [
       "[<matplotlib.lines.Line2D at 0x2124f2e29d0>]"
      ]
     },
     "execution_count": 5,
     "metadata": {},
     "output_type": "execute_result"
    },
    {
     "data": {
      "image/png": "[encoded data removed]",
      "text/plain": [
       "<Figure size 432x288 with 1 Axes>"
      ]
     },
     "metadata": {
      "needs_background": "light"
     },
     "output_type": "display_data"
    }
   ],
   "source": [
    "fig, ax = plt.subplots()\n",
    "ax.plot(npowers(100))\n"
   ]
  },
  {
   "cell_type": "code",
   "execution_count": 6,
   "id": "imported-project",
   "metadata": {},
   "outputs": [],
   "source": [
    "def powers(n):\n",
    "    #first = 0 (not needed)\n",
    "    alist = []\n",
    "    for exponent in range(1, n):\n",
    "        alist = alist + [2**exponent]\n",
    "        #alist.append(2**exponent)\n",
    "    return alist"
   ]
  },
  {
   "cell_type": "code",
   "execution_count": 7,
   "id": "agricultural-annotation",
   "metadata": {},
   "outputs": [
    {
     "data": {
      "text/plain": [
       "[2, 4]"
      ]
     },
     "execution_count": 7,
     "metadata": {},
     "output_type": "execute_result"
    }
   ],
   "source": [
    "powers(3)"
   ]
  },
  {
   "cell_type": "markdown",
   "id": "unavailable-traveler",
   "metadata": {},
   "source": [
    "# Lecture 10.1\n",
    "\n",
    "### Agenda:\n",
    "- Announcements\n",
    "- Correlation \n",
    "- Introduction to fittng models to data"
   ]
  },
  {
   "cell_type": "markdown",
   "id": "elementary-fitness",
   "metadata": {},
   "source": [
    "#### Announcements\n",
    "- Congratulations to everyone who got over 20,000 points on data camp! +5 tokens for all of you. For those of you catching up, let me know if you reach this. There will be pizza and other prizes for the top token folks.\n",
    "- August figured out the issue with making all the frames the same length in Davinci Resolve +2 tokens\n",
    "- Reports that the last few datacamp chapters were unclear. What are good strategies for dealing with this?\n"
   ]
  },
  {
   "cell_type": "markdown",
   "id": "fewer-humanity",
   "metadata": {},
   "source": [
    "### Correlation"
   ]
  },
  {
   "cell_type": "markdown",
   "id": "robust-saudi",
   "metadata": {},
   "source": [
    "### A note of caution:\n",
    "\n",
    "\"Correlation does not imply causation\"\n",
    "\n",
    "Example:\n",
    "As ice cream sales increase, the rate of drowning deaths increases sharply.\n",
    "Therefore, ice cream consumption causes drowning.\n",
    "\n",
    "When we get data, we want to describe how variables relate to each other. The simplest question we can ask are two variables correlated, that is do they change togehter?\n",
    "\n",
    "The metric we use for correlation is the Pearson correlation coefficient, which is hard to grasp intuitively from looking at the equation (see https://en.wikipedia.org/wiki/Correlation_and_dependence). Basically, correlation is a measure of how linearly correlated two variables are, and has values between 1 and -1. If the two variables fall on a straight line and the both increase together, then the correlation is 1. If one increases while the other decreases, the correlation is -1. Correlations near zero mean the two variables are not correlated. \n",
    "\n",
    "Let's use some movie data to test if budgets and gross earnings are correlated. This is from the pandas tutorial here https://www.dataquest.io/blog/excel-and-pandas/ which uses and IMDB dataset. See also the lectures from this class in Fall 2019 "
   ]
  },
  {
   "cell_type": "markdown",
   "id": "received-panel",
   "metadata": {},
   "source": [
    "You can download the data file on the above website."
   ]
  },
  {
   "cell_type": "raw",
   "id": "average-denmark",
   "metadata": {},
   "source": [
    "file = \"movies.xls\"\n",
    "movies_sheet1 = pd.read_excel(file, sheet_name=0, index_col=0)\n",
    "movies_sheet2 = pd.read_excel(file, sheet_name=1, index_col=0)\n",
    "movies_sheet3 = pd.read_excel(file, sheet_name=2, index_col=0)\n",
    "movies = pd.concat([movies_sheet1, movies_sheet2, movies_sheet3])"
   ]
  },
  {
   "cell_type": "code",
   "execution_count": 8,
   "id": "innovative-interview",
   "metadata": {},
   "outputs": [
    {
     "ename": "NameError",
     "evalue": "name 'movies' is not defined",
     "output_type": "error",
     "traceback": [
      "\u001b[1;31m---------------------------------------------------------------------------\u001b[0m",
      "\u001b[1;31mNameError\u001b[0m                                 Traceback (most recent call last)",
      "\u001b[1;32m<ipython-input-8-6cde5ffc1ab2>\u001b[0m in \u001b[0;36m<module>\u001b[1;34m\u001b[0m\n\u001b[1;32m----> 1\u001b[1;33m \u001b[0mmovies\u001b[0m \u001b[1;31m# over 5000 movies\u001b[0m\u001b[1;33m\u001b[0m\u001b[1;33m\u001b[0m\u001b[0m\n\u001b[0m",
      "\u001b[1;31mNameError\u001b[0m: name 'movies' is not defined"
     ]
    }
   ],
   "source": [
    "movies # over 5000 movies"
   ]
  },
  {
   "cell_type": "code",
   "execution_count": null,
   "id": "industrial-referral",
   "metadata": {},
   "outputs": [],
   "source": [
    "# let's plot earnings vs. budget and a 1 to 1 line\n",
    "\n",
    "# plot Budget vs Gross Earnings\n",
    "plt.scatter(movies['Budget'], movies['Gross Earnings'])\n",
    "plt.plot([0,1E10],[0,1E10], 'k--')\n",
    "plt.xlabel('Budget')\n",
    "plt.ylabel('Gross Earnings')\n",
    "#plt.xlim([0,0.1E10])\n",
    "plt.xlim([0,0.04E10])\n",
    "plt.ylim([0,1E9])"
   ]
  },
  {
   "cell_type": "markdown",
   "id": "difficult-drama",
   "metadata": {},
   "source": [
    "In the above I have added the y=x line to visualize if the gross earnings were above the budget. \n",
    "Because many of the data points are on top of each other, it is difficult to assess visually the relationship between the two variables"
   ]
  },
  {
   "cell_type": "markdown",
   "id": "improved-combat",
   "metadata": {},
   "source": [
    "Note that pandas allows us to get the correlation of the entire dataframe all at once. There are many other packages that will do this as well, including numpy."
   ]
  },
  {
   "cell_type": "code",
   "execution_count": null,
   "id": "touched-while",
   "metadata": {},
   "outputs": [],
   "source": [
    "movies.corr()\n",
    "# Budget and Gross earnings are not very correlated, r = 0.10"
   ]
  },
  {
   "cell_type": "code",
   "execution_count": null,
   "id": "healthy-apartment",
   "metadata": {},
   "outputs": [],
   "source": []
  },
  {
   "cell_type": "markdown",
   "id": "floppy-pharmacy",
   "metadata": {},
   "source": [
    "### Introduction to linear regression\n",
    "\n",
    "See https://en.wikipedia.org/wiki/Linear_regression and http://onlinestatbook.com/2/regression/regression.html for a nice introduction. See https://towardsdatascience.com/linear-regression-using-python-b136c91bf0a2 for a good intro on the math\n",
    "\n",
    "Supposed we were convinced that gross earnings were linearly related to budget, i.e. G = a*B +c. To test this, we would fit the scatterplot we made above to a line, which would solve for the coefficients a (slope) and c (intercept) in our linear equation.\n",
    "\n",
    "The basic idea of linear regression is that one finds the distance of each data point to a line and minimize this (using calculus) to find the best fit line. This is commonly called ordinary least squares, as the distance of the data from the linear model is squared.\n",
    "\n",
    "Because the movies database has a number of NaNs (not a number, or missing values) in it, it's a bit difficult to work with (but see tips on revmoving NaNs in the resources page in github). Instead, let's do the tutorial here on linear regression using Boston housing data: https://towardsdatascience.com/linear-regression-on-boston-housing-dataset-f409b7e4a155 This tutorial uses the package scikit-learn, which is a collection of advanced data analysis and machine learning functions. We will use this again in the future. Scikit-learn comes with a number of datasets to practice with, the housing data is one of them.\n"
   ]
  },
  {
   "cell_type": "code",
   "execution_count": 12,
   "id": "stone-couple",
   "metadata": {},
   "outputs": [],
   "source": [
    "from sklearn import datasets ## imports datasets from scikit-learn\n",
    "data = datasets.load_boston() ## loads Boston dataset from datasets library "
   ]
  },
  {
   "cell_type": "markdown",
   "id": "descending-samba",
   "metadata": {},
   "source": [
    "What we want to do here is to determine which variables contribute to housing prices"
   ]
  },
  {
   "cell_type": "code",
   "execution_count": 13,
   "id": "acute-belgium",
   "metadata": {},
   "outputs": [
    {
     "data": {
      "text/plain": [
       "\u001b[1;31mType:\u001b[0m        Bunch\n",
       "\u001b[1;31mString form:\u001b[0m\n",
       "{'data': array([[6.3200e-03, 1.8000e+01, 2.3100e+00, ..., 1.5300e+01, 3.9690e+02,\n",
       "           4.9800e <...> dafinal\\\\envs\\\\forcartopy\\\\lib\\\\site-packages\\\\sklearn\\\\datasets\\\\data\\\\boston_house_prices.csv'}\n",
       "\u001b[1;31mLength:\u001b[0m      5\n",
       "\u001b[1;31mFile:\u001b[0m        c:\\users\\zedri\\anacondafinal\\envs\\forcartopy\\lib\\site-packages\\sklearn\\utils\\__init__.py\n",
       "\u001b[1;31mDocstring:\u001b[0m  \n",
       "Container object exposing keys as attributes.\n",
       "\n",
       "Bunch objects are sometimes used as an output for functions and methods.\n",
       "They extend dictionaries by enabling values to be accessed by key,\n",
       "`bunch[\"value_key\"]`, or by an attribute, `bunch.value_key`.\n",
       "\n",
       "Examples\n",
       "--------\n",
       ">>> b = Bunch(a=1, b=2)\n",
       ">>> b['b']\n",
       "2\n",
       ">>> b.b\n",
       "2\n",
       ">>> b.a = 3\n",
       ">>> b['a']\n",
       "3\n",
       ">>> b.c = 6\n",
       ">>> b['c']\n",
       "6\n"
      ]
     },
     "metadata": {},
     "output_type": "display_data"
    }
   ],
   "source": [
    "data?\n",
    "# this is a new type of thing, a bunch"
   ]
  },
  {
   "cell_type": "code",
   "execution_count": 14,
   "id": "chemical-movement",
   "metadata": {},
   "outputs": [
    {
     "name": "stdout",
     "output_type": "stream",
     "text": [
      ".. _boston_dataset:\n",
      "\n",
      "Boston house prices dataset\n",
      "---------------------------\n",
      "\n",
      "**Data Set Characteristics:**  \n",
      "\n",
      "    :Number of Instances: 506 \n",
      "\n",
      "    :Number of Attributes: 13 numeric/categorical predictive. Median Value (attribute 14) is usually the target.\n",
      "\n",
      "    :Attribute Information (in order):\n",
      "        - CRIM     per capita crime rate by town\n",
      "        - ZN       proportion of residential land zoned for lots over 25,000 sq.ft.\n",
      "        - INDUS    proportion of non-retail business acres per town\n",
      "        - CHAS     Charles River dummy variable (= 1 if tract bounds river; 0 otherwise)\n",
      "        - NOX      nitric oxides concentration (parts per 10 million)\n",
      "        - RM       average number of rooms per dwelling\n",
      "        - AGE      proportion of owner-occupied units built prior to 1940\n",
      "        - DIS      weighted distances to five Boston employment centres\n",
      "        - RAD      index of accessibility to radial highways\n",
      "        - TAX      full-value property-tax rate per $10,000\n",
      "        - PTRATIO  pupil-teacher ratio by town\n",
      "        - B        1000(Bk - 0.63)^2 where Bk is the proportion of blacks by town\n",
      "        - LSTAT    % lower status of the population\n",
      "        - MEDV     Median value of owner-occupied homes in $1000's\n",
      "\n",
      "    :Missing Attribute Values: None\n",
      "\n",
      "    :Creator: Harrison, D. and Rubinfeld, D.L.\n",
      "\n",
      "This is a copy of UCI ML housing dataset.\n",
      "https://archive.ics.uci.edu/ml/machine-learning-databases/housing/\n",
      "\n",
      "\n",
      "This dataset was taken from the StatLib library which is maintained at Carnegie Mellon University.\n",
      "\n",
      "The Boston house-price data of Harrison, D. and Rubinfeld, D.L. 'Hedonic\n",
      "prices and the demand for clean air', J. Environ. Economics & Management,\n",
      "vol.5, 81-102, 1978.   Used in Belsley, Kuh & Welsch, 'Regression diagnostics\n",
      "...', Wiley, 1980.   N.B. Various transformations are used in the table on\n",
      "pages 244-261 of the latter.\n",
      "\n",
      "The Boston house-price data has been used in many machine learning papers that address regression\n",
      "problems.   \n",
      "     \n",
      ".. topic:: References\n",
      "\n",
      "   - Belsley, Kuh & Welsch, 'Regression diagnostics: Identifying Influential Data and Sources of Collinearity', Wiley, 1980. 244-261.\n",
      "   - Quinlan,R. (1993). Combining Instance-Based and Model-Based Learning. In Proceedings on the Tenth International Conference of Machine Learning, 236-243, University of Massachusetts, Amherst. Morgan Kaufmann.\n",
      "\n"
     ]
    }
   ],
   "source": [
    "# information on the data:\n",
    "print(data.DESCR)"
   ]
  },
  {
   "cell_type": "markdown",
   "id": "opposite-method",
   "metadata": {},
   "source": [
    "It is really common in scikitlearn to break the data up into a target dataset, the thing one is trying to predict, and all the factors that may affect that target variable"
   ]
  },
  {
   "cell_type": "code",
   "execution_count": 15,
   "id": "virgin-congo",
   "metadata": {},
   "outputs": [],
   "source": [
    "# convert the data set into a pandas data frame  \n",
    "df = pd.DataFrame(data.data, columns=data.feature_names)\n",
    "\n",
    "# Put the target (housing value -- MEDV) in another DataFrame\n",
    "target = pd.DataFrame(data.target, columns=[\"MEDV\"])"
   ]
  },
  {
   "cell_type": "markdown",
   "id": "elect-parent",
   "metadata": {},
   "source": [
    "Create a second dataframe with the housing value added as a column. \n",
    "What variables correlate most with housing value? Hypothesize why this might be."
   ]
  },
  {
   "cell_type": "code",
   "execution_count": 16,
   "id": "molecular-vessel",
   "metadata": {},
   "outputs": [],
   "source": [
    "# create a second dataframe that has MEDV in it so we can look at correlation`\n",
    "df2 = df\n",
    "df2['MEDV'] = target.MEDV"
   ]
  },
  {
   "cell_type": "code",
   "execution_count": 17,
   "id": "elegant-reach",
   "metadata": {},
   "outputs": [
    {
     "data": {
      "text/html": [
       "<div>\n",
       "<style scoped>\n",
       "    .dataframe tbody tr th:only-of-type {\n",
       "        vertical-align: middle;\n",
       "    }\n",
       "\n",
       "    .dataframe tbody tr th {\n",
       "        vertical-align: top;\n",
       "    }\n",
       "\n",
       "    .dataframe thead th {\n",
       "        text-align: right;\n",
       "    }\n",
       "</style>\n",
       "<table border=\"1\" class=\"dataframe\">\n",
       "  <thead>\n",
       "    <tr style=\"text-align: right;\">\n",
       "      <th></th>\n",
       "      <th>CRIM</th>\n",
       "      <th>ZN</th>\n",
       "      <th>INDUS</th>\n",
       "      <th>CHAS</th>\n",
       "      <th>NOX</th>\n",
       "      <th>RM</th>\n",
       "      <th>AGE</th>\n",
       "      <th>DIS</th>\n",
       "      <th>RAD</th>\n",
       "      <th>TAX</th>\n",
       "      <th>PTRATIO</th>\n",
       "      <th>B</th>\n",
       "      <th>LSTAT</th>\n",
       "      <th>MEDV</th>\n",
       "    </tr>\n",
       "  </thead>\n",
       "  <tbody>\n",
       "    <tr>\n",
       "      <th>CRIM</th>\n",
       "      <td>1.000000</td>\n",
       "      <td>-0.200469</td>\n",
       "      <td>0.406583</td>\n",
       "      <td>-0.055892</td>\n",
       "      <td>0.420972</td>\n",
       "      <td>-0.219247</td>\n",
       "      <td>0.352734</td>\n",
       "      <td>-0.379670</td>\n",
       "      <td>0.625505</td>\n",
       "      <td>0.582764</td>\n",
       "      <td>0.289946</td>\n",
       "      <td>-0.385064</td>\n",
       "      <td>0.455621</td>\n",
       "      <td>-0.388305</td>\n",
       "    </tr>\n",
       "    <tr>\n",
       "      <th>ZN</th>\n",
       "      <td>-0.200469</td>\n",
       "      <td>1.000000</td>\n",
       "      <td>-0.533828</td>\n",
       "      <td>-0.042697</td>\n",
       "      <td>-0.516604</td>\n",
       "      <td>0.311991</td>\n",
       "      <td>-0.569537</td>\n",
       "      <td>0.664408</td>\n",
       "      <td>-0.311948</td>\n",
       "      <td>-0.314563</td>\n",
       "      <td>-0.391679</td>\n",
       "      <td>0.175520</td>\n",
       "      <td>-0.412995</td>\n",
       "      <td>0.360445</td>\n",
       "    </tr>\n",
       "    <tr>\n",
       "      <th>INDUS</th>\n",
       "      <td>0.406583</td>\n",
       "      <td>-0.533828</td>\n",
       "      <td>1.000000</td>\n",
       "      <td>0.062938</td>\n",
       "      <td>0.763651</td>\n",
       "      <td>-0.391676</td>\n",
       "      <td>0.644779</td>\n",
       "      <td>-0.708027</td>\n",
       "      <td>0.595129</td>\n",
       "      <td>0.720760</td>\n",
       "      <td>0.383248</td>\n",
       "      <td>-0.356977</td>\n",
       "      <td>0.603800</td>\n",
       "      <td>-0.483725</td>\n",
       "    </tr>\n",
       "    <tr>\n",
       "      <th>CHAS</th>\n",
       "      <td>-0.055892</td>\n",
       "      <td>-0.042697</td>\n",
       "      <td>0.062938</td>\n",
       "      <td>1.000000</td>\n",
       "      <td>0.091203</td>\n",
       "      <td>0.091251</td>\n",
       "      <td>0.086518</td>\n",
       "      <td>-0.099176</td>\n",
       "      <td>-0.007368</td>\n",
       "      <td>-0.035587</td>\n",
       "      <td>-0.121515</td>\n",
       "      <td>0.048788</td>\n",
       "      <td>-0.053929</td>\n",
       "      <td>0.175260</td>\n",
       "    </tr>\n",
       "    <tr>\n",
       "      <th>NOX</th>\n",
       "      <td>0.420972</td>\n",
       "      <td>-0.516604</td>\n",
       "      <td>0.763651</td>\n",
       "      <td>0.091203</td>\n",
       "      <td>1.000000</td>\n",
       "      <td>-0.302188</td>\n",
       "      <td>0.731470</td>\n",
       "      <td>-0.769230</td>\n",
       "      <td>0.611441</td>\n",
       "      <td>0.668023</td>\n",
       "      <td>0.188933</td>\n",
       "      <td>-0.380051</td>\n",
       "      <td>0.590879</td>\n",
       "      <td>-0.427321</td>\n",
       "    </tr>\n",
       "    <tr>\n",
       "      <th>RM</th>\n",
       "      <td>-0.219247</td>\n",
       "      <td>0.311991</td>\n",
       "      <td>-0.391676</td>\n",
       "      <td>0.091251</td>\n",
       "      <td>-0.302188</td>\n",
       "      <td>1.000000</td>\n",
       "      <td>-0.240265</td>\n",
       "      <td>0.205246</td>\n",
       "      <td>-0.209847</td>\n",
       "      <td>-0.292048</td>\n",
       "      <td>-0.355501</td>\n",
       "      <td>0.128069</td>\n",
       "      <td>-0.613808</td>\n",
       "      <td>0.695360</td>\n",
       "    </tr>\n",
       "    <tr>\n",
       "      <th>AGE</th>\n",
       "      <td>0.352734</td>\n",
       "      <td>-0.569537</td>\n",
       "      <td>0.644779</td>\n",
       "      <td>0.086518</td>\n",
       "      <td>0.731470</td>\n",
       "      <td>-0.240265</td>\n",
       "      <td>1.000000</td>\n",
       "      <td>-0.747881</td>\n",
       "      <td>0.456022</td>\n",
       "      <td>0.506456</td>\n",
       "      <td>0.261515</td>\n",
       "      <td>-0.273534</td>\n",
       "      <td>0.602339</td>\n",
       "      <td>-0.376955</td>\n",
       "    </tr>\n",
       "    <tr>\n",
       "      <th>DIS</th>\n",
       "      <td>-0.379670</td>\n",
       "      <td>0.664408</td>\n",
       "      <td>-0.708027</td>\n",
       "      <td>-0.099176</td>\n",
       "      <td>-0.769230</td>\n",
       "      <td>0.205246</td>\n",
       "      <td>-0.747881</td>\n",
       "      <td>1.000000</td>\n",
       "      <td>-0.494588</td>\n",
       "      <td>-0.534432</td>\n",
       "      <td>-0.232471</td>\n",
       "      <td>0.291512</td>\n",
       "      <td>-0.496996</td>\n",
       "      <td>0.249929</td>\n",
       "    </tr>\n",
       "    <tr>\n",
       "      <th>RAD</th>\n",
       "      <td>0.625505</td>\n",
       "      <td>-0.311948</td>\n",
       "      <td>0.595129</td>\n",
       "      <td>-0.007368</td>\n",
       "      <td>0.611441</td>\n",
       "      <td>-0.209847</td>\n",
       "      <td>0.456022</td>\n",
       "      <td>-0.494588</td>\n",
       "      <td>1.000000</td>\n",
       "      <td>0.910228</td>\n",
       "      <td>0.464741</td>\n",
       "      <td>-0.444413</td>\n",
       "      <td>0.488676</td>\n",
       "      <td>-0.381626</td>\n",
       "    </tr>\n",
       "    <tr>\n",
       "      <th>TAX</th>\n",
       "      <td>0.582764</td>\n",
       "      <td>-0.314563</td>\n",
       "      <td>0.720760</td>\n",
       "      <td>-0.035587</td>\n",
       "      <td>0.668023</td>\n",
       "      <td>-0.292048</td>\n",
       "      <td>0.506456</td>\n",
       "      <td>-0.534432</td>\n",
       "      <td>0.910228</td>\n",
       "      <td>1.000000</td>\n",
       "      <td>0.460853</td>\n",
       "      <td>-0.441808</td>\n",
       "      <td>0.543993</td>\n",
       "      <td>-0.468536</td>\n",
       "    </tr>\n",
       "    <tr>\n",
       "      <th>PTRATIO</th>\n",
       "      <td>0.289946</td>\n",
       "      <td>-0.391679</td>\n",
       "      <td>0.383248</td>\n",
       "      <td>-0.121515</td>\n",
       "      <td>0.188933</td>\n",
       "      <td>-0.355501</td>\n",
       "      <td>0.261515</td>\n",
       "      <td>-0.232471</td>\n",
       "      <td>0.464741</td>\n",
       "      <td>0.460853</td>\n",
       "      <td>1.000000</td>\n",
       "      <td>-0.177383</td>\n",
       "      <td>0.374044</td>\n",
       "      <td>-0.507787</td>\n",
       "    </tr>\n",
       "    <tr>\n",
       "      <th>B</th>\n",
       "      <td>-0.385064</td>\n",
       "      <td>0.175520</td>\n",
       "      <td>-0.356977</td>\n",
       "      <td>0.048788</td>\n",
       "      <td>-0.380051</td>\n",
       "      <td>0.128069</td>\n",
       "      <td>-0.273534</td>\n",
       "      <td>0.291512</td>\n",
       "      <td>-0.444413</td>\n",
       "      <td>-0.441808</td>\n",
       "      <td>-0.177383</td>\n",
       "      <td>1.000000</td>\n",
       "      <td>-0.366087</td>\n",
       "      <td>0.333461</td>\n",
       "    </tr>\n",
       "    <tr>\n",
       "      <th>LSTAT</th>\n",
       "      <td>0.455621</td>\n",
       "      <td>-0.412995</td>\n",
       "      <td>0.603800</td>\n",
       "      <td>-0.053929</td>\n",
       "      <td>0.590879</td>\n",
       "      <td>-0.613808</td>\n",
       "      <td>0.602339</td>\n",
       "      <td>-0.496996</td>\n",
       "      <td>0.488676</td>\n",
       "      <td>0.543993</td>\n",
       "      <td>0.374044</td>\n",
       "      <td>-0.366087</td>\n",
       "      <td>1.000000</td>\n",
       "      <td>-0.737663</td>\n",
       "    </tr>\n",
       "    <tr>\n",
       "      <th>MEDV</th>\n",
       "      <td>-0.388305</td>\n",
       "      <td>0.360445</td>\n",
       "      <td>-0.483725</td>\n",
       "      <td>0.175260</td>\n",
       "      <td>-0.427321</td>\n",
       "      <td>0.695360</td>\n",
       "      <td>-0.376955</td>\n",
       "      <td>0.249929</td>\n",
       "      <td>-0.381626</td>\n",
       "      <td>-0.468536</td>\n",
       "      <td>-0.507787</td>\n",
       "      <td>0.333461</td>\n",
       "      <td>-0.737663</td>\n",
       "      <td>1.000000</td>\n",
       "    </tr>\n",
       "  </tbody>\n",
       "</table>\n",
       "</div>"
      ],
      "text/plain": [
       "             CRIM        ZN     INDUS      CHAS       NOX        RM       AGE  \\\n",
       "CRIM     1.000000 -0.200469  0.406583 -0.055892  0.420972 -0.219247  0.352734   \n",
       "ZN      -0.200469  1.000000 -0.533828 -0.042697 -0.516604  0.311991 -0.569537   \n",
       "INDUS    0.406583 -0.533828  1.000000  0.062938  0.763651 -0.391676  0.644779   \n",
       "CHAS    -0.055892 -0.042697  0.062938  1.000000  0.091203  0.091251  0.086518   \n",
       "NOX      0.420972 -0.516604  0.763651  0.091203  1.000000 -0.302188  0.731470   \n",
       "RM      -0.219247  0.311991 -0.391676  0.091251 -0.302188  1.000000 -0.240265   \n",
       "AGE      0.352734 -0.569537  0.644779  0.086518  0.731470 -0.240265  1.000000   \n",
       "DIS     -0.379670  0.664408 -0.708027 -0.099176 -0.769230  0.205246 -0.747881   \n",
       "RAD      0.625505 -0.311948  0.595129 -0.007368  0.611441 -0.209847  0.456022   \n",
       "TAX      0.582764 -0.314563  0.720760 -0.035587  0.668023 -0.292048  0.506456   \n",
       "PTRATIO  0.289946 -0.391679  0.383248 -0.121515  0.188933 -0.355501  0.261515   \n",
       "B       -0.385064  0.175520 -0.356977  0.048788 -0.380051  0.128069 -0.273534   \n",
       "LSTAT    0.455621 -0.412995  0.603800 -0.053929  0.590879 -0.613808  0.602339   \n",
       "MEDV    -0.388305  0.360445 -0.483725  0.175260 -0.427321  0.695360 -0.376955   \n",
       "\n",
       "              DIS       RAD       TAX   PTRATIO         B     LSTAT      MEDV  \n",
       "CRIM    -0.379670  0.625505  0.582764  0.289946 -0.385064  0.455621 -0.388305  \n",
       "ZN       0.664408 -0.311948 -0.314563 -0.391679  0.175520 -0.412995  0.360445  \n",
       "INDUS   -0.708027  0.595129  0.720760  0.383248 -0.356977  0.603800 -0.483725  \n",
       "CHAS    -0.099176 -0.007368 -0.035587 -0.121515  0.048788 -0.053929  0.175260  \n",
       "NOX     -0.769230  0.611441  0.668023  0.188933 -0.380051  0.590879 -0.427321  \n",
       "RM       0.205246 -0.209847 -0.292048 -0.355501  0.128069 -0.613808  0.695360  \n",
       "AGE     -0.747881  0.456022  0.506456  0.261515 -0.273534  0.602339 -0.376955  \n",
       "DIS      1.000000 -0.494588 -0.534432 -0.232471  0.291512 -0.496996  0.249929  \n",
       "RAD     -0.494588  1.000000  0.910228  0.464741 -0.444413  0.488676 -0.381626  \n",
       "TAX     -0.534432  0.910228  1.000000  0.460853 -0.441808  0.543993 -0.468536  \n",
       "PTRATIO -0.232471  0.464741  0.460853  1.000000 -0.177383  0.374044 -0.507787  \n",
       "B        0.291512 -0.444413 -0.441808 -0.177383  1.000000 -0.366087  0.333461  \n",
       "LSTAT   -0.496996  0.488676  0.543993  0.374044 -0.366087  1.000000 -0.737663  \n",
       "MEDV     0.249929 -0.381626 -0.468536 -0.507787  0.333461 -0.737663  1.000000  "
      ]
     },
     "execution_count": 17,
     "metadata": {},
     "output_type": "execute_result"
    }
   ],
   "source": [
    "df2.corr()"
   ]
  },
  {
   "cell_type": "markdown",
   "id": "electronic-spanking",
   "metadata": {},
   "source": [
    "LSTAT, % lower status of the population, correlates negatively, which is not surprising.\n",
    "\n",
    "RM, the number of rooms, has the highest positive correlation"
   ]
  },
  {
   "cell_type": "code",
   "execution_count": 18,
   "id": "representative-pencil",
   "metadata": {},
   "outputs": [
    {
     "data": {
      "text/plain": [
       "array([[1.        , 0.69535995],\n",
       "       [0.69535995, 1.        ]])"
      ]
     },
     "execution_count": 18,
     "metadata": {},
     "output_type": "execute_result"
    }
   ],
   "source": [
    "# are room numbers and value correlated?\n",
    "np.corrcoef(df[\"RM\"], target[\"MEDV\"])\n",
    "\n",
    "# note this is a matrix of correlation coefficients, you only need the top right one"
   ]
  },
  {
   "cell_type": "code",
   "execution_count": 19,
   "id": "premium-adelaide",
   "metadata": {},
   "outputs": [
    {
     "data": {
      "text/plain": [
       "Text(0, 0.5, 'House value ($1000s)')"
      ]
     },
     "execution_count": 19,
     "metadata": {},
     "output_type": "execute_result"
    },
    {
     "data": {
      "image/png": "[encoded data removed]",
      "text/plain": [
       "<Figure size 432x288 with 1 Axes>"
      ]
     },
     "metadata": {
      "needs_background": "light"
     },
     "output_type": "display_data"
    }
   ],
   "source": [
    "plt.scatter(df[\"RM\"], target[\"MEDV\"])\n",
    "plt.xlabel('Number of Rooms')\n",
    "plt.ylabel('House value ($1000s)')"
   ]
  },
  {
   "cell_type": "markdown",
   "id": "alert-birmingham",
   "metadata": {},
   "source": [
    "### Doing a linear regression using scipy"
   ]
  },
  {
   "cell_type": "code",
   "execution_count": 20,
   "id": "alternative-franklin",
   "metadata": {},
   "outputs": [],
   "source": [
    "from scipy import stats"
   ]
  },
  {
   "cell_type": "code",
   "execution_count": 21,
   "id": "urban-sigma",
   "metadata": {},
   "outputs": [
    {
     "data": {
      "text/plain": [
       "\u001b[1;31mSignature:\u001b[0m \u001b[0mstats\u001b[0m\u001b[1;33m.\u001b[0m\u001b[0mlinregress\u001b[0m\u001b[1;33m(\u001b[0m\u001b[0mx\u001b[0m\u001b[1;33m,\u001b[0m \u001b[0my\u001b[0m\u001b[1;33m=\u001b[0m\u001b[1;32mNone\u001b[0m\u001b[1;33m)\u001b[0m\u001b[1;33m\u001b[0m\u001b[1;33m\u001b[0m\u001b[0m\n",
       "\u001b[1;31mDocstring:\u001b[0m\n",
       "Calculate a linear least-squares regression for two sets of measurements.\n",
       "\n",
       "Parameters\n",
       "----------\n",
       "x, y : array_like\n",
       "    Two sets of measurements.  Both arrays should have the same length.  If\n",
       "    only `x` is given (and ``y=None``), then it must be a two-dimensional\n",
       "    array where one dimension has length 2.  The two sets of measurements\n",
       "    are then found by splitting the array along the length-2 dimension. In\n",
       "    the case where ``y=None`` and `x` is a 2x2 array, ``linregress(x)`` is\n",
       "    equivalent to ``linregress(x[0], x[1])``.\n",
       "\n",
       "Returns\n",
       "-------\n",
       "result : ``LinregressResult`` instance\n",
       "    The return value is an object with the following attributes:\n",
       "\n",
       "    slope : float\n",
       "        Slope of the regression line.\n",
       "    intercept : float\n",
       "        Intercept of the regression line.\n",
       "    rvalue : float\n",
       "        Correlation coefficient.\n",
       "    pvalue : float\n",
       "        Two-sided p-value for a hypothesis test whose null hypothesis is\n",
       "        that the slope is zero, using Wald Test with t-distribution of\n",
       "        the test statistic.\n",
       "    stderr : float\n",
       "        Standard error of the estimated slope (gradient), under the\n",
       "        assumption of residual normality.\n",
       "    intercept_stderr : float\n",
       "        Standard error of the estimated intercept, under the assumption\n",
       "        of residual normality.\n",
       "\n",
       "See Also\n",
       "--------\n",
       "scipy.optimize.curve_fit :\n",
       "    Use non-linear least squares to fit a function to data.\n",
       "scipy.optimize.leastsq :\n",
       "    Minimize the sum of squares of a set of equations.\n",
       "\n",
       "Notes\n",
       "-----\n",
       "Missing values are considered pair-wise: if a value is missing in `x`,\n",
       "the corresponding value in `y` is masked.\n",
       "\n",
       "For compatibility with older versions of SciPy, the return value acts\n",
       "like a ``namedtuple`` of length 5, with fields ``slope``, ``intercept``,\n",
       "``rvalue``, ``pvalue`` and ``stderr``, so one can continue to write::\n",
       "\n",
       "    slope, intercept, r, p, se = linregress(x, y)\n",
       "\n",
       "With that style, however, the standard error of the intercept is not\n",
       "available.  To have access to all the computed values, including the\n",
       "standard error of the intercept, use the return value as an object\n",
       "with attributes, e.g.::\n",
       "\n",
       "    result = linregress(x, y)\n",
       "    print(result.intercept, result.intercept_stderr)\n",
       "\n",
       "Examples\n",
       "--------\n",
       ">>> import matplotlib.pyplot as plt\n",
       ">>> from scipy import stats\n",
       "\n",
       "Generate some data:\n",
       "\n",
       ">>> np.random.seed(12345678)\n",
       ">>> x = np.random.random(10)\n",
       ">>> y = 1.6*x + np.random.random(10)\n",
       "\n",
       "Perform the linear regression:\n",
       "\n",
       ">>> res = stats.linregress(x, y)\n",
       "\n",
       "Coefficient of determination (R-squared):\n",
       "\n",
       ">>> print(f\"R-squared: {res.rvalue**2:.6f}\")\n",
       "R-squared: 0.735498\n",
       "\n",
       "Plot the data along with the fitted line:\n",
       "\n",
       ">>> plt.plot(x, y, 'o', label='original data')\n",
       ">>> plt.plot(x, res.intercept + res.slope*x, 'r', label='fitted line')\n",
       ">>> plt.legend()\n",
       ">>> plt.show()\n",
       "\n",
       "Calculate 95% confidence interval on slope and intercept:\n",
       "\n",
       ">>> # Two-sided inverse Students t-distribution\n",
       ">>> # p - probability, df - degrees of freedom\n",
       ">>> from scipy.stats import t\n",
       ">>> tinv = lambda p, df: abs(t.ppf(p/2, df))\n",
       "\n",
       ">>> ts = tinv(0.05, len(x)-2)\n",
       ">>> print(f\"slope (95%): {res.slope:.6f} +/- {ts*res.stderr:.6f}\")\n",
       "slope (95%): 1.944864 +/- 0.950885\n",
       ">>> print(f\"intercept (95%): {res.intercept:.6f}\"\n",
       "...       f\" +/- {ts*res.intercept_stderr:.6f}\")\n",
       "intercept (95%): 0.268578 +/- 0.488822\n",
       "\u001b[1;31mFile:\u001b[0m      c:\\users\\zedri\\anacondafinal\\envs\\forcartopy\\lib\\site-packages\\scipy\\stats\\_stats_mstats_common.py\n",
       "\u001b[1;31mType:\u001b[0m      function\n"
      ]
     },
     "metadata": {},
     "output_type": "display_data"
    }
   ],
   "source": [
    "stats.linregress?"
   ]
  },
  {
   "cell_type": "code",
   "execution_count": 22,
   "id": "practical-hometown",
   "metadata": {},
   "outputs": [],
   "source": [
    "slope, intercept, r_value, p_value, std_err = stats.linregress(df[\"RM\"],target[\"MEDV\"])"
   ]
  },
  {
   "cell_type": "markdown",
   "id": "similar-driving",
   "metadata": {},
   "source": [
    "this gives us the slope and intercept of the line, the corrlation (r_value)\n",
    "\n",
    "A low p-value (< 0.05) indicates that the linear regression is a good model\n",
    "\n",
    "the standard error is the standard deviation of the data from the model (as opposed to the standard deviation from the mean of the data)"
   ]
  },
  {
   "cell_type": "code",
   "execution_count": 23,
   "id": "weird-donna",
   "metadata": {},
   "outputs": [
    {
     "data": {
      "text/plain": [
       "9.102108981180306"
      ]
     },
     "execution_count": 23,
     "metadata": {},
     "output_type": "execute_result"
    }
   ],
   "source": [
    "slope"
   ]
  },
  {
   "cell_type": "code",
   "execution_count": 24,
   "id": "vertical-screen",
   "metadata": {},
   "outputs": [
    {
     "data": {
      "text/plain": [
       "-34.67062077643854"
      ]
     },
     "execution_count": 24,
     "metadata": {},
     "output_type": "execute_result"
    }
   ],
   "source": [
    "intercept"
   ]
  },
  {
   "cell_type": "code",
   "execution_count": 25,
   "id": "alien-victory",
   "metadata": {},
   "outputs": [
    {
     "data": {
      "text/plain": [
       "0.695359947071539"
      ]
     },
     "execution_count": 25,
     "metadata": {},
     "output_type": "execute_result"
    }
   ],
   "source": [
    "r_value\n",
    "# note this is the same correlation value we got before"
   ]
  },
  {
   "cell_type": "code",
   "execution_count": 26,
   "id": "renewable-reservation",
   "metadata": {},
   "outputs": [
    {
     "data": {
      "text/plain": [
       "2.487228871008377e-74"
      ]
     },
     "execution_count": 26,
     "metadata": {},
     "output_type": "execute_result"
    }
   ],
   "source": [
    "p_value\n",
    "# is this good? Do we have confidence in our linear model?"
   ]
  },
  {
   "cell_type": "code",
   "execution_count": 27,
   "id": "comprehensive-amendment",
   "metadata": {},
   "outputs": [
    {
     "data": {
      "text/plain": [
       "0.41902656012134054"
      ]
     },
     "execution_count": 27,
     "metadata": {},
     "output_type": "execute_result"
    }
   ],
   "source": [
    "std_err"
   ]
  },
  {
   "cell_type": "code",
   "execution_count": 28,
   "id": "precise-punishment",
   "metadata": {},
   "outputs": [
    {
     "data": {
      "text/plain": [
       "Text(0, 0.5, 'House value ($1000s)')"
      ]
     },
     "execution_count": 28,
     "metadata": {},
     "output_type": "execute_result"
    },
    {
     "data": {
      "image/png": "[encoded data removed]",
      "text/plain": [
       "<Figure size 432x288 with 1 Axes>"
      ]
     },
     "metadata": {
      "needs_background": "light"
     },
     "output_type": "display_data"
    }
   ],
   "source": [
    "# let's plot the data with the linear fit and see how it looks\n",
    "plt.plot(df[\"RM\"], slope*df[\"RM\"]+intercept, 'k--')\n",
    "plt.scatter(df[\"RM\"], target[\"MEDV\"])\n",
    "plt.xlabel('Number of Rooms')\n",
    "plt.ylabel('House value ($1000s)')"
   ]
  },
  {
   "cell_type": "code",
   "execution_count": null,
   "id": "expired-capacity",
   "metadata": {},
   "outputs": [],
   "source": []
  },
  {
   "cell_type": "markdown",
   "id": "stylish-brave",
   "metadata": {},
   "source": [
    "### Doing a linear regression using statsmodels"
   ]
  },
  {
   "cell_type": "markdown",
   "id": "thirty-catalyst",
   "metadata": {},
   "source": [
    "Statsmodels is a powerful statistics package that is very popular\n",
    "\n",
    "See https://towardsdatascience.com/simple-and-multiple-linear-regression-in-python-c928425168f9\n",
    "\n",
    "and\n",
    "\n",
    "https://www.statsmodels.org/dev/index.html\n",
    "\n",
    "http://www.statsmodels.org/dev/examples/index.html#linear-regression-models"
   ]
  },
  {
   "cell_type": "code",
   "execution_count": 29,
   "id": "continent-district",
   "metadata": {},
   "outputs": [],
   "source": [
    "import statsmodels.api as sm"
   ]
  },
  {
   "cell_type": "code",
   "execution_count": 30,
   "id": "recorded-enhancement",
   "metadata": {},
   "outputs": [
    {
     "name": "stdout",
     "output_type": "stream",
     "text": [
      "Help on class OLS in module statsmodels.regression.linear_model:\n",
      "\n",
      "class OLS(WLS)\n",
      " |  OLS(endog, exog=None, missing='none', hasconst=None, **kwargs)\n",
      " |  \n",
      " |  Ordinary Least Squares\n",
      " |  \n",
      " |  Parameters\n",
      " |  ----------\n",
      " |  endog : array_like\n",
      " |      A 1-d endogenous response variable. The dependent variable.\n",
      " |  exog : array_like\n",
      " |      A nobs x k array where `nobs` is the number of observations and `k`\n",
      " |      is the number of regressors. An intercept is not included by default\n",
      " |      and should be added by the user. See\n",
      " |      :func:`statsmodels.tools.add_constant`.\n",
      " |  missing : str\n",
      " |      Available options are 'none', 'drop', and 'raise'. If 'none', no nan\n",
      " |      checking is done. If 'drop', any observations with nans are dropped.\n",
      " |      If 'raise', an error is raised. Default is 'none'.\n",
      " |  hasconst : None or bool\n",
      " |      Indicates whether the RHS includes a user-supplied constant. If True,\n",
      " |      a constant is not checked for and k_constant is set to 1 and all\n",
      " |      result statistics are calculated as if a constant is present. If\n",
      " |      False, a constant is not checked for and k_constant is set to 0.\n",
      " |  **kwargs\n",
      " |      Extra arguments that are used to set model properties when using the\n",
      " |      formula interface.\n",
      " |  \n",
      " |  Attributes\n",
      " |  ----------\n",
      " |  weights : scalar\n",
      " |      Has an attribute weights = array(1.0) due to inheritance from WLS.\n",
      " |  \n",
      " |  See Also\n",
      " |  --------\n",
      " |  WLS : Fit a linear model using Weighted Least Squares.\n",
      " |  GLS : Fit a linear model using Generalized Least Squares.\n",
      " |  \n",
      " |  Notes\n",
      " |  -----\n",
      " |  No constant is added by the model unless you are using formulas.\n",
      " |  \n",
      " |  Examples\n",
      " |  --------\n",
      " |  >>> import statsmodels.api as sm\n",
      " |  >>> import numpy as np\n",
      " |  >>> duncan_prestige = sm.datasets.get_rdataset(\"Duncan\", \"carData\")\n",
      " |  >>> Y = duncan_prestige.data['income']\n",
      " |  >>> X = duncan_prestige.data['education']\n",
      " |  >>> X = sm.add_constant(X)\n",
      " |  >>> model = sm.OLS(Y,X)\n",
      " |  >>> results = model.fit()\n",
      " |  >>> results.params\n",
      " |  const        10.603498\n",
      " |  education     0.594859\n",
      " |  dtype: float64\n",
      " |  \n",
      " |  >>> results.tvalues\n",
      " |  const        2.039813\n",
      " |  education    6.892802\n",
      " |  dtype: float64\n",
      " |  \n",
      " |  >>> print(results.t_test([1, 0]))\n",
      " |                               Test for Constraints\n",
      " |  ==============================================================================\n",
      " |                   coef    std err          t      P>|t|      [0.025      0.975]\n",
      " |  ------------------------------------------------------------------------------\n",
      " |  c0            10.6035      5.198      2.040      0.048       0.120      21.087\n",
      " |  ==============================================================================\n",
      " |  \n",
      " |  >>> print(results.f_test(np.identity(2)))\n",
      " |  <F test: F=array([[159.63031026]]), p=1.2607168903696672e-20, df_denom=43, df_num=2>\n",
      " |  \n",
      " |  Method resolution order:\n",
      " |      OLS\n",
      " |      WLS\n",
      " |      RegressionModel\n",
      " |      statsmodels.base.model.LikelihoodModel\n",
      " |      statsmodels.base.model.Model\n",
      " |      builtins.object\n",
      " |  \n",
      " |  Methods defined here:\n",
      " |  \n",
      " |  __init__(self, endog, exog=None, missing='none', hasconst=None, **kwargs)\n",
      " |      Initialize self.  See help(type(self)) for accurate signature.\n",
      " |  \n",
      " |  fit_regularized(self, method='elastic_net', alpha=0.0, L1_wt=1.0, start_params=None, profile_scale=False, refit=False, **kwargs)\n",
      " |      Return a regularized fit to a linear regression model.\n",
      " |      \n",
      " |      Parameters\n",
      " |      ----------\n",
      " |      method : str\n",
      " |          Either 'elastic_net' or 'sqrt_lasso'.\n",
      " |      alpha : scalar or array_like\n",
      " |          The penalty weight.  If a scalar, the same penalty weight\n",
      " |          applies to all variables in the model.  If a vector, it\n",
      " |          must have the same length as `params`, and contains a\n",
      " |          penalty weight for each coefficient.\n",
      " |      L1_wt : scalar\n",
      " |          The fraction of the penalty given to the L1 penalty term.\n",
      " |          Must be between 0 and 1 (inclusive).  If 0, the fit is a\n",
      " |          ridge fit, if 1 it is a lasso fit.\n",
      " |      start_params : array_like\n",
      " |          Starting values for ``params``.\n",
      " |      profile_scale : bool\n",
      " |          If True the penalized fit is computed using the profile\n",
      " |          (concentrated) log-likelihood for the Gaussian model.\n",
      " |          Otherwise the fit uses the residual sum of squares.\n",
      " |      refit : bool\n",
      " |          If True, the model is refit using only the variables that\n",
      " |          have non-zero coefficients in the regularized fit.  The\n",
      " |          refitted model is not regularized.\n",
      " |      **kwargs\n",
      " |          Additional keyword arguments that contain information used when\n",
      " |          constructing a model using the formula interface.\n",
      " |      \n",
      " |      Returns\n",
      " |      -------\n",
      " |      statsmodels.base.elastic_net.RegularizedResults\n",
      " |          The regularized results.\n",
      " |      \n",
      " |      Notes\n",
      " |      -----\n",
      " |      The elastic net uses a combination of L1 and L2 penalties.\n",
      " |      The implementation closely follows the glmnet package in R.\n",
      " |      \n",
      " |      The function that is minimized is:\n",
      " |      \n",
      " |      .. math::\n",
      " |      \n",
      " |          0.5*RSS/n + alpha*((1-L1\\_wt)*|params|_2^2/2 + L1\\_wt*|params|_1)\n",
      " |      \n",
      " |      where RSS is the usual regression sum of squares, n is the\n",
      " |      sample size, and :math:`|*|_1` and :math:`|*|_2` are the L1 and L2\n",
      " |      norms.\n",
      " |      \n",
      " |      For WLS and GLS, the RSS is calculated using the whitened endog and\n",
      " |      exog data.\n",
      " |      \n",
      " |      Post-estimation results are based on the same data used to\n",
      " |      select variables, hence may be subject to overfitting biases.\n",
      " |      \n",
      " |      The elastic_net method uses the following keyword arguments:\n",
      " |      \n",
      " |      maxiter : int\n",
      " |          Maximum number of iterations\n",
      " |      cnvrg_tol : float\n",
      " |          Convergence threshold for line searches\n",
      " |      zero_tol : float\n",
      " |          Coefficients below this threshold are treated as zero.\n",
      " |      \n",
      " |      The square root lasso approach is a variation of the Lasso\n",
      " |      that is largely self-tuning (the optimal tuning parameter\n",
      " |      does not depend on the standard deviation of the regression\n",
      " |      errors).  If the errors are Gaussian, the tuning parameter\n",
      " |      can be taken to be\n",
      " |      \n",
      " |      alpha = 1.1 * np.sqrt(n) * norm.ppf(1 - 0.05 / (2 * p))\n",
      " |      \n",
      " |      where n is the sample size and p is the number of predictors.\n",
      " |      \n",
      " |      The square root lasso uses the following keyword arguments:\n",
      " |      \n",
      " |      zero_tol : float\n",
      " |          Coefficients below this threshold are treated as zero.\n",
      " |      \n",
      " |      The cvxopt module is required to estimate model using the square root\n",
      " |      lasso.\n",
      " |      \n",
      " |      References\n",
      " |      ----------\n",
      " |      .. [*] Friedman, Hastie, Tibshirani (2008).  Regularization paths for\n",
      " |         generalized linear models via coordinate descent.  Journal of\n",
      " |         Statistical Software 33(1), 1-22 Feb 2010.\n",
      " |      \n",
      " |      .. [*] A Belloni, V Chernozhukov, L Wang (2011).  Square-root Lasso:\n",
      " |         pivotal recovery of sparse signals via conic programming.\n",
      " |         Biometrika 98(4), 791-806. https://arxiv.org/pdf/1009.5689.pdf\n",
      " |  \n",
      " |  hessian(self, params, scale=None)\n",
      " |      Evaluate the Hessian function at a given point.\n",
      " |      \n",
      " |      Parameters\n",
      " |      ----------\n",
      " |      params : array_like\n",
      " |          The parameter vector at which the Hessian is computed.\n",
      " |      scale : float or None\n",
      " |          If None, return the profile (concentrated) log likelihood\n",
      " |          (profiled over the scale parameter), else return the\n",
      " |          log-likelihood using the given scale value.\n",
      " |      \n",
      " |      Returns\n",
      " |      -------\n",
      " |      ndarray\n",
      " |          The Hessian matrix.\n",
      " |  \n",
      " |  hessian_factor(self, params, scale=None, observed=True)\n",
      " |      Calculate the weights for the Hessian.\n",
      " |      \n",
      " |      Parameters\n",
      " |      ----------\n",
      " |      params : ndarray\n",
      " |          The parameter at which Hessian is evaluated.\n",
      " |      scale : None or float\n",
      " |          If scale is None, then the default scale will be calculated.\n",
      " |          Default scale is defined by `self.scaletype` and set in fit.\n",
      " |          If scale is not None, then it is used as a fixed scale.\n",
      " |      observed : bool\n",
      " |          If True, then the observed Hessian is returned. If false then the\n",
      " |          expected information matrix is returned.\n",
      " |      \n",
      " |      Returns\n",
      " |      -------\n",
      " |      ndarray\n",
      " |          A 1d weight vector used in the calculation of the Hessian.\n",
      " |          The hessian is obtained by `(exog.T * hessian_factor).dot(exog)`.\n",
      " |  \n",
      " |  loglike(self, params, scale=None)\n",
      " |      The likelihood function for the OLS model.\n",
      " |      \n",
      " |      Parameters\n",
      " |      ----------\n",
      " |      params : array_like\n",
      " |          The coefficients with which to estimate the log-likelihood.\n",
      " |      scale : float or None\n",
      " |          If None, return the profile (concentrated) log likelihood\n",
      " |          (profiled over the scale parameter), else return the\n",
      " |          log-likelihood using the given scale value.\n",
      " |      \n",
      " |      Returns\n",
      " |      -------\n",
      " |      float\n",
      " |          The likelihood function evaluated at params.\n",
      " |  \n",
      " |  score(self, params, scale=None)\n",
      " |      Evaluate the score function at a given point.\n",
      " |      \n",
      " |      The score corresponds to the profile (concentrated)\n",
      " |      log-likelihood in which the scale parameter has been profiled\n",
      " |      out.\n",
      " |      \n",
      " |      Parameters\n",
      " |      ----------\n",
      " |      params : array_like\n",
      " |          The parameter vector at which the score function is\n",
      " |          computed.\n",
      " |      scale : float or None\n",
      " |          If None, return the profile (concentrated) log likelihood\n",
      " |          (profiled over the scale parameter), else return the\n",
      " |          log-likelihood using the given scale value.\n",
      " |      \n",
      " |      Returns\n",
      " |      -------\n",
      " |      ndarray\n",
      " |          The score vector.\n",
      " |  \n",
      " |  whiten(self, x)\n",
      " |      OLS model whitener does nothing.\n",
      " |      \n",
      " |      Parameters\n",
      " |      ----------\n",
      " |      x : array_like\n",
      " |          Data to be whitened.\n",
      " |      \n",
      " |      Returns\n",
      " |      -------\n",
      " |      array_like\n",
      " |          The input array unmodified.\n",
      " |      \n",
      " |      See Also\n",
      " |      --------\n",
      " |      OLS : Fit a linear model using Ordinary Least Squares.\n",
      " |  \n",
      " |  ----------------------------------------------------------------------\n",
      " |  Methods inherited from RegressionModel:\n",
      " |  \n",
      " |  fit(self, method='pinv', cov_type='nonrobust', cov_kwds=None, use_t=None, **kwargs)\n",
      " |      Full fit of the model.\n",
      " |      \n",
      " |      The results include an estimate of covariance matrix, (whitened)\n",
      " |      residuals and an estimate of scale.\n",
      " |      \n",
      " |      Parameters\n",
      " |      ----------\n",
      " |      method : str, optional\n",
      " |          Can be \"pinv\", \"qr\".  \"pinv\" uses the Moore-Penrose pseudoinverse\n",
      " |          to solve the least squares problem. \"qr\" uses the QR\n",
      " |          factorization.\n",
      " |      cov_type : str, optional\n",
      " |          See `regression.linear_model.RegressionResults` for a description\n",
      " |          of the available covariance estimators.\n",
      " |      cov_kwds : list or None, optional\n",
      " |          See `linear_model.RegressionResults.get_robustcov_results` for a\n",
      " |          description required keywords for alternative covariance\n",
      " |          estimators.\n",
      " |      use_t : bool, optional\n",
      " |          Flag indicating to use the Student's t distribution when computing\n",
      " |          p-values.  Default behavior depends on cov_type. See\n",
      " |          `linear_model.RegressionResults.get_robustcov_results` for\n",
      " |          implementation details.\n",
      " |      **kwargs\n",
      " |          Additional keyword arguments that contain information used when\n",
      " |          constructing a model using the formula interface.\n",
      " |      \n",
      " |      Returns\n",
      " |      -------\n",
      " |      RegressionResults\n",
      " |          The model estimation results.\n",
      " |      \n",
      " |      See Also\n",
      " |      --------\n",
      " |      RegressionResults\n",
      " |          The results container.\n",
      " |      RegressionResults.get_robustcov_results\n",
      " |          A method to change the covariance estimator used when fitting the\n",
      " |          model.\n",
      " |      \n",
      " |      Notes\n",
      " |      -----\n",
      " |      The fit method uses the pseudoinverse of the design/exogenous variables\n",
      " |      to solve the least squares minimization.\n",
      " |  \n",
      " |  get_distribution(self, params, scale, exog=None, dist_class=None)\n",
      " |      Construct a random number generator for the predictive distribution.\n",
      " |      \n",
      " |      Parameters\n",
      " |      ----------\n",
      " |      params : array_like\n",
      " |          The model parameters (regression coefficients).\n",
      " |      scale : scalar\n",
      " |          The variance parameter.\n",
      " |      exog : array_like\n",
      " |          The predictor variable matrix.\n",
      " |      dist_class : class\n",
      " |          A random number generator class.  Must take 'loc' and 'scale'\n",
      " |          as arguments and return a random number generator implementing\n",
      " |          an ``rvs`` method for simulating random values. Defaults to normal.\n",
      " |      \n",
      " |      Returns\n",
      " |      -------\n",
      " |      gen\n",
      " |          Frozen random number generator object with mean and variance\n",
      " |          determined by the fitted linear model.  Use the ``rvs`` method\n",
      " |          to generate random values.\n",
      " |      \n",
      " |      Notes\n",
      " |      -----\n",
      " |      Due to the behavior of ``scipy.stats.distributions objects``,\n",
      " |      the returned random number generator must be called with\n",
      " |      ``gen.rvs(n)`` where ``n`` is the number of observations in\n",
      " |      the data set used to fit the model.  If any other value is\n",
      " |      used for ``n``, misleading results will be produced.\n",
      " |  \n",
      " |  initialize(self)\n",
      " |      Initialize model components.\n",
      " |  \n",
      " |  predict(self, params, exog=None)\n",
      " |      Return linear predicted values from a design matrix.\n",
      " |      \n",
      " |      Parameters\n",
      " |      ----------\n",
      " |      params : array_like\n",
      " |          Parameters of a linear model.\n",
      " |      exog : array_like, optional\n",
      " |          Design / exogenous data. Model exog is used if None.\n",
      " |      \n",
      " |      Returns\n",
      " |      -------\n",
      " |      array_like\n",
      " |          An array of fitted values.\n",
      " |      \n",
      " |      Notes\n",
      " |      -----\n",
      " |      If the model has not yet been fit, params is not optional.\n",
      " |  \n",
      " |  ----------------------------------------------------------------------\n",
      " |  Data descriptors inherited from RegressionModel:\n",
      " |  \n",
      " |  df_model\n",
      " |      The model degree of freedom.\n",
      " |      \n",
      " |      The dof is defined as the rank of the regressor matrix minus 1 if a\n",
      " |      constant is included.\n",
      " |  \n",
      " |  df_resid\n",
      " |      The residual degree of freedom.\n",
      " |      \n",
      " |      The dof is defined as the number of observations minus the rank of\n",
      " |      the regressor matrix.\n",
      " |  \n",
      " |  ----------------------------------------------------------------------\n",
      " |  Methods inherited from statsmodels.base.model.LikelihoodModel:\n",
      " |  \n",
      " |  information(self, params)\n",
      " |      Fisher information matrix of model.\n",
      " |      \n",
      " |      Returns -1 * Hessian of the log-likelihood evaluated at params.\n",
      " |      \n",
      " |      Parameters\n",
      " |      ----------\n",
      " |      params : ndarray\n",
      " |          The model parameters.\n",
      " |  \n",
      " |  ----------------------------------------------------------------------\n",
      " |  Class methods inherited from statsmodels.base.model.Model:\n",
      " |  \n",
      " |  from_formula(formula, data, subset=None, drop_cols=None, *args, **kwargs) from builtins.type\n",
      " |      Create a Model from a formula and dataframe.\n",
      " |      \n",
      " |      Parameters\n",
      " |      ----------\n",
      " |      formula : str or generic Formula object\n",
      " |          The formula specifying the model.\n",
      " |      data : array_like\n",
      " |          The data for the model. See Notes.\n",
      " |      subset : array_like\n",
      " |          An array-like object of booleans, integers, or index values that\n",
      " |          indicate the subset of df to use in the model. Assumes df is a\n",
      " |          `pandas.DataFrame`.\n",
      " |      drop_cols : array_like\n",
      " |          Columns to drop from the design matrix.  Cannot be used to\n",
      " |          drop terms involving categoricals.\n",
      " |      *args\n",
      " |          Additional positional argument that are passed to the model.\n",
      " |      **kwargs\n",
      " |          These are passed to the model with one exception. The\n",
      " |          ``eval_env`` keyword is passed to patsy. It can be either a\n",
      " |          :class:`patsy:patsy.EvalEnvironment` object or an integer\n",
      " |          indicating the depth of the namespace to use. For example, the\n",
      " |          default ``eval_env=0`` uses the calling namespace. If you wish\n",
      " |          to use a \"clean\" environment set ``eval_env=-1``.\n",
      " |      \n",
      " |      Returns\n",
      " |      -------\n",
      " |      model\n",
      " |          The model instance.\n",
      " |      \n",
      " |      Notes\n",
      " |      -----\n",
      " |      data must define __getitem__ with the keys in the formula terms\n",
      " |      args and kwargs are passed on to the model instantiation. E.g.,\n",
      " |      a numpy structured or rec array, a dictionary, or a pandas DataFrame.\n",
      " |  \n",
      " |  ----------------------------------------------------------------------\n",
      " |  Readonly properties inherited from statsmodels.base.model.Model:\n",
      " |  \n",
      " |  endog_names\n",
      " |      Names of endogenous variables.\n",
      " |  \n",
      " |  exog_names\n",
      " |      Names of exogenous variables.\n",
      " |  \n",
      " |  ----------------------------------------------------------------------\n",
      " |  Data descriptors inherited from statsmodels.base.model.Model:\n",
      " |  \n",
      " |  __dict__\n",
      " |      dictionary for instance variables (if defined)\n",
      " |  \n",
      " |  __weakref__\n",
      " |      list of weak references to the object (if defined)\n",
      "\n"
     ]
    }
   ],
   "source": [
    "# look at the helpfiles for OLS, ordinary least squares fitting, aka linear fitting\n",
    "help(sm.OLS)"
   ]
  },
  {
   "cell_type": "code",
   "execution_count": 31,
   "id": "powerful-center",
   "metadata": {},
   "outputs": [],
   "source": [
    "# same data as before:\n",
    "X = df[\"RM\"] # what we think the cost depends on, rooms\n",
    "y = target[\"MEDV\"]"
   ]
  },
  {
   "cell_type": "code",
   "execution_count": 32,
   "id": "human-inspection",
   "metadata": {},
   "outputs": [],
   "source": [
    "# Note y, the target of what we are fitting to, goes first:\n",
    "model = sm.OLS(y, X).fit()\n",
    "\n",
    "# this is fitting y = aX, with no constant, i.e. using an intercept of zero"
   ]
  },
  {
   "cell_type": "code",
   "execution_count": 33,
   "id": "critical-singing",
   "metadata": {},
   "outputs": [
    {
     "data": {
      "text/plain": [
       "RM    3.65335\n",
       "dtype: float64"
      ]
     },
     "execution_count": 33,
     "metadata": {},
     "output_type": "execute_result"
    }
   ],
   "source": [
    "model.params"
   ]
  },
  {
   "cell_type": "code",
   "execution_count": 34,
   "id": "developmental-mixer",
   "metadata": {},
   "outputs": [
    {
     "data": {
      "text/html": [
       "<table class=\"simpletable\">\n",
       "<caption>OLS Regression Results</caption>\n",
       "<tr>\n",
       "  <th>Dep. Variable:</th>          <td>MEDV</td>       <th>  R-squared (uncentered):</th>      <td>   0.901</td> \n",
       "</tr>\n",
       "<tr>\n",
       "  <th>Model:</th>                   <td>OLS</td>       <th>  Adj. R-squared (uncentered):</th> <td>   0.901</td> \n",
       "</tr>\n",
       "<tr>\n",
       "  <th>Method:</th>             <td>Least Squares</td>  <th>  F-statistic:       </th>          <td>   4615.</td> \n",
       "</tr>\n",
       "<tr>\n",
       "  <th>Date:</th>             <td>Thu, 08 Apr 2021</td> <th>  Prob (F-statistic):</th>          <td>3.74e-256</td>\n",
       "</tr>\n",
       "<tr>\n",
       "  <th>Time:</th>                 <td>20:04:46</td>     <th>  Log-Likelihood:    </th>          <td> -1747.1</td> \n",
       "</tr>\n",
       "<tr>\n",
       "  <th>No. Observations:</th>      <td>   506</td>      <th>  AIC:               </th>          <td>   3496.</td> \n",
       "</tr>\n",
       "<tr>\n",
       "  <th>Df Residuals:</th>          <td>   505</td>      <th>  BIC:               </th>          <td>   3500.</td> \n",
       "</tr>\n",
       "<tr>\n",
       "  <th>Df Model:</th>              <td>     1</td>      <th>                     </th>              <td> </td>    \n",
       "</tr>\n",
       "<tr>\n",
       "  <th>Covariance Type:</th>      <td>nonrobust</td>    <th>                     </th>              <td> </td>    \n",
       "</tr>\n",
       "</table>\n",
       "<table class=\"simpletable\">\n",
       "<tr>\n",
       "   <td></td>     <th>coef</th>     <th>std err</th>      <th>t</th>      <th>P>|t|</th>  <th>[0.025</th>    <th>0.975]</th>  \n",
       "</tr>\n",
       "<tr>\n",
       "  <th>RM</th> <td>    3.6534</td> <td>    0.054</td> <td>   67.930</td> <td> 0.000</td> <td>    3.548</td> <td>    3.759</td>\n",
       "</tr>\n",
       "</table>\n",
       "<table class=\"simpletable\">\n",
       "<tr>\n",
       "  <th>Omnibus:</th>       <td>83.295</td> <th>  Durbin-Watson:     </th> <td>   0.493</td>\n",
       "</tr>\n",
       "<tr>\n",
       "  <th>Prob(Omnibus):</th> <td> 0.000</td> <th>  Jarque-Bera (JB):  </th> <td> 152.507</td>\n",
       "</tr>\n",
       "<tr>\n",
       "  <th>Skew:</th>          <td> 0.955</td> <th>  Prob(JB):          </th> <td>7.65e-34</td>\n",
       "</tr>\n",
       "<tr>\n",
       "  <th>Kurtosis:</th>      <td> 4.894</td> <th>  Cond. No.          </th> <td>    1.00</td>\n",
       "</tr>\n",
       "</table><br/><br/>Notes:<br/>[1] R² is computed without centering (uncentered) since the model does not contain a constant.<br/>[2] Standard Errors assume that the covariance matrix of the errors is correctly specified."
      ],
      "text/plain": [
       "<class 'statsmodels.iolib.summary.Summary'>\n",
       "\"\"\"\n",
       "                                 OLS Regression Results                                \n",
       "=======================================================================================\n",
       "Dep. Variable:                   MEDV   R-squared (uncentered):                   0.901\n",
       "Model:                            OLS   Adj. R-squared (uncentered):              0.901\n",
       "Method:                 Least Squares   F-statistic:                              4615.\n",
       "Date:                Thu, 08 Apr 2021   Prob (F-statistic):                   3.74e-256\n",
       "Time:                        20:04:46   Log-Likelihood:                         -1747.1\n",
       "No. Observations:                 506   AIC:                                      3496.\n",
       "Df Residuals:                     505   BIC:                                      3500.\n",
       "Df Model:                           1                                                  \n",
       "Covariance Type:            nonrobust                                                  \n",
       "==============================================================================\n",
       "                 coef    std err          t      P>|t|      [0.025      0.975]\n",
       "------------------------------------------------------------------------------\n",
       "RM             3.6534      0.054     67.930      0.000       3.548       3.759\n",
       "==============================================================================\n",
       "Omnibus:                       83.295   Durbin-Watson:                   0.493\n",
       "Prob(Omnibus):                  0.000   Jarque-Bera (JB):              152.507\n",
       "Skew:                           0.955   Prob(JB):                     7.65e-34\n",
       "Kurtosis:                       4.894   Cond. No.                         1.00\n",
       "==============================================================================\n",
       "\n",
       "Notes:\n",
       "[1] R² is computed without centering (uncentered) since the model does not contain a constant.\n",
       "[2] Standard Errors assume that the covariance matrix of the errors is correctly specified.\n",
       "\"\"\""
      ]
     },
     "execution_count": 34,
     "metadata": {},
     "output_type": "execute_result"
    }
   ],
   "source": [
    "model.summary()"
   ]
  },
  {
   "cell_type": "code",
   "execution_count": 35,
   "id": "binding-piece",
   "metadata": {},
   "outputs": [],
   "source": [
    "predictions = model.predict(X) # make the predictions by the model"
   ]
  },
  {
   "cell_type": "code",
   "execution_count": 36,
   "id": "stuffed-cisco",
   "metadata": {},
   "outputs": [
    {
     "data": {
      "text/plain": [
       "Text(0, 0.5, 'House value ($1000s)')"
      ]
     },
     "execution_count": 36,
     "metadata": {},
     "output_type": "execute_result"
    },
    {
     "data": {
      "image/png": "[encoded data removed]",
      "text/plain": [
       "<Figure size 432x288 with 1 Axes>"
      ]
     },
     "metadata": {
      "needs_background": "light"
     },
     "output_type": "display_data"
    }
   ],
   "source": [
    "# let's plot the result like we did before\n",
    "plt.plot(X,predictions, 'k--')\n",
    "plt.scatter(df[\"RM\"], target[\"MEDV\"])\n",
    "plt.xlabel('Number of Rooms')\n",
    "plt.ylabel('House value ($1000s)')\n",
    "\n",
    "# this is not a very good fit, because we assumed the intercept of the line was zero"
   ]
  },
  {
   "cell_type": "markdown",
   "id": "cordless-muscle",
   "metadata": {},
   "source": [
    "# Lab 10.2"
   ]
  },
  {
   "cell_type": "markdown",
   "id": "unusual-reunion",
   "metadata": {},
   "source": [
    "**E.1** What kind of thing is movies? How do you know?"
   ]
  },
  {
   "cell_type": "code",
   "execution_count": 37,
   "id": "friendly-butterfly",
   "metadata": {},
   "outputs": [],
   "source": [
    "excel_file = 'movies.xls'\n",
    "movies = pd.read_excel(excel_file, index_col=0)\n"
   ]
  },
  {
   "cell_type": "code",
   "execution_count": 38,
   "id": "living-morgan",
   "metadata": {},
   "outputs": [],
   "source": [
    "#dataframe"
   ]
  },
  {
   "cell_type": "code",
   "execution_count": 39,
   "id": "signed-evening",
   "metadata": {},
   "outputs": [
    {
     "data": {
      "text/plain": [
       "\u001b[1;31mType:\u001b[0m        DataFrame\n",
       "\u001b[1;31mString form:\u001b[0m\n",
       "Year  \\\n",
       "           Title                                  <...>   4.8\n",
       "           Wing Commander                                            4.1\n",
       "           \n",
       "           [1338 rows x 24 columns]\n",
       "\u001b[1;31mLength:\u001b[0m      1338\n",
       "\u001b[1;31mFile:\u001b[0m        c:\\users\\zedri\\anacondafinal\\envs\\forcartopy\\lib\\site-packages\\pandas\\core\\frame.py\n",
       "\u001b[1;31mDocstring:\u001b[0m  \n",
       "Two-dimensional, size-mutable, potentially heterogeneous tabular data.\n",
       "\n",
       "Data structure also contains labeled axes (rows and columns).\n",
       "Arithmetic operations align on both row and column labels. Can be\n",
       "thought of as a dict-like container for Series objects. The primary\n",
       "pandas data structure.\n",
       "\n",
       "Parameters\n",
       "----------\n",
       "data : ndarray (structured or homogeneous), Iterable, dict, or DataFrame\n",
       "    Dict can contain Series, arrays, constants, dataclass or list-like objects. If\n",
       "    data is a dict, column order follows insertion-order.\n",
       "\n",
       "    .. versionchanged:: 0.25.0\n",
       "       If data is a list of dicts, column order follows insertion-order.\n",
       "\n",
       "index : Index or array-like\n",
       "    Index to use for resulting frame. Will default to RangeIndex if\n",
       "    no indexing information part of input data and no index provided.\n",
       "columns : Index or array-like\n",
       "    Column labels to use for resulting frame. Will default to\n",
       "    RangeIndex (0, 1, 2, ..., n) if no column labels are provided.\n",
       "dtype : dtype, default None\n",
       "    Data type to force. Only a single dtype is allowed. If None, infer.\n",
       "copy : bool, default False\n",
       "    Copy data from inputs. Only affects DataFrame / 2d ndarray input.\n",
       "\n",
       "See Also\n",
       "--------\n",
       "DataFrame.from_records : Constructor from tuples, also record arrays.\n",
       "DataFrame.from_dict : From dicts of Series, arrays, or dicts.\n",
       "read_csv : Read a comma-separated values (csv) file into DataFrame.\n",
       "read_table : Read general delimited file into DataFrame.\n",
       "read_clipboard : Read text from clipboard into DataFrame.\n",
       "\n",
       "Examples\n",
       "--------\n",
       "Constructing DataFrame from a dictionary.\n",
       "\n",
       ">>> d = {'col1': [1, 2], 'col2': [3, 4]}\n",
       ">>> df = pd.DataFrame(data=d)\n",
       ">>> df\n",
       "   col1  col2\n",
       "0     1     3\n",
       "1     2     4\n",
       "\n",
       "Notice that the inferred dtype is int64.\n",
       "\n",
       ">>> df.dtypes\n",
       "col1    int64\n",
       "col2    int64\n",
       "dtype: object\n",
       "\n",
       "To enforce a single dtype:\n",
       "\n",
       ">>> df = pd.DataFrame(data=d, dtype=np.int8)\n",
       ">>> df.dtypes\n",
       "col1    int8\n",
       "col2    int8\n",
       "dtype: object\n",
       "\n",
       "Constructing DataFrame from numpy ndarray:\n",
       "\n",
       ">>> df2 = pd.DataFrame(np.array([[1, 2, 3], [4, 5, 6], [7, 8, 9]]),\n",
       "...                    columns=['a', 'b', 'c'])\n",
       ">>> df2\n",
       "   a  b  c\n",
       "0  1  2  3\n",
       "1  4  5  6\n",
       "2  7  8  9\n",
       "\n",
       "Constructing DataFrame from dataclass:\n",
       "\n",
       ">>> from dataclasses import make_dataclass\n",
       ">>> Point = make_dataclass(\"Point\", [(\"x\", int), (\"y\", int)])\n",
       ">>> pd.DataFrame([Point(0, 0), Point(0, 3), Point(2, 3)])\n",
       "    x  y\n",
       "0  0  0\n",
       "1  0  3\n",
       "2  2  3\n"
      ]
     },
     "metadata": {},
     "output_type": "display_data"
    }
   ],
   "source": [
    "movies?"
   ]
  },
  {
   "cell_type": "code",
   "execution_count": 40,
   "id": "funky-newcastle",
   "metadata": {},
   "outputs": [
    {
     "data": {
      "text/html": [
       "<div>\n",
       "<style scoped>\n",
       "    .dataframe tbody tr th:only-of-type {\n",
       "        vertical-align: middle;\n",
       "    }\n",
       "\n",
       "    .dataframe tbody tr th {\n",
       "        vertical-align: top;\n",
       "    }\n",
       "\n",
       "    .dataframe thead th {\n",
       "        text-align: right;\n",
       "    }\n",
       "</style>\n",
       "<table border=\"1\" class=\"dataframe\">\n",
       "  <thead>\n",
       "    <tr style=\"text-align: right;\">\n",
       "      <th></th>\n",
       "      <th>Year</th>\n",
       "      <th>Duration</th>\n",
       "      <th>Aspect Ratio</th>\n",
       "      <th>Budget</th>\n",
       "      <th>Gross Earnings</th>\n",
       "      <th>Facebook Likes - Director</th>\n",
       "      <th>Facebook Likes - Actor 1</th>\n",
       "      <th>Facebook Likes - Actor 2</th>\n",
       "      <th>Facebook Likes - Actor 3</th>\n",
       "      <th>Facebook Likes - cast Total</th>\n",
       "      <th>Facebook likes - Movie</th>\n",
       "      <th>Facenumber in posters</th>\n",
       "      <th>User Votes</th>\n",
       "      <th>Reviews by Users</th>\n",
       "      <th>Reviews by Crtiics</th>\n",
       "      <th>IMDB Score</th>\n",
       "    </tr>\n",
       "  </thead>\n",
       "  <tbody>\n",
       "    <tr>\n",
       "      <th>Year</th>\n",
       "      <td>1.000000</td>\n",
       "      <td>-0.095527</td>\n",
       "      <td>0.323285</td>\n",
       "      <td>0.147096</td>\n",
       "      <td>-0.044484</td>\n",
       "      <td>-0.014884</td>\n",
       "      <td>0.199426</td>\n",
       "      <td>0.143826</td>\n",
       "      <td>0.145443</td>\n",
       "      <td>0.221777</td>\n",
       "      <td>-0.027193</td>\n",
       "      <td>-0.028930</td>\n",
       "      <td>0.040594</td>\n",
       "      <td>0.068497</td>\n",
       "      <td>-0.022571</td>\n",
       "      <td>-0.286387</td>\n",
       "    </tr>\n",
       "    <tr>\n",
       "      <th>Duration</th>\n",
       "      <td>-0.095527</td>\n",
       "      <td>1.000000</td>\n",
       "      <td>0.220941</td>\n",
       "      <td>0.087259</td>\n",
       "      <td>0.173869</td>\n",
       "      <td>0.111692</td>\n",
       "      <td>0.133443</td>\n",
       "      <td>0.148636</td>\n",
       "      <td>0.119932</td>\n",
       "      <td>0.159022</td>\n",
       "      <td>0.186378</td>\n",
       "      <td>0.068211</td>\n",
       "      <td>0.243906</td>\n",
       "      <td>0.237790</td>\n",
       "      <td>0.164861</td>\n",
       "      <td>0.335492</td>\n",
       "    </tr>\n",
       "    <tr>\n",
       "      <th>Aspect Ratio</th>\n",
       "      <td>0.323285</td>\n",
       "      <td>0.220941</td>\n",
       "      <td>1.000000</td>\n",
       "      <td>0.100113</td>\n",
       "      <td>0.111366</td>\n",
       "      <td>0.037127</td>\n",
       "      <td>0.120693</td>\n",
       "      <td>0.049147</td>\n",
       "      <td>0.044903</td>\n",
       "      <td>0.120128</td>\n",
       "      <td>0.031668</td>\n",
       "      <td>-0.021705</td>\n",
       "      <td>0.081695</td>\n",
       "      <td>0.106401</td>\n",
       "      <td>0.118768</td>\n",
       "      <td>-0.072855</td>\n",
       "    </tr>\n",
       "    <tr>\n",
       "      <th>Budget</th>\n",
       "      <td>0.147096</td>\n",
       "      <td>0.087259</td>\n",
       "      <td>0.100113</td>\n",
       "      <td>1.000000</td>\n",
       "      <td>0.077605</td>\n",
       "      <td>0.033187</td>\n",
       "      <td>0.035382</td>\n",
       "      <td>0.039372</td>\n",
       "      <td>0.040253</td>\n",
       "      <td>0.043680</td>\n",
       "      <td>0.025654</td>\n",
       "      <td>-0.042357</td>\n",
       "      <td>0.070121</td>\n",
       "      <td>0.081506</td>\n",
       "      <td>0.087358</td>\n",
       "      <td>-0.001474</td>\n",
       "    </tr>\n",
       "    <tr>\n",
       "      <th>Gross Earnings</th>\n",
       "      <td>-0.044484</td>\n",
       "      <td>0.173869</td>\n",
       "      <td>0.111366</td>\n",
       "      <td>0.077605</td>\n",
       "      <td>1.000000</td>\n",
       "      <td>0.140560</td>\n",
       "      <td>0.189401</td>\n",
       "      <td>0.139103</td>\n",
       "      <td>0.101942</td>\n",
       "      <td>0.208959</td>\n",
       "      <td>0.306074</td>\n",
       "      <td>-0.067722</td>\n",
       "      <td>0.534089</td>\n",
       "      <td>0.428937</td>\n",
       "      <td>0.420706</td>\n",
       "      <td>0.246150</td>\n",
       "    </tr>\n",
       "    <tr>\n",
       "      <th>Facebook Likes - Director</th>\n",
       "      <td>-0.014884</td>\n",
       "      <td>0.111692</td>\n",
       "      <td>0.037127</td>\n",
       "      <td>0.033187</td>\n",
       "      <td>0.140560</td>\n",
       "      <td>1.000000</td>\n",
       "      <td>0.170304</td>\n",
       "      <td>0.077660</td>\n",
       "      <td>0.088299</td>\n",
       "      <td>0.162902</td>\n",
       "      <td>0.170658</td>\n",
       "      <td>0.019252</td>\n",
       "      <td>0.234496</td>\n",
       "      <td>0.152482</td>\n",
       "      <td>0.165230</td>\n",
       "      <td>0.175551</td>\n",
       "    </tr>\n",
       "    <tr>\n",
       "      <th>Facebook Likes - Actor 1</th>\n",
       "      <td>0.199426</td>\n",
       "      <td>0.133443</td>\n",
       "      <td>0.120693</td>\n",
       "      <td>0.035382</td>\n",
       "      <td>0.189401</td>\n",
       "      <td>0.170304</td>\n",
       "      <td>1.000000</td>\n",
       "      <td>0.491765</td>\n",
       "      <td>0.273238</td>\n",
       "      <td>0.956086</td>\n",
       "      <td>0.173079</td>\n",
       "      <td>0.053582</td>\n",
       "      <td>0.251043</td>\n",
       "      <td>0.202786</td>\n",
       "      <td>0.152327</td>\n",
       "      <td>0.115787</td>\n",
       "    </tr>\n",
       "    <tr>\n",
       "      <th>Facebook Likes - Actor 2</th>\n",
       "      <td>0.143826</td>\n",
       "      <td>0.148636</td>\n",
       "      <td>0.049147</td>\n",
       "      <td>0.039372</td>\n",
       "      <td>0.139103</td>\n",
       "      <td>0.077660</td>\n",
       "      <td>0.491765</td>\n",
       "      <td>1.000000</td>\n",
       "      <td>0.487428</td>\n",
       "      <td>0.706735</td>\n",
       "      <td>0.122792</td>\n",
       "      <td>0.033816</td>\n",
       "      <td>0.185772</td>\n",
       "      <td>0.167045</td>\n",
       "      <td>0.098849</td>\n",
       "      <td>0.112189</td>\n",
       "    </tr>\n",
       "    <tr>\n",
       "      <th>Facebook Likes - Actor 3</th>\n",
       "      <td>0.145443</td>\n",
       "      <td>0.119932</td>\n",
       "      <td>0.044903</td>\n",
       "      <td>0.040253</td>\n",
       "      <td>0.101942</td>\n",
       "      <td>0.088299</td>\n",
       "      <td>0.273238</td>\n",
       "      <td>0.487428</td>\n",
       "      <td>1.000000</td>\n",
       "      <td>0.451066</td>\n",
       "      <td>0.156718</td>\n",
       "      <td>0.043919</td>\n",
       "      <td>0.187725</td>\n",
       "      <td>0.169669</td>\n",
       "      <td>0.120473</td>\n",
       "      <td>0.068138</td>\n",
       "    </tr>\n",
       "    <tr>\n",
       "      <th>Facebook Likes - cast Total</th>\n",
       "      <td>0.221777</td>\n",
       "      <td>0.159022</td>\n",
       "      <td>0.120128</td>\n",
       "      <td>0.043680</td>\n",
       "      <td>0.208959</td>\n",
       "      <td>0.162902</td>\n",
       "      <td>0.956086</td>\n",
       "      <td>0.706735</td>\n",
       "      <td>0.451066</td>\n",
       "      <td>1.000000</td>\n",
       "      <td>0.185629</td>\n",
       "      <td>0.061802</td>\n",
       "      <td>0.269708</td>\n",
       "      <td>0.224732</td>\n",
       "      <td>0.163452</td>\n",
       "      <td>0.123531</td>\n",
       "    </tr>\n",
       "    <tr>\n",
       "      <th>Facebook likes - Movie</th>\n",
       "      <td>-0.027193</td>\n",
       "      <td>0.186378</td>\n",
       "      <td>0.031668</td>\n",
       "      <td>0.025654</td>\n",
       "      <td>0.306074</td>\n",
       "      <td>0.170658</td>\n",
       "      <td>0.173079</td>\n",
       "      <td>0.122792</td>\n",
       "      <td>0.156718</td>\n",
       "      <td>0.185629</td>\n",
       "      <td>1.000000</td>\n",
       "      <td>-0.038756</td>\n",
       "      <td>0.792120</td>\n",
       "      <td>0.669500</td>\n",
       "      <td>0.494847</td>\n",
       "      <td>0.401721</td>\n",
       "    </tr>\n",
       "    <tr>\n",
       "      <th>Facenumber in posters</th>\n",
       "      <td>-0.028930</td>\n",
       "      <td>0.068211</td>\n",
       "      <td>-0.021705</td>\n",
       "      <td>-0.042357</td>\n",
       "      <td>-0.067722</td>\n",
       "      <td>0.019252</td>\n",
       "      <td>0.053582</td>\n",
       "      <td>0.033816</td>\n",
       "      <td>0.043919</td>\n",
       "      <td>0.061802</td>\n",
       "      <td>-0.038756</td>\n",
       "      <td>1.000000</td>\n",
       "      <td>-0.012531</td>\n",
       "      <td>-0.017897</td>\n",
       "      <td>-0.058621</td>\n",
       "      <td>0.037800</td>\n",
       "    </tr>\n",
       "    <tr>\n",
       "      <th>User Votes</th>\n",
       "      <td>0.040594</td>\n",
       "      <td>0.243906</td>\n",
       "      <td>0.081695</td>\n",
       "      <td>0.070121</td>\n",
       "      <td>0.534089</td>\n",
       "      <td>0.234496</td>\n",
       "      <td>0.251043</td>\n",
       "      <td>0.185772</td>\n",
       "      <td>0.187725</td>\n",
       "      <td>0.269708</td>\n",
       "      <td>0.792120</td>\n",
       "      <td>-0.012531</td>\n",
       "      <td>1.000000</td>\n",
       "      <td>0.809801</td>\n",
       "      <td>0.608385</td>\n",
       "      <td>0.463297</td>\n",
       "    </tr>\n",
       "    <tr>\n",
       "      <th>Reviews by Users</th>\n",
       "      <td>0.068497</td>\n",
       "      <td>0.237790</td>\n",
       "      <td>0.106401</td>\n",
       "      <td>0.081506</td>\n",
       "      <td>0.428937</td>\n",
       "      <td>0.152482</td>\n",
       "      <td>0.202786</td>\n",
       "      <td>0.167045</td>\n",
       "      <td>0.169669</td>\n",
       "      <td>0.224732</td>\n",
       "      <td>0.669500</td>\n",
       "      <td>-0.017897</td>\n",
       "      <td>0.809801</td>\n",
       "      <td>1.000000</td>\n",
       "      <td>0.737307</td>\n",
       "      <td>0.377119</td>\n",
       "    </tr>\n",
       "    <tr>\n",
       "      <th>Reviews by Crtiics</th>\n",
       "      <td>-0.022571</td>\n",
       "      <td>0.164861</td>\n",
       "      <td>0.118768</td>\n",
       "      <td>0.087358</td>\n",
       "      <td>0.420706</td>\n",
       "      <td>0.165230</td>\n",
       "      <td>0.152327</td>\n",
       "      <td>0.098849</td>\n",
       "      <td>0.120473</td>\n",
       "      <td>0.163452</td>\n",
       "      <td>0.494847</td>\n",
       "      <td>-0.058621</td>\n",
       "      <td>0.608385</td>\n",
       "      <td>0.737307</td>\n",
       "      <td>1.000000</td>\n",
       "      <td>0.442658</td>\n",
       "    </tr>\n",
       "    <tr>\n",
       "      <th>IMDB Score</th>\n",
       "      <td>-0.286387</td>\n",
       "      <td>0.335492</td>\n",
       "      <td>-0.072855</td>\n",
       "      <td>-0.001474</td>\n",
       "      <td>0.246150</td>\n",
       "      <td>0.175551</td>\n",
       "      <td>0.115787</td>\n",
       "      <td>0.112189</td>\n",
       "      <td>0.068138</td>\n",
       "      <td>0.123531</td>\n",
       "      <td>0.401721</td>\n",
       "      <td>0.037800</td>\n",
       "      <td>0.463297</td>\n",
       "      <td>0.377119</td>\n",
       "      <td>0.442658</td>\n",
       "      <td>1.000000</td>\n",
       "    </tr>\n",
       "  </tbody>\n",
       "</table>\n",
       "</div>"
      ],
      "text/plain": [
       "                                 Year  Duration  Aspect Ratio    Budget  \\\n",
       "Year                         1.000000 -0.095527      0.323285  0.147096   \n",
       "Duration                    -0.095527  1.000000      0.220941  0.087259   \n",
       "Aspect Ratio                 0.323285  0.220941      1.000000  0.100113   \n",
       "Budget                       0.147096  0.087259      0.100113  1.000000   \n",
       "Gross Earnings              -0.044484  0.173869      0.111366  0.077605   \n",
       "Facebook Likes - Director   -0.014884  0.111692      0.037127  0.033187   \n",
       "Facebook Likes - Actor 1     0.199426  0.133443      0.120693  0.035382   \n",
       "Facebook Likes - Actor 2     0.143826  0.148636      0.049147  0.039372   \n",
       "Facebook Likes - Actor 3     0.145443  0.119932      0.044903  0.040253   \n",
       "Facebook Likes - cast Total  0.221777  0.159022      0.120128  0.043680   \n",
       "Facebook likes - Movie      -0.027193  0.186378      0.031668  0.025654   \n",
       "Facenumber in posters       -0.028930  0.068211     -0.021705 -0.042357   \n",
       "User Votes                   0.040594  0.243906      0.081695  0.070121   \n",
       "Reviews by Users             0.068497  0.237790      0.106401  0.081506   \n",
       "Reviews by Crtiics          -0.022571  0.164861      0.118768  0.087358   \n",
       "IMDB Score                  -0.286387  0.335492     -0.072855 -0.001474   \n",
       "\n",
       "                             Gross Earnings  Facebook Likes - Director  \\\n",
       "Year                              -0.044484                  -0.014884   \n",
       "Duration                           0.173869                   0.111692   \n",
       "Aspect Ratio                       0.111366                   0.037127   \n",
       "Budget                             0.077605                   0.033187   \n",
       "Gross Earnings                     1.000000                   0.140560   \n",
       "Facebook Likes - Director          0.140560                   1.000000   \n",
       "Facebook Likes - Actor 1           0.189401                   0.170304   \n",
       "Facebook Likes - Actor 2           0.139103                   0.077660   \n",
       "Facebook Likes - Actor 3           0.101942                   0.088299   \n",
       "Facebook Likes - cast Total        0.208959                   0.162902   \n",
       "Facebook likes - Movie             0.306074                   0.170658   \n",
       "Facenumber in posters             -0.067722                   0.019252   \n",
       "User Votes                         0.534089                   0.234496   \n",
       "Reviews by Users                   0.428937                   0.152482   \n",
       "Reviews by Crtiics                 0.420706                   0.165230   \n",
       "IMDB Score                         0.246150                   0.175551   \n",
       "\n",
       "                             Facebook Likes - Actor 1  \\\n",
       "Year                                         0.199426   \n",
       "Duration                                     0.133443   \n",
       "Aspect Ratio                                 0.120693   \n",
       "Budget                                       0.035382   \n",
       "Gross Earnings                               0.189401   \n",
       "Facebook Likes - Director                    0.170304   \n",
       "Facebook Likes - Actor 1                     1.000000   \n",
       "Facebook Likes - Actor 2                     0.491765   \n",
       "Facebook Likes - Actor 3                     0.273238   \n",
       "Facebook Likes - cast Total                  0.956086   \n",
       "Facebook likes - Movie                       0.173079   \n",
       "Facenumber in posters                        0.053582   \n",
       "User Votes                                   0.251043   \n",
       "Reviews by Users                             0.202786   \n",
       "Reviews by Crtiics                           0.152327   \n",
       "IMDB Score                                   0.115787   \n",
       "\n",
       "                             Facebook Likes - Actor 2  \\\n",
       "Year                                         0.143826   \n",
       "Duration                                     0.148636   \n",
       "Aspect Ratio                                 0.049147   \n",
       "Budget                                       0.039372   \n",
       "Gross Earnings                               0.139103   \n",
       "Facebook Likes - Director                    0.077660   \n",
       "Facebook Likes - Actor 1                     0.491765   \n",
       "Facebook Likes - Actor 2                     1.000000   \n",
       "Facebook Likes - Actor 3                     0.487428   \n",
       "Facebook Likes - cast Total                  0.706735   \n",
       "Facebook likes - Movie                       0.122792   \n",
       "Facenumber in posters                        0.033816   \n",
       "User Votes                                   0.185772   \n",
       "Reviews by Users                             0.167045   \n",
       "Reviews by Crtiics                           0.098849   \n",
       "IMDB Score                                   0.112189   \n",
       "\n",
       "                             Facebook Likes - Actor 3  \\\n",
       "Year                                         0.145443   \n",
       "Duration                                     0.119932   \n",
       "Aspect Ratio                                 0.044903   \n",
       "Budget                                       0.040253   \n",
       "Gross Earnings                               0.101942   \n",
       "Facebook Likes - Director                    0.088299   \n",
       "Facebook Likes - Actor 1                     0.273238   \n",
       "Facebook Likes - Actor 2                     0.487428   \n",
       "Facebook Likes - Actor 3                     1.000000   \n",
       "Facebook Likes - cast Total                  0.451066   \n",
       "Facebook likes - Movie                       0.156718   \n",
       "Facenumber in posters                        0.043919   \n",
       "User Votes                                   0.187725   \n",
       "Reviews by Users                             0.169669   \n",
       "Reviews by Crtiics                           0.120473   \n",
       "IMDB Score                                   0.068138   \n",
       "\n",
       "                             Facebook Likes - cast Total  \\\n",
       "Year                                            0.221777   \n",
       "Duration                                        0.159022   \n",
       "Aspect Ratio                                    0.120128   \n",
       "Budget                                          0.043680   \n",
       "Gross Earnings                                  0.208959   \n",
       "Facebook Likes - Director                       0.162902   \n",
       "Facebook Likes - Actor 1                        0.956086   \n",
       "Facebook Likes - Actor 2                        0.706735   \n",
       "Facebook Likes - Actor 3                        0.451066   \n",
       "Facebook Likes - cast Total                     1.000000   \n",
       "Facebook likes - Movie                          0.185629   \n",
       "Facenumber in posters                           0.061802   \n",
       "User Votes                                      0.269708   \n",
       "Reviews by Users                                0.224732   \n",
       "Reviews by Crtiics                              0.163452   \n",
       "IMDB Score                                      0.123531   \n",
       "\n",
       "                             Facebook likes - Movie  Facenumber in posters  \\\n",
       "Year                                      -0.027193              -0.028930   \n",
       "Duration                                   0.186378               0.068211   \n",
       "Aspect Ratio                               0.031668              -0.021705   \n",
       "Budget                                     0.025654              -0.042357   \n",
       "Gross Earnings                             0.306074              -0.067722   \n",
       "Facebook Likes - Director                  0.170658               0.019252   \n",
       "Facebook Likes - Actor 1                   0.173079               0.053582   \n",
       "Facebook Likes - Actor 2                   0.122792               0.033816   \n",
       "Facebook Likes - Actor 3                   0.156718               0.043919   \n",
       "Facebook Likes - cast Total                0.185629               0.061802   \n",
       "Facebook likes - Movie                     1.000000              -0.038756   \n",
       "Facenumber in posters                     -0.038756               1.000000   \n",
       "User Votes                                 0.792120              -0.012531   \n",
       "Reviews by Users                           0.669500              -0.017897   \n",
       "Reviews by Crtiics                         0.494847              -0.058621   \n",
       "IMDB Score                                 0.401721               0.037800   \n",
       "\n",
       "                             User Votes  Reviews by Users  Reviews by Crtiics  \\\n",
       "Year                           0.040594          0.068497           -0.022571   \n",
       "Duration                       0.243906          0.237790            0.164861   \n",
       "Aspect Ratio                   0.081695          0.106401            0.118768   \n",
       "Budget                         0.070121          0.081506            0.087358   \n",
       "Gross Earnings                 0.534089          0.428937            0.420706   \n",
       "Facebook Likes - Director      0.234496          0.152482            0.165230   \n",
       "Facebook Likes - Actor 1       0.251043          0.202786            0.152327   \n",
       "Facebook Likes - Actor 2       0.185772          0.167045            0.098849   \n",
       "Facebook Likes - Actor 3       0.187725          0.169669            0.120473   \n",
       "Facebook Likes - cast Total    0.269708          0.224732            0.163452   \n",
       "Facebook likes - Movie         0.792120          0.669500            0.494847   \n",
       "Facenumber in posters         -0.012531         -0.017897           -0.058621   \n",
       "User Votes                     1.000000          0.809801            0.608385   \n",
       "Reviews by Users               0.809801          1.000000            0.737307   \n",
       "Reviews by Crtiics             0.608385          0.737307            1.000000   \n",
       "IMDB Score                     0.463297          0.377119            0.442658   \n",
       "\n",
       "                             IMDB Score  \n",
       "Year                          -0.286387  \n",
       "Duration                       0.335492  \n",
       "Aspect Ratio                  -0.072855  \n",
       "Budget                        -0.001474  \n",
       "Gross Earnings                 0.246150  \n",
       "Facebook Likes - Director      0.175551  \n",
       "Facebook Likes - Actor 1       0.115787  \n",
       "Facebook Likes - Actor 2       0.112189  \n",
       "Facebook Likes - Actor 3       0.068138  \n",
       "Facebook Likes - cast Total    0.123531  \n",
       "Facebook likes - Movie         0.401721  \n",
       "Facenumber in posters          0.037800  \n",
       "User Votes                     0.463297  \n",
       "Reviews by Users               0.377119  \n",
       "Reviews by Crtiics             0.442658  \n",
       "IMDB Score                     1.000000  "
      ]
     },
     "execution_count": 40,
     "metadata": {},
     "output_type": "execute_result"
    }
   ],
   "source": [
    "movies.corr()"
   ]
  },
  {
   "cell_type": "code",
   "execution_count": 41,
   "id": "underlying-bracelet",
   "metadata": {},
   "outputs": [
    {
     "data": {
      "text/plain": [
       "Year                         Year                           1.000000\n",
       "Duration                     Duration                       1.000000\n",
       "Reviews by Crtiics           Reviews by Crtiics             1.000000\n",
       "Reviews by Users             Reviews by Users               1.000000\n",
       "User Votes                   User Votes                     1.000000\n",
       "Facenumber in posters        Facenumber in posters          1.000000\n",
       "Facebook likes - Movie       Facebook likes - Movie         1.000000\n",
       "Facebook Likes - cast Total  Facebook Likes - cast Total    1.000000\n",
       "Facebook Likes - Actor 3     Facebook Likes - Actor 3       1.000000\n",
       "Facebook Likes - Actor 2     Facebook Likes - Actor 2       1.000000\n",
       "Facebook Likes - Actor 1     Facebook Likes - Actor 1       1.000000\n",
       "Facebook Likes - Director    Facebook Likes - Director      1.000000\n",
       "Gross Earnings               Gross Earnings                 1.000000\n",
       "Budget                       Budget                         1.000000\n",
       "Aspect Ratio                 Aspect Ratio                   1.000000\n",
       "IMDB Score                   IMDB Score                     1.000000\n",
       "Facebook Likes - cast Total  Facebook Likes - Actor 1       0.956086\n",
       "Facebook Likes - Actor 1     Facebook Likes - cast Total    0.956086\n",
       "Reviews by Users             User Votes                     0.809801\n",
       "User Votes                   Reviews by Users               0.809801\n",
       "dtype: float64"
      ]
     },
     "execution_count": 41,
     "metadata": {},
     "output_type": "execute_result"
    }
   ],
   "source": [
    "\n",
    "\n",
    "c = movies.corr().abs()\n",
    "\n",
    "s = c.unstack()\n",
    "so = s.sort_values(ascending= False)\n",
    "so.head(20)"
   ]
  },
  {
   "cell_type": "markdown",
   "id": "awful-morrison",
   "metadata": {},
   "source": [
    "**E.2**  What does it mean that year and duration in movies are negatively correlated? Plot these two variables togther and explain."
   ]
  },
  {
   "cell_type": "code",
   "execution_count": 54,
   "id": "reflected-spanking",
   "metadata": {},
   "outputs": [
    {
     "data": {
      "text/plain": [
       "<matplotlib.collections.PathCollection at 0x1881e29dfa0>"
      ]
     },
     "execution_count": 54,
     "metadata": {},
     "output_type": "execute_result"
    },
    {
     "data": {
      "image/png": "[encoded data removed]",
      "text/plain": [
       "<Figure size 432x288 with 1 Axes>"
      ]
     },
     "metadata": {
      "needs_background": "light"
     },
     "output_type": "display_data"
    }
   ],
   "source": [
    "fix, ax = plt.subplots()\n",
    "ax.scatter(movies[\"Year\"],movies[\"Duration\"])\n",
    "\n",
    "#negatively correlated means basically means that two variables move in opposite directions. this can be seen as the year goes up, the durations slighlty go down"
   ]
  },
  {
   "cell_type": "markdown",
   "id": "incorporated-calvin",
   "metadata": {},
   "source": [
    "**E.3** Which pairs of variables in the movies dataset have the highest correlation? What might explain this?"
   ]
  },
  {
   "cell_type": "code",
   "execution_count": 49,
   "id": "compound-reason",
   "metadata": {},
   "outputs": [
    {
     "data": {
      "text/plain": [
       "Year                         Year                           1.000000\n",
       "Duration                     Duration                       1.000000\n",
       "Reviews by Crtiics           Reviews by Crtiics             1.000000\n",
       "Reviews by Users             Reviews by Users               1.000000\n",
       "User Votes                   User Votes                     1.000000\n",
       "Facenumber in posters        Facenumber in posters          1.000000\n",
       "Facebook likes - Movie       Facebook likes - Movie         1.000000\n",
       "Facebook Likes - cast Total  Facebook Likes - cast Total    1.000000\n",
       "Facebook Likes - Actor 3     Facebook Likes - Actor 3       1.000000\n",
       "Facebook Likes - Actor 2     Facebook Likes - Actor 2       1.000000\n",
       "Facebook Likes - Actor 1     Facebook Likes - Actor 1       1.000000\n",
       "Facebook Likes - Director    Facebook Likes - Director      1.000000\n",
       "Gross Earnings               Gross Earnings                 1.000000\n",
       "Budget                       Budget                         1.000000\n",
       "Aspect Ratio                 Aspect Ratio                   1.000000\n",
       "IMDB Score                   IMDB Score                     1.000000\n",
       "Facebook Likes - cast Total  Facebook Likes - Actor 1       0.956086\n",
       "Facebook Likes - Actor 1     Facebook Likes - cast Total    0.956086\n",
       "Reviews by Users             User Votes                     0.809801\n",
       "User Votes                   Reviews by Users               0.809801\n",
       "dtype: float64"
      ]
     },
     "execution_count": 49,
     "metadata": {},
     "output_type": "execute_result"
    }
   ],
   "source": [
    "\n",
    "c = movies.corr().abs()\n",
    "\n",
    "s = c.unstack()\n",
    "so = s.sort_values(ascending= False)\n",
    "so.head(20)\n"
   ]
  },
  {
   "cell_type": "code",
   "execution_count": 48,
   "id": "close-builder",
   "metadata": {},
   "outputs": [],
   "source": [
    "#besides the same values pair\n",
    "#high correlations are actors and cast because poeple want to see their favorite actors/actresses"
   ]
  },
  {
   "cell_type": "markdown",
   "id": "about-anime",
   "metadata": {},
   "source": [
    "**E.4** Remake the house value vs. number of rooms plot and write the equation of the fitted line the title or as an annotation"
   ]
  },
  {
   "cell_type": "code",
   "execution_count": 50,
   "id": "brave-shopping",
   "metadata": {},
   "outputs": [],
   "source": [
    "from scipy import stats\n"
   ]
  },
  {
   "cell_type": "code",
   "execution_count": 51,
   "id": "searching-craps",
   "metadata": {},
   "outputs": [],
   "source": [
    "slope, intercept, r_value, p_value, std_err = stats.linregress(df[\"RM\"],target[\"MEDV\"])\n",
    "\n",
    "#this gives us the slope and intercept of the line, the corrlation (r_value)\n",
    "#A low p-value (< 0.05) indicates that the linear regression is a good mod"
   ]
  },
  {
   "cell_type": "code",
   "execution_count": 52,
   "id": "particular-fusion",
   "metadata": {},
   "outputs": [
    {
     "data": {
      "text/plain": [
       "2.487228871008377e-74"
      ]
     },
     "execution_count": 52,
     "metadata": {},
     "output_type": "execute_result"
    }
   ],
   "source": [
    "p_value"
   ]
  },
  {
   "cell_type": "code",
   "execution_count": 53,
   "id": "sufficient-nylon",
   "metadata": {},
   "outputs": [
    {
     "data": {
      "text/plain": [
       "Text(0.5, 1.0, 'y = -0.95(number of rooms) + 34.55')"
      ]
     },
     "execution_count": 53,
     "metadata": {},
     "output_type": "execute_result"
    },
    {
     "data": {
      "image/png": "[encoded data removed]",
      "text/plain": [
       "<Figure size 432x288 with 1 Axes>"
      ]
     },
     "metadata": {
      "needs_background": "light"
     },
     "output_type": "display_data"
    }
   ],
   "source": [
    "# let's plot the data with the linear fit and see how it looks\n",
    "plt.plot(df[\"RM\"], slope*df[\"RM\"]+intercept, 'k--')\n",
    "plt.scatter(df[\"RM\"], target[\"MEDV\"])\n",
    "plt.xlabel('Number of Rooms')\n",
    "plt.ylabel('House value ($1000s)')\n",
    "plt.title('y = -0.95(number of rooms) + 34.55')     "
   ]
  },
  {
   "cell_type": "code",
   "execution_count": 55,
   "id": "worst-terminal",
   "metadata": {},
   "outputs": [
    {
     "name": "stdout",
     "output_type": "stream",
     "text": [
      "y=x*9.102108981180306+-34.67062077643854\n"
     ]
    }
   ],
   "source": [
    "print('y= # of rooms' + str(slope) + '+' + str(intercept))"
   ]
  },
  {
   "cell_type": "markdown",
   "id": "logical-iraqi",
   "metadata": {},
   "source": [
    "**E.5** Following the same method, make a linear model for the house value as a function of the LSTAT (% lower status of the population). Plot your result and the resulting model, and annotate your result with the model equation. How good is this model compared to the one with the number of rooms? Use the statistcs returned by the linear regression function to support your argument."
   ]
  },
  {
   "cell_type": "code",
   "execution_count": 44,
   "id": "published-plane",
   "metadata": {},
   "outputs": [],
   "source": [
    "target2 = pd.DataFrame(data.target, columns=[\"MEDV\"])"
   ]
  },
  {
   "cell_type": "code",
   "execution_count": 45,
   "id": "printable-muslim",
   "metadata": {},
   "outputs": [],
   "source": [
    "slope, intercept, r_value, p_value, std_err = stats.linregress(df[\"LSTAT\"],target2[\"MEDV\"])"
   ]
  },
  {
   "cell_type": "code",
   "execution_count": 47,
   "id": "wanted-sight",
   "metadata": {},
   "outputs": [
    {
     "data": {
      "text/plain": [
       "Text(0.5, 1.0, 'y = -0.95(MEDV) + 34.55')"
      ]
     },
     "execution_count": 47,
     "metadata": {},
     "output_type": "execute_result"
    },
    {
     "data": {
      "image/png": "[encoded data removed]",
      "text/plain": [
       "<Figure size 432x288 with 1 Axes>"
      ]
     },
     "metadata": {
      "needs_background": "light"
     },
     "output_type": "display_data"
    }
   ],
   "source": [
    "plt.plot(df[\"LSTAT\"], slope*df[\"LSTAT\"]+intercept, 'k--')\n",
    "plt.scatter(df[\"LSTAT\"], target2[\"MEDV\"])\n",
    "plt.xlabel('MEDV')\n",
    "plt.ylabel('% lower status of the population')\n",
    "plt.title('y = -0.95(MEDV) + 34.55')"
   ]
  },
  {
   "cell_type": "code",
   "execution_count": 42,
   "id": "deluxe-afternoon",
   "metadata": {},
   "outputs": [
    {
     "name": "stdout",
     "output_type": "stream",
     "text": [
      "y= MEDV*9.102108981180306+-34.67062077643854\n"
     ]
    }
   ],
   "source": [
    "print('y= MEDV*' + str(slope) + '+' + str(intercept))"
   ]
  },
  {
   "cell_type": "code",
   "execution_count": null,
   "id": "declared-wallace",
   "metadata": {},
   "outputs": [],
   "source": [
    "p_value"
   ]
  },
  {
   "cell_type": "markdown",
   "id": "sensitive-detroit",
   "metadata": {},
   "source": [
    "this gives us the slope and intercept of the line, the corrlation (r_value)\n",
    "\n",
    "A low p-value (< 0.05) indicates that the linear regression is a good model\n",
    "\n",
    "the standard error is the standard deviation of the data from the model (as opposed to the standard deviation from the mean of the data)"
   ]
  },
  {
   "cell_type": "markdown",
   "id": "unlimited-excellence",
   "metadata": {},
   "source": [
    "**E.6** Following the example in the documentation below, add an intercept to the statsmodels housing model and plot your result\n",
    "\n",
    "http://www.statsmodels.org/dev/examples/notebooks/generated/ols.html"
   ]
  },
  {
   "cell_type": "code",
   "execution_count": 56,
   "id": "guilty-thompson",
   "metadata": {},
   "outputs": [],
   "source": [
    "import statsmodels.api as sm\n",
    "from statsmodels.sandbox.regression.predstd import wls_prediction_std"
   ]
  },
  {
   "cell_type": "code",
   "execution_count": 57,
   "id": "recovered-madonna",
   "metadata": {},
   "outputs": [],
   "source": [
    "np.random.seed(9876789)\n",
    "nsample = 100"
   ]
  },
  {
   "cell_type": "code",
   "execution_count": 58,
   "id": "retained-moscow",
   "metadata": {},
   "outputs": [],
   "source": [
    "X = df['RM']\n",
    "beta = np.array([1, 0.1, 10])\n",
    "e = np.random.normal(size=nsample)\n",
    "X = sm.add_constant(X)\n",
    "y = target['MEDV']"
   ]
  },
  {
   "cell_type": "code",
   "execution_count": 59,
   "id": "latter-trustee",
   "metadata": {},
   "outputs": [
    {
     "name": "stdout",
     "output_type": "stream",
     "text": [
      "                            OLS Regression Results                            \n",
      "==============================================================================\n",
      "Dep. Variable:                   MEDV   R-squared:                       0.484\n",
      "Model:                            OLS   Adj. R-squared:                  0.483\n",
      "Method:                 Least Squares   F-statistic:                     471.8\n",
      "Date:                Mon, 29 Mar 2021   Prob (F-statistic):           2.49e-74\n",
      "Time:                        14:44:00   Log-Likelihood:                -1673.1\n",
      "No. Observations:                 506   AIC:                             3350.\n",
      "Df Residuals:                     504   BIC:                             3359.\n",
      "Df Model:                           1                                         \n",
      "Covariance Type:            nonrobust                                         \n",
      "==============================================================================\n",
      "                 coef    std err          t      P>|t|      [0.025      0.975]\n",
      "------------------------------------------------------------------------------\n",
      "const        -34.6706      2.650    -13.084      0.000     -39.877     -29.465\n",
      "RM             9.1021      0.419     21.722      0.000       8.279       9.925\n",
      "==============================================================================\n",
      "Omnibus:                      102.585   Durbin-Watson:                   0.684\n",
      "Prob(Omnibus):                  0.000   Jarque-Bera (JB):              612.449\n",
      "Skew:                           0.726   Prob(JB):                    1.02e-133\n",
      "Kurtosis:                       8.190   Cond. No.                         58.4\n",
      "==============================================================================\n",
      "\n",
      "Notes:\n",
      "[1] Standard Errors assume that the covariance matrix of the errors is correctly specified.\n"
     ]
    }
   ],
   "source": [
    "model = sm.OLS(y, X)\n",
    "results = model.fit()\n",
    "print(results.summary())"
   ]
  },
  {
   "cell_type": "code",
   "execution_count": 60,
   "id": "loose-miller",
   "metadata": {},
   "outputs": [
    {
     "name": "stdout",
     "output_type": "stream",
     "text": [
      "Parameters:  const   -34.670621\n",
      "RM        9.102109\n",
      "dtype: float64\n",
      "R2:  0.48352545599133423\n"
     ]
    }
   ],
   "source": [
    "print('Parameters: ', results.params)\n",
    "print('R2: ', results.rsquared)"
   ]
  },
  {
   "cell_type": "code",
   "execution_count": 61,
   "id": "naughty-crazy",
   "metadata": {},
   "outputs": [
    {
     "data": {
      "text/plain": [
       "Text(0, 0.5, 'House value ($1000s)')"
      ]
     },
     "execution_count": 61,
     "metadata": {},
     "output_type": "execute_result"
    },
    {
     "data": {
      "image/png": "[encoded data removed]",
      "text/plain": [
       "<Figure size 432x288 with 1 Axes>"
      ]
     },
     "metadata": {
      "needs_background": "light"
     },
     "output_type": "display_data"
    }
   ],
   "source": [
    "\n",
    "plt.plot(df['RM'], 9.1021*df['RM']-34.6706, 'k--')  #The intercept is -34.67 and the slope is 9.1\n",
    "plt.scatter(df[\"RM\"], target[\"MEDV\"])\n",
    "plt.xlabel('Number of Rooms')\n",
    "plt.ylabel('House value ($1000s)')"
   ]
  },
  {
   "cell_type": "markdown",
   "id": "bizarre-butterfly",
   "metadata": {},
   "source": [
    "**E.7** (Advanced/optional, +1 token) Do the tutorial here to use scikitlearn to do a linear model: https://towardsdatascience.com/linear-regression-on-boston-housing-dataset-f409b7e4a155"
   ]
  },
  {
   "cell_type": "code",
   "execution_count": null,
   "id": "indirect-copyright",
   "metadata": {},
   "outputs": [],
   "source": [
    "#Passed :/"
   ]
  },
  {
   "cell_type": "raw",
   "id": "nutritional-sixth",
   "metadata": {},
   "source": [
    "Practice"
   ]
  },
  {
   "cell_type": "code",
   "execution_count": 62,
   "id": "popular-raise",
   "metadata": {},
   "outputs": [],
   "source": [
    "import cartopy.crs as ccrs   #import map styles/types\n",
    "import cartopy.feature as cfeature  # features such as the ocean, coastlines rivers, etc\n",
    "from cartopy.mpl.gridliner import LONGITUDE_FORMATTER, LATITUDE_FORMATTER"
   ]
  },
  {
   "cell_type": "code",
   "execution_count": 63,
   "id": "seasonal-duplicate",
   "metadata": {},
   "outputs": [
    {
     "data": {
      "text/plain": [
       "<cartopy.mpl.gridliner.Gridliner at 0x1e0e63d15e0>"
      ]
     },
     "execution_count": 63,
     "metadata": {},
     "output_type": "execute_result"
    },
    {
     "data": {
      "image/png": "[encoded data removed]",
      "text/plain": [
       "<Figure size 504x360 with 1 Axes>"
      ]
     },
     "metadata": {
      "needs_background": "light"
     },
     "output_type": "display_data"
    }
   ],
   "source": [
    "plt.figure(figsize=(7, 5))\n",
    "ax = plt.axes(projection=ccrs.PlateCarree())\n",
    "ax.coastlines(resolution='110m')\n",
    "ax.gridlines(draw_labels=True)"
   ]
  },
  {
   "cell_type": "code",
   "execution_count": 89,
   "id": "hazardous-project",
   "metadata": {},
   "outputs": [
    {
     "data": {
      "text/plain": [
       "<cartopy.mpl.feature_artist.FeatureArtist at 0x1e0e9677c70>"
      ]
     },
     "execution_count": 89,
     "metadata": {},
     "output_type": "execute_result"
    },
    {
     "data": {
      "image/png": "[encoded data removed]",
      "text/plain": [
       "<Figure size 720x576 with 1 Axes>"
      ]
     },
     "metadata": {
      "needs_background": "light"
     },
     "output_type": "display_data"
    }
   ],
   "source": [
    "fig, ax = plt.subplots(figsize =(10,8))  \n",
    "ax = plt.axes(projection=ccrs.PlateCarree())\n",
    "ax.set_extent([240,280, 10.11, 50.5]) \n",
    "\n",
    "#Sets the land onto the projection with the right color and scale\n",
    "land_50m = cfeature.NaturalEarthFeature('physical', 'land', '50m',\n",
    "                                    edgecolor='black',\n",
    "                                    facecolor='lightgrey')\n",
    "ax.add_feature(land_50m)"
   ]
  },
  {
   "cell_type": "markdown",
   "id": "downtown-drama",
   "metadata": {},
   "source": [
    "# import cartopy.crs as ccrs\n",
    "import cartopy.feature as cfeature\n",
    "import cartopy.io.shapereader as shpreader\n",
    "import matplotlib.pyplot as plt\n",
    "\n",
    "\n",
    "reader = shpreader.Reader('countyl010g.shp')\n",
    "\n",
    "counties = list(reader.geometries())\n",
    "\n",
    "COUNTIES = cfeature.ShapelyFeature(counties, ccrs.PlateCarree())\n",
    "\n",
    "plt.figure(figsize=(10, 6))\n",
    "ax = plt.axes(projection=ccrs.PlateCarree())\n",
    "\n",
    "ax.add_feature(cfeature.LAND.with_scale('50m'))\n",
    "ax.add_feature(cfeature.OCEAN.with_scale('50m'))\n",
    "ax.add_feature(cfeature.LAKES.with_scale('50m'))\n",
    "ax.add_feature(COUNTIES, facecolor='none', edgecolor='gray')\n",
    "\n",
    "ax.coastlines('50m')\n",
    "\n",
    "ax.set_extent([-83, -65, 33, 44])\n",
    "plt.show"
   ]
  },
  {
   "cell_type": "code",
   "execution_count": null,
   "id": "coated-hungary",
   "metadata": {},
   "outputs": [],
   "source": []
  },
  {
   "cell_type": "code",
   "execution_count": null,
   "id": "spatial-anchor",
   "metadata": {},
   "outputs": [],
   "source": []
  },
  {
   "cell_type": "code",
   "execution_count": null,
   "id": "computational-carroll",
   "metadata": {},
   "outputs": [],
   "source": []
  },
  {
   "cell_type": "code",
   "execution_count": null,
   "id": "lined-smith",
   "metadata": {},
   "outputs": [],
   "source": []
  },
  {
   "cell_type": "code",
   "execution_count": null,
   "id": "impressed-hamburg",
   "metadata": {},
   "outputs": [],
   "source": []
  },
  {
   "cell_type": "code",
   "execution_count": null,
   "id": "decreased-attempt",
   "metadata": {},
   "outputs": [],
   "source": []
  },
  {
   "cell_type": "code",
   "execution_count": null,
   "id": "passive-morrison",
   "metadata": {},
   "outputs": [],
   "source": []
  }
 ],
 "metadata": {
  "kernelspec": {
   "display_name": "Python 3",
   "language": "python",
   "name": "python3"
  },
  "language_info": {
   "codemirror_mode": {
    "name": "ipython",
    "version": 3
   },
   "file_extension": ".py",
   "mimetype": "text/x-python",
   "name": "python",
   "nbconvert_exporter": "python",
   "pygments_lexer": "ipython3",
   "version": "3.8.8"
  }
 },
 "nbformat": 4,
 "nbformat_minor": 5
}
