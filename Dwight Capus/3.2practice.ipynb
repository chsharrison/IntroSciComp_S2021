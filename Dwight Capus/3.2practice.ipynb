# -*- coding: utf-8 -*-
"""
Created on Fri Jan 22 13:45:26 2021

@author: zedri
"""
import math
import matplotlib
import matplotlib.pyplot as plt
import numpy as np


k= [2, 4, 6, 8, 9]
time= [1, 2, 3, 4, 6]
plt.plot(k,time)
plt.show()

k= [2, 4, 6, 8, 9]
time= [1, 2, 3, 4, 6]
plt.scatter(k,time)
plt.xscale('log')
plt.xlabel('hydraulic conductivity 9 (k)')
plt.ylabel('time in sec')
plt.show()