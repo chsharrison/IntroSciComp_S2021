{
 "cells": [
  {
   "cell_type": "markdown",
   "id": "personalized-technology",
   "metadata": {},
   "source": [
    "Name"
   ]
  },
  {
   "cell_type": "markdown",
   "id": "affiliated-glasgow",
   "metadata": {},
   "source": [
    "Labpartner(s)"
   ]
  },
  {
   "cell_type": "code",
   "execution_count": 1,
   "id": "cloudy-shame",
   "metadata": {},
   "outputs": [],
   "source": [
    "# import statements go here\n",
    "import numpy as np"
   ]
  },
  {
   "cell_type": "markdown",
   "id": "described-hunter",
   "metadata": {},
   "source": [
    "# Class 5.2"
   ]
  },
  {
   "cell_type": "markdown",
   "id": "acquired-feedback",
   "metadata": {},
   "source": [
    "Dr. Harrison is attending remotely and presenting at the AAAS annual conference \"Understanding Dynamic Ecosystems\" in the session \"\"Biosphere Responses to Geoengineering\" https://meetings.aaas.org\n",
    "\n",
    "Postdoc Josh Coupe, a seasoned scientific programmer, will be hosting class"
   ]
  },
  {
   "cell_type": "markdown",
   "id": "flush-somewhere",
   "metadata": {},
   "source": [
    "# Warmups 5.2"
   ]
  },
  {
   "cell_type": "markdown",
   "id": "vanilla-protocol",
   "metadata": {},
   "source": [
    "**W.1** Go through 1.4.1.2 Creating Arrays in the scipy lecture notes, including the exercises. http://scipy-lectures.org/intro/numpy/array_object.html#id2"
   ]
  },
  {
   "cell_type": "markdown",
   "id": "joint-promotion",
   "metadata": {},
   "source": [
    "Create a simple two dimensional array. First, redo the examples from above. And then create your own: how about odd numbers counting backwards on the first row, and even numbers on the second?"
   ]
  },
  {
   "cell_type": "code",
   "execution_count": 5,
   "id": "greatest-happiness",
   "metadata": {},
   "outputs": [
    {
     "data": {
      "text/plain": [
       "array([[9, 7, 5],\n",
       "       [8, 6, 4]])"
      ]
     },
     "execution_count": 5,
     "metadata": {},
     "output_type": "execute_result"
    }
   ],
   "source": [
    "two_d = np.array([[9,7,5],\n",
    "                 [8,6,4]],)\n",
    "two_d"
   ]
  },
  {
   "cell_type": "markdown",
   "id": "checked-organ",
   "metadata": {},
   "source": [
    "Experiment with arange, linspace, ones, zeros, eye and diag.\n",
    "Create different kinds of arrays with random numbers.\n",
    "Try setting the seed before creating an array with random values.\n",
    "Look at the function np.empty. What does it do? When might this be useful?"
   ]
  },
  {
   "cell_type": "code",
   "execution_count": 11,
   "id": "fiscal-novelty",
   "metadata": {},
   "outputs": [
    {
     "data": {
      "text/plain": [
       "array([ 0,  1,  2,  3,  4,  5,  6,  7,  8,  9, 10])"
      ]
     },
     "execution_count": 11,
     "metadata": {},
     "output_type": "execute_result"
    }
   ],
   "source": [
    "a = np.arange(11) # 0 .. n-1  (!)\n",
    "a"
   ]
  },
  {
   "cell_type": "code",
   "execution_count": 14,
   "id": "leading-newton",
   "metadata": {},
   "outputs": [
    {
     "data": {
      "text/plain": [
       "array([ 0. ,  1.5,  3. ,  4.5,  6. ,  7.5,  9. , 10.5])"
      ]
     },
     "execution_count": 14,
     "metadata": {},
     "output_type": "execute_result"
    }
   ],
   "source": [
    "b = np.arange(0, 10+1, 1.5) # start, end (exclusive), step\n",
    "b"
   ]
  },
  {
   "cell_type": "code",
   "execution_count": 36,
   "id": "floppy-challenge",
   "metadata": {},
   "outputs": [
    {
     "data": {
      "text/plain": [
       "array([[4., 4., 4., 4., 4., 4., 4.],\n",
       "       [3., 3., 3., 3., 3., 3., 3.],\n",
       "       [2., 2., 2., 2., 2., 2., 2.],\n",
       "       [1., 7., 7., 7., 7., 7., 1.],\n",
       "       [1., 7., 7., 7., 7., 7., 1.],\n",
       "       [1., 7., 7., 7., 7., 7., 1.],\n",
       "       [1., 1., 1., 1., 1., 1., 1.]])"
      ]
     },
     "execution_count": 36,
     "metadata": {},
     "output_type": "execute_result"
    }
   ],
   "source": [
    "c = np.ones((7,7))  # reminder: (3, 3) is a tuple\n",
    "c[2]=2\n",
    "c[1,]=3\n",
    "c[0,:]=4\n",
    "c[3:6, 1:6] = 7      \n",
    "c\n"
   ]
  },
  {
   "cell_type": "code",
   "execution_count": 40,
   "id": "dated-activation",
   "metadata": {},
   "outputs": [
    {
     "data": {
      "text/plain": [
       "array([0., 1., 2., 3., 4., 5.])"
      ]
     },
     "execution_count": 40,
     "metadata": {},
     "output_type": "execute_result"
    }
   ],
   "source": [
    "d = np.linspace(0, 5, 6)   # start, end, num-points\n",
    "d"
   ]
  },
  {
   "cell_type": "code",
   "execution_count": 42,
   "id": "forced-dodge",
   "metadata": {},
   "outputs": [
    {
     "data": {
      "text/plain": [
       "array([0. , 0.2, 0.4, 0.6, 0.8, 1. ])"
      ]
     },
     "execution_count": 42,
     "metadata": {},
     "output_type": "execute_result"
    }
   ],
   "source": [
    "d2= np.linspace(0, 1, 6)\n",
    "d2"
   ]
  },
  {
   "cell_type": "code",
   "execution_count": 47,
   "id": "sudden-puppy",
   "metadata": {},
   "outputs": [
    {
     "data": {
      "text/plain": [
       "array([[1., 0., 0., 0., 0., 0.],\n",
       "       [0., 1., 0., 0., 0., 0.],\n",
       "       [0., 0., 1., 0., 0., 0.],\n",
       "       [0., 0., 0., 1., 0., 0.],\n",
       "       [0., 0., 0., 0., 1., 0.],\n",
       "       [0., 0., 0., 0., 0., 1.]])"
      ]
     },
     "execution_count": 47,
     "metadata": {},
     "output_type": "execute_result"
    }
   ],
   "source": [
    "e = np.eye(6)\n"
   ]
  },
  {
   "cell_type": "code",
   "execution_count": 50,
   "id": "dressed-jones",
   "metadata": {},
   "outputs": [
    {
     "data": {
      "text/plain": [
       "array([[0., 1., 0., 0., 0.],\n",
       "       [0., 0., 1., 0., 0.],\n",
       "       [0., 0., 0., 1., 0.],\n",
       "       [0., 0., 0., 0., 1.],\n",
       "       [0., 0., 0., 0., 0.],\n",
       "       [0., 0., 0., 0., 0.],\n",
       "       [0., 0., 0., 0., 0.],\n",
       "       [0., 0., 0., 0., 0.]])"
      ]
     },
     "execution_count": 50,
     "metadata": {},
     "output_type": "execute_result"
    }
   ],
   "source": [
    "e1 = np.eye(8,5,1)\n",
    "e1"
   ]
  },
  {
   "cell_type": "code",
   "execution_count": 52,
   "id": "north-piece",
   "metadata": {},
   "outputs": [
    {
     "data": {
      "text/plain": [
       "array([[3, 0, 0, 0, 0],\n",
       "       [0, 3, 0, 0, 0],\n",
       "       [0, 0, 3, 0, 0],\n",
       "       [0, 0, 0, 3, 0],\n",
       "       [0, 0, 0, 0, 4]])"
      ]
     },
     "execution_count": 52,
     "metadata": {},
     "output_type": "execute_result"
    }
   ],
   "source": [
    "f= np.diag(np.array([3, 3, 3, 3,4]))\n",
    "f"
   ]
  },
  {
   "cell_type": "markdown",
   "id": "helpful-print",
   "metadata": {},
   "source": [
    "# Lecture 5.2"
   ]
  },
  {
   "cell_type": "markdown",
   "id": "copyrighted-nudist",
   "metadata": {},
   "source": [
    "### Agenda:\n",
    "\n",
    "- Programming questions\n",
    "- Dr. Coupe will show some plots \n",
    "- Examples of for loops"
   ]
  },
  {
   "cell_type": "markdown",
   "id": "higher-comedy",
   "metadata": {},
   "source": []
  },
  {
   "cell_type": "markdown",
   "id": "steady-casting",
   "metadata": {},
   "source": [
    "# Lab 5.2"
   ]
  },
  {
   "cell_type": "markdown",
   "id": "manufactured-cornwall",
   "metadata": {},
   "source": [
    "**E.1** Complete Lab 5.1 if you haven't allready\n"
   ]
  },
  {
   "cell_type": "markdown",
   "id": "changed-contest",
   "metadata": {},
   "source": [
    "**E.2** Complete intermediate python chapter 5: Case study on hacker statistics\n"
   ]
  },
  {
   "cell_type": "markdown",
   "id": "confused-companion",
   "metadata": {},
   "source": [
    "**E.3** Make notes for yourself on progamming tecniques and commands you learned in the datacamp chapter above, including examples, comments and explainitory text. You can do this here or in a separate notebook that you link to here. Basically, you are making a cheat sheet for yourself."
   ]
  },
  {
   "cell_type": "code",
   "execution_count": 55,
   "id": "norman-airplane",
   "metadata": {},
   "outputs": [
    {
     "data": {
      "text/plain": [
       "0.8319874926542971"
      ]
     },
     "execution_count": 55,
     "metadata": {},
     "output_type": "execute_result"
    }
   ],
   "source": [
    "#How to solve analytically\n",
    "#simulate success\n",
    "\n",
    "import numpy as np\n",
    "np.random.rand()     #---> pseudo number, set manually"
   ]
  },
  {
   "cell_type": "code",
   "execution_count": 89,
   "id": "cultural-scale",
   "metadata": {},
   "outputs": [
    {
     "name": "stdout",
     "output_type": "stream",
     "text": [
      "zero\n"
     ]
    }
   ],
   "source": [
    "np.random.seed(123)    #this seed was chosen by Python when we called the rand function (below),\n",
    "coin = np.random.randint(0,2) #randomly genereate 0 or 1(2 is not included)\n",
    "if coin == 0:\n",
    "    print('zero')\n",
    "else :\n",
    "    print('one') "
   ]
  },
  {
   "cell_type": "markdown",
   "id": "alien-summary",
   "metadata": {},
   "source": [
    "Note:\n",
    "    Random stepssss ---> Random walk\n",
    "    Path of molecules\n",
    "    Gambler's financial status\n",
    "example: \n",
    "    Heads or Tails(Random walk ) See practice"
   ]
  },
  {
   "cell_type": "markdown",
   "id": "potential-savannah",
   "metadata": {},
   "source": [
    "#Distribution of Random walks:\n",
    "what is the chance that you'll reach 60 steps high? I'll give you a hint. Each random walk will end up on a different step. If you simulate this walk thousands of times, you will end up with thousands of final steps. This is actually a distribution of final steps. And once you know the distribution, you can start calculating chances.\n"
   ]
  },
  {
   "cell_type": "code",
   "execution_count": null,
   "id": "close-blade",
   "metadata": {},
   "outputs": [],
   "source": [
    "import numy as np"
   ]
  },
  {
   "cell_type": "code",
   "execution_count": 92,
   "id": "decimal-retention",
   "metadata": {},
   "outputs": [],
   "source": [
    "np.random.seed(123)\n",
    "tails = [0]               #total number of tails after 10 coin tosses,the number of tails starts at zero\n",
    "for x in range(10):       #and, ten times, we calculate a random number which is either 0 or 1 \n",
    "    coin = np.random.randint(0,2)\n",
    "    tails.append(tails[x] + coin)    #then update the number of times tails has been thrown by appending it to the list."
   ]
  },
  {
   "cell_type": "code",
   "execution_count": 95,
   "id": "complex-variation",
   "metadata": {},
   "outputs": [
    {
     "name": "stdout",
     "output_type": "stream",
     "text": [
      "[3, 6, 4, 5, 4, 5, 3, 5, 4, 6, 6, 8, 6, 4, 7, 5, 7, 4, 3, 3, 4, 5, 8, 5, 6, 5, 7, 6, 4, 5, 8, 5, 8, 4, 6, 6, 3, 4, 5, 4, 7, 8, 9, 4, 3, 4, 5, 6, 4, 2, 6, 6, 5, 7, 5, 4, 5, 5, 6, 7, 6, 6, 6, 3, 6, 3, 6, 5, 6, 5, 6, 4, 6, 6, 3, 4, 4, 2, 4, 5, 4, 6, 6, 6, 8, 4, 6, 5, 7, 4, 6, 5, 4, 6, 7, 3, 7, 4, 5, 7]\n"
     ]
    }
   ],
   "source": [
    "np.random.seed(123)\n",
    "final_tails = []\n",
    "for x in range(100):\n",
    "    tails = [0]\n",
    "    for x in range(10): #and, ten times, we calculate a random number which is either 0 or 1 \n",
    "        coin = np.random.randint(0,2)\n",
    "        tails.append(tails[x] + coin)  \n",
    "    final_tails.append(tails[-1])\n",
    "print(final_tails)   #All these values actually represent a distribution, that we can visualize. Hmm, \n",
    "                        #visualizing a distribution, that calls for a histogram!"
   ]
  },
  {
   "cell_type": "code",
   "execution_count": 98,
   "id": "suited-notice",
   "metadata": {},
   "outputs": [
    {
     "data": {
      "image/png": "[encoded data removed]",
      "text/plain": [
       "<Figure size 432x288 with 1 Axes>"
      ]
     },
     "metadata": {
      "needs_background": "light"
     },
     "output_type": "display_data"
    }
   ],
   "source": [
    "import matplotlib.pyplot as plt\n",
    "np.random.seed(123)\n",
    "final_tails = []\n",
    "for x in range(1000):\n",
    "    tails = [0]\n",
    "    for x in range(10): #and, ten times, we calculate a random number which is either 0 or 1 \n",
    "        coin = np.random.randint(0,2)\n",
    "        tails.append(tails[x] + coin)  \n",
    "    final_tails.append(tails[-1])\n",
    "   #All these values actually represent a distribution, that we can visualize. Hmm, \n",
    "                        #visualizing a distribution, that calls for a histogram!\n",
    "plt.hist(final_tails, bins = 10)\n",
    "plt.show()\n",
    "    "
   ]
  },
  {
   "cell_type": "markdown",
   "id": "shared-china",
   "metadata": {},
   "source": [
    "### Congratulations! ¡Felicidades! You finished Intermediate Python!"
   ]
  },
  {
   "cell_type": "code",
   "execution_count": null,
   "id": "stretch-ready",
   "metadata": {},
   "outputs": [],
   "source": [
    "joshua coupe records\n"
   ]
  }
 ],
 "metadata": {
  "kernelspec": {
   "display_name": "Python 3",
   "language": "python",
   "name": "python3"
  },
  "language_info": {
   "codemirror_mode": {
    "name": "ipython",
    "version": 3
   },
   "file_extension": ".py",
   "mimetype": "text/x-python",
   "name": "python",
   "nbconvert_exporter": "python",
   "pygments_lexer": "ipython3",
   "version": "3.8.5"
  }
 },
 "nbformat": 4,
 "nbformat_minor": 5
}
