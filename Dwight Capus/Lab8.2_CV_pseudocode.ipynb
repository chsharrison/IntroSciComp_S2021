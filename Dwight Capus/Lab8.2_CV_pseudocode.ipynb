{
 "cells": [
  {
   "cell_type": "markdown",
   "id": "juvenile-camping",
   "metadata": {},
   "source": [
    "Name"
   ]
  },
  {
   "cell_type": "markdown",
   "id": "burning-london",
   "metadata": {},
   "source": [
    "Labpartner(s)"
   ]
  },
  {
   "cell_type": "code",
   "execution_count": 1,
   "id": "charming-transport",
   "metadata": {},
   "outputs": [],
   "source": [
    "#import statements go here\n",
    "import numpy as np"
   ]
  },
  {
   "cell_type": "markdown",
   "id": "contemporary-weather",
   "metadata": {},
   "source": [
    "# Class 8.2"
   ]
  },
  {
   "cell_type": "markdown",
   "id": "unlikely-beast",
   "metadata": {},
   "source": [
    "# Warmups 8.2"
   ]
  },
  {
   "cell_type": "markdown",
   "id": "earlier-plant",
   "metadata": {},
   "source": [
    "Music to code loops by (featuring samples of Warf and Geordi from Star Trek TNG). Mobius by Orbital:\n",
    "\n",
    "https://www.youtube.com/watch?v=4PG5PCd284o.\n",
    "\n",
    "(I was this many years old when I learned you could stick a period at the end of the youtube url to suprress the ads, try it)\n",
    "\n",
    "Let's keep practiciing functions and logical control. Raise your hand when you get confused, and look at the suggested solutions, this is tricky stuff to master. Dwight- It didnt work :/\n"
   ]
  },
  {
   "cell_type": "markdown",
   "id": "rubber-samuel",
   "metadata": {},
   "source": [
    "**W.1** Do Practice Python 28, Max of Three https://www.practicepython.org. \n",
    "\n",
    "Suggested approach: Writing some notes on how you will code something before you begin is really helpful and standard practice. Write some pseudocode to think out the problem before you begin. Here are some examples of this: https://www.unf.edu/~broggio/cop2221/2221pseu.htm  \n",
    "\n",
    "https://www.youtube.com/watch?v=HhBrkpTqzqg\n",
    "\n",
    "We'll do more of this in lab, but give it a shot here."
   ]
  },
  {
   "cell_type": "raw",
   "id": "downtown-duncan",
   "metadata": {},
   "source": [
    "num(a,b,c)\n",
    "IF number a is > than b and c = print a\n",
    "IF number b is > than a and c = prinat b\n",
    "IF number c is > than an and b = print C"
   ]
  },
  {
   "cell_type": "code",
   "execution_count": 2,
   "id": "equipped-crisis",
   "metadata": {},
   "outputs": [],
   "source": [
    "def num(a,b,c):\n",
    "     if (a>b) and (a>c):\n",
    "        print(a)\n",
    "     if (b> a) and (b>c):\n",
    "             print(b)\n",
    "     elif (c > a) and (c > b):\n",
    "            print(c)\n",
    "    \n",
    "         \n",
    "        \n",
    "        "
   ]
  },
  {
   "cell_type": "code",
   "execution_count": 3,
   "id": "acquired-handy",
   "metadata": {},
   "outputs": [
    {
     "name": "stdout",
     "output_type": "stream",
     "text": [
      "5\n"
     ]
    }
   ],
   "source": [
    "num(2,5,3)"
   ]
  },
  {
   "cell_type": "markdown",
   "id": "automatic-committee",
   "metadata": {},
   "source": [
    "# Lecture 8.2\n",
    "\n",
    "### Agenda:\n",
    "\n",
    "- Syllabus changes\n",
    "- CV Assignement\n",
    "- Questions\n",
    "- (if time) pseudocode example"
   ]
  },
  {
   "cell_type": "markdown",
   "id": "wicked-waterproof",
   "metadata": {},
   "source": [
    "### Syllabus changes"
   ]
  },
  {
   "cell_type": "markdown",
   "id": "welsh-addiction",
   "metadata": {},
   "source": [
    "New Syllabus is up on BB. Here is the grading changes (changes in **BOLD**)\n",
    "\n",
    "To receive an A grade, students must\n",
    "-\tMeet the specifications for receiving a B grade\n",
    "-\tSatisfactorily complete all advanced labs\n",
    "\n",
    "To receive a B grade, students must\n",
    "-\tMeet the specifications for receiving a C grade\n",
    "-\tSatisfactorily complete **one out of three** advanced labs\n",
    "\n",
    "To pass the course with a C, students must\n",
    "-\tMeet the specifications for receiving a D grade \n",
    "-\tSatisfactorily complete the Linear Regression, Timeseries Analysis and **History of Hacking** labs\n",
    "-\tProvide satisfactory course feedback\n",
    "\n",
    "To pass the course with a D, students must \n",
    "-\tSatisfactorily complete all assigned chapters in datacamp **and the associated labs, as well as Cartopy and Movies lab**\n",
    "-\tSatisfactorily complete all components of the final project\n",
    "\n",
    "Failure to deliver a satisfactory final assignment will result in an F, regardless of other assignments done."
   ]
  },
  {
   "cell_type": "markdown",
   "id": "distinct-physics",
   "metadata": {},
   "source": [
    "### New Schedule\n",
    "![](revised_schedule.png)"
   ]
  },
  {
   "cell_type": "markdown",
   "id": "useful-grade",
   "metadata": {},
   "source": [
    "### CV assignment, Word and Zotero integration assignment (turn these in with Lab 8.2)\n",
    "\n",
    "- Demo of Overleaf\n",
    "- Demo of Zotero and Word\n",
    "- Demo of Zotero and Overleaf\n",
    "\n",
    "Assignement:\n",
    "\n",
    "You will make a CV in Overleaf using the LaTex typesetting software. Pick a CV template and modify it to have your info. Make sure you include a picture (required, this is to get you used to the syntax for this). Don't get overwhelmed by all the detailed code, just figure out what you need to modify to put in your information.\n",
    "\n",
    "You will submit a word document that is integrated with zotero and features three references. Submit both the document file, and a screenshot of your zotero account with the references in it.\n",
    "\n",
    "Extra Credit (2 assignment tokens):\n",
    "Integrate Overleaf and Zotero. There are two ways to do this, you can integrate zotero directly into overleaf (but I think they charge for this now) or you can export your citations from zotero as a .bib file and upload this into Overleaf. If you're keen, give it a shot! \n"
   ]
  },
  {
   "cell_type": "code",
   "execution_count": null,
   "id": "meaning-childhood",
   "metadata": {},
   "outputs": [],
   "source": []
  },
  {
   "cell_type": "code",
   "execution_count": null,
   "id": "excessive-wireless",
   "metadata": {},
   "outputs": [],
   "source": []
  },
  {
   "cell_type": "markdown",
   "id": "french-concentrate",
   "metadata": {},
   "source": [
    "### Questions"
   ]
  },
  {
   "cell_type": "code",
   "execution_count": null,
   "id": "hidden-import",
   "metadata": {},
   "outputs": [],
   "source": []
  },
  {
   "cell_type": "code",
   "execution_count": null,
   "id": "subsequent-pierce",
   "metadata": {},
   "outputs": [],
   "source": []
  },
  {
   "cell_type": "markdown",
   "id": "automated-fitness",
   "metadata": {},
   "source": [
    "# Lab 8.2"
   ]
  },
  {
   "cell_type": "markdown",
   "id": "loved-compact",
   "metadata": {},
   "source": [
    "**E.1** Go through the following tutorial on pseudocode and logical control. They are coding in a different language (I think C++). You will translate what they did into python. You can do it!\n",
    "\n",
    "https://www.youtube.com/watch?v=PwGA4Lm8zuE\n",
    "\n",
    "Make sure you write your notes out here with your pseudocode. Take your time and think it through"
   ]
  },
  {
   "cell_type": "raw",
   "id": "protecting-polish",
   "metadata": {},
   "source": [
    "How to write a pseudocode:\n",
    "    1st Capitalize key command (IF number is > 10 then...)\n",
    "    2nd Write one statement per line\n",
    "    3rd Use indentation\n",
    "    4 Be specific\n",
    "    5 Keep it simple\n",
    "    "
   ]
  },
  {
   "cell_type": "code",
   "execution_count": null,
   "id": "former-product",
   "metadata": {},
   "outputs": [],
   "source": [
    "Fizzbuzz work"
   ]
  },
  {
   "cell_type": "raw",
   "id": "imperial-cocktail",
   "metadata": {},
   "source": [
    "Write a program tha prints the numbers from 1 to 20\n",
    "for multiples of three print \"fizz\"\n",
    "for mupltiples of 5, print \"buzz\"\n",
    "for both, print \"FizzBuzz.\n",
    "for numbers that are noth divisible by 3 or 5, print the number as is"
   ]
  },
  {
   "cell_type": "code",
   "execution_count": null,
   "id": "common-briefs",
   "metadata": {},
   "outputs": [],
   "source": [
    "#FOR LOOP\n",
    "#set counter to 1\n",
    "#Break when counter reaches 20\n",
    "#Increment counter by 1\n",
    "    #IF number MOD 15 == 0\n",
    "        #print 'Fizzbuzz'\n",
    "    #ELSE IF number MOD 3 == 0\n",
    "        #print 'Fizz'\n",
    "    #ELSE IF number MOD 5 == \n",
    "        #PRINT 'Buzz'"
   ]
  },
  {
   "cell_type": "code",
   "execution_count": 56,
   "id": "mexican-baltimore",
   "metadata": {},
   "outputs": [
    {
     "data": {
      "text/plain": [
       "array([ 1,  2,  3,  4,  5,  6,  7,  8,  9, 10, 11, 12, 13, 14, 15, 16, 17,\n",
       "       18, 19, 20])"
      ]
     },
     "execution_count": 56,
     "metadata": {},
     "output_type": "execute_result"
    }
   ],
   "source": [
    "num=np.arange(1,20+1)\n",
    "num"
   ]
  },
  {
   "cell_type": "code",
   "execution_count": 61,
   "id": "incorporate-charity",
   "metadata": {},
   "outputs": [
    {
     "name": "stdout",
     "output_type": "stream",
     "text": [
      "1\n",
      "2\n",
      "Fizz\n",
      "4\n",
      "Buzz\n",
      "Fizz\n",
      "7\n",
      "8\n",
      "Fizz\n",
      "Buzz\n",
      "11\n",
      "Fizz\n",
      "13\n",
      "14\n",
      "FizzBuZZ\n",
      "16\n",
      "17\n",
      "Fizz\n",
      "19\n",
      "Buzz\n"
     ]
    }
   ],
   "source": [
    "for i in np.arange(1,20+1):\n",
    "    if i % 15 == 0:\n",
    "        print(\"FizzBuZZ\")\n",
    "    elif i % 3 == 0:\n",
    "        print(\"Fizz\")\n",
    "    elif i % 5 == 0:\n",
    "        print(\"Buzz\")\n",
    "    else:\n",
    "        print(i)"
   ]
  },
  {
   "cell_type": "code",
   "execution_count": 42,
   "id": "final-intermediate",
   "metadata": {},
   "outputs": [
    {
     "data": {
      "text/plain": [
       "range(1, 20)"
      ]
     },
     "execution_count": 42,
     "metadata": {},
     "output_type": "execute_result"
    }
   ],
   "source": [
    "a = range(1,20)\n",
    "a"
   ]
  },
  {
   "cell_type": "markdown",
   "id": "musical-guyana",
   "metadata": {},
   "source": [
    "**E.2** Complete Data Manipulation with pandas Ch 2 in datacamp.\n"
   ]
  },
  {
   "cell_type": "raw",
   "id": "pursuant-attempt",
   "metadata": {},
   "source": [
    "#Aggredating data using STATISTICS\n",
    "Most common:\n",
    "        .mean()\n",
    "        .median()\n",
    "        .min()\n",
    "        .max()\n",
    "        .sum\n"
   ]
  },
  {
   "cell_type": "raw",
   "id": "final-hygiene",
   "metadata": {},
   "source": [
    "Use can use minimun and maximun only if dates are in datetime type?"
   ]
  },
  {
   "cell_type": "raw",
   "id": "united-intersection",
   "metadata": {},
   "source": [
    "hort for inter-quartile range, which is the 75th percentile minus the 25th percentile. It's an alternative to standard deviation that is helpful if your data contains outliers."
   ]
  },
  {
   "cell_type": "code",
   "execution_count": 5,
   "id": "prompt-wallace",
   "metadata": {},
   "outputs": [],
   "source": [
    "def pc40(column):\n",
    "    return column.quantile(0.4)"
   ]
  },
  {
   "cell_type": "code",
   "execution_count": null,
   "id": "optimum-feeling",
   "metadata": {},
   "outputs": [],
   "source": [
    "num.agg(pct40)"
   ]
  },
  {
   "cell_type": "raw",
   "id": "improving-coffee",
   "metadata": {},
   "source": [
    "Calling cumsum on a column returns not just one number, but a number for each row of the DataFrame. The first number returned, or the number in the zeroth index, is the first dog's weight. The next number is the sum of the first and second dogs' weights. The third number is the sum of the first, second, and third dogs' weights, and so on. The last number is the sum of all the dogs' weights."
   ]
  },
  {
   "cell_type": "raw",
   "id": "subject-satellite",
   "metadata": {},
   "source": [
    "\"Variable\".sort_ values(\"......\")  - to sort the rows\n",
    ".cummax()\n",
    ".cummin()\n",
    ".cummax()"
   ]
  },
  {
   "cell_type": "raw",
   "id": "worse-prevention",
   "metadata": {},
   "source": [
    "Removing duplicates is an essential skill to get accurate counts because often, you don't want to count the same thing multiple times.\n",
    "\n",
    "Example:\n",
    "ales.drop_duplicates(subset=[\"store\", \"type\"])"
   ]
  },
  {
   "cell_type": "raw",
   "id": "understood-stamp",
   "metadata": {},
   "source": [
    "To count the dogs of each breed, we'll subset the breed column and use the value_counts method. We can also use the sort argument to get the breeds with the biggest counts on top.\n",
    "\n",
    "store_types[\"types\"].value_counts()\n",
    "store_types[\"types\"].value_counts(sort=True)\n",
    "store_types[\"types\"].value_counts(normalize= True)\n",
    "\n",
    "The normalize argument can be used to turn the counts into proportions of the total. 25% of the dogs that go to this vet are Labradors.\n",
    "\n",
    "COMBINATION\n",
    "dept_props_sorted = store_types[\"departments\"].value_coutns(sort=True, normalize=True\n"
   ]
  },
  {
   "cell_type": "raw",
   "id": "pleased-soldier",
   "metadata": {},
   "source": [
    "Group summary\n",
    "\n",
    "dogs.groupby(\"color\")[\"weight_kf\"].mean = mean weight by color\n",
    "sales_by_type_is_holiday = sales.groupby([\"type\", \"is_holiday\"])[\"weekly_sales\"].sum() =  total of type and is_holiday by weekly_sales"
   ]
  },
  {
   "cell_type": "raw",
   "id": "chicken-legend",
   "metadata": {},
   "source": [
    "to use agg == (agg is to use multiple function at once)\n",
    "Example\n",
    "sales_stats = sales.groupby(\"type\")[\"weekly_sales\"].agg([np.min, np.max, np.mean, np.median])\n"
   ]
  },
  {
   "cell_type": "code",
   "execution_count": null,
   "id": "wanted-spoke",
   "metadata": {},
   "outputs": [],
   "source": [
    "using PIVOT"
   ]
  },
  {
   "cell_type": "raw",
   "id": "japanese-prevention",
   "metadata": {},
   "source": [
    "mean_sales_by_type = sales.pivot_table(values=\"weekly_sales\", index=\"type\")   #pivot.table() automatially uses mean\n",
    "\n",
    "mean_med_sales_by_type = sales.pivot_table(values=\"weekly_sales\", index= \"type\").agg([np.min, np.max, np.mean, np.median])\n",
    "\n",
    "print(sales.pivot_table(values=\"weekly_sales\", index=\"department\", columns=\"type\", fill_value=0, margins= True)) # two columns, How? == Index and columns"
   ]
  },
  {
   "cell_type": "markdown",
   "id": "steady-slovenia",
   "metadata": {},
   "source": [
    "**E.3** Make notes for yourself on progamming tecniques and commands you learned in the datacamp chapter above, including examples, comments and explainitory text. You can do this here or in a separate notebook that you link to here. Basically, you are making a cheat sheet for yourself."
   ]
  },
  {
   "cell_type": "code",
   "execution_count": null,
   "id": "unnecessary-functionality",
   "metadata": {},
   "outputs": [],
   "source": []
  },
  {
   "cell_type": "markdown",
   "id": "intelligent-cornwall",
   "metadata": {},
   "source": [
    "### This week's project:\n",
    "\n",
    "This week we will be doing a CV assignment in LaTeX. Make your CV in LaTeX using Overleaf or the LaTeX interface of your choice (Word is not an option!!). You might find a cool template"
   ]
  },
  {
   "cell_type": "code",
   "execution_count": null,
   "id": "industrial-wrist",
   "metadata": {},
   "outputs": [],
   "source": []
  }
 ],
 "metadata": {
  "kernelspec": {
   "display_name": "Python 3",
   "language": "python",
   "name": "python3"
  },
  "language_info": {
   "codemirror_mode": {
    "name": "ipython",
    "version": 3
   },
   "file_extension": ".py",
   "mimetype": "text/x-python",
   "name": "python",
   "nbconvert_exporter": "python",
   "pygments_lexer": "ipython3",
   "version": "3.8.5"
  }
 },
 "nbformat": 4,
 "nbformat_minor": 5
}
