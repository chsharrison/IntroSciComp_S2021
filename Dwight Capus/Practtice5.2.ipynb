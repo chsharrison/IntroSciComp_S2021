{
 "cells": [
  {
   "cell_type": "code",
   "execution_count": 1,
   "id": "burning-going",
   "metadata": {},
   "outputs": [
    {
     "data": {
      "text/plain": [
       "array([[4., 4., 4., 4., 4., 4., 4.],\n",
       "       [3., 3., 3., 3., 3., 3., 3.],\n",
       "       [2., 2., 2., 2., 2., 2., 2.],\n",
       "       [1., 7., 7., 7., 7., 7., 1.],\n",
       "       [1., 7., 7., 7., 7., 7., 1.],\n",
       "       [1., 7., 7., 7., 7., 7., 1.],\n",
       "       [1., 1., 1., 1., 1., 1., 1.]])"
      ]
     },
     "execution_count": 1,
     "metadata": {},
     "output_type": "execute_result"
    }
   ],
   "source": [
    "import numpy as np\n",
    "c = np.ones((7,7))  # reminder: (3, 3) is a tuple\n",
    "c[2]=2\n",
    "c[1,]=3\n",
    "c[0,:]=4\n",
    "c[3:6, 1:6] = 7      # it's saying that all Arrays in C row 3 to \"5\"(6 is exclude) and(\",\") \n",
    "                    #colummn 1 to 5 will be 7\n",
    "c\n"
   ]
  },
  {
   "cell_type": "code",
   "execution_count": 2,
   "id": "emotional-breakfast",
   "metadata": {},
   "outputs": [
    {
     "name": "stdout",
     "output_type": "stream",
     "text": [
      "['heads', 'tails', 'heads', 'heads', 'heads', 'heads', 'heads', 'tails', 'tails', 'heads', 'tails', 'tails', 'heads', 'tails', 'heads', 'tails', 'heads', 'tails', 'tails', 'heads', 'heads', 'heads', 'tails', 'tails', 'tails', 'heads', 'tails', 'heads', 'heads', 'heads', 'heads', 'tails', 'tails', 'tails', 'heads', 'heads', 'tails', 'heads', 'heads', 'tails', 'heads', 'tails', 'heads', 'tails', 'tails', 'tails', 'heads', 'heads', 'heads', 'heads', 'tails', 'tails', 'heads', 'heads', 'tails', 'heads', 'tails', 'heads', 'heads', 'tails', 'heads', 'tails', 'heads', 'tails', 'heads', 'heads', 'heads', 'heads', 'tails', 'heads', 'heads', 'tails', 'tails', 'tails', 'tails', 'heads', 'heads', 'heads', 'heads', 'tails', 'tails', 'heads', 'heads', 'heads', 'heads', 'tails', 'heads', 'tails', 'tails', 'heads', 'tails', 'tails', 'tails', 'heads', 'tails', 'tails', 'tails', 'heads', 'heads', 'heads']\n"
     ]
    }
   ],
   "source": [
    "np.random.seed(123)\n",
    "results = []\n",
    "for x in range(100):\n",
    "    coin = np.random.randint(0,2)\n",
    "    if coin ==0:\n",
    "        results.append('heads')\n",
    "    else : \n",
    "        results.append('tails')\n",
    "print(results)"
   ]
  },
  {
   "cell_type": "code",
   "execution_count": 7,
   "id": "adolescent-quarter",
   "metadata": {},
   "outputs": [],
   "source": [
    "import matplotlib.pyplot as plt"
   ]
  },
  {
   "cell_type": "code",
   "execution_count": 11,
   "id": "continental-parks",
   "metadata": {},
   "outputs": [
    {
     "data": {
      "text/plain": [
       "array([[1., 1., 1., 1., 1., 1., 1.],\n",
       "       [1., 7., 7., 7., 7., 7., 1.],\n",
       "       [1., 7., 7., 7., 7., 7., 1.],\n",
       "       [1., 7., 7., 7., 7., 7., 1.],\n",
       "       [1., 7., 7., 7., 7., 7., 1.],\n",
       "       [1., 7., 7., 7., 7., 7., 1.],\n",
       "       [1., 1., 1., 1., 1., 1., 1.]])"
      ]
     },
     "execution_count": 11,
     "metadata": {},
     "output_type": "execute_result"
    }
   ],
   "source": [
    "x=np.ones((7,7)) \n",
    "x[1:6,1:6]=7\n",
    "x"
   ]
  },
  {
   "cell_type": "code",
   "execution_count": 15,
   "id": "phantom-creation",
   "metadata": {},
   "outputs": [
    {
     "data": {
      "text/plain": [
       "<matplotlib.colorbar.Colorbar at 0x2753b9fb1c0>"
      ]
     },
     "execution_count": 15,
     "metadata": {},
     "output_type": "execute_result"
    },
    {
     "data": {
      "image/png": "[encoded data removed]",
      "text/plain": [
       "<Figure size 432x288 with 2 Axes>"
      ]
     },
     "metadata": {
      "needs_background": "light"
     },
     "output_type": "display_data"
    }
   ],
   "source": [
    "plt.imshow(x)\n",
    "plt.colorbar()"
   ]
  },
  {
   "cell_type": "code",
   "execution_count": 16,
   "id": "flying-saskatchewan",
   "metadata": {},
   "outputs": [
    {
     "data": {
      "text/plain": [
       "array([ 10,  20,  30,  40,  50,  60,  70,  80,  90, 100])"
      ]
     },
     "execution_count": 16,
     "metadata": {},
     "output_type": "execute_result"
    }
   ],
   "source": [
    "a=np.arange(10,100+10, 10)\n",
    "a"
   ]
  },
  {
   "cell_type": "code",
   "execution_count": 18,
   "id": "wired-honor",
   "metadata": {},
   "outputs": [
    {
     "data": {
      "text/plain": [
       "[<matplotlib.lines.Line2D at 0x2753ba7bbe0>]"
      ]
     },
     "execution_count": 18,
     "metadata": {},
     "output_type": "execute_result"
    },
    {
     "data": {
      "image/png": "[encoded data removed]",
      "text/plain": [
       "<Figure size 432x288 with 1 Axes>"
      ]
     },
     "metadata": {
      "needs_background": "light"
     },
     "output_type": "display_data"
    }
   ],
   "source": [
    "plt.plot(a)"
   ]
  },
  {
   "cell_type": "code",
   "execution_count": null,
   "id": "german-transformation",
   "metadata": {},
   "outputs": [],
   "source": []
  }
 ],
 "metadata": {
  "kernelspec": {
   "display_name": "Python 3",
   "language": "python",
   "name": "python3"
  },
  "language_info": {
   "codemirror_mode": {
    "name": "ipython",
    "version": 3
   },
   "file_extension": ".py",
   "mimetype": "text/x-python",
   "name": "python",
   "nbconvert_exporter": "python",
   "pygments_lexer": "ipython3",
   "version": "3.8.5"
  }
 },
 "nbformat": 4,
 "nbformat_minor": 5
}
