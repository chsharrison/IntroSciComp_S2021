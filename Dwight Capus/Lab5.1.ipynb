{
 "cells": [
  {
   "cell_type": "markdown",
   "id": "numerical-chest",
   "metadata": {},
   "source": [
    "Name"
   ]
  },
  {
   "cell_type": "markdown",
   "id": "italic-nelson",
   "metadata": {},
   "source": [
    "Labpartner(s)"
   ]
  },
  {
   "cell_type": "code",
   "execution_count": 2,
   "id": "acute-flexibility",
   "metadata": {},
   "outputs": [],
   "source": [
    "# import statements go here\n",
    "import numpy as np\n"
   ]
  },
  {
   "cell_type": "markdown",
   "id": "funny-monte",
   "metadata": {},
   "source": [
    "# Class 5.1"
   ]
  },
  {
   "cell_type": "markdown",
   "id": "capital-elements",
   "metadata": {},
   "source": [
    "## Monday labs are due Thursday at midnight\n",
    "\n",
    "Today you all are going to do the lecture! It's Present Your Plots Day."
   ]
  },
  {
   "cell_type": "markdown",
   "id": "micro-welcome",
   "metadata": {},
   "source": [
    "# Warmups 5.1"
   ]
  },
  {
   "cell_type": "markdown",
   "id": "focused-france",
   "metadata": {},
   "source": [
    "### Warmup is short today (20 min) so we have time to focus on your plots."
   ]
  },
  {
   "cell_type": "markdown",
   "id": "applicable-accommodation",
   "metadata": {},
   "source": [
    "**W.1** Do Exercise 3 in practice python https://www.practicepython.org"
   ]
  },
  {
   "cell_type": "code",
   "execution_count": 2,
   "id": "moved-suspension",
   "metadata": {},
   "outputs": [],
   "source": [
    "#Instead of printing the elements one by one, make a new list that has all the elements less than 5 from this list in it and print out this new list."
   ]
  },
  {
   "cell_type": "code",
   "execution_count": 3,
   "id": "moral-classic",
   "metadata": {},
   "outputs": [
    {
     "data": {
      "text/plain": [
       "[1, 1, 2, 3]"
      ]
     },
     "execution_count": 3,
     "metadata": {},
     "output_type": "execute_result"
    }
   ],
   "source": [
    "a = [1, 1, 2, 3, 5, 8, 13, 21, 34, 55, 89]\n",
    "b=a[:4]\n",
    "b"
   ]
  },
  {
   "cell_type": "code",
   "execution_count": 4,
   "id": "discrete-ecuador",
   "metadata": {},
   "outputs": [],
   "source": [
    "#Ask the user for a number and return a list that contains only elements from the original list a that are smaller than that number given by the user."
   ]
  },
  {
   "cell_type": "code",
   "execution_count": 10,
   "id": "technological-summary",
   "metadata": {},
   "outputs": [
    {
     "name": "stdin",
     "output_type": "stream",
     "text": [
      "Type any random number  20\n"
     ]
    },
    {
     "name": "stdout",
     "output_type": "stream",
     "text": [
      "[1, 4, 9, 16, 25, 36, 49, 64, 81, 100]\n"
     ]
    }
   ],
   "source": [
    "int_num = int(input('Type any random number '))\n",
    "if int_num == 0:\n",
    "    print(\"0\")\n",
    "else:\n",
    "    print(a[:int_num])"
   ]
  },
  {
   "cell_type": "markdown",
   "id": "otherwise-turtle",
   "metadata": {},
   "source": [
    "# Lecture 5.1"
   ]
  },
  {
   "cell_type": "markdown",
   "id": "single-syndication",
   "metadata": {},
   "source": [
    "## Agenda:\n",
    "\n",
    "- Questions about class or coding\n",
    "- Review of assignment tokens system\n",
    "- Show us your plots! Explain your data set, what you did with it, and what your learned, including any difficulties you had and how you solved them."
   ]
  },
  {
   "cell_type": "markdown",
   "id": "portable-yacht",
   "metadata": {},
   "source": [
    "## Assignment Tokens review\n",
    "\n",
    "### From syllabus:\n",
    "\n",
    "Each student will begin the semester with ten assignment tokens, which they can use to miss a lab meeting, an assessment exercise, resubmit an unsatisfactory assignment or turn an assignment in late.\n",
    "\n",
    "### From: 4.1.1 How to earn more assingment tokens\n",
    "\n",
    "Studies show students at all levels like gamification. So let’s try this. We are going to institute an assignment token earning system starting next wek. There will be awards for having lots of tokens…and a winner...and prizes. \n",
    "\n",
    "Earn assignment tokens for: \n",
    "- Doing the data camp chapter before class (1 token)\n",
    "- Turning in Monday’s lab by Tuesday at midnight (1 token)\n",
    "- Creating a cool demo or exercise for your classmates (1+ tokens, depending on awesomeness)\n",
    "- Creating warmup exercises (1+ tokens, depending on how many, quality, etc.)\n",
    "\n",
    "To earn your tokens, send me and Adrian your proof, code, etc. over slack. That is, in a group message to both Adrian and I.\n",
    "\n",
    "As always, let me know in your weekly assessments if you have ideas on how to improve this game.\n",
    "\n"
   ]
  },
  {
   "cell_type": "code",
   "execution_count": null,
   "id": "eastern-seafood",
   "metadata": {},
   "outputs": [],
   "source": []
  },
  {
   "cell_type": "markdown",
   "id": "dressed-deposit",
   "metadata": {},
   "source": [
    "# Lab 5.1"
   ]
  },
  {
   "cell_type": "markdown",
   "id": "fallen-technique",
   "metadata": {},
   "source": [
    "**E.1** Complete intermediate python chapter 4: Loops\n",
    "\n",
    "Note that loops often are very confusing for new programmers, but they are very powerful and super-useful. You will be seing them again.\n",
    "\n",
    "Note that the tutorials here have similar material for your needs:\n",
    "https://github.com/chsharrison/IntroSciComp_S2021/blob/main/Class_materials/resources.md"
   ]
  },
  {
   "cell_type": "markdown",
   "id": "stopped-premises",
   "metadata": {},
   "source": [
    "**E.2** Make notes for yourself on all of the progamming tecniques and commands you learned in the datacamp chapter above, including examples, comments and explainitory text. You might use the resources linked above for supplementary examples. You can do this here or in a separate notebook that you link to here. Basically, you are making a cheat sheet for yourself."
   ]
  },
  {
   "cell_type": "markdown",
   "id": "supposed-paradise",
   "metadata": {},
   "source": [
    "#When this condition is True, the corresponding code is executed. If the conditions evaluates to False, and if there are elif and else statements, Python continues the search."
   ]
  },
  {
   "cell_type": "markdown",
   "id": "accredited-tomato",
   "metadata": {},
   "source": [
    "#For loop = let's you do something on every item on the list,array\n",
    "#for num -> \"num\" is just random number for each item on the list"
   ]
  },
  {
   "cell_type": "code",
   "execution_count": 1,
   "id": "impressed-disability",
   "metadata": {},
   "outputs": [
    {
     "name": "stdout",
     "output_type": "stream",
     "text": [
      "12.5\n",
      "3.125\n",
      "0.78125\n"
     ]
    }
   ],
   "source": [
    "error = 50.0\n",
    "\n",
    "while error > 1:   #\">\" 1 lets you run the loop as long as its greater than 1\n",
    "    error = error /4\n",
    "    print(error)\n",
    "    # starts with 12 then error\n",
    "    "
   ]
  },
  {
   "cell_type": "code",
   "execution_count": 2,
   "id": "packed-granny",
   "metadata": {},
   "outputs": [
    {
     "name": "stdout",
     "output_type": "stream",
     "text": [
      "1\n",
      "2\n",
      "3\n",
      "4\n",
      "5\n"
     ]
    }
   ],
   "source": [
    "#example, this lets your print every thing raher than subsetting?\n",
    "z = [1,2,3,4,5]\n",
    "for zed in z:\n",
    "    print(zed)"
   ]
  },
  {
   "cell_type": "code",
   "execution_count": 3,
   "id": "induced-sound",
   "metadata": {},
   "outputs": [
    {
     "name": "stdout",
     "output_type": "stream",
     "text": [
      "america--40\n",
      "spain--30\n",
      "afghanistan--20\n"
     ]
    }
   ],
   "source": [
    "#world = { \"afghanistan\": 40,          #if you want to iterate over key-value pairs in a dictionary, use the items() method on the dictionary to define the sequence in the for loop. If you want to iterate over all elements \n",
    "                                        #in a Numpy array, you should use the nditer() function to specify the sequence. Pay attention here: dictionaries require a method, Numpy arrays use a function.\n",
    "  #      \"spain\": 30,\n",
    "   #     \"yemen\": 20}\n",
    "#for key, value in world : \n",
    "  #  print(key + \"--\" + str(value))\n",
    "  #  result in error\n",
    "world = { \"america\": 40,\n",
    "        \"spain\": 30,\n",
    "        \"afghanistan\": 20}\n",
    "for key, value in world.items() : \n",
    "    print(key + \"--\" + str(value))"
   ]
  },
  {
   "cell_type": "markdown",
   "id": "romantic-roberts",
   "metadata": {},
   "source": [
    "**E.3-6** Exercises 4-7 in practice python (see link above)"
   ]
  },
  {
   "cell_type": "markdown",
   "id": "hollow-tsunami",
   "metadata": {},
   "source": [
    "Exercise #4 Create a program that asks the user for a number and then prints out a list of all the divisors of that number. "
   ]
  },
  {
   "cell_type": "code",
   "execution_count": 9,
   "id": "alien-columbus",
   "metadata": {},
   "outputs": [
    {
     "name": "stdin",
     "output_type": "stream",
     "text": [
      "Please enter number 10\n"
     ]
    },
    {
     "name": "stdout",
     "output_type": "stream",
     "text": [
      "[1, 2, 5]\n"
     ]
    }
   ],
   "source": [
    "div = int(input(\"Please enter number\"))\n",
    "list_divisors = []\n",
    "\n",
    "for i in range(1, div):\n",
    "    if div % i ==0:\n",
    "        list_divisors.append(i)\n",
    "print(list_divisors)"
   ]
  },
  {
   "cell_type": "code",
   "execution_count": null,
   "id": "facial-poultry",
   "metadata": {},
   "outputs": [],
   "source": [
    " #for each i, a variable, in rangelist, a sequence, execute the expressions. Makes sense?"
   ]
  },
  {
   "cell_type": "markdown",
   "id": "cloudy-christian",
   "metadata": {},
   "source": [
    "Exercise #5 write a program that returns a list that contains only the elements that are common between the lists (without duplicates). Make sure your program works on two lists of different sizes."
   ]
  },
  {
   "cell_type": "code",
   "execution_count": 6,
   "id": "bizarre-nomination",
   "metadata": {},
   "outputs": [
    {
     "name": "stdout",
     "output_type": "stream",
     "text": [
      "[1, 2, 3, 5, 8, 13]\n"
     ]
    }
   ],
   "source": [
    "a = [1, 1, 2, 3, 5, 8, 13, 21, 34, 55, 89]\n",
    "b = [1, 2, 3, 4, 5, 6, 7, 8, 9, 10, 11, 12, 13]\n",
    "c= []\n",
    "for num in a:\n",
    "    if num in b:\n",
    "        if num not in c:\n",
    "             c.append(num)  \n",
    "print(c)                            \n",
    "# so the 1st step is to write a new variable where youre going to append the number\n",
    "#and then use for loop\n",
    "#inside your for is if"
   ]
  },
  {
   "cell_type": "code",
   "execution_count": null,
   "id": "decimal-subject",
   "metadata": {},
   "outputs": [],
   "source": [
    " #for each variable (num) in a, a list, execute the expressions. \n",
    "#if theres a \"num\" in b and if thers no \"num\" in c, append all \"num\""
   ]
  },
  {
   "cell_type": "code",
   "execution_count": 7,
   "id": "faced-brake",
   "metadata": {},
   "outputs": [
    {
     "name": "stdin",
     "output_type": "stream",
     "text": [
      "Please enter a word mayam\n"
     ]
    },
    {
     "name": "stdout",
     "output_type": "stream",
     "text": [
      "Your word is:mayam\n",
      "This word is a palindrome\n"
     ]
    }
   ],
   "source": [
    "#exercise 6\n",
    "wrd=input(\"Please enter a word\")\n",
    "wrd=str(wrd)\n",
    "rvs=wrd[::-1]             #[::-1] is reverse of strings\n",
    "print('Your word is:' + rvs)\n",
    "if wrd == rvs:\n",
    "    print(\"This word is a palindrome\")\n",
    "else:\n",
    "    print(\"This word is not a palindrome\")"
   ]
  },
  {
   "cell_type": "code",
   "execution_count": 8,
   "id": "persistent-endorsement",
   "metadata": {},
   "outputs": [
    {
     "name": "stdout",
     "output_type": "stream",
     "text": [
      "[4, 16, 36, 64, 100]\n"
     ]
    }
   ],
   "source": [
    "#exercise 7\n",
    "a = [1, 4, 9, 16, 25, 36, 49, 64, 81, 100]\n",
    "b = []\n",
    "for num in a:\n",
    "    if num % 2 == 0:\n",
    "        b.append(num)\n",
    "print(b)                          "
   ]
  },
  {
   "cell_type": "code",
   "execution_count": null,
   "id": "sunrise-lodging",
   "metadata": {},
   "outputs": [],
   "source": []
  },
  {
   "cell_type": "code",
   "execution_count": null,
   "id": "cognitive-christopher",
   "metadata": {},
   "outputs": [],
   "source": []
  },
  {
   "cell_type": "code",
   "execution_count": null,
   "id": "quiet-thumb",
   "metadata": {},
   "outputs": [],
   "source": []
  }
 ],
 "metadata": {
  "kernelspec": {
   "display_name": "Python 3",
   "language": "python",
   "name": "python3"
  },
  "language_info": {
   "codemirror_mode": {
    "name": "ipython",
    "version": 3
   },
   "file_extension": ".py",
   "mimetype": "text/x-python",
   "name": "python",
   "nbconvert_exporter": "python",
   "pygments_lexer": "ipython3",
   "version": "3.8.5"
  }
 },
 "nbformat": 4,
 "nbformat_minor": 5
}
