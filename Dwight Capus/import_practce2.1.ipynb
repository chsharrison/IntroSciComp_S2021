# -*- coding: utf-8 -*-
"""
Created on Fri Jan 22 13:45:26 2021

@author: zedri
"""
import math

r=2
print(math.pi*r)

x=[1,2,3,4,5,6, "egg," "sandwich"]
print(x)
print(x.index(3))

addition = x + ["biden", "45"]
print(addition)

from math import pi

radius=4
height= 4
# pir^2*h formula for a volume cylinder
#solve for the volume

print(pi*radius**2*height,"cm")
