{
 "cells": [
  {
   "cell_type": "markdown",
   "id": "specialized-latitude",
   "metadata": {},
   "source": [
    "Name"
   ]
  },
  {
   "cell_type": "markdown",
   "id": "hired-devon",
   "metadata": {},
   "source": [
    "Labpartner(s)"
   ]
  },
  {
   "cell_type": "code",
   "execution_count": 6,
   "id": "oriental-motorcycle",
   "metadata": {},
   "outputs": [],
   "source": [
    "#import statements go here\n",
    "import numpy as np\n"
   ]
  },
  {
   "cell_type": "markdown",
   "id": "stone-guinea",
   "metadata": {},
   "source": [
    "# Class 9.2"
   ]
  },
  {
   "cell_type": "markdown",
   "id": "gothic-weekly",
   "metadata": {},
   "source": [
    "# Warmups 9.2"
   ]
  },
  {
   "cell_type": "markdown",
   "id": "employed-decrease",
   "metadata": {},
   "source": [
    "It was so much fun working together on Monday we will do it again. Spend 15 min working on the following and then we will go over it together:"
   ]
  },
  {
   "cell_type": "markdown",
   "id": "active-causing",
   "metadata": {},
   "source": [
    "**W.1** Write a function that returns the first n consectutive odd intergers (ex: 1,3,5,7,9 for n = 5) using only logical control (i.e. don't use indexing short cuts to make the odd integers, only for or while loops)"
   ]
  },
  {
   "cell_type": "code",
   "execution_count": null,
   "id": "quality-posting",
   "metadata": {},
   "outputs": [],
   "source": [
    "def oddnum():\n",
    "    num = int(input(\"Enter a numer:\"))\n",
    "    \n",
    "    a=0\n",
    "    b=1\n",
    "    if (num <= 0):\n",
    "        return \"Error: you must input a positive non-zero number\"\n",
    "    "
   ]
  },
  {
   "cell_type": "code",
   "execution_count": 10,
   "id": "informational-correction",
   "metadata": {},
   "outputs": [
    {
     "name": "stdin",
     "output_type": "stream",
     "text": [
      " Please Enter any Number:  3\n"
     ]
    },
    {
     "name": "stdout",
     "output_type": "stream",
     "text": [
      "1\n",
      "3\n"
     ]
    }
   ],
   "source": [
    "\n",
    "num = int(input(\" Please Enter any Number: \"))\n",
    "for number in range(1, num + 1):\n",
    "   \n",
    "    if(number % 2 != 0):\n",
    "        print(\"{0}\".format(number))"
   ]
  },
  {
   "cell_type": "code",
   "execution_count": 7,
   "id": "together-equity",
   "metadata": {},
   "outputs": [
    {
     "data": {
      "text/plain": [
       "array([1, 3, 5, 7, 9])"
      ]
     },
     "execution_count": 7,
     "metadata": {},
     "output_type": "execute_result"
    }
   ],
   "source": [
    "a=np.arange(1,10,2)\n",
    "a"
   ]
  },
  {
   "cell_type": "code",
   "execution_count": null,
   "id": "proof-chosen",
   "metadata": {},
   "outputs": [],
   "source": [
    "#Make consecutive odd number\n",
    "# input n which will be use for counter   counter= how many executions\n",
    "                                                           #Some kind of loop\n",
    "\n",
    "def oddnumb(counter):\n",
    "    start = 1\n",
    "    n= 5 \n",
    "    my_list =[start] \n",
    "    while n>1:\n",
    "        n= n-1\n",
    "        next_num= start + 2\n",
    "        my_list = my_list + [next_num]                #add the resulting number to my_list\n",
    "        print(my_list)\n",
    "\n",
    "        new_number = next_num"
   ]
  },
  {
   "cell_type": "code",
   "execution_count": null,
   "id": "medical-authority",
   "metadata": {},
   "outputs": [],
   "source": [
    "def oddnum(n)K:\n",
    "    x=1\n",
    "    y=[]\n",
    "    t =1\n",
    "    while t<=n:\n",
    "        y.append[n]\n",
    "        x= x + 1\n",
    "    return y"
   ]
  },
  {
   "cell_type": "code",
   "execution_count": null,
   "id": "enclosed-tract",
   "metadata": {},
   "outputs": [],
   "source": [
    "oddnum(3)"
   ]
  },
  {
   "cell_type": "markdown",
   "id": "outstanding-rings",
   "metadata": {},
   "source": [
    "**Extra:** Modify your function so that it can start anywhere. That is, add a second input that gives a starting integer. Ex: 7,9,11 for n = 3 and a starting value of 7"
   ]
  },
  {
   "cell_type": "code",
   "execution_count": 15,
   "id": "consistent-terry",
   "metadata": {},
   "outputs": [
    {
     "data": {
      "text/plain": [
       "[2, [2]]"
      ]
     },
     "execution_count": 15,
     "metadata": {},
     "output_type": "execute_result"
    }
   ],
   "source": [
    "a=[2]\n",
    "b=[2]\n",
    "a.append(b)\n",
    "a"
   ]
  },
  {
   "cell_type": "markdown",
   "id": "excited-standing",
   "metadata": {},
   "source": [
    "# Lecture 9.2\n",
    "\n",
    "### Agenda:\n",
    "- Research project assignment and what is due this week\n",
    "- Links to previous class githubs are in our github in the resources document in the Course Materials folder: https://github.com/chsharrison/IntroSciComp_S2021/blob/main/Class_materials/resources.md"
   ]
  },
  {
   "cell_type": "markdown",
   "id": "confirmed-ridge",
   "metadata": {},
   "source": [
    "#### Reminders\n",
    "- Many of you need to make up \"show us your functions\" we will do this in office hours or by appointment. I want to make sure everyone gets this function syntax down. See column in BB for above. Many of you need to redo this.\n",
    "- To get tokens for turning in labs or finishing datacamp chapters early, you need to send me and Adrian a message on slack (see instructions I gave you, on blackboard and in previous labs). We won't notice unless you tell us to look."
   ]
  },
  {
   "cell_type": "code",
   "execution_count": null,
   "id": "important-atlas",
   "metadata": {},
   "outputs": [],
   "source": []
  },
  {
   "cell_type": "markdown",
   "id": "modular-factor",
   "metadata": {},
   "source": [
    "### Questions"
   ]
  },
  {
   "cell_type": "code",
   "execution_count": null,
   "id": "hollow-rolling",
   "metadata": {},
   "outputs": [],
   "source": []
  },
  {
   "cell_type": "code",
   "execution_count": null,
   "id": "municipal-breeding",
   "metadata": {},
   "outputs": [],
   "source": []
  },
  {
   "cell_type": "markdown",
   "id": "controlling-boxing",
   "metadata": {},
   "source": [
    "# Lab 9.2"
   ]
  },
  {
   "cell_type": "raw",
   "id": "hungry-collins",
   "metadata": {},
   "source": [
    "HISTORGRAM allows us to see that there are a lot of dogs around 50 to 60 centimeters tall."
   ]
  },
  {
   "cell_type": "raw",
   "id": "minor-persian",
   "metadata": {},
   "source": [
    "Bar plots can reveal relationships between a categorical variable like breed and weight"
   ]
  },
  {
   "cell_type": "raw",
   "id": "composed-astronomy",
   "metadata": {},
   "source": [
    "Line plots are great for visualizing changes in numeric variables over time. Ex. Weight gained over time"
   ]
  },
  {
   "cell_type": "raw",
   "id": "decent-toner",
   "metadata": {},
   "source": [
    "Scatter plots are great for visualizing relationships between two numeric variables."
   ]
  },
  {
   "cell_type": "raw",
   "id": "lucky-crossing",
   "metadata": {},
   "source": [
    "When we call isna on a DataFrame, we get a Boolean for every single value indicating whether the value is missing or not, but this isn't very helpful when you're working with a lot of data."
   ]
  },
  {
   "cell_type": "raw",
   "id": "noted-syria",
   "metadata": {},
   "source": [
    "One option is to remove the rows in the DataFrame that contain missing values. This can be done using the .dropna() method"
   ]
  },
  {
   "cell_type": "raw",
   "id": "amateur-tokyo",
   "metadata": {},
   "source": [
    "dog.fillna(0)= #fill blanks with zero\n"
   ]
  },
  {
   "cell_type": "raw",
   "id": "industrial-springer",
   "metadata": {},
   "source": [
    "DATAFRAME"
   ]
  },
  {
   "cell_type": "raw",
   "id": "vanilla-feature",
   "metadata": {},
   "source": [
    "List of dictionary method!\n",
    "Dictionary holds key:value pairs\n",
    "    example\n",
    "    my_dict = [{\n",
    "        \"key1\": value1, Key2: value2},\n",
    "        {\"key1\": value2...}\n",
    "    ]"
   ]
  },
  {
   "cell_type": "raw",
   "id": "fallen-given",
   "metadata": {},
   "source": [
    "Dictionary method of list"
   ]
  },
  {
   "cell_type": "raw",
   "id": "ready-dragon",
   "metadata": {},
   "source": [
    "REMEMBER each key will be a COLUMN name"
   ]
  },
  {
   "cell_type": "markdown",
   "id": "satellite-designation",
   "metadata": {},
   "source": [
    "**E.1** Complete Data Manipulation with pandas Ch 4 in datacamp.\n"
   ]
  },
  {
   "cell_type": "code",
   "execution_count": null,
   "id": "silver-coffee",
   "metadata": {},
   "outputs": [],
   "source": []
  },
  {
   "cell_type": "markdown",
   "id": "recognized-ethics",
   "metadata": {},
   "source": [
    "**E.2** Make notes for yourself on progamming tecniques and commands you learned in the datacamp chapter above, including examples, comments and explainitory text. You can do this here or in a separate notebook that you link to here. Basically, you are making a cheat sheet for yourself."
   ]
  },
  {
   "cell_type": "code",
   "execution_count": null,
   "id": "known-values",
   "metadata": {},
   "outputs": [],
   "source": []
  },
  {
   "cell_type": "markdown",
   "id": "happy-equivalent",
   "metadata": {},
   "source": [
    "### This week's project:\n",
    "\n",
    "This week you will be doing two things, planning on what grade you will get in this course (due Thursday with lab 9.1) and submitting your research topic (due Sunday with lab 9.2). "
   ]
  },
  {
   "cell_type": "markdown",
   "id": "trying-width",
   "metadata": {},
   "source": [
    "**E.4** Write a few sentances about what you plan to do for your research project. See tab in BB to turn this in"
   ]
  },
  {
   "cell_type": "code",
   "execution_count": null,
   "id": "crazy-decision",
   "metadata": {},
   "outputs": [],
   "source": []
  }
 ],
 "metadata": {
  "kernelspec": {
   "display_name": "Python 3",
   "language": "python",
   "name": "python3"
  },
  "language_info": {
   "codemirror_mode": {
    "name": "ipython",
    "version": 3
   },
   "file_extension": ".py",
   "mimetype": "text/x-python",
   "name": "python",
   "nbconvert_exporter": "python",
   "pygments_lexer": "ipython3",
   "version": "3.8.5"
  }
 },
 "nbformat": 4,
 "nbformat_minor": 5
}
