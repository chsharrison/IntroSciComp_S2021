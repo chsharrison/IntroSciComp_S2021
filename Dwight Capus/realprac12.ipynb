{
 "cells": [
  {
   "cell_type": "code",
   "execution_count": 1,
   "id": "described-disposal",
   "metadata": {},
   "outputs": [],
   "source": [
    "def next(num):\n",
    "    nxt = num + 1\n",
    "    print(\"I'm \" + str(num)+ \" year's old and will be \", nxt, \"next year\")"
   ]
  },
  {
   "cell_type": "code",
   "execution_count": 2,
   "id": "opening-advocacy",
   "metadata": {},
   "outputs": [
    {
     "name": "stdout",
     "output_type": "stream",
     "text": [
      "I'm 2 year's old and will be  3 next year\n"
     ]
    }
   ],
   "source": [
    "next(2)"
   ]
  },
  {
   "cell_type": "code",
   "execution_count": 5,
   "id": "tribal-nutrition",
   "metadata": {},
   "outputs": [],
   "source": [
    "#multiple of 2\n",
    "def mul2(num):\n",
    "    nxt = num * 2\n",
    "    print(nxt)"
   ]
  },
  {
   "cell_type": "code",
   "execution_count": 6,
   "id": "useful-consolidation",
   "metadata": {},
   "outputs": [
    {
     "name": "stdout",
     "output_type": "stream",
     "text": [
      "12\n"
     ]
    }
   ],
   "source": [
    "mul2(6)"
   ]
  },
  {
   "cell_type": "code",
   "execution_count": 7,
   "id": "automatic-engineering",
   "metadata": {},
   "outputs": [
    {
     "name": "stdout",
     "output_type": "stream",
     "text": [
      "1580\n"
     ]
    }
   ],
   "source": [
    "mul2(790)"
   ]
  },
  {
   "cell_type": "code",
   "execution_count": 11,
   "id": "demographic-flash",
   "metadata": {},
   "outputs": [
    {
     "name": "stdin",
     "output_type": "stream",
     "text": [
      "Enter a number for check odd or even:  5\n"
     ]
    },
    {
     "data": {
      "text/plain": [
       "[1, 3, 5, 7, 9]"
      ]
     },
     "execution_count": 11,
     "metadata": {},
     "output_type": "execute_result"
    }
   ],
   "source": [
    "\n",
    "def oddnumb(counter):\n",
    "    counter=int(input(\"Enter a number for check odd or even: \"))\n",
    "    start = 1\n",
    "    n= counter \n",
    "    my_list =[start] \n",
    "    next_num = start\n",
    "    while n>1:\n",
    "        n= n-1 \n",
    "        #print('n= ' + str(n))\n",
    "        \n",
    "        next_num = next_num + 2\n",
    "       # print(next_num)\n",
    "        \n",
    "        my_list = my_list + [next_num]                #add the resulting number to my_list\n",
    "        #print(my_list)\n",
    "        \n",
    "        #next_num = new_num\n",
    "    return my_list\n",
    "oddnumb(counter) #AHHHHHHHHHHH TOOK ME A VERY LONG TIME\n",
    "        "
   ]
  },
  {
   "cell_type": "code",
   "execution_count": 9,
   "id": "adopted-baghdad",
   "metadata": {},
   "outputs": [
    {
     "data": {
      "text/plain": [
       "[1, 3, 5]"
      ]
     },
     "execution_count": 9,
     "metadata": {},
     "output_type": "execute_result"
    }
   ],
   "source": [
    "oddnumb(3)"
   ]
  },
  {
   "cell_type": "code",
   "execution_count": null,
   "id": "norman-earth",
   "metadata": {},
   "outputs": [],
   "source": []
  }
 ],
 "metadata": {
  "kernelspec": {
   "display_name": "Python 3",
   "language": "python",
   "name": "python3"
  },
  "language_info": {
   "codemirror_mode": {
    "name": "ipython",
    "version": 3
   },
   "file_extension": ".py",
   "mimetype": "text/x-python",
   "name": "python",
   "nbconvert_exporter": "python",
   "pygments_lexer": "ipython3",
   "version": "3.8.8"
  }
 },
 "nbformat": 4,
 "nbformat_minor": 5
}
