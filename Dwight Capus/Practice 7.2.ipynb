{
 "cells": [
  {
   "cell_type": "code",
   "execution_count": 2,
   "id": "certain-methodology",
   "metadata": {},
   "outputs": [],
   "source": [
    "def lastname(family_name):\n",
    "    print(family_name, \"Capus\")"
   ]
  },
  {
   "cell_type": "code",
   "execution_count": 3,
   "id": "quality-roberts",
   "metadata": {},
   "outputs": [
    {
     "name": "stdout",
     "output_type": "stream",
     "text": [
      "Dwight Capus\n"
     ]
    }
   ],
   "source": [
    "lastname(\"Dwight\")"
   ]
  },
  {
   "cell_type": "code",
   "execution_count": 4,
   "id": "generic-undergraduate",
   "metadata": {},
   "outputs": [
    {
     "name": "stdout",
     "output_type": "stream",
     "text": [
      "Denise Capus\n"
     ]
    }
   ],
   "source": [
    "lastname(\"Denise\")"
   ]
  },
  {
   "cell_type": "code",
   "execution_count": null,
   "id": "confident-blink",
   "metadata": {},
   "outputs": [],
   "source": []
  }
 ],
 "metadata": {
  "kernelspec": {
   "display_name": "Python 3",
   "language": "python",
   "name": "python3"
  },
  "language_info": {
   "codemirror_mode": {
    "name": "ipython",
    "version": 3
   },
   "file_extension": ".py",
   "mimetype": "text/x-python",
   "name": "python",
   "nbconvert_exporter": "python",
   "pygments_lexer": "ipython3",
   "version": "3.8.8"
  }
 },
 "nbformat": 4,
 "nbformat_minor": 5
}
