{
 "cells": [
  {
   "cell_type": "markdown",
   "metadata": {},
   "source": [
    "Name"
   ]
  },
  {
   "cell_type": "code",
   "execution_count": null,
   "metadata": {},
   "outputs": [],
   "source": [
    "# Reyna Tovar"
   ]
  },
  {
   "cell_type": "markdown",
   "metadata": {},
   "source": [
    "Labpartner(s)"
   ]
  },
  {
   "cell_type": "code",
   "execution_count": null,
   "metadata": {},
   "outputs": [],
   "source": [
    "# Edoardo Davila"
   ]
  },
  {
   "cell_type": "code",
   "execution_count": 3,
   "metadata": {},
   "outputs": [],
   "source": [
    "# import statements go here\n",
    "\n",
    "import numpy as np\n",
    "import matplotlib.pyplot as plt\n",
    "import pandas as pd"
   ]
  },
  {
   "cell_type": "markdown",
   "metadata": {},
   "source": [
    "# Class 5.1"
   ]
  },
  {
   "cell_type": "markdown",
   "metadata": {},
   "source": [
    "## Monday labs are due Thursday at midnight\n",
    "\n",
    "Today you all are going to do the lecture! It's Present Your Plots Day."
   ]
  },
  {
   "cell_type": "markdown",
   "metadata": {},
   "source": [
    "# Warmups 5.1"
   ]
  },
  {
   "cell_type": "markdown",
   "metadata": {},
   "source": [
    "### Warmup is short today (20 min) so we have time to focus on your plots."
   ]
  },
  {
   "cell_type": "markdown",
   "metadata": {},
   "source": [
    "**W.1** Do Exercise 3 in practice python https://www.practicepython.org"
   ]
  },
  {
   "cell_type": "code",
   "execution_count": null,
   "metadata": {},
   "outputs": [],
   "source": [
    "# Instead of printing the elements one by one, make a new list that has all the elements less than 5 from this list in it and print out this new list.\n",
    "# Write this in one line of Python.\n",
    "# Ask the user for a number and return a list that contains only elements from the original list a that are smaller than that number given by the user."
   ]
  },
  {
   "cell_type": "code",
   "execution_count": 4,
   "metadata": {},
   "outputs": [],
   "source": [
    "a = [1, 1, 2, 3, 5, 8, 13, 21, 34, 55, 89]"
   ]
  },
  {
   "cell_type": "code",
   "execution_count": 5,
   "metadata": {},
   "outputs": [
    {
     "name": "stdout",
     "output_type": "stream",
     "text": [
      "[1, 1, 2, 3]\n"
     ]
    }
   ],
   "source": [
    "print([num for num in a if num < 5])"
   ]
  },
  {
   "cell_type": "code",
   "execution_count": null,
   "metadata": {},
   "outputs": [],
   "source": [
    "print([num for num in a if num < 50])"
   ]
  },
  {
   "cell_type": "markdown",
   "metadata": {},
   "source": [
    "# Lecture 5.1"
   ]
  },
  {
   "cell_type": "markdown",
   "metadata": {},
   "source": [
    "## Agenda:\n",
    "\n",
    "- Questions about class or coding\n",
    "- Review of assignment tokens system\n",
    "- Show us your plots! Explain your data set, what you did with it, and what your learned, including any difficulties you had and how you solved them."
   ]
  },
  {
   "cell_type": "markdown",
   "metadata": {},
   "source": [
    "## Assignment Tokens review\n",
    "\n",
    "### From syllabus:\n",
    "\n",
    "Each student will begin the semester with ten assignment tokens, which they can use to miss a lab meeting, an assessment exercise, resubmit an unsatisfactory assignment or turn an assignment in late.\n",
    "\n",
    "### From: 4.1.1 How to earn more assingment tokens\n",
    "\n",
    "Studies show students at all levels like gamification. So let’s try this. We are going to institute an assignment token earning system starting next wek. There will be awards for having lots of tokens…and a winner...and prizes. \n",
    "\n",
    "Earn assignment tokens for: \n",
    "- Doing the data camp chapter before class (1 token)\n",
    "- Turning in Monday’s lab by Tuesday at midnight (1 token)\n",
    "- Creating a cool demo or exercise for your classmates (1+ tokens, depending on awesomeness)\n",
    "- Creating warmup exercises (1+ tokens, depending on how many, quality, etc.)\n",
    "\n",
    "To earn your tokens, send me and Adrian your proof, code, etc. over slack. That is, in a group message to both Adrian and I.\n",
    "\n",
    "As always, let me know in your weekly assessments if you have ideas on how to improve this game.\n",
    "\n"
   ]
  },
  {
   "cell_type": "code",
   "execution_count": null,
   "metadata": {},
   "outputs": [],
   "source": []
  },
  {
   "cell_type": "markdown",
   "metadata": {},
   "source": [
    "# Lab 5.1"
   ]
  },
  {
   "cell_type": "markdown",
   "metadata": {},
   "source": [
    "**E.1** Complete intermediate python chapter 4: Loops\n",
    "\n",
    "Note that loops often are very confusing for new programmers, but they are very powerful and super-useful. You will be seing them again.\n",
    "\n",
    "Note that the tutorials here have similar material for your needs:\n",
    "https://github.com/chsharrison/IntroSciComp_S2021/blob/main/Class_materials/resources.md"
   ]
  },
  {
   "cell_type": "markdown",
   "metadata": {},
   "source": [
    "**E.2** Make notes for yourself on all of the progamming tecniques and commands you learned in the datacamp chapter above, including examples, comments and explainitory text. You might use the resources linked above for supplementary examples. You can do this here or in a separate notebook that you link to here. Basically, you are making a cheat sheet for yourself."
   ]
  },
  {
   "cell_type": "code",
   "execution_count": null,
   "metadata": {},
   "outputs": [],
   "source": [
    "# dictionary: for key, val in my_dict.items()\n",
    "# numpy array: for val in np.nditer(my_array)"
   ]
  },
  {
   "cell_type": "code",
   "execution_count": null,
   "metadata": {},
   "outputs": [],
   "source": [
    "#Exercise 4: Create a program that asks the user for a number and then prints out a list of all the divisors of that number. \n",
    "#(If you don’t know what a divisor is, it is a number that divides evenly into another number.\n",
    "# For example, 13 is a divisor of 26 because 26 / 13 has no remainder.)"
   ]
  },
  {
   "cell_type": "markdown",
   "metadata": {},
   "source": [
    "**E.3-6** Exercises 4-7 in practice python (see link above)"
   ]
  },
  {
   "cell_type": "code",
   "execution_count": 8,
   "metadata": {},
   "outputs": [
    {
     "name": "stdin",
     "output_type": "stream",
     "text": [
      "Please choose number to divide 30\n"
     ]
    },
    {
     "name": "stdout",
     "output_type": "stream",
     "text": [
      "[1, 2, 3, 5, 6, 10, 15]\n"
     ]
    }
   ],
   "source": [
    "divisor = int(input(\"Please choose number to divide\"))\n",
    "number_divisors = []\n",
    "\n",
    "for i in range(1, divisor):\n",
    "    if divisor % i ==0:\n",
    "        number_divisors.append(i)\n",
    "print(number_divisors)"
   ]
  },
  {
   "cell_type": "code",
   "execution_count": null,
   "metadata": {},
   "outputs": [],
   "source": [
    "# Exercise 5: Take two lists, say for example these two:\n",
    "#and write a program that returns a list that contains only the elements that are common between the lists \n",
    "# (without duplicates). Make sure your program works on two lists of different sizes."
   ]
  },
  {
   "cell_type": "code",
   "execution_count": 12,
   "metadata": {},
   "outputs": [],
   "source": [
    "a = [1, 1, 2, 3, 5, 8, 13, 21, 34, 55, 89]\n",
    "b = [1, 2, 3, 4, 5, 6, 7, 8, 9, 10, 11, 12, 13]\n",
    "c = []"
   ]
  },
  {
   "cell_type": "code",
   "execution_count": 13,
   "metadata": {},
   "outputs": [
    {
     "name": "stdout",
     "output_type": "stream",
     "text": [
      "[1, 2, 3, 5, 8, 13]\n"
     ]
    }
   ],
   "source": [
    "for num in a:\n",
    "    if num in b:\n",
    "        if num not in c:\n",
    "             c.append(num)  \n",
    "print(c)                     "
   ]
  },
  {
   "cell_type": "code",
   "execution_count": null,
   "metadata": {},
   "outputs": [],
   "source": [
    "# Exercise 6: Ask the user for a string and print out whether this string is a palindrome or not. \n",
    "#(A palindrome is a string that reads the same forwards and backwards.)"
   ]
  },
  {
   "cell_type": "code",
   "execution_count": 14,
   "metadata": {},
   "outputs": [
    {
     "name": "stdin",
     "output_type": "stream",
     "text": [
      "Please enter a word bamboozle\n"
     ]
    },
    {
     "name": "stdout",
     "output_type": "stream",
     "text": [
      "elzoobmab\n",
      "This word is not a palindrome\n"
     ]
    }
   ],
   "source": [
    "word=input(\"Please enter a word\")\n",
    "word=str(word)\n",
    "reverse=word[::-1]\n",
    "print(reverse)\n",
    "if word == reverse:\n",
    "    print(\"This word is a palindrome\")\n",
    "else:\n",
    "    print(\"This word is not a palindrome\")"
   ]
  },
  {
   "cell_type": "code",
   "execution_count": null,
   "metadata": {},
   "outputs": [],
   "source": [
    "# Exercise 7: Let’s say I give you a list saved in a variable: a = [1, 4, 9, 16, 25, 36, 49, 64, 81, 100]. \n",
    "# Write one line of Python that takes this list a and makes a new list that has only the even elements of this list in it."
   ]
  },
  {
   "cell_type": "code",
   "execution_count": 16,
   "metadata": {},
   "outputs": [],
   "source": [
    "a = [1, 4, 9, 16, 25, 36, 49, 64, 81, 100]\n",
    "q = []"
   ]
  },
  {
   "cell_type": "code",
   "execution_count": 17,
   "metadata": {},
   "outputs": [
    {
     "name": "stdout",
     "output_type": "stream",
     "text": [
      "[4, 16, 36, 64, 100]\n"
     ]
    }
   ],
   "source": [
    "for num in a:\n",
    "    if num % 2 == 0:\n",
    "        q.append(num)\n",
    "print(q)"
   ]
  },
  {
   "cell_type": "code",
   "execution_count": null,
   "metadata": {},
   "outputs": [],
   "source": []
  }
 ],
 "metadata": {
  "kernelspec": {
   "display_name": "Python 3",
   "language": "python",
   "name": "python3"
  },
  "language_info": {
   "codemirror_mode": {
    "name": "ipython",
    "version": 3
   },
   "file_extension": ".py",
   "mimetype": "text/x-python",
   "name": "python",
   "nbconvert_exporter": "python",
   "pygments_lexer": "ipython3",
   "version": "3.8.5"
  }
 },
 "nbformat": 4,
 "nbformat_minor": 5
}
