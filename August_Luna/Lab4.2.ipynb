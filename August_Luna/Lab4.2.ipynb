{
 "cells": [
  {
   "cell_type": "markdown",
   "metadata": {},
   "source": [
    "Name: August "
   ]
  },
  {
   "cell_type": "markdown",
   "metadata": {},
   "source": [
    "Labpartner(s): Lily  and Sandip"
   ]
  },
  {
   "cell_type": "code",
   "execution_count": 3,
   "metadata": {},
   "outputs": [],
   "source": [
    "#import statements go here\n",
    "import matplotlib.pyplot as plt\n",
    "import numpy as np\n",
    "import pandas as pd"
   ]
  },
  {
   "cell_type": "markdown",
   "metadata": {},
   "source": [
    "# Lab 4.2 \n",
    "\n",
    "Wednesday labs are due Sunday at midnight"
   ]
  },
  {
   "cell_type": "markdown",
   "metadata": {},
   "source": [
    "## Instructions\n",
    "\n",
    "For each class, download the lab and have it up and running in Jupyter when we begin the class period. This will allow you to code along with the demonstrations and be ready to go. You will be assigned a lab partner in your breakout room, they are your partner for this lab. Put their name above.\n",
    "\n",
    "When you are done with your lab, upload this document to your github folder on the class site. Then submit a url link to the completed lab, along with a screenshot of your **completed score** for the chapter assigned in datacamp to the assignment tab in Blackboard."
   ]
  },
  {
   "cell_type": "markdown",
   "metadata": {},
   "source": [
    "# Warmups 4.2"
   ]
  },
  {
   "cell_type": "markdown",
   "metadata": {},
   "source": [
    "W.1-3 Do exercises 1-3 in http://scipy-lectures.org/intro/numpy/exercises.html#data-statistics. See lab 4.1  on how to load in the data file"
   ]
  },
  {
   "cell_type": "markdown",
   "metadata": {},
   "source": [
    "#W1"
   ]
  },
  {
   "cell_type": "code",
   "execution_count": 4,
   "metadata": {},
   "outputs": [],
   "source": [
    "my_array= np.arange(1,16).reshape(3,5).T #.T transposes the array"
   ]
  },
  {
   "cell_type": "code",
   "execution_count": 5,
   "metadata": {},
   "outputs": [
    {
     "data": {
      "text/plain": [
       "array([[ 1,  6, 11],\n",
       "       [ 2,  7, 12],\n",
       "       [ 3,  8, 13],\n",
       "       [ 4,  9, 14],\n",
       "       [ 5, 10, 15]])"
      ]
     },
     "execution_count": 5,
     "metadata": {},
     "output_type": "execute_result"
    }
   ],
   "source": [
    "my_array"
   ]
  },
  {
   "cell_type": "markdown",
   "metadata": {},
   "source": [
    "#ACTUAL WARMUP \n"
   ]
  },
  {
   "cell_type": "code",
   "execution_count": 6,
   "metadata": {},
   "outputs": [
    {
     "data": {
      "text/plain": [
       "<matplotlib.legend.Legend at 0x1ebbaced3a0>"
      ]
     },
     "execution_count": 6,
     "metadata": {},
     "output_type": "execute_result"
    },
    {
     "data": {
      "image/png": "[encoded data removed]",
      "text/plain": [
       "<Figure size 432x288 with 1 Axes>"
      ]
     },
     "metadata": {
      "needs_background": "light"
     },
     "output_type": "display_data"
    }
   ],
   "source": [
    "data = np.loadtxt('populations.txt')\n",
    "\n",
    "year, hares, lynxes, carrots = data.T  # trick: columns to variables\n",
    "\n",
    "import matplotlib.pyplot as plt\n",
    "\n",
    "plt.axes([0.2, 0.1, 0.5, 0.8]) \n",
    "\n",
    "\n",
    "plt.plot(year, hares, year, lynxes, year, carrots) \n",
    "\n",
    "\n",
    "plt.legend(('Hare', 'Lynx', 'Carrot'), loc=(1.05, 0.5)) \n"
   ]
  },
  {
   "cell_type": "code",
   "execution_count": 7,
   "metadata": {},
   "outputs": [],
   "source": [
    "mean_hares= np.mean(hares)\n",
    "mean_carrots= np.mean(carrots)\n",
    "mean_lynx= np.mean(lynxes)"
   ]
  },
  {
   "cell_type": "code",
   "execution_count": 8,
   "metadata": {},
   "outputs": [],
   "source": [
    "big_hares= np.max(hares)\n",
    "big_carrots= np.max(carrots)\n",
    "big_lynx= np.max(lynxes)"
   ]
  },
  {
   "cell_type": "code",
   "execution_count": 9,
   "metadata": {},
   "outputs": [
    {
     "data": {
      "text/plain": [
       "77400.0"
      ]
     },
     "execution_count": 9,
     "metadata": {},
     "output_type": "execute_result"
    }
   ],
   "source": [
    "big_hares"
   ]
  },
  {
   "cell_type": "code",
   "execution_count": 10,
   "metadata": {},
   "outputs": [
    {
     "data": {
      "text/plain": [
       "(array([3], dtype=int64), array([1], dtype=int64))"
      ]
     },
     "execution_count": 10,
     "metadata": {},
     "output_type": "execute_result"
    }
   ],
   "source": [
    "np.where(data == big_hares) # read result as down and then to the right"
   ]
  },
  {
   "cell_type": "code",
   "execution_count": 11,
   "metadata": {},
   "outputs": [
    {
     "data": {
      "text/plain": [
       "(array([0], dtype=int64), array([3], dtype=int64))"
      ]
     },
     "execution_count": 11,
     "metadata": {},
     "output_type": "execute_result"
    }
   ],
   "source": [
    "np.where(data == big_carrots)"
   ]
  },
  {
   "cell_type": "code",
   "execution_count": 12,
   "metadata": {},
   "outputs": [
    {
     "data": {
      "text/plain": [
       "48300.0"
      ]
     },
     "execution_count": 12,
     "metadata": {},
     "output_type": "execute_result"
    }
   ],
   "source": [
    "big_carrots"
   ]
  },
  {
   "cell_type": "code",
   "execution_count": 13,
   "metadata": {},
   "outputs": [
    {
     "data": {
      "text/plain": [
       "(array([4], dtype=int64), array([2], dtype=int64))"
      ]
     },
     "execution_count": 13,
     "metadata": {},
     "output_type": "execute_result"
    }
   ],
   "source": [
    "np.where(data == big_lynx)"
   ]
  },
  {
   "cell_type": "code",
   "execution_count": 14,
   "metadata": {},
   "outputs": [
    {
     "name": "stdout",
     "output_type": "stream",
     "text": [
      "1903.0\n",
      "1900.0\n",
      "1904.0\n"
     ]
    }
   ],
   "source": [
    "print(year[3]) #hares\n",
    "print(year[0])#carrots\n",
    "print(year[4])#lynxes"
   ]
  },
  {
   "cell_type": "code",
   "execution_count": 15,
   "metadata": {},
   "outputs": [
    {
     "data": {
      "text/plain": [
       "array([1920., 1903., 1904., 1900.])"
      ]
     },
     "execution_count": 15,
     "metadata": {},
     "output_type": "execute_result"
    }
   ],
   "source": [
    "#i found this line of code and it works, but i found it later, and so rip (keep in mind first column is years \n",
    "#so it doesnt really matter as far as data goes)\n",
    "\n",
    "year[np.argmax(data, axis=0)]"
   ]
  },
  {
   "cell_type": "code",
   "execution_count": 16,
   "metadata": {},
   "outputs": [],
   "source": [
    "#species with the largest amount of population for each year"
   ]
  },
  {
   "cell_type": "code",
   "execution_count": 19,
   "metadata": {},
   "outputs": [
    {
     "data": {
      "text/plain": [
       "array([ 0,  1,  2,  3,  4,  5,  6,  7,  8,  9, 10, 11, 12, 13, 14, 15, 16,\n",
       "       17, 18, 19, 20], dtype=int64)"
      ]
     },
     "execution_count": 19,
     "metadata": {},
     "output_type": "execute_result"
    }
   ],
   "source": [
    "np.argsort(year)"
   ]
  },
  {
   "cell_type": "code",
   "execution_count": 18,
   "metadata": {},
   "outputs": [
    {
     "data": {
      "text/plain": [
       "\u001b[1;31mSignature:\u001b[0m \u001b[0mnp\u001b[0m\u001b[1;33m.\u001b[0m\u001b[0margsort\u001b[0m\u001b[1;33m(\u001b[0m\u001b[0ma\u001b[0m\u001b[1;33m,\u001b[0m \u001b[0maxis\u001b[0m\u001b[1;33m=\u001b[0m\u001b[1;33m-\u001b[0m\u001b[1;36m1\u001b[0m\u001b[1;33m,\u001b[0m \u001b[0mkind\u001b[0m\u001b[1;33m=\u001b[0m\u001b[1;32mNone\u001b[0m\u001b[1;33m,\u001b[0m \u001b[0morder\u001b[0m\u001b[1;33m=\u001b[0m\u001b[1;32mNone\u001b[0m\u001b[1;33m)\u001b[0m\u001b[1;33m\u001b[0m\u001b[1;33m\u001b[0m\u001b[0m\n",
       "\u001b[1;31mDocstring:\u001b[0m\n",
       "Returns the indices that would sort an array.\n",
       "\n",
       "Perform an indirect sort along the given axis using the algorithm specified\n",
       "by the `kind` keyword. It returns an array of indices of the same shape as\n",
       "`a` that index data along the given axis in sorted order.\n",
       "\n",
       "Parameters\n",
       "----------\n",
       "a : array_like\n",
       "    Array to sort.\n",
       "axis : int or None, optional\n",
       "    Axis along which to sort.  The default is -1 (the last axis). If None,\n",
       "    the flattened array is used.\n",
       "kind : {'quicksort', 'mergesort', 'heapsort', 'stable'}, optional\n",
       "    Sorting algorithm. The default is 'quicksort'. Note that both 'stable'\n",
       "    and 'mergesort' use timsort under the covers and, in general, the\n",
       "    actual implementation will vary with data type. The 'mergesort' option\n",
       "    is retained for backwards compatibility.\n",
       "\n",
       "    .. versionchanged:: 1.15.0.\n",
       "       The 'stable' option was added.\n",
       "order : str or list of str, optional\n",
       "    When `a` is an array with fields defined, this argument specifies\n",
       "    which fields to compare first, second, etc.  A single field can\n",
       "    be specified as a string, and not all fields need be specified,\n",
       "    but unspecified fields will still be used, in the order in which\n",
       "    they come up in the dtype, to break ties.\n",
       "\n",
       "Returns\n",
       "-------\n",
       "index_array : ndarray, int\n",
       "    Array of indices that sort `a` along the specified `axis`.\n",
       "    If `a` is one-dimensional, ``a[index_array]`` yields a sorted `a`.\n",
       "    More generally, ``np.take_along_axis(a, index_array, axis=axis)``\n",
       "    always yields the sorted `a`, irrespective of dimensionality.\n",
       "\n",
       "See Also\n",
       "--------\n",
       "sort : Describes sorting algorithms used.\n",
       "lexsort : Indirect stable sort with multiple keys.\n",
       "ndarray.sort : Inplace sort.\n",
       "argpartition : Indirect partial sort.\n",
       "take_along_axis : Apply ``index_array`` from argsort\n",
       "                  to an array as if by calling sort.\n",
       "\n",
       "Notes\n",
       "-----\n",
       "See `sort` for notes on the different sorting algorithms.\n",
       "\n",
       "As of NumPy 1.4.0 `argsort` works with real/complex arrays containing\n",
       "nan values. The enhanced sort order is documented in `sort`.\n",
       "\n",
       "Examples\n",
       "--------\n",
       "One dimensional array:\n",
       "\n",
       ">>> x = np.array([3, 1, 2])\n",
       ">>> np.argsort(x)\n",
       "array([1, 2, 0])\n",
       "\n",
       "Two-dimensional array:\n",
       "\n",
       ">>> x = np.array([[0, 3], [2, 2]])\n",
       ">>> x\n",
       "array([[0, 3],\n",
       "       [2, 2]])\n",
       "\n",
       ">>> ind = np.argsort(x, axis=0)  # sorts along first axis (down)\n",
       ">>> ind\n",
       "array([[0, 1],\n",
       "       [1, 0]])\n",
       ">>> np.take_along_axis(x, ind, axis=0)  # same as np.sort(x, axis=0)\n",
       "array([[0, 2],\n",
       "       [2, 3]])\n",
       "\n",
       ">>> ind = np.argsort(x, axis=1)  # sorts along last axis (across)\n",
       ">>> ind\n",
       "array([[0, 1],\n",
       "       [0, 1]])\n",
       ">>> np.take_along_axis(x, ind, axis=1)  # same as np.sort(x, axis=1)\n",
       "array([[0, 3],\n",
       "       [2, 2]])\n",
       "\n",
       "Indices of the sorted elements of a N-dimensional array:\n",
       "\n",
       ">>> ind = np.unravel_index(np.argsort(x, axis=None), x.shape)\n",
       ">>> ind\n",
       "(array([0, 1, 1, 0]), array([0, 0, 1, 1]))\n",
       ">>> x[ind]  # same as np.sort(x, axis=None)\n",
       "array([0, 2, 2, 3])\n",
       "\n",
       "Sorting with keys:\n",
       "\n",
       ">>> x = np.array([(1, 0), (0, 1)], dtype=[('x', '<i4'), ('y', '<i4')])\n",
       ">>> x\n",
       "array([(1, 0), (0, 1)],\n",
       "      dtype=[('x', '<i4'), ('y', '<i4')])\n",
       "\n",
       ">>> np.argsort(x, order=('x','y'))\n",
       "array([1, 0])\n",
       "\n",
       ">>> np.argsort(x, order=('y','x'))\n",
       "array([0, 1])\n",
       "\u001b[1;31mFile:\u001b[0m      c:\\users\\augus\\anaconda3\\lib\\site-packages\\numpy\\core\\fromnumeric.py\n",
       "\u001b[1;31mType:\u001b[0m      function\n"
      ]
     },
     "metadata": {},
     "output_type": "display_data"
    }
   ],
   "source": [
    "np.argsort?"
   ]
  },
  {
   "cell_type": "code",
   "execution_count": 23,
   "metadata": {},
   "outputs": [
    {
     "name": "stdout",
     "output_type": "stream",
     "text": [
      "[1900. 1901. 1902. 1903. 1904. 1905. 1906. 1907. 1908. 1909. 1910. 1911.\n",
      " 1912. 1913. 1914. 1915. 1916. 1917. 1918. 1919. 1920.]\n",
      "['Carrot' 'Carrot' 'Hare' 'Hare' 'Lynx' 'Lynx' 'Carrot' 'Carrot' 'Carrot'\n",
      " 'Carrot' 'Carrot' 'Carrot' 'Hare' 'Hare' 'Hare' 'Lynx' 'Carrot' 'Carrot'\n",
      " 'Carrot' 'Carrot' 'Carrot']\n"
     ]
    }
   ],
   "source": [
    "populations = data[:,1:]\n",
    "\n",
    "max_species = np.argmax(populations, axis=1)\n",
    "species = np.array(['Hare', 'Lynx', 'Carrot'])\n",
    "print(year)\n",
    "print(species[max_species])\n"
   ]
  },
  {
   "cell_type": "markdown",
   "metadata": {},
   "source": [
    "# Lecture 4.2"
   ]
  },
  {
   "cell_type": "markdown",
   "metadata": {},
   "source": [
    "Agenda:\n",
    "- Coding questions\n",
    "- Tabs in python. \n",
    "\n",
    "Some relevant coding humor: https://www.youtube.com/watch?v=JfEIkkDkrmE\n",
    "- All about final projects\n",
    "\n",
    "See final project files on github under Course Materials folder"
   ]
  },
  {
   "cell_type": "code",
   "execution_count": null,
   "metadata": {},
   "outputs": [],
   "source": []
  },
  {
   "cell_type": "code",
   "execution_count": null,
   "metadata": {},
   "outputs": [],
   "source": []
  },
  {
   "cell_type": "markdown",
   "metadata": {},
   "source": []
  },
  {
   "cell_type": "code",
   "execution_count": null,
   "metadata": {},
   "outputs": [],
   "source": []
  },
  {
   "cell_type": "code",
   "execution_count": null,
   "metadata": {},
   "outputs": [],
   "source": []
  },
  {
   "cell_type": "markdown",
   "metadata": {},
   "source": [
    "# Lab 4.2"
   ]
  },
  {
   "cell_type": "markdown",
   "metadata": {},
   "source": [
    "**E.1** Complete intermediate python chapter 3: Logic, Control Flow and Filtering\n",
    "\n",
    "Note that the tutorials here have similar material for your needs:\n",
    "https://github.com/chsharrison/IntroSciComp_S2021/blob/main/Class_materials/resources.md"
   ]
  },
  {
   "cell_type": "code",
   "execution_count": null,
   "metadata": {},
   "outputs": [],
   "source": [
    "done"
   ]
  },
  {
   "cell_type": "markdown",
   "metadata": {},
   "source": [
    "**E.2** Make notes for yourself on all of the progamming tecniques and commands you learned in the datacamp chapter above, including examples, comments and explainitory text. You can do this here or in a separate notebook that you link to here. Basically, you are making a cheat sheet for yourself."
   ]
  },
  {
   "cell_type": "markdown",
   "metadata": {},
   "source": [
    "Things that exist that help\n",
    "\n",
    "<\n",
    ">\n",
    "<=\n",
    ">=\n",
    "==\n",
    "!=\n",
    "\n",
    "np.logical_and(condition 1, condition 2)\n",
    "np.logical_or(condition 1, condition 2)\n",
    "\n",
    "\n",
    "if statement:\n",
    "    result\n",
    "elif statement:\n",
    "    result\n",
    "else:\n",
    "    result"
   ]
  },
  {
   "cell_type": "markdown",
   "metadata": {},
   "source": [
    "**E.3** Exercise 1 on https://www.practicepython.org"
   ]
  },
  {
   "cell_type": "code",
   "execution_count": null,
   "metadata": {},
   "outputs": [],
   "source": [
    "#Create a program that asks the user to enter their name and their age. Print out a message addressed to them that tells them the year that they will turn 100 years old."
   ]
  },
  {
   "cell_type": "code",
   "execution_count": 32,
   "metadata": {},
   "outputs": [
    {
     "name": "stdin",
     "output_type": "stream",
     "text": [
      "What is your name? August \n",
      "How old are you? 21\n"
     ]
    },
    {
     "name": "stdout",
     "output_type": "stream",
     "text": [
      "wow your name is August  and you are 21and you only need 79 more years to be 100 years old!\n"
     ]
    }
   ],
   "source": [
    "name= input('What is your name?')\n",
    "   \n",
    "\n",
    "age= int(input('How old are you?'))\n",
    "\n",
    "\n",
    "years_b4_100= 100- age\n",
    "\n",
    "print ( \"wow your name is \"+ name +' and you are '+ str(age) + \"and you only need \" + str(years_b4_100) + \" more years to be 100 years old!\" )"
   ]
  },
  {
   "cell_type": "markdown",
   "metadata": {},
   "source": [
    "**E.4** Exercise 2 on https://www.practicepython.org"
   ]
  },
  {
   "cell_type": "code",
   "execution_count": 38,
   "metadata": {},
   "outputs": [
    {
     "name": "stdin",
     "output_type": "stream",
     "text": [
      "PICK A NUMBER YOU HEATHEN!!! QUICKLY!!! 9\n"
     ]
    },
    {
     "name": "stdout",
     "output_type": "stream",
     "text": [
      "AHAA NOO NOT AN ODD NUMBER\n"
     ]
    }
   ],
   "source": [
    "number= int(input(\"PICK A NUMBER YOU HEATHEN!!! QUICKLY!!!\"))\n",
    "\n",
    "if number %2 == 0:\n",
    "    print(\"AH YOU CHOSE AN EVEN NUMBER!!!!\")\n",
    "else:\n",
    "    print('AHAA NOO NOT AN ODD NUMBER!!')\n"
   ]
  },
  {
   "cell_type": "markdown",
   "metadata": {},
   "source": [
    "Don't forget to do some practicing of what you have been learning, including previous labs"
   ]
  },
  {
   "cell_type": "markdown",
   "metadata": {},
   "source": [
    "**You did it!**"
   ]
  },
  {
   "cell_type": "code",
   "execution_count": null,
   "metadata": {},
   "outputs": [],
   "source": [
    "PRACTICE"
   ]
  },
  {
   "cell_type": "code",
   "execution_count": 70,
   "metadata": {},
   "outputs": [
    {
     "name": "stdin",
     "output_type": "stream",
     "text": [
      " Hello, what's your name? August\n",
      "And where might you be going? the [Cave] or the [Sea]? Cave\n"
     ]
    },
    {
     "name": "stdout",
     "output_type": "stream",
     "text": [
      "ah, you might find a dragon there, if ye be an adventurer... you are an adventurer,\n"
     ]
    },
    {
     "name": "stdin",
     "output_type": "stream",
     "text": [
      " right? Y/N N\n"
     ]
    },
    {
     "name": "stdout",
     "output_type": "stream",
     "text": [
      "enjoy thy journey then\n"
     ]
    }
   ],
   "source": [
    "name= input(\" Hello, what's your name?\")\n",
    "\n",
    "where= input('And where might you be going? the [Cave] or the [Sea]?')\n",
    "\n",
    "if where== \"Sea\":\n",
    "    print(\"ah, you might find a treasure there, if ye be an adventurer... you are an adventurer,\")\n",
    "elif where == 'Cave':\n",
    "    print(\"ah, you might find a dragon there, if ye be an adventurer... you are an adventurer,\")\n",
    "else:\n",
    "    print(' ah, perhaps you misheard me. Forget it.')\n",
    "\n",
    "YN= input(' right? Y/N')\n",
    "\n",
    "if YN== 'Y':\n",
    "    print('may good fortune fall upon thee, as you complete your quest!')\n",
    "else:\n",
    "    print('enjoy thy journey then')"
   ]
  },
  {
   "cell_type": "code",
   "execution_count": null,
   "metadata": {},
   "outputs": [],
   "source": [
    "#the less cool, but more useful(?) practice"
   ]
  },
  {
   "cell_type": "code",
   "execution_count": 89,
   "metadata": {},
   "outputs": [
    {
     "name": "stdin",
     "output_type": "stream",
     "text": [
      "V1 32\n",
      "V1 32\n",
      "V1 1\n",
      "V2 4\n",
      "V2 242\n",
      "V2 23\n",
      "V3 2\n",
      "V3 43\n",
      "V3 21\n"
     ]
    }
   ],
   "source": [
    "## 3x3 matrix\n",
    "a= int(input('V1'))\n",
    "b= int(input('V1'))\n",
    "c= int(input('V1'))\n",
    "d= int(input('V2'))\n",
    "e= int(input('V2'))\n",
    "f= int(input('V2'))\n",
    "g= int(input('V3'))\n",
    "h= int(input('V3'))\n",
    "i= int(input('V3'))\n",
    "\n",
    "matrix= [[a,b,c],\n",
    "         [d,e,f],\n",
    "         [g,h,i]]\n",
    "\n",
    "x= a,b,c\n",
    "y= d,e,f\n",
    "z= g,h,i"
   ]
  },
  {
   "cell_type": "code",
   "execution_count": 91,
   "metadata": {},
   "outputs": [
    {
     "data": {
      "image/png": "[encoded data removed]",
      "text/plain": [
       "<Figure size 432x288 with 1 Axes>"
      ]
     },
     "metadata": {
      "needs_background": "light"
     },
     "output_type": "display_data"
    }
   ],
   "source": [
    "ax = plt.axes(projection='3d')\n",
    "ax.scatter(x, y, z, c=z, cmap='viridis', linewidth=8);\n",
    "ax.set_title('surface');"
   ]
  },
  {
   "cell_type": "code",
   "execution_count": null,
   "metadata": {},
   "outputs": [],
   "source": []
  }
 ],
 "metadata": {
  "kernelspec": {
   "display_name": "Python 3",
   "language": "python",
   "name": "python3"
  },
  "language_info": {
   "codemirror_mode": {
    "name": "ipython",
    "version": 3
   },
   "file_extension": ".py",
   "mimetype": "text/x-python",
   "name": "python",
   "nbconvert_exporter": "python",
   "pygments_lexer": "ipython3",
   "version": "3.8.5"
  }
 },
 "nbformat": 4,
 "nbformat_minor": 5
}
