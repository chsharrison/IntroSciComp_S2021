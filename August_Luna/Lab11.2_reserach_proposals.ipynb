{
 "cells": [
  {
   "cell_type": "markdown",
   "metadata": {},
   "source": [
    "Name"
   ]
  },
  {
   "cell_type": "markdown",
   "metadata": {},
   "source": [
    "Labpartner(s)"
   ]
  },
  {
   "cell_type": "code",
   "execution_count": 56,
   "metadata": {},
   "outputs": [],
   "source": [
    "#import statements go here\n",
    "import matplotlib.pyplot as plt\n",
    "import numpy as np\n",
    "import pandas as pd  # To read data\n",
    "from sklearn.linear_model import LinearRegression\n",
    "from scipy import stats"
   ]
  },
  {
   "cell_type": "markdown",
   "metadata": {},
   "source": [
    "# Class 11.2"
   ]
  },
  {
   "cell_type": "markdown",
   "metadata": {},
   "source": [
    "#### Announcements\n",
    "\n",
    "- Please message me and Victoria for coding help on slack, or your lab partners, or just post in the #coding_questions channel and we can all work together (#coding_questions is the best plan, you all often have the same/similar questions, and it makes folks feel good when they can help others). August needs a break and he is too nice to say no.\n",
    "\n",
    "- Lots of cool animations on Monday! If you missed it, watch the recording. Lots of tips on how to make movies easier than I showed you.\n",
    "\n",
    "- Today we are going to have a workday. For lecture I will talk about what makes a good scientific proposal, then you can use the lab period to work on your proposal or what you will. We are skipping the History of Hacking. You can do some research on your own.\n",
    "\n",
    "- Reminder **all labs through Lab 9.2 need to have a satisfactory grade (no zeros) by end of the day Thursday 4/1 (tomorrow) to pass the class.** The last drop date is 4/6. The mastery of this beginning material is needed to complete this course. This includes the functions exercise and the expected grade assignment.\n"
   ]
  },
  {
   "cell_type": "markdown",
   "metadata": {},
   "source": [
    "# Warmups 11.2"
   ]
  },
  {
   "cell_type": "markdown",
   "metadata": {},
   "source": [
    "**W.1. (and finish for practice for this week)**\n",
    "Get the movie dataset from lab 10.2 and load it into pandas. We want to finish what I started, answering the question if gross earnings is related to budget. Pull these two variables out and do a linear regression on them. You will probably have to clean them up by removing NaNs first using the methods you learned in datacamp.\n",
    "Write a sentance or two describing the result of your regression analysis and what it means, that is discuss your results. How confident are you in your model, does budget predict earnings?"
   ]
  },
  {
   "cell_type": "code",
   "execution_count": 36,
   "metadata": {},
   "outputs": [],
   "source": [
    "\n",
    "df= pd.read_excel (r'movies.xls', index_col= \"Year\")"
   ]
  },
  {
   "cell_type": "code",
   "execution_count": 38,
   "metadata": {},
   "outputs": [
    {
     "data": {
      "text/html": [
       "<div>\n",
       "<style scoped>\n",
       "    .dataframe tbody tr th:only-of-type {\n",
       "        vertical-align: middle;\n",
       "    }\n",
       "\n",
       "    .dataframe tbody tr th {\n",
       "        vertical-align: top;\n",
       "    }\n",
       "\n",
       "    .dataframe thead th {\n",
       "        text-align: right;\n",
       "    }\n",
       "</style>\n",
       "<table border=\"1\" class=\"dataframe\">\n",
       "  <thead>\n",
       "    <tr style=\"text-align: right;\">\n",
       "      <th></th>\n",
       "      <th>Title</th>\n",
       "      <th>Genres</th>\n",
       "      <th>Language</th>\n",
       "      <th>Country</th>\n",
       "      <th>Content Rating</th>\n",
       "      <th>Duration</th>\n",
       "      <th>Aspect Ratio</th>\n",
       "      <th>Budget</th>\n",
       "      <th>Gross Earnings</th>\n",
       "      <th>Director</th>\n",
       "      <th>...</th>\n",
       "      <th>Facebook Likes - Actor 1</th>\n",
       "      <th>Facebook Likes - Actor 2</th>\n",
       "      <th>Facebook Likes - Actor 3</th>\n",
       "      <th>Facebook Likes - cast Total</th>\n",
       "      <th>Facebook likes - Movie</th>\n",
       "      <th>Facenumber in posters</th>\n",
       "      <th>User Votes</th>\n",
       "      <th>Reviews by Users</th>\n",
       "      <th>Reviews by Crtiics</th>\n",
       "      <th>IMDB Score</th>\n",
       "    </tr>\n",
       "    <tr>\n",
       "      <th>Year</th>\n",
       "      <th></th>\n",
       "      <th></th>\n",
       "      <th></th>\n",
       "      <th></th>\n",
       "      <th></th>\n",
       "      <th></th>\n",
       "      <th></th>\n",
       "      <th></th>\n",
       "      <th></th>\n",
       "      <th></th>\n",
       "      <th></th>\n",
       "      <th></th>\n",
       "      <th></th>\n",
       "      <th></th>\n",
       "      <th></th>\n",
       "      <th></th>\n",
       "      <th></th>\n",
       "      <th></th>\n",
       "      <th></th>\n",
       "      <th></th>\n",
       "      <th></th>\n",
       "    </tr>\n",
       "  </thead>\n",
       "  <tbody>\n",
       "    <tr>\n",
       "      <th>1916</th>\n",
       "      <td>Intolerance: Love's Struggle Throughout the Ages</td>\n",
       "      <td>Drama|History|War</td>\n",
       "      <td>NaN</td>\n",
       "      <td>USA</td>\n",
       "      <td>Not Rated</td>\n",
       "      <td>123</td>\n",
       "      <td>1.33</td>\n",
       "      <td>385907.0</td>\n",
       "      <td>NaN</td>\n",
       "      <td>D.W. Griffith</td>\n",
       "      <td>...</td>\n",
       "      <td>436</td>\n",
       "      <td>22</td>\n",
       "      <td>9.0</td>\n",
       "      <td>481</td>\n",
       "      <td>691</td>\n",
       "      <td>1</td>\n",
       "      <td>10718</td>\n",
       "      <td>88</td>\n",
       "      <td>69.0</td>\n",
       "      <td>8.0</td>\n",
       "    </tr>\n",
       "    <tr>\n",
       "      <th>1920</th>\n",
       "      <td>Over the Hill to the Poorhouse</td>\n",
       "      <td>Crime|Drama</td>\n",
       "      <td>NaN</td>\n",
       "      <td>USA</td>\n",
       "      <td>NaN</td>\n",
       "      <td>110</td>\n",
       "      <td>1.33</td>\n",
       "      <td>100000.0</td>\n",
       "      <td>3000000.0</td>\n",
       "      <td>Harry F. Millarde</td>\n",
       "      <td>...</td>\n",
       "      <td>2</td>\n",
       "      <td>2</td>\n",
       "      <td>0.0</td>\n",
       "      <td>4</td>\n",
       "      <td>0</td>\n",
       "      <td>1</td>\n",
       "      <td>5</td>\n",
       "      <td>1</td>\n",
       "      <td>1.0</td>\n",
       "      <td>4.8</td>\n",
       "    </tr>\n",
       "    <tr>\n",
       "      <th>1925</th>\n",
       "      <td>The Big Parade</td>\n",
       "      <td>Drama|Romance|War</td>\n",
       "      <td>NaN</td>\n",
       "      <td>USA</td>\n",
       "      <td>Not Rated</td>\n",
       "      <td>151</td>\n",
       "      <td>1.33</td>\n",
       "      <td>245000.0</td>\n",
       "      <td>NaN</td>\n",
       "      <td>King Vidor</td>\n",
       "      <td>...</td>\n",
       "      <td>81</td>\n",
       "      <td>12</td>\n",
       "      <td>6.0</td>\n",
       "      <td>108</td>\n",
       "      <td>226</td>\n",
       "      <td>0</td>\n",
       "      <td>4849</td>\n",
       "      <td>45</td>\n",
       "      <td>48.0</td>\n",
       "      <td>8.3</td>\n",
       "    </tr>\n",
       "    <tr>\n",
       "      <th>1927</th>\n",
       "      <td>Metropolis</td>\n",
       "      <td>Drama|Sci-Fi</td>\n",
       "      <td>German</td>\n",
       "      <td>Germany</td>\n",
       "      <td>Not Rated</td>\n",
       "      <td>145</td>\n",
       "      <td>1.33</td>\n",
       "      <td>6000000.0</td>\n",
       "      <td>26435.0</td>\n",
       "      <td>Fritz Lang</td>\n",
       "      <td>...</td>\n",
       "      <td>136</td>\n",
       "      <td>23</td>\n",
       "      <td>18.0</td>\n",
       "      <td>203</td>\n",
       "      <td>12000</td>\n",
       "      <td>1</td>\n",
       "      <td>111841</td>\n",
       "      <td>413</td>\n",
       "      <td>260.0</td>\n",
       "      <td>8.3</td>\n",
       "    </tr>\n",
       "    <tr>\n",
       "      <th>1929</th>\n",
       "      <td>Pandora's Box</td>\n",
       "      <td>Crime|Drama|Romance</td>\n",
       "      <td>German</td>\n",
       "      <td>Germany</td>\n",
       "      <td>Not Rated</td>\n",
       "      <td>110</td>\n",
       "      <td>1.33</td>\n",
       "      <td>NaN</td>\n",
       "      <td>9950.0</td>\n",
       "      <td>Georg Wilhelm Pabst</td>\n",
       "      <td>...</td>\n",
       "      <td>426</td>\n",
       "      <td>20</td>\n",
       "      <td>3.0</td>\n",
       "      <td>455</td>\n",
       "      <td>926</td>\n",
       "      <td>1</td>\n",
       "      <td>7431</td>\n",
       "      <td>84</td>\n",
       "      <td>71.0</td>\n",
       "      <td>8.0</td>\n",
       "    </tr>\n",
       "  </tbody>\n",
       "</table>\n",
       "<p>5 rows × 24 columns</p>\n",
       "</div>"
      ],
      "text/plain": [
       "                                                  Title               Genres  \\\n",
       "Year                                                                           \n",
       "1916  Intolerance: Love's Struggle Throughout the Ages     Drama|History|War   \n",
       "1920                    Over the Hill to the Poorhouse           Crime|Drama   \n",
       "1925                                    The Big Parade     Drama|Romance|War   \n",
       "1927                                        Metropolis          Drama|Sci-Fi   \n",
       "1929                                     Pandora's Box   Crime|Drama|Romance   \n",
       "\n",
       "     Language  Country Content Rating  Duration  Aspect Ratio     Budget  \\\n",
       "Year                                                                       \n",
       "1916      NaN      USA      Not Rated       123          1.33   385907.0   \n",
       "1920      NaN      USA            NaN       110          1.33   100000.0   \n",
       "1925      NaN      USA      Not Rated       151          1.33   245000.0   \n",
       "1927   German  Germany      Not Rated       145          1.33  6000000.0   \n",
       "1929   German  Germany      Not Rated       110          1.33        NaN   \n",
       "\n",
       "      Gross Earnings             Director  ... Facebook Likes - Actor 1  \\\n",
       "Year                                       ...                            \n",
       "1916             NaN        D.W. Griffith  ...                      436   \n",
       "1920       3000000.0    Harry F. Millarde  ...                        2   \n",
       "1925             NaN           King Vidor  ...                       81   \n",
       "1927         26435.0           Fritz Lang  ...                      136   \n",
       "1929          9950.0  Georg Wilhelm Pabst  ...                      426   \n",
       "\n",
       "     Facebook Likes - Actor 2 Facebook Likes - Actor 3  \\\n",
       "Year                                                     \n",
       "1916                       22                      9.0   \n",
       "1920                        2                      0.0   \n",
       "1925                       12                      6.0   \n",
       "1927                       23                     18.0   \n",
       "1929                       20                      3.0   \n",
       "\n",
       "      Facebook Likes - cast Total  Facebook likes - Movie  \\\n",
       "Year                                                        \n",
       "1916                          481                     691   \n",
       "1920                            4                       0   \n",
       "1925                          108                     226   \n",
       "1927                          203                   12000   \n",
       "1929                          455                     926   \n",
       "\n",
       "      Facenumber in posters  User Votes  Reviews by Users  Reviews by Crtiics  \\\n",
       "Year                                                                            \n",
       "1916                      1       10718                88                69.0   \n",
       "1920                      1           5                 1                 1.0   \n",
       "1925                      0        4849                45                48.0   \n",
       "1927                      1      111841               413               260.0   \n",
       "1929                      1        7431                84                71.0   \n",
       "\n",
       "      IMDB Score  \n",
       "Year              \n",
       "1916         8.0  \n",
       "1920         4.8  \n",
       "1925         8.3  \n",
       "1927         8.3  \n",
       "1929         8.0  \n",
       "\n",
       "[5 rows x 24 columns]"
      ]
     },
     "execution_count": 38,
     "metadata": {},
     "output_type": "execute_result"
    }
   ],
   "source": [
    "df.head()"
   ]
  },
  {
   "cell_type": "code",
   "execution_count": 48,
   "metadata": {},
   "outputs": [],
   "source": [
    "remove_nan = df.dropna()"
   ]
  },
  {
   "cell_type": "code",
   "execution_count": 49,
   "metadata": {},
   "outputs": [
    {
     "data": {
      "text/html": [
       "<div>\n",
       "<style scoped>\n",
       "    .dataframe tbody tr th:only-of-type {\n",
       "        vertical-align: middle;\n",
       "    }\n",
       "\n",
       "    .dataframe tbody tr th {\n",
       "        vertical-align: top;\n",
       "    }\n",
       "\n",
       "    .dataframe thead th {\n",
       "        text-align: right;\n",
       "    }\n",
       "</style>\n",
       "<table border=\"1\" class=\"dataframe\">\n",
       "  <thead>\n",
       "    <tr style=\"text-align: right;\">\n",
       "      <th></th>\n",
       "      <th>Title</th>\n",
       "      <th>Genres</th>\n",
       "      <th>Language</th>\n",
       "      <th>Country</th>\n",
       "      <th>Content Rating</th>\n",
       "      <th>Duration</th>\n",
       "      <th>Aspect Ratio</th>\n",
       "      <th>Budget</th>\n",
       "      <th>Gross Earnings</th>\n",
       "      <th>Director</th>\n",
       "      <th>...</th>\n",
       "      <th>Facebook Likes - Actor 1</th>\n",
       "      <th>Facebook Likes - Actor 2</th>\n",
       "      <th>Facebook Likes - Actor 3</th>\n",
       "      <th>Facebook Likes - cast Total</th>\n",
       "      <th>Facebook likes - Movie</th>\n",
       "      <th>Facenumber in posters</th>\n",
       "      <th>User Votes</th>\n",
       "      <th>Reviews by Users</th>\n",
       "      <th>Reviews by Crtiics</th>\n",
       "      <th>IMDB Score</th>\n",
       "    </tr>\n",
       "    <tr>\n",
       "      <th>Year</th>\n",
       "      <th></th>\n",
       "      <th></th>\n",
       "      <th></th>\n",
       "      <th></th>\n",
       "      <th></th>\n",
       "      <th></th>\n",
       "      <th></th>\n",
       "      <th></th>\n",
       "      <th></th>\n",
       "      <th></th>\n",
       "      <th></th>\n",
       "      <th></th>\n",
       "      <th></th>\n",
       "      <th></th>\n",
       "      <th></th>\n",
       "      <th></th>\n",
       "      <th></th>\n",
       "      <th></th>\n",
       "      <th></th>\n",
       "      <th></th>\n",
       "      <th></th>\n",
       "    </tr>\n",
       "  </thead>\n",
       "  <tbody>\n",
       "    <tr>\n",
       "      <th>1927</th>\n",
       "      <td>Metropolis</td>\n",
       "      <td>Drama|Sci-Fi</td>\n",
       "      <td>German</td>\n",
       "      <td>Germany</td>\n",
       "      <td>Not Rated</td>\n",
       "      <td>145</td>\n",
       "      <td>1.33</td>\n",
       "      <td>6000000.0</td>\n",
       "      <td>26435.0</td>\n",
       "      <td>Fritz Lang</td>\n",
       "      <td>...</td>\n",
       "      <td>136</td>\n",
       "      <td>23</td>\n",
       "      <td>18.0</td>\n",
       "      <td>203</td>\n",
       "      <td>12000</td>\n",
       "      <td>1</td>\n",
       "      <td>111841</td>\n",
       "      <td>413</td>\n",
       "      <td>260.0</td>\n",
       "      <td>8.3</td>\n",
       "    </tr>\n",
       "    <tr>\n",
       "      <th>1929</th>\n",
       "      <td>The Broadway Melody</td>\n",
       "      <td>Musical|Romance</td>\n",
       "      <td>English</td>\n",
       "      <td>USA</td>\n",
       "      <td>Passed</td>\n",
       "      <td>100</td>\n",
       "      <td>1.37</td>\n",
       "      <td>379000.0</td>\n",
       "      <td>2808000.0</td>\n",
       "      <td>Harry Beaumont</td>\n",
       "      <td>...</td>\n",
       "      <td>77</td>\n",
       "      <td>28</td>\n",
       "      <td>4.0</td>\n",
       "      <td>109</td>\n",
       "      <td>167</td>\n",
       "      <td>8</td>\n",
       "      <td>4546</td>\n",
       "      <td>71</td>\n",
       "      <td>36.0</td>\n",
       "      <td>6.3</td>\n",
       "    </tr>\n",
       "    <tr>\n",
       "      <th>1933</th>\n",
       "      <td>42nd Street</td>\n",
       "      <td>Comedy|Musical|Romance</td>\n",
       "      <td>English</td>\n",
       "      <td>USA</td>\n",
       "      <td>Unrated</td>\n",
       "      <td>89</td>\n",
       "      <td>1.37</td>\n",
       "      <td>439000.0</td>\n",
       "      <td>2300000.0</td>\n",
       "      <td>Lloyd Bacon</td>\n",
       "      <td>...</td>\n",
       "      <td>610</td>\n",
       "      <td>105</td>\n",
       "      <td>45.0</td>\n",
       "      <td>995</td>\n",
       "      <td>439</td>\n",
       "      <td>2</td>\n",
       "      <td>7921</td>\n",
       "      <td>97</td>\n",
       "      <td>65.0</td>\n",
       "      <td>7.7</td>\n",
       "    </tr>\n",
       "    <tr>\n",
       "      <th>1935</th>\n",
       "      <td>Top Hat</td>\n",
       "      <td>Comedy|Musical|Romance</td>\n",
       "      <td>English</td>\n",
       "      <td>USA</td>\n",
       "      <td>Approved</td>\n",
       "      <td>81</td>\n",
       "      <td>1.37</td>\n",
       "      <td>609000.0</td>\n",
       "      <td>3000000.0</td>\n",
       "      <td>Mark Sandrich</td>\n",
       "      <td>...</td>\n",
       "      <td>610</td>\n",
       "      <td>172</td>\n",
       "      <td>23.0</td>\n",
       "      <td>824</td>\n",
       "      <td>1000</td>\n",
       "      <td>2</td>\n",
       "      <td>13269</td>\n",
       "      <td>98</td>\n",
       "      <td>66.0</td>\n",
       "      <td>7.8</td>\n",
       "    </tr>\n",
       "    <tr>\n",
       "      <th>1936</th>\n",
       "      <td>Modern Times</td>\n",
       "      <td>Comedy|Drama|Family</td>\n",
       "      <td>English</td>\n",
       "      <td>USA</td>\n",
       "      <td>G</td>\n",
       "      <td>87</td>\n",
       "      <td>1.37</td>\n",
       "      <td>1500000.0</td>\n",
       "      <td>163245.0</td>\n",
       "      <td>Charles Chaplin</td>\n",
       "      <td>...</td>\n",
       "      <td>309</td>\n",
       "      <td>8</td>\n",
       "      <td>8.0</td>\n",
       "      <td>352</td>\n",
       "      <td>0</td>\n",
       "      <td>1</td>\n",
       "      <td>143086</td>\n",
       "      <td>211</td>\n",
       "      <td>120.0</td>\n",
       "      <td>8.6</td>\n",
       "    </tr>\n",
       "  </tbody>\n",
       "</table>\n",
       "<p>5 rows × 24 columns</p>\n",
       "</div>"
      ],
      "text/plain": [
       "                     Title                  Genres Language  Country  \\\n",
       "Year                                                                   \n",
       "1927           Metropolis             Drama|Sci-Fi   German  Germany   \n",
       "1929  The Broadway Melody          Musical|Romance  English      USA   \n",
       "1933          42nd Street   Comedy|Musical|Romance  English      USA   \n",
       "1935              Top Hat   Comedy|Musical|Romance  English      USA   \n",
       "1936         Modern Times      Comedy|Drama|Family  English      USA   \n",
       "\n",
       "     Content Rating  Duration  Aspect Ratio     Budget  Gross Earnings  \\\n",
       "Year                                                                     \n",
       "1927      Not Rated       145          1.33  6000000.0         26435.0   \n",
       "1929         Passed       100          1.37   379000.0       2808000.0   \n",
       "1933        Unrated        89          1.37   439000.0       2300000.0   \n",
       "1935       Approved        81          1.37   609000.0       3000000.0   \n",
       "1936              G        87          1.37  1500000.0        163245.0   \n",
       "\n",
       "             Director  ... Facebook Likes - Actor 1 Facebook Likes - Actor 2  \\\n",
       "Year                   ...                                                     \n",
       "1927       Fritz Lang  ...                      136                       23   \n",
       "1929   Harry Beaumont  ...                       77                       28   \n",
       "1933      Lloyd Bacon  ...                      610                      105   \n",
       "1935    Mark Sandrich  ...                      610                      172   \n",
       "1936  Charles Chaplin  ...                      309                        8   \n",
       "\n",
       "     Facebook Likes - Actor 3  Facebook Likes - cast Total  \\\n",
       "Year                                                         \n",
       "1927                     18.0                          203   \n",
       "1929                      4.0                          109   \n",
       "1933                     45.0                          995   \n",
       "1935                     23.0                          824   \n",
       "1936                      8.0                          352   \n",
       "\n",
       "      Facebook likes - Movie  Facenumber in posters  User Votes  \\\n",
       "Year                                                              \n",
       "1927                   12000                      1      111841   \n",
       "1929                     167                      8        4546   \n",
       "1933                     439                      2        7921   \n",
       "1935                    1000                      2       13269   \n",
       "1936                       0                      1      143086   \n",
       "\n",
       "      Reviews by Users  Reviews by Crtiics  IMDB Score  \n",
       "Year                                                    \n",
       "1927               413               260.0         8.3  \n",
       "1929                71                36.0         6.3  \n",
       "1933                97                65.0         7.7  \n",
       "1935                98                66.0         7.8  \n",
       "1936               211               120.0         8.6  \n",
       "\n",
       "[5 rows x 24 columns]"
      ]
     },
     "execution_count": 49,
     "metadata": {},
     "output_type": "execute_result"
    }
   ],
   "source": [
    "remove_nan.head()"
   ]
  },
  {
   "cell_type": "code",
   "execution_count": 57,
   "metadata": {},
   "outputs": [],
   "source": [
    "gross_earns= remove_nan[\"Gross Earnings\"]\n",
    "budget= remove_nan[\"Budget\"]"
   ]
  },
  {
   "cell_type": "code",
   "execution_count": 19,
   "metadata": {},
   "outputs": [
    {
     "data": {
      "text/plain": [
       "<AxesSubplot:>"
      ]
     },
     "execution_count": 19,
     "metadata": {},
     "output_type": "execute_result"
    },
    {
     "data": {
      "image/png": "[encoded data removed]",
      "text/plain": [
       "<Figure size 432x288 with 1 Axes>"
      ]
     },
     "metadata": {
      "needs_background": "light"
     },
     "output_type": "display_data"
    }
   ],
   "source": [
    "df.plot()"
   ]
  },
  {
   "cell_type": "code",
   "execution_count": 54,
   "metadata": {},
   "outputs": [
    {
     "data": {
      "text/plain": [
       "[<matplotlib.lines.Line2D at 0x1377dc9b9a0>]"
      ]
     },
     "execution_count": 54,
     "metadata": {},
     "output_type": "execute_result"
    },
    {
     "data": {
      "image/png": "[encoded data removed]",
      "text/plain": [
       "<Figure size 432x288 with 1 Axes>"
      ]
     },
     "metadata": {
      "needs_background": "light"
     },
     "output_type": "display_data"
    }
   ],
   "source": [
    "fig, ax= plt.subplots()\n",
    "ax.plot( gross_earns)\n",
    "ax.plot( budget)\n"
   ]
  },
  {
   "cell_type": "code",
   "execution_count": 58,
   "metadata": {},
   "outputs": [],
   "source": [
    "slope, intercept, r_value, p_value, std_err = stats.linregress(gross_earns,budget)"
   ]
  },
  {
   "cell_type": "code",
   "execution_count": 70,
   "metadata": {},
   "outputs": [],
   "source": [
    "plt.rcParams[\"figure.figsize\"] = (10,5)"
   ]
  },
  {
   "cell_type": "code",
   "execution_count": 71,
   "metadata": {},
   "outputs": [
    {
     "data": {
      "text/plain": [
       "Text(0.5, 1.0, 'y=x*0.11262660538255742+26494969.770351257')"
      ]
     },
     "execution_count": 71,
     "metadata": {},
     "output_type": "execute_result"
    },
    {
     "data": {
      "image/png": "[encoded data removed]",
      "text/plain": [
       "<Figure size 720x360 with 1 Axes>"
      ]
     },
     "metadata": {
      "needs_background": "light"
     },
     "output_type": "display_data"
    }
   ],
   "source": [
    "plt.scatter(gross_earns, budget)\n",
    "plt.plot(gross_earns, slope * gross_earns + intercept, 'k--')\n",
    "plt.xlabel(\"gross earnings\")\n",
    "plt.ylabel('budget')\n",
    "plt.title('y=x*' + str(slope) + '+' + str(intercept))\n"
   ]
  },
  {
   "cell_type": "markdown",
   "metadata": {},
   "source": [
    "# Lecture 11.2\n",
    "\n",
    "### Agenda:\n",
    "- What makes a good scientific research proposal?\n",
    "    - Dataset or way to generate data to analyze (e.g. a model)\n",
    "    - Well defined research question(s) that can be adressed with the above dataset/methods\n",
    "    - Clear explaination of what you are going to do to answer these research questions (not too technical/jargony, but some details)\n",
    "    - Convince the reader/reviewer you have the expertise and the resources to do the work (don't promise more than you can do)\n",
    "    - Realistic timelines and adequate personell \n",
    "    \n",
    "#### On Monday you will give a 5 min talk on your proposed research \n",
    "Just a couple of slides and some discussion\n",
    "\n",
    "- What makes a good talk?"
   ]
  },
  {
   "cell_type": "code",
   "execution_count": null,
   "metadata": {},
   "outputs": [],
   "source": [
    "memes"
   ]
  },
  {
   "cell_type": "markdown",
   "metadata": {},
   "source": [
    "# Lab 11.2"
   ]
  },
  {
   "cell_type": "markdown",
   "metadata": {},
   "source": [
    "Today is a workday. Catch up and work on your research proposal. I am here to assist you."
   ]
  },
  {
   "cell_type": "markdown",
   "metadata": {},
   "source": [
    "**E.1** Complete your research proposal (see assignment and checklist in folder in github)"
   ]
  },
  {
   "cell_type": "markdown",
   "metadata": {},
   "source": [
    "**E.2** On Monday we will workshop research proposal plans together. This should be fun, helpful, and not too formal/serious. Prepare a few slides (2-3) on your proposed research to share with the class. Talk about your research question(s) and your proposed methods and we will ask you questions and give you feedback."
   ]
  },
  {
   "cell_type": "markdown",
   "metadata": {},
   "source": [
    "Please note both of these exercises are manditory to pass the class and must be completed on time (no late work will be accepted)"
   ]
  },
  {
   "cell_type": "code",
   "execution_count": null,
   "metadata": {},
   "outputs": [],
   "source": []
  }
 ],
 "metadata": {
  "kernelspec": {
   "display_name": "Python 3",
   "language": "python",
   "name": "python3"
  },
  "language_info": {
   "codemirror_mode": {
    "name": "ipython",
    "version": 3
   },
   "file_extension": ".py",
   "mimetype": "text/x-python",
   "name": "python",
   "nbconvert_exporter": "python",
   "pygments_lexer": "ipython3",
   "version": "3.8.5"
  }
 },
 "nbformat": 4,
 "nbformat_minor": 5
}
