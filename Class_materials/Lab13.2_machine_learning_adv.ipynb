{
 "cells": [
  {
   "cell_type": "markdown",
   "id": "entire-tampa",
   "metadata": {},
   "source": [
    "Name"
   ]
  },
  {
   "cell_type": "markdown",
   "id": "local-ethiopia",
   "metadata": {},
   "source": [
    "Labpartner(s)"
   ]
  },
  {
   "cell_type": "code",
   "execution_count": null,
   "id": "distributed-profit",
   "metadata": {},
   "outputs": [],
   "source": [
    "import numpy as np\n",
    "import matplotlib.pyplot as plt\n",
    "import pandas as pd\n",
    "from scipy import stats"
   ]
  },
  {
   "cell_type": "code",
   "execution_count": null,
   "id": "announced-chain",
   "metadata": {},
   "outputs": [],
   "source": [
    "#Set plotting formats\n",
    "import matplotlib as mpl\n",
    "mpl.rcParams['figure.figsize'] = [8, 6.0]\n",
    "mpl.rcParams['font.size'] = 16\n",
    "mpl.rcParams['legend.fontsize'] = 'medium'\n",
    "mpl.rcParams['figure.titlesize'] = 'medium'\n",
    "mpl.rcParams['lines.linewidth'] = 2.0"
   ]
  },
  {
   "cell_type": "markdown",
   "id": "north-merchant",
   "metadata": {},
   "source": [
    "# Class 13.2 Machine Learning Continued"
   ]
  },
  {
   "cell_type": "markdown",
   "id": "billion-cleaning",
   "metadata": {},
   "source": [
    "#### Announcements\n",
    "\n",
    "- For the next two weeks we will have virtual workdays from 2-4PM, and you will submit your programming and a weekly project planning and assessment form.\n",
    "- Reminder **no labs will be accepted after 4/18.** After this you all will be working on your final projects. Please review the syllabus on BB for grading policies. \n"
   ]
  },
  {
   "cell_type": "markdown",
   "id": "configured-sperm",
   "metadata": {},
   "source": [
    "# Warmup 13.2"
   ]
  },
  {
   "cell_type": "markdown",
   "id": "proud-contest",
   "metadata": {},
   "source": [
    "**W.1** Using what you learned in the timeseries lab and practice python exeriese, write a program that asks for a user's birthday and then tells them how old they are."
   ]
  },
  {
   "cell_type": "code",
   "execution_count": null,
   "id": "legal-board",
   "metadata": {},
   "outputs": [],
   "source": []
  },
  {
   "cell_type": "markdown",
   "id": "polar-chick",
   "metadata": {},
   "source": [
    "**W.2** Amend your program to tell them how old they will turn on their birthday in 2050."
   ]
  },
  {
   "cell_type": "code",
   "execution_count": null,
   "id": "raised-determination",
   "metadata": {},
   "outputs": [],
   "source": []
  },
  {
   "cell_type": "markdown",
   "id": "stone-darwin",
   "metadata": {},
   "source": [
    "# Lecture 13.2\n",
    "\n",
    "## Agenda:\n",
    "- Machine Learning in Scikit learn continued"
   ]
  },
  {
   "cell_type": "markdown",
   "id": "naval-dallas",
   "metadata": {},
   "source": [
    "## Review\n",
    "\n",
    "Last time we went through the data sets and the first square in the scikitlearn classifcation example. Let's continue."
   ]
  },
  {
   "cell_type": "markdown",
   "id": "wired-rider",
   "metadata": {},
   "source": [
    "## Classification example from scikit-learn\n",
    "https://scikit-learn.org/stable/auto_examples/classification/plot_classifier_comparison.html#sphx-glr-auto-examples-classification-plot-classifier-comparison-py"
   ]
  },
  {
   "cell_type": "markdown",
   "id": "affecting-breeding",
   "metadata": {},
   "source": [
    "Here is the whole code below. We are going to break this example down"
   ]
  },
  {
   "cell_type": "code",
   "execution_count": null,
   "id": "informational-corruption",
   "metadata": {},
   "outputs": [],
   "source": [
    "# Code source: Gaël Varoquaux\n",
    "#              Andreas Müller\n",
    "# Modified for documentation by Jaques Grobler\n",
    "# License: BSD 3 clause\n",
    "\n",
    "import numpy as np\n",
    "import matplotlib.pyplot as plt\n",
    "from matplotlib.colors import ListedColormap\n",
    "from sklearn.model_selection import train_test_split\n",
    "from sklearn.preprocessing import StandardScaler\n",
    "from sklearn.datasets import make_moons, make_circles, make_classification\n",
    "from sklearn.neural_network import MLPClassifier\n",
    "from sklearn.neighbors import KNeighborsClassifier\n",
    "from sklearn.svm import SVC\n",
    "from sklearn.gaussian_process import GaussianProcessClassifier\n",
    "from sklearn.gaussian_process.kernels import RBF\n",
    "from sklearn.tree import DecisionTreeClassifier\n",
    "from sklearn.ensemble import RandomForestClassifier, AdaBoostClassifier\n",
    "from sklearn.naive_bayes import GaussianNB\n",
    "from sklearn.discriminant_analysis import QuadraticDiscriminantAnalysis\n",
    "\n",
    "h = .02  # step size in the mesh\n",
    "\n",
    "names = [\"Nearest Neighbors\", \"Linear SVM\", \"RBF SVM\", \"Gaussian Process\",\n",
    "         \"Decision Tree\", \"Random Forest\", \"Neural Net\", \"AdaBoost\",\n",
    "         \"Naive Bayes\", \"QDA\"]\n",
    "\n",
    "classifiers = [\n",
    "    KNeighborsClassifier(3),\n",
    "    SVC(kernel=\"linear\", C=0.025),\n",
    "    SVC(gamma=2, C=1),\n",
    "    GaussianProcessClassifier(1.0 * RBF(1.0)),\n",
    "    DecisionTreeClassifier(max_depth=5),\n",
    "    RandomForestClassifier(max_depth=5, n_estimators=10, max_features=1),\n",
    "    MLPClassifier(alpha=1),\n",
    "    AdaBoostClassifier(),\n",
    "    GaussianNB(),\n",
    "    QuadraticDiscriminantAnalysis()]\n",
    "\n",
    "X, y = make_classification(n_features=2, n_redundant=0, n_informative=2,\n",
    "                           random_state=1, n_clusters_per_class=1)\n",
    "rng = np.random.RandomState(2)\n",
    "X += 2 * rng.uniform(size=X.shape)\n",
    "linearly_separable = (X, y)\n",
    "\n",
    "datasets = [make_moons(noise=0.3, random_state=0),\n",
    "            make_circles(noise=0.2, factor=0.5, random_state=1),\n",
    "            linearly_separable\n",
    "            ]\n",
    "\n",
    "figure = plt.figure(figsize=(27, 9), facecolor = 'w')\n",
    "i = 1\n",
    "# iterate over datasets\n",
    "for ds_cnt, ds in enumerate(datasets):\n",
    "    # preprocess dataset, split into training and test part\n",
    "    X, y = ds\n",
    "    X = StandardScaler().fit_transform(X)\n",
    "    X_train, X_test, y_train, y_test = \\\n",
    "        train_test_split(X, y, test_size=.4, random_state=42)\n",
    "\n",
    "    x_min, x_max = X[:, 0].min() - .5, X[:, 0].max() + .5\n",
    "    y_min, y_max = X[:, 1].min() - .5, X[:, 1].max() + .5\n",
    "    xx, yy = np.meshgrid(np.arange(x_min, x_max, h),\n",
    "                         np.arange(y_min, y_max, h))\n",
    "\n",
    "    # just plot the dataset first\n",
    "    cm = plt.cm.RdBu\n",
    "    cm_bright = ListedColormap(['#FF0000', '#0000FF'])\n",
    "    ax = plt.subplot(len(datasets), len(classifiers) + 1, i)\n",
    "    if ds_cnt == 0:\n",
    "        ax.set_title(\"Input data\")\n",
    "    # Plot the training points\n",
    "    ax.scatter(X_train[:, 0], X_train[:, 1], c=y_train, cmap=cm_bright,\n",
    "               edgecolors='k')\n",
    "    # Plot the testing points\n",
    "    ax.scatter(X_test[:, 0], X_test[:, 1], c=y_test, cmap=cm_bright, alpha=0.6,\n",
    "               edgecolors='k')\n",
    "    ax.set_xlim(xx.min(), xx.max())\n",
    "    ax.set_ylim(yy.min(), yy.max())\n",
    "    ax.set_xticks(())\n",
    "    ax.set_yticks(())\n",
    "    i += 1\n",
    "\n",
    "    # iterate over classifiers\n",
    "    for name, clf in zip(names, classifiers):\n",
    "        ax = plt.subplot(len(datasets), len(classifiers) + 1, i)\n",
    "        clf.fit(X_train, y_train)\n",
    "        score = clf.score(X_test, y_test)\n",
    "\n",
    "        # Plot the decision boundary. For that, we will assign a color to each\n",
    "        # point in the mesh [x_min, x_max]x[y_min, y_max].\n",
    "        if hasattr(clf, \"decision_function\"):\n",
    "            Z = clf.decision_function(np.c_[xx.ravel(), yy.ravel()])\n",
    "        else:\n",
    "            Z = clf.predict_proba(np.c_[xx.ravel(), yy.ravel()])[:, 1]\n",
    "\n",
    "        # Put the result into a color plot\n",
    "        Z = Z.reshape(xx.shape)\n",
    "        ax.contourf(xx, yy, Z, cmap=cm, alpha=.8)\n",
    "\n",
    "        # Plot the training points\n",
    "        ax.scatter(X_train[:, 0], X_train[:, 1], c=y_train, cmap=cm_bright,\n",
    "                   edgecolors='k')\n",
    "        # Plot the testing points\n",
    "        ax.scatter(X_test[:, 0], X_test[:, 1], c=y_test, cmap=cm_bright,\n",
    "                   edgecolors='green', alpha=1, zorder = 10)\n",
    "\n",
    "        ax.set_xlim(xx.min(), xx.max())\n",
    "        ax.set_ylim(yy.min(), yy.max())\n",
    "        ax.set_xticks(())\n",
    "        ax.set_yticks(())\n",
    "        if ds_cnt == 0:\n",
    "            ax.set_title(name, fontsize = 14)\n",
    "        ax.text(xx.max() - .3, yy.min() + .3, ('%.2f' % score).lstrip('0'),\n",
    "                size=15, horizontalalignment='right')\n",
    "        i += 1\n",
    "\n",
    "plt.tight_layout()"
   ]
  },
  {
   "cell_type": "markdown",
   "id": "hundred-baseline",
   "metadata": {},
   "source": [
    "## Plotting the results of the prediction"
   ]
  },
  {
   "cell_type": "code",
   "execution_count": null,
   "id": "swiss-mechanics",
   "metadata": {},
   "outputs": [],
   "source": [
    "# make the linearly separable data (the first row)\n",
    "\n",
    "X, y = make_classification(n_features=2, n_redundant=0, n_informative=2,\n",
    "                           random_state=1, n_clusters_per_class=1)\n",
    "rng = np.random.RandomState(2)\n",
    "X += 2 * rng.uniform(size=X.shape)\n",
    "linearly_separable = (X, y)\n"
   ]
  },
  {
   "cell_type": "markdown",
   "id": "resistant-preference",
   "metadata": {},
   "source": [
    "### **Q** What are X and y?\n",
    "Explain in relation to the plot above."
   ]
  },
  {
   "cell_type": "code",
   "execution_count": null,
   "id": "exempt-fitting",
   "metadata": {},
   "outputs": [],
   "source": []
  },
  {
   "cell_type": "markdown",
   "id": "promising-utilization",
   "metadata": {},
   "source": [
    "The classification creates a prediction in the 2D space of the data of what the expected value is, blue or red. To plot this we need to define a grid of data we can apply classification result to. This is done using meshgrid. Meshgrid creates a grid of x,y data, similar to np.arange, but in 2D"
   ]
  },
  {
   "cell_type": "code",
   "execution_count": null,
   "id": "mathematical-brick",
   "metadata": {},
   "outputs": [],
   "source": [
    "# reminder about numpy arange: syntax is start, stop, stride\n",
    "np.arange(1,20,2)"
   ]
  },
  {
   "cell_type": "code",
   "execution_count": null,
   "id": "secondary-norwegian",
   "metadata": {},
   "outputs": [],
   "source": [
    "plt.plot(np.arange(1,20,2),'.')  # plotting dots for each data point\n",
    "#  what is the x-axis here?"
   ]
  },
  {
   "cell_type": "markdown",
   "id": "particular-marathon",
   "metadata": {},
   "source": [
    "Meshgrid takes two arrays and makes a grid of values:"
   ]
  },
  {
   "cell_type": "code",
   "execution_count": null,
   "id": "liberal-vatican",
   "metadata": {},
   "outputs": [],
   "source": [
    "np.meshgrid(np.arange(1,20,2), np.arange(1,20,2))"
   ]
  },
  {
   "cell_type": "code",
   "execution_count": null,
   "id": "sustained-shoot",
   "metadata": {},
   "outputs": [],
   "source": [
    "x1, y1 = np.meshgrid(np.arange(1,20,2), np.arange(1,20,2))\n",
    "plt.plot(x1,y1, '.');"
   ]
  },
  {
   "cell_type": "markdown",
   "id": "durable-andrews",
   "metadata": {},
   "source": [
    "We can use the meshgrid output to define a 2D function for plotting. "
   ]
  },
  {
   "cell_type": "code",
   "execution_count": null,
   "id": "electronic-acrobat",
   "metadata": {},
   "outputs": [],
   "source": [
    "x1, y1 = np.meshgrid(np.arange(1,20,2), np.arange(1,20,2))\n",
    "plt.plot(x1,y1, 'k.')\n",
    "plt.pcolormesh(x1,y1, 2*x1 +3*y1, shading = 'auto') # what is this the equation of?\n",
    "plt.colorbar()\n"
   ]
  },
  {
   "cell_type": "markdown",
   "id": "narrative-ground",
   "metadata": {},
   "source": [
    "### Q: Define a meshgrid over -1 to 1 with ~100 points and plot the function $z = x^2 + y^2$"
   ]
  },
  {
   "cell_type": "code",
   "execution_count": null,
   "id": "million-finger",
   "metadata": {},
   "outputs": [],
   "source": []
  },
  {
   "cell_type": "markdown",
   "id": "southeast-groove",
   "metadata": {},
   "source": [
    "Back to the code:"
   ]
  },
  {
   "cell_type": "code",
   "execution_count": null,
   "id": "hairy-blond",
   "metadata": {},
   "outputs": [],
   "source": [
    "# set the min and max of x and y based on the dataset\n",
    "x_min, x_max = X[:, 0].min() - .5, X[:, 0].max() + .5\n",
    "y_min, y_max = X[:, 1].min() - .5, X[:, 1].max() + .5\n",
    "\n",
    "# use the above to define the meshgrid\n",
    "xx, yy = np.meshgrid(np.arange(x_min, x_max, h),\n",
    "                     np.arange(y_min, y_maxa, h))"
   ]
  },
  {
   "cell_type": "markdown",
   "id": "ideal-sheriff",
   "metadata": {},
   "source": [
    "The different methods either have a probablity that the x,y in question is red or blue, or a decision boundary"
   ]
  },
  {
   "cell_type": "code",
   "execution_count": null,
   "id": "arabic-lottery",
   "metadata": {},
   "outputs": [],
   "source": [
    "# Plot the decision boundary. For that, we will assign a color to each\n",
    "# point in the mesh [x_min, x_max]x[y_min, y_max].\n",
    "if hasattr(clf, \"decision_function\"):\n",
    "    Z = clf.decision_function(np.c_[xx.ravel(), yy.ravel()])\n",
    "else:\n",
    "    Z = clf.predict_proba(np.c_[xx.ravel(), yy.ravel()])[:, 1]"
   ]
  },
  {
   "cell_type": "markdown",
   "id": "becoming-simulation",
   "metadata": {},
   "source": [
    "Note that kneighbors does not have a decision_function, so we are using predict_proba. This is the probability that each point in the meshgrid is in either the red class (zeros) or the blue class (ones)"
   ]
  },
  {
   "cell_type": "code",
   "execution_count": null,
   "id": "hungarian-office",
   "metadata": {},
   "outputs": [],
   "source": [
    "# Put the result into a color plot\n",
    "Z = Z.reshape(xx.shape)\n",
    "# note we are using the meshgrid we created before to plot this as a filled contour plot\n",
    "plt.contourf(xx, yy, Z, cmap=cm, alpha=.8)\n",
    "plt.colorbar()"
   ]
  },
  {
   "cell_type": "markdown",
   "id": "strange-parker",
   "metadata": {},
   "source": [
    "Now we will add in the training and testing points, and see how well the method did to predict the latter"
   ]
  },
  {
   "cell_type": "code",
   "execution_count": null,
   "id": "metropolitan-recovery",
   "metadata": {},
   "outputs": [],
   "source": [
    "# Put the result into a color plot\n",
    "Z = Z.reshape(xx.shape)\n",
    "# note we are using the meshgrid we created before to plot this as a filled contour plot\n",
    "plt.contourf(xx, yy, Z, cmap=cm, alpha=.8)\n",
    "plt.colorbar()\n",
    "\n",
    "\n",
    "# Plot the training points\n",
    "plt.scatter(X_train[:, 0], X_train[:, 1], c=y_train, cmap=cm_bright,\n",
    "           edgecolors='k')\n",
    "# Plot the testing points\n",
    "plt.scatter(X_test[:, 0], X_test[:, 1], c=y_test, cmap=cm_bright,\n",
    "           edgecolors='orange', alpha=1, zorder = 10)"
   ]
  },
  {
   "cell_type": "code",
   "execution_count": null,
   "id": "frozen-bowling",
   "metadata": {},
   "outputs": [],
   "source": []
  },
  {
   "cell_type": "code",
   "execution_count": null,
   "id": "gorgeous-phase",
   "metadata": {},
   "outputs": [],
   "source": []
  },
  {
   "cell_type": "markdown",
   "id": "caring-agriculture",
   "metadata": {},
   "source": [
    "# Lab 13.2"
   ]
  },
  {
   "cell_type": "markdown",
   "id": "demonstrated-vitamin",
   "metadata": {},
   "source": [
    "**E.1** What does plt.tight_layout() in the sample code do?"
   ]
  },
  {
   "cell_type": "code",
   "execution_count": null,
   "id": "false-scale",
   "metadata": {},
   "outputs": [],
   "source": []
  },
  {
   "cell_type": "markdown",
   "id": "surface-encoding",
   "metadata": {},
   "source": [
    "**E.2** You will be assigned a column in the above using one of the other methods. Go through the same exercise as above for each of the three different datasets. Research how your method works. On Monday, you and your partner will explain to the class the basics of what your method does, and how well it works for the dataset, and what other applications it can be used for."
   ]
  },
  {
   "cell_type": "code",
   "execution_count": null,
   "id": "biblical-excuse",
   "metadata": {},
   "outputs": [],
   "source": []
  },
  {
   "cell_type": "markdown",
   "id": "collect-firewall",
   "metadata": {},
   "source": [
    "**E.3** Watch the SEEMS seminar on machine learning from earlier this term by Scott James: https://www.utrgv.edu/seems/news/seminars/index.htm"
   ]
  },
  {
   "cell_type": "markdown",
   "id": "popular-correlation",
   "metadata": {},
   "source": [
    "**E.3a** What differend methods of machine learning were mentioned and used in this presentation?"
   ]
  },
  {
   "cell_type": "markdown",
   "id": "economic-stone",
   "metadata": {},
   "source": []
  },
  {
   "cell_type": "markdown",
   "id": "fifteen-praise",
   "metadata": {},
   "source": [
    "**E.3b** What applications were these methods applied to? What was the result?"
   ]
  },
  {
   "cell_type": "code",
   "execution_count": null,
   "id": "preliminary-client",
   "metadata": {},
   "outputs": [],
   "source": []
  },
  {
   "cell_type": "markdown",
   "id": "naughty-andrew",
   "metadata": {},
   "source": [
    "**E.4** Research how machine learning has been used in your field of reserch and report on what you found. "
   ]
  },
  {
   "cell_type": "code",
   "execution_count": null,
   "id": "acquired-compression",
   "metadata": {},
   "outputs": [],
   "source": []
  },
  {
   "cell_type": "markdown",
   "id": "southwest-connecticut",
   "metadata": {},
   "source": [
    "**E.5** How else could machine learning be used for your field of research?"
   ]
  },
  {
   "cell_type": "code",
   "execution_count": null,
   "id": "worldwide-killing",
   "metadata": {},
   "outputs": [],
   "source": []
  }
 ],
 "metadata": {
  "kernelspec": {
   "display_name": "Python 3",
   "language": "python",
   "name": "python3"
  },
  "language_info": {
   "codemirror_mode": {
    "name": "ipython",
    "version": 3
   },
   "file_extension": ".py",
   "mimetype": "text/x-python",
   "name": "python",
   "nbconvert_exporter": "python",
   "pygments_lexer": "ipython3",
   "version": "3.7.7"
  }
 },
 "nbformat": 4,
 "nbformat_minor": 5
}
