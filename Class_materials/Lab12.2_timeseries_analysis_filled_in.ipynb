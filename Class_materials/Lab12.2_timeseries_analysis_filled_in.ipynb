{
 "cells": [
  {
   "cell_type": "markdown",
   "id": "ordered-mayor",
   "metadata": {},
   "source": [
    "Name"
   ]
  },
  {
   "cell_type": "markdown",
   "id": "radio-flesh",
   "metadata": {},
   "source": [
    "Labpartner(s)"
   ]
  },
  {
   "cell_type": "code",
   "execution_count": null,
   "id": "miniature-medium",
   "metadata": {},
   "outputs": [],
   "source": [
    "#import statements go here\n"
   ]
  },
  {
   "cell_type": "markdown",
   "id": "saving-framework",
   "metadata": {},
   "source": [
    "# Class 12.2"
   ]
  },
  {
   "cell_type": "markdown",
   "id": "graphic-painting",
   "metadata": {},
   "source": [
    "# Warmups 11.2"
   ]
  },
  {
   "cell_type": "markdown",
   "id": "annoying-permission",
   "metadata": {},
   "source": [
    "**W.1.** In the scipy lecture notes on statistics go through **Section 3.1.2 Hypothesis testing: comparing two groups** tutorial. Make sure to read up about t-tests and the rest if you are not familiar with these statistical methods.\n",
    "https://scipy-lectures.org/packages/statistics/index.html#id13\n",
    "\n",
    "Note you will need to load in the dataset on brains at the beginning of the section\n",
    "\n",
    "It is suggested you do the rest of the 3.1 section for practice this week. Most of it is review, some of it is new and useful for you all."
   ]
  },
  {
   "cell_type": "code",
   "execution_count": null,
   "id": "amended-discretion",
   "metadata": {},
   "outputs": [],
   "source": []
  },
  {
   "cell_type": "markdown",
   "id": "handmade-binary",
   "metadata": {},
   "source": [
    "# Lecture 12.2\n",
    "\n",
    "### Agenda:\n"
   ]
  },
  {
   "cell_type": "markdown",
   "id": "physical-english",
   "metadata": {},
   "source": [
    "Some useful things to do with a timeseries\n",
    "- datetime objects\n",
    "- moving averages\n",
    "- detrending"
   ]
  },
  {
   "cell_type": "markdown",
   "id": "convenient-assessment",
   "metadata": {},
   "source": [
    "#### Datetime Objects in python and pandas\n",
    "\n",
    "Python has a wonderful feature called datetime objects. These are super-useful if you are dealing with any data that has a timestamp. They are a bit tricky to get used to, but worth the effort, and the alternatives are usually much more painful (trust me on this one). \n",
    "\n",
    "Documentation: \n",
    "- https://pandas.pydata.org/pandas-docs/stable/user_guide/timeseries.html\n",
    "- https://docs.python.org/3/library/datetime.html\n",
    "\n",
    "There is a lot you can do with these. Here we will just cover the basics. Dig in to the documentation if you need something specfic.\n",
    "\n",
    "Note that Victoria used these in her sample code to make movie frames for HYCOM data: https://github.com/chsharrison/IntroSciComp_S2021/blob/main/Class_materials/Hycom-CartopyDemo%20-%20updated.ipynb"
   ]
  },
  {
   "cell_type": "code",
   "execution_count": 78,
   "id": "norman-soviet",
   "metadata": {},
   "outputs": [],
   "source": [
    "from datetime import datetime, timedelta\n",
    "import pandas as pd"
   ]
  },
  {
   "cell_type": "markdown",
   "id": "political-premium",
   "metadata": {},
   "source": [
    "#### Defining a specfic date"
   ]
  },
  {
   "cell_type": "code",
   "execution_count": 79,
   "id": "mathematical-brain",
   "metadata": {},
   "outputs": [],
   "source": [
    "date1 = datetime(1996,1,1) "
   ]
  },
  {
   "cell_type": "code",
   "execution_count": 80,
   "id": "loving-vintage",
   "metadata": {},
   "outputs": [
    {
     "data": {
      "text/plain": [
       "datetime.datetime(1996, 1, 1, 0, 0)"
      ]
     },
     "execution_count": 80,
     "metadata": {},
     "output_type": "execute_result"
    }
   ],
   "source": [
    "# this is a datetime object\n",
    "date1"
   ]
  },
  {
   "cell_type": "code",
   "execution_count": 81,
   "id": "illegal-swiss",
   "metadata": {},
   "outputs": [
    {
     "name": "stdout",
     "output_type": "stream",
     "text": [
      "1996-01-01 00:00:00\n"
     ]
    }
   ],
   "source": [
    "# print out the date\n",
    "print(date1)"
   ]
  },
  {
   "cell_type": "code",
   "execution_count": 82,
   "id": "academic-dispatch",
   "metadata": {},
   "outputs": [
    {
     "data": {
      "text/plain": [
       "'01/01/1996'"
      ]
     },
     "execution_count": 82,
     "metadata": {},
     "output_type": "execute_result"
    }
   ],
   "source": [
    "# you can also format the date as a string however you like (useful for plots)\n",
    "date1.strftime(\"%m/%d/%Y\")"
   ]
  },
  {
   "cell_type": "code",
   "execution_count": 83,
   "id": "related-iraqi",
   "metadata": {},
   "outputs": [],
   "source": [
    "# defining a date with hours, minutes and seconds\n",
    "date2 = datetime(1996,1,1, 13, 34, 6) # note using 24 clock (miltary time) here"
   ]
  },
  {
   "cell_type": "code",
   "execution_count": 84,
   "id": "joined-burke",
   "metadata": {},
   "outputs": [
    {
     "name": "stdout",
     "output_type": "stream",
     "text": [
      "1996-01-01 13:34:06\n"
     ]
    }
   ],
   "source": [
    "print(date2)"
   ]
  },
  {
   "cell_type": "code",
   "execution_count": 85,
   "id": "polished-monitor",
   "metadata": {},
   "outputs": [
    {
     "data": {
      "text/plain": [
       "'01-01-1996'"
      ]
     },
     "execution_count": 85,
     "metadata": {},
     "output_type": "execute_result"
    }
   ],
   "source": [
    "#what is going to happen here?\n",
    "date2.strftime(\"%m-%d-%Y\")"
   ]
  },
  {
   "cell_type": "code",
   "execution_count": 87,
   "id": "cellular-cycling",
   "metadata": {},
   "outputs": [
    {
     "data": {
      "text/plain": [
       "datetime.datetime(2021, 4, 7, 16, 26, 6, 986705)"
      ]
     },
     "execution_count": 87,
     "metadata": {},
     "output_type": "execute_result"
    }
   ],
   "source": [
    "date1.today() #somehow it knows what timezone I am (probably from my computer)"
   ]
  },
  {
   "cell_type": "markdown",
   "id": "statistical-stress",
   "metadata": {},
   "source": [
    "#### If we want to increment the date we can use timedelta"
   ]
  },
  {
   "cell_type": "code",
   "execution_count": 88,
   "id": "sustainable-horror",
   "metadata": {},
   "outputs": [
    {
     "name": "stdout",
     "output_type": "stream",
     "text": [
      "1996-01-02 00:00:00\n"
     ]
    }
   ],
   "source": [
    "date1 = date1 + timedelta(days=1)\n",
    "print(date1)"
   ]
  },
  {
   "cell_type": "code",
   "execution_count": 89,
   "id": "cordless-hunger",
   "metadata": {},
   "outputs": [
    {
     "name": "stdout",
     "output_type": "stream",
     "text": [
      "1996-01-02 00:02:01\n"
     ]
    }
   ],
   "source": [
    "date1 = date1 + timedelta(minutes = 2, seconds=1)\n",
    "print(date1)"
   ]
  },
  {
   "cell_type": "code",
   "execution_count": 90,
   "id": "brief-sheet",
   "metadata": {},
   "outputs": [
    {
     "name": "stdout",
     "output_type": "stream",
     "text": [
      "1996-01-03 12:02:01\n"
     ]
    }
   ],
   "source": [
    "# you can also do things like add fractional days\n",
    "date1 = date1 + timedelta(days=1.5)\n",
    "print(date1)"
   ]
  },
  {
   "cell_type": "markdown",
   "id": "corresponding-perspective",
   "metadata": {},
   "source": [
    "We can find the time difference between two dates"
   ]
  },
  {
   "cell_type": "code",
   "execution_count": 91,
   "id": "promising-trust",
   "metadata": {},
   "outputs": [
    {
     "data": {
      "text/plain": [
       "datetime.timedelta(days=-2, seconds=5525)"
      ]
     },
     "execution_count": 91,
     "metadata": {},
     "output_type": "execute_result"
    }
   ],
   "source": [
    "timediff = date2-date1\n",
    "timediff"
   ]
  },
  {
   "cell_type": "markdown",
   "id": "hazardous-lobby",
   "metadata": {},
   "source": [
    "#### We can also define timeseries using pandas "
   ]
  },
  {
   "cell_type": "code",
   "execution_count": 92,
   "id": "floppy-criterion",
   "metadata": {},
   "outputs": [
    {
     "data": {
      "text/plain": [
       "\u001b[0;31mSignature:\u001b[0m\n",
       "\u001b[0mpd\u001b[0m\u001b[0;34m.\u001b[0m\u001b[0mdate_range\u001b[0m\u001b[0;34m(\u001b[0m\u001b[0;34m\u001b[0m\n",
       "\u001b[0;34m\u001b[0m    \u001b[0mstart\u001b[0m\u001b[0;34m=\u001b[0m\u001b[0;32mNone\u001b[0m\u001b[0;34m,\u001b[0m\u001b[0;34m\u001b[0m\n",
       "\u001b[0;34m\u001b[0m    \u001b[0mend\u001b[0m\u001b[0;34m=\u001b[0m\u001b[0;32mNone\u001b[0m\u001b[0;34m,\u001b[0m\u001b[0;34m\u001b[0m\n",
       "\u001b[0;34m\u001b[0m    \u001b[0mperiods\u001b[0m\u001b[0;34m=\u001b[0m\u001b[0;32mNone\u001b[0m\u001b[0;34m,\u001b[0m\u001b[0;34m\u001b[0m\n",
       "\u001b[0;34m\u001b[0m    \u001b[0mfreq\u001b[0m\u001b[0;34m=\u001b[0m\u001b[0;32mNone\u001b[0m\u001b[0;34m,\u001b[0m\u001b[0;34m\u001b[0m\n",
       "\u001b[0;34m\u001b[0m    \u001b[0mtz\u001b[0m\u001b[0;34m=\u001b[0m\u001b[0;32mNone\u001b[0m\u001b[0;34m,\u001b[0m\u001b[0;34m\u001b[0m\n",
       "\u001b[0;34m\u001b[0m    \u001b[0mnormalize\u001b[0m\u001b[0;34m=\u001b[0m\u001b[0;32mFalse\u001b[0m\u001b[0;34m,\u001b[0m\u001b[0;34m\u001b[0m\n",
       "\u001b[0;34m\u001b[0m    \u001b[0mname\u001b[0m\u001b[0;34m=\u001b[0m\u001b[0;32mNone\u001b[0m\u001b[0;34m,\u001b[0m\u001b[0;34m\u001b[0m\n",
       "\u001b[0;34m\u001b[0m    \u001b[0mclosed\u001b[0m\u001b[0;34m=\u001b[0m\u001b[0;32mNone\u001b[0m\u001b[0;34m,\u001b[0m\u001b[0;34m\u001b[0m\n",
       "\u001b[0;34m\u001b[0m    \u001b[0;34m**\u001b[0m\u001b[0mkwargs\u001b[0m\u001b[0;34m,\u001b[0m\u001b[0;34m\u001b[0m\n",
       "\u001b[0;34m\u001b[0m\u001b[0;34m)\u001b[0m \u001b[0;34m->\u001b[0m \u001b[0mpandas\u001b[0m\u001b[0;34m.\u001b[0m\u001b[0mcore\u001b[0m\u001b[0;34m.\u001b[0m\u001b[0mindexes\u001b[0m\u001b[0;34m.\u001b[0m\u001b[0mdatetimes\u001b[0m\u001b[0;34m.\u001b[0m\u001b[0mDatetimeIndex\u001b[0m\u001b[0;34m\u001b[0m\u001b[0;34m\u001b[0m\u001b[0m\n",
       "\u001b[0;31mDocstring:\u001b[0m\n",
       "Return a fixed frequency DatetimeIndex.\n",
       "\n",
       "Parameters\n",
       "----------\n",
       "start : str or datetime-like, optional\n",
       "    Left bound for generating dates.\n",
       "end : str or datetime-like, optional\n",
       "    Right bound for generating dates.\n",
       "periods : int, optional\n",
       "    Number of periods to generate.\n",
       "freq : str or DateOffset, default 'D'\n",
       "    Frequency strings can have multiples, e.g. '5H'. See\n",
       "    :ref:`here <timeseries.offset_aliases>` for a list of\n",
       "    frequency aliases.\n",
       "tz : str or tzinfo, optional\n",
       "    Time zone name for returning localized DatetimeIndex, for example\n",
       "    'Asia/Hong_Kong'. By default, the resulting DatetimeIndex is\n",
       "    timezone-naive.\n",
       "normalize : bool, default False\n",
       "    Normalize start/end dates to midnight before generating date range.\n",
       "name : str, default None\n",
       "    Name of the resulting DatetimeIndex.\n",
       "closed : {None, 'left', 'right'}, optional\n",
       "    Make the interval closed with respect to the given frequency to\n",
       "    the 'left', 'right', or both sides (None, the default).\n",
       "**kwargs\n",
       "    For compatibility. Has no effect on the result.\n",
       "\n",
       "Returns\n",
       "-------\n",
       "rng : DatetimeIndex\n",
       "\n",
       "See Also\n",
       "--------\n",
       "DatetimeIndex : An immutable container for datetimes.\n",
       "timedelta_range : Return a fixed frequency TimedeltaIndex.\n",
       "period_range : Return a fixed frequency PeriodIndex.\n",
       "interval_range : Return a fixed frequency IntervalIndex.\n",
       "\n",
       "Notes\n",
       "-----\n",
       "Of the four parameters ``start``, ``end``, ``periods``, and ``freq``,\n",
       "exactly three must be specified. If ``freq`` is omitted, the resulting\n",
       "``DatetimeIndex`` will have ``periods`` linearly spaced elements between\n",
       "``start`` and ``end`` (closed on both sides).\n",
       "\n",
       "To learn more about the frequency strings, please see `this link\n",
       "<https://pandas.pydata.org/pandas-docs/stable/user_guide/timeseries.html#offset-aliases>`__.\n",
       "\n",
       "Examples\n",
       "--------\n",
       "**Specifying the values**\n",
       "\n",
       "The next four examples generate the same `DatetimeIndex`, but vary\n",
       "the combination of `start`, `end` and `periods`.\n",
       "\n",
       "Specify `start` and `end`, with the default daily frequency.\n",
       "\n",
       ">>> pd.date_range(start='1/1/2018', end='1/08/2018')\n",
       "DatetimeIndex(['2018-01-01', '2018-01-02', '2018-01-03', '2018-01-04',\n",
       "               '2018-01-05', '2018-01-06', '2018-01-07', '2018-01-08'],\n",
       "              dtype='datetime64[ns]', freq='D')\n",
       "\n",
       "Specify `start` and `periods`, the number of periods (days).\n",
       "\n",
       ">>> pd.date_range(start='1/1/2018', periods=8)\n",
       "DatetimeIndex(['2018-01-01', '2018-01-02', '2018-01-03', '2018-01-04',\n",
       "               '2018-01-05', '2018-01-06', '2018-01-07', '2018-01-08'],\n",
       "              dtype='datetime64[ns]', freq='D')\n",
       "\n",
       "Specify `end` and `periods`, the number of periods (days).\n",
       "\n",
       ">>> pd.date_range(end='1/1/2018', periods=8)\n",
       "DatetimeIndex(['2017-12-25', '2017-12-26', '2017-12-27', '2017-12-28',\n",
       "               '2017-12-29', '2017-12-30', '2017-12-31', '2018-01-01'],\n",
       "              dtype='datetime64[ns]', freq='D')\n",
       "\n",
       "Specify `start`, `end`, and `periods`; the frequency is generated\n",
       "automatically (linearly spaced).\n",
       "\n",
       ">>> pd.date_range(start='2018-04-24', end='2018-04-27', periods=3)\n",
       "DatetimeIndex(['2018-04-24 00:00:00', '2018-04-25 12:00:00',\n",
       "               '2018-04-27 00:00:00'],\n",
       "              dtype='datetime64[ns]', freq=None)\n",
       "\n",
       "**Other Parameters**\n",
       "\n",
       "Changed the `freq` (frequency) to ``'M'`` (month end frequency).\n",
       "\n",
       ">>> pd.date_range(start='1/1/2018', periods=5, freq='M')\n",
       "DatetimeIndex(['2018-01-31', '2018-02-28', '2018-03-31', '2018-04-30',\n",
       "               '2018-05-31'],\n",
       "              dtype='datetime64[ns]', freq='M')\n",
       "\n",
       "Multiples are allowed\n",
       "\n",
       ">>> pd.date_range(start='1/1/2018', periods=5, freq='3M')\n",
       "DatetimeIndex(['2018-01-31', '2018-04-30', '2018-07-31', '2018-10-31',\n",
       "               '2019-01-31'],\n",
       "              dtype='datetime64[ns]', freq='3M')\n",
       "\n",
       "`freq` can also be specified as an Offset object.\n",
       "\n",
       ">>> pd.date_range(start='1/1/2018', periods=5, freq=pd.offsets.MonthEnd(3))\n",
       "DatetimeIndex(['2018-01-31', '2018-04-30', '2018-07-31', '2018-10-31',\n",
       "               '2019-01-31'],\n",
       "              dtype='datetime64[ns]', freq='3M')\n",
       "\n",
       "Specify `tz` to set the timezone.\n",
       "\n",
       ">>> pd.date_range(start='1/1/2018', periods=5, tz='Asia/Tokyo')\n",
       "DatetimeIndex(['2018-01-01 00:00:00+09:00', '2018-01-02 00:00:00+09:00',\n",
       "               '2018-01-03 00:00:00+09:00', '2018-01-04 00:00:00+09:00',\n",
       "               '2018-01-05 00:00:00+09:00'],\n",
       "              dtype='datetime64[ns, Asia/Tokyo]', freq='D')\n",
       "\n",
       "`closed` controls whether to include `start` and `end` that are on the\n",
       "boundary. The default includes boundary points on either end.\n",
       "\n",
       ">>> pd.date_range(start='2017-01-01', end='2017-01-04', closed=None)\n",
       "DatetimeIndex(['2017-01-01', '2017-01-02', '2017-01-03', '2017-01-04'],\n",
       "              dtype='datetime64[ns]', freq='D')\n",
       "\n",
       "Use ``closed='left'`` to exclude `end` if it falls on the boundary.\n",
       "\n",
       ">>> pd.date_range(start='2017-01-01', end='2017-01-04', closed='left')\n",
       "DatetimeIndex(['2017-01-01', '2017-01-02', '2017-01-03'],\n",
       "              dtype='datetime64[ns]', freq='D')\n",
       "\n",
       "Use ``closed='right'`` to exclude `start` if it falls on the boundary.\n",
       "\n",
       ">>> pd.date_range(start='2017-01-01', end='2017-01-04', closed='right')\n",
       "DatetimeIndex(['2017-01-02', '2017-01-03', '2017-01-04'],\n",
       "              dtype='datetime64[ns]', freq='D')\n",
       "\u001b[0;31mFile:\u001b[0m      /anaconda3/lib/python3.7/site-packages/pandas/core/indexes/datetimes.py\n",
       "\u001b[0;31mType:\u001b[0m      function\n"
      ]
     },
     "metadata": {},
     "output_type": "display_data"
    }
   ],
   "source": [
    "pd.date_range?"
   ]
  },
  {
   "cell_type": "code",
   "execution_count": 93,
   "id": "cheap-designation",
   "metadata": {},
   "outputs": [],
   "source": [
    "# note the default is daily\n",
    "my_daterange = pd.date_range(start='1/1/2018', end='1/08/2018')"
   ]
  },
  {
   "cell_type": "code",
   "execution_count": 94,
   "id": "amateur-venture",
   "metadata": {},
   "outputs": [
    {
     "data": {
      "text/plain": [
       "DatetimeIndex(['2018-01-01', '2018-01-02', '2018-01-03', '2018-01-04',\n",
       "               '2018-01-05', '2018-01-06', '2018-01-07', '2018-01-08'],\n",
       "              dtype='datetime64[ns]', freq='D')"
      ]
     },
     "execution_count": 94,
     "metadata": {},
     "output_type": "execute_result"
    }
   ],
   "source": [
    "my_daterange"
   ]
  },
  {
   "cell_type": "code",
   "execution_count": 95,
   "id": "liquid-coffee",
   "metadata": {},
   "outputs": [
    {
     "data": {
      "text/plain": [
       "Timestamp('2018-01-01 00:00:00', freq='D')"
      ]
     },
     "execution_count": 95,
     "metadata": {},
     "output_type": "execute_result"
    }
   ],
   "source": [
    "# this can be indexed like any array\n",
    "my_daterange[0]\n",
    "# note the result is a timestamp, which is similar to a datetime object, but not exactly"
   ]
  },
  {
   "cell_type": "code",
   "execution_count": 96,
   "id": "powerful-demographic",
   "metadata": {},
   "outputs": [
    {
     "name": "stdout",
     "output_type": "stream",
     "text": [
      "2018-01-02 00:00:00\n"
     ]
    }
   ],
   "source": [
    "print(my_daterange[1])"
   ]
  },
  {
   "cell_type": "code",
   "execution_count": 97,
   "id": "controlled-marking",
   "metadata": {},
   "outputs": [
    {
     "data": {
      "text/plain": [
       "Timestamp('2012-05-01 00:00:00')"
      ]
     },
     "execution_count": 97,
     "metadata": {},
     "output_type": "execute_result"
    }
   ],
   "source": [
    "# you can convert a datetime to a timestamp\n",
    "pd.Timestamp(datetime(2012, 5, 1))"
   ]
  },
  {
   "cell_type": "code",
   "execution_count": 98,
   "id": "derived-happiness",
   "metadata": {},
   "outputs": [
    {
     "data": {
      "text/plain": [
       "DatetimeIndex(['2018-01-31', '2018-02-28', '2018-03-31', '2018-04-30',\n",
       "               '2018-05-31', '2018-06-30', '2018-07-31', '2018-08-31',\n",
       "               '2018-09-30', '2018-10-31', '2018-11-30', '2018-12-31',\n",
       "               '2019-01-31', '2019-02-28', '2019-03-31', '2019-04-30',\n",
       "               '2019-05-31', '2019-06-30', '2019-07-31', '2019-08-31',\n",
       "               '2019-09-30', '2019-10-31', '2019-11-30', '2019-12-31',\n",
       "               '2020-01-31', '2020-02-29', '2020-03-31', '2020-04-30',\n",
       "               '2020-05-31', '2020-06-30', '2020-07-31', '2020-08-31',\n",
       "               '2020-09-30', '2020-10-31', '2020-11-30', '2020-12-31'],\n",
       "              dtype='datetime64[ns]', freq='M')"
      ]
     },
     "execution_count": 98,
     "metadata": {},
     "output_type": "execute_result"
    }
   ],
   "source": [
    "# we can also specfiy the frequency\n",
    "my_daterange2 = pd.date_range(start='1/1/2018',end = '1/1/2021', freq='M')\n",
    "my_daterange2"
   ]
  },
  {
   "cell_type": "markdown",
   "id": "raising-headquarters",
   "metadata": {},
   "source": [
    "See the documentation for lots more functionality"
   ]
  },
  {
   "cell_type": "code",
   "execution_count": null,
   "id": "interstate-marina",
   "metadata": {},
   "outputs": [],
   "source": []
  },
  {
   "cell_type": "markdown",
   "id": "professional-estate",
   "metadata": {},
   "source": [
    "### Working with timeseries data: global sea surface temperature (SST)"
   ]
  },
  {
   "cell_type": "markdown",
   "id": "accurate-aberdeen",
   "metadata": {},
   "source": [
    "We are going to be using some data from the epa website here: https://www.epa.gov/climate-indicators/climate-change-indicators-sea-surface-temperature"
   ]
  },
  {
   "cell_type": "markdown",
   "id": "harmful-portable",
   "metadata": {},
   "source": [
    "This is globally averaged Extended Reconstructed Sea Surface Temperature (ERSST)v.4 from NOAA, which combines satilite, ship and other in situ (in place, i.e. in the water) data. If you follow the links on the above you can get the gridded (i.e. map) product in netcdf format for the latest product (v.5). We are just going to play around with the globally averaged data"
   ]
  },
  {
   "cell_type": "code",
   "execution_count": 99,
   "id": "existing-forestry",
   "metadata": {},
   "outputs": [
    {
     "ename": "UnicodeDecodeError",
     "evalue": "'utf-8' codec can't decode byte 0xb0 in position 249: invalid start byte",
     "output_type": "error",
     "traceback": [
      "\u001b[0;31m---------------------------------------------------------------------------\u001b[0m",
      "\u001b[0;31mUnicodeDecodeError\u001b[0m                        Traceback (most recent call last)",
      "\u001b[0;32m<ipython-input-99-4dde9b4d73dd>\u001b[0m in \u001b[0;36m<module>\u001b[0;34m\u001b[0m\n\u001b[0;32m----> 1\u001b[0;31m \u001b[0msst\u001b[0m\u001b[0;34m=\u001b[0m \u001b[0mpd\u001b[0m\u001b[0;34m.\u001b[0m\u001b[0mread_csv\u001b[0m\u001b[0;34m(\u001b[0m\u001b[0;34m'https://www.epa.gov/sites/production/files/2016-08/sea-surface-temp_fig-1.csv'\u001b[0m\u001b[0;34m)\u001b[0m\u001b[0;34m\u001b[0m\u001b[0;34m\u001b[0m\u001b[0m\n\u001b[0m",
      "\u001b[0;32m/anaconda3/lib/python3.7/site-packages/pandas/io/parsers.py\u001b[0m in \u001b[0;36mread_csv\u001b[0;34m(filepath_or_buffer, sep, delimiter, header, names, index_col, usecols, squeeze, prefix, mangle_dupe_cols, dtype, engine, converters, true_values, false_values, skipinitialspace, skiprows, skipfooter, nrows, na_values, keep_default_na, na_filter, verbose, skip_blank_lines, parse_dates, infer_datetime_format, keep_date_col, date_parser, dayfirst, cache_dates, iterator, chunksize, compression, thousands, decimal, lineterminator, quotechar, quoting, doublequote, escapechar, comment, encoding, dialect, error_bad_lines, warn_bad_lines, delim_whitespace, low_memory, memory_map, float_precision, storage_options)\u001b[0m\n\u001b[1;32m    603\u001b[0m     \u001b[0mkwds\u001b[0m\u001b[0;34m.\u001b[0m\u001b[0mupdate\u001b[0m\u001b[0;34m(\u001b[0m\u001b[0mkwds_defaults\u001b[0m\u001b[0;34m)\u001b[0m\u001b[0;34m\u001b[0m\u001b[0;34m\u001b[0m\u001b[0m\n\u001b[1;32m    604\u001b[0m \u001b[0;34m\u001b[0m\u001b[0m\n\u001b[0;32m--> 605\u001b[0;31m     \u001b[0;32mreturn\u001b[0m \u001b[0m_read\u001b[0m\u001b[0;34m(\u001b[0m\u001b[0mfilepath_or_buffer\u001b[0m\u001b[0;34m,\u001b[0m \u001b[0mkwds\u001b[0m\u001b[0;34m)\u001b[0m\u001b[0;34m\u001b[0m\u001b[0;34m\u001b[0m\u001b[0m\n\u001b[0m\u001b[1;32m    606\u001b[0m \u001b[0;34m\u001b[0m\u001b[0m\n\u001b[1;32m    607\u001b[0m \u001b[0;34m\u001b[0m\u001b[0m\n",
      "\u001b[0;32m/anaconda3/lib/python3.7/site-packages/pandas/io/parsers.py\u001b[0m in \u001b[0;36m_read\u001b[0;34m(filepath_or_buffer, kwds)\u001b[0m\n\u001b[1;32m    455\u001b[0m \u001b[0;34m\u001b[0m\u001b[0m\n\u001b[1;32m    456\u001b[0m     \u001b[0;31m# Create the parser.\u001b[0m\u001b[0;34m\u001b[0m\u001b[0;34m\u001b[0m\u001b[0;34m\u001b[0m\u001b[0m\n\u001b[0;32m--> 457\u001b[0;31m     \u001b[0mparser\u001b[0m \u001b[0;34m=\u001b[0m \u001b[0mTextFileReader\u001b[0m\u001b[0;34m(\u001b[0m\u001b[0mfilepath_or_buffer\u001b[0m\u001b[0;34m,\u001b[0m \u001b[0;34m**\u001b[0m\u001b[0mkwds\u001b[0m\u001b[0;34m)\u001b[0m\u001b[0;34m\u001b[0m\u001b[0;34m\u001b[0m\u001b[0m\n\u001b[0m\u001b[1;32m    458\u001b[0m \u001b[0;34m\u001b[0m\u001b[0m\n\u001b[1;32m    459\u001b[0m     \u001b[0;32mif\u001b[0m \u001b[0mchunksize\u001b[0m \u001b[0;32mor\u001b[0m \u001b[0miterator\u001b[0m\u001b[0;34m:\u001b[0m\u001b[0;34m\u001b[0m\u001b[0;34m\u001b[0m\u001b[0m\n",
      "\u001b[0;32m/anaconda3/lib/python3.7/site-packages/pandas/io/parsers.py\u001b[0m in \u001b[0;36m__init__\u001b[0;34m(self, f, engine, **kwds)\u001b[0m\n\u001b[1;32m    812\u001b[0m             \u001b[0mself\u001b[0m\u001b[0;34m.\u001b[0m\u001b[0moptions\u001b[0m\u001b[0;34m[\u001b[0m\u001b[0;34m\"has_index_names\"\u001b[0m\u001b[0;34m]\u001b[0m \u001b[0;34m=\u001b[0m \u001b[0mkwds\u001b[0m\u001b[0;34m[\u001b[0m\u001b[0;34m\"has_index_names\"\u001b[0m\u001b[0;34m]\u001b[0m\u001b[0;34m\u001b[0m\u001b[0;34m\u001b[0m\u001b[0m\n\u001b[1;32m    813\u001b[0m \u001b[0;34m\u001b[0m\u001b[0m\n\u001b[0;32m--> 814\u001b[0;31m         \u001b[0mself\u001b[0m\u001b[0;34m.\u001b[0m\u001b[0m_engine\u001b[0m \u001b[0;34m=\u001b[0m \u001b[0mself\u001b[0m\u001b[0;34m.\u001b[0m\u001b[0m_make_engine\u001b[0m\u001b[0;34m(\u001b[0m\u001b[0mself\u001b[0m\u001b[0;34m.\u001b[0m\u001b[0mengine\u001b[0m\u001b[0;34m)\u001b[0m\u001b[0;34m\u001b[0m\u001b[0;34m\u001b[0m\u001b[0m\n\u001b[0m\u001b[1;32m    815\u001b[0m \u001b[0;34m\u001b[0m\u001b[0m\n\u001b[1;32m    816\u001b[0m     \u001b[0;32mdef\u001b[0m \u001b[0mclose\u001b[0m\u001b[0;34m(\u001b[0m\u001b[0mself\u001b[0m\u001b[0;34m)\u001b[0m\u001b[0;34m:\u001b[0m\u001b[0;34m\u001b[0m\u001b[0;34m\u001b[0m\u001b[0m\n",
      "\u001b[0;32m/anaconda3/lib/python3.7/site-packages/pandas/io/parsers.py\u001b[0m in \u001b[0;36m_make_engine\u001b[0;34m(self, engine)\u001b[0m\n\u001b[1;32m   1043\u001b[0m             )\n\u001b[1;32m   1044\u001b[0m         \u001b[0;31m# error: Too many arguments for \"ParserBase\"\u001b[0m\u001b[0;34m\u001b[0m\u001b[0;34m\u001b[0m\u001b[0;34m\u001b[0m\u001b[0m\n\u001b[0;32m-> 1045\u001b[0;31m         \u001b[0;32mreturn\u001b[0m \u001b[0mmapping\u001b[0m\u001b[0;34m[\u001b[0m\u001b[0mengine\u001b[0m\u001b[0;34m]\u001b[0m\u001b[0;34m(\u001b[0m\u001b[0mself\u001b[0m\u001b[0;34m.\u001b[0m\u001b[0mf\u001b[0m\u001b[0;34m,\u001b[0m \u001b[0;34m**\u001b[0m\u001b[0mself\u001b[0m\u001b[0;34m.\u001b[0m\u001b[0moptions\u001b[0m\u001b[0;34m)\u001b[0m  \u001b[0;31m# type: ignore[call-arg]\u001b[0m\u001b[0;34m\u001b[0m\u001b[0;34m\u001b[0m\u001b[0m\n\u001b[0m\u001b[1;32m   1046\u001b[0m \u001b[0;34m\u001b[0m\u001b[0m\n\u001b[1;32m   1047\u001b[0m     \u001b[0;32mdef\u001b[0m \u001b[0m_failover_to_python\u001b[0m\u001b[0;34m(\u001b[0m\u001b[0mself\u001b[0m\u001b[0;34m)\u001b[0m\u001b[0;34m:\u001b[0m\u001b[0;34m\u001b[0m\u001b[0;34m\u001b[0m\u001b[0m\n",
      "\u001b[0;32m/anaconda3/lib/python3.7/site-packages/pandas/io/parsers.py\u001b[0m in \u001b[0;36m__init__\u001b[0;34m(self, src, **kwds)\u001b[0m\n\u001b[1;32m   1891\u001b[0m \u001b[0;34m\u001b[0m\u001b[0m\n\u001b[1;32m   1892\u001b[0m         \u001b[0;32mtry\u001b[0m\u001b[0;34m:\u001b[0m\u001b[0;34m\u001b[0m\u001b[0;34m\u001b[0m\u001b[0m\n\u001b[0;32m-> 1893\u001b[0;31m             \u001b[0mself\u001b[0m\u001b[0;34m.\u001b[0m\u001b[0m_reader\u001b[0m \u001b[0;34m=\u001b[0m \u001b[0mparsers\u001b[0m\u001b[0;34m.\u001b[0m\u001b[0mTextReader\u001b[0m\u001b[0;34m(\u001b[0m\u001b[0mself\u001b[0m\u001b[0;34m.\u001b[0m\u001b[0mhandles\u001b[0m\u001b[0;34m.\u001b[0m\u001b[0mhandle\u001b[0m\u001b[0;34m,\u001b[0m \u001b[0;34m**\u001b[0m\u001b[0mkwds\u001b[0m\u001b[0;34m)\u001b[0m\u001b[0;34m\u001b[0m\u001b[0;34m\u001b[0m\u001b[0m\n\u001b[0m\u001b[1;32m   1894\u001b[0m         \u001b[0;32mexcept\u001b[0m \u001b[0mException\u001b[0m\u001b[0;34m:\u001b[0m\u001b[0;34m\u001b[0m\u001b[0;34m\u001b[0m\u001b[0m\n\u001b[1;32m   1895\u001b[0m             \u001b[0mself\u001b[0m\u001b[0;34m.\u001b[0m\u001b[0mhandles\u001b[0m\u001b[0;34m.\u001b[0m\u001b[0mclose\u001b[0m\u001b[0;34m(\u001b[0m\u001b[0;34m)\u001b[0m\u001b[0;34m\u001b[0m\u001b[0;34m\u001b[0m\u001b[0m\n",
      "\u001b[0;32mpandas/_libs/parsers.pyx\u001b[0m in \u001b[0;36mpandas._libs.parsers.TextReader.__cinit__\u001b[0;34m()\u001b[0m\n",
      "\u001b[0;32mpandas/_libs/parsers.pyx\u001b[0m in \u001b[0;36mpandas._libs.parsers.TextReader._get_header\u001b[0;34m()\u001b[0m\n",
      "\u001b[0;32mpandas/_libs/parsers.pyx\u001b[0m in \u001b[0;36mpandas._libs.parsers.TextReader._tokenize_rows\u001b[0;34m()\u001b[0m\n",
      "\u001b[0;32mpandas/_libs/parsers.pyx\u001b[0m in \u001b[0;36mpandas._libs.parsers.raise_parser_error\u001b[0;34m()\u001b[0m\n",
      "\u001b[0;31mUnicodeDecodeError\u001b[0m: 'utf-8' codec can't decode byte 0xb0 in position 249: invalid start byte"
     ]
    }
   ],
   "source": [
    "sst= pd.read_csv('https://www.epa.gov/sites/production/files/2016-08/sea-surface-temp_fig-1.csv')"
   ]
  },
  {
   "cell_type": "code",
   "execution_count": 100,
   "id": "wrong-community",
   "metadata": {},
   "outputs": [],
   "source": [
    "sst= pd.read_csv('https://www.epa.gov/sites/production/files/2016-08/sea-surface-temp_fig-1.csv',\n",
    "                encoding = 'latin1')"
   ]
  },
  {
   "cell_type": "code",
   "execution_count": 101,
   "id": "administrative-butter",
   "metadata": {},
   "outputs": [
    {
     "data": {
      "text/html": [
       "<div>\n",
       "<style scoped>\n",
       "    .dataframe tbody tr th:only-of-type {\n",
       "        vertical-align: middle;\n",
       "    }\n",
       "\n",
       "    .dataframe tbody tr th {\n",
       "        vertical-align: top;\n",
       "    }\n",
       "\n",
       "    .dataframe thead th {\n",
       "        text-align: right;\n",
       "    }\n",
       "</style>\n",
       "<table border=\"1\" class=\"dataframe\">\n",
       "  <thead>\n",
       "    <tr style=\"text-align: right;\">\n",
       "      <th></th>\n",
       "      <th>Figure 1. Average Global Sea Surface Temperature, 1880-2015</th>\n",
       "      <th>Unnamed: 1</th>\n",
       "      <th>Unnamed: 2</th>\n",
       "      <th>Unnamed: 3</th>\n",
       "    </tr>\n",
       "  </thead>\n",
       "  <tbody>\n",
       "    <tr>\n",
       "      <th>0</th>\n",
       "      <td>Source: EPA's Climate Change Indicators in the...</td>\n",
       "      <td>NaN</td>\n",
       "      <td>NaN</td>\n",
       "      <td>NaN</td>\n",
       "    </tr>\n",
       "    <tr>\n",
       "      <th>1</th>\n",
       "      <td>Data source: NOAA, 2016</td>\n",
       "      <td>NaN</td>\n",
       "      <td>NaN</td>\n",
       "      <td>NaN</td>\n",
       "    </tr>\n",
       "    <tr>\n",
       "      <th>2</th>\n",
       "      <td>Web update: August 2016</td>\n",
       "      <td>NaN</td>\n",
       "      <td>NaN</td>\n",
       "      <td>NaN</td>\n",
       "    </tr>\n",
       "    <tr>\n",
       "      <th>3</th>\n",
       "      <td>Units: temperature anomaly (°F)</td>\n",
       "      <td>NaN</td>\n",
       "      <td>NaN</td>\n",
       "      <td>NaN</td>\n",
       "    </tr>\n",
       "    <tr>\n",
       "      <th>4</th>\n",
       "      <td>NaN</td>\n",
       "      <td>NaN</td>\n",
       "      <td>NaN</td>\n",
       "      <td>NaN</td>\n",
       "    </tr>\n",
       "    <tr>\n",
       "      <th>...</th>\n",
       "      <td>...</td>\n",
       "      <td>...</td>\n",
       "      <td>...</td>\n",
       "      <td>...</td>\n",
       "    </tr>\n",
       "    <tr>\n",
       "      <th>137</th>\n",
       "      <td>2011</td>\n",
       "      <td>0.4286736</td>\n",
       "      <td>0.13328918</td>\n",
       "      <td>0.72405802</td>\n",
       "    </tr>\n",
       "    <tr>\n",
       "      <th>138</th>\n",
       "      <td>2012</td>\n",
       "      <td>0.528696</td>\n",
       "      <td>0.232869466</td>\n",
       "      <td>0.824522534</td>\n",
       "    </tr>\n",
       "    <tr>\n",
       "      <th>139</th>\n",
       "      <td>2013</td>\n",
       "      <td>0.5846742</td>\n",
       "      <td>0.28922658</td>\n",
       "      <td>0.88012182</td>\n",
       "    </tr>\n",
       "    <tr>\n",
       "      <th>140</th>\n",
       "      <td>2014</td>\n",
       "      <td>0.7512552</td>\n",
       "      <td>0.45580758</td>\n",
       "      <td>1.04670282</td>\n",
       "    </tr>\n",
       "    <tr>\n",
       "      <th>141</th>\n",
       "      <td>2015</td>\n",
       "      <td>0.935577</td>\n",
       "      <td>0.64012938</td>\n",
       "      <td>1.23102462</td>\n",
       "    </tr>\n",
       "  </tbody>\n",
       "</table>\n",
       "<p>142 rows × 4 columns</p>\n",
       "</div>"
      ],
      "text/plain": [
       "    Figure 1. Average Global Sea Surface Temperature, 1880-2015 Unnamed: 1  \\\n",
       "0    Source: EPA's Climate Change Indicators in the...                 NaN   \n",
       "1                              Data source: NOAA, 2016                 NaN   \n",
       "2                              Web update: August 2016                 NaN   \n",
       "3                      Units: temperature anomaly (°F)                 NaN   \n",
       "4                                                  NaN                 NaN   \n",
       "..                                                 ...                 ...   \n",
       "137                                               2011           0.4286736   \n",
       "138                                               2012            0.528696   \n",
       "139                                               2013           0.5846742   \n",
       "140                                               2014           0.7512552   \n",
       "141                                               2015            0.935577   \n",
       "\n",
       "      Unnamed: 2   Unnamed: 3  \n",
       "0            NaN          NaN  \n",
       "1            NaN          NaN  \n",
       "2            NaN          NaN  \n",
       "3            NaN          NaN  \n",
       "4            NaN          NaN  \n",
       "..           ...          ...  \n",
       "137   0.13328918   0.72405802  \n",
       "138  0.232869466  0.824522534  \n",
       "139   0.28922658   0.88012182  \n",
       "140   0.45580758   1.04670282  \n",
       "141   0.64012938   1.23102462  \n",
       "\n",
       "[142 rows x 4 columns]"
      ]
     },
     "execution_count": 101,
     "metadata": {},
     "output_type": "execute_result"
    }
   ],
   "source": [
    "sst"
   ]
  },
  {
   "cell_type": "code",
   "execution_count": 102,
   "id": "joint-lodging",
   "metadata": {},
   "outputs": [],
   "source": [
    "sst= pd.read_csv('https://www.epa.gov/sites/production/files/2016-08/sea-surface-temp_fig-1.csv',\n",
    "                 index_col = 0, # this makes the year the index\n",
    "                  header = 6,\n",
    "                 #skiprows = [0,1,2,3,4,5], # this works too, need to skip all the comments\n",
    "                 encoding ='latin1' # had to do this to get it to work, thanks stack exchange\n",
    "                )"
   ]
  },
  {
   "cell_type": "code",
   "execution_count": 103,
   "id": "retired-scholar",
   "metadata": {},
   "outputs": [
    {
     "data": {
      "text/html": [
       "<div>\n",
       "<style scoped>\n",
       "    .dataframe tbody tr th:only-of-type {\n",
       "        vertical-align: middle;\n",
       "    }\n",
       "\n",
       "    .dataframe tbody tr th {\n",
       "        vertical-align: top;\n",
       "    }\n",
       "\n",
       "    .dataframe thead th {\n",
       "        text-align: right;\n",
       "    }\n",
       "</style>\n",
       "<table border=\"1\" class=\"dataframe\">\n",
       "  <thead>\n",
       "    <tr style=\"text-align: right;\">\n",
       "      <th></th>\n",
       "      <th>Annual anomaly</th>\n",
       "      <th>Lower 95% confidence interval</th>\n",
       "      <th>Upper 95% confidence interval</th>\n",
       "    </tr>\n",
       "    <tr>\n",
       "      <th>Year</th>\n",
       "      <th></th>\n",
       "      <th></th>\n",
       "      <th></th>\n",
       "    </tr>\n",
       "  </thead>\n",
       "  <tbody>\n",
       "    <tr>\n",
       "      <th>1880</th>\n",
       "      <td>-0.470009</td>\n",
       "      <td>-0.672646</td>\n",
       "      <td>-0.267371</td>\n",
       "    </tr>\n",
       "    <tr>\n",
       "      <th>1881</th>\n",
       "      <td>-0.356879</td>\n",
       "      <td>-0.560588</td>\n",
       "      <td>-0.153169</td>\n",
       "    </tr>\n",
       "    <tr>\n",
       "      <th>1882</th>\n",
       "      <td>-0.372661</td>\n",
       "      <td>-0.575728</td>\n",
       "      <td>-0.169594</td>\n",
       "    </tr>\n",
       "    <tr>\n",
       "      <th>1883</th>\n",
       "      <td>-0.448443</td>\n",
       "      <td>-0.650804</td>\n",
       "      <td>-0.246082</td>\n",
       "    </tr>\n",
       "    <tr>\n",
       "      <th>1884</th>\n",
       "      <td>-0.589754</td>\n",
       "      <td>-0.790478</td>\n",
       "      <td>-0.389030</td>\n",
       "    </tr>\n",
       "    <tr>\n",
       "      <th>...</th>\n",
       "      <td>...</td>\n",
       "      <td>...</td>\n",
       "      <td>...</td>\n",
       "    </tr>\n",
       "    <tr>\n",
       "      <th>2011</th>\n",
       "      <td>0.428674</td>\n",
       "      <td>0.133289</td>\n",
       "      <td>0.724058</td>\n",
       "    </tr>\n",
       "    <tr>\n",
       "      <th>2012</th>\n",
       "      <td>0.528696</td>\n",
       "      <td>0.232869</td>\n",
       "      <td>0.824523</td>\n",
       "    </tr>\n",
       "    <tr>\n",
       "      <th>2013</th>\n",
       "      <td>0.584674</td>\n",
       "      <td>0.289227</td>\n",
       "      <td>0.880122</td>\n",
       "    </tr>\n",
       "    <tr>\n",
       "      <th>2014</th>\n",
       "      <td>0.751255</td>\n",
       "      <td>0.455808</td>\n",
       "      <td>1.046703</td>\n",
       "    </tr>\n",
       "    <tr>\n",
       "      <th>2015</th>\n",
       "      <td>0.935577</td>\n",
       "      <td>0.640129</td>\n",
       "      <td>1.231025</td>\n",
       "    </tr>\n",
       "  </tbody>\n",
       "</table>\n",
       "<p>136 rows × 3 columns</p>\n",
       "</div>"
      ],
      "text/plain": [
       "      Annual anomaly  Lower 95% confidence interval  \\\n",
       "Year                                                  \n",
       "1880       -0.470009                      -0.672646   \n",
       "1881       -0.356879                      -0.560588   \n",
       "1882       -0.372661                      -0.575728   \n",
       "1883       -0.448443                      -0.650804   \n",
       "1884       -0.589754                      -0.790478   \n",
       "...              ...                            ...   \n",
       "2011        0.428674                       0.133289   \n",
       "2012        0.528696                       0.232869   \n",
       "2013        0.584674                       0.289227   \n",
       "2014        0.751255                       0.455808   \n",
       "2015        0.935577                       0.640129   \n",
       "\n",
       "      Upper 95% confidence interval  \n",
       "Year                                 \n",
       "1880                      -0.267371  \n",
       "1881                      -0.153169  \n",
       "1882                      -0.169594  \n",
       "1883                      -0.246082  \n",
       "1884                      -0.389030  \n",
       "...                             ...  \n",
       "2011                       0.724058  \n",
       "2012                       0.824523  \n",
       "2013                       0.880122  \n",
       "2014                       1.046703  \n",
       "2015                       1.231025  \n",
       "\n",
       "[136 rows x 3 columns]"
      ]
     },
     "execution_count": 103,
     "metadata": {},
     "output_type": "execute_result"
    }
   ],
   "source": [
    "sst"
   ]
  },
  {
   "cell_type": "code",
   "execution_count": 104,
   "id": "signed-kingston",
   "metadata": {},
   "outputs": [
    {
     "data": {
      "text/plain": [
       "<AxesSubplot:xlabel='Year'>"
      ]
     },
     "execution_count": 104,
     "metadata": {},
     "output_type": "execute_result"
    },
    {
     "data": {
      "image/png": "[encoded data removed]",
      "text/plain": [
       "<Figure size 936x432 with 1 Axes>"
      ]
     },
     "metadata": {
      "needs_background": "light"
     },
     "output_type": "display_data"
    }
   ],
   "source": [
    "sst.plot()"
   ]
  },
  {
   "cell_type": "code",
   "execution_count": 105,
   "id": "raising-transcript",
   "metadata": {},
   "outputs": [],
   "source": [
    "#Set plotting formats\n",
    "import matplotlib as mpl\n",
    "mpl.rcParams['figure.figsize'] = [13.0, 6.0]\n",
    "mpl.rcParams['font.size'] = 16\n",
    "mpl.rcParams['legend.fontsize'] = 'medium'\n",
    "mpl.rcParams['figure.titlesize'] = 'medium'\n",
    "mpl.rcParams['lines.linewidth'] = 2.0"
   ]
  },
  {
   "cell_type": "code",
   "execution_count": 106,
   "id": "elegant-bacon",
   "metadata": {},
   "outputs": [
    {
     "data": {
      "text/plain": [
       "<AxesSubplot:xlabel='Year'>"
      ]
     },
     "execution_count": 106,
     "metadata": {},
     "output_type": "execute_result"
    },
    {
     "data": {
      "image/png": "[encoded data removed]",
      "text/plain": [
       "<Figure size 936x432 with 1 Axes>"
      ]
     },
     "metadata": {
      "needs_background": "light"
     },
     "output_type": "display_data"
    }
   ],
   "source": [
    "sst.plot()"
   ]
  },
  {
   "cell_type": "markdown",
   "id": "severe-davis",
   "metadata": {},
   "source": [
    "1850 is usually considered the beginning of the industrial revolution, so before human affected climate by burning fossil fuels (but we did major land use changes and had impacts on many species' extinctions)\n",
    "\n",
    "There is a definate trend in the data, with a big excursion in the 1940s\n",
    "\n",
    "Let's ask some research questions. We will start these in lecture and you will finish them in lab:\n",
    "- What is the trend in this data, that is how fast is SST increasing with time? \n",
    "- If we choose a different window for the trend analysis, how does this affect the answer?\n",
    "- What causes all the interannual variablilty? If we detrend the data how does it look? Can we compare this with climate variabiltiy indices?\n",
    "- What happened in the 1940s?\n",
    "\n",
    "see: https://www.newscientist.com/article/dn11639-climate-myths-the-cooling-after-1940-shows-co2-does-not-cause-warming/"
   ]
  },
  {
   "cell_type": "markdown",
   "id": "charitable-burden",
   "metadata": {},
   "source": [
    "I am much more comfortable doing data analysis in xarray so I'm converting the pandas dataframe to an xarray dataset"
   ]
  },
  {
   "cell_type": "code",
   "execution_count": 107,
   "id": "subsequent-tokyo",
   "metadata": {},
   "outputs": [],
   "source": [
    "import xarray as xr"
   ]
  },
  {
   "cell_type": "code",
   "execution_count": 108,
   "id": "surprised-seeker",
   "metadata": {},
   "outputs": [],
   "source": [
    "sst_ds = sst.to_xarray()"
   ]
  },
  {
   "cell_type": "code",
   "execution_count": 109,
   "id": "prepared-purse",
   "metadata": {},
   "outputs": [
    {
     "data": {
      "text/html": [
       "<div><svg style=\"position: absolute; width: 0; height: 0; overflow: hidden\">\n",
       "<defs>\n",
       "<symbol id=\"icon-database\" viewBox=\"0 0 32 32\">\n",
       "<path d=\"M16 0c-8.837 0-16 2.239-16 5v4c0 2.761 7.163 5 16 5s16-2.239 16-5v-4c0-2.761-7.163-5-16-5z\"></path>\n",
       "<path d=\"M16 17c-8.837 0-16-2.239-16-5v6c0 2.761 7.163 5 16 5s16-2.239 16-5v-6c0 2.761-7.163 5-16 5z\"></path>\n",
       "<path d=\"M16 26c-8.837 0-16-2.239-16-5v6c0 2.761 7.163 5 16 5s16-2.239 16-5v-6c0 2.761-7.163 5-16 5z\"></path>\n",
       "</symbol>\n",
       "<symbol id=\"icon-file-text2\" viewBox=\"0 0 32 32\">\n",
       "<path d=\"M28.681 7.159c-0.694-0.947-1.662-2.053-2.724-3.116s-2.169-2.030-3.116-2.724c-1.612-1.182-2.393-1.319-2.841-1.319h-15.5c-1.378 0-2.5 1.121-2.5 2.5v27c0 1.378 1.122 2.5 2.5 2.5h23c1.378 0 2.5-1.122 2.5-2.5v-19.5c0-0.448-0.137-1.23-1.319-2.841zM24.543 5.457c0.959 0.959 1.712 1.825 2.268 2.543h-4.811v-4.811c0.718 0.556 1.584 1.309 2.543 2.268zM28 29.5c0 0.271-0.229 0.5-0.5 0.5h-23c-0.271 0-0.5-0.229-0.5-0.5v-27c0-0.271 0.229-0.5 0.5-0.5 0 0 15.499-0 15.5 0v7c0 0.552 0.448 1 1 1h7v19.5z\"></path>\n",
       "<path d=\"M23 26h-14c-0.552 0-1-0.448-1-1s0.448-1 1-1h14c0.552 0 1 0.448 1 1s-0.448 1-1 1z\"></path>\n",
       "<path d=\"M23 22h-14c-0.552 0-1-0.448-1-1s0.448-1 1-1h14c0.552 0 1 0.448 1 1s-0.448 1-1 1z\"></path>\n",
       "<path d=\"M23 18h-14c-0.552 0-1-0.448-1-1s0.448-1 1-1h14c0.552 0 1 0.448 1 1s-0.448 1-1 1z\"></path>\n",
       "</symbol>\n",
       "</defs>\n",
       "</svg>\n",
       "<style>/* CSS stylesheet for displaying xarray objects in jupyterlab.\n",
       " *\n",
       " */\n",
       "\n",
       ":root {\n",
       "  --xr-font-color0: var(--jp-content-font-color0, rgba(0, 0, 0, 1));\n",
       "  --xr-font-color2: var(--jp-content-font-color2, rgba(0, 0, 0, 0.54));\n",
       "  --xr-font-color3: var(--jp-content-font-color3, rgba(0, 0, 0, 0.38));\n",
       "  --xr-border-color: var(--jp-border-color2, #e0e0e0);\n",
       "  --xr-disabled-color: var(--jp-layout-color3, #bdbdbd);\n",
       "  --xr-background-color: var(--jp-layout-color0, white);\n",
       "  --xr-background-color-row-even: var(--jp-layout-color1, white);\n",
       "  --xr-background-color-row-odd: var(--jp-layout-color2, #eeeeee);\n",
       "}\n",
       "\n",
       "html[theme=dark],\n",
       "body.vscode-dark {\n",
       "  --xr-font-color0: rgba(255, 255, 255, 1);\n",
       "  --xr-font-color2: rgba(255, 255, 255, 0.54);\n",
       "  --xr-font-color3: rgba(255, 255, 255, 0.38);\n",
       "  --xr-border-color: #1F1F1F;\n",
       "  --xr-disabled-color: #515151;\n",
       "  --xr-background-color: #111111;\n",
       "  --xr-background-color-row-even: #111111;\n",
       "  --xr-background-color-row-odd: #313131;\n",
       "}\n",
       "\n",
       ".xr-wrap {\n",
       "  display: block;\n",
       "  min-width: 300px;\n",
       "  max-width: 700px;\n",
       "}\n",
       "\n",
       ".xr-text-repr-fallback {\n",
       "  /* fallback to plain text repr when CSS is not injected (untrusted notebook) */\n",
       "  display: none;\n",
       "}\n",
       "\n",
       ".xr-header {\n",
       "  padding-top: 6px;\n",
       "  padding-bottom: 6px;\n",
       "  margin-bottom: 4px;\n",
       "  border-bottom: solid 1px var(--xr-border-color);\n",
       "}\n",
       "\n",
       ".xr-header > div,\n",
       ".xr-header > ul {\n",
       "  display: inline;\n",
       "  margin-top: 0;\n",
       "  margin-bottom: 0;\n",
       "}\n",
       "\n",
       ".xr-obj-type,\n",
       ".xr-array-name {\n",
       "  margin-left: 2px;\n",
       "  margin-right: 10px;\n",
       "}\n",
       "\n",
       ".xr-obj-type {\n",
       "  color: var(--xr-font-color2);\n",
       "}\n",
       "\n",
       ".xr-sections {\n",
       "  padding-left: 0 !important;\n",
       "  display: grid;\n",
       "  grid-template-columns: 150px auto auto 1fr 20px 20px;\n",
       "}\n",
       "\n",
       ".xr-section-item {\n",
       "  display: contents;\n",
       "}\n",
       "\n",
       ".xr-section-item input {\n",
       "  display: none;\n",
       "}\n",
       "\n",
       ".xr-section-item input + label {\n",
       "  color: var(--xr-disabled-color);\n",
       "}\n",
       "\n",
       ".xr-section-item input:enabled + label {\n",
       "  cursor: pointer;\n",
       "  color: var(--xr-font-color2);\n",
       "}\n",
       "\n",
       ".xr-section-item input:enabled + label:hover {\n",
       "  color: var(--xr-font-color0);\n",
       "}\n",
       "\n",
       ".xr-section-summary {\n",
       "  grid-column: 1;\n",
       "  color: var(--xr-font-color2);\n",
       "  font-weight: 500;\n",
       "}\n",
       "\n",
       ".xr-section-summary > span {\n",
       "  display: inline-block;\n",
       "  padding-left: 0.5em;\n",
       "}\n",
       "\n",
       ".xr-section-summary-in:disabled + label {\n",
       "  color: var(--xr-font-color2);\n",
       "}\n",
       "\n",
       ".xr-section-summary-in + label:before {\n",
       "  display: inline-block;\n",
       "  content: '►';\n",
       "  font-size: 11px;\n",
       "  width: 15px;\n",
       "  text-align: center;\n",
       "}\n",
       "\n",
       ".xr-section-summary-in:disabled + label:before {\n",
       "  color: var(--xr-disabled-color);\n",
       "}\n",
       "\n",
       ".xr-section-summary-in:checked + label:before {\n",
       "  content: '▼';\n",
       "}\n",
       "\n",
       ".xr-section-summary-in:checked + label > span {\n",
       "  display: none;\n",
       "}\n",
       "\n",
       ".xr-section-summary,\n",
       ".xr-section-inline-details {\n",
       "  padding-top: 4px;\n",
       "  padding-bottom: 4px;\n",
       "}\n",
       "\n",
       ".xr-section-inline-details {\n",
       "  grid-column: 2 / -1;\n",
       "}\n",
       "\n",
       ".xr-section-details {\n",
       "  display: none;\n",
       "  grid-column: 1 / -1;\n",
       "  margin-bottom: 5px;\n",
       "}\n",
       "\n",
       ".xr-section-summary-in:checked ~ .xr-section-details {\n",
       "  display: contents;\n",
       "}\n",
       "\n",
       ".xr-array-wrap {\n",
       "  grid-column: 1 / -1;\n",
       "  display: grid;\n",
       "  grid-template-columns: 20px auto;\n",
       "}\n",
       "\n",
       ".xr-array-wrap > label {\n",
       "  grid-column: 1;\n",
       "  vertical-align: top;\n",
       "}\n",
       "\n",
       ".xr-preview {\n",
       "  color: var(--xr-font-color3);\n",
       "}\n",
       "\n",
       ".xr-array-preview,\n",
       ".xr-array-data {\n",
       "  padding: 0 5px !important;\n",
       "  grid-column: 2;\n",
       "}\n",
       "\n",
       ".xr-array-data,\n",
       ".xr-array-in:checked ~ .xr-array-preview {\n",
       "  display: none;\n",
       "}\n",
       "\n",
       ".xr-array-in:checked ~ .xr-array-data,\n",
       ".xr-array-preview {\n",
       "  display: inline-block;\n",
       "}\n",
       "\n",
       ".xr-dim-list {\n",
       "  display: inline-block !important;\n",
       "  list-style: none;\n",
       "  padding: 0 !important;\n",
       "  margin: 0;\n",
       "}\n",
       "\n",
       ".xr-dim-list li {\n",
       "  display: inline-block;\n",
       "  padding: 0;\n",
       "  margin: 0;\n",
       "}\n",
       "\n",
       ".xr-dim-list:before {\n",
       "  content: '(';\n",
       "}\n",
       "\n",
       ".xr-dim-list:after {\n",
       "  content: ')';\n",
       "}\n",
       "\n",
       ".xr-dim-list li:not(:last-child):after {\n",
       "  content: ',';\n",
       "  padding-right: 5px;\n",
       "}\n",
       "\n",
       ".xr-has-index {\n",
       "  font-weight: bold;\n",
       "}\n",
       "\n",
       ".xr-var-list,\n",
       ".xr-var-item {\n",
       "  display: contents;\n",
       "}\n",
       "\n",
       ".xr-var-item > div,\n",
       ".xr-var-item label,\n",
       ".xr-var-item > .xr-var-name span {\n",
       "  background-color: var(--xr-background-color-row-even);\n",
       "  margin-bottom: 0;\n",
       "}\n",
       "\n",
       ".xr-var-item > .xr-var-name:hover span {\n",
       "  padding-right: 5px;\n",
       "}\n",
       "\n",
       ".xr-var-list > li:nth-child(odd) > div,\n",
       ".xr-var-list > li:nth-child(odd) > label,\n",
       ".xr-var-list > li:nth-child(odd) > .xr-var-name span {\n",
       "  background-color: var(--xr-background-color-row-odd);\n",
       "}\n",
       "\n",
       ".xr-var-name {\n",
       "  grid-column: 1;\n",
       "}\n",
       "\n",
       ".xr-var-dims {\n",
       "  grid-column: 2;\n",
       "}\n",
       "\n",
       ".xr-var-dtype {\n",
       "  grid-column: 3;\n",
       "  text-align: right;\n",
       "  color: var(--xr-font-color2);\n",
       "}\n",
       "\n",
       ".xr-var-preview {\n",
       "  grid-column: 4;\n",
       "}\n",
       "\n",
       ".xr-var-name,\n",
       ".xr-var-dims,\n",
       ".xr-var-dtype,\n",
       ".xr-preview,\n",
       ".xr-attrs dt {\n",
       "  white-space: nowrap;\n",
       "  overflow: hidden;\n",
       "  text-overflow: ellipsis;\n",
       "  padding-right: 10px;\n",
       "}\n",
       "\n",
       ".xr-var-name:hover,\n",
       ".xr-var-dims:hover,\n",
       ".xr-var-dtype:hover,\n",
       ".xr-attrs dt:hover {\n",
       "  overflow: visible;\n",
       "  width: auto;\n",
       "  z-index: 1;\n",
       "}\n",
       "\n",
       ".xr-var-attrs,\n",
       ".xr-var-data {\n",
       "  display: none;\n",
       "  background-color: var(--xr-background-color) !important;\n",
       "  padding-bottom: 5px !important;\n",
       "}\n",
       "\n",
       ".xr-var-attrs-in:checked ~ .xr-var-attrs,\n",
       ".xr-var-data-in:checked ~ .xr-var-data {\n",
       "  display: block;\n",
       "}\n",
       "\n",
       ".xr-var-data > table {\n",
       "  float: right;\n",
       "}\n",
       "\n",
       ".xr-var-name span,\n",
       ".xr-var-data,\n",
       ".xr-attrs {\n",
       "  padding-left: 25px !important;\n",
       "}\n",
       "\n",
       ".xr-attrs,\n",
       ".xr-var-attrs,\n",
       ".xr-var-data {\n",
       "  grid-column: 1 / -1;\n",
       "}\n",
       "\n",
       "dl.xr-attrs {\n",
       "  padding: 0;\n",
       "  margin: 0;\n",
       "  display: grid;\n",
       "  grid-template-columns: 125px auto;\n",
       "}\n",
       "\n",
       ".xr-attrs dt, dd {\n",
       "  padding: 0;\n",
       "  margin: 0;\n",
       "  float: left;\n",
       "  padding-right: 10px;\n",
       "  width: auto;\n",
       "}\n",
       "\n",
       ".xr-attrs dt {\n",
       "  font-weight: normal;\n",
       "  grid-column: 1;\n",
       "}\n",
       "\n",
       ".xr-attrs dt:hover span {\n",
       "  display: inline-block;\n",
       "  background: var(--xr-background-color);\n",
       "  padding-right: 10px;\n",
       "}\n",
       "\n",
       ".xr-attrs dd {\n",
       "  grid-column: 2;\n",
       "  white-space: pre-wrap;\n",
       "  word-break: break-all;\n",
       "}\n",
       "\n",
       ".xr-icon-database,\n",
       ".xr-icon-file-text2 {\n",
       "  display: inline-block;\n",
       "  vertical-align: middle;\n",
       "  width: 1em;\n",
       "  height: 1.5em !important;\n",
       "  stroke-width: 0;\n",
       "  stroke: currentColor;\n",
       "  fill: currentColor;\n",
       "}\n",
       "</style><pre class='xr-text-repr-fallback'>&lt;xarray.Dataset&gt;\n",
       "Dimensions:                        (Year: 136)\n",
       "Coordinates:\n",
       "  * Year                           (Year) int64 1880 1881 1882 ... 2014 2015\n",
       "Data variables:\n",
       "    Annual anomaly                 (Year) float64 -0.47 -0.3569 ... 0.9356\n",
       "    Lower 95% confidence interval  (Year) float64 -0.6726 -0.5606 ... 0.6401\n",
       "    Upper 95% confidence interval  (Year) float64 -0.2674 -0.1532 ... 1.231</pre><div class='xr-wrap' hidden><div class='xr-header'><div class='xr-obj-type'>xarray.Dataset</div></div><ul class='xr-sections'><li class='xr-section-item'><input id='section-3e905b18-07f9-48e2-bf60-232ff447f4cb' class='xr-section-summary-in' type='checkbox' disabled ><label for='section-3e905b18-07f9-48e2-bf60-232ff447f4cb' class='xr-section-summary'  title='Expand/collapse section'>Dimensions:</label><div class='xr-section-inline-details'><ul class='xr-dim-list'><li><span class='xr-has-index'>Year</span>: 136</li></ul></div><div class='xr-section-details'></div></li><li class='xr-section-item'><input id='section-9bdc6d82-a394-45fe-b3b3-e99f66a8b214' class='xr-section-summary-in' type='checkbox'  checked><label for='section-9bdc6d82-a394-45fe-b3b3-e99f66a8b214' class='xr-section-summary' >Coordinates: <span>(1)</span></label><div class='xr-section-inline-details'></div><div class='xr-section-details'><ul class='xr-var-list'><li class='xr-var-item'><div class='xr-var-name'><span class='xr-has-index'>Year</span></div><div class='xr-var-dims'>(Year)</div><div class='xr-var-dtype'>int64</div><div class='xr-var-preview xr-preview'>1880 1881 1882 ... 2013 2014 2015</div><input id='attrs-48203f74-4cf1-44dd-b4b0-30ded0af67db' class='xr-var-attrs-in' type='checkbox' disabled><label for='attrs-48203f74-4cf1-44dd-b4b0-30ded0af67db' title='Show/Hide attributes'><svg class='icon xr-icon-file-text2'><use xlink:href='#icon-file-text2'></use></svg></label><input id='data-3c27e929-c7c5-4288-a4f6-9cde1a6f066e' class='xr-var-data-in' type='checkbox'><label for='data-3c27e929-c7c5-4288-a4f6-9cde1a6f066e' title='Show/Hide data repr'><svg class='icon xr-icon-database'><use xlink:href='#icon-database'></use></svg></label><div class='xr-var-attrs'><dl class='xr-attrs'></dl></div><div class='xr-var-data'><pre>array([1880, 1881, 1882, 1883, 1884, 1885, 1886, 1887, 1888, 1889, 1890, 1891,\n",
       "       1892, 1893, 1894, 1895, 1896, 1897, 1898, 1899, 1900, 1901, 1902, 1903,\n",
       "       1904, 1905, 1906, 1907, 1908, 1909, 1910, 1911, 1912, 1913, 1914, 1915,\n",
       "       1916, 1917, 1918, 1919, 1920, 1921, 1922, 1923, 1924, 1925, 1926, 1927,\n",
       "       1928, 1929, 1930, 1931, 1932, 1933, 1934, 1935, 1936, 1937, 1938, 1939,\n",
       "       1940, 1941, 1942, 1943, 1944, 1945, 1946, 1947, 1948, 1949, 1950, 1951,\n",
       "       1952, 1953, 1954, 1955, 1956, 1957, 1958, 1959, 1960, 1961, 1962, 1963,\n",
       "       1964, 1965, 1966, 1967, 1968, 1969, 1970, 1971, 1972, 1973, 1974, 1975,\n",
       "       1976, 1977, 1978, 1979, 1980, 1981, 1982, 1983, 1984, 1985, 1986, 1987,\n",
       "       1988, 1989, 1990, 1991, 1992, 1993, 1994, 1995, 1996, 1997, 1998, 1999,\n",
       "       2000, 2001, 2002, 2003, 2004, 2005, 2006, 2007, 2008, 2009, 2010, 2011,\n",
       "       2012, 2013, 2014, 2015])</pre></div></li></ul></div></li><li class='xr-section-item'><input id='section-05ab8c44-aaf5-4885-8f1d-b4eb15f108d5' class='xr-section-summary-in' type='checkbox'  checked><label for='section-05ab8c44-aaf5-4885-8f1d-b4eb15f108d5' class='xr-section-summary' >Data variables: <span>(3)</span></label><div class='xr-section-inline-details'></div><div class='xr-section-details'><ul class='xr-var-list'><li class='xr-var-item'><div class='xr-var-name'><span>Annual anomaly</span></div><div class='xr-var-dims'>(Year)</div><div class='xr-var-dtype'>float64</div><div class='xr-var-preview xr-preview'>-0.47 -0.3569 ... 0.7513 0.9356</div><input id='attrs-9a40d026-b65f-47e9-8224-201655f0c1c5' class='xr-var-attrs-in' type='checkbox' disabled><label for='attrs-9a40d026-b65f-47e9-8224-201655f0c1c5' title='Show/Hide attributes'><svg class='icon xr-icon-file-text2'><use xlink:href='#icon-file-text2'></use></svg></label><input id='data-f77406d2-c6ae-4e40-9431-028c1d442dc4' class='xr-var-data-in' type='checkbox'><label for='data-f77406d2-c6ae-4e40-9431-028c1d442dc4' title='Show/Hide data repr'><svg class='icon xr-icon-database'><use xlink:href='#icon-database'></use></svg></label><div class='xr-var-attrs'><dl class='xr-attrs'></dl></div><div class='xr-var-data'><pre>array([-0.4700088, -0.3568788, -0.3726612, -0.448443 , -0.5897538,\n",
       "       -0.6636546, -0.6439392, -0.7616232, -0.5166342, -0.4717926,\n",
       "       -0.8875836, -0.6603264, -0.8173098, -0.8148276, -0.84978  ,\n",
       "       -0.6772536, -0.4412844, -0.4894326, -0.78255  , -0.578736 ,\n",
       "       -0.4833054, -0.6831072, -0.7883226, -0.9732618, -1.123038 ,\n",
       "       -0.8347986, -0.795843 , -0.917685 , -1.160703 , -1.189773 ,\n",
       "       -1.112769 , -1.1706066, -0.8718498, -0.9557658, -0.6931926,\n",
       "       -0.5274864, -0.8644752, -0.7996338, -0.6306858, -0.6633414,\n",
       "       -0.7196544, -0.7222464, -0.8093034, -0.7910208, -0.8465382,\n",
       "       -0.6946722, -0.554238 , -0.6640884, -0.7589772, -0.8502282,\n",
       "       -0.5835816, -0.5537106, -0.683568 , -0.7777674, -0.6447312,\n",
       "       -0.6452784, -0.5988258, -0.4155462, -0.5834772, -0.4924098,\n",
       "       -0.1797678,  0.0471582, -0.0406296, -0.039807 ,  0.2180826,\n",
       "        0.157752 , -0.3853548, -0.5579568, -0.5477346, -0.4941792,\n",
       "       -0.5531796, -0.368496 , -0.2612952, -0.2661372, -0.5613282,\n",
       "       -0.632412 , -0.5871312, -0.2226618, -0.1943208, -0.2735424,\n",
       "       -0.3035772, -0.2642508, -0.2717028, -0.260397 , -0.5913306,\n",
       "       -0.489249 , -0.39411  , -0.4203576, -0.38187  , -0.0876366,\n",
       "       -0.3086334, -0.5571756, -0.2051676, -0.1836738, -0.4251924,\n",
       "       -0.4675428, -0.4096278, -0.0397692, -0.165393 ,  0.0692586,\n",
       "        0.0771966,  0.0219924, -0.0032202,  0.1239354, -0.0596304,\n",
       "       -0.109917 , -0.0137916,  0.2456388,  0.1634436,  0.0785898,\n",
       "        0.274842 ,  0.2497932,  0.0669942,  0.0748224,  0.1436454,\n",
       "        0.2219328,  0.1661922,  0.428193 ,  0.5327244,  0.1698606,\n",
       "        0.2325024,  0.4042188,  0.4671414,  0.5250798,  0.4946364,\n",
       "        0.5327874,  0.5114556,  0.3846042,  0.3673116,  0.5894424,\n",
       "        0.6127182,  0.4286736,  0.528696 ,  0.5846742,  0.7512552,\n",
       "        0.935577 ])</pre></div></li><li class='xr-var-item'><div class='xr-var-name'><span>Lower 95% confidence interval</span></div><div class='xr-var-dims'>(Year)</div><div class='xr-var-dtype'>float64</div><div class='xr-var-preview xr-preview'>-0.6726 -0.5606 ... 0.4558 0.6401</div><input id='attrs-b5830cc6-c222-47ea-a7c3-47a28f6bdcd6' class='xr-var-attrs-in' type='checkbox' disabled><label for='attrs-b5830cc6-c222-47ea-a7c3-47a28f6bdcd6' title='Show/Hide attributes'><svg class='icon xr-icon-file-text2'><use xlink:href='#icon-file-text2'></use></svg></label><input id='data-59ff9785-ee43-40e5-82ef-1f4157b00931' class='xr-var-data-in' type='checkbox'><label for='data-59ff9785-ee43-40e5-82ef-1f4157b00931' title='Show/Hide data repr'><svg class='icon xr-icon-database'><use xlink:href='#icon-database'></use></svg></label><div class='xr-var-attrs'><dl class='xr-attrs'></dl></div><div class='xr-var-data'><pre>array([-0.67264626, -0.56058834, -0.57572817, -0.65080386, -0.79047809,\n",
       "       -0.86307244, -0.84260664, -0.9598516 , -0.71395004, -0.67479827,\n",
       "       -1.09326933, -0.86403594, -1.02138562, -1.01987695, -1.05449522,\n",
       "       -0.8849866 , -0.65850723, -0.72538697, -1.01178857, -0.81249096,\n",
       "       -0.71564503, -0.91712825, -1.01493997, -1.20168447, -1.35535084,\n",
       "       -1.07735983, -1.0464552 , -1.19392988, -1.44846758, -1.46298238,\n",
       "       -1.37500645, -1.43098638, -1.13052703, -1.20583108, -0.93506009,\n",
       "       -0.77338572, -1.1175093 , -1.05847939, -0.89171012, -0.92906796,\n",
       "       -0.99329623, -1.00499309, -1.09930843, -1.0949002 , -1.16094615,\n",
       "       -1.02148385, -0.89130512, -1.01153819, -1.11605542, -1.21674988,\n",
       "       -0.95516224, -0.9328352 , -1.06960601, -1.16510903, -1.03613255,\n",
       "       -1.03270035, -0.97855727, -0.79004635, -0.94428312, -0.86659408,\n",
       "       -0.61175696, -0.42455268, -0.52750638, -0.52877558, -0.24964026,\n",
       "       -0.3012949 , -0.81091409, -0.9485464 , -0.92787558, -0.87149381,\n",
       "       -0.95124995, -0.78529303, -0.64915063, -0.61958928, -0.91188076,\n",
       "       -0.97087943, -0.91567117, -0.55101229, -0.51697371, -0.5937169 ,\n",
       "       -0.61506184, -0.56553869, -0.5676345 , -0.54485533, -0.86746281,\n",
       "       -0.75809556, -0.65503893, -0.67223308, -0.62690732, -0.32327425,\n",
       "       -0.54331834, -0.7804732 , -0.42486883, -0.39760562, -0.62908516,\n",
       "       -0.66938017, -0.61140349, -0.22701927, -0.35603562, -0.12226339,\n",
       "       -0.12275107, -0.1861895 , -0.2209867 , -0.09930645, -0.29103063,\n",
       "       -0.34085957, -0.24349122,  0.01795293, -0.06270643, -0.14487496,\n",
       "        0.05989442,  0.03696969, -0.14600469, -0.13980646, -0.07262992,\n",
       "        0.00433784, -0.05294176,  0.20696743,  0.30558585, -0.06527471,\n",
       "       -0.00685621,  0.15791487,  0.21403352,  0.26548995,  0.22832498,\n",
       "        0.25964637,  0.22994419,  0.0974458 ,  0.08147827,  0.29589669,\n",
       "        0.31798764,  0.13328918,  0.23286947,  0.28922658,  0.45580758,\n",
       "        0.64012938])</pre></div></li><li class='xr-var-item'><div class='xr-var-name'><span>Upper 95% confidence interval</span></div><div class='xr-var-dims'>(Year)</div><div class='xr-var-dtype'>float64</div><div class='xr-var-preview xr-preview'>-0.2674 -0.1532 ... 1.047 1.231</div><input id='attrs-bdfe84d9-4bb5-424c-b336-f90760c2b04e' class='xr-var-attrs-in' type='checkbox' disabled><label for='attrs-bdfe84d9-4bb5-424c-b336-f90760c2b04e' title='Show/Hide attributes'><svg class='icon xr-icon-file-text2'><use xlink:href='#icon-file-text2'></use></svg></label><input id='data-73078216-ac7a-49af-8acd-39c8177f9a8d' class='xr-var-data-in' type='checkbox'><label for='data-73078216-ac7a-49af-8acd-39c8177f9a8d' title='Show/Hide data repr'><svg class='icon xr-icon-database'><use xlink:href='#icon-database'></use></svg></label><div class='xr-var-attrs'><dl class='xr-attrs'></dl></div><div class='xr-var-data'><pre>array([-0.26737134, -0.15316926, -0.16959423, -0.24608214, -0.38902951,\n",
       "       -0.46423676, -0.44527176, -0.5633948 , -0.31931836, -0.26878693,\n",
       "       -0.68189787, -0.45661686, -0.61323398, -0.60977825, -0.64506478,\n",
       "       -0.4695206 , -0.22406157, -0.25347823, -0.55331143, -0.34498104,\n",
       "       -0.25096577, -0.44908615, -0.56170523, -0.74483913, -0.89072516,\n",
       "       -0.59223737, -0.5452308 , -0.64144012, -0.87293842, -0.91656362,\n",
       "       -0.85053155, -0.91022682, -0.61317257, -0.70570052, -0.45132511,\n",
       "       -0.28158708, -0.6114411 , -0.54078821, -0.36966148, -0.39761484,\n",
       "       -0.44601257, -0.43949971, -0.51929837, -0.4871414 , -0.53213025,\n",
       "       -0.36786055, -0.21717088, -0.31663861, -0.40189898, -0.48370652,\n",
       "       -0.21200096, -0.174586  , -0.29752999, -0.39042577, -0.25332985,\n",
       "       -0.25785645, -0.21909433, -0.04104605, -0.22267128, -0.11822552,\n",
       "        0.25222136,  0.51886908,  0.44624718,  0.44916158,  0.68580546,\n",
       "        0.6167989 ,  0.04020449, -0.1673672 , -0.16759362, -0.11686459,\n",
       "       -0.15510925,  0.04830103,  0.12656023,  0.08731488, -0.21077564,\n",
       "       -0.29394457, -0.25859123,  0.10568869,  0.12833211,  0.0466321 ,\n",
       "        0.00790744,  0.03703709,  0.0242289 ,  0.02406133, -0.31519839,\n",
       "       -0.22040244, -0.13318107, -0.16848212, -0.13683268,  0.14800105,\n",
       "       -0.07394846, -0.333878  ,  0.01453362,  0.03025802, -0.22129964,\n",
       "       -0.26570543, -0.20785211,  0.14748088,  0.02524962,  0.26078059,\n",
       "        0.27714427,  0.2301743 ,  0.2145463 ,  0.34717725,  0.17176983,\n",
       "        0.12102557,  0.21590802,  0.47332467,  0.38959363,  0.30205456,\n",
       "        0.48978958,  0.46261671,  0.27999309,  0.28945126,  0.35992072,\n",
       "        0.43952776,  0.38532616,  0.64941857,  0.75986295,  0.40499591,\n",
       "        0.47186101,  0.65052273,  0.72024928,  0.78466965,  0.76094783,\n",
       "        0.80592843,  0.79296701,  0.6717626 ,  0.65314493,  0.88298811,\n",
       "        0.90744876,  0.72405802,  0.82452253,  0.88012182,  1.04670282,\n",
       "        1.23102462])</pre></div></li></ul></div></li><li class='xr-section-item'><input id='section-591737f0-3c12-402d-a0d5-0be1e73c13fd' class='xr-section-summary-in' type='checkbox' disabled ><label for='section-591737f0-3c12-402d-a0d5-0be1e73c13fd' class='xr-section-summary'  title='Expand/collapse section'>Attributes: <span>(0)</span></label><div class='xr-section-inline-details'></div><div class='xr-section-details'><dl class='xr-attrs'></dl></div></li></ul></div></div>"
      ],
      "text/plain": [
       "<xarray.Dataset>\n",
       "Dimensions:                        (Year: 136)\n",
       "Coordinates:\n",
       "  * Year                           (Year) int64 1880 1881 1882 ... 2014 2015\n",
       "Data variables:\n",
       "    Annual anomaly                 (Year) float64 -0.47 -0.3569 ... 0.9356\n",
       "    Lower 95% confidence interval  (Year) float64 -0.6726 -0.5606 ... 0.6401\n",
       "    Upper 95% confidence interval  (Year) float64 -0.2674 -0.1532 ... 1.231"
      ]
     },
     "execution_count": 109,
     "metadata": {},
     "output_type": "execute_result"
    }
   ],
   "source": [
    "sst_ds"
   ]
  },
  {
   "cell_type": "markdown",
   "id": "homeless-documentary",
   "metadata": {},
   "source": [
    "If we want, we can add a pandas date range to this timeseries and use this for plotting. Not super needed here because it's annual, but would be useful if it was monthly or daily."
   ]
  },
  {
   "cell_type": "code",
   "execution_count": 110,
   "id": "supposed-remains",
   "metadata": {},
   "outputs": [],
   "source": [
    "ssha_dates = pd.date_range(start = '1880', end = '2015', freq='Y')"
   ]
  },
  {
   "cell_type": "code",
   "execution_count": 111,
   "id": "fancy-whole",
   "metadata": {},
   "outputs": [
    {
     "data": {
      "text/plain": [
       "DatetimeIndex(['1880-12-31', '1881-12-31', '1882-12-31', '1883-12-31',\n",
       "               '1884-12-31', '1885-12-31', '1886-12-31', '1887-12-31',\n",
       "               '1888-12-31', '1889-12-31',\n",
       "               ...\n",
       "               '2005-12-31', '2006-12-31', '2007-12-31', '2008-12-31',\n",
       "               '2009-12-31', '2010-12-31', '2011-12-31', '2012-12-31',\n",
       "               '2013-12-31', '2014-12-31'],\n",
       "              dtype='datetime64[ns]', length=135, freq='A-DEC')"
      ]
     },
     "execution_count": 111,
     "metadata": {},
     "output_type": "execute_result"
    }
   ],
   "source": [
    "ssha_dates"
   ]
  },
  {
   "cell_type": "code",
   "execution_count": 112,
   "id": "neutral-soccer",
   "metadata": {},
   "outputs": [
    {
     "data": {
      "text/html": [
       "<div><svg style=\"position: absolute; width: 0; height: 0; overflow: hidden\">\n",
       "<defs>\n",
       "<symbol id=\"icon-database\" viewBox=\"0 0 32 32\">\n",
       "<path d=\"M16 0c-8.837 0-16 2.239-16 5v4c0 2.761 7.163 5 16 5s16-2.239 16-5v-4c0-2.761-7.163-5-16-5z\"></path>\n",
       "<path d=\"M16 17c-8.837 0-16-2.239-16-5v6c0 2.761 7.163 5 16 5s16-2.239 16-5v-6c0 2.761-7.163 5-16 5z\"></path>\n",
       "<path d=\"M16 26c-8.837 0-16-2.239-16-5v6c0 2.761 7.163 5 16 5s16-2.239 16-5v-6c0 2.761-7.163 5-16 5z\"></path>\n",
       "</symbol>\n",
       "<symbol id=\"icon-file-text2\" viewBox=\"0 0 32 32\">\n",
       "<path d=\"M28.681 7.159c-0.694-0.947-1.662-2.053-2.724-3.116s-2.169-2.030-3.116-2.724c-1.612-1.182-2.393-1.319-2.841-1.319h-15.5c-1.378 0-2.5 1.121-2.5 2.5v27c0 1.378 1.122 2.5 2.5 2.5h23c1.378 0 2.5-1.122 2.5-2.5v-19.5c0-0.448-0.137-1.23-1.319-2.841zM24.543 5.457c0.959 0.959 1.712 1.825 2.268 2.543h-4.811v-4.811c0.718 0.556 1.584 1.309 2.543 2.268zM28 29.5c0 0.271-0.229 0.5-0.5 0.5h-23c-0.271 0-0.5-0.229-0.5-0.5v-27c0-0.271 0.229-0.5 0.5-0.5 0 0 15.499-0 15.5 0v7c0 0.552 0.448 1 1 1h7v19.5z\"></path>\n",
       "<path d=\"M23 26h-14c-0.552 0-1-0.448-1-1s0.448-1 1-1h14c0.552 0 1 0.448 1 1s-0.448 1-1 1z\"></path>\n",
       "<path d=\"M23 22h-14c-0.552 0-1-0.448-1-1s0.448-1 1-1h14c0.552 0 1 0.448 1 1s-0.448 1-1 1z\"></path>\n",
       "<path d=\"M23 18h-14c-0.552 0-1-0.448-1-1s0.448-1 1-1h14c0.552 0 1 0.448 1 1s-0.448 1-1 1z\"></path>\n",
       "</symbol>\n",
       "</defs>\n",
       "</svg>\n",
       "<style>/* CSS stylesheet for displaying xarray objects in jupyterlab.\n",
       " *\n",
       " */\n",
       "\n",
       ":root {\n",
       "  --xr-font-color0: var(--jp-content-font-color0, rgba(0, 0, 0, 1));\n",
       "  --xr-font-color2: var(--jp-content-font-color2, rgba(0, 0, 0, 0.54));\n",
       "  --xr-font-color3: var(--jp-content-font-color3, rgba(0, 0, 0, 0.38));\n",
       "  --xr-border-color: var(--jp-border-color2, #e0e0e0);\n",
       "  --xr-disabled-color: var(--jp-layout-color3, #bdbdbd);\n",
       "  --xr-background-color: var(--jp-layout-color0, white);\n",
       "  --xr-background-color-row-even: var(--jp-layout-color1, white);\n",
       "  --xr-background-color-row-odd: var(--jp-layout-color2, #eeeeee);\n",
       "}\n",
       "\n",
       "html[theme=dark],\n",
       "body.vscode-dark {\n",
       "  --xr-font-color0: rgba(255, 255, 255, 1);\n",
       "  --xr-font-color2: rgba(255, 255, 255, 0.54);\n",
       "  --xr-font-color3: rgba(255, 255, 255, 0.38);\n",
       "  --xr-border-color: #1F1F1F;\n",
       "  --xr-disabled-color: #515151;\n",
       "  --xr-background-color: #111111;\n",
       "  --xr-background-color-row-even: #111111;\n",
       "  --xr-background-color-row-odd: #313131;\n",
       "}\n",
       "\n",
       ".xr-wrap {\n",
       "  display: block;\n",
       "  min-width: 300px;\n",
       "  max-width: 700px;\n",
       "}\n",
       "\n",
       ".xr-text-repr-fallback {\n",
       "  /* fallback to plain text repr when CSS is not injected (untrusted notebook) */\n",
       "  display: none;\n",
       "}\n",
       "\n",
       ".xr-header {\n",
       "  padding-top: 6px;\n",
       "  padding-bottom: 6px;\n",
       "  margin-bottom: 4px;\n",
       "  border-bottom: solid 1px var(--xr-border-color);\n",
       "}\n",
       "\n",
       ".xr-header > div,\n",
       ".xr-header > ul {\n",
       "  display: inline;\n",
       "  margin-top: 0;\n",
       "  margin-bottom: 0;\n",
       "}\n",
       "\n",
       ".xr-obj-type,\n",
       ".xr-array-name {\n",
       "  margin-left: 2px;\n",
       "  margin-right: 10px;\n",
       "}\n",
       "\n",
       ".xr-obj-type {\n",
       "  color: var(--xr-font-color2);\n",
       "}\n",
       "\n",
       ".xr-sections {\n",
       "  padding-left: 0 !important;\n",
       "  display: grid;\n",
       "  grid-template-columns: 150px auto auto 1fr 20px 20px;\n",
       "}\n",
       "\n",
       ".xr-section-item {\n",
       "  display: contents;\n",
       "}\n",
       "\n",
       ".xr-section-item input {\n",
       "  display: none;\n",
       "}\n",
       "\n",
       ".xr-section-item input + label {\n",
       "  color: var(--xr-disabled-color);\n",
       "}\n",
       "\n",
       ".xr-section-item input:enabled + label {\n",
       "  cursor: pointer;\n",
       "  color: var(--xr-font-color2);\n",
       "}\n",
       "\n",
       ".xr-section-item input:enabled + label:hover {\n",
       "  color: var(--xr-font-color0);\n",
       "}\n",
       "\n",
       ".xr-section-summary {\n",
       "  grid-column: 1;\n",
       "  color: var(--xr-font-color2);\n",
       "  font-weight: 500;\n",
       "}\n",
       "\n",
       ".xr-section-summary > span {\n",
       "  display: inline-block;\n",
       "  padding-left: 0.5em;\n",
       "}\n",
       "\n",
       ".xr-section-summary-in:disabled + label {\n",
       "  color: var(--xr-font-color2);\n",
       "}\n",
       "\n",
       ".xr-section-summary-in + label:before {\n",
       "  display: inline-block;\n",
       "  content: '►';\n",
       "  font-size: 11px;\n",
       "  width: 15px;\n",
       "  text-align: center;\n",
       "}\n",
       "\n",
       ".xr-section-summary-in:disabled + label:before {\n",
       "  color: var(--xr-disabled-color);\n",
       "}\n",
       "\n",
       ".xr-section-summary-in:checked + label:before {\n",
       "  content: '▼';\n",
       "}\n",
       "\n",
       ".xr-section-summary-in:checked + label > span {\n",
       "  display: none;\n",
       "}\n",
       "\n",
       ".xr-section-summary,\n",
       ".xr-section-inline-details {\n",
       "  padding-top: 4px;\n",
       "  padding-bottom: 4px;\n",
       "}\n",
       "\n",
       ".xr-section-inline-details {\n",
       "  grid-column: 2 / -1;\n",
       "}\n",
       "\n",
       ".xr-section-details {\n",
       "  display: none;\n",
       "  grid-column: 1 / -1;\n",
       "  margin-bottom: 5px;\n",
       "}\n",
       "\n",
       ".xr-section-summary-in:checked ~ .xr-section-details {\n",
       "  display: contents;\n",
       "}\n",
       "\n",
       ".xr-array-wrap {\n",
       "  grid-column: 1 / -1;\n",
       "  display: grid;\n",
       "  grid-template-columns: 20px auto;\n",
       "}\n",
       "\n",
       ".xr-array-wrap > label {\n",
       "  grid-column: 1;\n",
       "  vertical-align: top;\n",
       "}\n",
       "\n",
       ".xr-preview {\n",
       "  color: var(--xr-font-color3);\n",
       "}\n",
       "\n",
       ".xr-array-preview,\n",
       ".xr-array-data {\n",
       "  padding: 0 5px !important;\n",
       "  grid-column: 2;\n",
       "}\n",
       "\n",
       ".xr-array-data,\n",
       ".xr-array-in:checked ~ .xr-array-preview {\n",
       "  display: none;\n",
       "}\n",
       "\n",
       ".xr-array-in:checked ~ .xr-array-data,\n",
       ".xr-array-preview {\n",
       "  display: inline-block;\n",
       "}\n",
       "\n",
       ".xr-dim-list {\n",
       "  display: inline-block !important;\n",
       "  list-style: none;\n",
       "  padding: 0 !important;\n",
       "  margin: 0;\n",
       "}\n",
       "\n",
       ".xr-dim-list li {\n",
       "  display: inline-block;\n",
       "  padding: 0;\n",
       "  margin: 0;\n",
       "}\n",
       "\n",
       ".xr-dim-list:before {\n",
       "  content: '(';\n",
       "}\n",
       "\n",
       ".xr-dim-list:after {\n",
       "  content: ')';\n",
       "}\n",
       "\n",
       ".xr-dim-list li:not(:last-child):after {\n",
       "  content: ',';\n",
       "  padding-right: 5px;\n",
       "}\n",
       "\n",
       ".xr-has-index {\n",
       "  font-weight: bold;\n",
       "}\n",
       "\n",
       ".xr-var-list,\n",
       ".xr-var-item {\n",
       "  display: contents;\n",
       "}\n",
       "\n",
       ".xr-var-item > div,\n",
       ".xr-var-item label,\n",
       ".xr-var-item > .xr-var-name span {\n",
       "  background-color: var(--xr-background-color-row-even);\n",
       "  margin-bottom: 0;\n",
       "}\n",
       "\n",
       ".xr-var-item > .xr-var-name:hover span {\n",
       "  padding-right: 5px;\n",
       "}\n",
       "\n",
       ".xr-var-list > li:nth-child(odd) > div,\n",
       ".xr-var-list > li:nth-child(odd) > label,\n",
       ".xr-var-list > li:nth-child(odd) > .xr-var-name span {\n",
       "  background-color: var(--xr-background-color-row-odd);\n",
       "}\n",
       "\n",
       ".xr-var-name {\n",
       "  grid-column: 1;\n",
       "}\n",
       "\n",
       ".xr-var-dims {\n",
       "  grid-column: 2;\n",
       "}\n",
       "\n",
       ".xr-var-dtype {\n",
       "  grid-column: 3;\n",
       "  text-align: right;\n",
       "  color: var(--xr-font-color2);\n",
       "}\n",
       "\n",
       ".xr-var-preview {\n",
       "  grid-column: 4;\n",
       "}\n",
       "\n",
       ".xr-var-name,\n",
       ".xr-var-dims,\n",
       ".xr-var-dtype,\n",
       ".xr-preview,\n",
       ".xr-attrs dt {\n",
       "  white-space: nowrap;\n",
       "  overflow: hidden;\n",
       "  text-overflow: ellipsis;\n",
       "  padding-right: 10px;\n",
       "}\n",
       "\n",
       ".xr-var-name:hover,\n",
       ".xr-var-dims:hover,\n",
       ".xr-var-dtype:hover,\n",
       ".xr-attrs dt:hover {\n",
       "  overflow: visible;\n",
       "  width: auto;\n",
       "  z-index: 1;\n",
       "}\n",
       "\n",
       ".xr-var-attrs,\n",
       ".xr-var-data {\n",
       "  display: none;\n",
       "  background-color: var(--xr-background-color) !important;\n",
       "  padding-bottom: 5px !important;\n",
       "}\n",
       "\n",
       ".xr-var-attrs-in:checked ~ .xr-var-attrs,\n",
       ".xr-var-data-in:checked ~ .xr-var-data {\n",
       "  display: block;\n",
       "}\n",
       "\n",
       ".xr-var-data > table {\n",
       "  float: right;\n",
       "}\n",
       "\n",
       ".xr-var-name span,\n",
       ".xr-var-data,\n",
       ".xr-attrs {\n",
       "  padding-left: 25px !important;\n",
       "}\n",
       "\n",
       ".xr-attrs,\n",
       ".xr-var-attrs,\n",
       ".xr-var-data {\n",
       "  grid-column: 1 / -1;\n",
       "}\n",
       "\n",
       "dl.xr-attrs {\n",
       "  padding: 0;\n",
       "  margin: 0;\n",
       "  display: grid;\n",
       "  grid-template-columns: 125px auto;\n",
       "}\n",
       "\n",
       ".xr-attrs dt, dd {\n",
       "  padding: 0;\n",
       "  margin: 0;\n",
       "  float: left;\n",
       "  padding-right: 10px;\n",
       "  width: auto;\n",
       "}\n",
       "\n",
       ".xr-attrs dt {\n",
       "  font-weight: normal;\n",
       "  grid-column: 1;\n",
       "}\n",
       "\n",
       ".xr-attrs dt:hover span {\n",
       "  display: inline-block;\n",
       "  background: var(--xr-background-color);\n",
       "  padding-right: 10px;\n",
       "}\n",
       "\n",
       ".xr-attrs dd {\n",
       "  grid-column: 2;\n",
       "  white-space: pre-wrap;\n",
       "  word-break: break-all;\n",
       "}\n",
       "\n",
       ".xr-icon-database,\n",
       ".xr-icon-file-text2 {\n",
       "  display: inline-block;\n",
       "  vertical-align: middle;\n",
       "  width: 1em;\n",
       "  height: 1.5em !important;\n",
       "  stroke-width: 0;\n",
       "  stroke: currentColor;\n",
       "  fill: currentColor;\n",
       "}\n",
       "</style><pre class='xr-text-repr-fallback'>&lt;xarray.DataArray &#x27;Annual anomaly&#x27; (Year: 136)&gt;\n",
       "array([-0.4700088, -0.3568788, -0.3726612, -0.448443 , -0.5897538,\n",
       "       -0.6636546, -0.6439392, -0.7616232, -0.5166342, -0.4717926,\n",
       "       -0.8875836, -0.6603264, -0.8173098, -0.8148276, -0.84978  ,\n",
       "       -0.6772536, -0.4412844, -0.4894326, -0.78255  , -0.578736 ,\n",
       "       -0.4833054, -0.6831072, -0.7883226, -0.9732618, -1.123038 ,\n",
       "       -0.8347986, -0.795843 , -0.917685 , -1.160703 , -1.189773 ,\n",
       "       -1.112769 , -1.1706066, -0.8718498, -0.9557658, -0.6931926,\n",
       "       -0.5274864, -0.8644752, -0.7996338, -0.6306858, -0.6633414,\n",
       "       -0.7196544, -0.7222464, -0.8093034, -0.7910208, -0.8465382,\n",
       "       -0.6946722, -0.554238 , -0.6640884, -0.7589772, -0.8502282,\n",
       "       -0.5835816, -0.5537106, -0.683568 , -0.7777674, -0.6447312,\n",
       "       -0.6452784, -0.5988258, -0.4155462, -0.5834772, -0.4924098,\n",
       "       -0.1797678,  0.0471582, -0.0406296, -0.039807 ,  0.2180826,\n",
       "        0.157752 , -0.3853548, -0.5579568, -0.5477346, -0.4941792,\n",
       "       -0.5531796, -0.368496 , -0.2612952, -0.2661372, -0.5613282,\n",
       "       -0.632412 , -0.5871312, -0.2226618, -0.1943208, -0.2735424,\n",
       "       -0.3035772, -0.2642508, -0.2717028, -0.260397 , -0.5913306,\n",
       "       -0.489249 , -0.39411  , -0.4203576, -0.38187  , -0.0876366,\n",
       "       -0.3086334, -0.5571756, -0.2051676, -0.1836738, -0.4251924,\n",
       "       -0.4675428, -0.4096278, -0.0397692, -0.165393 ,  0.0692586,\n",
       "        0.0771966,  0.0219924, -0.0032202,  0.1239354, -0.0596304,\n",
       "       -0.109917 , -0.0137916,  0.2456388,  0.1634436,  0.0785898,\n",
       "        0.274842 ,  0.2497932,  0.0669942,  0.0748224,  0.1436454,\n",
       "        0.2219328,  0.1661922,  0.428193 ,  0.5327244,  0.1698606,\n",
       "        0.2325024,  0.4042188,  0.4671414,  0.5250798,  0.4946364,\n",
       "        0.5327874,  0.5114556,  0.3846042,  0.3673116,  0.5894424,\n",
       "        0.6127182,  0.4286736,  0.528696 ,  0.5846742,  0.7512552,\n",
       "        0.935577 ])\n",
       "Coordinates:\n",
       "  * Year     (Year) int64 1880 1881 1882 1883 1884 ... 2011 2012 2013 2014 2015</pre><div class='xr-wrap' hidden><div class='xr-header'><div class='xr-obj-type'>xarray.DataArray</div><div class='xr-array-name'>'Annual anomaly'</div><ul class='xr-dim-list'><li><span class='xr-has-index'>Year</span>: 136</li></ul></div><ul class='xr-sections'><li class='xr-section-item'><div class='xr-array-wrap'><input id='section-f3954108-a83f-48b7-a8ff-eee9dbedfcd1' class='xr-array-in' type='checkbox' checked><label for='section-f3954108-a83f-48b7-a8ff-eee9dbedfcd1' title='Show/hide data repr'><svg class='icon xr-icon-database'><use xlink:href='#icon-database'></use></svg></label><div class='xr-array-preview xr-preview'><span>-0.47 -0.3569 -0.3727 -0.4484 -0.5898 ... 0.5287 0.5847 0.7513 0.9356</span></div><div class='xr-array-data'><pre>array([-0.4700088, -0.3568788, -0.3726612, -0.448443 , -0.5897538,\n",
       "       -0.6636546, -0.6439392, -0.7616232, -0.5166342, -0.4717926,\n",
       "       -0.8875836, -0.6603264, -0.8173098, -0.8148276, -0.84978  ,\n",
       "       -0.6772536, -0.4412844, -0.4894326, -0.78255  , -0.578736 ,\n",
       "       -0.4833054, -0.6831072, -0.7883226, -0.9732618, -1.123038 ,\n",
       "       -0.8347986, -0.795843 , -0.917685 , -1.160703 , -1.189773 ,\n",
       "       -1.112769 , -1.1706066, -0.8718498, -0.9557658, -0.6931926,\n",
       "       -0.5274864, -0.8644752, -0.7996338, -0.6306858, -0.6633414,\n",
       "       -0.7196544, -0.7222464, -0.8093034, -0.7910208, -0.8465382,\n",
       "       -0.6946722, -0.554238 , -0.6640884, -0.7589772, -0.8502282,\n",
       "       -0.5835816, -0.5537106, -0.683568 , -0.7777674, -0.6447312,\n",
       "       -0.6452784, -0.5988258, -0.4155462, -0.5834772, -0.4924098,\n",
       "       -0.1797678,  0.0471582, -0.0406296, -0.039807 ,  0.2180826,\n",
       "        0.157752 , -0.3853548, -0.5579568, -0.5477346, -0.4941792,\n",
       "       -0.5531796, -0.368496 , -0.2612952, -0.2661372, -0.5613282,\n",
       "       -0.632412 , -0.5871312, -0.2226618, -0.1943208, -0.2735424,\n",
       "       -0.3035772, -0.2642508, -0.2717028, -0.260397 , -0.5913306,\n",
       "       -0.489249 , -0.39411  , -0.4203576, -0.38187  , -0.0876366,\n",
       "       -0.3086334, -0.5571756, -0.2051676, -0.1836738, -0.4251924,\n",
       "       -0.4675428, -0.4096278, -0.0397692, -0.165393 ,  0.0692586,\n",
       "        0.0771966,  0.0219924, -0.0032202,  0.1239354, -0.0596304,\n",
       "       -0.109917 , -0.0137916,  0.2456388,  0.1634436,  0.0785898,\n",
       "        0.274842 ,  0.2497932,  0.0669942,  0.0748224,  0.1436454,\n",
       "        0.2219328,  0.1661922,  0.428193 ,  0.5327244,  0.1698606,\n",
       "        0.2325024,  0.4042188,  0.4671414,  0.5250798,  0.4946364,\n",
       "        0.5327874,  0.5114556,  0.3846042,  0.3673116,  0.5894424,\n",
       "        0.6127182,  0.4286736,  0.528696 ,  0.5846742,  0.7512552,\n",
       "        0.935577 ])</pre></div></div></li><li class='xr-section-item'><input id='section-413eb42c-48b9-4290-9992-be97fd8e7a4f' class='xr-section-summary-in' type='checkbox'  checked><label for='section-413eb42c-48b9-4290-9992-be97fd8e7a4f' class='xr-section-summary' >Coordinates: <span>(1)</span></label><div class='xr-section-inline-details'></div><div class='xr-section-details'><ul class='xr-var-list'><li class='xr-var-item'><div class='xr-var-name'><span class='xr-has-index'>Year</span></div><div class='xr-var-dims'>(Year)</div><div class='xr-var-dtype'>int64</div><div class='xr-var-preview xr-preview'>1880 1881 1882 ... 2013 2014 2015</div><input id='attrs-7d0aec52-00a0-49b6-a9bc-c0664eb57260' class='xr-var-attrs-in' type='checkbox' disabled><label for='attrs-7d0aec52-00a0-49b6-a9bc-c0664eb57260' title='Show/Hide attributes'><svg class='icon xr-icon-file-text2'><use xlink:href='#icon-file-text2'></use></svg></label><input id='data-86b7f93e-3de8-4efd-b56d-93102d27dd41' class='xr-var-data-in' type='checkbox'><label for='data-86b7f93e-3de8-4efd-b56d-93102d27dd41' title='Show/Hide data repr'><svg class='icon xr-icon-database'><use xlink:href='#icon-database'></use></svg></label><div class='xr-var-attrs'><dl class='xr-attrs'></dl></div><div class='xr-var-data'><pre>array([1880, 1881, 1882, 1883, 1884, 1885, 1886, 1887, 1888, 1889, 1890, 1891,\n",
       "       1892, 1893, 1894, 1895, 1896, 1897, 1898, 1899, 1900, 1901, 1902, 1903,\n",
       "       1904, 1905, 1906, 1907, 1908, 1909, 1910, 1911, 1912, 1913, 1914, 1915,\n",
       "       1916, 1917, 1918, 1919, 1920, 1921, 1922, 1923, 1924, 1925, 1926, 1927,\n",
       "       1928, 1929, 1930, 1931, 1932, 1933, 1934, 1935, 1936, 1937, 1938, 1939,\n",
       "       1940, 1941, 1942, 1943, 1944, 1945, 1946, 1947, 1948, 1949, 1950, 1951,\n",
       "       1952, 1953, 1954, 1955, 1956, 1957, 1958, 1959, 1960, 1961, 1962, 1963,\n",
       "       1964, 1965, 1966, 1967, 1968, 1969, 1970, 1971, 1972, 1973, 1974, 1975,\n",
       "       1976, 1977, 1978, 1979, 1980, 1981, 1982, 1983, 1984, 1985, 1986, 1987,\n",
       "       1988, 1989, 1990, 1991, 1992, 1993, 1994, 1995, 1996, 1997, 1998, 1999,\n",
       "       2000, 2001, 2002, 2003, 2004, 2005, 2006, 2007, 2008, 2009, 2010, 2011,\n",
       "       2012, 2013, 2014, 2015])</pre></div></li></ul></div></li><li class='xr-section-item'><input id='section-4dafa46e-536c-4e45-aaac-a15f1fa7aa28' class='xr-section-summary-in' type='checkbox' disabled ><label for='section-4dafa46e-536c-4e45-aaac-a15f1fa7aa28' class='xr-section-summary'  title='Expand/collapse section'>Attributes: <span>(0)</span></label><div class='xr-section-inline-details'></div><div class='xr-section-details'><dl class='xr-attrs'></dl></div></li></ul></div></div>"
      ],
      "text/plain": [
       "<xarray.DataArray 'Annual anomaly' (Year: 136)>\n",
       "array([-0.4700088, -0.3568788, -0.3726612, -0.448443 , -0.5897538,\n",
       "       -0.6636546, -0.6439392, -0.7616232, -0.5166342, -0.4717926,\n",
       "       -0.8875836, -0.6603264, -0.8173098, -0.8148276, -0.84978  ,\n",
       "       -0.6772536, -0.4412844, -0.4894326, -0.78255  , -0.578736 ,\n",
       "       -0.4833054, -0.6831072, -0.7883226, -0.9732618, -1.123038 ,\n",
       "       -0.8347986, -0.795843 , -0.917685 , -1.160703 , -1.189773 ,\n",
       "       -1.112769 , -1.1706066, -0.8718498, -0.9557658, -0.6931926,\n",
       "       -0.5274864, -0.8644752, -0.7996338, -0.6306858, -0.6633414,\n",
       "       -0.7196544, -0.7222464, -0.8093034, -0.7910208, -0.8465382,\n",
       "       -0.6946722, -0.554238 , -0.6640884, -0.7589772, -0.8502282,\n",
       "       -0.5835816, -0.5537106, -0.683568 , -0.7777674, -0.6447312,\n",
       "       -0.6452784, -0.5988258, -0.4155462, -0.5834772, -0.4924098,\n",
       "       -0.1797678,  0.0471582, -0.0406296, -0.039807 ,  0.2180826,\n",
       "        0.157752 , -0.3853548, -0.5579568, -0.5477346, -0.4941792,\n",
       "       -0.5531796, -0.368496 , -0.2612952, -0.2661372, -0.5613282,\n",
       "       -0.632412 , -0.5871312, -0.2226618, -0.1943208, -0.2735424,\n",
       "       -0.3035772, -0.2642508, -0.2717028, -0.260397 , -0.5913306,\n",
       "       -0.489249 , -0.39411  , -0.4203576, -0.38187  , -0.0876366,\n",
       "       -0.3086334, -0.5571756, -0.2051676, -0.1836738, -0.4251924,\n",
       "       -0.4675428, -0.4096278, -0.0397692, -0.165393 ,  0.0692586,\n",
       "        0.0771966,  0.0219924, -0.0032202,  0.1239354, -0.0596304,\n",
       "       -0.109917 , -0.0137916,  0.2456388,  0.1634436,  0.0785898,\n",
       "        0.274842 ,  0.2497932,  0.0669942,  0.0748224,  0.1436454,\n",
       "        0.2219328,  0.1661922,  0.428193 ,  0.5327244,  0.1698606,\n",
       "        0.2325024,  0.4042188,  0.4671414,  0.5250798,  0.4946364,\n",
       "        0.5327874,  0.5114556,  0.3846042,  0.3673116,  0.5894424,\n",
       "        0.6127182,  0.4286736,  0.528696 ,  0.5846742,  0.7512552,\n",
       "        0.935577 ])\n",
       "Coordinates:\n",
       "  * Year     (Year) int64 1880 1881 1882 1883 1884 ... 2011 2012 2013 2014 2015"
      ]
     },
     "execution_count": 112,
     "metadata": {},
     "output_type": "execute_result"
    }
   ],
   "source": [
    "# let's just work with the annual anomaly\n",
    "\n",
    "sst_ds[\"Annual anomaly\"] # note a lot of the syntax in xarray is similar to pandas"
   ]
  },
  {
   "cell_type": "markdown",
   "id": "tired-brighton",
   "metadata": {},
   "source": [
    "#### Let's do a linear fit of the whole timeseries"
   ]
  },
  {
   "cell_type": "code",
   "execution_count": 113,
   "id": "voluntary-sodium",
   "metadata": {},
   "outputs": [],
   "source": [
    "from scipy import stats"
   ]
  },
  {
   "cell_type": "code",
   "execution_count": 114,
   "id": "federal-commercial",
   "metadata": {},
   "outputs": [],
   "source": [
    "# the syntax for this function is x,y, so time, ssta\n",
    "ssta_trend_entire = stats.linregress(sst_ds.Year, sst_ds[\"Annual anomaly\"])"
   ]
  },
  {
   "cell_type": "code",
   "execution_count": 115,
   "id": "laden-barcelona",
   "metadata": {},
   "outputs": [
    {
     "data": {
      "text/plain": [
       "LinregressResult(slope=0.010013503267496782, intercept=-19.822035179626454, rvalue=0.8362694544139663, pvalue=8.796275453011977e-37, stderr=0.0005671794277975704)"
      ]
     },
     "execution_count": 115,
     "metadata": {},
     "output_type": "execute_result"
    }
   ],
   "source": [
    "ssta_trend_entire"
   ]
  },
  {
   "cell_type": "code",
   "execution_count": 116,
   "id": "utility-montreal",
   "metadata": {},
   "outputs": [
    {
     "data": {
      "text/plain": [
       "0.010013503267496782"
      ]
     },
     "execution_count": 116,
     "metadata": {},
     "output_type": "execute_result"
    }
   ],
   "source": [
    "ssta_trend_entire.slope"
   ]
  },
  {
   "cell_type": "markdown",
   "id": "friendly-flashing",
   "metadata": {},
   "source": [
    "The value I am interested in is the slope, what is this? What are the units?\n",
    "- Rate that temperature is increasing (degrees F/Year)\n",
    "\n",
    "Let's plot the line to see the fit. The equation is y = mx + b, where m is the slope and b is the intercept, what are x and y in this case?\n",
    "- x is time\n",
    "- y is temprature"
   ]
  },
  {
   "cell_type": "code",
   "execution_count": 117,
   "id": "flying-number",
   "metadata": {},
   "outputs": [],
   "source": [
    "import matplotlib.pyplot as plt"
   ]
  },
  {
   "cell_type": "code",
   "execution_count": 118,
   "id": "clean-turtle",
   "metadata": {},
   "outputs": [
    {
     "data": {
      "text/plain": [
       "Text(0, 0.5, 'SSTA ($\\\\degree$F)')"
      ]
     },
     "execution_count": 118,
     "metadata": {},
     "output_type": "execute_result"
    },
    {
     "data": {
      "image/png": "[encoded data removed]",
      "text/plain": [
       "<Figure size 936x432 with 1 Axes>"
      ]
     },
     "metadata": {
      "needs_background": "light"
     },
     "output_type": "display_data"
    }
   ],
   "source": [
    "plt.plot(sst_ds.Year, sst_ds[\"Annual anomaly\"])\n",
    "plt.plot(sst_ds.Year, ssta_trend_entire.slope*sst_ds.Year + ssta_trend_entire.intercept)\n",
    "plt.xlabel('Year')\n",
    "plt.ylabel('SSTA ($\\degree$F)')"
   ]
  },
  {
   "cell_type": "markdown",
   "id": "pleased-watch",
   "metadata": {},
   "source": [
    "How good of a fit is this for the last few decades?\n",
    "It's not so good, the trend is faster, steeper\n",
    "\n",
    "#### Let's do a linear fit for the last few decades and see what we get.\n",
    "\n",
    "How do we access the later data?"
   ]
  },
  {
   "cell_type": "code",
   "execution_count": 120,
   "id": "enhanced-bryan",
   "metadata": {},
   "outputs": [
    {
     "data": {
      "text/html": [
       "<div><svg style=\"position: absolute; width: 0; height: 0; overflow: hidden\">\n",
       "<defs>\n",
       "<symbol id=\"icon-database\" viewBox=\"0 0 32 32\">\n",
       "<path d=\"M16 0c-8.837 0-16 2.239-16 5v4c0 2.761 7.163 5 16 5s16-2.239 16-5v-4c0-2.761-7.163-5-16-5z\"></path>\n",
       "<path d=\"M16 17c-8.837 0-16-2.239-16-5v6c0 2.761 7.163 5 16 5s16-2.239 16-5v-6c0 2.761-7.163 5-16 5z\"></path>\n",
       "<path d=\"M16 26c-8.837 0-16-2.239-16-5v6c0 2.761 7.163 5 16 5s16-2.239 16-5v-6c0 2.761-7.163 5-16 5z\"></path>\n",
       "</symbol>\n",
       "<symbol id=\"icon-file-text2\" viewBox=\"0 0 32 32\">\n",
       "<path d=\"M28.681 7.159c-0.694-0.947-1.662-2.053-2.724-3.116s-2.169-2.030-3.116-2.724c-1.612-1.182-2.393-1.319-2.841-1.319h-15.5c-1.378 0-2.5 1.121-2.5 2.5v27c0 1.378 1.122 2.5 2.5 2.5h23c1.378 0 2.5-1.122 2.5-2.5v-19.5c0-0.448-0.137-1.23-1.319-2.841zM24.543 5.457c0.959 0.959 1.712 1.825 2.268 2.543h-4.811v-4.811c0.718 0.556 1.584 1.309 2.543 2.268zM28 29.5c0 0.271-0.229 0.5-0.5 0.5h-23c-0.271 0-0.5-0.229-0.5-0.5v-27c0-0.271 0.229-0.5 0.5-0.5 0 0 15.499-0 15.5 0v7c0 0.552 0.448 1 1 1h7v19.5z\"></path>\n",
       "<path d=\"M23 26h-14c-0.552 0-1-0.448-1-1s0.448-1 1-1h14c0.552 0 1 0.448 1 1s-0.448 1-1 1z\"></path>\n",
       "<path d=\"M23 22h-14c-0.552 0-1-0.448-1-1s0.448-1 1-1h14c0.552 0 1 0.448 1 1s-0.448 1-1 1z\"></path>\n",
       "<path d=\"M23 18h-14c-0.552 0-1-0.448-1-1s0.448-1 1-1h14c0.552 0 1 0.448 1 1s-0.448 1-1 1z\"></path>\n",
       "</symbol>\n",
       "</defs>\n",
       "</svg>\n",
       "<style>/* CSS stylesheet for displaying xarray objects in jupyterlab.\n",
       " *\n",
       " */\n",
       "\n",
       ":root {\n",
       "  --xr-font-color0: var(--jp-content-font-color0, rgba(0, 0, 0, 1));\n",
       "  --xr-font-color2: var(--jp-content-font-color2, rgba(0, 0, 0, 0.54));\n",
       "  --xr-font-color3: var(--jp-content-font-color3, rgba(0, 0, 0, 0.38));\n",
       "  --xr-border-color: var(--jp-border-color2, #e0e0e0);\n",
       "  --xr-disabled-color: var(--jp-layout-color3, #bdbdbd);\n",
       "  --xr-background-color: var(--jp-layout-color0, white);\n",
       "  --xr-background-color-row-even: var(--jp-layout-color1, white);\n",
       "  --xr-background-color-row-odd: var(--jp-layout-color2, #eeeeee);\n",
       "}\n",
       "\n",
       "html[theme=dark],\n",
       "body.vscode-dark {\n",
       "  --xr-font-color0: rgba(255, 255, 255, 1);\n",
       "  --xr-font-color2: rgba(255, 255, 255, 0.54);\n",
       "  --xr-font-color3: rgba(255, 255, 255, 0.38);\n",
       "  --xr-border-color: #1F1F1F;\n",
       "  --xr-disabled-color: #515151;\n",
       "  --xr-background-color: #111111;\n",
       "  --xr-background-color-row-even: #111111;\n",
       "  --xr-background-color-row-odd: #313131;\n",
       "}\n",
       "\n",
       ".xr-wrap {\n",
       "  display: block;\n",
       "  min-width: 300px;\n",
       "  max-width: 700px;\n",
       "}\n",
       "\n",
       ".xr-text-repr-fallback {\n",
       "  /* fallback to plain text repr when CSS is not injected (untrusted notebook) */\n",
       "  display: none;\n",
       "}\n",
       "\n",
       ".xr-header {\n",
       "  padding-top: 6px;\n",
       "  padding-bottom: 6px;\n",
       "  margin-bottom: 4px;\n",
       "  border-bottom: solid 1px var(--xr-border-color);\n",
       "}\n",
       "\n",
       ".xr-header > div,\n",
       ".xr-header > ul {\n",
       "  display: inline;\n",
       "  margin-top: 0;\n",
       "  margin-bottom: 0;\n",
       "}\n",
       "\n",
       ".xr-obj-type,\n",
       ".xr-array-name {\n",
       "  margin-left: 2px;\n",
       "  margin-right: 10px;\n",
       "}\n",
       "\n",
       ".xr-obj-type {\n",
       "  color: var(--xr-font-color2);\n",
       "}\n",
       "\n",
       ".xr-sections {\n",
       "  padding-left: 0 !important;\n",
       "  display: grid;\n",
       "  grid-template-columns: 150px auto auto 1fr 20px 20px;\n",
       "}\n",
       "\n",
       ".xr-section-item {\n",
       "  display: contents;\n",
       "}\n",
       "\n",
       ".xr-section-item input {\n",
       "  display: none;\n",
       "}\n",
       "\n",
       ".xr-section-item input + label {\n",
       "  color: var(--xr-disabled-color);\n",
       "}\n",
       "\n",
       ".xr-section-item input:enabled + label {\n",
       "  cursor: pointer;\n",
       "  color: var(--xr-font-color2);\n",
       "}\n",
       "\n",
       ".xr-section-item input:enabled + label:hover {\n",
       "  color: var(--xr-font-color0);\n",
       "}\n",
       "\n",
       ".xr-section-summary {\n",
       "  grid-column: 1;\n",
       "  color: var(--xr-font-color2);\n",
       "  font-weight: 500;\n",
       "}\n",
       "\n",
       ".xr-section-summary > span {\n",
       "  display: inline-block;\n",
       "  padding-left: 0.5em;\n",
       "}\n",
       "\n",
       ".xr-section-summary-in:disabled + label {\n",
       "  color: var(--xr-font-color2);\n",
       "}\n",
       "\n",
       ".xr-section-summary-in + label:before {\n",
       "  display: inline-block;\n",
       "  content: '►';\n",
       "  font-size: 11px;\n",
       "  width: 15px;\n",
       "  text-align: center;\n",
       "}\n",
       "\n",
       ".xr-section-summary-in:disabled + label:before {\n",
       "  color: var(--xr-disabled-color);\n",
       "}\n",
       "\n",
       ".xr-section-summary-in:checked + label:before {\n",
       "  content: '▼';\n",
       "}\n",
       "\n",
       ".xr-section-summary-in:checked + label > span {\n",
       "  display: none;\n",
       "}\n",
       "\n",
       ".xr-section-summary,\n",
       ".xr-section-inline-details {\n",
       "  padding-top: 4px;\n",
       "  padding-bottom: 4px;\n",
       "}\n",
       "\n",
       ".xr-section-inline-details {\n",
       "  grid-column: 2 / -1;\n",
       "}\n",
       "\n",
       ".xr-section-details {\n",
       "  display: none;\n",
       "  grid-column: 1 / -1;\n",
       "  margin-bottom: 5px;\n",
       "}\n",
       "\n",
       ".xr-section-summary-in:checked ~ .xr-section-details {\n",
       "  display: contents;\n",
       "}\n",
       "\n",
       ".xr-array-wrap {\n",
       "  grid-column: 1 / -1;\n",
       "  display: grid;\n",
       "  grid-template-columns: 20px auto;\n",
       "}\n",
       "\n",
       ".xr-array-wrap > label {\n",
       "  grid-column: 1;\n",
       "  vertical-align: top;\n",
       "}\n",
       "\n",
       ".xr-preview {\n",
       "  color: var(--xr-font-color3);\n",
       "}\n",
       "\n",
       ".xr-array-preview,\n",
       ".xr-array-data {\n",
       "  padding: 0 5px !important;\n",
       "  grid-column: 2;\n",
       "}\n",
       "\n",
       ".xr-array-data,\n",
       ".xr-array-in:checked ~ .xr-array-preview {\n",
       "  display: none;\n",
       "}\n",
       "\n",
       ".xr-array-in:checked ~ .xr-array-data,\n",
       ".xr-array-preview {\n",
       "  display: inline-block;\n",
       "}\n",
       "\n",
       ".xr-dim-list {\n",
       "  display: inline-block !important;\n",
       "  list-style: none;\n",
       "  padding: 0 !important;\n",
       "  margin: 0;\n",
       "}\n",
       "\n",
       ".xr-dim-list li {\n",
       "  display: inline-block;\n",
       "  padding: 0;\n",
       "  margin: 0;\n",
       "}\n",
       "\n",
       ".xr-dim-list:before {\n",
       "  content: '(';\n",
       "}\n",
       "\n",
       ".xr-dim-list:after {\n",
       "  content: ')';\n",
       "}\n",
       "\n",
       ".xr-dim-list li:not(:last-child):after {\n",
       "  content: ',';\n",
       "  padding-right: 5px;\n",
       "}\n",
       "\n",
       ".xr-has-index {\n",
       "  font-weight: bold;\n",
       "}\n",
       "\n",
       ".xr-var-list,\n",
       ".xr-var-item {\n",
       "  display: contents;\n",
       "}\n",
       "\n",
       ".xr-var-item > div,\n",
       ".xr-var-item label,\n",
       ".xr-var-item > .xr-var-name span {\n",
       "  background-color: var(--xr-background-color-row-even);\n",
       "  margin-bottom: 0;\n",
       "}\n",
       "\n",
       ".xr-var-item > .xr-var-name:hover span {\n",
       "  padding-right: 5px;\n",
       "}\n",
       "\n",
       ".xr-var-list > li:nth-child(odd) > div,\n",
       ".xr-var-list > li:nth-child(odd) > label,\n",
       ".xr-var-list > li:nth-child(odd) > .xr-var-name span {\n",
       "  background-color: var(--xr-background-color-row-odd);\n",
       "}\n",
       "\n",
       ".xr-var-name {\n",
       "  grid-column: 1;\n",
       "}\n",
       "\n",
       ".xr-var-dims {\n",
       "  grid-column: 2;\n",
       "}\n",
       "\n",
       ".xr-var-dtype {\n",
       "  grid-column: 3;\n",
       "  text-align: right;\n",
       "  color: var(--xr-font-color2);\n",
       "}\n",
       "\n",
       ".xr-var-preview {\n",
       "  grid-column: 4;\n",
       "}\n",
       "\n",
       ".xr-var-name,\n",
       ".xr-var-dims,\n",
       ".xr-var-dtype,\n",
       ".xr-preview,\n",
       ".xr-attrs dt {\n",
       "  white-space: nowrap;\n",
       "  overflow: hidden;\n",
       "  text-overflow: ellipsis;\n",
       "  padding-right: 10px;\n",
       "}\n",
       "\n",
       ".xr-var-name:hover,\n",
       ".xr-var-dims:hover,\n",
       ".xr-var-dtype:hover,\n",
       ".xr-attrs dt:hover {\n",
       "  overflow: visible;\n",
       "  width: auto;\n",
       "  z-index: 1;\n",
       "}\n",
       "\n",
       ".xr-var-attrs,\n",
       ".xr-var-data {\n",
       "  display: none;\n",
       "  background-color: var(--xr-background-color) !important;\n",
       "  padding-bottom: 5px !important;\n",
       "}\n",
       "\n",
       ".xr-var-attrs-in:checked ~ .xr-var-attrs,\n",
       ".xr-var-data-in:checked ~ .xr-var-data {\n",
       "  display: block;\n",
       "}\n",
       "\n",
       ".xr-var-data > table {\n",
       "  float: right;\n",
       "}\n",
       "\n",
       ".xr-var-name span,\n",
       ".xr-var-data,\n",
       ".xr-attrs {\n",
       "  padding-left: 25px !important;\n",
       "}\n",
       "\n",
       ".xr-attrs,\n",
       ".xr-var-attrs,\n",
       ".xr-var-data {\n",
       "  grid-column: 1 / -1;\n",
       "}\n",
       "\n",
       "dl.xr-attrs {\n",
       "  padding: 0;\n",
       "  margin: 0;\n",
       "  display: grid;\n",
       "  grid-template-columns: 125px auto;\n",
       "}\n",
       "\n",
       ".xr-attrs dt, dd {\n",
       "  padding: 0;\n",
       "  margin: 0;\n",
       "  float: left;\n",
       "  padding-right: 10px;\n",
       "  width: auto;\n",
       "}\n",
       "\n",
       ".xr-attrs dt {\n",
       "  font-weight: normal;\n",
       "  grid-column: 1;\n",
       "}\n",
       "\n",
       ".xr-attrs dt:hover span {\n",
       "  display: inline-block;\n",
       "  background: var(--xr-background-color);\n",
       "  padding-right: 10px;\n",
       "}\n",
       "\n",
       ".xr-attrs dd {\n",
       "  grid-column: 2;\n",
       "  white-space: pre-wrap;\n",
       "  word-break: break-all;\n",
       "}\n",
       "\n",
       ".xr-icon-database,\n",
       ".xr-icon-file-text2 {\n",
       "  display: inline-block;\n",
       "  vertical-align: middle;\n",
       "  width: 1em;\n",
       "  height: 1.5em !important;\n",
       "  stroke-width: 0;\n",
       "  stroke: currentColor;\n",
       "  fill: currentColor;\n",
       "}\n",
       "</style><pre class='xr-text-repr-fallback'>&lt;xarray.DataArray &#x27;Year&#x27; (Year: 36)&gt;\n",
       "array([1980, 1981, 1982, 1983, 1984, 1985, 1986, 1987, 1988, 1989, 1990, 1991,\n",
       "       1992, 1993, 1994, 1995, 1996, 1997, 1998, 1999, 2000, 2001, 2002, 2003,\n",
       "       2004, 2005, 2006, 2007, 2008, 2009, 2010, 2011, 2012, 2013, 2014, 2015])\n",
       "Coordinates:\n",
       "  * Year     (Year) int64 1980 1981 1982 1983 1984 ... 2011 2012 2013 2014 2015</pre><div class='xr-wrap' hidden><div class='xr-header'><div class='xr-obj-type'>xarray.DataArray</div><div class='xr-array-name'>'Year'</div><ul class='xr-dim-list'><li><span class='xr-has-index'>Year</span>: 36</li></ul></div><ul class='xr-sections'><li class='xr-section-item'><div class='xr-array-wrap'><input id='section-b2625145-b8b8-49f6-a49c-fb8ddd2b7716' class='xr-array-in' type='checkbox' checked><label for='section-b2625145-b8b8-49f6-a49c-fb8ddd2b7716' title='Show/hide data repr'><svg class='icon xr-icon-database'><use xlink:href='#icon-database'></use></svg></label><div class='xr-array-preview xr-preview'><span>1980 1981 1982 1983 1984 1985 1986 ... 2010 2011 2012 2013 2014 2015</span></div><div class='xr-array-data'><pre>array([1980, 1981, 1982, 1983, 1984, 1985, 1986, 1987, 1988, 1989, 1990, 1991,\n",
       "       1992, 1993, 1994, 1995, 1996, 1997, 1998, 1999, 2000, 2001, 2002, 2003,\n",
       "       2004, 2005, 2006, 2007, 2008, 2009, 2010, 2011, 2012, 2013, 2014, 2015])</pre></div></div></li><li class='xr-section-item'><input id='section-041a196e-d3cd-4472-91c4-76576dcf9fd4' class='xr-section-summary-in' type='checkbox'  checked><label for='section-041a196e-d3cd-4472-91c4-76576dcf9fd4' class='xr-section-summary' >Coordinates: <span>(1)</span></label><div class='xr-section-inline-details'></div><div class='xr-section-details'><ul class='xr-var-list'><li class='xr-var-item'><div class='xr-var-name'><span class='xr-has-index'>Year</span></div><div class='xr-var-dims'>(Year)</div><div class='xr-var-dtype'>int64</div><div class='xr-var-preview xr-preview'>1980 1981 1982 ... 2013 2014 2015</div><input id='attrs-e0d3b601-43e5-4a36-a2c4-806d513f541f' class='xr-var-attrs-in' type='checkbox' disabled><label for='attrs-e0d3b601-43e5-4a36-a2c4-806d513f541f' title='Show/Hide attributes'><svg class='icon xr-icon-file-text2'><use xlink:href='#icon-file-text2'></use></svg></label><input id='data-99c59c12-fd72-4ce6-9647-e143884f539d' class='xr-var-data-in' type='checkbox'><label for='data-99c59c12-fd72-4ce6-9647-e143884f539d' title='Show/Hide data repr'><svg class='icon xr-icon-database'><use xlink:href='#icon-database'></use></svg></label><div class='xr-var-attrs'><dl class='xr-attrs'></dl></div><div class='xr-var-data'><pre>array([1980, 1981, 1982, 1983, 1984, 1985, 1986, 1987, 1988, 1989, 1990, 1991,\n",
       "       1992, 1993, 1994, 1995, 1996, 1997, 1998, 1999, 2000, 2001, 2002, 2003,\n",
       "       2004, 2005, 2006, 2007, 2008, 2009, 2010, 2011, 2012, 2013, 2014, 2015])</pre></div></li></ul></div></li><li class='xr-section-item'><input id='section-64ae398b-11b9-4a6d-bee1-2179a4de03d6' class='xr-section-summary-in' type='checkbox' disabled ><label for='section-64ae398b-11b9-4a6d-bee1-2179a4de03d6' class='xr-section-summary'  title='Expand/collapse section'>Attributes: <span>(0)</span></label><div class='xr-section-inline-details'></div><div class='xr-section-details'><dl class='xr-attrs'></dl></div></li></ul></div></div>"
      ],
      "text/plain": [
       "<xarray.DataArray 'Year' (Year: 36)>\n",
       "array([1980, 1981, 1982, 1983, 1984, 1985, 1986, 1987, 1988, 1989, 1990, 1991,\n",
       "       1992, 1993, 1994, 1995, 1996, 1997, 1998, 1999, 2000, 2001, 2002, 2003,\n",
       "       2004, 2005, 2006, 2007, 2008, 2009, 2010, 2011, 2012, 2013, 2014, 2015])\n",
       "Coordinates:\n",
       "  * Year     (Year) int64 1980 1981 1982 1983 1984 ... 2011 2012 2013 2014 2015"
      ]
     },
     "execution_count": 120,
     "metadata": {},
     "output_type": "execute_result"
    }
   ],
   "source": [
    "sst_ds.Year[100:]"
   ]
  },
  {
   "cell_type": "code",
   "execution_count": 121,
   "id": "noticed-instruction",
   "metadata": {},
   "outputs": [
    {
     "data": {
      "text/html": [
       "<div><svg style=\"position: absolute; width: 0; height: 0; overflow: hidden\">\n",
       "<defs>\n",
       "<symbol id=\"icon-database\" viewBox=\"0 0 32 32\">\n",
       "<path d=\"M16 0c-8.837 0-16 2.239-16 5v4c0 2.761 7.163 5 16 5s16-2.239 16-5v-4c0-2.761-7.163-5-16-5z\"></path>\n",
       "<path d=\"M16 17c-8.837 0-16-2.239-16-5v6c0 2.761 7.163 5 16 5s16-2.239 16-5v-6c0 2.761-7.163 5-16 5z\"></path>\n",
       "<path d=\"M16 26c-8.837 0-16-2.239-16-5v6c0 2.761 7.163 5 16 5s16-2.239 16-5v-6c0 2.761-7.163 5-16 5z\"></path>\n",
       "</symbol>\n",
       "<symbol id=\"icon-file-text2\" viewBox=\"0 0 32 32\">\n",
       "<path d=\"M28.681 7.159c-0.694-0.947-1.662-2.053-2.724-3.116s-2.169-2.030-3.116-2.724c-1.612-1.182-2.393-1.319-2.841-1.319h-15.5c-1.378 0-2.5 1.121-2.5 2.5v27c0 1.378 1.122 2.5 2.5 2.5h23c1.378 0 2.5-1.122 2.5-2.5v-19.5c0-0.448-0.137-1.23-1.319-2.841zM24.543 5.457c0.959 0.959 1.712 1.825 2.268 2.543h-4.811v-4.811c0.718 0.556 1.584 1.309 2.543 2.268zM28 29.5c0 0.271-0.229 0.5-0.5 0.5h-23c-0.271 0-0.5-0.229-0.5-0.5v-27c0-0.271 0.229-0.5 0.5-0.5 0 0 15.499-0 15.5 0v7c0 0.552 0.448 1 1 1h7v19.5z\"></path>\n",
       "<path d=\"M23 26h-14c-0.552 0-1-0.448-1-1s0.448-1 1-1h14c0.552 0 1 0.448 1 1s-0.448 1-1 1z\"></path>\n",
       "<path d=\"M23 22h-14c-0.552 0-1-0.448-1-1s0.448-1 1-1h14c0.552 0 1 0.448 1 1s-0.448 1-1 1z\"></path>\n",
       "<path d=\"M23 18h-14c-0.552 0-1-0.448-1-1s0.448-1 1-1h14c0.552 0 1 0.448 1 1s-0.448 1-1 1z\"></path>\n",
       "</symbol>\n",
       "</defs>\n",
       "</svg>\n",
       "<style>/* CSS stylesheet for displaying xarray objects in jupyterlab.\n",
       " *\n",
       " */\n",
       "\n",
       ":root {\n",
       "  --xr-font-color0: var(--jp-content-font-color0, rgba(0, 0, 0, 1));\n",
       "  --xr-font-color2: var(--jp-content-font-color2, rgba(0, 0, 0, 0.54));\n",
       "  --xr-font-color3: var(--jp-content-font-color3, rgba(0, 0, 0, 0.38));\n",
       "  --xr-border-color: var(--jp-border-color2, #e0e0e0);\n",
       "  --xr-disabled-color: var(--jp-layout-color3, #bdbdbd);\n",
       "  --xr-background-color: var(--jp-layout-color0, white);\n",
       "  --xr-background-color-row-even: var(--jp-layout-color1, white);\n",
       "  --xr-background-color-row-odd: var(--jp-layout-color2, #eeeeee);\n",
       "}\n",
       "\n",
       "html[theme=dark],\n",
       "body.vscode-dark {\n",
       "  --xr-font-color0: rgba(255, 255, 255, 1);\n",
       "  --xr-font-color2: rgba(255, 255, 255, 0.54);\n",
       "  --xr-font-color3: rgba(255, 255, 255, 0.38);\n",
       "  --xr-border-color: #1F1F1F;\n",
       "  --xr-disabled-color: #515151;\n",
       "  --xr-background-color: #111111;\n",
       "  --xr-background-color-row-even: #111111;\n",
       "  --xr-background-color-row-odd: #313131;\n",
       "}\n",
       "\n",
       ".xr-wrap {\n",
       "  display: block;\n",
       "  min-width: 300px;\n",
       "  max-width: 700px;\n",
       "}\n",
       "\n",
       ".xr-text-repr-fallback {\n",
       "  /* fallback to plain text repr when CSS is not injected (untrusted notebook) */\n",
       "  display: none;\n",
       "}\n",
       "\n",
       ".xr-header {\n",
       "  padding-top: 6px;\n",
       "  padding-bottom: 6px;\n",
       "  margin-bottom: 4px;\n",
       "  border-bottom: solid 1px var(--xr-border-color);\n",
       "}\n",
       "\n",
       ".xr-header > div,\n",
       ".xr-header > ul {\n",
       "  display: inline;\n",
       "  margin-top: 0;\n",
       "  margin-bottom: 0;\n",
       "}\n",
       "\n",
       ".xr-obj-type,\n",
       ".xr-array-name {\n",
       "  margin-left: 2px;\n",
       "  margin-right: 10px;\n",
       "}\n",
       "\n",
       ".xr-obj-type {\n",
       "  color: var(--xr-font-color2);\n",
       "}\n",
       "\n",
       ".xr-sections {\n",
       "  padding-left: 0 !important;\n",
       "  display: grid;\n",
       "  grid-template-columns: 150px auto auto 1fr 20px 20px;\n",
       "}\n",
       "\n",
       ".xr-section-item {\n",
       "  display: contents;\n",
       "}\n",
       "\n",
       ".xr-section-item input {\n",
       "  display: none;\n",
       "}\n",
       "\n",
       ".xr-section-item input + label {\n",
       "  color: var(--xr-disabled-color);\n",
       "}\n",
       "\n",
       ".xr-section-item input:enabled + label {\n",
       "  cursor: pointer;\n",
       "  color: var(--xr-font-color2);\n",
       "}\n",
       "\n",
       ".xr-section-item input:enabled + label:hover {\n",
       "  color: var(--xr-font-color0);\n",
       "}\n",
       "\n",
       ".xr-section-summary {\n",
       "  grid-column: 1;\n",
       "  color: var(--xr-font-color2);\n",
       "  font-weight: 500;\n",
       "}\n",
       "\n",
       ".xr-section-summary > span {\n",
       "  display: inline-block;\n",
       "  padding-left: 0.5em;\n",
       "}\n",
       "\n",
       ".xr-section-summary-in:disabled + label {\n",
       "  color: var(--xr-font-color2);\n",
       "}\n",
       "\n",
       ".xr-section-summary-in + label:before {\n",
       "  display: inline-block;\n",
       "  content: '►';\n",
       "  font-size: 11px;\n",
       "  width: 15px;\n",
       "  text-align: center;\n",
       "}\n",
       "\n",
       ".xr-section-summary-in:disabled + label:before {\n",
       "  color: var(--xr-disabled-color);\n",
       "}\n",
       "\n",
       ".xr-section-summary-in:checked + label:before {\n",
       "  content: '▼';\n",
       "}\n",
       "\n",
       ".xr-section-summary-in:checked + label > span {\n",
       "  display: none;\n",
       "}\n",
       "\n",
       ".xr-section-summary,\n",
       ".xr-section-inline-details {\n",
       "  padding-top: 4px;\n",
       "  padding-bottom: 4px;\n",
       "}\n",
       "\n",
       ".xr-section-inline-details {\n",
       "  grid-column: 2 / -1;\n",
       "}\n",
       "\n",
       ".xr-section-details {\n",
       "  display: none;\n",
       "  grid-column: 1 / -1;\n",
       "  margin-bottom: 5px;\n",
       "}\n",
       "\n",
       ".xr-section-summary-in:checked ~ .xr-section-details {\n",
       "  display: contents;\n",
       "}\n",
       "\n",
       ".xr-array-wrap {\n",
       "  grid-column: 1 / -1;\n",
       "  display: grid;\n",
       "  grid-template-columns: 20px auto;\n",
       "}\n",
       "\n",
       ".xr-array-wrap > label {\n",
       "  grid-column: 1;\n",
       "  vertical-align: top;\n",
       "}\n",
       "\n",
       ".xr-preview {\n",
       "  color: var(--xr-font-color3);\n",
       "}\n",
       "\n",
       ".xr-array-preview,\n",
       ".xr-array-data {\n",
       "  padding: 0 5px !important;\n",
       "  grid-column: 2;\n",
       "}\n",
       "\n",
       ".xr-array-data,\n",
       ".xr-array-in:checked ~ .xr-array-preview {\n",
       "  display: none;\n",
       "}\n",
       "\n",
       ".xr-array-in:checked ~ .xr-array-data,\n",
       ".xr-array-preview {\n",
       "  display: inline-block;\n",
       "}\n",
       "\n",
       ".xr-dim-list {\n",
       "  display: inline-block !important;\n",
       "  list-style: none;\n",
       "  padding: 0 !important;\n",
       "  margin: 0;\n",
       "}\n",
       "\n",
       ".xr-dim-list li {\n",
       "  display: inline-block;\n",
       "  padding: 0;\n",
       "  margin: 0;\n",
       "}\n",
       "\n",
       ".xr-dim-list:before {\n",
       "  content: '(';\n",
       "}\n",
       "\n",
       ".xr-dim-list:after {\n",
       "  content: ')';\n",
       "}\n",
       "\n",
       ".xr-dim-list li:not(:last-child):after {\n",
       "  content: ',';\n",
       "  padding-right: 5px;\n",
       "}\n",
       "\n",
       ".xr-has-index {\n",
       "  font-weight: bold;\n",
       "}\n",
       "\n",
       ".xr-var-list,\n",
       ".xr-var-item {\n",
       "  display: contents;\n",
       "}\n",
       "\n",
       ".xr-var-item > div,\n",
       ".xr-var-item label,\n",
       ".xr-var-item > .xr-var-name span {\n",
       "  background-color: var(--xr-background-color-row-even);\n",
       "  margin-bottom: 0;\n",
       "}\n",
       "\n",
       ".xr-var-item > .xr-var-name:hover span {\n",
       "  padding-right: 5px;\n",
       "}\n",
       "\n",
       ".xr-var-list > li:nth-child(odd) > div,\n",
       ".xr-var-list > li:nth-child(odd) > label,\n",
       ".xr-var-list > li:nth-child(odd) > .xr-var-name span {\n",
       "  background-color: var(--xr-background-color-row-odd);\n",
       "}\n",
       "\n",
       ".xr-var-name {\n",
       "  grid-column: 1;\n",
       "}\n",
       "\n",
       ".xr-var-dims {\n",
       "  grid-column: 2;\n",
       "}\n",
       "\n",
       ".xr-var-dtype {\n",
       "  grid-column: 3;\n",
       "  text-align: right;\n",
       "  color: var(--xr-font-color2);\n",
       "}\n",
       "\n",
       ".xr-var-preview {\n",
       "  grid-column: 4;\n",
       "}\n",
       "\n",
       ".xr-var-name,\n",
       ".xr-var-dims,\n",
       ".xr-var-dtype,\n",
       ".xr-preview,\n",
       ".xr-attrs dt {\n",
       "  white-space: nowrap;\n",
       "  overflow: hidden;\n",
       "  text-overflow: ellipsis;\n",
       "  padding-right: 10px;\n",
       "}\n",
       "\n",
       ".xr-var-name:hover,\n",
       ".xr-var-dims:hover,\n",
       ".xr-var-dtype:hover,\n",
       ".xr-attrs dt:hover {\n",
       "  overflow: visible;\n",
       "  width: auto;\n",
       "  z-index: 1;\n",
       "}\n",
       "\n",
       ".xr-var-attrs,\n",
       ".xr-var-data {\n",
       "  display: none;\n",
       "  background-color: var(--xr-background-color) !important;\n",
       "  padding-bottom: 5px !important;\n",
       "}\n",
       "\n",
       ".xr-var-attrs-in:checked ~ .xr-var-attrs,\n",
       ".xr-var-data-in:checked ~ .xr-var-data {\n",
       "  display: block;\n",
       "}\n",
       "\n",
       ".xr-var-data > table {\n",
       "  float: right;\n",
       "}\n",
       "\n",
       ".xr-var-name span,\n",
       ".xr-var-data,\n",
       ".xr-attrs {\n",
       "  padding-left: 25px !important;\n",
       "}\n",
       "\n",
       ".xr-attrs,\n",
       ".xr-var-attrs,\n",
       ".xr-var-data {\n",
       "  grid-column: 1 / -1;\n",
       "}\n",
       "\n",
       "dl.xr-attrs {\n",
       "  padding: 0;\n",
       "  margin: 0;\n",
       "  display: grid;\n",
       "  grid-template-columns: 125px auto;\n",
       "}\n",
       "\n",
       ".xr-attrs dt, dd {\n",
       "  padding: 0;\n",
       "  margin: 0;\n",
       "  float: left;\n",
       "  padding-right: 10px;\n",
       "  width: auto;\n",
       "}\n",
       "\n",
       ".xr-attrs dt {\n",
       "  font-weight: normal;\n",
       "  grid-column: 1;\n",
       "}\n",
       "\n",
       ".xr-attrs dt:hover span {\n",
       "  display: inline-block;\n",
       "  background: var(--xr-background-color);\n",
       "  padding-right: 10px;\n",
       "}\n",
       "\n",
       ".xr-attrs dd {\n",
       "  grid-column: 2;\n",
       "  white-space: pre-wrap;\n",
       "  word-break: break-all;\n",
       "}\n",
       "\n",
       ".xr-icon-database,\n",
       ".xr-icon-file-text2 {\n",
       "  display: inline-block;\n",
       "  vertical-align: middle;\n",
       "  width: 1em;\n",
       "  height: 1.5em !important;\n",
       "  stroke-width: 0;\n",
       "  stroke: currentColor;\n",
       "  fill: currentColor;\n",
       "}\n",
       "</style><pre class='xr-text-repr-fallback'>&lt;xarray.DataArray &#x27;Annual anomaly&#x27; (Year: 36)&gt;\n",
       "array([ 0.0771966,  0.0219924, -0.0032202,  0.1239354, -0.0596304,\n",
       "       -0.109917 , -0.0137916,  0.2456388,  0.1634436,  0.0785898,\n",
       "        0.274842 ,  0.2497932,  0.0669942,  0.0748224,  0.1436454,\n",
       "        0.2219328,  0.1661922,  0.428193 ,  0.5327244,  0.1698606,\n",
       "        0.2325024,  0.4042188,  0.4671414,  0.5250798,  0.4946364,\n",
       "        0.5327874,  0.5114556,  0.3846042,  0.3673116,  0.5894424,\n",
       "        0.6127182,  0.4286736,  0.528696 ,  0.5846742,  0.7512552,\n",
       "        0.935577 ])\n",
       "Coordinates:\n",
       "  * Year     (Year) int64 1980 1981 1982 1983 1984 ... 2011 2012 2013 2014 2015</pre><div class='xr-wrap' hidden><div class='xr-header'><div class='xr-obj-type'>xarray.DataArray</div><div class='xr-array-name'>'Annual anomaly'</div><ul class='xr-dim-list'><li><span class='xr-has-index'>Year</span>: 36</li></ul></div><ul class='xr-sections'><li class='xr-section-item'><div class='xr-array-wrap'><input id='section-e86ec9c5-c992-472a-9fc1-3d5d1c54f102' class='xr-array-in' type='checkbox' checked><label for='section-e86ec9c5-c992-472a-9fc1-3d5d1c54f102' title='Show/hide data repr'><svg class='icon xr-icon-database'><use xlink:href='#icon-database'></use></svg></label><div class='xr-array-preview xr-preview'><span>0.0772 0.02199 -0.00322 0.1239 ... 0.5287 0.5847 0.7513 0.9356</span></div><div class='xr-array-data'><pre>array([ 0.0771966,  0.0219924, -0.0032202,  0.1239354, -0.0596304,\n",
       "       -0.109917 , -0.0137916,  0.2456388,  0.1634436,  0.0785898,\n",
       "        0.274842 ,  0.2497932,  0.0669942,  0.0748224,  0.1436454,\n",
       "        0.2219328,  0.1661922,  0.428193 ,  0.5327244,  0.1698606,\n",
       "        0.2325024,  0.4042188,  0.4671414,  0.5250798,  0.4946364,\n",
       "        0.5327874,  0.5114556,  0.3846042,  0.3673116,  0.5894424,\n",
       "        0.6127182,  0.4286736,  0.528696 ,  0.5846742,  0.7512552,\n",
       "        0.935577 ])</pre></div></div></li><li class='xr-section-item'><input id='section-a7a09fdb-7324-4f05-ba0e-801c69a24a2d' class='xr-section-summary-in' type='checkbox'  checked><label for='section-a7a09fdb-7324-4f05-ba0e-801c69a24a2d' class='xr-section-summary' >Coordinates: <span>(1)</span></label><div class='xr-section-inline-details'></div><div class='xr-section-details'><ul class='xr-var-list'><li class='xr-var-item'><div class='xr-var-name'><span class='xr-has-index'>Year</span></div><div class='xr-var-dims'>(Year)</div><div class='xr-var-dtype'>int64</div><div class='xr-var-preview xr-preview'>1980 1981 1982 ... 2013 2014 2015</div><input id='attrs-ee25353b-359b-463b-921e-c27f708248ea' class='xr-var-attrs-in' type='checkbox' disabled><label for='attrs-ee25353b-359b-463b-921e-c27f708248ea' title='Show/Hide attributes'><svg class='icon xr-icon-file-text2'><use xlink:href='#icon-file-text2'></use></svg></label><input id='data-a232d729-cea3-415f-8e36-949e1ddeec87' class='xr-var-data-in' type='checkbox'><label for='data-a232d729-cea3-415f-8e36-949e1ddeec87' title='Show/Hide data repr'><svg class='icon xr-icon-database'><use xlink:href='#icon-database'></use></svg></label><div class='xr-var-attrs'><dl class='xr-attrs'></dl></div><div class='xr-var-data'><pre>array([1980, 1981, 1982, 1983, 1984, 1985, 1986, 1987, 1988, 1989, 1990, 1991,\n",
       "       1992, 1993, 1994, 1995, 1996, 1997, 1998, 1999, 2000, 2001, 2002, 2003,\n",
       "       2004, 2005, 2006, 2007, 2008, 2009, 2010, 2011, 2012, 2013, 2014, 2015])</pre></div></li></ul></div></li><li class='xr-section-item'><input id='section-ddcebaed-3a7f-467c-8e4f-31bb5de153f5' class='xr-section-summary-in' type='checkbox' disabled ><label for='section-ddcebaed-3a7f-467c-8e4f-31bb5de153f5' class='xr-section-summary'  title='Expand/collapse section'>Attributes: <span>(0)</span></label><div class='xr-section-inline-details'></div><div class='xr-section-details'><dl class='xr-attrs'></dl></div></li></ul></div></div>"
      ],
      "text/plain": [
       "<xarray.DataArray 'Annual anomaly' (Year: 36)>\n",
       "array([ 0.0771966,  0.0219924, -0.0032202,  0.1239354, -0.0596304,\n",
       "       -0.109917 , -0.0137916,  0.2456388,  0.1634436,  0.0785898,\n",
       "        0.274842 ,  0.2497932,  0.0669942,  0.0748224,  0.1436454,\n",
       "        0.2219328,  0.1661922,  0.428193 ,  0.5327244,  0.1698606,\n",
       "        0.2325024,  0.4042188,  0.4671414,  0.5250798,  0.4946364,\n",
       "        0.5327874,  0.5114556,  0.3846042,  0.3673116,  0.5894424,\n",
       "        0.6127182,  0.4286736,  0.528696 ,  0.5846742,  0.7512552,\n",
       "        0.935577 ])\n",
       "Coordinates:\n",
       "  * Year     (Year) int64 1980 1981 1982 1983 1984 ... 2011 2012 2013 2014 2015"
      ]
     },
     "execution_count": 121,
     "metadata": {},
     "output_type": "execute_result"
    }
   ],
   "source": [
    "sst_ds[\"Annual anomaly\"][100:]"
   ]
  },
  {
   "cell_type": "code",
   "execution_count": 122,
   "id": "planned-charity",
   "metadata": {},
   "outputs": [],
   "source": [
    "# the syntax for this function is x,y, so time, ssta\n",
    "ssta_trend_1980_on = stats.linregress(sst_ds.Year[100:], sst_ds[\"Annual anomaly\"][100:])"
   ]
  },
  {
   "cell_type": "code",
   "execution_count": 123,
   "id": "encouraging-reverse",
   "metadata": {},
   "outputs": [
    {
     "data": {
      "text/plain": [
       "LinregressResult(slope=0.020711260308880312, intercept=-41.05951991698843, rvalue=0.8829830021529423, pvalue=1.0383113887943804e-12, stderr=0.0018882626420977894)"
      ]
     },
     "execution_count": 123,
     "metadata": {},
     "output_type": "execute_result"
    }
   ],
   "source": [
    "ssta_trend_1980_on"
   ]
  },
  {
   "cell_type": "code",
   "execution_count": 124,
   "id": "illegal-lecture",
   "metadata": {},
   "outputs": [
    {
     "data": {
      "text/plain": [
       "0.020711260308880312"
      ]
     },
     "execution_count": 124,
     "metadata": {},
     "output_type": "execute_result"
    }
   ],
   "source": [
    "ssta_trend_1980_on.slope # 0.02 F/ year. 0.2 F /10 years"
   ]
  },
  {
   "cell_type": "code",
   "execution_count": 125,
   "id": "weird-darwin",
   "metadata": {},
   "outputs": [
    {
     "data": {
      "text/plain": [
       "Text(0, 0.5, 'SSTA ($\\\\degree$F)')"
      ]
     },
     "execution_count": 125,
     "metadata": {},
     "output_type": "execute_result"
    },
    {
     "data": {
      "image/png": "[encoded data removed]",
      "text/plain": [
       "<Figure size 936x432 with 1 Axes>"
      ]
     },
     "metadata": {
      "needs_background": "light"
     },
     "output_type": "display_data"
    }
   ],
   "source": [
    "plt.plot(sst_ds.Year, sst_ds[\"Annual anomaly\"])\n",
    "plt.plot(sst_ds.Year, ssta_trend_entire.slope*sst_ds.Year + ssta_trend_entire.intercept)\n",
    "plt.plot(sst_ds.Year[100:], ssta_trend_1980_on.slope*sst_ds.Year[100:] + ssta_trend_1980_on.intercept)\n",
    "plt.xlabel('Year')\n",
    "plt.ylabel('SSTA ($\\degree$F)')"
   ]
  },
  {
   "cell_type": "code",
   "execution_count": null,
   "id": "architectural-innocent",
   "metadata": {},
   "outputs": [],
   "source": []
  },
  {
   "cell_type": "markdown",
   "id": "developmental-rendering",
   "metadata": {},
   "source": [
    "#### Detrending the data\n",
    "Let's say we were interested in the variability outside of the trend. How do we detrend the data?"
   ]
  },
  {
   "cell_type": "code",
   "execution_count": 126,
   "id": "balanced-explanation",
   "metadata": {},
   "outputs": [],
   "source": [
    "trend_entire = ssta_trend_entire.slope*sst_ds.Year + ssta_trend_entire.intercept\n"
   ]
  },
  {
   "cell_type": "code",
   "execution_count": 127,
   "id": "textile-hughes",
   "metadata": {},
   "outputs": [],
   "source": [
    "sst_detrended = sst_ds[\"Annual anomaly\"] - trend_entire"
   ]
  },
  {
   "cell_type": "code",
   "execution_count": 128,
   "id": "lesser-client",
   "metadata": {},
   "outputs": [
    {
     "data": {
      "text/plain": [
       "[<matplotlib.lines.Line2D at 0x1a29e30290>]"
      ]
     },
     "execution_count": 128,
     "metadata": {},
     "output_type": "execute_result"
    },
    {
     "data": {
      "image/png": "[encoded data removed]",
      "text/plain": [
       "<Figure size 936x432 with 1 Axes>"
      ]
     },
     "metadata": {
      "needs_background": "light"
     },
     "output_type": "display_data"
    }
   ],
   "source": [
    "plt.plot(sst_ds.Year, sst_detrended)"
   ]
  },
  {
   "cell_type": "code",
   "execution_count": null,
   "id": "european-contribution",
   "metadata": {},
   "outputs": [],
   "source": []
  },
  {
   "cell_type": "markdown",
   "id": "complimentary-antarctica",
   "metadata": {},
   "source": [
    "#### Creating a moving average, i.e. filtering or smoothing.\n",
    "Let's say we wanted to smooth the data to remove some of the variability, how would we do this?"
   ]
  },
  {
   "cell_type": "markdown",
   "id": "vanilla-national",
   "metadata": {},
   "source": [
    "I want to do a three year running mean, so for each datapoint, average the year before, the current year and the year after and save that to the current year as the new data.\n",
    "\n",
    "if i is my current year index\n",
    "\n",
    "(data[j+1] + data [j] + data [j-1])/3 to average the three years of data\n",
    "\n",
    "Going to have to start at the second year, since I don't have a previous year\n",
    "\n",
    "\n",
    "pseudo code:\n",
    "\n",
    "create an array to save the new data in\n",
    "\n",
    "Loop through all the years\n",
    " take a mean of the current, previous and next years, save to some new arrray\n"
   ]
  },
  {
   "cell_type": "code",
   "execution_count": 129,
   "id": "prompt-latex",
   "metadata": {},
   "outputs": [],
   "source": [
    "import numpy as np"
   ]
  },
  {
   "cell_type": "code",
   "execution_count": 130,
   "id": "opposed-harvest",
   "metadata": {},
   "outputs": [
    {
     "data": {
      "text/plain": [
       "(136,)"
      ]
     },
     "execution_count": 130,
     "metadata": {},
     "output_type": "execute_result"
    }
   ],
   "source": [
    "sst_ds[\"Annual anomaly\"].shape"
   ]
  },
  {
   "cell_type": "code",
   "execution_count": 131,
   "id": "bacterial-retention",
   "metadata": {},
   "outputs": [],
   "source": [
    "# initialize my array\n",
    "ssta_filtered = np.zeros(136)\n",
    "\n",
    "for i in range(134): # loop through all the years, skip the last index\n",
    "    #print(i+1) #skip the first index\n",
    "    ssta_filtered[i+1] = (sst_ds[\"Annual anomaly\"][i] + sst_ds[\"Annual anomaly\"][i+1] + sst_ds[\"Annual anomaly\"][i+2])/3\n"
   ]
  },
  {
   "cell_type": "code",
   "execution_count": 132,
   "id": "verbal-transportation",
   "metadata": {},
   "outputs": [
    {
     "data": {
      "text/plain": [
       "<matplotlib.legend.Legend at 0x1a29e6c490>"
      ]
     },
     "execution_count": 132,
     "metadata": {},
     "output_type": "execute_result"
    },
    {
     "data": {
      "image/png": "[encoded data removed]",
      "text/plain": [
       "<Figure size 936x432 with 1 Axes>"
      ]
     },
     "metadata": {
      "needs_background": "light"
     },
     "output_type": "display_data"
    }
   ],
   "source": [
    "plt.plot(sst_ds.Year[1:-1],ssta_filtered[1:-1], label = \"filtered\")\n",
    "plt.plot(sst_ds.Year,sst_ds[\"Annual anomaly\"], label = 'SSTA')\n",
    "plt.legend()"
   ]
  },
  {
   "cell_type": "markdown",
   "id": "apart-league",
   "metadata": {},
   "source": [
    "# Lab 12.2"
   ]
  },
  {
   "cell_type": "markdown",
   "id": "driving-newark",
   "metadata": {},
   "source": [
    "**E.1** Define a datetime object that is your birthday. Increment this date using timedelta by a) ten weeks, b) five minutes, c) two years (tricky!) Hint: see help(timedelta)"
   ]
  },
  {
   "cell_type": "code",
   "execution_count": null,
   "id": "advanced-blond",
   "metadata": {},
   "outputs": [],
   "source": []
  },
  {
   "cell_type": "markdown",
   "id": "descending-savage",
   "metadata": {},
   "source": [
    "**E.2** Define a daterange for your birthday every year of your life"
   ]
  },
  {
   "cell_type": "markdown",
   "id": "passive-layer",
   "metadata": {},
   "source": []
  },
  {
   "cell_type": "markdown",
   "id": "complimentary-shooting",
   "metadata": {},
   "source": [
    "**E.3** Print all your birthdays out as month, day, year (no minutes, etc)"
   ]
  },
  {
   "cell_type": "code",
   "execution_count": null,
   "id": "alleged-professor",
   "metadata": {},
   "outputs": [],
   "source": []
  },
  {
   "cell_type": "markdown",
   "id": "colored-warrior",
   "metadata": {},
   "source": [
    "**E.4** Go through the tutorial on datetimes in pandas here: https://towardsdatascience.com/working-with-datetime-in-pandas-dataframe-663f7af6c587 Type in all the examples here in the lab."
   ]
  },
  {
   "cell_type": "code",
   "execution_count": null,
   "id": "swedish-browser",
   "metadata": {},
   "outputs": [],
   "source": []
  },
  {
   "cell_type": "markdown",
   "id": "hairy-titanium",
   "metadata": {},
   "source": [
    "**E.5** Do a linear fit of the SSTA data from 1940 to 1970. What trend do you get? How confident are you in this result? How does it compare to the trends we did in lecture (use quantitative data to explain)."
   ]
  },
  {
   "cell_type": "code",
   "execution_count": null,
   "id": "finnish-contamination",
   "metadata": {},
   "outputs": [],
   "source": []
  },
  {
   "cell_type": "markdown",
   "id": "configured-rainbow",
   "metadata": {},
   "source": [
    "**E.6** According to the internet, what might have caused this decline in SST during this perioud? Write a few sentances explaining this and cite your sources here."
   ]
  },
  {
   "cell_type": "code",
   "execution_count": null,
   "id": "grateful-speech",
   "metadata": {},
   "outputs": [],
   "source": []
  },
  {
   "cell_type": "markdown",
   "id": "innovative-guess",
   "metadata": {},
   "source": [
    "**E.7** Detrend from 1970 on and plot your result. Compare this to an ENSO (El Nino) index and speculate on what may have caused this interannual variability. How does ENSO affect SST and why?"
   ]
  },
  {
   "cell_type": "code",
   "execution_count": null,
   "id": "freelance-endorsement",
   "metadata": {},
   "outputs": [],
   "source": []
  },
  {
   "cell_type": "markdown",
   "id": "former-piece",
   "metadata": {},
   "source": [
    "**E.8** (Advanced) Perform a five year moving average of your detrended data from E.7. Explain your result in relation to the periodicity of ENSO."
   ]
  },
  {
   "cell_type": "code",
   "execution_count": null,
   "id": "floral-payroll",
   "metadata": {},
   "outputs": [],
   "source": []
  }
 ],
 "metadata": {
  "kernelspec": {
   "display_name": "Python 3",
   "language": "python",
   "name": "python3"
  },
  "language_info": {
   "codemirror_mode": {
    "name": "ipython",
    "version": 3
   },
   "file_extension": ".py",
   "mimetype": "text/x-python",
   "name": "python",
   "nbconvert_exporter": "python",
   "pygments_lexer": "ipython3",
   "version": "3.7.7"
  }
 },
 "nbformat": 4,
 "nbformat_minor": 5
}
