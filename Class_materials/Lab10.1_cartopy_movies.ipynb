{
 "cells": [
  {
   "cell_type": "markdown",
   "id": "guilty-joint",
   "metadata": {},
   "source": [
    "Name"
   ]
  },
  {
   "cell_type": "markdown",
   "id": "spare-stanley",
   "metadata": {},
   "source": [
    "Labpartner(s)"
   ]
  },
  {
   "cell_type": "code",
   "execution_count": null,
   "id": "bright-smart",
   "metadata": {},
   "outputs": [],
   "source": [
    "#import statements go here"
   ]
  },
  {
   "cell_type": "code",
   "execution_count": null,
   "id": "combined-budget",
   "metadata": {},
   "outputs": [],
   "source": []
  },
  {
   "cell_type": "markdown",
   "id": "apparent-favorite",
   "metadata": {},
   "source": [
    "# Class 10.1"
   ]
  },
  {
   "cell_type": "markdown",
   "id": "outstanding-durham",
   "metadata": {},
   "source": [
    "# Warmups 10.1"
   ]
  },
  {
   "cell_type": "markdown",
   "id": "related-jacob",
   "metadata": {},
   "source": [
    "If you do not complete the warmup during the class period, complete for homework and review/expand for weekly practice. These are basic coding skills you need to be comfortable with. Work on the following for 25 min and then we will go over them together:"
   ]
  },
  {
   "cell_type": "markdown",
   "id": "super-intersection",
   "metadata": {},
   "source": [
    "**W.1** Write a function that given two numbers returns the maximum. Figure out the maximum number using logical control (no pre-made max functions)"
   ]
  },
  {
   "cell_type": "code",
   "execution_count": null,
   "id": "stunning-format",
   "metadata": {},
   "outputs": [],
   "source": []
  },
  {
   "cell_type": "markdown",
   "id": "liberal-pencil",
   "metadata": {},
   "source": [
    "**W.2** Modify the function we developed in Lab. 9.2 W.1 to return n consective even integers"
   ]
  },
  {
   "cell_type": "code",
   "execution_count": null,
   "id": "adjacent-plaza",
   "metadata": {},
   "outputs": [],
   "source": []
  },
  {
   "cell_type": "markdown",
   "id": "hairy-appointment",
   "metadata": {},
   "source": [
    "# Lecture 10.1\n",
    "\n",
    "### Agenda:\n",
    "- Announcements\n",
    "    - changes in gradiing proccess, deadlines\n",
    "    - Done with datacamp\n",
    "- Shoutouts for good work (Paola, Luz)\n",
    "- Lab 7.2 review\n",
    "- Cartopy\n",
    "- Movies (with Victoria Garza)\n"
   ]
  },
  {
   "cell_type": "markdown",
   "id": "subsequent-condition",
   "metadata": {},
   "source": [
    "#### Announcements\n",
    "\n",
    "Because my health has improved since the beginning of the term, and as we move into the more advanced material, I am taking over the grading from Adrian. Join me in thanking him for his assistance to us all in a time of need. I am working on catching up on the grading now and will finish this next week. So check your grades for updates and to see if you need to redo anything. I have added my research assistant and scientific programmer Victoria Garza to slack. She is available to you all for questions as we move into the advanced material.\n",
    "\n",
    "I did go back and re-grade some labs (4.2 in particular) as I noted they were missing some material. Please see my notes if your grade changed and submit the missing material.\n",
    "\n",
    "Previously I mentioned that no late labs will be accepted after 4/15, at which time you all will be working on your final projects. **Further, all labs through Lab 9.2 need to have a satisfactory grade (no zeros) by 4/1 to pass the class.** Reminder thet the last drop date is 4/6. The mastery of this beginning material is needed to complete this course. This includes the functions exercise and the expected grade assignment.\n",
    "\n",
    "We are done with datacamp! (But feel free to use it as a resource as you like)"
   ]
  },
  {
   "cell_type": "markdown",
   "id": "intended-estate",
   "metadata": {},
   "source": [
    "#### Shoutouts\n",
    "\n",
    "- Paola is student of the week for all of her excellent work, well done! \n",
    "- Luz did a great job on her CV, very creative.\n"
   ]
  },
  {
   "cell_type": "markdown",
   "id": "optional-knife",
   "metadata": {},
   "source": [
    "### Main Lecture\n",
    "\n",
    "#### Motivation: making nice maps and animating data are great skills for scientists to engage audiences with our results, but also to better understand the systems we are studying. \n",
    "\n",
    "Examples:\n",
    "- Gulf of Mexico sattellite data animation\n",
    "- Animation from recent SEEMS seminar speaker Dr. Scott James from Baylor\n",
    "\n",
    "\n",
    "#### 7.2 Review\n",
    "Today we are building on what we did in Lab 7.2, which was using xarray to plot ocean model output. The vast majority of you did not complete this lab satisfactorily, which probably had something to do with it being the week after the freeze."
   ]
  },
  {
   "cell_type": "markdown",
   "id": "joined-castle",
   "metadata": {},
   "source": [
    "Since the url I used before is no longer valid, I'm going to use the netcdf subset option on the HYCOM website, which also lets me get a subset of the data (and thus a smaller file). See https://www.hycom.org/data/gomu0pt04/expt-90pt1m000 data access button"
   ]
  },
  {
   "cell_type": "code",
   "execution_count": null,
   "id": "downtown-journalism",
   "metadata": {},
   "outputs": [],
   "source": [
    "file = '/Users/zti318/Downloads/2021.nc4'"
   ]
  },
  {
   "cell_type": "code",
   "execution_count": null,
   "id": "distributed-fence",
   "metadata": {},
   "outputs": [],
   "source": [
    "ssh_data = xr.open_dataset(file, decode_times=False)"
   ]
  },
  {
   "cell_type": "code",
   "execution_count": null,
   "id": "under-lunch",
   "metadata": {},
   "outputs": [],
   "source": [
    "ssh_data"
   ]
  },
  {
   "cell_type": "code",
   "execution_count": null,
   "id": "distributed-heather",
   "metadata": {},
   "outputs": [],
   "source": [
    "ssh_data.surf_el.plot()"
   ]
  },
  {
   "cell_type": "markdown",
   "id": "sustainable-occurrence",
   "metadata": {},
   "source": [
    "#### Cartopy https://scitools.org.uk/cartopy/docs/latest/\n",
    "\n",
    "Now let's make a nice plot using Catopy"
   ]
  },
  {
   "cell_type": "code",
   "execution_count": null,
   "id": "surprised-championship",
   "metadata": {},
   "outputs": [],
   "source": [
    "import cartopy.crs as ccrs   #import map styles/types\n",
    "import cartopy.feature as cfeature  # features such as the ocean, coastlines rivers, etc\n",
    "from cartopy.mpl.gridliner import LONGITUDE_FORMATTER, LATITUDE_FORMATTER"
   ]
  },
  {
   "cell_type": "markdown",
   "id": "infrared-musical",
   "metadata": {},
   "source": [
    "There are a number of differnt map projections available in Cartopy.  "
   ]
  },
  {
   "cell_type": "code",
   "execution_count": null,
   "id": "identified-passing",
   "metadata": {},
   "outputs": [],
   "source": [
    "# plot a basic map with no data\n",
    "plt.figure(figsize=(7, 5))\n",
    "ax = plt.axes(projection=ccrs.Robinson())\n",
    "ax.coastlines(resolution='110m')\n",
    "ax.gridlines()"
   ]
  },
  {
   "cell_type": "code",
   "execution_count": null,
   "id": "amazing-trust",
   "metadata": {},
   "outputs": [],
   "source": [
    "# plot a basic map with no data, rotated\n",
    "plt.figure(figsize=(7, 5))\n",
    "ax = plt.axes(projection=ccrs.Robinson(central_longitude = 203)) # this rotates the emap\n",
    "ax.coastlines(resolution='110m')\n",
    "ax.gridlines()"
   ]
  },
  {
   "cell_type": "code",
   "execution_count": null,
   "id": "affected-ceremony",
   "metadata": {},
   "outputs": [],
   "source": [
    "# plot a basic map with no data, rotated\n",
    "plt.figure(figsize=(7, 5))\n",
    "ax = plt.axes(projection=ccrs.Robinson(central_longitude = 300))\n",
    "ax.coastlines(resolution='110m')\n",
    "ax.gridlines()"
   ]
  },
  {
   "cell_type": "code",
   "execution_count": null,
   "id": "through-puzzle",
   "metadata": {},
   "outputs": [],
   "source": [
    "# plot a basic map with no data\n",
    "plt.figure(figsize=(7, 5))\n",
    "ax = plt.axes(projection=ccrs.Mercator()) # different map projection\n",
    "ax.coastlines(resolution='110m')\n",
    "ax.gridlines(draw_labels=True)\n",
    "# note this has grid labels, this is being updated for all projections in the latest version of cartopy 0.18.0"
   ]
  },
  {
   "cell_type": "code",
   "execution_count": null,
   "id": "enormous-russian",
   "metadata": {},
   "outputs": [],
   "source": [
    "# plot a basic map with no data\n",
    "plt.figure(figsize=(7, 5))\n",
    "ax = plt.axes(projection=ccrs.PlateCarree())\n",
    "ax.coastlines(resolution='110m')\n",
    "ax.gridlines(draw_labels=True)"
   ]
  },
  {
   "cell_type": "markdown",
   "id": "after-oxide",
   "metadata": {},
   "source": [
    "Let's zoom into the Gulf of Mexico. We want to set the lat and lon range to match our HYCOM data. How do we find this?"
   ]
  },
  {
   "cell_type": "code",
   "execution_count": null,
   "id": "relevant-healthcare",
   "metadata": {},
   "outputs": [],
   "source": []
  },
  {
   "cell_type": "code",
   "execution_count": null,
   "id": "awful-benjamin",
   "metadata": {},
   "outputs": [],
   "source": [
    "fig, ax = plt.subplots(figsize =(10,8))  \n",
    "ax = plt.axes(projection=ccrs.PlateCarree())\n",
    "ax.set_extent([260,282, 18.11, 31.5]) \n",
    "\n",
    "#Sets the land onto the projection with the right color and scale\n",
    "land_50m = cfeature.NaturalEarthFeature('physical', 'land', '50m',\n",
    "                                    edgecolor='black',\n",
    "                                    facecolor='lightgrey')\n",
    "ax.add_feature(land_50m)"
   ]
  },
  {
   "cell_type": "markdown",
   "id": "seasonal-individual",
   "metadata": {},
   "source": [
    "Now let's add some data"
   ]
  },
  {
   "cell_type": "code",
   "execution_count": null,
   "id": "becoming-beaver",
   "metadata": {},
   "outputs": [],
   "source": [
    "# what does our data look like again?\n",
    "ssh_data"
   ]
  },
  {
   "cell_type": "code",
   "execution_count": null,
   "id": "honest-glasgow",
   "metadata": {},
   "outputs": [],
   "source": [
    "fig, ax = plt.subplots(figsize =(10,8))  \n",
    "ax = plt.axes(projection=ccrs.PlateCarree())\n",
    "ax.set_extent([260,282, 18.11, 31.5]) \n",
    "\n",
    "#Sets the land onto the projection with the right color and scale\n",
    "land_50m = cfeature.NaturalEarthFeature('physical', 'land', '50m',\n",
    "                                    edgecolor='black',\n",
    "                                    facecolor='lightgrey')\n",
    "ax.add_feature(land_50m)\n",
    "\n",
    "# let's fill in the following:\n",
    "x = \n",
    "y = \n",
    "var =  \n",
    "\n",
    "#Contours the data on tho the map projection\n",
    "p = ax.contourf(x, y,var, transform=ccrs.PlateCarree()) # projection is needed in every plot call\n",
    "    "
   ]
  },
  {
   "cell_type": "markdown",
   "id": "intimate-vegetarian",
   "metadata": {},
   "source": [
    "Now I'm going to take a bunch of features from Victoria's demo (in github as Hycom-CartopyDemo) and add them in."
   ]
  },
  {
   "cell_type": "code",
   "execution_count": null,
   "id": "faced-arrow",
   "metadata": {},
   "outputs": [],
   "source": []
  },
  {
   "cell_type": "markdown",
   "id": "dutch-active",
   "metadata": {},
   "source": [
    "#### Making Movies demo by Victoria \n",
    "(also see ppt slides in github)"
   ]
  },
  {
   "cell_type": "code",
   "execution_count": null,
   "id": "foster-tourist",
   "metadata": {},
   "outputs": [],
   "source": []
  },
  {
   "cell_type": "code",
   "execution_count": null,
   "id": "vietnamese-region",
   "metadata": {},
   "outputs": [],
   "source": []
  },
  {
   "cell_type": "code",
   "execution_count": null,
   "id": "qualified-proposal",
   "metadata": {},
   "outputs": [],
   "source": []
  },
  {
   "cell_type": "markdown",
   "id": "fifty-tourist",
   "metadata": {},
   "source": [
    "# Lab 10.1"
   ]
  },
  {
   "cell_type": "markdown",
   "id": "magnetic-metallic",
   "metadata": {},
   "source": [
    "**E.1** Pick two of the examples in the Cartopy gallery (https://scitools.org.uk/cartopy/docs/latest/gallery/index.html) and go through the code. Make three modifications for each of the two examples and document what you did."
   ]
  },
  {
   "cell_type": "code",
   "execution_count": null,
   "id": "junior-jefferson",
   "metadata": {},
   "outputs": [],
   "source": []
  },
  {
   "cell_type": "markdown",
   "id": "atomic-profile",
   "metadata": {},
   "source": [
    "**E.2** Download and plot HYCOM sea surface temperature for two diferent days (perhaps different seasons or sequential days, up to you) using cartopy. Add a grid, lat/lon labels, and annotate by adding a marker of the city/town you are living in. Make sure you adjust the colorbar to be a good fit to the data.\n"
   ]
  },
  {
   "cell_type": "code",
   "execution_count": null,
   "id": "stainless-alexandria",
   "metadata": {},
   "outputs": [],
   "source": []
  },
  {
   "cell_type": "markdown",
   "id": "banned-companion",
   "metadata": {},
   "source": [
    "**E.3** Animate some data. Using Davinci or the movie software of your choice, create an animated plot. This can be of any data you like. Put the code you used to plot here, and upload the resulting movie file to github.\n",
    "\n",
    "You will demonstrate your animation to the class next Monday."
   ]
  },
  {
   "cell_type": "code",
   "execution_count": null,
   "id": "conservative-insert",
   "metadata": {},
   "outputs": [],
   "source": []
  }
 ],
 "metadata": {
  "kernelspec": {
   "display_name": "Python 3",
   "language": "python",
   "name": "python3"
  },
  "language_info": {
   "codemirror_mode": {
    "name": "ipython",
    "version": 3
   },
   "file_extension": ".py",
   "mimetype": "text/x-python",
   "name": "python",
   "nbconvert_exporter": "python",
   "pygments_lexer": "ipython3",
   "version": "3.7.7"
  }
 },
 "nbformat": 4,
 "nbformat_minor": 5
}
