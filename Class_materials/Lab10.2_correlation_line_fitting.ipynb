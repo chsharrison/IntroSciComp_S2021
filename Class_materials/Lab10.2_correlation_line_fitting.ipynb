{
 "cells": [
  {
   "cell_type": "markdown",
   "id": "great-symbol",
   "metadata": {},
   "source": [
    "Name"
   ]
  },
  {
   "cell_type": "markdown",
   "id": "german-watson",
   "metadata": {},
   "source": [
    "Labpartner(s)"
   ]
  },
  {
   "cell_type": "code",
   "execution_count": null,
   "id": "ambient-health",
   "metadata": {},
   "outputs": [],
   "source": [
    "#import statements go here\n",
    "\n",
    "import numpy as np\n",
    "import matplotlib.pyplot as plt\n",
    "import pandas as pd"
   ]
  },
  {
   "cell_type": "code",
   "execution_count": null,
   "id": "subsequent-nutrition",
   "metadata": {},
   "outputs": [],
   "source": []
  },
  {
   "cell_type": "markdown",
   "id": "guilty-hammer",
   "metadata": {},
   "source": [
    "# Class 10.2"
   ]
  },
  {
   "cell_type": "markdown",
   "id": "physical-eating",
   "metadata": {},
   "source": [
    "# Warmups 10.2"
   ]
  },
  {
   "cell_type": "markdown",
   "id": "reverse-dream",
   "metadata": {},
   "source": [
    "If you do not complete the warmup during the class period, complete for homework and review/expand for weekly practice. These are basic coding skills you need to be comfortable with. Work on the following for 25 min and then we will go over them together:"
   ]
  },
  {
   "cell_type": "markdown",
   "id": "obvious-jefferson",
   "metadata": {},
   "source": [
    "**W.1** Write a function that returns a list of the first n powers of 2 (2^0, 2^1, 2^2, 2^3...2^n)."
   ]
  },
  {
   "cell_type": "code",
   "execution_count": null,
   "id": "signed-dynamics",
   "metadata": {},
   "outputs": [],
   "source": []
  },
  {
   "cell_type": "markdown",
   "id": "bibliographic-software",
   "metadata": {},
   "source": [
    "**W.2** Using the function above, plot the first 100 powers of 2"
   ]
  },
  {
   "cell_type": "code",
   "execution_count": null,
   "id": "noticed-asthma",
   "metadata": {},
   "outputs": [],
   "source": []
  },
  {
   "cell_type": "markdown",
   "id": "tamil-struggle",
   "metadata": {},
   "source": [
    "# Lecture 10.1\n",
    "\n",
    "### Agenda:\n",
    "- Announcements\n",
    "- Correlation \n",
    "- Introduction to fittng models to data"
   ]
  },
  {
   "cell_type": "markdown",
   "id": "neither-number",
   "metadata": {},
   "source": [
    "#### Announcements\n",
    "- Congratulations to everyone who got over 20,000 points on data camp! +5 tokens for all of you. For those of you catching up, let me know if you reach this. There will be pizza and other prizes for the top token folks.\n",
    "- August figured out the issue with making all the frames the same length in Davinci Resolve +2 tokens\n",
    "- Reports that the last few datacamp chapters were unclear. What are good strategies for dealing with this?\n"
   ]
  },
  {
   "cell_type": "markdown",
   "id": "hawaiian-pickup",
   "metadata": {},
   "source": [
    "### Correlation"
   ]
  },
  {
   "cell_type": "markdown",
   "id": "overhead-eleven",
   "metadata": {},
   "source": [
    "### A note of caution:\n",
    "\n",
    "\"Correlation does not imply causation\"\n",
    "\n",
    "Example:\n",
    "As ice cream sales increase, the rate of drowning deaths increases sharply.\n",
    "Therefore, ice cream consumption causes drowning.\n",
    "\n",
    "When we get data, we want to describe how variables relate to each other. The simplest question we can ask are two variables correlated, that is do they change togehter?\n",
    "\n",
    "The metric we use for correlation is the Pearson correlation coefficient, which is hard to grasp intuitively from looking at the equation (see https://en.wikipedia.org/wiki/Correlation_and_dependence). Basically, correlation is a measure of how linearly correlated two variables are, and has values between 1 and -1. If the two variables fall on a straight line and the both increase together, then the correlation is 1. If one increases while the other decreases, the correlation is -1. Correlations near zero mean the two variables are not correlated. \n",
    "\n",
    "Let's use some movie data to test if budgets and gross earnings are correlated. This is from the pandas tutorial here https://www.dataquest.io/blog/excel-and-pandas/ which uses and IMDB dataset. See also the lectures from this class in Fall 2019 "
   ]
  },
  {
   "cell_type": "markdown",
   "id": "decimal-ceremony",
   "metadata": {},
   "source": [
    "You can download the data file on the above website."
   ]
  },
  {
   "cell_type": "code",
   "execution_count": null,
   "id": "romantic-provider",
   "metadata": {},
   "outputs": [],
   "source": [
    "file = \"movies.xls\"\n",
    "movies_sheet1 = pd.read_excel(file, sheet_name=0, index_col=0)\n",
    "movies_sheet2 = pd.read_excel(file, sheet_name=1, index_col=0)\n",
    "movies_sheet3 = pd.read_excel(file, sheet_name=2, index_col=0)\n",
    "movies = pd.concat([movies_sheet1, movies_sheet2, movies_sheet3])"
   ]
  },
  {
   "cell_type": "code",
   "execution_count": null,
   "id": "voluntary-scoop",
   "metadata": {},
   "outputs": [],
   "source": [
    "movies # over 5000 movies"
   ]
  },
  {
   "cell_type": "code",
   "execution_count": null,
   "id": "dominican-missile",
   "metadata": {},
   "outputs": [],
   "source": [
    "# let's plot earnings vs. budget and a 1 to 1 line\n",
    "\n",
    "# plot Budget vs Gross Earnings\n",
    "plt.scatter(movies['Budget'], movies['Gross Earnings'])\n",
    "plt.plot([0,1E10],[0,1E10], 'k--')\n",
    "plt.xlabel('Budget')\n",
    "plt.ylabel('Gross Earnings')\n",
    "plt.xlim([0,0.1E10])\n",
    "plt.ylim([0,1E9])"
   ]
  },
  {
   "cell_type": "markdown",
   "id": "corporate-survival",
   "metadata": {},
   "source": [
    "In the above I have added the y=x line to visualize if the gross earnings were above the budget. \n",
    "Because many of the data points are on top of each other, it is difficult to assess visually the relationship between the two variables"
   ]
  },
  {
   "cell_type": "markdown",
   "id": "concrete-zoning",
   "metadata": {},
   "source": [
    "Note that pandas allows us to get the correlation of the entire dataframe all at once. There are many other packages that will do this as well, including numpy."
   ]
  },
  {
   "cell_type": "code",
   "execution_count": null,
   "id": "worst-supplement",
   "metadata": {},
   "outputs": [],
   "source": [
    "movies.corr()\n",
    "# Budget and Gross earnings are not very correlated, r = 0.10"
   ]
  },
  {
   "cell_type": "code",
   "execution_count": null,
   "id": "latin-backing",
   "metadata": {},
   "outputs": [],
   "source": []
  },
  {
   "cell_type": "markdown",
   "id": "monthly-springer",
   "metadata": {},
   "source": [
    "### Introduction to linear regression\n",
    "\n",
    "See https://en.wikipedia.org/wiki/Linear_regression and http://onlinestatbook.com/2/regression/regression.html for a nice introduction. See https://towardsdatascience.com/linear-regression-using-python-b136c91bf0a2 for a good intro on the math\n",
    "\n",
    "Supposed we were convinced that gross earnings were linearly related to budget, i.e. G = a*B +c. To test this, we would fit the scatterplot we made above to a line, which would solve for the coefficients a (slope) and c (intercept) in our linear equation.\n",
    "\n",
    "The basic idea of linear regression is that one finds the distance of each data point to a line and minimize this (using calculus) to find the best fit line. This is commonly called ordinary least squares, as the distance of the data from the linear model is squared.\n",
    "\n",
    "Because the movies database has a number of NaNs (not a number, or missing values) in it, it's a bit difficult to work with (but see tips on revmoving NaNs in the resources page in github). Instead, let's do the tutorial here on linear regression using Boston housing data: https://towardsdatascience.com/linear-regression-on-boston-housing-dataset-f409b7e4a155 This tutorial uses the package scikit-learn, which is a collection of advanced data analysis and machine learning functions. We will use this again in the future. Scikit-learn comes with a number of datasets to practice with, the housing data is one of them.\n"
   ]
  },
  {
   "cell_type": "code",
   "execution_count": null,
   "id": "exclusive-closure",
   "metadata": {},
   "outputs": [],
   "source": [
    "from sklearn import datasets ## imports datasets from scikit-learn\n",
    "data = datasets.load_boston() ## loads Boston dataset from datasets library "
   ]
  },
  {
   "cell_type": "markdown",
   "id": "informational-circumstances",
   "metadata": {},
   "source": [
    "What we want to do here is to determine which variables contribute to housing prices"
   ]
  },
  {
   "cell_type": "code",
   "execution_count": null,
   "id": "lightweight-chile",
   "metadata": {},
   "outputs": [],
   "source": [
    "data?\n",
    "# this is a new type of thing, a bunch"
   ]
  },
  {
   "cell_type": "code",
   "execution_count": null,
   "id": "addressed-chinese",
   "metadata": {},
   "outputs": [],
   "source": [
    "# information on the data:\n",
    "print(data.DESCR)"
   ]
  },
  {
   "cell_type": "markdown",
   "id": "electoral-realtor",
   "metadata": {},
   "source": [
    "It is really common in scikitlearn to break the data up into a target dataset, the thing one is trying to predict, and all the factors that may affect that target variable"
   ]
  },
  {
   "cell_type": "code",
   "execution_count": null,
   "id": "prompt-messenger",
   "metadata": {},
   "outputs": [],
   "source": [
    "# convert the data set into a pandas data frame  \n",
    "df = pd.DataFrame(data.data, columns=data.feature_names)\n",
    "\n",
    "# Put the target (housing value -- MEDV) in another DataFrame\n",
    "target = pd.DataFrame(data.target, columns=[\"MEDV\"])"
   ]
  },
  {
   "cell_type": "markdown",
   "id": "balanced-bikini",
   "metadata": {},
   "source": [
    "Create a second dataframe with the housing value added as a column. \n",
    "What variables correlate most with housing value? Hypothesize why this might be."
   ]
  },
  {
   "cell_type": "code",
   "execution_count": null,
   "id": "revolutionary-annotation",
   "metadata": {},
   "outputs": [],
   "source": [
    "# create a second dataframe that has MEDV in it so we can look at correlation`\n",
    "df2 = df\n",
    "df2['MEDV'] = target.MEDV"
   ]
  },
  {
   "cell_type": "code",
   "execution_count": null,
   "id": "pending-paint",
   "metadata": {},
   "outputs": [],
   "source": [
    "df2.corr()"
   ]
  },
  {
   "cell_type": "markdown",
   "id": "discrete-reader",
   "metadata": {},
   "source": [
    "LSTAT, % lower status of the population, correlates negatively, which is not surprising.\n",
    "\n",
    "RM, the number of rooms, has the highest positive correlation"
   ]
  },
  {
   "cell_type": "code",
   "execution_count": null,
   "id": "missing-philip",
   "metadata": {},
   "outputs": [],
   "source": [
    "# are room numbers and value correlated?\n",
    "np.corrcoef(df[\"RM\"], target[\"MEDV\"])\n",
    "\n",
    "# note this is a matrix of correlation coefficients, you only need the top right one"
   ]
  },
  {
   "cell_type": "code",
   "execution_count": null,
   "id": "effective-mississippi",
   "metadata": {},
   "outputs": [],
   "source": [
    "plt.scatter(df[\"RM\"], target[\"MEDV\"])\n",
    "plt.xlabel('Number of Rooms')\n",
    "plt.ylabel('House value ($1000s)')"
   ]
  },
  {
   "cell_type": "markdown",
   "id": "revised-timer",
   "metadata": {},
   "source": [
    "### Doing a linear regression using scipy"
   ]
  },
  {
   "cell_type": "code",
   "execution_count": null,
   "id": "sublime-scheduling",
   "metadata": {},
   "outputs": [],
   "source": [
    "from scipy import stats"
   ]
  },
  {
   "cell_type": "code",
   "execution_count": null,
   "id": "indie-nudist",
   "metadata": {},
   "outputs": [],
   "source": [
    "stats.linregress?"
   ]
  },
  {
   "cell_type": "code",
   "execution_count": null,
   "id": "silver-saskatchewan",
   "metadata": {},
   "outputs": [],
   "source": [
    "slope, intercept, r_value, p_value, std_err = stats.linregress(df[\"RM\"],target[\"MEDV\"])"
   ]
  },
  {
   "cell_type": "markdown",
   "id": "public-shareware",
   "metadata": {},
   "source": [
    "this gives us the slope and intercept of the line, the corrlation (r_value)\n",
    "\n",
    "A low p-value (< 0.05) indicates that the linear regression is a good model\n",
    "\n",
    "the standard error is the standard deviation of the data from the model (as opposed to the standard deviation from the mean of the data)"
   ]
  },
  {
   "cell_type": "code",
   "execution_count": null,
   "id": "stuck-potential",
   "metadata": {},
   "outputs": [],
   "source": [
    "slope"
   ]
  },
  {
   "cell_type": "code",
   "execution_count": null,
   "id": "level-couple",
   "metadata": {},
   "outputs": [],
   "source": [
    "intercept"
   ]
  },
  {
   "cell_type": "code",
   "execution_count": null,
   "id": "portable-volume",
   "metadata": {},
   "outputs": [],
   "source": [
    "r_value\n",
    "# note this is the same correlation value we got before"
   ]
  },
  {
   "cell_type": "code",
   "execution_count": null,
   "id": "coastal-fighter",
   "metadata": {},
   "outputs": [],
   "source": [
    "p_value\n",
    "# is this good? Do we have confidence in our linear model?"
   ]
  },
  {
   "cell_type": "code",
   "execution_count": null,
   "id": "structural-ivory",
   "metadata": {},
   "outputs": [],
   "source": [
    "std_err"
   ]
  },
  {
   "cell_type": "code",
   "execution_count": null,
   "id": "pleasant-image",
   "metadata": {},
   "outputs": [],
   "source": [
    "# let's plot the data with the linear fit and see how it looks\n",
    "plt.plot(df[\"RM\"], slope*df[\"RM\"]+intercept, 'k--')\n",
    "plt.scatter(df[\"RM\"], target[\"MEDV\"])\n",
    "plt.xlabel('Number of Rooms')\n",
    "plt.ylabel('House value ($1000s)')"
   ]
  },
  {
   "cell_type": "code",
   "execution_count": null,
   "id": "smoking-separate",
   "metadata": {},
   "outputs": [],
   "source": []
  },
  {
   "cell_type": "markdown",
   "id": "infinite-receipt",
   "metadata": {},
   "source": [
    "### Doing a linear regression using statsmodels"
   ]
  },
  {
   "cell_type": "markdown",
   "id": "electoral-strengthening",
   "metadata": {},
   "source": [
    "Statsmodels is a powerful statistics package that is very popular\n",
    "\n",
    "See https://towardsdatascience.com/simple-and-multiple-linear-regression-in-python-c928425168f9\n",
    "\n",
    "and\n",
    "\n",
    "https://www.statsmodels.org/dev/index.html\n",
    "\n",
    "http://www.statsmodels.org/dev/examples/index.html#linear-regression-models"
   ]
  },
  {
   "cell_type": "code",
   "execution_count": null,
   "id": "increasing-willow",
   "metadata": {},
   "outputs": [],
   "source": [
    "import statsmodels.api as sm"
   ]
  },
  {
   "cell_type": "code",
   "execution_count": null,
   "id": "invisible-custom",
   "metadata": {},
   "outputs": [],
   "source": [
    "# look at the helpfiles for OLS, ordinary least squares fitting, aka linear fitting\n",
    "help(sm.OLS)"
   ]
  },
  {
   "cell_type": "code",
   "execution_count": null,
   "id": "experimental-professor",
   "metadata": {},
   "outputs": [],
   "source": [
    "# same data as before:\n",
    "X = df[\"RM\"] # what we think the cost depends on, rooms\n",
    "y = target[\"MEDV\"]"
   ]
  },
  {
   "cell_type": "code",
   "execution_count": null,
   "id": "loose-nicholas",
   "metadata": {},
   "outputs": [],
   "source": [
    "# Note y, the target of what we are fitting to, goes first:\n",
    "model = sm.OLS(y, X).fit()\n",
    "\n",
    "# this is fitting y = aX, with no constant, i.e. using an intercept of zero"
   ]
  },
  {
   "cell_type": "code",
   "execution_count": null,
   "id": "supreme-nirvana",
   "metadata": {},
   "outputs": [],
   "source": [
    "model.params"
   ]
  },
  {
   "cell_type": "code",
   "execution_count": null,
   "id": "logical-property",
   "metadata": {},
   "outputs": [],
   "source": [
    "model.summary()"
   ]
  },
  {
   "cell_type": "code",
   "execution_count": null,
   "id": "nominated-positive",
   "metadata": {},
   "outputs": [],
   "source": [
    "predictions = model.predict(X) # make the predictions by the model"
   ]
  },
  {
   "cell_type": "code",
   "execution_count": null,
   "id": "dependent-escape",
   "metadata": {},
   "outputs": [],
   "source": [
    "# let's plot the result like we did before\n",
    "\n",
    "plt.plot(X,predictions, 'k--')\n",
    "plt.scatter(df[\"RM\"], target[\"MEDV\"])\n",
    "plt.xlabel('Number of Rooms')\n",
    "plt.ylabel('House value ($1000s)')\n",
    "\n",
    "# this is not a very good fit, because we assumed the intercept of the line was zero"
   ]
  },
  {
   "cell_type": "markdown",
   "id": "behind-premises",
   "metadata": {},
   "source": [
    "# Lab 10.2"
   ]
  },
  {
   "cell_type": "markdown",
   "id": "separated-victory",
   "metadata": {},
   "source": [
    "**E.1** What kind of thing is movies? How do you know?"
   ]
  },
  {
   "cell_type": "code",
   "execution_count": null,
   "id": "international-holly",
   "metadata": {},
   "outputs": [],
   "source": []
  },
  {
   "cell_type": "markdown",
   "id": "expired-chancellor",
   "metadata": {},
   "source": [
    "**E.2**  What does it mean that year and duration in movies are negatively correlated? Plot these two variables togther and explain."
   ]
  },
  {
   "cell_type": "code",
   "execution_count": null,
   "id": "verified-young",
   "metadata": {},
   "outputs": [],
   "source": []
  },
  {
   "cell_type": "markdown",
   "id": "latin-reason",
   "metadata": {},
   "source": [
    "**E.3** Which pairs of variables in the movies dataset have the highest correlation? What might explain this?"
   ]
  },
  {
   "cell_type": "code",
   "execution_count": null,
   "id": "norman-allowance",
   "metadata": {},
   "outputs": [],
   "source": []
  },
  {
   "cell_type": "markdown",
   "id": "numeric-elimination",
   "metadata": {},
   "source": [
    "**E.4** Remake the house value vs. number of rooms plot and write the equation of the fitted line the title or as an annotation"
   ]
  },
  {
   "cell_type": "code",
   "execution_count": null,
   "id": "instant-violation",
   "metadata": {},
   "outputs": [],
   "source": []
  },
  {
   "cell_type": "markdown",
   "id": "fatty-unknown",
   "metadata": {},
   "source": [
    "**E.5** Following the same method, make a linear model for the house value as a function of the LSTAT (% lower status of the population). Plot your result and the resulting model, and annotate your result with the model equation. How good is this model compared to the one with the number of rooms? Use the statistcs returned by the linear regression function to support your argument."
   ]
  },
  {
   "cell_type": "code",
   "execution_count": null,
   "id": "understanding-religious",
   "metadata": {},
   "outputs": [],
   "source": []
  },
  {
   "cell_type": "markdown",
   "id": "comprehensive-marriage",
   "metadata": {},
   "source": [
    "**E.6** Following the example in the documentation below, add an intercept to the statsmodels housing model and plot your result\n",
    "\n",
    "http://www.statsmodels.org/dev/examples/notebooks/generated/ols.html"
   ]
  },
  {
   "cell_type": "code",
   "execution_count": null,
   "id": "cognitive-action",
   "metadata": {},
   "outputs": [],
   "source": []
  },
  {
   "cell_type": "markdown",
   "id": "orange-redhead",
   "metadata": {},
   "source": [
    "**E.7** (Advanced/optional, +1 token) Do the tutorial here to use scikitlearn to do a linear model: https://towardsdatascience.com/linear-regression-on-boston-housing-dataset-f409b7e4a155"
   ]
  },
  {
   "cell_type": "code",
   "execution_count": null,
   "id": "comfortable-brooklyn",
   "metadata": {},
   "outputs": [],
   "source": []
  }
 ],
 "metadata": {
  "kernelspec": {
   "display_name": "Python 3",
   "language": "python",
   "name": "python3"
  },
  "language_info": {
   "codemirror_mode": {
    "name": "ipython",
    "version": 3
   },
   "file_extension": ".py",
   "mimetype": "text/x-python",
   "name": "python",
   "nbconvert_exporter": "python",
   "pygments_lexer": "ipython3",
   "version": "3.7.7"
  }
 },
 "nbformat": 4,
 "nbformat_minor": 5
}
