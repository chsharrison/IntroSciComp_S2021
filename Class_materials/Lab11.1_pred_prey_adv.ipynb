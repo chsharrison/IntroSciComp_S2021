{
 "cells": [
  {
   "cell_type": "markdown",
   "id": "international-footage",
   "metadata": {},
   "source": [
    "Name"
   ]
  },
  {
   "cell_type": "markdown",
   "id": "hybrid-costume",
   "metadata": {},
   "source": [
    "Labpartner(s)"
   ]
  },
  {
   "cell_type": "code",
   "execution_count": null,
   "id": "hungry-description",
   "metadata": {},
   "outputs": [],
   "source": [
    "#import statements go here\n"
   ]
  },
  {
   "cell_type": "markdown",
   "id": "abroad-currency",
   "metadata": {},
   "source": [
    "# Class 11.1"
   ]
  },
  {
   "cell_type": "markdown",
   "id": "major-elephant",
   "metadata": {},
   "source": [
    "#### Announcements\n",
    "\n",
    "- Reminder **all labs through Lab 9.2 need to have a satisfactory grade (no zeros) by end of the day 4/1 to pass the class.** The last drop date is 4/6. The mastery of this beginning material is needed to complete this course. This includes the functions exercise and the expected grade assignment.\n",
    "\n",
    "- We are going to do an advanced lab today. For those of you struggling to catch up, you can not worry about this one and focus on previous labs. See syllabus for grading policy.\n",
    " \n",
    "- Lab on Wed will be light on programming, as you have final research proposals this week. More on this on Wednesday, and you will have the oppertunity to work on them in the lab period then. See research proposal assignment on github"
   ]
  },
  {
   "cell_type": "markdown",
   "id": "occupied-grant",
   "metadata": {},
   "source": [
    "# Warmups 11.1"
   ]
  },
  {
   "cell_type": "markdown",
   "id": "weird-covering",
   "metadata": {},
   "source": [
    "For warmups today you will share your plot animations."
   ]
  },
  {
   "cell_type": "markdown",
   "id": "hungarian-bidder",
   "metadata": {},
   "source": [
    "# Lecture 11.1\n",
    "\n",
    "### Agenda:\n",
    "- Predator prey modeling. "
   ]
  },
  {
   "cell_type": "markdown",
   "id": "christian-housing",
   "metadata": {},
   "source": [
    "## Predator Prey Modeling"
   ]
  },
  {
   "cell_type": "markdown",
   "id": "accomplished-status",
   "metadata": {},
   "source": [
    "See original here: \n",
    "\n",
    "https://github.com/numerical-mooc/assignment-bank/blob/master/Lessons.and.Assignments/Predator.Prey.Model/Predator.Prey.Model.ipynb\n",
    "\n",
    "For a more advanced example in predator prey modeling:\n",
    "\n",
    "https://waterprogramming.wordpress.com/tag/predator-prey/\n",
    "\n",
    "Modeling the zombie aplocalypse:\n",
    "\n",
    "https://scipy-cookbook.readthedocs.io/items/Zombie_Apocalypse_ODEINT.html\n",
    "\n"
   ]
  },
  {
   "cell_type": "markdown",
   "id": "hired-theology",
   "metadata": {},
   "source": [
    "###  Lotka-Volterra Equations"
   ]
  },
  {
   "cell_type": "markdown",
   "id": "healthy-national",
   "metadata": {},
   "source": [
    "The Lotka–Volterra equations, also known as the predator–prey equations, are a pair of first-order, non-linear, differential\n",
    "equations. They are frequently used to describe the dynamics of biological systems in which two species interact, one as a predator and\n",
    "the other as prey. You can read more about this from Wikipedia <http://en.wikipedia.org/wiki/Lotka-Volterra_equation>."
   ]
  },
  {
   "cell_type": "markdown",
   "id": "otherwise-fruit",
   "metadata": {},
   "source": [
    "### Equations describing the system"
   ]
  },
  {
   "cell_type": "markdown",
   "id": "bottom-extension",
   "metadata": {},
   "source": [
    " Their populations change with time according to the following pair of equations:\n",
    "\n",
    "$ dx/dt = x ( \\alpha - \\beta y  ) $\n",
    "\n",
    "$ dy/dt = -y( \\gamma - \\delta x ) $\n",
    "\n",
    "Where, $x$ is the number of prey (e.g., phytoplankton), $y$ is the number of predators (e.g., zooplankton). $dx/dt, dy/dt$ gives the rate of change of their respective populations over \n",
    "time $t$. $\\alpha, \\beta, \\gamma, \\delta $ are the parameters describing the interaction between the two species. This models makes some assumptions about \n",
    "the predator and prey. You can read about them from the Wikipedia page mentioned above."
   ]
  },
  {
   "cell_type": "markdown",
   "id": "municipal-manor",
   "metadata": {},
   "source": [
    "The above equations can be written in a slightly different form to interpret the physical meaning of the four parameters used.\n",
    "\n",
    "1.Rate equation for prey\n",
    "\n",
    "$dx/dt = \\alpha x - \\beta x y $\n",
    "\n",
    "The prey population (x) is presumed to have unlimited supply of food, $\\alpha x$ represents the rate of population growth of prey. Rate of decrease of population of prey is assumed to be proportional to the rate at which predator and prey encounter each other, given by $ \\beta y x$\n",
    "\n",
    "2.Rate equation for predator\n",
    "\n",
    "$ dy/dt = \\delta x y -\\gamma y $\n",
    "\n",
    "For the predator population (y), $\\delta x y $ gives the rate of growth of predator population. Note that this is similar to the rate of decrease of population of prey. The second term $\\gamma y $ gives the rate of population decrease for predators due to natural death or emigration."
   ]
  },
  {
   "cell_type": "markdown",
   "id": "alone-explorer",
   "metadata": {},
   "source": [
    "### Numerical solution using Python"
   ]
  },
  {
   "cell_type": "markdown",
   "id": "muslim-proceeding",
   "metadata": {},
   "source": [
    "A simple python code for solving these equations is shown below."
   ]
  },
  {
   "cell_type": "code",
   "execution_count": null,
   "id": "disturbed-selection",
   "metadata": {},
   "outputs": [],
   "source": [
    "# import required libraries\n",
    "import numpy as np\n",
    "import matplotlib.pyplot as plt"
   ]
  },
  {
   "cell_type": "code",
   "execution_count": null,
   "id": "modified-flush",
   "metadata": {},
   "outputs": [],
   "source": [
    "# set the initial parameters\n",
    "alpha = 1.\n",
    "beta = 1.2\n",
    "gamma = 4.\n",
    "delta = 1."
   ]
  },
  {
   "cell_type": "code",
   "execution_count": null,
   "id": "welsh-marketplace",
   "metadata": {},
   "outputs": [],
   "source": [
    "#define the time stepping scheme - Euler forward or \"shooting\" method\n",
    "\n",
    "def euler_step(u, f, dt):\n",
    "    \"\"\"Returns the solution at the next time-step using Euler's method.\n",
    "    \n",
    "    Parameters\n",
    "    ----------\n",
    "    u : array of float\n",
    "        solution at the previous time-step.\n",
    "    f : function\n",
    "        function to compute the right hand-side of the system of equation.\n",
    "    dt : float\n",
    "        time-increment.\n",
    "    \n",
    "    Returns\n",
    "    -------\n",
    "    u_n_plus_1 : array of float\n",
    "        approximate solution at the next time step.\n",
    "    \"\"\"\n",
    "    \n",
    "    return u + dt * f(u)"
   ]
  },
  {
   "cell_type": "code",
   "execution_count": null,
   "id": "amino-internet",
   "metadata": {},
   "outputs": [],
   "source": [
    "# define the function that represents the Lotka-Volterra equations\n",
    "\n",
    "def f(u):\n",
    "    \"\"\"Returns the rate of change of species numbers.\n",
    "    \n",
    "    Parameters\n",
    "    ----------\n",
    "    u : array of float\n",
    "        array containing the solution at time n.\n",
    "        \n",
    "    Returns\n",
    "    -------\n",
    "    dudt : array of float\n",
    "        array containing the RHS given u.\n",
    "    \"\"\"\n",
    "    x = u[0]\n",
    "    y = u[1]\n",
    "    return np.array([x*(alpha - beta*y), -y*(gamma - delta*x)])\n"
   ]
  },
  {
   "cell_type": "code",
   "execution_count": null,
   "id": "colored-courtesy",
   "metadata": {},
   "outputs": [],
   "source": [
    "# set time-increment and discretize the time\n",
    "T  = 15.0                           # final time\n",
    "dt = 0.01                           # set time-increment\n",
    "N  = int(T/dt) + 1                  # number of time-steps\n",
    "\n",
    "# initial conditions (initial populations):\n",
    "x0 = 10.\n",
    "y0 = 2.\n",
    "t0 = 0.\n",
    "\n",
    "# initialize the array containing the solution for each time-step\n",
    "u_euler = np.zeros((N, 2))\n",
    "\n",
    "# imput initial conditions\n",
    "u_euler[0] = np.array([x0, y0])\n",
    "\n",
    "# use a for loop to call the function rk2_step()\n",
    "for n in range(N-1):\n",
    "    u_euler[n+1] = euler_step(u_euler[n], f, dt)\n",
    "    "
   ]
  },
  {
   "cell_type": "code",
   "execution_count": null,
   "id": "accurate-horizon",
   "metadata": {},
   "outputs": [],
   "source": []
  },
  {
   "cell_type": "code",
   "execution_count": null,
   "id": "arabic-might",
   "metadata": {},
   "outputs": [],
   "source": []
  },
  {
   "cell_type": "markdown",
   "id": "apart-scanner",
   "metadata": {},
   "source": [
    "We will now plot the variation of population for each species with time."
   ]
  },
  {
   "cell_type": "code",
   "execution_count": null,
   "id": "wicked-conclusion",
   "metadata": {},
   "outputs": [],
   "source": [
    "# break up the solutions for plotting\n",
    "time = np.linspace(0.0, T,N)\n",
    "x_euler = u_euler[:,0]\n",
    "y_euler = u_euler[:,1]"
   ]
  },
  {
   "cell_type": "code",
   "execution_count": null,
   "id": "extreme-serve",
   "metadata": {},
   "outputs": [],
   "source": [
    "plt.plot(time, x_euler, '.', label = 'prey ')\n",
    "plt.plot(time, y_euler, '.', label = 'predator')\n",
    "plt.legend(loc='upper right')\n",
    "#labels\n",
    "plt.xlabel(\"time\")\n",
    "plt.ylabel(\"number of each species\")\n",
    "#title\n",
    "plt.title(\"predator prey model\")"
   ]
  },
  {
   "cell_type": "code",
   "execution_count": null,
   "id": "hawaiian-chair",
   "metadata": {},
   "outputs": [],
   "source": []
  },
  {
   "cell_type": "code",
   "execution_count": null,
   "id": "skilled-czech",
   "metadata": {},
   "outputs": [],
   "source": []
  },
  {
   "cell_type": "code",
   "execution_count": null,
   "id": "atomic-explorer",
   "metadata": {},
   "outputs": [],
   "source": []
  },
  {
   "cell_type": "markdown",
   "id": "understood-highland",
   "metadata": {},
   "source": [
    "## System behavior"
   ]
  },
  {
   "cell_type": "markdown",
   "id": "black-easter",
   "metadata": {},
   "source": [
    "A better understanding of the system behavior can be obtained by a phase plot of the population of predators vs. the population of prey. It will tell us if the system sustains or collapses over time. For the choice of parameters $ \\alpha, \\beta, \\gamma $ and $ \\delta $ made above, we see that the maximum population of each species keeps increasing each cycle. You can read more about that in the Wikipedia link mentioned above."
   ]
  },
  {
   "cell_type": "code",
   "execution_count": null,
   "id": "democratic-samoa",
   "metadata": {},
   "outputs": [],
   "source": [
    "plt.plot(x_euler, y_euler, '-->', markevery=5, label = 'phase plot')\n",
    "plt.legend(loc='upper right')\n",
    "#labels\n",
    "plt.xlabel(\"number of prey\")\n",
    "plt.ylabel(\"number of predators\")\n",
    "#title\n",
    "plt.title(\"predator prey model\")"
   ]
  },
  {
   "cell_type": "code",
   "execution_count": null,
   "id": "third-grade",
   "metadata": {},
   "outputs": [],
   "source": []
  },
  {
   "cell_type": "code",
   "execution_count": null,
   "id": "smart-shadow",
   "metadata": {},
   "outputs": [],
   "source": []
  },
  {
   "cell_type": "markdown",
   "id": "accompanied-removal",
   "metadata": {},
   "source": [
    "# Lab 11.1"
   ]
  },
  {
   "cell_type": "markdown",
   "id": "waiting-chicken",
   "metadata": {},
   "source": [
    "## E.1 How does timestep affect the solution?\n",
    "Modify the timestep (or time increment) dt. How does this affect your solutions? Plot both the timeseries and the phase plots. Try making dt 10 times bigger (dt = 0.1) and 10 times smaller. Describe what happens to your results. What happens if you make dt 100 times smaller?"
   ]
  },
  {
   "cell_type": "code",
   "execution_count": null,
   "id": "hairy-interview",
   "metadata": {},
   "outputs": [],
   "source": []
  },
  {
   "cell_type": "markdown",
   "id": "after-suggestion",
   "metadata": {},
   "source": [
    "## E.2 Adding the steady state\n",
    "\n",
    "The steady state(s) of the system are found by setting the population equations to zero, that is the solution to when the population is not changing. This is also called a \"fixed point\" of the equations, since if the populations start there they stay there, i.e. are fixed.\n",
    "\n",
    "Find the steady states of the system. Plot the fixed point (steady state population) of the system on both the timeseries and phase space plots. Describe where the fixed point is in the phase space plot. What happens if you start at the steady state? What happens if you start near the steady state?"
   ]
  },
  {
   "cell_type": "code",
   "execution_count": null,
   "id": "human-reserve",
   "metadata": {},
   "outputs": [],
   "source": []
  },
  {
   "cell_type": "markdown",
   "id": "buried-essence",
   "metadata": {},
   "source": [
    "## Another time stepping method with higher order of accuracy"
   ]
  },
  {
   "cell_type": "markdown",
   "id": "dirty-corps",
   "metadata": {},
   "source": [
    "## E.3 A better algorithm\n",
    "Do Exercise 1 again with a fourth order time stepping method called \"Runge-Kutta 4\" whose algorithm is given below. Do your answers differ?"
   ]
  },
  {
   "cell_type": "code",
   "execution_count": null,
   "id": "incident-knight",
   "metadata": {},
   "outputs": [],
   "source": [
    "def RK4(u,f,dt):\n",
    "    # Runge Kutta 4th order method\n",
    "    \"\"\"Returns the solution at the next time-step using Runge Kutta fourth order (RK4) method.\n",
    "    \n",
    "    Parameters\n",
    "    ----------\n",
    "    u : array of float\n",
    "        solution at the previous time-step.\n",
    "    f : function\n",
    "        function to compute the right hand-side of the system of equation.\n",
    "    dt : float\n",
    "        time-increment.\n",
    "    \n",
    "    Returns\n",
    "    -------\n",
    "    u_n_plus_1 : array of float\n",
    "        approximate solution at the next time step.\n",
    "    \"\"\"\n",
    "    #calculate slopes\n",
    "    k1 = f(u)\n",
    "    u1 = u + (dt/2.)*k1\n",
    "    k2 = f(u1)\n",
    "    u2 = u + (dt/2.)*k2\n",
    "    k3 = f(u2)\n",
    "    u3 = u + dt*k3\n",
    "    k4 = f(u3)\n",
    "    return u + (dt/6.)*(k1 + 2.*k2 + 2.*k3 + k4)"
   ]
  },
  {
   "cell_type": "code",
   "execution_count": null,
   "id": "proprietary-canal",
   "metadata": {},
   "outputs": [],
   "source": []
  },
  {
   "cell_type": "markdown",
   "id": "governmental-midnight",
   "metadata": {},
   "source": [
    "## E.4 Exploring parameter space\n",
    "Vary the interactions between species by changing $\\alpha, \\beta, \\gamma, \\delta$ and see what happens to the population evolution as well as phase plots. How does changing each parameter individually affect the system?"
   ]
  },
  {
   "cell_type": "code",
   "execution_count": null,
   "id": "answering-switch",
   "metadata": {},
   "outputs": [],
   "source": []
  },
  {
   "cell_type": "code",
   "execution_count": null,
   "id": "occasional-workplace",
   "metadata": {},
   "outputs": [],
   "source": []
  },
  {
   "cell_type": "markdown",
   "id": "banner-battle",
   "metadata": {},
   "source": [
    "## E.5 (Advanced)\n",
    "Modify the differential equations to include other types of interactions. See advanced predator prey example link at the top for ideas. You might add in a self-eating (i.e. $-ay^2$) term into the predator equation. Or do the zombie apocalypse example"
   ]
  },
  {
   "cell_type": "code",
   "execution_count": null,
   "id": "faced-transparency",
   "metadata": {},
   "outputs": [],
   "source": []
  },
  {
   "cell_type": "code",
   "execution_count": null,
   "id": "exciting-isaac",
   "metadata": {},
   "outputs": [],
   "source": []
  },
  {
   "cell_type": "code",
   "execution_count": null,
   "id": "formal-dictionary",
   "metadata": {},
   "outputs": [],
   "source": []
  },
  {
   "cell_type": "code",
   "execution_count": null,
   "id": "mobile-confusion",
   "metadata": {},
   "outputs": [],
   "source": []
  }
 ],
 "metadata": {
  "kernelspec": {
   "display_name": "Python 3",
   "language": "python",
   "name": "python3"
  },
  "language_info": {
   "codemirror_mode": {
    "name": "ipython",
    "version": 3
   },
   "file_extension": ".py",
   "mimetype": "text/x-python",
   "name": "python",
   "nbconvert_exporter": "python",
   "pygments_lexer": "ipython3",
   "version": "3.7.7"
  }
 },
 "nbformat": 4,
 "nbformat_minor": 5
}
