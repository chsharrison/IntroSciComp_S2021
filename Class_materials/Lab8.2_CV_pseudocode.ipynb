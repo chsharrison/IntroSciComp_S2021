{
 "cells": [
  {
   "cell_type": "markdown",
   "id": "careful-puppy",
   "metadata": {},
   "source": [
    "Name"
   ]
  },
  {
   "cell_type": "markdown",
   "id": "involved-reliance",
   "metadata": {},
   "source": [
    "Labpartner(s)"
   ]
  },
  {
   "cell_type": "code",
   "execution_count": null,
   "id": "mechanical-anchor",
   "metadata": {},
   "outputs": [],
   "source": [
    "#import statements go here\n"
   ]
  },
  {
   "cell_type": "markdown",
   "id": "organized-greece",
   "metadata": {},
   "source": [
    "# Class 8.2"
   ]
  },
  {
   "cell_type": "markdown",
   "id": "uniform-spray",
   "metadata": {},
   "source": [
    "# Warmups 8.2"
   ]
  },
  {
   "cell_type": "markdown",
   "id": "modular-lightweight",
   "metadata": {},
   "source": [
    "Music to code loops by (featuring samples of Warf and Geordi from Star Trek TNG). Mobius by Orbital:\n",
    "\n",
    "https://www.youtube.com/watch?v=4PG5PCd284o.\n",
    "\n",
    "(I was this many years old when I learned you could stick a period at the end of the youtube url to suprress the ads, try it)\n",
    "\n",
    "Let's keep practiciing functions and logical control. Raise your hand when you get confused, and look at the suggested solutions, this is tricky stuff to master.\n"
   ]
  },
  {
   "cell_type": "markdown",
   "id": "injured-india",
   "metadata": {},
   "source": [
    "**W.1** Do Practice Python 28, Max of Three https://www.practicepython.org. \n",
    "\n",
    "Suggested approach: Writing some notes on how you will code something before you begin is really helpful and standard practice. Write some pseudocode to think out the problem before you begin. Here are some examples of this: https://www.unf.edu/~broggio/cop2221/2221pseu.htm  \n",
    "\n",
    "https://www.youtube.com/watch?v=HhBrkpTqzqg\n",
    "\n",
    "We'll do more of this in lab, but give it a shot here."
   ]
  },
  {
   "cell_type": "code",
   "execution_count": null,
   "id": "everyday-comfort",
   "metadata": {},
   "outputs": [],
   "source": []
  },
  {
   "cell_type": "markdown",
   "id": "arabic-image",
   "metadata": {},
   "source": [
    "# Lecture 8.2\n",
    "\n",
    "### Agenda:\n",
    "\n",
    "- Syllabus changes\n",
    "- CV Assignement\n",
    "- Questions\n",
    "- (if time) pseudocode example"
   ]
  },
  {
   "cell_type": "markdown",
   "id": "mounted-brook",
   "metadata": {},
   "source": [
    "### Syllabus changes"
   ]
  },
  {
   "cell_type": "markdown",
   "id": "pursuant-pound",
   "metadata": {},
   "source": [
    "New Syllabus is up on BB. Here is the grading changes (changes in **BOLD**)\n",
    "\n",
    "To receive an A grade, students must\n",
    "-\tMeet the specifications for receiving a B grade\n",
    "-\tSatisfactorily complete all advanced labs\n",
    "\n",
    "To receive a B grade, students must\n",
    "-\tMeet the specifications for receiving a C grade\n",
    "-\tSatisfactorily complete **one out of three** advanced labs\n",
    "\n",
    "To pass the course with a C, students must\n",
    "-\tMeet the specifications for receiving a D grade \n",
    "-\tSatisfactorily complete the Linear Regression, Timeseries Analysis and **History of Hacking** labs\n",
    "-\tProvide satisfactory course feedback\n",
    "\n",
    "To pass the course with a D, students must \n",
    "-\tSatisfactorily complete all assigned chapters in datacamp **and the associated labs, as well as Cartopy and Movies lab**\n",
    "-\tSatisfactorily complete all components of the final project\n",
    "\n",
    "Failure to deliver a satisfactory final assignment will result in an F, regardless of other assignments done."
   ]
  },
  {
   "cell_type": "markdown",
   "id": "collect-thumb",
   "metadata": {},
   "source": [
    "### New Schedule\n",
    "![](revised_schedule.png)"
   ]
  },
  {
   "cell_type": "markdown",
   "id": "ongoing-converter",
   "metadata": {},
   "source": [
    "### CV assignment, Word and Zotero integration assignment (turn these in with Lab 8.2)\n",
    "\n",
    "- Demo of Overleaf\n",
    "- Demo of Zotero and Word\n",
    "- Demo of Zotero and Overleaf\n",
    "\n",
    "Assignement:\n",
    "\n",
    "You will make a CV in Overleaf using the LaTex typesetting software. Pick a CV template and modify it to have your info. Make sure you include a picture (required, this is to get you used to the syntax for this). Don't get overwhelmed by all the detailed code, just figure out what you need to modify to put in your information.\n",
    "\n",
    "You will submit a word document that is integrated with zotero and features three references. Submit both the document file, and a screenshot of your zotero account with the references in it.\n",
    "\n",
    "Extra Credit (2 assignment tokens):\n",
    "Integrate Overleaf and Zotero. There are two ways to do this, you can integrate zotero directly into overleaf (but I think they charge for this now) or you can export your citations from zotero as a .bib file and upload this into Overleaf. If you're keen, give it a shot! \n"
   ]
  },
  {
   "cell_type": "code",
   "execution_count": null,
   "id": "dying-customer",
   "metadata": {},
   "outputs": [],
   "source": []
  },
  {
   "cell_type": "code",
   "execution_count": null,
   "id": "unusual-instrumentation",
   "metadata": {},
   "outputs": [],
   "source": []
  },
  {
   "cell_type": "markdown",
   "id": "contemporary-spending",
   "metadata": {},
   "source": [
    "### Questions"
   ]
  },
  {
   "cell_type": "code",
   "execution_count": null,
   "id": "regulated-elizabeth",
   "metadata": {},
   "outputs": [],
   "source": []
  },
  {
   "cell_type": "code",
   "execution_count": null,
   "id": "potential-column",
   "metadata": {},
   "outputs": [],
   "source": []
  },
  {
   "cell_type": "markdown",
   "id": "inside-timothy",
   "metadata": {},
   "source": [
    "# Lab 8.2"
   ]
  },
  {
   "cell_type": "markdown",
   "id": "nutritional-morrison",
   "metadata": {},
   "source": [
    "**E.1** Go through the following tutorial on pseudocode and logical control. They are coding in a different language (I think C++). You will translate what they did into python. You can do it!\n",
    "\n",
    "https://www.youtube.com/watch?v=PwGA4Lm8zuE\n",
    "\n",
    "Make sure you write your notes out here with your pseudocode. Take your time and think it through"
   ]
  },
  {
   "cell_type": "code",
   "execution_count": null,
   "id": "modern-hybrid",
   "metadata": {},
   "outputs": [],
   "source": []
  },
  {
   "cell_type": "markdown",
   "id": "equal-picture",
   "metadata": {},
   "source": [
    "**E.2** Complete Data Manipulation with pandas Ch 2 in datacamp.\n"
   ]
  },
  {
   "cell_type": "code",
   "execution_count": null,
   "id": "positive-swedish",
   "metadata": {},
   "outputs": [],
   "source": []
  },
  {
   "cell_type": "markdown",
   "id": "impossible-furniture",
   "metadata": {},
   "source": [
    "**E.3** Make notes for yourself on progamming tecniques and commands you learned in the datacamp chapter above, including examples, comments and explainitory text. You can do this here or in a separate notebook that you link to here. Basically, you are making a cheat sheet for yourself."
   ]
  },
  {
   "cell_type": "code",
   "execution_count": null,
   "id": "warming-beverage",
   "metadata": {},
   "outputs": [],
   "source": []
  },
  {
   "cell_type": "markdown",
   "id": "desperate-garage",
   "metadata": {},
   "source": [
    "### This week's project:\n",
    "\n",
    "This week we will be doing a CV assignment in LaTeX. Make your CV in LaTeX using Overleaf or the LaTeX interface of your choice (Word is not an option!!). You might find a cool template"
   ]
  },
  {
   "cell_type": "code",
   "execution_count": null,
   "id": "laughing-grammar",
   "metadata": {},
   "outputs": [],
   "source": []
  }
 ],
 "metadata": {
  "kernelspec": {
   "display_name": "Python 3",
   "language": "python",
   "name": "python3"
  },
  "language_info": {
   "codemirror_mode": {
    "name": "ipython",
    "version": 3
   },
   "file_extension": ".py",
   "mimetype": "text/x-python",
   "name": "python",
   "nbconvert_exporter": "python",
   "pygments_lexer": "ipython3",
   "version": "3.7.7"
  }
 },
 "nbformat": 4,
 "nbformat_minor": 5
}
