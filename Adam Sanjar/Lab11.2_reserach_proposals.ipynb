{
 "cells": [
  {
   "cell_type": "markdown",
   "metadata": {},
   "source": [
    "Name"
   ]
  },
  {
   "cell_type": "markdown",
   "metadata": {},
   "source": [
    "Labpartner(s)"
   ]
  },
  {
   "cell_type": "code",
   "execution_count": 2,
   "metadata": {},
   "outputs": [],
   "source": [
    "#import statements go here\n",
    "import pandas as pd\n",
    "import matplotlib.pyplot as plt\n",
    "from scipy import stats\n",
    "import numpy as np"
   ]
  },
  {
   "cell_type": "markdown",
   "metadata": {},
   "source": [
    "# Class 11.2"
   ]
  },
  {
   "cell_type": "markdown",
   "metadata": {},
   "source": [
    "#### Announcements\n",
    "\n",
    "- Please message me and Victoria for coding help on slack, or your lab partners, or just post in the #coding_questions channel and we can all work together (#coding_questions is the best plan, you all often have the same/similar questions, and it makes folks feel good when they can help others). August needs a break and he is too nice to say no.\n",
    "\n",
    "- Lots of cool animations on Monday! If you missed it, watch the recording. Lots of tips on how to make movies easier than I showed you.\n",
    "\n",
    "- Today we are going to have a workday. For lecture I will talk about what makes a good scientific proposal, then you can use the lab period to work on your proposal or what you will. We are skipping the History of Hacking. You can do some research on your own.\n",
    "\n",
    "- Reminder **all labs through Lab 9.2 need to have a satisfactory grade (no zeros) by end of the day Thursday 4/1 (tomorrow) to pass the class.** The last drop date is 4/6. The mastery of this beginning material is needed to complete this course. This includes the functions exercise and the expected grade assignment.\n"
   ]
  },
  {
   "cell_type": "markdown",
   "metadata": {},
   "source": [
    "# Warmups 11.2"
   ]
  },
  {
   "cell_type": "markdown",
   "metadata": {},
   "source": [
    "**W.1. (and finish for practice for this week)**\n",
    "Get the movie dataset from lab 10.2 and load it into pandas. We want to finish what I started, answering the question if gross earnings is related to budget. Pull these two variables out and do a linear regression on them. You will probably have to clean them up by removing NaNs first using the methods you learned in datacamp.\n",
    "Write a sentance or two describing the result of your regression analysis and what it means, that is discuss your results. How confident are you in your model, does budget predict earnings?"
   ]
  },
  {
   "cell_type": "code",
   "execution_count": 4,
   "metadata": {},
   "outputs": [],
   "source": [
    "file = \"movies.xls\"\n",
    "movies_sheet1 = pd.read_excel(file, sheet_name=0, index_col=0)\n",
    "movies_sheet2 = pd.read_excel(file, sheet_name=1, index_col=0)\n",
    "movies_sheet3 = pd.read_excel(file, sheet_name=2, index_col=0)\n",
    "movies = pd.concat([movies_sheet1, movies_sheet2, movies_sheet3])"
   ]
  },
  {
   "cell_type": "code",
   "execution_count": 5,
   "metadata": {},
   "outputs": [],
   "source": [
    "movies= movies.fillna(1)"
   ]
  },
  {
   "cell_type": "code",
   "execution_count": 6,
   "metadata": {},
   "outputs": [],
   "source": [
    "slope, intercept, r_value, p_value, std_err = stats.linregress(movies['Budget'], movies[\"Gross Earnings\"])"
   ]
  },
  {
   "cell_type": "code",
   "execution_count": 7,
   "metadata": {},
   "outputs": [
    {
     "data": {
      "text/plain": [
       "0.12348850593274095"
      ]
     },
     "execution_count": 7,
     "metadata": {},
     "output_type": "execute_result"
    }
   ],
   "source": [
    "r_value"
   ]
  },
  {
   "cell_type": "code",
   "execution_count": 12,
   "metadata": {},
   "outputs": [
    {
     "data": {
      "text/plain": [
       "1.3671938386869212e-18"
      ]
     },
     "execution_count": 12,
     "metadata": {},
     "output_type": "execute_result"
    }
   ],
   "source": [
    "p_value"
   ]
  },
  {
   "cell_type": "code",
   "execution_count": 9,
   "metadata": {},
   "outputs": [
    {
     "data": {
      "text/html": [
       "<div>\n",
       "<style scoped>\n",
       "    .dataframe tbody tr th:only-of-type {\n",
       "        vertical-align: middle;\n",
       "    }\n",
       "\n",
       "    .dataframe tbody tr th {\n",
       "        vertical-align: top;\n",
       "    }\n",
       "\n",
       "    .dataframe thead th {\n",
       "        text-align: right;\n",
       "    }\n",
       "</style>\n",
       "<table border=\"1\" class=\"dataframe\">\n",
       "  <thead>\n",
       "    <tr style=\"text-align: right;\">\n",
       "      <th></th>\n",
       "      <th>Year</th>\n",
       "      <th>Duration</th>\n",
       "      <th>Aspect Ratio</th>\n",
       "      <th>Budget</th>\n",
       "      <th>Gross Earnings</th>\n",
       "      <th>Facebook Likes - Director</th>\n",
       "      <th>Facebook Likes - Actor 1</th>\n",
       "      <th>Facebook Likes - Actor 2</th>\n",
       "      <th>Facebook Likes - Actor 3</th>\n",
       "      <th>Facebook Likes - cast Total</th>\n",
       "      <th>Facebook likes - Movie</th>\n",
       "      <th>Facenumber in posters</th>\n",
       "      <th>User Votes</th>\n",
       "      <th>Reviews by Users</th>\n",
       "      <th>Reviews by Crtiics</th>\n",
       "      <th>IMDB Score</th>\n",
       "    </tr>\n",
       "  </thead>\n",
       "  <tbody>\n",
       "    <tr>\n",
       "      <th>Year</th>\n",
       "      <td>1.000000</td>\n",
       "      <td>0.258177</td>\n",
       "      <td>-0.404081</td>\n",
       "      <td>0.028165</td>\n",
       "      <td>0.093322</td>\n",
       "      <td>0.032697</td>\n",
       "      <td>0.054176</td>\n",
       "      <td>0.047333</td>\n",
       "      <td>0.032046</td>\n",
       "      <td>0.059502</td>\n",
       "      <td>0.032892</td>\n",
       "      <td>-0.019544</td>\n",
       "      <td>0.058124</td>\n",
       "      <td>0.072072</td>\n",
       "      <td>0.152560</td>\n",
       "      <td>-0.156023</td>\n",
       "    </tr>\n",
       "    <tr>\n",
       "      <th>Duration</th>\n",
       "      <td>0.258177</td>\n",
       "      <td>1.000000</td>\n",
       "      <td>-0.051209</td>\n",
       "      <td>0.074757</td>\n",
       "      <td>0.254692</td>\n",
       "      <td>0.161283</td>\n",
       "      <td>0.088995</td>\n",
       "      <td>0.131753</td>\n",
       "      <td>0.123700</td>\n",
       "      <td>0.122943</td>\n",
       "      <td>0.195759</td>\n",
       "      <td>0.003831</td>\n",
       "      <td>0.313942</td>\n",
       "      <td>0.329786</td>\n",
       "      <td>0.269013</td>\n",
       "      <td>0.257367</td>\n",
       "    </tr>\n",
       "    <tr>\n",
       "      <th>Aspect Ratio</th>\n",
       "      <td>-0.404081</td>\n",
       "      <td>-0.051209</td>\n",
       "      <td>1.000000</td>\n",
       "      <td>0.000583</td>\n",
       "      <td>-0.001462</td>\n",
       "      <td>-0.003292</td>\n",
       "      <td>-0.007322</td>\n",
       "      <td>0.008025</td>\n",
       "      <td>0.010371</td>\n",
       "      <td>-0.001505</td>\n",
       "      <td>0.046098</td>\n",
       "      <td>0.006966</td>\n",
       "      <td>0.019723</td>\n",
       "      <td>0.015279</td>\n",
       "      <td>0.010364</td>\n",
       "      <td>0.079294</td>\n",
       "    </tr>\n",
       "    <tr>\n",
       "      <th>Budget</th>\n",
       "      <td>0.028165</td>\n",
       "      <td>0.074757</td>\n",
       "      <td>0.000583</td>\n",
       "      <td>1.000000</td>\n",
       "      <td>0.123489</td>\n",
       "      <td>0.024592</td>\n",
       "      <td>0.027271</td>\n",
       "      <td>0.048881</td>\n",
       "      <td>0.051251</td>\n",
       "      <td>0.041820</td>\n",
       "      <td>0.066150</td>\n",
       "      <td>-0.019048</td>\n",
       "      <td>0.087461</td>\n",
       "      <td>0.093015</td>\n",
       "      <td>0.127823</td>\n",
       "      <td>0.025790</td>\n",
       "    </tr>\n",
       "    <tr>\n",
       "      <th>Gross Earnings</th>\n",
       "      <td>0.093322</td>\n",
       "      <td>0.254692</td>\n",
       "      <td>-0.001462</td>\n",
       "      <td>0.123489</td>\n",
       "      <td>1.000000</td>\n",
       "      <td>0.149930</td>\n",
       "      <td>0.167268</td>\n",
       "      <td>0.284036</td>\n",
       "      <td>0.321703</td>\n",
       "      <td>0.259703</td>\n",
       "      <td>0.392607</td>\n",
       "      <td>-0.023877</td>\n",
       "      <td>0.651502</td>\n",
       "      <td>0.582892</td>\n",
       "      <td>0.524779</td>\n",
       "      <td>0.176529</td>\n",
       "    </tr>\n",
       "    <tr>\n",
       "      <th>Facebook Likes - Director</th>\n",
       "      <td>0.032697</td>\n",
       "      <td>0.161283</td>\n",
       "      <td>-0.003292</td>\n",
       "      <td>0.024592</td>\n",
       "      <td>0.149930</td>\n",
       "      <td>1.000000</td>\n",
       "      <td>0.092349</td>\n",
       "      <td>0.121053</td>\n",
       "      <td>0.121278</td>\n",
       "      <td>0.121090</td>\n",
       "      <td>0.162089</td>\n",
       "      <td>-0.041555</td>\n",
       "      <td>0.298042</td>\n",
       "      <td>0.223869</td>\n",
       "      <td>0.184884</td>\n",
       "      <td>0.162504</td>\n",
       "    </tr>\n",
       "    <tr>\n",
       "      <th>Facebook Likes - Actor 1</th>\n",
       "      <td>0.054176</td>\n",
       "      <td>0.088995</td>\n",
       "      <td>-0.007322</td>\n",
       "      <td>0.027271</td>\n",
       "      <td>0.167268</td>\n",
       "      <td>0.092349</td>\n",
       "      <td>1.000000</td>\n",
       "      <td>0.390746</td>\n",
       "      <td>0.250404</td>\n",
       "      <td>0.951669</td>\n",
       "      <td>0.135501</td>\n",
       "      <td>0.072608</td>\n",
       "      <td>0.193055</td>\n",
       "      <td>0.146725</td>\n",
       "      <td>0.193171</td>\n",
       "      <td>0.075887</td>\n",
       "    </tr>\n",
       "    <tr>\n",
       "      <th>Facebook Likes - Actor 2</th>\n",
       "      <td>0.047333</td>\n",
       "      <td>0.131753</td>\n",
       "      <td>0.008025</td>\n",
       "      <td>0.048881</td>\n",
       "      <td>0.284036</td>\n",
       "      <td>0.121053</td>\n",
       "      <td>0.390746</td>\n",
       "      <td>1.000000</td>\n",
       "      <td>0.559965</td>\n",
       "      <td>0.628586</td>\n",
       "      <td>0.243674</td>\n",
       "      <td>0.071890</td>\n",
       "      <td>0.271174</td>\n",
       "      <td>0.220587</td>\n",
       "      <td>0.284294</td>\n",
       "      <td>0.083454</td>\n",
       "    </tr>\n",
       "    <tr>\n",
       "      <th>Facebook Likes - Actor 3</th>\n",
       "      <td>0.032046</td>\n",
       "      <td>0.123700</td>\n",
       "      <td>0.010371</td>\n",
       "      <td>0.051251</td>\n",
       "      <td>0.321703</td>\n",
       "      <td>0.121278</td>\n",
       "      <td>0.250404</td>\n",
       "      <td>0.559965</td>\n",
       "      <td>1.000000</td>\n",
       "      <td>0.474326</td>\n",
       "      <td>0.279211</td>\n",
       "      <td>0.100251</td>\n",
       "      <td>0.287842</td>\n",
       "      <td>0.231169</td>\n",
       "      <td>0.273036</td>\n",
       "      <td>0.051948</td>\n",
       "    </tr>\n",
       "    <tr>\n",
       "      <th>Facebook Likes - cast Total</th>\n",
       "      <td>0.059502</td>\n",
       "      <td>0.122943</td>\n",
       "      <td>-0.001505</td>\n",
       "      <td>0.041820</td>\n",
       "      <td>0.259703</td>\n",
       "      <td>0.121090</td>\n",
       "      <td>0.951669</td>\n",
       "      <td>0.628586</td>\n",
       "      <td>0.474326</td>\n",
       "      <td>1.000000</td>\n",
       "      <td>0.209754</td>\n",
       "      <td>0.091524</td>\n",
       "      <td>0.265865</td>\n",
       "      <td>0.207946</td>\n",
       "      <td>0.266022</td>\n",
       "      <td>0.085854</td>\n",
       "    </tr>\n",
       "    <tr>\n",
       "      <th>Facebook likes - Movie</th>\n",
       "      <td>0.032892</td>\n",
       "      <td>0.195759</td>\n",
       "      <td>0.046098</td>\n",
       "      <td>0.066150</td>\n",
       "      <td>0.392607</td>\n",
       "      <td>0.162089</td>\n",
       "      <td>0.135501</td>\n",
       "      <td>0.243674</td>\n",
       "      <td>0.279211</td>\n",
       "      <td>0.209754</td>\n",
       "      <td>1.000000</td>\n",
       "      <td>0.008525</td>\n",
       "      <td>0.537905</td>\n",
       "      <td>0.401169</td>\n",
       "      <td>0.682648</td>\n",
       "      <td>0.247106</td>\n",
       "    </tr>\n",
       "    <tr>\n",
       "      <th>Facenumber in posters</th>\n",
       "      <td>-0.019544</td>\n",
       "      <td>0.003831</td>\n",
       "      <td>0.006966</td>\n",
       "      <td>-0.019048</td>\n",
       "      <td>-0.023877</td>\n",
       "      <td>-0.041555</td>\n",
       "      <td>0.072608</td>\n",
       "      <td>0.071890</td>\n",
       "      <td>0.100251</td>\n",
       "      <td>0.091524</td>\n",
       "      <td>0.008525</td>\n",
       "      <td>1.000000</td>\n",
       "      <td>-0.026968</td>\n",
       "      <td>-0.068702</td>\n",
       "      <td>-0.034274</td>\n",
       "      <td>-0.062605</td>\n",
       "    </tr>\n",
       "    <tr>\n",
       "      <th>User Votes</th>\n",
       "      <td>0.058124</td>\n",
       "      <td>0.313942</td>\n",
       "      <td>0.019723</td>\n",
       "      <td>0.087461</td>\n",
       "      <td>0.651502</td>\n",
       "      <td>0.298042</td>\n",
       "      <td>0.193055</td>\n",
       "      <td>0.271174</td>\n",
       "      <td>0.287842</td>\n",
       "      <td>0.265865</td>\n",
       "      <td>0.537905</td>\n",
       "      <td>-0.026968</td>\n",
       "      <td>1.000000</td>\n",
       "      <td>0.798733</td>\n",
       "      <td>0.626592</td>\n",
       "      <td>0.411064</td>\n",
       "    </tr>\n",
       "    <tr>\n",
       "      <th>Reviews by Users</th>\n",
       "      <td>0.072072</td>\n",
       "      <td>0.329786</td>\n",
       "      <td>0.015279</td>\n",
       "      <td>0.093015</td>\n",
       "      <td>0.582892</td>\n",
       "      <td>0.223869</td>\n",
       "      <td>0.146725</td>\n",
       "      <td>0.220587</td>\n",
       "      <td>0.231169</td>\n",
       "      <td>0.207946</td>\n",
       "      <td>0.401169</td>\n",
       "      <td>-0.068702</td>\n",
       "      <td>0.798733</td>\n",
       "      <td>1.000000</td>\n",
       "      <td>0.611911</td>\n",
       "      <td>0.289895</td>\n",
       "    </tr>\n",
       "    <tr>\n",
       "      <th>Reviews by Crtiics</th>\n",
       "      <td>0.152560</td>\n",
       "      <td>0.269013</td>\n",
       "      <td>0.010364</td>\n",
       "      <td>0.127823</td>\n",
       "      <td>0.524779</td>\n",
       "      <td>0.184884</td>\n",
       "      <td>0.193171</td>\n",
       "      <td>0.284294</td>\n",
       "      <td>0.273036</td>\n",
       "      <td>0.266022</td>\n",
       "      <td>0.682648</td>\n",
       "      <td>-0.034274</td>\n",
       "      <td>0.626592</td>\n",
       "      <td>0.611911</td>\n",
       "      <td>1.000000</td>\n",
       "      <td>0.299892</td>\n",
       "    </tr>\n",
       "    <tr>\n",
       "      <th>IMDB Score</th>\n",
       "      <td>-0.156023</td>\n",
       "      <td>0.257367</td>\n",
       "      <td>0.079294</td>\n",
       "      <td>0.025790</td>\n",
       "      <td>0.176529</td>\n",
       "      <td>0.162504</td>\n",
       "      <td>0.075887</td>\n",
       "      <td>0.083454</td>\n",
       "      <td>0.051948</td>\n",
       "      <td>0.085854</td>\n",
       "      <td>0.247106</td>\n",
       "      <td>-0.062605</td>\n",
       "      <td>0.411064</td>\n",
       "      <td>0.289895</td>\n",
       "      <td>0.299892</td>\n",
       "      <td>1.000000</td>\n",
       "    </tr>\n",
       "  </tbody>\n",
       "</table>\n",
       "</div>"
      ],
      "text/plain": [
       "                                 Year  Duration  Aspect Ratio    Budget  \\\n",
       "Year                         1.000000  0.258177     -0.404081  0.028165   \n",
       "Duration                     0.258177  1.000000     -0.051209  0.074757   \n",
       "Aspect Ratio                -0.404081 -0.051209      1.000000  0.000583   \n",
       "Budget                       0.028165  0.074757      0.000583  1.000000   \n",
       "Gross Earnings               0.093322  0.254692     -0.001462  0.123489   \n",
       "Facebook Likes - Director    0.032697  0.161283     -0.003292  0.024592   \n",
       "Facebook Likes - Actor 1     0.054176  0.088995     -0.007322  0.027271   \n",
       "Facebook Likes - Actor 2     0.047333  0.131753      0.008025  0.048881   \n",
       "Facebook Likes - Actor 3     0.032046  0.123700      0.010371  0.051251   \n",
       "Facebook Likes - cast Total  0.059502  0.122943     -0.001505  0.041820   \n",
       "Facebook likes - Movie       0.032892  0.195759      0.046098  0.066150   \n",
       "Facenumber in posters       -0.019544  0.003831      0.006966 -0.019048   \n",
       "User Votes                   0.058124  0.313942      0.019723  0.087461   \n",
       "Reviews by Users             0.072072  0.329786      0.015279  0.093015   \n",
       "Reviews by Crtiics           0.152560  0.269013      0.010364  0.127823   \n",
       "IMDB Score                  -0.156023  0.257367      0.079294  0.025790   \n",
       "\n",
       "                             Gross Earnings  Facebook Likes - Director  \\\n",
       "Year                               0.093322                   0.032697   \n",
       "Duration                           0.254692                   0.161283   \n",
       "Aspect Ratio                      -0.001462                  -0.003292   \n",
       "Budget                             0.123489                   0.024592   \n",
       "Gross Earnings                     1.000000                   0.149930   \n",
       "Facebook Likes - Director          0.149930                   1.000000   \n",
       "Facebook Likes - Actor 1           0.167268                   0.092349   \n",
       "Facebook Likes - Actor 2           0.284036                   0.121053   \n",
       "Facebook Likes - Actor 3           0.321703                   0.121278   \n",
       "Facebook Likes - cast Total        0.259703                   0.121090   \n",
       "Facebook likes - Movie             0.392607                   0.162089   \n",
       "Facenumber in posters             -0.023877                  -0.041555   \n",
       "User Votes                         0.651502                   0.298042   \n",
       "Reviews by Users                   0.582892                   0.223869   \n",
       "Reviews by Crtiics                 0.524779                   0.184884   \n",
       "IMDB Score                         0.176529                   0.162504   \n",
       "\n",
       "                             Facebook Likes - Actor 1  \\\n",
       "Year                                         0.054176   \n",
       "Duration                                     0.088995   \n",
       "Aspect Ratio                                -0.007322   \n",
       "Budget                                       0.027271   \n",
       "Gross Earnings                               0.167268   \n",
       "Facebook Likes - Director                    0.092349   \n",
       "Facebook Likes - Actor 1                     1.000000   \n",
       "Facebook Likes - Actor 2                     0.390746   \n",
       "Facebook Likes - Actor 3                     0.250404   \n",
       "Facebook Likes - cast Total                  0.951669   \n",
       "Facebook likes - Movie                       0.135501   \n",
       "Facenumber in posters                        0.072608   \n",
       "User Votes                                   0.193055   \n",
       "Reviews by Users                             0.146725   \n",
       "Reviews by Crtiics                           0.193171   \n",
       "IMDB Score                                   0.075887   \n",
       "\n",
       "                             Facebook Likes - Actor 2  \\\n",
       "Year                                         0.047333   \n",
       "Duration                                     0.131753   \n",
       "Aspect Ratio                                 0.008025   \n",
       "Budget                                       0.048881   \n",
       "Gross Earnings                               0.284036   \n",
       "Facebook Likes - Director                    0.121053   \n",
       "Facebook Likes - Actor 1                     0.390746   \n",
       "Facebook Likes - Actor 2                     1.000000   \n",
       "Facebook Likes - Actor 3                     0.559965   \n",
       "Facebook Likes - cast Total                  0.628586   \n",
       "Facebook likes - Movie                       0.243674   \n",
       "Facenumber in posters                        0.071890   \n",
       "User Votes                                   0.271174   \n",
       "Reviews by Users                             0.220587   \n",
       "Reviews by Crtiics                           0.284294   \n",
       "IMDB Score                                   0.083454   \n",
       "\n",
       "                             Facebook Likes - Actor 3  \\\n",
       "Year                                         0.032046   \n",
       "Duration                                     0.123700   \n",
       "Aspect Ratio                                 0.010371   \n",
       "Budget                                       0.051251   \n",
       "Gross Earnings                               0.321703   \n",
       "Facebook Likes - Director                    0.121278   \n",
       "Facebook Likes - Actor 1                     0.250404   \n",
       "Facebook Likes - Actor 2                     0.559965   \n",
       "Facebook Likes - Actor 3                     1.000000   \n",
       "Facebook Likes - cast Total                  0.474326   \n",
       "Facebook likes - Movie                       0.279211   \n",
       "Facenumber in posters                        0.100251   \n",
       "User Votes                                   0.287842   \n",
       "Reviews by Users                             0.231169   \n",
       "Reviews by Crtiics                           0.273036   \n",
       "IMDB Score                                   0.051948   \n",
       "\n",
       "                             Facebook Likes - cast Total  \\\n",
       "Year                                            0.059502   \n",
       "Duration                                        0.122943   \n",
       "Aspect Ratio                                   -0.001505   \n",
       "Budget                                          0.041820   \n",
       "Gross Earnings                                  0.259703   \n",
       "Facebook Likes - Director                       0.121090   \n",
       "Facebook Likes - Actor 1                        0.951669   \n",
       "Facebook Likes - Actor 2                        0.628586   \n",
       "Facebook Likes - Actor 3                        0.474326   \n",
       "Facebook Likes - cast Total                     1.000000   \n",
       "Facebook likes - Movie                          0.209754   \n",
       "Facenumber in posters                           0.091524   \n",
       "User Votes                                      0.265865   \n",
       "Reviews by Users                                0.207946   \n",
       "Reviews by Crtiics                              0.266022   \n",
       "IMDB Score                                      0.085854   \n",
       "\n",
       "                             Facebook likes - Movie  Facenumber in posters  \\\n",
       "Year                                       0.032892              -0.019544   \n",
       "Duration                                   0.195759               0.003831   \n",
       "Aspect Ratio                               0.046098               0.006966   \n",
       "Budget                                     0.066150              -0.019048   \n",
       "Gross Earnings                             0.392607              -0.023877   \n",
       "Facebook Likes - Director                  0.162089              -0.041555   \n",
       "Facebook Likes - Actor 1                   0.135501               0.072608   \n",
       "Facebook Likes - Actor 2                   0.243674               0.071890   \n",
       "Facebook Likes - Actor 3                   0.279211               0.100251   \n",
       "Facebook Likes - cast Total                0.209754               0.091524   \n",
       "Facebook likes - Movie                     1.000000               0.008525   \n",
       "Facenumber in posters                      0.008525               1.000000   \n",
       "User Votes                                 0.537905              -0.026968   \n",
       "Reviews by Users                           0.401169              -0.068702   \n",
       "Reviews by Crtiics                         0.682648              -0.034274   \n",
       "IMDB Score                                 0.247106              -0.062605   \n",
       "\n",
       "                             User Votes  Reviews by Users  Reviews by Crtiics  \\\n",
       "Year                           0.058124          0.072072            0.152560   \n",
       "Duration                       0.313942          0.329786            0.269013   \n",
       "Aspect Ratio                   0.019723          0.015279            0.010364   \n",
       "Budget                         0.087461          0.093015            0.127823   \n",
       "Gross Earnings                 0.651502          0.582892            0.524779   \n",
       "Facebook Likes - Director      0.298042          0.223869            0.184884   \n",
       "Facebook Likes - Actor 1       0.193055          0.146725            0.193171   \n",
       "Facebook Likes - Actor 2       0.271174          0.220587            0.284294   \n",
       "Facebook Likes - Actor 3       0.287842          0.231169            0.273036   \n",
       "Facebook Likes - cast Total    0.265865          0.207946            0.266022   \n",
       "Facebook likes - Movie         0.537905          0.401169            0.682648   \n",
       "Facenumber in posters         -0.026968         -0.068702           -0.034274   \n",
       "User Votes                     1.000000          0.798733            0.626592   \n",
       "Reviews by Users               0.798733          1.000000            0.611911   \n",
       "Reviews by Crtiics             0.626592          0.611911            1.000000   \n",
       "IMDB Score                     0.411064          0.289895            0.299892   \n",
       "\n",
       "                             IMDB Score  \n",
       "Year                          -0.156023  \n",
       "Duration                       0.257367  \n",
       "Aspect Ratio                   0.079294  \n",
       "Budget                         0.025790  \n",
       "Gross Earnings                 0.176529  \n",
       "Facebook Likes - Director      0.162504  \n",
       "Facebook Likes - Actor 1       0.075887  \n",
       "Facebook Likes - Actor 2       0.083454  \n",
       "Facebook Likes - Actor 3       0.051948  \n",
       "Facebook Likes - cast Total    0.085854  \n",
       "Facebook likes - Movie         0.247106  \n",
       "Facenumber in posters         -0.062605  \n",
       "User Votes                     0.411064  \n",
       "Reviews by Users               0.289895  \n",
       "Reviews by Crtiics             0.299892  \n",
       "IMDB Score                     1.000000  "
      ]
     },
     "execution_count": 9,
     "metadata": {},
     "output_type": "execute_result"
    }
   ],
   "source": [
    "movies.corr()"
   ]
  },
  {
   "cell_type": "code",
   "execution_count": 13,
   "metadata": {},
   "outputs": [
    {
     "data": {
      "text/plain": [
       "Text(0, 0.5, 'Gross Earnings')"
      ]
     },
     "execution_count": 13,
     "metadata": {},
     "output_type": "execute_result"
    },
    {
     "data": {
      "image/png": "[encoded data removed]",
      "text/plain": [
       "<Figure size 432x288 with 1 Axes>"
      ]
     },
     "metadata": {
      "needs_background": "light"
     },
     "output_type": "display_data"
    }
   ],
   "source": [
    "plt.scatter(movies['Budget'], movies[\"Gross Earnings\"])\n",
    "plt.plot(movies['Budget'], slope*movies['Budget']+intercept, 'k--')\n",
    "plt.title('y=x*' + str(slope) + '+' + str(intercept))\n",
    "plt.xlabel('Budget')\n",
    "plt.ylabel('Gross Earnings')"
   ]
  },
  {
   "cell_type": "markdown",
   "metadata": {},
   "source": [
    "# Lecture 11.2\n",
    "\n",
    "### Agenda:\n",
    "- What makes a good scientific research proposal?\n",
    "    - Dataset or way to generate data to analyze (e.g. a model)\n",
    "    - Well defined research question(s) that can be adressed with the above dataset/methods\n",
    "    - Clear explaination of what you are going to do to answer these research questions (not too technical/jargony, but some details)\n",
    "    - Convince the reader/reviewer you have the expertise and the resources to do the work (don't promise more than you can do)\n",
    "    - Realistic timelines and adequate personell \n",
    "    \n",
    "#### On Monday you will give a 5 min talk on your proposed research \n",
    "Just a couple of slides and some discussion\n",
    "\n",
    "- What makes a good talk?"
   ]
  },
  {
   "cell_type": "code",
   "execution_count": null,
   "metadata": {},
   "outputs": [],
   "source": []
  },
  {
   "cell_type": "code",
   "execution_count": null,
   "metadata": {},
   "outputs": [],
   "source": []
  },
  {
   "cell_type": "markdown",
   "metadata": {},
   "source": [
    "# Lab 11.2"
   ]
  },
  {
   "cell_type": "markdown",
   "metadata": {},
   "source": [
    "Today is a workday. Catch up and work on your research proposal. I am here to assist you."
   ]
  },
  {
   "cell_type": "markdown",
   "metadata": {},
   "source": [
    "**E.1** Complete your research proposal (see assignment and checklist in folder in github)"
   ]
  },
  {
   "cell_type": "markdown",
   "metadata": {},
   "source": [
    "**E.2** On Monday we will workshop research proposal plans together. This should be fun, helpful, and not too formal/serious. Prepare a few slides (2-3) on your proposed research to share with the class. Talk about your research question(s) and your proposed methods and we will ask you questions and give you feedback."
   ]
  },
  {
   "cell_type": "markdown",
   "metadata": {},
   "source": [
    "Please note both of these exercises are manditory to pass the class and must be completed on time (no late work will be accepted)"
   ]
  },
  {
   "cell_type": "code",
   "execution_count": 3,
   "metadata": {},
   "outputs": [],
   "source": [
    "practice = pd.read_csv('rodents_20210212_v2.csv', index_col= 0)"
   ]
  },
  {
   "cell_type": "code",
   "execution_count": 4,
   "metadata": {},
   "outputs": [],
   "source": [
    "practice1=practice[practice['Species'].isin(['Chaetodipus_hispidus','Sigmodon_hispidus','Peromyscus_leucopus','Onychomys_leucogaster', 'Rattus_rattus', 'Neotoma_micropus','Reithrodontomys_fulvous'])]"
   ]
  },
  {
   "cell_type": "code",
   "execution_count": 6,
   "metadata": {},
   "outputs": [],
   "source": [
    "practice01=practice1.groupby(['Hour','Species'])['# of Individuals'].sum()"
   ]
  },
  {
   "cell_type": "code",
   "execution_count": 7,
   "metadata": {},
   "outputs": [
    {
     "data": {
      "text/plain": [
       "Hour  Species                \n",
       "0     Chaetodipus_hispidus        3\n",
       "      Peromyscus_leucopus         3\n",
       "      Rattus_rattus               1\n",
       "      Sigmodon_hispidus           4\n",
       "1     Chaetodipus_hispidus        4\n",
       "      Onychomys_leucogaster       1\n",
       "      Peromyscus_leucopus         4\n",
       "      Rattus_rattus               1\n",
       "      Reithrodontomys_fulvous     1\n",
       "      Sigmodon_hispidus           2\n",
       "2     Chaetodipus_hispidus        4\n",
       "      Peromyscus_leucopus         4\n",
       "3     Chaetodipus_hispidus        3\n",
       "      Neotoma_micropus            2\n",
       "      Peromyscus_leucopus        11\n",
       "4     Chaetodipus_hispidus        3\n",
       "      Peromyscus_leucopus         6\n",
       "      Sigmodon_hispidus           3\n",
       "5     Chaetodipus_hispidus        2\n",
       "      Peromyscus_leucopus         7\n",
       "      Sigmodon_hispidus           3\n",
       "6     Peromyscus_leucopus         2\n",
       "      Sigmodon_hispidus           7\n",
       "7     Sigmodon_hispidus           1\n",
       "9     Sigmodon_hispidus           1\n",
       "11    Sigmodon_hispidus           2\n",
       "12    Sigmodon_hispidus           2\n",
       "13    Sigmodon_hispidus           1\n",
       "15    Sigmodon_hispidus           1\n",
       "17    Sigmodon_hispidus           4\n",
       "18    Peromyscus_leucopus         6\n",
       "      Sigmodon_hispidus          11\n",
       "19    Peromyscus_leucopus        13\n",
       "      Sigmodon_hispidus           1\n",
       "20    Chaetodipus_hispidus        3\n",
       "      Peromyscus_leucopus         7\n",
       "      Sigmodon_hispidus           3\n",
       "21    Peromyscus_leucopus         4\n",
       "      Sigmodon_hispidus           4\n",
       "22    Peromyscus_leucopus         7\n",
       "      Rattus_rattus               1\n",
       "      Sigmodon_hispidus           1\n",
       "23    Chaetodipus_hispidus        3\n",
       "      Peromyscus_leucopus         3\n",
       "      Sigmodon_hispidus           1\n",
       "Name: # of Individuals, dtype: int64"
      ]
     },
     "execution_count": 7,
     "metadata": {},
     "output_type": "execute_result"
    }
   ],
   "source": [
    "practice01"
   ]
  },
  {
   "cell_type": "code",
   "execution_count": 13,
   "metadata": {},
   "outputs": [
    {
     "data": {
      "text/plain": [
       "<AxesSubplot:xlabel='Hour', ylabel='# of Independent Sightings'>"
      ]
     },
     "execution_count": 13,
     "metadata": {},
     "output_type": "execute_result"
    },
    {
     "data": {
      "image/png": "[encoded data removed]",
      "text/plain": [
       "<Figure size 720x648 with 1 Axes>"
      ]
     },
     "metadata": {
      "needs_background": "light"
     },
     "output_type": "display_data"
    }
   ],
   "source": [
    "practice01.unstack().plot.bar(ylabel='# of Independent Sightings', stacked=True, figsize=(10,9), cmap='viridis')"
   ]
  },
  {
   "cell_type": "code",
   "execution_count": 24,
   "metadata": {},
   "outputs": [
    {
     "data": {
      "text/plain": [
       "<AxesSubplot:xlabel='Hour', ylabel='# of Independent Sightings'>"
      ]
     },
     "execution_count": 24,
     "metadata": {},
     "output_type": "execute_result"
    },
    {
     "data": {
      "image/png": "[encoded data removed]",
      "text/plain": [
       "<Figure size 1440x864 with 1 Axes>"
      ]
     },
     "metadata": {
      "needs_background": "light"
     },
     "output_type": "display_data"
    }
   ],
   "source": [
    "practice01.unstack().plot.bar(ylabel='# of Independent Sightings', stacked=True, figsize=(20,12), cmap='magma', width=.95)\n"
   ]
  },
  {
   "cell_type": "code",
   "execution_count": null,
   "metadata": {},
   "outputs": [],
   "source": []
  }
 ],
 "metadata": {
  "kernelspec": {
   "display_name": "Python 3",
   "language": "python",
   "name": "python3"
  },
  "language_info": {
   "codemirror_mode": {
    "name": "ipython",
    "version": 3
   },
   "file_extension": ".py",
   "mimetype": "text/x-python",
   "name": "python",
   "nbconvert_exporter": "python",
   "pygments_lexer": "ipython3",
   "version": "3.8.5"
  }
 },
 "nbformat": 4,
 "nbformat_minor": 5
}
