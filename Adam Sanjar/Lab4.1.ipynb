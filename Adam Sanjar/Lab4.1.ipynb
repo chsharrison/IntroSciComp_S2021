{
 "cells": [
  {
   "cell_type": "markdown",
   "metadata": {},
   "source": [
    "Name"
   ]
  },
  {
   "cell_type": "markdown",
   "metadata": {},
   "source": [
    "Adam Sanjar"
   ]
  },
  {
   "cell_type": "markdown",
   "metadata": {},
   "source": [
    "Lab Partner(s)"
   ]
  },
  {
   "cell_type": "code",
   "execution_count": 13,
   "metadata": {},
   "outputs": [],
   "source": [
    "# import statements go here\n",
    "import numpy as np\n",
    "import matplotlib.pyplot as plt    \n",
    "import pandas as pd"
   ]
  },
  {
   "cell_type": "markdown",
   "metadata": {},
   "source": [
    "# Lab 4.1 "
   ]
  },
  {
   "cell_type": "markdown",
   "metadata": {},
   "source": [
    "**Note** Monday labs are nowdue Thursdays at Midnight"
   ]
  },
  {
   "cell_type": "markdown",
   "metadata": {},
   "source": [
    "Today we are going to go over all of your questions on the material so far and do some review. Then I will show you how to import simple data files\n",
    "\n",
    "Wednesday I will introduce the final projects."
   ]
  },
  {
   "cell_type": "markdown",
   "metadata": {},
   "source": [
    "## Instructions\n",
    "\n",
    "**For class today, you need to download the populations.txt document that is the class materials folder.**\n",
    "\n",
    "For each class, download the lab and have it up and running in Jupyter when we begin the class period. This will allow you to code along with the demonstrations and be ready to go. You will be assigned a lab partner in your breakout room, they are your partner for this lab. Put their name above.\n",
    "\n",
    "When you are done with your lab, upload this document to your github folder on the class site. Then submit a url link to the completed lab, along with a screenshot of your **completed score** for the chapter assigned in datacamp to the assignment tab in Blackboard."
   ]
  },
  {
   "cell_type": "markdown",
   "metadata": {},
   "source": [
    "# Warmups 3.2"
   ]
  },
  {
   "cell_type": "markdown",
   "metadata": {},
   "source": [
    "**W.1.** Make a numpy array that goes from 100 to 1000 (including 1000) stepping by 50"
   ]
  },
  {
   "cell_type": "code",
   "execution_count": 5,
   "metadata": {},
   "outputs": [
    {
     "data": {
      "text/plain": [
       "array([ 100,  150,  200,  250,  300,  350,  400,  450,  500,  550,  600,\n",
       "        650,  700,  750,  800,  850,  900,  950, 1000])"
      ]
     },
     "execution_count": 5,
     "metadata": {},
     "output_type": "execute_result"
    }
   ],
   "source": [
    "w1=np.arange(100, 1001, 50)\n",
    "w1"
   ]
  },
  {
   "cell_type": "markdown",
   "metadata": {},
   "source": [
    "**W.2** What is the shape of this array (this is not about plotting, but the size of the array, how many elements does it have? Find this using python)"
   ]
  },
  {
   "cell_type": "code",
   "execution_count": 4,
   "metadata": {},
   "outputs": [
    {
     "data": {
      "text/plain": [
       "(19,)"
      ]
     },
     "execution_count": 4,
     "metadata": {},
     "output_type": "execute_result"
    }
   ],
   "source": [
    "np.shape(w1)"
   ]
  },
  {
   "cell_type": "markdown",
   "metadata": {},
   "source": [
    "**W.3.1** Print out the first 5 elements of the array"
   ]
  },
  {
   "cell_type": "code",
   "execution_count": 7,
   "metadata": {},
   "outputs": [
    {
     "data": {
      "text/plain": [
       "array([100, 150, 200, 250, 300])"
      ]
     },
     "execution_count": 7,
     "metadata": {},
     "output_type": "execute_result"
    }
   ],
   "source": [
    "w1[:5]"
   ]
  },
  {
   "cell_type": "markdown",
   "metadata": {},
   "source": [
    "**W.3.2** Print out the last 5 elements of the array"
   ]
  },
  {
   "cell_type": "code",
   "execution_count": 8,
   "metadata": {},
   "outputs": [
    {
     "data": {
      "text/plain": [
       "array([ 800,  850,  900,  950, 1000])"
      ]
     },
     "execution_count": 8,
     "metadata": {},
     "output_type": "execute_result"
    }
   ],
   "source": [
    "w1[-5:]"
   ]
  },
  {
   "cell_type": "markdown",
   "metadata": {},
   "source": [
    "**W.3.3** Print out the sith through tenth elements of the array. There should be five elements printed"
   ]
  },
  {
   "cell_type": "code",
   "execution_count": 11,
   "metadata": {},
   "outputs": [
    {
     "data": {
      "text/plain": [
       "array([350, 400, 450, 500, 550])"
      ]
     },
     "execution_count": 11,
     "metadata": {},
     "output_type": "execute_result"
    }
   ],
   "source": [
    "w1[5:10]"
   ]
  },
  {
   "cell_type": "markdown",
   "metadata": {},
   "source": [
    "**W.4.1** Plot the array (i.e. plt.plot(x) if x is your array) and make your line red"
   ]
  },
  {
   "cell_type": "code",
   "execution_count": 12,
   "metadata": {},
   "outputs": [
    {
     "data": {
      "text/plain": [
       "[<matplotlib.lines.Line2D at 0x21e74bdc8d0>]"
      ]
     },
     "execution_count": 12,
     "metadata": {},
     "output_type": "execute_result"
    },
    {
     "data": {
      "image/png": "[encoded data removed]",
      "text/plain": [
       "<Figure size 432x288 with 1 Axes>"
      ]
     },
     "metadata": {
      "needs_background": "light"
     },
     "output_type": "display_data"
    }
   ],
   "source": [
    "plt.plot(w1, color=\"red\")"
   ]
  },
  {
   "cell_type": "markdown",
   "metadata": {},
   "source": [
    "**W.4.2** What is being plotted on the x-axis?"
   ]
  },
  {
   "cell_type": "markdown",
   "metadata": {},
   "source": [
    "index value"
   ]
  },
  {
   "cell_type": "markdown",
   "metadata": {},
   "source": [
    "**W.4.3** Label your axes reflecting your answer above and add a title"
   ]
  },
  {
   "cell_type": "code",
   "execution_count": 17,
   "metadata": {},
   "outputs": [
    {
     "data": {
      "text/plain": [
       "Text(0, 0.5, 'w1 value')"
      ]
     },
     "execution_count": 17,
     "metadata": {},
     "output_type": "execute_result"
    },
    {
     "data": {
      "image/png": "[encoded data removed]",
      "text/plain": [
       "<Figure size 432x288 with 1 Axes>"
      ]
     },
     "metadata": {
      "needs_background": "light"
     },
     "output_type": "display_data"
    }
   ],
   "source": [
    "plt.plot(w1, color=\"red\")\n",
    "plt.xlabel(\"Index position\")\n",
    "plt.ylabel(\"w1 value\")"
   ]
  },
  {
   "cell_type": "markdown",
   "metadata": {},
   "source": [
    "**W.5** Now calculate the square of your array, i.e. $x^2$ and plot this vs the first array, i.e. plt.plot(x,$x^2$). What is being plotted on the x-axis now? Label your axes and add a legend."
   ]
  },
  {
   "cell_type": "code",
   "execution_count": 20,
   "metadata": {},
   "outputs": [
    {
     "data": {
      "text/plain": [
       "Text(0, 0.5, 'w1^2 value')"
      ]
     },
     "execution_count": 20,
     "metadata": {},
     "output_type": "execute_result"
    },
    {
     "data": {
      "image/png": "[encoded data removed]",
      "text/plain": [
       "<Figure size 432x288 with 1 Axes>"
      ]
     },
     "metadata": {
      "needs_background": "light"
     },
     "output_type": "display_data"
    }
   ],
   "source": [
    "plt.plot(w1,w1**2, color=\"blue\")\n",
    "plt.xlabel(\"w1 value\")\n",
    "plt.ylabel(\"w1^2 value\")"
   ]
  },
  {
   "cell_type": "markdown",
   "metadata": {},
   "source": [
    "# Lecture 4.1"
   ]
  },
  {
   "cell_type": "markdown",
   "metadata": {},
   "source": [
    "### 4.1.1 How to earn tokens\n",
    "\n",
    "Studies show students at all levels like gamification. So let’s try this. We are going to institute an assignment token earning system starting next wek. There will be awards for having lots of tokens…and a winner...and prizes. \n",
    "\n",
    "Earn assignment tokens for: \n",
    "- Doing the data camp chapter before class (1 token)\n",
    "- Turning in Monday’s lab by Tuesday at midnight (1 token)\n",
    "- Creating a cool demo or exercise for your classmates (1+ tokens, depending on awesomeness)\n",
    "- Creating warmup exercises (1+ tokens, depending on how many, quality, etc.)\n",
    "\n",
    "To earn your tokens, send me and Adrian your proof, code, etc. over slack. That is, in a group message to both Adrian and I.\n",
    "\n",
    "As always, let me know in your weekly assessments if you have ideas on how to improve this game.\n",
    "\n",
    "\n",
    "### 4.1.2 What are all the questions from the previous labs and material? \n",
    "The more basic the better. Let's do some review and make sure we don't leave anyone behind.\n"
   ]
  },
  {
   "cell_type": "code",
   "execution_count": null,
   "metadata": {},
   "outputs": [],
   "source": []
  },
  {
   "cell_type": "code",
   "execution_count": null,
   "metadata": {},
   "outputs": [],
   "source": []
  },
  {
   "cell_type": "code",
   "execution_count": null,
   "metadata": {},
   "outputs": [],
   "source": []
  },
  {
   "cell_type": "markdown",
   "metadata": {},
   "source": [
    "### 4.1.3 How to import a text file (the old ways of python)"
   ]
  },
  {
   "cell_type": "markdown",
   "metadata": {},
   "source": [
    "We are going to use some data in the scipy lecture notes, which is a great reference:\n",
    "\n",
    "http://scipy-lectures.org/intro/numpy/exercises.html#data-statistics\n",
    "\n",
    "Note that I have downloaded the populations.txt file and put it in the same foler as this notebook, so I can load it without the path in front"
   ]
  },
  {
   "cell_type": "code",
   "execution_count": 23,
   "metadata": {},
   "outputs": [],
   "source": [
    "#Note that I have downloaded the populations.txt file and put it in the same foler as this notebook, so I can load it without the path in front\n",
    "\n",
    "data = np.loadtxt('populations.txt')\n"
   ]
  },
  {
   "cell_type": "code",
   "execution_count": null,
   "metadata": {},
   "outputs": [],
   "source": [
    "# note if the data file is in another folder, I have to add some path information to the file string\n",
    "\n",
    "data2 = np.loadtxt('/Users/zti318/Downloads/populations_copy.txt')\n"
   ]
  },
  {
   "cell_type": "code",
   "execution_count": 25,
   "metadata": {},
   "outputs": [],
   "source": [
    "# you can also download it directly from the url:\n",
    "\n",
    "data3 = np.loadtxt('http://scipy-lectures.org/_downloads/populations.txt')"
   ]
  },
  {
   "cell_type": "code",
   "execution_count": 26,
   "metadata": {},
   "outputs": [
    {
     "name": "stdout",
     "output_type": "stream",
     "text": [
      "Help on function loadtxt in module numpy:\n",
      "\n",
      "loadtxt(fname, dtype=<class 'float'>, comments='#', delimiter=None, converters=None, skiprows=0, usecols=None, unpack=False, ndmin=0, encoding='bytes', max_rows=None)\n",
      "    Load data from a text file.\n",
      "    \n",
      "    Each row in the text file must have the same number of values.\n",
      "    \n",
      "    Parameters\n",
      "    ----------\n",
      "    fname : file, str, or pathlib.Path\n",
      "        File, filename, or generator to read.  If the filename extension is\n",
      "        ``.gz`` or ``.bz2``, the file is first decompressed. Note that\n",
      "        generators should return byte strings for Python 3k.\n",
      "    dtype : data-type, optional\n",
      "        Data-type of the resulting array; default: float.  If this is a\n",
      "        structured data-type, the resulting array will be 1-dimensional, and\n",
      "        each row will be interpreted as an element of the array.  In this\n",
      "        case, the number of columns used must match the number of fields in\n",
      "        the data-type.\n",
      "    comments : str or sequence of str, optional\n",
      "        The characters or list of characters used to indicate the start of a\n",
      "        comment. None implies no comments. For backwards compatibility, byte\n",
      "        strings will be decoded as 'latin1'. The default is '#'.\n",
      "    delimiter : str, optional\n",
      "        The string used to separate values. For backwards compatibility, byte\n",
      "        strings will be decoded as 'latin1'. The default is whitespace.\n",
      "    converters : dict, optional\n",
      "        A dictionary mapping column number to a function that will parse the\n",
      "        column string into the desired value.  E.g., if column 0 is a date\n",
      "        string: ``converters = {0: datestr2num}``.  Converters can also be\n",
      "        used to provide a default value for missing data (but see also\n",
      "        `genfromtxt`): ``converters = {3: lambda s: float(s.strip() or 0)}``.\n",
      "        Default: None.\n",
      "    skiprows : int, optional\n",
      "        Skip the first `skiprows` lines; default: 0.\n",
      "    usecols : int or sequence, optional\n",
      "        Which columns to read, with 0 being the first. For example,\n",
      "        ``usecols = (1,4,5)`` will extract the 2nd, 5th and 6th columns.\n",
      "        The default, None, results in all columns being read.\n",
      "    \n",
      "        .. versionchanged:: 1.11.0\n",
      "            When a single column has to be read it is possible to use\n",
      "            an integer instead of a tuple. E.g ``usecols = 3`` reads the\n",
      "            fourth column the same way as ``usecols = (3,)`` would.\n",
      "    unpack : bool, optional\n",
      "        If True, the returned array is transposed, so that arguments may be\n",
      "        unpacked using ``x, y, z = loadtxt(...)``.  When used with a structured\n",
      "        data-type, arrays are returned for each field.  Default is False.\n",
      "    ndmin : int, optional\n",
      "        The returned array will have at least `ndmin` dimensions.\n",
      "        Otherwise mono-dimensional axes will be squeezed.\n",
      "        Legal values: 0 (default), 1 or 2.\n",
      "    \n",
      "        .. versionadded:: 1.6.0\n",
      "    encoding : str, optional\n",
      "        Encoding used to decode the inputfile. Does not apply to input streams.\n",
      "        The special value 'bytes' enables backward compatibility workarounds\n",
      "        that ensures you receive byte arrays as results if possible and passes\n",
      "        'latin1' encoded strings to converters. Override this value to receive\n",
      "        unicode arrays and pass strings as input to converters.  If set to None\n",
      "        the system default is used. The default value is 'bytes'.\n",
      "    \n",
      "        .. versionadded:: 1.14.0\n",
      "    max_rows : int, optional\n",
      "        Read `max_rows` lines of content after `skiprows` lines. The default\n",
      "        is to read all the lines.\n",
      "    \n",
      "        .. versionadded:: 1.16.0\n",
      "    \n",
      "    Returns\n",
      "    -------\n",
      "    out : ndarray\n",
      "        Data read from the text file.\n",
      "    \n",
      "    See Also\n",
      "    --------\n",
      "    load, fromstring, fromregex\n",
      "    genfromtxt : Load data with missing values handled as specified.\n",
      "    scipy.io.loadmat : reads MATLAB data files\n",
      "    \n",
      "    Notes\n",
      "    -----\n",
      "    This function aims to be a fast reader for simply formatted files.  The\n",
      "    `genfromtxt` function provides more sophisticated handling of, e.g.,\n",
      "    lines with missing values.\n",
      "    \n",
      "    .. versionadded:: 1.10.0\n",
      "    \n",
      "    The strings produced by the Python float.hex method can be used as\n",
      "    input for floats.\n",
      "    \n",
      "    Examples\n",
      "    --------\n",
      "    >>> from io import StringIO   # StringIO behaves like a file object\n",
      "    >>> c = StringIO(u\"0 1\\n2 3\")\n",
      "    >>> np.loadtxt(c)\n",
      "    array([[ 0.,  1.],\n",
      "           [ 2.,  3.]])\n",
      "    \n",
      "    >>> d = StringIO(u\"M 21 72\\nF 35 58\")\n",
      "    >>> np.loadtxt(d, dtype={'names': ('gender', 'age', 'weight'),\n",
      "    ...                      'formats': ('S1', 'i4', 'f4')})\n",
      "    array([('M', 21, 72.0), ('F', 35, 58.0)],\n",
      "          dtype=[('gender', '|S1'), ('age', '<i4'), ('weight', '<f4')])\n",
      "    \n",
      "    >>> c = StringIO(u\"1,0,2\\n3,0,4\")\n",
      "    >>> x, y = np.loadtxt(c, delimiter=',', usecols=(0, 2), unpack=True)\n",
      "    >>> x\n",
      "    array([ 1.,  3.])\n",
      "    >>> y\n",
      "    array([ 2.,  4.])\n",
      "\n"
     ]
    }
   ],
   "source": [
    "help(np.loadtxt)"
   ]
  },
  {
   "cell_type": "code",
   "execution_count": 27,
   "metadata": {},
   "outputs": [
    {
     "data": {
      "text/plain": [
       "array([[ 1900., 30000.,  4000., 48300.],\n",
       "       [ 1901., 47200.,  6100., 48200.],\n",
       "       [ 1902., 70200.,  9800., 41500.],\n",
       "       [ 1903., 77400., 35200., 38200.],\n",
       "       [ 1904., 36300., 59400., 40600.],\n",
       "       [ 1905., 20600., 41700., 39800.],\n",
       "       [ 1906., 18100., 19000., 38600.],\n",
       "       [ 1907., 21400., 13000., 42300.],\n",
       "       [ 1908., 22000.,  8300., 44500.],\n",
       "       [ 1909., 25400.,  9100., 42100.],\n",
       "       [ 1910., 27100.,  7400., 46000.],\n",
       "       [ 1911., 40300.,  8000., 46800.],\n",
       "       [ 1912., 57000., 12300., 43800.],\n",
       "       [ 1913., 76600., 19500., 40900.],\n",
       "       [ 1914., 52300., 45700., 39400.],\n",
       "       [ 1915., 19500., 51100., 39000.],\n",
       "       [ 1916., 11200., 29700., 36700.],\n",
       "       [ 1917.,  7600., 15800., 41800.],\n",
       "       [ 1918., 14600.,  9700., 43300.],\n",
       "       [ 1919., 16200., 10100., 41300.],\n",
       "       [ 1920., 24700.,  8600., 47300.]])"
      ]
     },
     "execution_count": 27,
     "metadata": {},
     "output_type": "execute_result"
    }
   ],
   "source": [
    "data"
   ]
  },
  {
   "cell_type": "markdown",
   "metadata": {},
   "source": [
    "Note that the header information (the names of the data columns) was not imported.\n",
    "\n"
   ]
  },
  {
   "cell_type": "code",
   "execution_count": 28,
   "metadata": {},
   "outputs": [
    {
     "data": {
      "text/plain": [
       "(21, 4)"
      ]
     },
     "execution_count": 28,
     "metadata": {},
     "output_type": "execute_result"
    }
   ],
   "source": [
    "\n",
    "# what is the shape of the data?\n",
    "np.shape(data)"
   ]
  },
  {
   "cell_type": "markdown",
   "metadata": {},
   "source": [
    "I want to plot the data in the three columns by year"
   ]
  },
  {
   "cell_type": "code",
   "execution_count": 30,
   "metadata": {},
   "outputs": [
    {
     "data": {
      "text/plain": [
       "array([1900., 1901., 1902., 1903., 1904., 1905., 1906., 1907., 1908.,\n",
       "       1909., 1910., 1911., 1912., 1913., 1914., 1915., 1916., 1917.,\n",
       "       1918., 1919., 1920.])"
      ]
     },
     "execution_count": 30,
     "metadata": {},
     "output_type": "execute_result"
    }
   ],
   "source": [
    "# how do I get the years?\n",
    "data[:,0]"
   ]
  },
  {
   "cell_type": "code",
   "execution_count": 32,
   "metadata": {},
   "outputs": [
    {
     "data": {
      "text/plain": [
       "array([30000., 47200., 70200., 77400., 36300., 20600., 18100., 21400.,\n",
       "       22000., 25400., 27100., 40300., 57000., 76600., 52300., 19500.,\n",
       "       11200.,  7600., 14600., 16200., 24700.])"
      ]
     },
     "execution_count": 32,
     "metadata": {},
     "output_type": "execute_result"
    }
   ],
   "source": [
    "# how do I get the hare data?\n",
    "data[:,1]"
   ]
  },
  {
   "cell_type": "code",
   "execution_count": 33,
   "metadata": {},
   "outputs": [
    {
     "data": {
      "text/plain": [
       "[<matplotlib.lines.Line2D at 0x21e75066860>]"
      ]
     },
     "execution_count": 33,
     "metadata": {},
     "output_type": "execute_result"
    },
    {
     "data": {
      "image/png": "[encoded data removed]",
      "text/plain": [
       "<Figure size 432x288 with 1 Axes>"
      ]
     },
     "metadata": {
      "needs_background": "light"
     },
     "output_type": "display_data"
    }
   ],
   "source": [
    "# let's make a plot hares vs. years\n",
    "plt.plot(data[:,0],data[:,1])"
   ]
  },
  {
   "cell_type": "code",
   "execution_count": 46,
   "metadata": {},
   "outputs": [
    {
     "data": {
      "text/plain": [
       "Text(0, 0.5, 'population')"
      ]
     },
     "execution_count": 46,
     "metadata": {},
     "output_type": "execute_result"
    },
    {
     "data": {
      "image/png": "[encoded data removed]",
      "text/plain": [
       "<Figure size 432x288 with 1 Axes>"
      ]
     },
     "metadata": {
      "needs_background": "light"
     },
     "output_type": "display_data"
    }
   ],
   "source": [
    "# let's plot the rest of the data and add a legend\n",
    "plt.plot(data[:,0],data[:,1], label= 'hare')\n",
    "plt.plot(data[:,0],data[:,2], label= 'lynx')\n",
    "plt.plot(data[:,0],data[:,3], label= 'carrot')\n",
    "plt.legend()\n",
    "plt.xlabel('year')\n",
    "plt.ylabel('population')"
   ]
  },
  {
   "cell_type": "markdown",
   "metadata": {},
   "source": [
    "### 4.1.4 Now for the easy way with pandas"
   ]
  },
  {
   "cell_type": "markdown",
   "metadata": {},
   "source": [
    "The hardest part is always getting the data loaded in properly"
   ]
  },
  {
   "cell_type": "code",
   "execution_count": 50,
   "metadata": {},
   "outputs": [],
   "source": [
    "# import the data with pandas\n",
    "\n",
    "data_pd = pd.read_csv('http://scipy-lectures.org/_downloads/populations.txt')"
   ]
  },
  {
   "cell_type": "code",
   "execution_count": 51,
   "metadata": {},
   "outputs": [
    {
     "data": {
      "text/html": [
       "<div>\n",
       "<style scoped>\n",
       "    .dataframe tbody tr th:only-of-type {\n",
       "        vertical-align: middle;\n",
       "    }\n",
       "\n",
       "    .dataframe tbody tr th {\n",
       "        vertical-align: top;\n",
       "    }\n",
       "\n",
       "    .dataframe thead th {\n",
       "        text-align: right;\n",
       "    }\n",
       "</style>\n",
       "<table border=\"1\" class=\"dataframe\">\n",
       "  <thead>\n",
       "    <tr style=\"text-align: right;\">\n",
       "      <th></th>\n",
       "      <th># year\thare\tlynx\tcarrot</th>\n",
       "    </tr>\n",
       "  </thead>\n",
       "  <tbody>\n",
       "    <tr>\n",
       "      <th>0</th>\n",
       "      <td>1900\\t30e3\\t4e3\\t48300</td>\n",
       "    </tr>\n",
       "    <tr>\n",
       "      <th>1</th>\n",
       "      <td>1901\\t47.2e3\\t6.1e3\\t48200</td>\n",
       "    </tr>\n",
       "    <tr>\n",
       "      <th>2</th>\n",
       "      <td>1902\\t70.2e3\\t9.8e3\\t41500</td>\n",
       "    </tr>\n",
       "    <tr>\n",
       "      <th>3</th>\n",
       "      <td>1903\\t77.4e3\\t35.2e3\\t38200</td>\n",
       "    </tr>\n",
       "    <tr>\n",
       "      <th>4</th>\n",
       "      <td>1904\\t36.3e3\\t59.4e3\\t40600</td>\n",
       "    </tr>\n",
       "    <tr>\n",
       "      <th>5</th>\n",
       "      <td>1905\\t20.6e3\\t41.7e3\\t39800</td>\n",
       "    </tr>\n",
       "    <tr>\n",
       "      <th>6</th>\n",
       "      <td>1906\\t18.1e3\\t19e3\\t38600</td>\n",
       "    </tr>\n",
       "    <tr>\n",
       "      <th>7</th>\n",
       "      <td>1907\\t21.4e3\\t13e3\\t42300</td>\n",
       "    </tr>\n",
       "    <tr>\n",
       "      <th>8</th>\n",
       "      <td>1908\\t22e3\\t8.3e3\\t44500</td>\n",
       "    </tr>\n",
       "    <tr>\n",
       "      <th>9</th>\n",
       "      <td>1909\\t25.4e3\\t9.1e3\\t42100</td>\n",
       "    </tr>\n",
       "    <tr>\n",
       "      <th>10</th>\n",
       "      <td>1910\\t27.1e3\\t7.4e3\\t46000</td>\n",
       "    </tr>\n",
       "    <tr>\n",
       "      <th>11</th>\n",
       "      <td>1911\\t40.3e3\\t8e3\\t46800</td>\n",
       "    </tr>\n",
       "    <tr>\n",
       "      <th>12</th>\n",
       "      <td>1912\\t57e3\\t12.3e3\\t43800</td>\n",
       "    </tr>\n",
       "    <tr>\n",
       "      <th>13</th>\n",
       "      <td>1913\\t76.6e3\\t19.5e3\\t40900</td>\n",
       "    </tr>\n",
       "    <tr>\n",
       "      <th>14</th>\n",
       "      <td>1914\\t52.3e3\\t45.7e3\\t39400</td>\n",
       "    </tr>\n",
       "    <tr>\n",
       "      <th>15</th>\n",
       "      <td>1915\\t19.5e3\\t51.1e3\\t39000</td>\n",
       "    </tr>\n",
       "    <tr>\n",
       "      <th>16</th>\n",
       "      <td>1916\\t11.2e3\\t29.7e3\\t36700</td>\n",
       "    </tr>\n",
       "    <tr>\n",
       "      <th>17</th>\n",
       "      <td>1917\\t7.6e3\\t15.8e3\\t41800</td>\n",
       "    </tr>\n",
       "    <tr>\n",
       "      <th>18</th>\n",
       "      <td>1918\\t14.6e3\\t9.7e3\\t43300</td>\n",
       "    </tr>\n",
       "    <tr>\n",
       "      <th>19</th>\n",
       "      <td>1919\\t16.2e3\\t10.1e3\\t41300</td>\n",
       "    </tr>\n",
       "    <tr>\n",
       "      <th>20</th>\n",
       "      <td>1920\\t24.7e3\\t8.6e3\\t47300</td>\n",
       "    </tr>\n",
       "  </tbody>\n",
       "</table>\n",
       "</div>"
      ],
      "text/plain": [
       "     # year\\thare\\tlynx\\tcarrot\n",
       "0        1900\\t30e3\\t4e3\\t48300\n",
       "1    1901\\t47.2e3\\t6.1e3\\t48200\n",
       "2    1902\\t70.2e3\\t9.8e3\\t41500\n",
       "3   1903\\t77.4e3\\t35.2e3\\t38200\n",
       "4   1904\\t36.3e3\\t59.4e3\\t40600\n",
       "5   1905\\t20.6e3\\t41.7e3\\t39800\n",
       "6     1906\\t18.1e3\\t19e3\\t38600\n",
       "7     1907\\t21.4e3\\t13e3\\t42300\n",
       "8      1908\\t22e3\\t8.3e3\\t44500\n",
       "9    1909\\t25.4e3\\t9.1e3\\t42100\n",
       "10   1910\\t27.1e3\\t7.4e3\\t46000\n",
       "11     1911\\t40.3e3\\t8e3\\t46800\n",
       "12    1912\\t57e3\\t12.3e3\\t43800\n",
       "13  1913\\t76.6e3\\t19.5e3\\t40900\n",
       "14  1914\\t52.3e3\\t45.7e3\\t39400\n",
       "15  1915\\t19.5e3\\t51.1e3\\t39000\n",
       "16  1916\\t11.2e3\\t29.7e3\\t36700\n",
       "17   1917\\t7.6e3\\t15.8e3\\t41800\n",
       "18   1918\\t14.6e3\\t9.7e3\\t43300\n",
       "19  1919\\t16.2e3\\t10.1e3\\t41300\n",
       "20   1920\\t24.7e3\\t8.6e3\\t47300"
      ]
     },
     "execution_count": 51,
     "metadata": {},
     "output_type": "execute_result"
    }
   ],
   "source": [
    "data_pd"
   ]
  },
  {
   "cell_type": "code",
   "execution_count": 52,
   "metadata": {},
   "outputs": [
    {
     "name": "stdout",
     "output_type": "stream",
     "text": [
      "Help on function read_csv in module pandas.io.parsers:\n",
      "\n",
      "read_csv(filepath_or_buffer, sep=',', delimiter=None, header='infer', names=None, index_col=None, usecols=None, squeeze=False, prefix=None, mangle_dupe_cols=True, dtype=None, engine=None, converters=None, true_values=None, false_values=None, skipinitialspace=False, skiprows=None, skipfooter=0, nrows=None, na_values=None, keep_default_na=True, na_filter=True, verbose=False, skip_blank_lines=True, parse_dates=False, infer_datetime_format=False, keep_date_col=False, date_parser=None, dayfirst=False, iterator=False, chunksize=None, compression='infer', thousands=None, decimal=b'.', lineterminator=None, quotechar='\"', quoting=0, doublequote=True, escapechar=None, comment=None, encoding=None, dialect=None, tupleize_cols=None, error_bad_lines=True, warn_bad_lines=True, delim_whitespace=False, low_memory=True, memory_map=False, float_precision=None)\n",
      "    Read a comma-separated values (csv) file into DataFrame.\n",
      "    \n",
      "    Also supports optionally iterating or breaking of the file\n",
      "    into chunks.\n",
      "    \n",
      "    Additional help can be found in the online docs for\n",
      "    `IO Tools <http://pandas.pydata.org/pandas-docs/stable/io.html>`_.\n",
      "    \n",
      "    Parameters\n",
      "    ----------\n",
      "    filepath_or_buffer : str, path object, or file-like object\n",
      "        Any valid string path is acceptable. The string could be a URL. Valid\n",
      "        URL schemes include http, ftp, s3, and file. For file URLs, a host is\n",
      "        expected. A local file could be: file://localhost/path/to/table.csv.\n",
      "    \n",
      "        If you want to pass in a path object, pandas accepts either\n",
      "        ``pathlib.Path`` or ``py._path.local.LocalPath``.\n",
      "    \n",
      "        By file-like object, we refer to objects with a ``read()`` method, such as\n",
      "        a file handler (e.g. via builtin ``open`` function) or ``StringIO``.\n",
      "    sep : str, default ','\n",
      "        Delimiter to use. If sep is None, the C engine cannot automatically detect\n",
      "        the separator, but the Python parsing engine can, meaning the latter will\n",
      "        be used and automatically detect the separator by Python's builtin sniffer\n",
      "        tool, ``csv.Sniffer``. In addition, separators longer than 1 character and\n",
      "        different from ``'\\s+'`` will be interpreted as regular expressions and\n",
      "        will also force the use of the Python parsing engine. Note that regex\n",
      "        delimiters are prone to ignoring quoted data. Regex example: ``'\\r\\t'``.\n",
      "    delimiter : str, default ``None``\n",
      "        Alias for sep.\n",
      "    header : int, list of int, default 'infer'\n",
      "        Row number(s) to use as the column names, and the start of the\n",
      "        data.  Default behavior is to infer the column names: if no names\n",
      "        are passed the behavior is identical to ``header=0`` and column\n",
      "        names are inferred from the first line of the file, if column\n",
      "        names are passed explicitly then the behavior is identical to\n",
      "        ``header=None``. Explicitly pass ``header=0`` to be able to\n",
      "        replace existing names. The header can be a list of integers that\n",
      "        specify row locations for a multi-index on the columns\n",
      "        e.g. [0,1,3]. Intervening rows that are not specified will be\n",
      "        skipped (e.g. 2 in this example is skipped). Note that this\n",
      "        parameter ignores commented lines and empty lines if\n",
      "        ``skip_blank_lines=True``, so ``header=0`` denotes the first line of\n",
      "        data rather than the first line of the file.\n",
      "    names : array-like, optional\n",
      "        List of column names to use. If file contains no header row, then you\n",
      "        should explicitly pass ``header=None``. Duplicates in this list will cause\n",
      "        a ``UserWarning`` to be issued.\n",
      "    index_col : int, sequence or bool, optional\n",
      "        Column to use as the row labels of the DataFrame. If a sequence is given, a\n",
      "        MultiIndex is used. If you have a malformed file with delimiters at the end\n",
      "        of each line, you might consider ``index_col=False`` to force pandas to\n",
      "        not use the first column as the index (row names).\n",
      "    usecols : list-like or callable, optional\n",
      "        Return a subset of the columns. If list-like, all elements must either\n",
      "        be positional (i.e. integer indices into the document columns) or strings\n",
      "        that correspond to column names provided either by the user in `names` or\n",
      "        inferred from the document header row(s). For example, a valid list-like\n",
      "        `usecols` parameter would be ``[0, 1, 2]`` or ``['foo', 'bar', 'baz']``.\n",
      "        Element order is ignored, so ``usecols=[0, 1]`` is the same as ``[1, 0]``.\n",
      "        To instantiate a DataFrame from ``data`` with element order preserved use\n",
      "        ``pd.read_csv(data, usecols=['foo', 'bar'])[['foo', 'bar']]`` for columns\n",
      "        in ``['foo', 'bar']`` order or\n",
      "        ``pd.read_csv(data, usecols=['foo', 'bar'])[['bar', 'foo']]``\n",
      "        for ``['bar', 'foo']`` order.\n",
      "    \n",
      "        If callable, the callable function will be evaluated against the column\n",
      "        names, returning names where the callable function evaluates to True. An\n",
      "        example of a valid callable argument would be ``lambda x: x.upper() in\n",
      "        ['AAA', 'BBB', 'DDD']``. Using this parameter results in much faster\n",
      "        parsing time and lower memory usage.\n",
      "    squeeze : bool, default False\n",
      "        If the parsed data only contains one column then return a Series.\n",
      "    prefix : str, optional\n",
      "        Prefix to add to column numbers when no header, e.g. 'X' for X0, X1, ...\n",
      "    mangle_dupe_cols : bool, default True\n",
      "        Duplicate columns will be specified as 'X', 'X.1', ...'X.N', rather than\n",
      "        'X'...'X'. Passing in False will cause data to be overwritten if there\n",
      "        are duplicate names in the columns.\n",
      "    dtype : Type name or dict of column -> type, optional\n",
      "        Data type for data or columns. E.g. {'a': np.float64, 'b': np.int32,\n",
      "        'c': 'Int64'}\n",
      "        Use `str` or `object` together with suitable `na_values` settings\n",
      "        to preserve and not interpret dtype.\n",
      "        If converters are specified, they will be applied INSTEAD\n",
      "        of dtype conversion.\n",
      "    engine : {'c', 'python'}, optional\n",
      "        Parser engine to use. The C engine is faster while the python engine is\n",
      "        currently more feature-complete.\n",
      "    converters : dict, optional\n",
      "        Dict of functions for converting values in certain columns. Keys can either\n",
      "        be integers or column labels.\n",
      "    true_values : list, optional\n",
      "        Values to consider as True.\n",
      "    false_values : list, optional\n",
      "        Values to consider as False.\n",
      "    skipinitialspace : bool, default False\n",
      "        Skip spaces after delimiter.\n",
      "    skiprows : list-like, int or callable, optional\n",
      "        Line numbers to skip (0-indexed) or number of lines to skip (int)\n",
      "        at the start of the file.\n",
      "    \n",
      "        If callable, the callable function will be evaluated against the row\n",
      "        indices, returning True if the row should be skipped and False otherwise.\n",
      "        An example of a valid callable argument would be ``lambda x: x in [0, 2]``.\n",
      "    skipfooter : int, default 0\n",
      "        Number of lines at bottom of file to skip (Unsupported with engine='c').\n",
      "    nrows : int, optional\n",
      "        Number of rows of file to read. Useful for reading pieces of large files.\n",
      "    na_values : scalar, str, list-like, or dict, optional\n",
      "        Additional strings to recognize as NA/NaN. If dict passed, specific\n",
      "        per-column NA values.  By default the following values are interpreted as\n",
      "        NaN: '', '#N/A', '#N/A N/A', '#NA', '-1.#IND', '-1.#QNAN', '-NaN', '-nan',\n",
      "        '1.#IND', '1.#QNAN', 'N/A', 'NA', 'NULL', 'NaN', 'n/a', 'nan',\n",
      "        'null'.\n",
      "    keep_default_na : bool, default True\n",
      "        Whether or not to include the default NaN values when parsing the data.\n",
      "        Depending on whether `na_values` is passed in, the behavior is as follows:\n",
      "    \n",
      "        * If `keep_default_na` is True, and `na_values` are specified, `na_values`\n",
      "          is appended to the default NaN values used for parsing.\n",
      "        * If `keep_default_na` is True, and `na_values` are not specified, only\n",
      "          the default NaN values are used for parsing.\n",
      "        * If `keep_default_na` is False, and `na_values` are specified, only\n",
      "          the NaN values specified `na_values` are used for parsing.\n",
      "        * If `keep_default_na` is False, and `na_values` are not specified, no\n",
      "          strings will be parsed as NaN.\n",
      "    \n",
      "        Note that if `na_filter` is passed in as False, the `keep_default_na` and\n",
      "        `na_values` parameters will be ignored.\n",
      "    na_filter : bool, default True\n",
      "        Detect missing value markers (empty strings and the value of na_values). In\n",
      "        data without any NAs, passing na_filter=False can improve the performance\n",
      "        of reading a large file.\n",
      "    verbose : bool, default False\n",
      "        Indicate number of NA values placed in non-numeric columns.\n",
      "    skip_blank_lines : bool, default True\n",
      "        If True, skip over blank lines rather than interpreting as NaN values.\n",
      "    parse_dates : bool or list of int or names or list of lists or dict, default False\n",
      "        The behavior is as follows:\n",
      "    \n",
      "        * boolean. If True -> try parsing the index.\n",
      "        * list of int or names. e.g. If [1, 2, 3] -> try parsing columns 1, 2, 3\n",
      "          each as a separate date column.\n",
      "        * list of lists. e.g.  If [[1, 3]] -> combine columns 1 and 3 and parse as\n",
      "          a single date column.\n",
      "        * dict, e.g. {'foo' : [1, 3]} -> parse columns 1, 3 as date and call\n",
      "          result 'foo'\n",
      "    \n",
      "        If a column or index cannot be represented as an array of datetimes,\n",
      "        say because of an unparseable value or a mixture of timezones, the column\n",
      "        or index will be returned unaltered as an object data type. For\n",
      "        non-standard datetime parsing, use ``pd.to_datetime`` after\n",
      "        ``pd.read_csv``. To parse an index or column with a mixture of timezones,\n",
      "        specify ``date_parser`` to be a partially-applied\n",
      "        :func:`pandas.to_datetime` with ``utc=True``. See\n",
      "        :ref:`io.csv.mixed_timezones` for more.\n",
      "    \n",
      "        Note: A fast-path exists for iso8601-formatted dates.\n",
      "    infer_datetime_format : bool, default False\n",
      "        If True and `parse_dates` is enabled, pandas will attempt to infer the\n",
      "        format of the datetime strings in the columns, and if it can be inferred,\n",
      "        switch to a faster method of parsing them. In some cases this can increase\n",
      "        the parsing speed by 5-10x.\n",
      "    keep_date_col : bool, default False\n",
      "        If True and `parse_dates` specifies combining multiple columns then\n",
      "        keep the original columns.\n",
      "    date_parser : function, optional\n",
      "        Function to use for converting a sequence of string columns to an array of\n",
      "        datetime instances. The default uses ``dateutil.parser.parser`` to do the\n",
      "        conversion. Pandas will try to call `date_parser` in three different ways,\n",
      "        advancing to the next if an exception occurs: 1) Pass one or more arrays\n",
      "        (as defined by `parse_dates`) as arguments; 2) concatenate (row-wise) the\n",
      "        string values from the columns defined by `parse_dates` into a single array\n",
      "        and pass that; and 3) call `date_parser` once for each row using one or\n",
      "        more strings (corresponding to the columns defined by `parse_dates`) as\n",
      "        arguments.\n",
      "    dayfirst : bool, default False\n",
      "        DD/MM format dates, international and European format.\n",
      "    iterator : bool, default False\n",
      "        Return TextFileReader object for iteration or getting chunks with\n",
      "        ``get_chunk()``.\n",
      "    chunksize : int, optional\n",
      "        Return TextFileReader object for iteration.\n",
      "        See the `IO Tools docs\n",
      "        <http://pandas.pydata.org/pandas-docs/stable/io.html#io-chunking>`_\n",
      "        for more information on ``iterator`` and ``chunksize``.\n",
      "    compression : {'infer', 'gzip', 'bz2', 'zip', 'xz', None}, default 'infer'\n",
      "        For on-the-fly decompression of on-disk data. If 'infer' and\n",
      "        `filepath_or_buffer` is path-like, then detect compression from the\n",
      "        following extensions: '.gz', '.bz2', '.zip', or '.xz' (otherwise no\n",
      "        decompression). If using 'zip', the ZIP file must contain only one data\n",
      "        file to be read in. Set to None for no decompression.\n",
      "    \n",
      "        .. versionadded:: 0.18.1 support for 'zip' and 'xz' compression.\n",
      "    \n",
      "    thousands : str, optional\n",
      "        Thousands separator.\n",
      "    decimal : str, default '.'\n",
      "        Character to recognize as decimal point (e.g. use ',' for European data).\n",
      "    lineterminator : str (length 1), optional\n",
      "        Character to break file into lines. Only valid with C parser.\n",
      "    quotechar : str (length 1), optional\n",
      "        The character used to denote the start and end of a quoted item. Quoted\n",
      "        items can include the delimiter and it will be ignored.\n",
      "    quoting : int or csv.QUOTE_* instance, default 0\n",
      "        Control field quoting behavior per ``csv.QUOTE_*`` constants. Use one of\n",
      "        QUOTE_MINIMAL (0), QUOTE_ALL (1), QUOTE_NONNUMERIC (2) or QUOTE_NONE (3).\n",
      "    doublequote : bool, default ``True``\n",
      "       When quotechar is specified and quoting is not ``QUOTE_NONE``, indicate\n",
      "       whether or not to interpret two consecutive quotechar elements INSIDE a\n",
      "       field as a single ``quotechar`` element.\n",
      "    escapechar : str (length 1), optional\n",
      "        One-character string used to escape other characters.\n",
      "    comment : str, optional\n",
      "        Indicates remainder of line should not be parsed. If found at the beginning\n",
      "        of a line, the line will be ignored altogether. This parameter must be a\n",
      "        single character. Like empty lines (as long as ``skip_blank_lines=True``),\n",
      "        fully commented lines are ignored by the parameter `header` but not by\n",
      "        `skiprows`. For example, if ``comment='#'``, parsing\n",
      "        ``#empty\\na,b,c\\n1,2,3`` with ``header=0`` will result in 'a,b,c' being\n",
      "        treated as the header.\n",
      "    encoding : str, optional\n",
      "        Encoding to use for UTF when reading/writing (ex. 'utf-8'). `List of Python\n",
      "        standard encodings\n",
      "        <https://docs.python.org/3/library/codecs.html#standard-encodings>`_ .\n",
      "    dialect : str or csv.Dialect, optional\n",
      "        If provided, this parameter will override values (default or not) for the\n",
      "        following parameters: `delimiter`, `doublequote`, `escapechar`,\n",
      "        `skipinitialspace`, `quotechar`, and `quoting`. If it is necessary to\n",
      "        override values, a ParserWarning will be issued. See csv.Dialect\n",
      "        documentation for more details.\n",
      "    tupleize_cols : bool, default False\n",
      "        Leave a list of tuples on columns as is (default is to convert to\n",
      "        a MultiIndex on the columns).\n",
      "    \n",
      "        .. deprecated:: 0.21.0\n",
      "           This argument will be removed and will always convert to MultiIndex\n",
      "    \n",
      "    error_bad_lines : bool, default True\n",
      "        Lines with too many fields (e.g. a csv line with too many commas) will by\n",
      "        default cause an exception to be raised, and no DataFrame will be returned.\n",
      "        If False, then these \"bad lines\" will dropped from the DataFrame that is\n",
      "        returned.\n",
      "    warn_bad_lines : bool, default True\n",
      "        If error_bad_lines is False, and warn_bad_lines is True, a warning for each\n",
      "        \"bad line\" will be output.\n",
      "    delim_whitespace : bool, default False\n",
      "        Specifies whether or not whitespace (e.g. ``' '`` or ``'    '``) will be\n",
      "        used as the sep. Equivalent to setting ``sep='\\s+'``. If this option\n",
      "        is set to True, nothing should be passed in for the ``delimiter``\n",
      "        parameter.\n",
      "    \n",
      "        .. versionadded:: 0.18.1 support for the Python parser.\n",
      "    \n",
      "    low_memory : bool, default True\n",
      "        Internally process the file in chunks, resulting in lower memory use\n",
      "        while parsing, but possibly mixed type inference.  To ensure no mixed\n",
      "        types either set False, or specify the type with the `dtype` parameter.\n",
      "        Note that the entire file is read into a single DataFrame regardless,\n",
      "        use the `chunksize` or `iterator` parameter to return the data in chunks.\n",
      "        (Only valid with C parser).\n",
      "    memory_map : bool, default False\n",
      "        If a filepath is provided for `filepath_or_buffer`, map the file object\n",
      "        directly onto memory and access the data directly from there. Using this\n",
      "        option can improve performance because there is no longer any I/O overhead.\n",
      "    float_precision : str, optional\n",
      "        Specifies which converter the C engine should use for floating-point\n",
      "        values. The options are `None` for the ordinary converter,\n",
      "        `high` for the high-precision converter, and `round_trip` for the\n",
      "        round-trip converter.\n",
      "    \n",
      "    Returns\n",
      "    -------\n",
      "    DataFrame or TextParser\n",
      "        A comma-separated values (csv) file is returned as two-dimensional\n",
      "        data structure with labeled axes.\n",
      "    \n",
      "    See Also\n",
      "    --------\n",
      "    to_csv : Write DataFrame to a comma-separated values (csv) file.\n",
      "    read_csv : Read a comma-separated values (csv) file into DataFrame.\n",
      "    read_fwf : Read a table of fixed-width formatted lines into DataFrame.\n",
      "    \n",
      "    Examples\n",
      "    --------\n",
      "    >>> pd.read_csv('data.csv')  # doctest: +SKIP\n",
      "\n"
     ]
    }
   ],
   "source": [
    "help(pd.read_csv)"
   ]
  },
  {
   "cell_type": "code",
   "execution_count": 60,
   "metadata": {},
   "outputs": [
    {
     "data": {
      "text/html": [
       "<div>\n",
       "<style scoped>\n",
       "    .dataframe tbody tr th:only-of-type {\n",
       "        vertical-align: middle;\n",
       "    }\n",
       "\n",
       "    .dataframe tbody tr th {\n",
       "        vertical-align: top;\n",
       "    }\n",
       "\n",
       "    .dataframe thead th {\n",
       "        text-align: right;\n",
       "    }\n",
       "</style>\n",
       "<table border=\"1\" class=\"dataframe\">\n",
       "  <thead>\n",
       "    <tr style=\"text-align: right;\">\n",
       "      <th></th>\n",
       "      <th>hare</th>\n",
       "      <th>lynx</th>\n",
       "      <th>carrot</th>\n",
       "    </tr>\n",
       "    <tr>\n",
       "      <th># year</th>\n",
       "      <th></th>\n",
       "      <th></th>\n",
       "      <th></th>\n",
       "    </tr>\n",
       "  </thead>\n",
       "  <tbody>\n",
       "    <tr>\n",
       "      <th>1900</th>\n",
       "      <td>30000.0</td>\n",
       "      <td>4000.0</td>\n",
       "      <td>48300</td>\n",
       "    </tr>\n",
       "    <tr>\n",
       "      <th>1901</th>\n",
       "      <td>47200.0</td>\n",
       "      <td>6100.0</td>\n",
       "      <td>48200</td>\n",
       "    </tr>\n",
       "    <tr>\n",
       "      <th>1902</th>\n",
       "      <td>70200.0</td>\n",
       "      <td>9800.0</td>\n",
       "      <td>41500</td>\n",
       "    </tr>\n",
       "    <tr>\n",
       "      <th>1903</th>\n",
       "      <td>77400.0</td>\n",
       "      <td>35200.0</td>\n",
       "      <td>38200</td>\n",
       "    </tr>\n",
       "    <tr>\n",
       "      <th>1904</th>\n",
       "      <td>36300.0</td>\n",
       "      <td>59400.0</td>\n",
       "      <td>40600</td>\n",
       "    </tr>\n",
       "    <tr>\n",
       "      <th>1905</th>\n",
       "      <td>20600.0</td>\n",
       "      <td>41700.0</td>\n",
       "      <td>39800</td>\n",
       "    </tr>\n",
       "    <tr>\n",
       "      <th>1906</th>\n",
       "      <td>18100.0</td>\n",
       "      <td>19000.0</td>\n",
       "      <td>38600</td>\n",
       "    </tr>\n",
       "    <tr>\n",
       "      <th>1907</th>\n",
       "      <td>21400.0</td>\n",
       "      <td>13000.0</td>\n",
       "      <td>42300</td>\n",
       "    </tr>\n",
       "    <tr>\n",
       "      <th>1908</th>\n",
       "      <td>22000.0</td>\n",
       "      <td>8300.0</td>\n",
       "      <td>44500</td>\n",
       "    </tr>\n",
       "    <tr>\n",
       "      <th>1909</th>\n",
       "      <td>25400.0</td>\n",
       "      <td>9100.0</td>\n",
       "      <td>42100</td>\n",
       "    </tr>\n",
       "    <tr>\n",
       "      <th>1910</th>\n",
       "      <td>27100.0</td>\n",
       "      <td>7400.0</td>\n",
       "      <td>46000</td>\n",
       "    </tr>\n",
       "    <tr>\n",
       "      <th>1911</th>\n",
       "      <td>40300.0</td>\n",
       "      <td>8000.0</td>\n",
       "      <td>46800</td>\n",
       "    </tr>\n",
       "    <tr>\n",
       "      <th>1912</th>\n",
       "      <td>57000.0</td>\n",
       "      <td>12300.0</td>\n",
       "      <td>43800</td>\n",
       "    </tr>\n",
       "    <tr>\n",
       "      <th>1913</th>\n",
       "      <td>76600.0</td>\n",
       "      <td>19500.0</td>\n",
       "      <td>40900</td>\n",
       "    </tr>\n",
       "    <tr>\n",
       "      <th>1914</th>\n",
       "      <td>52300.0</td>\n",
       "      <td>45700.0</td>\n",
       "      <td>39400</td>\n",
       "    </tr>\n",
       "    <tr>\n",
       "      <th>1915</th>\n",
       "      <td>19500.0</td>\n",
       "      <td>51100.0</td>\n",
       "      <td>39000</td>\n",
       "    </tr>\n",
       "    <tr>\n",
       "      <th>1916</th>\n",
       "      <td>11200.0</td>\n",
       "      <td>29700.0</td>\n",
       "      <td>36700</td>\n",
       "    </tr>\n",
       "    <tr>\n",
       "      <th>1917</th>\n",
       "      <td>7600.0</td>\n",
       "      <td>15800.0</td>\n",
       "      <td>41800</td>\n",
       "    </tr>\n",
       "    <tr>\n",
       "      <th>1918</th>\n",
       "      <td>14600.0</td>\n",
       "      <td>9700.0</td>\n",
       "      <td>43300</td>\n",
       "    </tr>\n",
       "    <tr>\n",
       "      <th>1919</th>\n",
       "      <td>16200.0</td>\n",
       "      <td>10100.0</td>\n",
       "      <td>41300</td>\n",
       "    </tr>\n",
       "    <tr>\n",
       "      <th>1920</th>\n",
       "      <td>24700.0</td>\n",
       "      <td>8600.0</td>\n",
       "      <td>47300</td>\n",
       "    </tr>\n",
       "  </tbody>\n",
       "</table>\n",
       "</div>"
      ],
      "text/plain": [
       "           hare     lynx  carrot\n",
       "# year                          \n",
       "1900    30000.0   4000.0   48300\n",
       "1901    47200.0   6100.0   48200\n",
       "1902    70200.0   9800.0   41500\n",
       "1903    77400.0  35200.0   38200\n",
       "1904    36300.0  59400.0   40600\n",
       "1905    20600.0  41700.0   39800\n",
       "1906    18100.0  19000.0   38600\n",
       "1907    21400.0  13000.0   42300\n",
       "1908    22000.0   8300.0   44500\n",
       "1909    25400.0   9100.0   42100\n",
       "1910    27100.0   7400.0   46000\n",
       "1911    40300.0   8000.0   46800\n",
       "1912    57000.0  12300.0   43800\n",
       "1913    76600.0  19500.0   40900\n",
       "1914    52300.0  45700.0   39400\n",
       "1915    19500.0  51100.0   39000\n",
       "1916    11200.0  29700.0   36700\n",
       "1917     7600.0  15800.0   41800\n",
       "1918    14600.0   9700.0   43300\n",
       "1919    16200.0  10100.0   41300\n",
       "1920    24700.0   8600.0   47300"
      ]
     },
     "execution_count": 60,
     "metadata": {},
     "output_type": "execute_result"
    }
   ],
   "source": [
    "data_pd = pd.read_csv('http://scipy-lectures.org/_downloads/populations.txt',  '\\t')\n",
    "data_pd\n",
    "\n",
    "# I still don't like the numbers in the left column"
   ]
  },
  {
   "cell_type": "code",
   "execution_count": 63,
   "metadata": {},
   "outputs": [
    {
     "data": {
      "text/html": [
       "<div>\n",
       "<style scoped>\n",
       "    .dataframe tbody tr th:only-of-type {\n",
       "        vertical-align: middle;\n",
       "    }\n",
       "\n",
       "    .dataframe tbody tr th {\n",
       "        vertical-align: top;\n",
       "    }\n",
       "\n",
       "    .dataframe thead th {\n",
       "        text-align: right;\n",
       "    }\n",
       "</style>\n",
       "<table border=\"1\" class=\"dataframe\">\n",
       "  <thead>\n",
       "    <tr style=\"text-align: right;\">\n",
       "      <th></th>\n",
       "      <th>hare</th>\n",
       "      <th>lynx</th>\n",
       "      <th>carrot</th>\n",
       "    </tr>\n",
       "    <tr>\n",
       "      <th># year</th>\n",
       "      <th></th>\n",
       "      <th></th>\n",
       "      <th></th>\n",
       "    </tr>\n",
       "  </thead>\n",
       "  <tbody>\n",
       "    <tr>\n",
       "      <th>1900</th>\n",
       "      <td>30000.0</td>\n",
       "      <td>4000.0</td>\n",
       "      <td>48300</td>\n",
       "    </tr>\n",
       "    <tr>\n",
       "      <th>1901</th>\n",
       "      <td>47200.0</td>\n",
       "      <td>6100.0</td>\n",
       "      <td>48200</td>\n",
       "    </tr>\n",
       "    <tr>\n",
       "      <th>1902</th>\n",
       "      <td>70200.0</td>\n",
       "      <td>9800.0</td>\n",
       "      <td>41500</td>\n",
       "    </tr>\n",
       "    <tr>\n",
       "      <th>1903</th>\n",
       "      <td>77400.0</td>\n",
       "      <td>35200.0</td>\n",
       "      <td>38200</td>\n",
       "    </tr>\n",
       "    <tr>\n",
       "      <th>1904</th>\n",
       "      <td>36300.0</td>\n",
       "      <td>59400.0</td>\n",
       "      <td>40600</td>\n",
       "    </tr>\n",
       "    <tr>\n",
       "      <th>1905</th>\n",
       "      <td>20600.0</td>\n",
       "      <td>41700.0</td>\n",
       "      <td>39800</td>\n",
       "    </tr>\n",
       "    <tr>\n",
       "      <th>1906</th>\n",
       "      <td>18100.0</td>\n",
       "      <td>19000.0</td>\n",
       "      <td>38600</td>\n",
       "    </tr>\n",
       "    <tr>\n",
       "      <th>1907</th>\n",
       "      <td>21400.0</td>\n",
       "      <td>13000.0</td>\n",
       "      <td>42300</td>\n",
       "    </tr>\n",
       "    <tr>\n",
       "      <th>1908</th>\n",
       "      <td>22000.0</td>\n",
       "      <td>8300.0</td>\n",
       "      <td>44500</td>\n",
       "    </tr>\n",
       "    <tr>\n",
       "      <th>1909</th>\n",
       "      <td>25400.0</td>\n",
       "      <td>9100.0</td>\n",
       "      <td>42100</td>\n",
       "    </tr>\n",
       "    <tr>\n",
       "      <th>1910</th>\n",
       "      <td>27100.0</td>\n",
       "      <td>7400.0</td>\n",
       "      <td>46000</td>\n",
       "    </tr>\n",
       "    <tr>\n",
       "      <th>1911</th>\n",
       "      <td>40300.0</td>\n",
       "      <td>8000.0</td>\n",
       "      <td>46800</td>\n",
       "    </tr>\n",
       "    <tr>\n",
       "      <th>1912</th>\n",
       "      <td>57000.0</td>\n",
       "      <td>12300.0</td>\n",
       "      <td>43800</td>\n",
       "    </tr>\n",
       "    <tr>\n",
       "      <th>1913</th>\n",
       "      <td>76600.0</td>\n",
       "      <td>19500.0</td>\n",
       "      <td>40900</td>\n",
       "    </tr>\n",
       "    <tr>\n",
       "      <th>1914</th>\n",
       "      <td>52300.0</td>\n",
       "      <td>45700.0</td>\n",
       "      <td>39400</td>\n",
       "    </tr>\n",
       "    <tr>\n",
       "      <th>1915</th>\n",
       "      <td>19500.0</td>\n",
       "      <td>51100.0</td>\n",
       "      <td>39000</td>\n",
       "    </tr>\n",
       "    <tr>\n",
       "      <th>1916</th>\n",
       "      <td>11200.0</td>\n",
       "      <td>29700.0</td>\n",
       "      <td>36700</td>\n",
       "    </tr>\n",
       "    <tr>\n",
       "      <th>1917</th>\n",
       "      <td>7600.0</td>\n",
       "      <td>15800.0</td>\n",
       "      <td>41800</td>\n",
       "    </tr>\n",
       "    <tr>\n",
       "      <th>1918</th>\n",
       "      <td>14600.0</td>\n",
       "      <td>9700.0</td>\n",
       "      <td>43300</td>\n",
       "    </tr>\n",
       "    <tr>\n",
       "      <th>1919</th>\n",
       "      <td>16200.0</td>\n",
       "      <td>10100.0</td>\n",
       "      <td>41300</td>\n",
       "    </tr>\n",
       "    <tr>\n",
       "      <th>1920</th>\n",
       "      <td>24700.0</td>\n",
       "      <td>8600.0</td>\n",
       "      <td>47300</td>\n",
       "    </tr>\n",
       "  </tbody>\n",
       "</table>\n",
       "</div>"
      ],
      "text/plain": [
       "           hare     lynx  carrot\n",
       "# year                          \n",
       "1900    30000.0   4000.0   48300\n",
       "1901    47200.0   6100.0   48200\n",
       "1902    70200.0   9800.0   41500\n",
       "1903    77400.0  35200.0   38200\n",
       "1904    36300.0  59400.0   40600\n",
       "1905    20600.0  41700.0   39800\n",
       "1906    18100.0  19000.0   38600\n",
       "1907    21400.0  13000.0   42300\n",
       "1908    22000.0   8300.0   44500\n",
       "1909    25400.0   9100.0   42100\n",
       "1910    27100.0   7400.0   46000\n",
       "1911    40300.0   8000.0   46800\n",
       "1912    57000.0  12300.0   43800\n",
       "1913    76600.0  19500.0   40900\n",
       "1914    52300.0  45700.0   39400\n",
       "1915    19500.0  51100.0   39000\n",
       "1916    11200.0  29700.0   36700\n",
       "1917     7600.0  15800.0   41800\n",
       "1918    14600.0   9700.0   43300\n",
       "1919    16200.0  10100.0   41300\n",
       "1920    24700.0   8600.0   47300"
      ]
     },
     "execution_count": 63,
     "metadata": {},
     "output_type": "execute_result"
    }
   ],
   "source": [
    "data_pd = pd.read_csv('http://scipy-lectures.org/_downloads/populations.txt',  '\\t', index_col= '# year'  )\n",
    "data_pd\n",
    "\n",
    "# that worked!"
   ]
  },
  {
   "cell_type": "code",
   "execution_count": 69,
   "metadata": {},
   "outputs": [
    {
     "data": {
      "text/plain": [
       "<matplotlib.axes._subplots.AxesSubplot at 0x21e77877358>"
      ]
     },
     "execution_count": 69,
     "metadata": {},
     "output_type": "execute_result"
    },
    {
     "data": {
      "image/png": "[encoded data removed]",
      "text/plain": [
       "<Figure size 432x288 with 1 Axes>"
      ]
     },
     "metadata": {
      "needs_background": "light"
     },
     "output_type": "display_data"
    }
   ],
   "source": [
    "data_pd.plot(color=['red', 'black', 'green'])\n",
    "\n",
    "# wow, so easy...\n"
   ]
  },
  {
   "cell_type": "markdown",
   "metadata": {},
   "source": [
    "Lots of examples in the docs:\n",
    "https://pandas.pydata.org/pandas-docs/stable/user_guide/visualization.html\n"
   ]
  },
  {
   "cell_type": "markdown",
   "metadata": {},
   "source": [
    "### In your last exercise, you will upload some data of your choosing and make a scientific plot using what you learned today"
   ]
  },
  {
   "cell_type": "markdown",
   "metadata": {},
   "source": [
    "# Exercises 4.1"
   ]
  },
  {
   "cell_type": "markdown",
   "metadata": {},
   "source": [
    "**E.1** Complete Ch 2 of intermediate python on datacamp. Make sure you submit your completed **score**, not just the percent completed."
   ]
  },
  {
   "cell_type": "markdown",
   "metadata": {},
   "source": [
    "**E.2** What is a dictionary and why is it useful?"
   ]
  },
  {
   "cell_type": "markdown",
   "metadata": {},
   "source": [
    "It is a sequence of values that are indexed by unique keys. This allows retrieval of the values by entering a key instead of the index value as you would in a list."
   ]
  },
  {
   "cell_type": "markdown",
   "metadata": {},
   "source": [
    "**E.3** How do you define a dictionary and access its elements? Explain. Now Define a dictionary that has names of people in your family or friend group, including yourself, with their age, hairstyle, and pet type. (Use 'none' if they don't have a pet)"
   ]
  },
  {
   "cell_type": "code",
   "execution_count": 16,
   "metadata": {},
   "outputs": [
    {
     "data": {
      "text/plain": [
       "{'Adam': {'age': 32, 'hair': 'short', 'pet': 'dog'},\n",
       " 'AJ': {'age': 25, 'hair': 'short', 'pet': 'fish'},\n",
       " 'Ariana': {'age': 29, 'hair': 'long', 'pet': 'dog'}}"
      ]
     },
     "execution_count": 16,
     "metadata": {},
     "output_type": "execute_result"
    }
   ],
   "source": [
    "#It is defined by enclosing the dictionary in '{}' and linking unique keys to values using ':'. Elements can be accessed using dictionary name with key in '[]' next to it.\n",
    "e3 ={'Adam':{'age':32,'hair':'short','pet':'dog'},'AJ':{'age':25,'hair':'short','pet':'fish'},'Ariana':{'age':29,'hair':'long','pet':'dog'}}\n",
    "e3"
   ]
  },
  {
   "cell_type": "markdown",
   "metadata": {},
   "source": [
    "**E.4** What is a dictionary \"key\" in python? Can key names be changed once they are created? Demonstrate. Say you spelled your family member's name wrong, how can you correct it? What about their pet type?"
   ]
  },
  {
   "cell_type": "code",
   "execution_count": 17,
   "metadata": {},
   "outputs": [
    {
     "name": "stdout",
     "output_type": "stream",
     "text": [
      "{'AJ': {'age': 25, 'hair': 'short', 'pet': 'fish'}, 'Ariana': {'age': 29, 'hair': 'long', 'pet': 'dog'}, 'adam': {'age': 32, 'hair': 'short', 'pet': 'dog'}}\n"
     ]
    }
   ],
   "source": [
    "#The key functions similar to an index for accessing values, it cannot be changed but it can be replaced. Values can be edited. \n",
    "e3['adam']=e3['Adam']\n",
    "del(e3['Adam'])\n",
    "print(e3)"
   ]
  },
  {
   "cell_type": "code",
   "execution_count": 18,
   "metadata": {},
   "outputs": [
    {
     "data": {
      "text/plain": [
       "{'AJ': {'age': 25, 'hair': 'short', 'pet': 'none'},\n",
       " 'Ariana': {'age': 29, 'hair': 'long', 'pet': 'dog'},\n",
       " 'adam': {'age': 32, 'hair': 'short', 'pet': 'dog'}}"
      ]
     },
     "execution_count": 18,
     "metadata": {},
     "output_type": "execute_result"
    }
   ],
   "source": [
    "e3['AJ']['pet'] = 'none'\n",
    "e3"
   ]
  },
  {
   "cell_type": "markdown",
   "metadata": {},
   "source": [
    "**E.5** Add an entry to your dictionary above and delete another entry"
   ]
  },
  {
   "cell_type": "code",
   "execution_count": 19,
   "metadata": {},
   "outputs": [
    {
     "data": {
      "text/plain": [
       "{'AJ': {'age': 25, 'hair': 'short', 'pet': 'none'},\n",
       " 'Ariana': {'age': 29, 'hair': 'long', 'pet': 'dog'},\n",
       " 'adam': {'age': 32, 'hair': 'short', 'pet': 'dog'},\n",
       " 'Amir': {'age': 55, 'hair': 'short', 'pet': 'none'}}"
      ]
     },
     "execution_count": 19,
     "metadata": {},
     "output_type": "execute_result"
    }
   ],
   "source": [
    "e3['Amir'] ={'age': 55, 'hair':'short', 'pet':'none'}\n",
    "e3"
   ]
  },
  {
   "cell_type": "code",
   "execution_count": 20,
   "metadata": {},
   "outputs": [],
   "source": [
    "del(e3['AJ'])"
   ]
  },
  {
   "cell_type": "code",
   "execution_count": 21,
   "metadata": {},
   "outputs": [
    {
     "data": {
      "text/plain": [
       "{'Ariana': {'age': 29, 'hair': 'long', 'pet': 'dog'},\n",
       " 'adam': {'age': 32, 'hair': 'short', 'pet': 'dog'},\n",
       " 'Amir': {'age': 55, 'hair': 'short', 'pet': 'none'}}"
      ]
     },
     "execution_count": 21,
     "metadata": {},
     "output_type": "execute_result"
    }
   ],
   "source": [
    "e3"
   ]
  },
  {
   "cell_type": "markdown",
   "metadata": {},
   "source": [
    "**E.6** Create a sub-dictionary containing the information above your your lab parner. Add this to your main dictionairy from E.3 and print out the result"
   ]
  },
  {
   "cell_type": "code",
   "execution_count": 38,
   "metadata": {},
   "outputs": [],
   "source": [
    "lab_partner={'age':'22','hair':'short','pet':'none'}"
   ]
  },
  {
   "cell_type": "code",
   "execution_count": 39,
   "metadata": {},
   "outputs": [
    {
     "data": {
      "text/plain": [
       "{'Ariana': {'age': 29, 'hair': 'long', 'pet': 'dog'},\n",
       " 'adam': {'age': 32, 'hair': 'short', 'pet': 'dog'},\n",
       " 'Amir': {'age': 55, 'hair': 'short', 'pet': 'none'},\n",
       " 'Dwight': {'age': '22', 'hair': 'short', 'pet': 'none'}}"
      ]
     },
     "execution_count": 39,
     "metadata": {},
     "output_type": "execute_result"
    }
   ],
   "source": [
    "e3['Dwight']=lab_partner\n",
    "e3"
   ]
  },
  {
   "cell_type": "markdown",
   "metadata": {},
   "source": [
    "**E.7** What is the common import statement for pandas?"
   ]
  },
  {
   "cell_type": "code",
   "execution_count": null,
   "metadata": {},
   "outputs": [],
   "source": [
    "pd.read_csv()"
   ]
  },
  {
   "cell_type": "markdown",
   "metadata": {},
   "source": [
    "**E.8** For what kinds of data are pandas dataframes more useful than numpy arrays?"
   ]
  },
  {
   "cell_type": "markdown",
   "metadata": {},
   "source": [
    "When there are multiple types of data in the dataframe"
   ]
  },
  {
   "cell_type": "markdown",
   "metadata": {},
   "source": [
    "**E.9** Convert your dictionary to a pandas dataframe"
   ]
  },
  {
   "cell_type": "code",
   "execution_count": 40,
   "metadata": {},
   "outputs": [],
   "source": [
    "e9=pd.DataFrame(e3)"
   ]
  },
  {
   "cell_type": "markdown",
   "metadata": {},
   "source": [
    "**E.10** Save your dictionary as a csv file open this in Excel. **Submit a screenshot of your excel spreadsheet**"
   ]
  },
  {
   "cell_type": "code",
   "execution_count": 42,
   "metadata": {},
   "outputs": [],
   "source": [
    "e9.to_csv('test01.csv')"
   ]
  },
  {
   "cell_type": "markdown",
   "metadata": {},
   "source": [
    "**E.11** In Excel, add another person to your dictionary data. Save this and import the updated csv file as a pandas dataframe. Print the result."
   ]
  },
  {
   "cell_type": "code",
   "execution_count": 45,
   "metadata": {},
   "outputs": [],
   "source": [
    "e11=pd.read_csv('test01.csv',index_col=0)"
   ]
  },
  {
   "cell_type": "code",
   "execution_count": 62,
   "metadata": {},
   "outputs": [
    {
     "data": {
      "text/html": [
       "<div>\n",
       "<style scoped>\n",
       "    .dataframe tbody tr th:only-of-type {\n",
       "        vertical-align: middle;\n",
       "    }\n",
       "\n",
       "    .dataframe tbody tr th {\n",
       "        vertical-align: top;\n",
       "    }\n",
       "\n",
       "    .dataframe thead th {\n",
       "        text-align: right;\n",
       "    }\n",
       "</style>\n",
       "<table border=\"1\" class=\"dataframe\">\n",
       "  <thead>\n",
       "    <tr style=\"text-align: right;\">\n",
       "      <th></th>\n",
       "      <th>Ariana</th>\n",
       "      <th>adam</th>\n",
       "      <th>Amir</th>\n",
       "      <th>Dwight</th>\n",
       "      <th>Kathy</th>\n",
       "    </tr>\n",
       "  </thead>\n",
       "  <tbody>\n",
       "    <tr>\n",
       "      <th>age</th>\n",
       "      <td>29</td>\n",
       "      <td>32</td>\n",
       "      <td>55</td>\n",
       "      <td>22</td>\n",
       "      <td>56</td>\n",
       "    </tr>\n",
       "    <tr>\n",
       "      <th>hair</th>\n",
       "      <td>long</td>\n",
       "      <td>short</td>\n",
       "      <td>short</td>\n",
       "      <td>short</td>\n",
       "      <td>medium</td>\n",
       "    </tr>\n",
       "    <tr>\n",
       "      <th>pet</th>\n",
       "      <td>dog</td>\n",
       "      <td>dog</td>\n",
       "      <td>none</td>\n",
       "      <td>none</td>\n",
       "      <td>dog</td>\n",
       "    </tr>\n",
       "  </tbody>\n",
       "</table>\n",
       "</div>"
      ],
      "text/plain": [
       "     Ariana   adam   Amir Dwight   Kathy\n",
       "age      29     32     55     22      56\n",
       "hair   long  short  short  short  medium\n",
       "pet     dog    dog   none   none     dog"
      ]
     },
     "execution_count": 62,
     "metadata": {},
     "output_type": "execute_result"
    }
   ],
   "source": [
    "e11"
   ]
  },
  {
   "cell_type": "markdown",
   "metadata": {},
   "source": [
    "**E.12** What does the index_col option do when you load in data to a pandas dataframe? Check out the documentation for loading a file into a dataframe. Find another option and explain when it would be useful."
   ]
  },
  {
   "cell_type": "markdown",
   "metadata": {},
   "source": [
    "It labels the index column for the dataframe."
   ]
  },
  {
   "cell_type": "code",
   "execution_count": null,
   "metadata": {},
   "outputs": [],
   "source": [
    "pd.read_fwf() #useful for loading fixed-width formatted line files "
   ]
  },
  {
   "cell_type": "markdown",
   "metadata": {},
   "source": [
    "**E.13** What is the difference between the loc and iloc methods? Explain"
   ]
  },
  {
   "cell_type": "markdown",
   "metadata": {},
   "source": [
    "loc uses labels and iloc uses index numbers"
   ]
  },
  {
   "cell_type": "markdown",
   "metadata": {},
   "source": [
    "**E.14** Now demonstrate. Print out both the hairstyle and pet type of your lab partner together (in the same line of code), first using the loc method and then with the iloc method."
   ]
  },
  {
   "cell_type": "code",
   "execution_count": 68,
   "metadata": {},
   "outputs": [
    {
     "data": {
      "text/plain": [
       "hair    short\n",
       "pet      none\n",
       "Name: Dwight, dtype: object"
      ]
     },
     "execution_count": 68,
     "metadata": {},
     "output_type": "execute_result"
    }
   ],
   "source": [
    "e11.loc[['hair','pet'],'Dwight']\n"
   ]
  },
  {
   "cell_type": "code",
   "execution_count": 69,
   "metadata": {},
   "outputs": [
    {
     "data": {
      "text/plain": [
       "hair    short\n",
       "pet      none\n",
       "Name: Dwight, dtype: object"
      ]
     },
     "execution_count": 69,
     "metadata": {},
     "output_type": "execute_result"
    }
   ],
   "source": [
    "e11.iloc[[1,2],3]"
   ]
  },
  {
   "cell_type": "markdown",
   "metadata": {},
   "source": [
    "**E.15** Define a subdataframe that has only you and your lab partner, and only your ages and hairstyles. Print this out"
   ]
  },
  {
   "cell_type": "code",
   "execution_count": 74,
   "metadata": {},
   "outputs": [
    {
     "data": {
      "text/html": [
       "<div>\n",
       "<style scoped>\n",
       "    .dataframe tbody tr th:only-of-type {\n",
       "        vertical-align: middle;\n",
       "    }\n",
       "\n",
       "    .dataframe tbody tr th {\n",
       "        vertical-align: top;\n",
       "    }\n",
       "\n",
       "    .dataframe thead th {\n",
       "        text-align: right;\n",
       "    }\n",
       "</style>\n",
       "<table border=\"1\" class=\"dataframe\">\n",
       "  <thead>\n",
       "    <tr style=\"text-align: right;\">\n",
       "      <th></th>\n",
       "      <th>adam</th>\n",
       "      <th>Dwight</th>\n",
       "    </tr>\n",
       "  </thead>\n",
       "  <tbody>\n",
       "    <tr>\n",
       "      <th>age</th>\n",
       "      <td>32</td>\n",
       "      <td>22</td>\n",
       "    </tr>\n",
       "    <tr>\n",
       "      <th>hair</th>\n",
       "      <td>short</td>\n",
       "      <td>short</td>\n",
       "    </tr>\n",
       "  </tbody>\n",
       "</table>\n",
       "</div>"
      ],
      "text/plain": [
       "       adam Dwight\n",
       "age      32     22\n",
       "hair  short  short"
      ]
     },
     "execution_count": 74,
     "metadata": {},
     "output_type": "execute_result"
    }
   ],
   "source": [
    "e15= e11.loc[['age','hair'],['adam','Dwight']]\n",
    "e15"
   ]
  },
  {
   "cell_type": "markdown",
   "metadata": {},
   "source": [
    "**E.16** What does the : symbol mean in indexing? Explain and give an example"
   ]
  },
  {
   "cell_type": "markdown",
   "metadata": {},
   "source": [
    "It indicates that everything in the column is selected if there is no values on either side. If there are values they indicates the range of the index."
   ]
  },
  {
   "cell_type": "code",
   "execution_count": 75,
   "metadata": {},
   "outputs": [
    {
     "data": {
      "text/plain": [
       "age       29\n",
       "hair    long\n",
       "pet      dog\n",
       "Name: Ariana, dtype: object"
      ]
     },
     "execution_count": 75,
     "metadata": {},
     "output_type": "execute_result"
    }
   ],
   "source": [
    "e11.loc[:,'Ariana'] #there is only the : symbol so the whole column is printed "
   ]
  },
  {
   "cell_type": "code",
   "execution_count": 83,
   "metadata": {},
   "outputs": [
    {
     "data": {
      "text/plain": [
       "hair    long\n",
       "pet      dog\n",
       "Name: Ariana, dtype: object"
      ]
     },
     "execution_count": 83,
     "metadata": {},
     "output_type": "execute_result"
    }
   ],
   "source": [
    "e11.loc['hair':,'Ariana'] #'hair' on the left with nothing on the right of the :, indicates that everything after 'hair' is selected"
   ]
  },
  {
   "cell_type": "markdown",
   "metadata": {},
   "source": [
    "**E.17** Now define a subdataframe that has all the people in your dictionary's pet type. Print this out"
   ]
  },
  {
   "cell_type": "code",
   "execution_count": 85,
   "metadata": {},
   "outputs": [
    {
     "data": {
      "text/plain": [
       "Ariana     dog\n",
       "adam       dog\n",
       "Amir      none\n",
       "Dwight    none\n",
       "Kathy      dog\n",
       "Name: pet, dtype: object"
      ]
     },
     "execution_count": 85,
     "metadata": {},
     "output_type": "execute_result"
    }
   ],
   "source": [
    "e11.loc['pet',:]"
   ]
  },
  {
   "cell_type": "markdown",
   "metadata": {},
   "source": [
    "**E.18** Upload the population data used in the lecture and plot just the carrots data using pandas. Label your plot appropriately"
   ]
  },
  {
   "cell_type": "code",
   "execution_count": 92,
   "metadata": {},
   "outputs": [],
   "source": [
    "e18=pd.read_csv('populations.txt', '\\t', index_col=0)"
   ]
  },
  {
   "cell_type": "code",
   "execution_count": 100,
   "metadata": {},
   "outputs": [],
   "source": [
    "carrots=e18.loc[:,'carrot']"
   ]
  },
  {
   "cell_type": "code",
   "execution_count": 104,
   "metadata": {},
   "outputs": [
    {
     "data": {
      "text/plain": [
       "Text(0.5, 1.0, 'Carrot Population Over Time')"
      ]
     },
     "execution_count": 104,
     "metadata": {},
     "output_type": "execute_result"
    },
    {
     "data": {
      "image/png": "[encoded data removed]",
      "text/plain": [
       "<Figure size 432x288 with 1 Axes>"
      ]
     },
     "metadata": {
      "needs_background": "light"
     },
     "output_type": "display_data"
    }
   ],
   "source": [
    "carrots.plot()\n",
    "plt.xlabel('Year')\n",
    "plt.ylabel('Population')\n",
    "plt.legend()\n",
    "plt.title('Carrot Population Over Time')"
   ]
  },
  {
   "cell_type": "markdown",
   "metadata": {},
   "source": [
    "## **E.19** My First Scientific Python Plot\n",
    "### You will present this in class on Monday during the warmup period\n",
    "\n",
    "Find a csv file with some scientific data, ideally some data you collected, or someone in your lab collected, or a friend of yours collected. It has to be some real data \n",
    "\n",
    "**E.19.1** Upload your data into pandas. Make sure the dataframe is loaded correctly (look at the data).\n",
    "\n",
    "**E.19.2** Make a table of a subset of the data. (Hint: use my_dataframe[subset_here].table() method)\n",
    "Write a table caption that explains what your table is.\n",
    "\n",
    "**E.19.3** Make a plot of some relevant subset of the data (or all of it, if appropriate), label your axes and write a figure caption\n",
    "\n",
    "**E.19.4** Do some analysis on your data, like finding the maximum, some basic statistics, etc.. Write some text explaining your methods and your results.\n"
   ]
  },
  {
   "cell_type": "code",
   "execution_count": 227,
   "metadata": {},
   "outputs": [],
   "source": [
    "e19=pd.read_csv('2019 ENP Scavenging Data.csv', index_col=0)"
   ]
  },
  {
   "cell_type": "code",
   "execution_count": 307,
   "metadata": {},
   "outputs": [
    {
     "data": {
      "text/html": [
       "<style  type=\"text/css\" >\n",
       "#T_5ca1b5c2_664d_11eb_9093_5cea1d8c16a6row0_col0,#T_5ca1b5c2_664d_11eb_9093_5cea1d8c16a6row0_col1,#T_5ca1b5c2_664d_11eb_9093_5cea1d8c16a6row0_col3,#T_5ca1b5c2_664d_11eb_9093_5cea1d8c16a6row1_col0,#T_5ca1b5c2_664d_11eb_9093_5cea1d8c16a6row1_col1,#T_5ca1b5c2_664d_11eb_9093_5cea1d8c16a6row1_col3,#T_5ca1b5c2_664d_11eb_9093_5cea1d8c16a6row2_col0,#T_5ca1b5c2_664d_11eb_9093_5cea1d8c16a6row2_col1,#T_5ca1b5c2_664d_11eb_9093_5cea1d8c16a6row2_col3,#T_5ca1b5c2_664d_11eb_9093_5cea1d8c16a6row3_col0,#T_5ca1b5c2_664d_11eb_9093_5cea1d8c16a6row3_col2,#T_5ca1b5c2_664d_11eb_9093_5cea1d8c16a6row4_col0,#T_5ca1b5c2_664d_11eb_9093_5cea1d8c16a6row4_col1,#T_5ca1b5c2_664d_11eb_9093_5cea1d8c16a6row4_col2,#T_5ca1b5c2_664d_11eb_9093_5cea1d8c16a6row4_col3,#T_5ca1b5c2_664d_11eb_9093_5cea1d8c16a6row5_col0,#T_5ca1b5c2_664d_11eb_9093_5cea1d8c16a6row5_col1,#T_5ca1b5c2_664d_11eb_9093_5cea1d8c16a6row5_col2,#T_5ca1b5c2_664d_11eb_9093_5cea1d8c16a6row6_col0,#T_5ca1b5c2_664d_11eb_9093_5cea1d8c16a6row6_col1,#T_5ca1b5c2_664d_11eb_9093_5cea1d8c16a6row6_col2,#T_5ca1b5c2_664d_11eb_9093_5cea1d8c16a6row6_col3,#T_5ca1b5c2_664d_11eb_9093_5cea1d8c16a6row7_col0,#T_5ca1b5c2_664d_11eb_9093_5cea1d8c16a6row7_col1,#T_5ca1b5c2_664d_11eb_9093_5cea1d8c16a6row7_col2,#T_5ca1b5c2_664d_11eb_9093_5cea1d8c16a6row7_col3,#T_5ca1b5c2_664d_11eb_9093_5cea1d8c16a6row8_col0,#T_5ca1b5c2_664d_11eb_9093_5cea1d8c16a6row8_col1,#T_5ca1b5c2_664d_11eb_9093_5cea1d8c16a6row8_col2,#T_5ca1b5c2_664d_11eb_9093_5cea1d8c16a6row8_col3,#T_5ca1b5c2_664d_11eb_9093_5cea1d8c16a6row9_col0,#T_5ca1b5c2_664d_11eb_9093_5cea1d8c16a6row9_col1,#T_5ca1b5c2_664d_11eb_9093_5cea1d8c16a6row9_col2,#T_5ca1b5c2_664d_11eb_9093_5cea1d8c16a6row9_col3,#T_5ca1b5c2_664d_11eb_9093_5cea1d8c16a6row10_col0,#T_5ca1b5c2_664d_11eb_9093_5cea1d8c16a6row10_col1,#T_5ca1b5c2_664d_11eb_9093_5cea1d8c16a6row10_col2,#T_5ca1b5c2_664d_11eb_9093_5cea1d8c16a6row10_col3,#T_5ca1b5c2_664d_11eb_9093_5cea1d8c16a6row11_col0,#T_5ca1b5c2_664d_11eb_9093_5cea1d8c16a6row11_col1,#T_5ca1b5c2_664d_11eb_9093_5cea1d8c16a6row11_col2,#T_5ca1b5c2_664d_11eb_9093_5cea1d8c16a6row11_col3,#T_5ca1b5c2_664d_11eb_9093_5cea1d8c16a6row12_col0,#T_5ca1b5c2_664d_11eb_9093_5cea1d8c16a6row12_col2,#T_5ca1b5c2_664d_11eb_9093_5cea1d8c16a6row12_col3,#T_5ca1b5c2_664d_11eb_9093_5cea1d8c16a6row13_col0,#T_5ca1b5c2_664d_11eb_9093_5cea1d8c16a6row13_col3,#T_5ca1b5c2_664d_11eb_9093_5cea1d8c16a6row14_col0,#T_5ca1b5c2_664d_11eb_9093_5cea1d8c16a6row14_col2,#T_5ca1b5c2_664d_11eb_9093_5cea1d8c16a6row14_col3,#T_5ca1b5c2_664d_11eb_9093_5cea1d8c16a6row15_col0,#T_5ca1b5c2_664d_11eb_9093_5cea1d8c16a6row15_col2,#T_5ca1b5c2_664d_11eb_9093_5cea1d8c16a6row15_col3,#T_5ca1b5c2_664d_11eb_9093_5cea1d8c16a6row16_col0,#T_5ca1b5c2_664d_11eb_9093_5cea1d8c16a6row16_col2,#T_5ca1b5c2_664d_11eb_9093_5cea1d8c16a6row16_col3,#T_5ca1b5c2_664d_11eb_9093_5cea1d8c16a6row17_col1,#T_5ca1b5c2_664d_11eb_9093_5cea1d8c16a6row17_col2,#T_5ca1b5c2_664d_11eb_9093_5cea1d8c16a6row17_col3,#T_5ca1b5c2_664d_11eb_9093_5cea1d8c16a6row18_col2,#T_5ca1b5c2_664d_11eb_9093_5cea1d8c16a6row18_col3,#T_5ca1b5c2_664d_11eb_9093_5cea1d8c16a6row19_col0,#T_5ca1b5c2_664d_11eb_9093_5cea1d8c16a6row19_col2,#T_5ca1b5c2_664d_11eb_9093_5cea1d8c16a6row19_col3,#T_5ca1b5c2_664d_11eb_9093_5cea1d8c16a6row20_col0,#T_5ca1b5c2_664d_11eb_9093_5cea1d8c16a6row20_col1,#T_5ca1b5c2_664d_11eb_9093_5cea1d8c16a6row20_col2,#T_5ca1b5c2_664d_11eb_9093_5cea1d8c16a6row20_col3,#T_5ca1b5c2_664d_11eb_9093_5cea1d8c16a6row21_col0,#T_5ca1b5c2_664d_11eb_9093_5cea1d8c16a6row21_col1,#T_5ca1b5c2_664d_11eb_9093_5cea1d8c16a6row21_col2,#T_5ca1b5c2_664d_11eb_9093_5cea1d8c16a6row22_col0,#T_5ca1b5c2_664d_11eb_9093_5cea1d8c16a6row22_col2,#T_5ca1b5c2_664d_11eb_9093_5cea1d8c16a6row23_col0,#T_5ca1b5c2_664d_11eb_9093_5cea1d8c16a6row23_col1,#T_5ca1b5c2_664d_11eb_9093_5cea1d8c16a6row23_col2,#T_5ca1b5c2_664d_11eb_9093_5cea1d8c16a6row23_col3,#T_5ca1b5c2_664d_11eb_9093_5cea1d8c16a6row24_col0,#T_5ca1b5c2_664d_11eb_9093_5cea1d8c16a6row24_col1,#T_5ca1b5c2_664d_11eb_9093_5cea1d8c16a6row24_col2,#T_5ca1b5c2_664d_11eb_9093_5cea1d8c16a6row24_col3,#T_5ca1b5c2_664d_11eb_9093_5cea1d8c16a6row25_col0,#T_5ca1b5c2_664d_11eb_9093_5cea1d8c16a6row25_col1,#T_5ca1b5c2_664d_11eb_9093_5cea1d8c16a6row25_col2,#T_5ca1b5c2_664d_11eb_9093_5cea1d8c16a6row25_col3,#T_5ca1b5c2_664d_11eb_9093_5cea1d8c16a6row26_col0,#T_5ca1b5c2_664d_11eb_9093_5cea1d8c16a6row26_col1,#T_5ca1b5c2_664d_11eb_9093_5cea1d8c16a6row26_col2,#T_5ca1b5c2_664d_11eb_9093_5cea1d8c16a6row26_col3,#T_5ca1b5c2_664d_11eb_9093_5cea1d8c16a6row27_col0,#T_5ca1b5c2_664d_11eb_9093_5cea1d8c16a6row27_col1,#T_5ca1b5c2_664d_11eb_9093_5cea1d8c16a6row27_col2,#T_5ca1b5c2_664d_11eb_9093_5cea1d8c16a6row28_col0,#T_5ca1b5c2_664d_11eb_9093_5cea1d8c16a6row28_col1,#T_5ca1b5c2_664d_11eb_9093_5cea1d8c16a6row28_col2,#T_5ca1b5c2_664d_11eb_9093_5cea1d8c16a6row28_col3,#T_5ca1b5c2_664d_11eb_9093_5cea1d8c16a6row29_col0,#T_5ca1b5c2_664d_11eb_9093_5cea1d8c16a6row29_col1,#T_5ca1b5c2_664d_11eb_9093_5cea1d8c16a6row29_col2,#T_5ca1b5c2_664d_11eb_9093_5cea1d8c16a6row30_col0,#T_5ca1b5c2_664d_11eb_9093_5cea1d8c16a6row30_col1,#T_5ca1b5c2_664d_11eb_9093_5cea1d8c16a6row30_col2,#T_5ca1b5c2_664d_11eb_9093_5cea1d8c16a6row31_col1,#T_5ca1b5c2_664d_11eb_9093_5cea1d8c16a6row31_col2,#T_5ca1b5c2_664d_11eb_9093_5cea1d8c16a6row32_col0,#T_5ca1b5c2_664d_11eb_9093_5cea1d8c16a6row32_col1,#T_5ca1b5c2_664d_11eb_9093_5cea1d8c16a6row32_col2,#T_5ca1b5c2_664d_11eb_9093_5cea1d8c16a6row32_col3,#T_5ca1b5c2_664d_11eb_9093_5cea1d8c16a6row33_col0,#T_5ca1b5c2_664d_11eb_9093_5cea1d8c16a6row33_col1,#T_5ca1b5c2_664d_11eb_9093_5cea1d8c16a6row33_col2,#T_5ca1b5c2_664d_11eb_9093_5cea1d8c16a6row33_col3,#T_5ca1b5c2_664d_11eb_9093_5cea1d8c16a6row34_col0,#T_5ca1b5c2_664d_11eb_9093_5cea1d8c16a6row34_col1,#T_5ca1b5c2_664d_11eb_9093_5cea1d8c16a6row34_col2,#T_5ca1b5c2_664d_11eb_9093_5cea1d8c16a6row34_col3,#T_5ca1b5c2_664d_11eb_9093_5cea1d8c16a6row35_col0,#T_5ca1b5c2_664d_11eb_9093_5cea1d8c16a6row35_col2,#T_5ca1b5c2_664d_11eb_9093_5cea1d8c16a6row35_col3,#T_5ca1b5c2_664d_11eb_9093_5cea1d8c16a6row36_col2,#T_5ca1b5c2_664d_11eb_9093_5cea1d8c16a6row36_col3,#T_5ca1b5c2_664d_11eb_9093_5cea1d8c16a6row37_col0,#T_5ca1b5c2_664d_11eb_9093_5cea1d8c16a6row37_col2,#T_5ca1b5c2_664d_11eb_9093_5cea1d8c16a6row37_col3,#T_5ca1b5c2_664d_11eb_9093_5cea1d8c16a6row38_col0,#T_5ca1b5c2_664d_11eb_9093_5cea1d8c16a6row38_col1,#T_5ca1b5c2_664d_11eb_9093_5cea1d8c16a6row38_col2,#T_5ca1b5c2_664d_11eb_9093_5cea1d8c16a6row38_col3,#T_5ca1b5c2_664d_11eb_9093_5cea1d8c16a6row39_col0,#T_5ca1b5c2_664d_11eb_9093_5cea1d8c16a6row39_col1,#T_5ca1b5c2_664d_11eb_9093_5cea1d8c16a6row39_col2,#T_5ca1b5c2_664d_11eb_9093_5cea1d8c16a6row39_col3,#T_5ca1b5c2_664d_11eb_9093_5cea1d8c16a6row40_col0,#T_5ca1b5c2_664d_11eb_9093_5cea1d8c16a6row40_col1,#T_5ca1b5c2_664d_11eb_9093_5cea1d8c16a6row40_col2,#T_5ca1b5c2_664d_11eb_9093_5cea1d8c16a6row40_col3,#T_5ca1b5c2_664d_11eb_9093_5cea1d8c16a6row41_col0,#T_5ca1b5c2_664d_11eb_9093_5cea1d8c16a6row41_col1,#T_5ca1b5c2_664d_11eb_9093_5cea1d8c16a6row41_col2,#T_5ca1b5c2_664d_11eb_9093_5cea1d8c16a6row41_col3{\n",
       "            background-color:  #000000;\n",
       "            color:  #f1f1f1;\n",
       "        }#T_5ca1b5c2_664d_11eb_9093_5cea1d8c16a6row0_col2,#T_5ca1b5c2_664d_11eb_9093_5cea1d8c16a6row5_col3,#T_5ca1b5c2_664d_11eb_9093_5cea1d8c16a6row13_col1,#T_5ca1b5c2_664d_11eb_9093_5cea1d8c16a6row17_col0,#T_5ca1b5c2_664d_11eb_9093_5cea1d8c16a6row18_col1{\n",
       "            background-color:  #fde725;\n",
       "            color:  #000000;\n",
       "        }#T_5ca1b5c2_664d_11eb_9093_5cea1d8c16a6row1_col2{\n",
       "            background-color:  #287c8e;\n",
       "            color:  #000000;\n",
       "        }#T_5ca1b5c2_664d_11eb_9093_5cea1d8c16a6row2_col2{\n",
       "            background-color:  #20a486;\n",
       "            color:  #000000;\n",
       "        }#T_5ca1b5c2_664d_11eb_9093_5cea1d8c16a6row3_col1{\n",
       "            background-color:  #9bd93c;\n",
       "            color:  #000000;\n",
       "        }#T_5ca1b5c2_664d_11eb_9093_5cea1d8c16a6row3_col3{\n",
       "            background-color:  #424186;\n",
       "            color:  #f1f1f1;\n",
       "        }#T_5ca1b5c2_664d_11eb_9093_5cea1d8c16a6row12_col1,#T_5ca1b5c2_664d_11eb_9093_5cea1d8c16a6row14_col1{\n",
       "            background-color:  #355f8d;\n",
       "            color:  #f1f1f1;\n",
       "        }#T_5ca1b5c2_664d_11eb_9093_5cea1d8c16a6row13_col2,#T_5ca1b5c2_664d_11eb_9093_5cea1d8c16a6row22_col3,#T_5ca1b5c2_664d_11eb_9093_5cea1d8c16a6row31_col0,#T_5ca1b5c2_664d_11eb_9093_5cea1d8c16a6row37_col1{\n",
       "            background-color:  #440154;\n",
       "            color:  #f1f1f1;\n",
       "        }#T_5ca1b5c2_664d_11eb_9093_5cea1d8c16a6row15_col1,#T_5ca1b5c2_664d_11eb_9093_5cea1d8c16a6row36_col1{\n",
       "            background-color:  #2a788e;\n",
       "            color:  #000000;\n",
       "        }#T_5ca1b5c2_664d_11eb_9093_5cea1d8c16a6row16_col1{\n",
       "            background-color:  #21918c;\n",
       "            color:  #000000;\n",
       "        }#T_5ca1b5c2_664d_11eb_9093_5cea1d8c16a6row18_col0{\n",
       "            background-color:  #424086;\n",
       "            color:  #f1f1f1;\n",
       "        }#T_5ca1b5c2_664d_11eb_9093_5cea1d8c16a6row19_col1,#T_5ca1b5c2_664d_11eb_9093_5cea1d8c16a6row22_col1{\n",
       "            background-color:  #471365;\n",
       "            color:  #f1f1f1;\n",
       "        }#T_5ca1b5c2_664d_11eb_9093_5cea1d8c16a6row21_col3{\n",
       "            background-color:  #3e4a89;\n",
       "            color:  #f1f1f1;\n",
       "        }#T_5ca1b5c2_664d_11eb_9093_5cea1d8c16a6row27_col3{\n",
       "            background-color:  #450457;\n",
       "            color:  #f1f1f1;\n",
       "        }#T_5ca1b5c2_664d_11eb_9093_5cea1d8c16a6row29_col3{\n",
       "            background-color:  #5ac864;\n",
       "            color:  #000000;\n",
       "        }#T_5ca1b5c2_664d_11eb_9093_5cea1d8c16a6row30_col3{\n",
       "            background-color:  #25838e;\n",
       "            color:  #000000;\n",
       "        }#T_5ca1b5c2_664d_11eb_9093_5cea1d8c16a6row31_col3{\n",
       "            background-color:  #3c508b;\n",
       "            color:  #f1f1f1;\n",
       "        }#T_5ca1b5c2_664d_11eb_9093_5cea1d8c16a6row35_col1{\n",
       "            background-color:  #3b528b;\n",
       "            color:  #f1f1f1;\n",
       "        }#T_5ca1b5c2_664d_11eb_9093_5cea1d8c16a6row36_col0{\n",
       "            background-color:  #472d7b;\n",
       "            color:  #f1f1f1;\n",
       "        }</style><table id=\"T_5ca1b5c2_664d_11eb_9093_5cea1d8c16a6\" ><thead>    <tr>        <th class=\"blank level0\" ></th>        <th class=\"col_heading level0 col0\" >Alligator</th>        <th class=\"col_heading level0 col1\" >Raccoon</th>        <th class=\"col_heading level0 col2\" >Cottonmouth</th>        <th class=\"col_heading level0 col3\" >Cotton Rat</th>    </tr></thead><tbody>\n",
       "                <tr>\n",
       "                        <th id=\"T_5ca1b5c2_664d_11eb_9093_5cea1d8c16a6level0_row0\" class=\"row_heading level0 row0\" >05CG</th>\n",
       "                        <td id=\"T_5ca1b5c2_664d_11eb_9093_5cea1d8c16a6row0_col0\" class=\"data row0 col0\" >nan</td>\n",
       "                        <td id=\"T_5ca1b5c2_664d_11eb_9093_5cea1d8c16a6row0_col1\" class=\"data row0 col1\" >nan</td>\n",
       "                        <td id=\"T_5ca1b5c2_664d_11eb_9093_5cea1d8c16a6row0_col2\" class=\"data row0 col2\" >14.000000</td>\n",
       "                        <td id=\"T_5ca1b5c2_664d_11eb_9093_5cea1d8c16a6row0_col3\" class=\"data row0 col3\" >nan</td>\n",
       "            </tr>\n",
       "            <tr>\n",
       "                        <th id=\"T_5ca1b5c2_664d_11eb_9093_5cea1d8c16a6level0_row1\" class=\"row_heading level0 row1\" >05CH</th>\n",
       "                        <td id=\"T_5ca1b5c2_664d_11eb_9093_5cea1d8c16a6row1_col0\" class=\"data row1 col0\" >nan</td>\n",
       "                        <td id=\"T_5ca1b5c2_664d_11eb_9093_5cea1d8c16a6row1_col1\" class=\"data row1 col1\" >nan</td>\n",
       "                        <td id=\"T_5ca1b5c2_664d_11eb_9093_5cea1d8c16a6row1_col2\" class=\"data row1 col2\" >7.000000</td>\n",
       "                        <td id=\"T_5ca1b5c2_664d_11eb_9093_5cea1d8c16a6row1_col3\" class=\"data row1 col3\" >nan</td>\n",
       "            </tr>\n",
       "            <tr>\n",
       "                        <th id=\"T_5ca1b5c2_664d_11eb_9093_5cea1d8c16a6level0_row2\" class=\"row_heading level0 row2\" >05CI</th>\n",
       "                        <td id=\"T_5ca1b5c2_664d_11eb_9093_5cea1d8c16a6row2_col0\" class=\"data row2 col0\" >nan</td>\n",
       "                        <td id=\"T_5ca1b5c2_664d_11eb_9093_5cea1d8c16a6row2_col1\" class=\"data row2 col1\" >nan</td>\n",
       "                        <td id=\"T_5ca1b5c2_664d_11eb_9093_5cea1d8c16a6row2_col2\" class=\"data row2 col2\" >9.000000</td>\n",
       "                        <td id=\"T_5ca1b5c2_664d_11eb_9093_5cea1d8c16a6row2_col3\" class=\"data row2 col3\" >nan</td>\n",
       "            </tr>\n",
       "            <tr>\n",
       "                        <th id=\"T_5ca1b5c2_664d_11eb_9093_5cea1d8c16a6level0_row3\" class=\"row_heading level0 row3\" >106CG</th>\n",
       "                        <td id=\"T_5ca1b5c2_664d_11eb_9093_5cea1d8c16a6row3_col0\" class=\"data row3 col0\" >nan</td>\n",
       "                        <td id=\"T_5ca1b5c2_664d_11eb_9093_5cea1d8c16a6row3_col1\" class=\"data row3 col1\" >18.000000</td>\n",
       "                        <td id=\"T_5ca1b5c2_664d_11eb_9093_5cea1d8c16a6row3_col2\" class=\"data row3 col2\" >nan</td>\n",
       "                        <td id=\"T_5ca1b5c2_664d_11eb_9093_5cea1d8c16a6row3_col3\" class=\"data row3 col3\" >21.000000</td>\n",
       "            </tr>\n",
       "            <tr>\n",
       "                        <th id=\"T_5ca1b5c2_664d_11eb_9093_5cea1d8c16a6level0_row4\" class=\"row_heading level0 row4\" >106CH</th>\n",
       "                        <td id=\"T_5ca1b5c2_664d_11eb_9093_5cea1d8c16a6row4_col0\" class=\"data row4 col0\" >nan</td>\n",
       "                        <td id=\"T_5ca1b5c2_664d_11eb_9093_5cea1d8c16a6row4_col1\" class=\"data row4 col1\" >nan</td>\n",
       "                        <td id=\"T_5ca1b5c2_664d_11eb_9093_5cea1d8c16a6row4_col2\" class=\"data row4 col2\" >nan</td>\n",
       "                        <td id=\"T_5ca1b5c2_664d_11eb_9093_5cea1d8c16a6row4_col3\" class=\"data row4 col3\" >nan</td>\n",
       "            </tr>\n",
       "            <tr>\n",
       "                        <th id=\"T_5ca1b5c2_664d_11eb_9093_5cea1d8c16a6level0_row5\" class=\"row_heading level0 row5\" >106CI</th>\n",
       "                        <td id=\"T_5ca1b5c2_664d_11eb_9093_5cea1d8c16a6row5_col0\" class=\"data row5 col0\" >nan</td>\n",
       "                        <td id=\"T_5ca1b5c2_664d_11eb_9093_5cea1d8c16a6row5_col1\" class=\"data row5 col1\" >nan</td>\n",
       "                        <td id=\"T_5ca1b5c2_664d_11eb_9093_5cea1d8c16a6row5_col2\" class=\"data row5 col2\" >nan</td>\n",
       "                        <td id=\"T_5ca1b5c2_664d_11eb_9093_5cea1d8c16a6row5_col3\" class=\"data row5 col3\" >100.000000</td>\n",
       "            </tr>\n",
       "            <tr>\n",
       "                        <th id=\"T_5ca1b5c2_664d_11eb_9093_5cea1d8c16a6level0_row6\" class=\"row_heading level0 row6\" >112CA</th>\n",
       "                        <td id=\"T_5ca1b5c2_664d_11eb_9093_5cea1d8c16a6row6_col0\" class=\"data row6 col0\" >nan</td>\n",
       "                        <td id=\"T_5ca1b5c2_664d_11eb_9093_5cea1d8c16a6row6_col1\" class=\"data row6 col1\" >nan</td>\n",
       "                        <td id=\"T_5ca1b5c2_664d_11eb_9093_5cea1d8c16a6row6_col2\" class=\"data row6 col2\" >nan</td>\n",
       "                        <td id=\"T_5ca1b5c2_664d_11eb_9093_5cea1d8c16a6row6_col3\" class=\"data row6 col3\" >nan</td>\n",
       "            </tr>\n",
       "            <tr>\n",
       "                        <th id=\"T_5ca1b5c2_664d_11eb_9093_5cea1d8c16a6level0_row7\" class=\"row_heading level0 row7\" >112CD</th>\n",
       "                        <td id=\"T_5ca1b5c2_664d_11eb_9093_5cea1d8c16a6row7_col0\" class=\"data row7 col0\" >nan</td>\n",
       "                        <td id=\"T_5ca1b5c2_664d_11eb_9093_5cea1d8c16a6row7_col1\" class=\"data row7 col1\" >nan</td>\n",
       "                        <td id=\"T_5ca1b5c2_664d_11eb_9093_5cea1d8c16a6row7_col2\" class=\"data row7 col2\" >nan</td>\n",
       "                        <td id=\"T_5ca1b5c2_664d_11eb_9093_5cea1d8c16a6row7_col3\" class=\"data row7 col3\" >nan</td>\n",
       "            </tr>\n",
       "            <tr>\n",
       "                        <th id=\"T_5ca1b5c2_664d_11eb_9093_5cea1d8c16a6level0_row8\" class=\"row_heading level0 row8\" >112CE</th>\n",
       "                        <td id=\"T_5ca1b5c2_664d_11eb_9093_5cea1d8c16a6row8_col0\" class=\"data row8 col0\" >nan</td>\n",
       "                        <td id=\"T_5ca1b5c2_664d_11eb_9093_5cea1d8c16a6row8_col1\" class=\"data row8 col1\" >nan</td>\n",
       "                        <td id=\"T_5ca1b5c2_664d_11eb_9093_5cea1d8c16a6row8_col2\" class=\"data row8 col2\" >nan</td>\n",
       "                        <td id=\"T_5ca1b5c2_664d_11eb_9093_5cea1d8c16a6row8_col3\" class=\"data row8 col3\" >nan</td>\n",
       "            </tr>\n",
       "            <tr>\n",
       "                        <th id=\"T_5ca1b5c2_664d_11eb_9093_5cea1d8c16a6level0_row9\" class=\"row_heading level0 row9\" >113CA</th>\n",
       "                        <td id=\"T_5ca1b5c2_664d_11eb_9093_5cea1d8c16a6row9_col0\" class=\"data row9 col0\" >nan</td>\n",
       "                        <td id=\"T_5ca1b5c2_664d_11eb_9093_5cea1d8c16a6row9_col1\" class=\"data row9 col1\" >nan</td>\n",
       "                        <td id=\"T_5ca1b5c2_664d_11eb_9093_5cea1d8c16a6row9_col2\" class=\"data row9 col2\" >nan</td>\n",
       "                        <td id=\"T_5ca1b5c2_664d_11eb_9093_5cea1d8c16a6row9_col3\" class=\"data row9 col3\" >nan</td>\n",
       "            </tr>\n",
       "            <tr>\n",
       "                        <th id=\"T_5ca1b5c2_664d_11eb_9093_5cea1d8c16a6level0_row10\" class=\"row_heading level0 row10\" >113CB</th>\n",
       "                        <td id=\"T_5ca1b5c2_664d_11eb_9093_5cea1d8c16a6row10_col0\" class=\"data row10 col0\" >nan</td>\n",
       "                        <td id=\"T_5ca1b5c2_664d_11eb_9093_5cea1d8c16a6row10_col1\" class=\"data row10 col1\" >nan</td>\n",
       "                        <td id=\"T_5ca1b5c2_664d_11eb_9093_5cea1d8c16a6row10_col2\" class=\"data row10 col2\" >nan</td>\n",
       "                        <td id=\"T_5ca1b5c2_664d_11eb_9093_5cea1d8c16a6row10_col3\" class=\"data row10 col3\" >nan</td>\n",
       "            </tr>\n",
       "            <tr>\n",
       "                        <th id=\"T_5ca1b5c2_664d_11eb_9093_5cea1d8c16a6level0_row11\" class=\"row_heading level0 row11\" >113CC</th>\n",
       "                        <td id=\"T_5ca1b5c2_664d_11eb_9093_5cea1d8c16a6row11_col0\" class=\"data row11 col0\" >nan</td>\n",
       "                        <td id=\"T_5ca1b5c2_664d_11eb_9093_5cea1d8c16a6row11_col1\" class=\"data row11 col1\" >nan</td>\n",
       "                        <td id=\"T_5ca1b5c2_664d_11eb_9093_5cea1d8c16a6row11_col2\" class=\"data row11 col2\" >nan</td>\n",
       "                        <td id=\"T_5ca1b5c2_664d_11eb_9093_5cea1d8c16a6row11_col3\" class=\"data row11 col3\" >nan</td>\n",
       "            </tr>\n",
       "            <tr>\n",
       "                        <th id=\"T_5ca1b5c2_664d_11eb_9093_5cea1d8c16a6level0_row12\" class=\"row_heading level0 row12\" >114CF</th>\n",
       "                        <td id=\"T_5ca1b5c2_664d_11eb_9093_5cea1d8c16a6row12_col0\" class=\"data row12 col0\" >nan</td>\n",
       "                        <td id=\"T_5ca1b5c2_664d_11eb_9093_5cea1d8c16a6row12_col1\" class=\"data row12 col1\" >7.000000</td>\n",
       "                        <td id=\"T_5ca1b5c2_664d_11eb_9093_5cea1d8c16a6row12_col2\" class=\"data row12 col2\" >nan</td>\n",
       "                        <td id=\"T_5ca1b5c2_664d_11eb_9093_5cea1d8c16a6row12_col3\" class=\"data row12 col3\" >nan</td>\n",
       "            </tr>\n",
       "            <tr>\n",
       "                        <th id=\"T_5ca1b5c2_664d_11eb_9093_5cea1d8c16a6level0_row13\" class=\"row_heading level0 row13\" >114CG</th>\n",
       "                        <td id=\"T_5ca1b5c2_664d_11eb_9093_5cea1d8c16a6row13_col0\" class=\"data row13 col0\" >nan</td>\n",
       "                        <td id=\"T_5ca1b5c2_664d_11eb_9093_5cea1d8c16a6row13_col1\" class=\"data row13 col1\" >21.000000</td>\n",
       "                        <td id=\"T_5ca1b5c2_664d_11eb_9093_5cea1d8c16a6row13_col2\" class=\"data row13 col2\" >2.000000</td>\n",
       "                        <td id=\"T_5ca1b5c2_664d_11eb_9093_5cea1d8c16a6row13_col3\" class=\"data row13 col3\" >nan</td>\n",
       "            </tr>\n",
       "            <tr>\n",
       "                        <th id=\"T_5ca1b5c2_664d_11eb_9093_5cea1d8c16a6level0_row14\" class=\"row_heading level0 row14\" >116CD</th>\n",
       "                        <td id=\"T_5ca1b5c2_664d_11eb_9093_5cea1d8c16a6row14_col0\" class=\"data row14 col0\" >nan</td>\n",
       "                        <td id=\"T_5ca1b5c2_664d_11eb_9093_5cea1d8c16a6row14_col1\" class=\"data row14 col1\" >7.000000</td>\n",
       "                        <td id=\"T_5ca1b5c2_664d_11eb_9093_5cea1d8c16a6row14_col2\" class=\"data row14 col2\" >nan</td>\n",
       "                        <td id=\"T_5ca1b5c2_664d_11eb_9093_5cea1d8c16a6row14_col3\" class=\"data row14 col3\" >nan</td>\n",
       "            </tr>\n",
       "            <tr>\n",
       "                        <th id=\"T_5ca1b5c2_664d_11eb_9093_5cea1d8c16a6level0_row15\" class=\"row_heading level0 row15\" >116CE</th>\n",
       "                        <td id=\"T_5ca1b5c2_664d_11eb_9093_5cea1d8c16a6row15_col0\" class=\"data row15 col0\" >nan</td>\n",
       "                        <td id=\"T_5ca1b5c2_664d_11eb_9093_5cea1d8c16a6row15_col1\" class=\"data row15 col1\" >9.000000</td>\n",
       "                        <td id=\"T_5ca1b5c2_664d_11eb_9093_5cea1d8c16a6row15_col2\" class=\"data row15 col2\" >nan</td>\n",
       "                        <td id=\"T_5ca1b5c2_664d_11eb_9093_5cea1d8c16a6row15_col3\" class=\"data row15 col3\" >nan</td>\n",
       "            </tr>\n",
       "            <tr>\n",
       "                        <th id=\"T_5ca1b5c2_664d_11eb_9093_5cea1d8c16a6level0_row16\" class=\"row_heading level0 row16\" >116CF</th>\n",
       "                        <td id=\"T_5ca1b5c2_664d_11eb_9093_5cea1d8c16a6row16_col0\" class=\"data row16 col0\" >nan</td>\n",
       "                        <td id=\"T_5ca1b5c2_664d_11eb_9093_5cea1d8c16a6row16_col1\" class=\"data row16 col1\" >11.000000</td>\n",
       "                        <td id=\"T_5ca1b5c2_664d_11eb_9093_5cea1d8c16a6row16_col2\" class=\"data row16 col2\" >nan</td>\n",
       "                        <td id=\"T_5ca1b5c2_664d_11eb_9093_5cea1d8c16a6row16_col3\" class=\"data row16 col3\" >nan</td>\n",
       "            </tr>\n",
       "            <tr>\n",
       "                        <th id=\"T_5ca1b5c2_664d_11eb_9093_5cea1d8c16a6level0_row17\" class=\"row_heading level0 row17\" >117CA</th>\n",
       "                        <td id=\"T_5ca1b5c2_664d_11eb_9093_5cea1d8c16a6row17_col0\" class=\"data row17 col0\" >34.000000</td>\n",
       "                        <td id=\"T_5ca1b5c2_664d_11eb_9093_5cea1d8c16a6row17_col1\" class=\"data row17 col1\" >nan</td>\n",
       "                        <td id=\"T_5ca1b5c2_664d_11eb_9093_5cea1d8c16a6row17_col2\" class=\"data row17 col2\" >nan</td>\n",
       "                        <td id=\"T_5ca1b5c2_664d_11eb_9093_5cea1d8c16a6row17_col3\" class=\"data row17 col3\" >nan</td>\n",
       "            </tr>\n",
       "            <tr>\n",
       "                        <th id=\"T_5ca1b5c2_664d_11eb_9093_5cea1d8c16a6level0_row18\" class=\"row_heading level0 row18\" >117CF</th>\n",
       "                        <td id=\"T_5ca1b5c2_664d_11eb_9093_5cea1d8c16a6row18_col0\" class=\"data row18 col0\" >8.000000</td>\n",
       "                        <td id=\"T_5ca1b5c2_664d_11eb_9093_5cea1d8c16a6row18_col1\" class=\"data row18 col1\" >21.000000</td>\n",
       "                        <td id=\"T_5ca1b5c2_664d_11eb_9093_5cea1d8c16a6row18_col2\" class=\"data row18 col2\" >nan</td>\n",
       "                        <td id=\"T_5ca1b5c2_664d_11eb_9093_5cea1d8c16a6row18_col3\" class=\"data row18 col3\" >nan</td>\n",
       "            </tr>\n",
       "            <tr>\n",
       "                        <th id=\"T_5ca1b5c2_664d_11eb_9093_5cea1d8c16a6level0_row19\" class=\"row_heading level0 row19\" >117CH</th>\n",
       "                        <td id=\"T_5ca1b5c2_664d_11eb_9093_5cea1d8c16a6row19_col0\" class=\"data row19 col0\" >nan</td>\n",
       "                        <td id=\"T_5ca1b5c2_664d_11eb_9093_5cea1d8c16a6row19_col1\" class=\"data row19 col1\" >2.000000</td>\n",
       "                        <td id=\"T_5ca1b5c2_664d_11eb_9093_5cea1d8c16a6row19_col2\" class=\"data row19 col2\" >nan</td>\n",
       "                        <td id=\"T_5ca1b5c2_664d_11eb_9093_5cea1d8c16a6row19_col3\" class=\"data row19 col3\" >nan</td>\n",
       "            </tr>\n",
       "            <tr>\n",
       "                        <th id=\"T_5ca1b5c2_664d_11eb_9093_5cea1d8c16a6level0_row20\" class=\"row_heading level0 row20\" >23CA</th>\n",
       "                        <td id=\"T_5ca1b5c2_664d_11eb_9093_5cea1d8c16a6row20_col0\" class=\"data row20 col0\" >nan</td>\n",
       "                        <td id=\"T_5ca1b5c2_664d_11eb_9093_5cea1d8c16a6row20_col1\" class=\"data row20 col1\" >nan</td>\n",
       "                        <td id=\"T_5ca1b5c2_664d_11eb_9093_5cea1d8c16a6row20_col2\" class=\"data row20 col2\" >nan</td>\n",
       "                        <td id=\"T_5ca1b5c2_664d_11eb_9093_5cea1d8c16a6row20_col3\" class=\"data row20 col3\" >nan</td>\n",
       "            </tr>\n",
       "            <tr>\n",
       "                        <th id=\"T_5ca1b5c2_664d_11eb_9093_5cea1d8c16a6level0_row21\" class=\"row_heading level0 row21\" >23CB</th>\n",
       "                        <td id=\"T_5ca1b5c2_664d_11eb_9093_5cea1d8c16a6row21_col0\" class=\"data row21 col0\" >nan</td>\n",
       "                        <td id=\"T_5ca1b5c2_664d_11eb_9093_5cea1d8c16a6row21_col1\" class=\"data row21 col1\" >nan</td>\n",
       "                        <td id=\"T_5ca1b5c2_664d_11eb_9093_5cea1d8c16a6row21_col2\" class=\"data row21 col2\" >nan</td>\n",
       "                        <td id=\"T_5ca1b5c2_664d_11eb_9093_5cea1d8c16a6row21_col3\" class=\"data row21 col3\" >24.000000</td>\n",
       "            </tr>\n",
       "            <tr>\n",
       "                        <th id=\"T_5ca1b5c2_664d_11eb_9093_5cea1d8c16a6level0_row22\" class=\"row_heading level0 row22\" >23CC</th>\n",
       "                        <td id=\"T_5ca1b5c2_664d_11eb_9093_5cea1d8c16a6row22_col0\" class=\"data row22 col0\" >nan</td>\n",
       "                        <td id=\"T_5ca1b5c2_664d_11eb_9093_5cea1d8c16a6row22_col1\" class=\"data row22 col1\" >2.000000</td>\n",
       "                        <td id=\"T_5ca1b5c2_664d_11eb_9093_5cea1d8c16a6row22_col2\" class=\"data row22 col2\" >nan</td>\n",
       "                        <td id=\"T_5ca1b5c2_664d_11eb_9093_5cea1d8c16a6row22_col3\" class=\"data row22 col3\" >2.000000</td>\n",
       "            </tr>\n",
       "            <tr>\n",
       "                        <th id=\"T_5ca1b5c2_664d_11eb_9093_5cea1d8c16a6level0_row23\" class=\"row_heading level0 row23\" >42CA</th>\n",
       "                        <td id=\"T_5ca1b5c2_664d_11eb_9093_5cea1d8c16a6row23_col0\" class=\"data row23 col0\" >nan</td>\n",
       "                        <td id=\"T_5ca1b5c2_664d_11eb_9093_5cea1d8c16a6row23_col1\" class=\"data row23 col1\" >nan</td>\n",
       "                        <td id=\"T_5ca1b5c2_664d_11eb_9093_5cea1d8c16a6row23_col2\" class=\"data row23 col2\" >nan</td>\n",
       "                        <td id=\"T_5ca1b5c2_664d_11eb_9093_5cea1d8c16a6row23_col3\" class=\"data row23 col3\" >nan</td>\n",
       "            </tr>\n",
       "            <tr>\n",
       "                        <th id=\"T_5ca1b5c2_664d_11eb_9093_5cea1d8c16a6level0_row24\" class=\"row_heading level0 row24\" >42CB</th>\n",
       "                        <td id=\"T_5ca1b5c2_664d_11eb_9093_5cea1d8c16a6row24_col0\" class=\"data row24 col0\" >nan</td>\n",
       "                        <td id=\"T_5ca1b5c2_664d_11eb_9093_5cea1d8c16a6row24_col1\" class=\"data row24 col1\" >nan</td>\n",
       "                        <td id=\"T_5ca1b5c2_664d_11eb_9093_5cea1d8c16a6row24_col2\" class=\"data row24 col2\" >nan</td>\n",
       "                        <td id=\"T_5ca1b5c2_664d_11eb_9093_5cea1d8c16a6row24_col3\" class=\"data row24 col3\" >nan</td>\n",
       "            </tr>\n",
       "            <tr>\n",
       "                        <th id=\"T_5ca1b5c2_664d_11eb_9093_5cea1d8c16a6level0_row25\" class=\"row_heading level0 row25\" >42CC</th>\n",
       "                        <td id=\"T_5ca1b5c2_664d_11eb_9093_5cea1d8c16a6row25_col0\" class=\"data row25 col0\" >nan</td>\n",
       "                        <td id=\"T_5ca1b5c2_664d_11eb_9093_5cea1d8c16a6row25_col1\" class=\"data row25 col1\" >nan</td>\n",
       "                        <td id=\"T_5ca1b5c2_664d_11eb_9093_5cea1d8c16a6row25_col2\" class=\"data row25 col2\" >nan</td>\n",
       "                        <td id=\"T_5ca1b5c2_664d_11eb_9093_5cea1d8c16a6row25_col3\" class=\"data row25 col3\" >nan</td>\n",
       "            </tr>\n",
       "            <tr>\n",
       "                        <th id=\"T_5ca1b5c2_664d_11eb_9093_5cea1d8c16a6level0_row26\" class=\"row_heading level0 row26\" >53CB</th>\n",
       "                        <td id=\"T_5ca1b5c2_664d_11eb_9093_5cea1d8c16a6row26_col0\" class=\"data row26 col0\" >nan</td>\n",
       "                        <td id=\"T_5ca1b5c2_664d_11eb_9093_5cea1d8c16a6row26_col1\" class=\"data row26 col1\" >nan</td>\n",
       "                        <td id=\"T_5ca1b5c2_664d_11eb_9093_5cea1d8c16a6row26_col2\" class=\"data row26 col2\" >nan</td>\n",
       "                        <td id=\"T_5ca1b5c2_664d_11eb_9093_5cea1d8c16a6row26_col3\" class=\"data row26 col3\" >nan</td>\n",
       "            </tr>\n",
       "            <tr>\n",
       "                        <th id=\"T_5ca1b5c2_664d_11eb_9093_5cea1d8c16a6level0_row27\" class=\"row_heading level0 row27\" >53CC</th>\n",
       "                        <td id=\"T_5ca1b5c2_664d_11eb_9093_5cea1d8c16a6row27_col0\" class=\"data row27 col0\" >nan</td>\n",
       "                        <td id=\"T_5ca1b5c2_664d_11eb_9093_5cea1d8c16a6row27_col1\" class=\"data row27 col1\" >nan</td>\n",
       "                        <td id=\"T_5ca1b5c2_664d_11eb_9093_5cea1d8c16a6row27_col2\" class=\"data row27 col2\" >nan</td>\n",
       "                        <td id=\"T_5ca1b5c2_664d_11eb_9093_5cea1d8c16a6row27_col3\" class=\"data row27 col3\" >3.000000</td>\n",
       "            </tr>\n",
       "            <tr>\n",
       "                        <th id=\"T_5ca1b5c2_664d_11eb_9093_5cea1d8c16a6level0_row28\" class=\"row_heading level0 row28\" >53CF</th>\n",
       "                        <td id=\"T_5ca1b5c2_664d_11eb_9093_5cea1d8c16a6row28_col0\" class=\"data row28 col0\" >nan</td>\n",
       "                        <td id=\"T_5ca1b5c2_664d_11eb_9093_5cea1d8c16a6row28_col1\" class=\"data row28 col1\" >nan</td>\n",
       "                        <td id=\"T_5ca1b5c2_664d_11eb_9093_5cea1d8c16a6row28_col2\" class=\"data row28 col2\" >nan</td>\n",
       "                        <td id=\"T_5ca1b5c2_664d_11eb_9093_5cea1d8c16a6row28_col3\" class=\"data row28 col3\" >nan</td>\n",
       "            </tr>\n",
       "            <tr>\n",
       "                        <th id=\"T_5ca1b5c2_664d_11eb_9093_5cea1d8c16a6level0_row29\" class=\"row_heading level0 row29\" >54CD</th>\n",
       "                        <td id=\"T_5ca1b5c2_664d_11eb_9093_5cea1d8c16a6row29_col0\" class=\"data row29 col0\" >nan</td>\n",
       "                        <td id=\"T_5ca1b5c2_664d_11eb_9093_5cea1d8c16a6row29_col1\" class=\"data row29 col1\" >nan</td>\n",
       "                        <td id=\"T_5ca1b5c2_664d_11eb_9093_5cea1d8c16a6row29_col2\" class=\"data row29 col2\" >nan</td>\n",
       "                        <td id=\"T_5ca1b5c2_664d_11eb_9093_5cea1d8c16a6row29_col3\" class=\"data row29 col3\" >75.000000</td>\n",
       "            </tr>\n",
       "            <tr>\n",
       "                        <th id=\"T_5ca1b5c2_664d_11eb_9093_5cea1d8c16a6level0_row30\" class=\"row_heading level0 row30\" >54CE</th>\n",
       "                        <td id=\"T_5ca1b5c2_664d_11eb_9093_5cea1d8c16a6row30_col0\" class=\"data row30 col0\" >nan</td>\n",
       "                        <td id=\"T_5ca1b5c2_664d_11eb_9093_5cea1d8c16a6row30_col1\" class=\"data row30 col1\" >nan</td>\n",
       "                        <td id=\"T_5ca1b5c2_664d_11eb_9093_5cea1d8c16a6row30_col2\" class=\"data row30 col2\" >nan</td>\n",
       "                        <td id=\"T_5ca1b5c2_664d_11eb_9093_5cea1d8c16a6row30_col3\" class=\"data row30 col3\" >46.000000</td>\n",
       "            </tr>\n",
       "            <tr>\n",
       "                        <th id=\"T_5ca1b5c2_664d_11eb_9093_5cea1d8c16a6level0_row31\" class=\"row_heading level0 row31\" >54CF</th>\n",
       "                        <td id=\"T_5ca1b5c2_664d_11eb_9093_5cea1d8c16a6row31_col0\" class=\"data row31 col0\" >2.000000</td>\n",
       "                        <td id=\"T_5ca1b5c2_664d_11eb_9093_5cea1d8c16a6row31_col1\" class=\"data row31 col1\" >nan</td>\n",
       "                        <td id=\"T_5ca1b5c2_664d_11eb_9093_5cea1d8c16a6row31_col2\" class=\"data row31 col2\" >nan</td>\n",
       "                        <td id=\"T_5ca1b5c2_664d_11eb_9093_5cea1d8c16a6row31_col3\" class=\"data row31 col3\" >26.000000</td>\n",
       "            </tr>\n",
       "            <tr>\n",
       "                        <th id=\"T_5ca1b5c2_664d_11eb_9093_5cea1d8c16a6level0_row32\" class=\"row_heading level0 row32\" >67CF</th>\n",
       "                        <td id=\"T_5ca1b5c2_664d_11eb_9093_5cea1d8c16a6row32_col0\" class=\"data row32 col0\" >nan</td>\n",
       "                        <td id=\"T_5ca1b5c2_664d_11eb_9093_5cea1d8c16a6row32_col1\" class=\"data row32 col1\" >nan</td>\n",
       "                        <td id=\"T_5ca1b5c2_664d_11eb_9093_5cea1d8c16a6row32_col2\" class=\"data row32 col2\" >nan</td>\n",
       "                        <td id=\"T_5ca1b5c2_664d_11eb_9093_5cea1d8c16a6row32_col3\" class=\"data row32 col3\" >nan</td>\n",
       "            </tr>\n",
       "            <tr>\n",
       "                        <th id=\"T_5ca1b5c2_664d_11eb_9093_5cea1d8c16a6level0_row33\" class=\"row_heading level0 row33\" >67CG</th>\n",
       "                        <td id=\"T_5ca1b5c2_664d_11eb_9093_5cea1d8c16a6row33_col0\" class=\"data row33 col0\" >nan</td>\n",
       "                        <td id=\"T_5ca1b5c2_664d_11eb_9093_5cea1d8c16a6row33_col1\" class=\"data row33 col1\" >nan</td>\n",
       "                        <td id=\"T_5ca1b5c2_664d_11eb_9093_5cea1d8c16a6row33_col2\" class=\"data row33 col2\" >nan</td>\n",
       "                        <td id=\"T_5ca1b5c2_664d_11eb_9093_5cea1d8c16a6row33_col3\" class=\"data row33 col3\" >nan</td>\n",
       "            </tr>\n",
       "            <tr>\n",
       "                        <th id=\"T_5ca1b5c2_664d_11eb_9093_5cea1d8c16a6level0_row34\" class=\"row_heading level0 row34\" >67CH</th>\n",
       "                        <td id=\"T_5ca1b5c2_664d_11eb_9093_5cea1d8c16a6row34_col0\" class=\"data row34 col0\" >nan</td>\n",
       "                        <td id=\"T_5ca1b5c2_664d_11eb_9093_5cea1d8c16a6row34_col1\" class=\"data row34 col1\" >nan</td>\n",
       "                        <td id=\"T_5ca1b5c2_664d_11eb_9093_5cea1d8c16a6row34_col2\" class=\"data row34 col2\" >nan</td>\n",
       "                        <td id=\"T_5ca1b5c2_664d_11eb_9093_5cea1d8c16a6row34_col3\" class=\"data row34 col3\" >nan</td>\n",
       "            </tr>\n",
       "            <tr>\n",
       "                        <th id=\"T_5ca1b5c2_664d_11eb_9093_5cea1d8c16a6level0_row35\" class=\"row_heading level0 row35\" >91CA</th>\n",
       "                        <td id=\"T_5ca1b5c2_664d_11eb_9093_5cea1d8c16a6row35_col0\" class=\"data row35 col0\" >nan</td>\n",
       "                        <td id=\"T_5ca1b5c2_664d_11eb_9093_5cea1d8c16a6row35_col1\" class=\"data row35 col1\" >6.000000</td>\n",
       "                        <td id=\"T_5ca1b5c2_664d_11eb_9093_5cea1d8c16a6row35_col2\" class=\"data row35 col2\" >nan</td>\n",
       "                        <td id=\"T_5ca1b5c2_664d_11eb_9093_5cea1d8c16a6row35_col3\" class=\"data row35 col3\" >nan</td>\n",
       "            </tr>\n",
       "            <tr>\n",
       "                        <th id=\"T_5ca1b5c2_664d_11eb_9093_5cea1d8c16a6level0_row36\" class=\"row_heading level0 row36\" >91CB</th>\n",
       "                        <td id=\"T_5ca1b5c2_664d_11eb_9093_5cea1d8c16a6row36_col0\" class=\"data row36 col0\" >6.000000</td>\n",
       "                        <td id=\"T_5ca1b5c2_664d_11eb_9093_5cea1d8c16a6row36_col1\" class=\"data row36 col1\" >9.000000</td>\n",
       "                        <td id=\"T_5ca1b5c2_664d_11eb_9093_5cea1d8c16a6row36_col2\" class=\"data row36 col2\" >nan</td>\n",
       "                        <td id=\"T_5ca1b5c2_664d_11eb_9093_5cea1d8c16a6row36_col3\" class=\"data row36 col3\" >nan</td>\n",
       "            </tr>\n",
       "            <tr>\n",
       "                        <th id=\"T_5ca1b5c2_664d_11eb_9093_5cea1d8c16a6level0_row37\" class=\"row_heading level0 row37\" >91CC</th>\n",
       "                        <td id=\"T_5ca1b5c2_664d_11eb_9093_5cea1d8c16a6row37_col0\" class=\"data row37 col0\" >nan</td>\n",
       "                        <td id=\"T_5ca1b5c2_664d_11eb_9093_5cea1d8c16a6row37_col1\" class=\"data row37 col1\" >1.000000</td>\n",
       "                        <td id=\"T_5ca1b5c2_664d_11eb_9093_5cea1d8c16a6row37_col2\" class=\"data row37 col2\" >nan</td>\n",
       "                        <td id=\"T_5ca1b5c2_664d_11eb_9093_5cea1d8c16a6row37_col3\" class=\"data row37 col3\" >nan</td>\n",
       "            </tr>\n",
       "            <tr>\n",
       "                        <th id=\"T_5ca1b5c2_664d_11eb_9093_5cea1d8c16a6level0_row38\" class=\"row_heading level0 row38\" >93CB</th>\n",
       "                        <td id=\"T_5ca1b5c2_664d_11eb_9093_5cea1d8c16a6row38_col0\" class=\"data row38 col0\" >nan</td>\n",
       "                        <td id=\"T_5ca1b5c2_664d_11eb_9093_5cea1d8c16a6row38_col1\" class=\"data row38 col1\" >nan</td>\n",
       "                        <td id=\"T_5ca1b5c2_664d_11eb_9093_5cea1d8c16a6row38_col2\" class=\"data row38 col2\" >nan</td>\n",
       "                        <td id=\"T_5ca1b5c2_664d_11eb_9093_5cea1d8c16a6row38_col3\" class=\"data row38 col3\" >nan</td>\n",
       "            </tr>\n",
       "            <tr>\n",
       "                        <th id=\"T_5ca1b5c2_664d_11eb_9093_5cea1d8c16a6level0_row39\" class=\"row_heading level0 row39\" >93CE</th>\n",
       "                        <td id=\"T_5ca1b5c2_664d_11eb_9093_5cea1d8c16a6row39_col0\" class=\"data row39 col0\" >nan</td>\n",
       "                        <td id=\"T_5ca1b5c2_664d_11eb_9093_5cea1d8c16a6row39_col1\" class=\"data row39 col1\" >nan</td>\n",
       "                        <td id=\"T_5ca1b5c2_664d_11eb_9093_5cea1d8c16a6row39_col2\" class=\"data row39 col2\" >nan</td>\n",
       "                        <td id=\"T_5ca1b5c2_664d_11eb_9093_5cea1d8c16a6row39_col3\" class=\"data row39 col3\" >nan</td>\n",
       "            </tr>\n",
       "            <tr>\n",
       "                        <th id=\"T_5ca1b5c2_664d_11eb_9093_5cea1d8c16a6level0_row40\" class=\"row_heading level0 row40\" >95CA</th>\n",
       "                        <td id=\"T_5ca1b5c2_664d_11eb_9093_5cea1d8c16a6row40_col0\" class=\"data row40 col0\" >nan</td>\n",
       "                        <td id=\"T_5ca1b5c2_664d_11eb_9093_5cea1d8c16a6row40_col1\" class=\"data row40 col1\" >nan</td>\n",
       "                        <td id=\"T_5ca1b5c2_664d_11eb_9093_5cea1d8c16a6row40_col2\" class=\"data row40 col2\" >nan</td>\n",
       "                        <td id=\"T_5ca1b5c2_664d_11eb_9093_5cea1d8c16a6row40_col3\" class=\"data row40 col3\" >nan</td>\n",
       "            </tr>\n",
       "            <tr>\n",
       "                        <th id=\"T_5ca1b5c2_664d_11eb_9093_5cea1d8c16a6level0_row41\" class=\"row_heading level0 row41\" >95CC</th>\n",
       "                        <td id=\"T_5ca1b5c2_664d_11eb_9093_5cea1d8c16a6row41_col0\" class=\"data row41 col0\" >nan</td>\n",
       "                        <td id=\"T_5ca1b5c2_664d_11eb_9093_5cea1d8c16a6row41_col1\" class=\"data row41 col1\" >nan</td>\n",
       "                        <td id=\"T_5ca1b5c2_664d_11eb_9093_5cea1d8c16a6row41_col2\" class=\"data row41 col2\" >nan</td>\n",
       "                        <td id=\"T_5ca1b5c2_664d_11eb_9093_5cea1d8c16a6row41_col3\" class=\"data row41 col3\" >nan</td>\n",
       "            </tr>\n",
       "    </tbody></table>"
      ],
      "text/plain": [
       "<pandas.io.formats.style.Styler at 0x1f28d4c05b0>"
      ]
     },
     "execution_count": 307,
     "metadata": {},
     "output_type": "execute_result"
    }
   ],
   "source": [
    "e19.loc[:,['Alligator','Raccoon','Cottonmouth','Cotton Rat']].style.background_gradient(cmap='viridis')"
   ]
  },
  {
   "cell_type": "code",
   "execution_count": 323,
   "metadata": {},
   "outputs": [
    {
     "data": {
      "text/html": [
       "<div>\n",
       "<style scoped>\n",
       "    .dataframe tbody tr th:only-of-type {\n",
       "        vertical-align: middle;\n",
       "    }\n",
       "\n",
       "    .dataframe tbody tr th {\n",
       "        vertical-align: top;\n",
       "    }\n",
       "\n",
       "    .dataframe thead th {\n",
       "        text-align: right;\n",
       "    }\n",
       "</style>\n",
       "<table border=\"1\" class=\"dataframe\">\n",
       "  <thead>\n",
       "    <tr style=\"text-align: right;\">\n",
       "      <th></th>\n",
       "      <th>Alligator</th>\n",
       "      <th>Raccoon</th>\n",
       "      <th>Cottonmouth</th>\n",
       "      <th>Cotton Rat</th>\n",
       "    </tr>\n",
       "  </thead>\n",
       "  <tbody>\n",
       "    <tr>\n",
       "      <th>05CG</th>\n",
       "      <td>NaN</td>\n",
       "      <td>NaN</td>\n",
       "      <td>14.0</td>\n",
       "      <td>NaN</td>\n",
       "    </tr>\n",
       "    <tr>\n",
       "      <th>05CH</th>\n",
       "      <td>NaN</td>\n",
       "      <td>NaN</td>\n",
       "      <td>7.0</td>\n",
       "      <td>NaN</td>\n",
       "    </tr>\n",
       "    <tr>\n",
       "      <th>05CI</th>\n",
       "      <td>NaN</td>\n",
       "      <td>NaN</td>\n",
       "      <td>9.0</td>\n",
       "      <td>NaN</td>\n",
       "    </tr>\n",
       "    <tr>\n",
       "      <th>106CG</th>\n",
       "      <td>NaN</td>\n",
       "      <td>18.0</td>\n",
       "      <td>NaN</td>\n",
       "      <td>21.0</td>\n",
       "    </tr>\n",
       "    <tr>\n",
       "      <th>106CI</th>\n",
       "      <td>NaN</td>\n",
       "      <td>NaN</td>\n",
       "      <td>NaN</td>\n",
       "      <td>100.0</td>\n",
       "    </tr>\n",
       "    <tr>\n",
       "      <th>114CF</th>\n",
       "      <td>NaN</td>\n",
       "      <td>7.0</td>\n",
       "      <td>NaN</td>\n",
       "      <td>NaN</td>\n",
       "    </tr>\n",
       "    <tr>\n",
       "      <th>114CG</th>\n",
       "      <td>NaN</td>\n",
       "      <td>21.0</td>\n",
       "      <td>2.0</td>\n",
       "      <td>NaN</td>\n",
       "    </tr>\n",
       "    <tr>\n",
       "      <th>116CD</th>\n",
       "      <td>NaN</td>\n",
       "      <td>7.0</td>\n",
       "      <td>NaN</td>\n",
       "      <td>NaN</td>\n",
       "    </tr>\n",
       "    <tr>\n",
       "      <th>116CE</th>\n",
       "      <td>NaN</td>\n",
       "      <td>9.0</td>\n",
       "      <td>NaN</td>\n",
       "      <td>NaN</td>\n",
       "    </tr>\n",
       "    <tr>\n",
       "      <th>116CF</th>\n",
       "      <td>NaN</td>\n",
       "      <td>11.0</td>\n",
       "      <td>NaN</td>\n",
       "      <td>NaN</td>\n",
       "    </tr>\n",
       "    <tr>\n",
       "      <th>117CA</th>\n",
       "      <td>34.0</td>\n",
       "      <td>NaN</td>\n",
       "      <td>NaN</td>\n",
       "      <td>NaN</td>\n",
       "    </tr>\n",
       "    <tr>\n",
       "      <th>117CF</th>\n",
       "      <td>8.0</td>\n",
       "      <td>21.0</td>\n",
       "      <td>NaN</td>\n",
       "      <td>NaN</td>\n",
       "    </tr>\n",
       "    <tr>\n",
       "      <th>117CH</th>\n",
       "      <td>NaN</td>\n",
       "      <td>2.0</td>\n",
       "      <td>NaN</td>\n",
       "      <td>NaN</td>\n",
       "    </tr>\n",
       "    <tr>\n",
       "      <th>23CB</th>\n",
       "      <td>NaN</td>\n",
       "      <td>NaN</td>\n",
       "      <td>NaN</td>\n",
       "      <td>24.0</td>\n",
       "    </tr>\n",
       "    <tr>\n",
       "      <th>23CC</th>\n",
       "      <td>NaN</td>\n",
       "      <td>2.0</td>\n",
       "      <td>NaN</td>\n",
       "      <td>2.0</td>\n",
       "    </tr>\n",
       "    <tr>\n",
       "      <th>53CC</th>\n",
       "      <td>NaN</td>\n",
       "      <td>NaN</td>\n",
       "      <td>NaN</td>\n",
       "      <td>3.0</td>\n",
       "    </tr>\n",
       "    <tr>\n",
       "      <th>54CD</th>\n",
       "      <td>NaN</td>\n",
       "      <td>NaN</td>\n",
       "      <td>NaN</td>\n",
       "      <td>75.0</td>\n",
       "    </tr>\n",
       "    <tr>\n",
       "      <th>54CE</th>\n",
       "      <td>NaN</td>\n",
       "      <td>NaN</td>\n",
       "      <td>NaN</td>\n",
       "      <td>46.0</td>\n",
       "    </tr>\n",
       "    <tr>\n",
       "      <th>54CF</th>\n",
       "      <td>2.0</td>\n",
       "      <td>NaN</td>\n",
       "      <td>NaN</td>\n",
       "      <td>26.0</td>\n",
       "    </tr>\n",
       "    <tr>\n",
       "      <th>91CA</th>\n",
       "      <td>NaN</td>\n",
       "      <td>6.0</td>\n",
       "      <td>NaN</td>\n",
       "      <td>NaN</td>\n",
       "    </tr>\n",
       "    <tr>\n",
       "      <th>91CB</th>\n",
       "      <td>6.0</td>\n",
       "      <td>9.0</td>\n",
       "      <td>NaN</td>\n",
       "      <td>NaN</td>\n",
       "    </tr>\n",
       "    <tr>\n",
       "      <th>91CC</th>\n",
       "      <td>NaN</td>\n",
       "      <td>1.0</td>\n",
       "      <td>NaN</td>\n",
       "      <td>NaN</td>\n",
       "    </tr>\n",
       "  </tbody>\n",
       "</table>\n",
       "</div>"
      ],
      "text/plain": [
       "       Alligator  Raccoon  Cottonmouth  Cotton Rat\n",
       "05CG         NaN      NaN         14.0         NaN\n",
       "05CH         NaN      NaN          7.0         NaN\n",
       "05CI         NaN      NaN          9.0         NaN\n",
       "106CG        NaN     18.0          NaN        21.0\n",
       "106CI        NaN      NaN          NaN       100.0\n",
       "114CF        NaN      7.0          NaN         NaN\n",
       "114CG        NaN     21.0          2.0         NaN\n",
       "116CD        NaN      7.0          NaN         NaN\n",
       "116CE        NaN      9.0          NaN         NaN\n",
       "116CF        NaN     11.0          NaN         NaN\n",
       "117CA       34.0      NaN          NaN         NaN\n",
       "117CF        8.0     21.0          NaN         NaN\n",
       "117CH        NaN      2.0          NaN         NaN\n",
       "23CB         NaN      NaN          NaN        24.0\n",
       "23CC         NaN      2.0          NaN         2.0\n",
       "53CC         NaN      NaN          NaN         3.0\n",
       "54CD         NaN      NaN          NaN        75.0\n",
       "54CE         NaN      NaN          NaN        46.0\n",
       "54CF         2.0      NaN          NaN        26.0\n",
       "91CA         NaN      6.0          NaN         NaN\n",
       "91CB         6.0      9.0          NaN         NaN\n",
       "91CC         NaN      1.0          NaN         NaN"
      ]
     },
     "execution_count": 323,
     "metadata": {},
     "output_type": "execute_result"
    }
   ],
   "source": [
    "e19_2=e19.loc[:,['Alligator','Raccoon','Cottonmouth','Cotton Rat']].dropna(how = 'all') \n",
    "e19_2\n",
    "\n"
   ]
  },
  {
   "cell_type": "code",
   "execution_count": 277,
   "metadata": {},
   "outputs": [
    {
     "data": {
      "text/html": [
       "<style  type=\"text/css\" >\n",
       "</style><table id=\"T_0974f607_664a_11eb_8226_5cea1d8c16a6\" ><thead>    <tr>        <th class=\"blank level0\" ></th>        <th class=\"col_heading level0 col0\" >Alligator</th>        <th class=\"col_heading level0 col1\" >Cottonmouth</th>        <th class=\"col_heading level0 col2\" >Black Vulture</th>        <th class=\"col_heading level0 col3\" >Cotton Rat</th>        <th class=\"col_heading level0 col4\" >Black Bear</th>        <th class=\"col_heading level0 col5\" >Spotted Skunk</th>        <th class=\"col_heading level0 col6\" >Turkey Vulture</th>    </tr></thead><tbody>\n",
       "                <tr>\n",
       "                        <th id=\"T_0974f607_664a_11eb_8226_5cea1d8c16a6level0_row0\" class=\"row_heading level0 row0\" >05CG</th>\n",
       "                        <td id=\"T_0974f607_664a_11eb_8226_5cea1d8c16a6row0_col0\" class=\"data row0 col0\" >nan</td>\n",
       "                        <td id=\"T_0974f607_664a_11eb_8226_5cea1d8c16a6row0_col1\" class=\"data row0 col1\" >14.000000</td>\n",
       "                        <td id=\"T_0974f607_664a_11eb_8226_5cea1d8c16a6row0_col2\" class=\"data row0 col2\" >nan</td>\n",
       "                        <td id=\"T_0974f607_664a_11eb_8226_5cea1d8c16a6row0_col3\" class=\"data row0 col3\" >nan</td>\n",
       "                        <td id=\"T_0974f607_664a_11eb_8226_5cea1d8c16a6row0_col4\" class=\"data row0 col4\" >nan</td>\n",
       "                        <td id=\"T_0974f607_664a_11eb_8226_5cea1d8c16a6row0_col5\" class=\"data row0 col5\" >nan</td>\n",
       "                        <td id=\"T_0974f607_664a_11eb_8226_5cea1d8c16a6row0_col6\" class=\"data row0 col6\" >nan</td>\n",
       "            </tr>\n",
       "            <tr>\n",
       "                        <th id=\"T_0974f607_664a_11eb_8226_5cea1d8c16a6level0_row1\" class=\"row_heading level0 row1\" >05CH</th>\n",
       "                        <td id=\"T_0974f607_664a_11eb_8226_5cea1d8c16a6row1_col0\" class=\"data row1 col0\" >nan</td>\n",
       "                        <td id=\"T_0974f607_664a_11eb_8226_5cea1d8c16a6row1_col1\" class=\"data row1 col1\" >7.000000</td>\n",
       "                        <td id=\"T_0974f607_664a_11eb_8226_5cea1d8c16a6row1_col2\" class=\"data row1 col2\" >nan</td>\n",
       "                        <td id=\"T_0974f607_664a_11eb_8226_5cea1d8c16a6row1_col3\" class=\"data row1 col3\" >nan</td>\n",
       "                        <td id=\"T_0974f607_664a_11eb_8226_5cea1d8c16a6row1_col4\" class=\"data row1 col4\" >nan</td>\n",
       "                        <td id=\"T_0974f607_664a_11eb_8226_5cea1d8c16a6row1_col5\" class=\"data row1 col5\" >nan</td>\n",
       "                        <td id=\"T_0974f607_664a_11eb_8226_5cea1d8c16a6row1_col6\" class=\"data row1 col6\" >nan</td>\n",
       "            </tr>\n",
       "            <tr>\n",
       "                        <th id=\"T_0974f607_664a_11eb_8226_5cea1d8c16a6level0_row2\" class=\"row_heading level0 row2\" >05CI</th>\n",
       "                        <td id=\"T_0974f607_664a_11eb_8226_5cea1d8c16a6row2_col0\" class=\"data row2 col0\" >nan</td>\n",
       "                        <td id=\"T_0974f607_664a_11eb_8226_5cea1d8c16a6row2_col1\" class=\"data row2 col1\" >9.000000</td>\n",
       "                        <td id=\"T_0974f607_664a_11eb_8226_5cea1d8c16a6row2_col2\" class=\"data row2 col2\" >nan</td>\n",
       "                        <td id=\"T_0974f607_664a_11eb_8226_5cea1d8c16a6row2_col3\" class=\"data row2 col3\" >nan</td>\n",
       "                        <td id=\"T_0974f607_664a_11eb_8226_5cea1d8c16a6row2_col4\" class=\"data row2 col4\" >nan</td>\n",
       "                        <td id=\"T_0974f607_664a_11eb_8226_5cea1d8c16a6row2_col5\" class=\"data row2 col5\" >nan</td>\n",
       "                        <td id=\"T_0974f607_664a_11eb_8226_5cea1d8c16a6row2_col6\" class=\"data row2 col6\" >nan</td>\n",
       "            </tr>\n",
       "            <tr>\n",
       "                        <th id=\"T_0974f607_664a_11eb_8226_5cea1d8c16a6level0_row3\" class=\"row_heading level0 row3\" >106CI</th>\n",
       "                        <td id=\"T_0974f607_664a_11eb_8226_5cea1d8c16a6row3_col0\" class=\"data row3 col0\" >nan</td>\n",
       "                        <td id=\"T_0974f607_664a_11eb_8226_5cea1d8c16a6row3_col1\" class=\"data row3 col1\" >nan</td>\n",
       "                        <td id=\"T_0974f607_664a_11eb_8226_5cea1d8c16a6row3_col2\" class=\"data row3 col2\" >nan</td>\n",
       "                        <td id=\"T_0974f607_664a_11eb_8226_5cea1d8c16a6row3_col3\" class=\"data row3 col3\" >100.000000</td>\n",
       "                        <td id=\"T_0974f607_664a_11eb_8226_5cea1d8c16a6row3_col4\" class=\"data row3 col4\" >nan</td>\n",
       "                        <td id=\"T_0974f607_664a_11eb_8226_5cea1d8c16a6row3_col5\" class=\"data row3 col5\" >nan</td>\n",
       "                        <td id=\"T_0974f607_664a_11eb_8226_5cea1d8c16a6row3_col6\" class=\"data row3 col6\" >nan</td>\n",
       "            </tr>\n",
       "            <tr>\n",
       "                        <th id=\"T_0974f607_664a_11eb_8226_5cea1d8c16a6level0_row4\" class=\"row_heading level0 row4\" >112CA</th>\n",
       "                        <td id=\"T_0974f607_664a_11eb_8226_5cea1d8c16a6row4_col0\" class=\"data row4 col0\" >nan</td>\n",
       "                        <td id=\"T_0974f607_664a_11eb_8226_5cea1d8c16a6row4_col1\" class=\"data row4 col1\" >nan</td>\n",
       "                        <td id=\"T_0974f607_664a_11eb_8226_5cea1d8c16a6row4_col2\" class=\"data row4 col2\" >96.000000</td>\n",
       "                        <td id=\"T_0974f607_664a_11eb_8226_5cea1d8c16a6row4_col3\" class=\"data row4 col3\" >nan</td>\n",
       "                        <td id=\"T_0974f607_664a_11eb_8226_5cea1d8c16a6row4_col4\" class=\"data row4 col4\" >nan</td>\n",
       "                        <td id=\"T_0974f607_664a_11eb_8226_5cea1d8c16a6row4_col5\" class=\"data row4 col5\" >nan</td>\n",
       "                        <td id=\"T_0974f607_664a_11eb_8226_5cea1d8c16a6row4_col6\" class=\"data row4 col6\" >nan</td>\n",
       "            </tr>\n",
       "            <tr>\n",
       "                        <th id=\"T_0974f607_664a_11eb_8226_5cea1d8c16a6level0_row5\" class=\"row_heading level0 row5\" >112CD</th>\n",
       "                        <td id=\"T_0974f607_664a_11eb_8226_5cea1d8c16a6row5_col0\" class=\"data row5 col0\" >nan</td>\n",
       "                        <td id=\"T_0974f607_664a_11eb_8226_5cea1d8c16a6row5_col1\" class=\"data row5 col1\" >nan</td>\n",
       "                        <td id=\"T_0974f607_664a_11eb_8226_5cea1d8c16a6row5_col2\" class=\"data row5 col2\" >105.000000</td>\n",
       "                        <td id=\"T_0974f607_664a_11eb_8226_5cea1d8c16a6row5_col3\" class=\"data row5 col3\" >nan</td>\n",
       "                        <td id=\"T_0974f607_664a_11eb_8226_5cea1d8c16a6row5_col4\" class=\"data row5 col4\" >nan</td>\n",
       "                        <td id=\"T_0974f607_664a_11eb_8226_5cea1d8c16a6row5_col5\" class=\"data row5 col5\" >nan</td>\n",
       "                        <td id=\"T_0974f607_664a_11eb_8226_5cea1d8c16a6row5_col6\" class=\"data row5 col6\" >8.000000</td>\n",
       "            </tr>\n",
       "            <tr>\n",
       "                        <th id=\"T_0974f607_664a_11eb_8226_5cea1d8c16a6level0_row6\" class=\"row_heading level0 row6\" >112CE</th>\n",
       "                        <td id=\"T_0974f607_664a_11eb_8226_5cea1d8c16a6row6_col0\" class=\"data row6 col0\" >nan</td>\n",
       "                        <td id=\"T_0974f607_664a_11eb_8226_5cea1d8c16a6row6_col1\" class=\"data row6 col1\" >nan</td>\n",
       "                        <td id=\"T_0974f607_664a_11eb_8226_5cea1d8c16a6row6_col2\" class=\"data row6 col2\" >14.000000</td>\n",
       "                        <td id=\"T_0974f607_664a_11eb_8226_5cea1d8c16a6row6_col3\" class=\"data row6 col3\" >nan</td>\n",
       "                        <td id=\"T_0974f607_664a_11eb_8226_5cea1d8c16a6row6_col4\" class=\"data row6 col4\" >nan</td>\n",
       "                        <td id=\"T_0974f607_664a_11eb_8226_5cea1d8c16a6row6_col5\" class=\"data row6 col5\" >nan</td>\n",
       "                        <td id=\"T_0974f607_664a_11eb_8226_5cea1d8c16a6row6_col6\" class=\"data row6 col6\" >7.000000</td>\n",
       "            </tr>\n",
       "            <tr>\n",
       "                        <th id=\"T_0974f607_664a_11eb_8226_5cea1d8c16a6level0_row7\" class=\"row_heading level0 row7\" >23CA</th>\n",
       "                        <td id=\"T_0974f607_664a_11eb_8226_5cea1d8c16a6row7_col0\" class=\"data row7 col0\" >nan</td>\n",
       "                        <td id=\"T_0974f607_664a_11eb_8226_5cea1d8c16a6row7_col1\" class=\"data row7 col1\" >nan</td>\n",
       "                        <td id=\"T_0974f607_664a_11eb_8226_5cea1d8c16a6row7_col2\" class=\"data row7 col2\" >nan</td>\n",
       "                        <td id=\"T_0974f607_664a_11eb_8226_5cea1d8c16a6row7_col3\" class=\"data row7 col3\" >nan</td>\n",
       "                        <td id=\"T_0974f607_664a_11eb_8226_5cea1d8c16a6row7_col4\" class=\"data row7 col4\" >nan</td>\n",
       "                        <td id=\"T_0974f607_664a_11eb_8226_5cea1d8c16a6row7_col5\" class=\"data row7 col5\" >2.000000</td>\n",
       "                        <td id=\"T_0974f607_664a_11eb_8226_5cea1d8c16a6row7_col6\" class=\"data row7 col6\" >nan</td>\n",
       "            </tr>\n",
       "            <tr>\n",
       "                        <th id=\"T_0974f607_664a_11eb_8226_5cea1d8c16a6level0_row8\" class=\"row_heading level0 row8\" >23CC</th>\n",
       "                        <td id=\"T_0974f607_664a_11eb_8226_5cea1d8c16a6row8_col0\" class=\"data row8 col0\" >nan</td>\n",
       "                        <td id=\"T_0974f607_664a_11eb_8226_5cea1d8c16a6row8_col1\" class=\"data row8 col1\" >nan</td>\n",
       "                        <td id=\"T_0974f607_664a_11eb_8226_5cea1d8c16a6row8_col2\" class=\"data row8 col2\" >nan</td>\n",
       "                        <td id=\"T_0974f607_664a_11eb_8226_5cea1d8c16a6row8_col3\" class=\"data row8 col3\" >2.000000</td>\n",
       "                        <td id=\"T_0974f607_664a_11eb_8226_5cea1d8c16a6row8_col4\" class=\"data row8 col4\" >nan</td>\n",
       "                        <td id=\"T_0974f607_664a_11eb_8226_5cea1d8c16a6row8_col5\" class=\"data row8 col5\" >11.000000</td>\n",
       "                        <td id=\"T_0974f607_664a_11eb_8226_5cea1d8c16a6row8_col6\" class=\"data row8 col6\" >nan</td>\n",
       "            </tr>\n",
       "            <tr>\n",
       "                        <th id=\"T_0974f607_664a_11eb_8226_5cea1d8c16a6level0_row9\" class=\"row_heading level0 row9\" >53CC</th>\n",
       "                        <td id=\"T_0974f607_664a_11eb_8226_5cea1d8c16a6row9_col0\" class=\"data row9 col0\" >nan</td>\n",
       "                        <td id=\"T_0974f607_664a_11eb_8226_5cea1d8c16a6row9_col1\" class=\"data row9 col1\" >nan</td>\n",
       "                        <td id=\"T_0974f607_664a_11eb_8226_5cea1d8c16a6row9_col2\" class=\"data row9 col2\" >nan</td>\n",
       "                        <td id=\"T_0974f607_664a_11eb_8226_5cea1d8c16a6row9_col3\" class=\"data row9 col3\" >3.000000</td>\n",
       "                        <td id=\"T_0974f607_664a_11eb_8226_5cea1d8c16a6row9_col4\" class=\"data row9 col4\" >5.000000</td>\n",
       "                        <td id=\"T_0974f607_664a_11eb_8226_5cea1d8c16a6row9_col5\" class=\"data row9 col5\" >nan</td>\n",
       "                        <td id=\"T_0974f607_664a_11eb_8226_5cea1d8c16a6row9_col6\" class=\"data row9 col6\" >nan</td>\n",
       "            </tr>\n",
       "            <tr>\n",
       "                        <th id=\"T_0974f607_664a_11eb_8226_5cea1d8c16a6level0_row10\" class=\"row_heading level0 row10\" >54CD</th>\n",
       "                        <td id=\"T_0974f607_664a_11eb_8226_5cea1d8c16a6row10_col0\" class=\"data row10 col0\" >nan</td>\n",
       "                        <td id=\"T_0974f607_664a_11eb_8226_5cea1d8c16a6row10_col1\" class=\"data row10 col1\" >nan</td>\n",
       "                        <td id=\"T_0974f607_664a_11eb_8226_5cea1d8c16a6row10_col2\" class=\"data row10 col2\" >nan</td>\n",
       "                        <td id=\"T_0974f607_664a_11eb_8226_5cea1d8c16a6row10_col3\" class=\"data row10 col3\" >75.000000</td>\n",
       "                        <td id=\"T_0974f607_664a_11eb_8226_5cea1d8c16a6row10_col4\" class=\"data row10 col4\" >nan</td>\n",
       "                        <td id=\"T_0974f607_664a_11eb_8226_5cea1d8c16a6row10_col5\" class=\"data row10 col5\" >nan</td>\n",
       "                        <td id=\"T_0974f607_664a_11eb_8226_5cea1d8c16a6row10_col6\" class=\"data row10 col6\" >nan</td>\n",
       "            </tr>\n",
       "            <tr>\n",
       "                        <th id=\"T_0974f607_664a_11eb_8226_5cea1d8c16a6level0_row11\" class=\"row_heading level0 row11\" >54CE</th>\n",
       "                        <td id=\"T_0974f607_664a_11eb_8226_5cea1d8c16a6row11_col0\" class=\"data row11 col0\" >nan</td>\n",
       "                        <td id=\"T_0974f607_664a_11eb_8226_5cea1d8c16a6row11_col1\" class=\"data row11 col1\" >nan</td>\n",
       "                        <td id=\"T_0974f607_664a_11eb_8226_5cea1d8c16a6row11_col2\" class=\"data row11 col2\" >nan</td>\n",
       "                        <td id=\"T_0974f607_664a_11eb_8226_5cea1d8c16a6row11_col3\" class=\"data row11 col3\" >46.000000</td>\n",
       "                        <td id=\"T_0974f607_664a_11eb_8226_5cea1d8c16a6row11_col4\" class=\"data row11 col4\" >nan</td>\n",
       "                        <td id=\"T_0974f607_664a_11eb_8226_5cea1d8c16a6row11_col5\" class=\"data row11 col5\" >nan</td>\n",
       "                        <td id=\"T_0974f607_664a_11eb_8226_5cea1d8c16a6row11_col6\" class=\"data row11 col6\" >nan</td>\n",
       "            </tr>\n",
       "            <tr>\n",
       "                        <th id=\"T_0974f607_664a_11eb_8226_5cea1d8c16a6level0_row12\" class=\"row_heading level0 row12\" >91CA</th>\n",
       "                        <td id=\"T_0974f607_664a_11eb_8226_5cea1d8c16a6row12_col0\" class=\"data row12 col0\" >nan</td>\n",
       "                        <td id=\"T_0974f607_664a_11eb_8226_5cea1d8c16a6row12_col1\" class=\"data row12 col1\" >nan</td>\n",
       "                        <td id=\"T_0974f607_664a_11eb_8226_5cea1d8c16a6row12_col2\" class=\"data row12 col2\" >nan</td>\n",
       "                        <td id=\"T_0974f607_664a_11eb_8226_5cea1d8c16a6row12_col3\" class=\"data row12 col3\" >nan</td>\n",
       "                        <td id=\"T_0974f607_664a_11eb_8226_5cea1d8c16a6row12_col4\" class=\"data row12 col4\" >nan</td>\n",
       "                        <td id=\"T_0974f607_664a_11eb_8226_5cea1d8c16a6row12_col5\" class=\"data row12 col5\" >nan</td>\n",
       "                        <td id=\"T_0974f607_664a_11eb_8226_5cea1d8c16a6row12_col6\" class=\"data row12 col6\" >43.000000</td>\n",
       "            </tr>\n",
       "            <tr>\n",
       "                        <th id=\"T_0974f607_664a_11eb_8226_5cea1d8c16a6level0_row13\" class=\"row_heading level0 row13\" >91CB</th>\n",
       "                        <td id=\"T_0974f607_664a_11eb_8226_5cea1d8c16a6row13_col0\" class=\"data row13 col0\" >6.000000</td>\n",
       "                        <td id=\"T_0974f607_664a_11eb_8226_5cea1d8c16a6row13_col1\" class=\"data row13 col1\" >nan</td>\n",
       "                        <td id=\"T_0974f607_664a_11eb_8226_5cea1d8c16a6row13_col2\" class=\"data row13 col2\" >nan</td>\n",
       "                        <td id=\"T_0974f607_664a_11eb_8226_5cea1d8c16a6row13_col3\" class=\"data row13 col3\" >nan</td>\n",
       "                        <td id=\"T_0974f607_664a_11eb_8226_5cea1d8c16a6row13_col4\" class=\"data row13 col4\" >nan</td>\n",
       "                        <td id=\"T_0974f607_664a_11eb_8226_5cea1d8c16a6row13_col5\" class=\"data row13 col5\" >nan</td>\n",
       "                        <td id=\"T_0974f607_664a_11eb_8226_5cea1d8c16a6row13_col6\" class=\"data row13 col6\" >18.000000</td>\n",
       "            </tr>\n",
       "            <tr>\n",
       "                        <th id=\"T_0974f607_664a_11eb_8226_5cea1d8c16a6level0_row14\" class=\"row_heading level0 row14\" >113CA</th>\n",
       "                        <td id=\"T_0974f607_664a_11eb_8226_5cea1d8c16a6row14_col0\" class=\"data row14 col0\" >nan</td>\n",
       "                        <td id=\"T_0974f607_664a_11eb_8226_5cea1d8c16a6row14_col1\" class=\"data row14 col1\" >nan</td>\n",
       "                        <td id=\"T_0974f607_664a_11eb_8226_5cea1d8c16a6row14_col2\" class=\"data row14 col2\" >nan</td>\n",
       "                        <td id=\"T_0974f607_664a_11eb_8226_5cea1d8c16a6row14_col3\" class=\"data row14 col3\" >nan</td>\n",
       "                        <td id=\"T_0974f607_664a_11eb_8226_5cea1d8c16a6row14_col4\" class=\"data row14 col4\" >nan</td>\n",
       "                        <td id=\"T_0974f607_664a_11eb_8226_5cea1d8c16a6row14_col5\" class=\"data row14 col5\" >nan</td>\n",
       "                        <td id=\"T_0974f607_664a_11eb_8226_5cea1d8c16a6row14_col6\" class=\"data row14 col6\" >36.000000</td>\n",
       "            </tr>\n",
       "            <tr>\n",
       "                        <th id=\"T_0974f607_664a_11eb_8226_5cea1d8c16a6level0_row15\" class=\"row_heading level0 row15\" >113CB</th>\n",
       "                        <td id=\"T_0974f607_664a_11eb_8226_5cea1d8c16a6row15_col0\" class=\"data row15 col0\" >nan</td>\n",
       "                        <td id=\"T_0974f607_664a_11eb_8226_5cea1d8c16a6row15_col1\" class=\"data row15 col1\" >nan</td>\n",
       "                        <td id=\"T_0974f607_664a_11eb_8226_5cea1d8c16a6row15_col2\" class=\"data row15 col2\" >nan</td>\n",
       "                        <td id=\"T_0974f607_664a_11eb_8226_5cea1d8c16a6row15_col3\" class=\"data row15 col3\" >nan</td>\n",
       "                        <td id=\"T_0974f607_664a_11eb_8226_5cea1d8c16a6row15_col4\" class=\"data row15 col4\" >nan</td>\n",
       "                        <td id=\"T_0974f607_664a_11eb_8226_5cea1d8c16a6row15_col5\" class=\"data row15 col5\" >nan</td>\n",
       "                        <td id=\"T_0974f607_664a_11eb_8226_5cea1d8c16a6row15_col6\" class=\"data row15 col6\" >163.000000</td>\n",
       "            </tr>\n",
       "            <tr>\n",
       "                        <th id=\"T_0974f607_664a_11eb_8226_5cea1d8c16a6level0_row16\" class=\"row_heading level0 row16\" >113CC</th>\n",
       "                        <td id=\"T_0974f607_664a_11eb_8226_5cea1d8c16a6row16_col0\" class=\"data row16 col0\" >nan</td>\n",
       "                        <td id=\"T_0974f607_664a_11eb_8226_5cea1d8c16a6row16_col1\" class=\"data row16 col1\" >nan</td>\n",
       "                        <td id=\"T_0974f607_664a_11eb_8226_5cea1d8c16a6row16_col2\" class=\"data row16 col2\" >nan</td>\n",
       "                        <td id=\"T_0974f607_664a_11eb_8226_5cea1d8c16a6row16_col3\" class=\"data row16 col3\" >nan</td>\n",
       "                        <td id=\"T_0974f607_664a_11eb_8226_5cea1d8c16a6row16_col4\" class=\"data row16 col4\" >nan</td>\n",
       "                        <td id=\"T_0974f607_664a_11eb_8226_5cea1d8c16a6row16_col5\" class=\"data row16 col5\" >nan</td>\n",
       "                        <td id=\"T_0974f607_664a_11eb_8226_5cea1d8c16a6row16_col6\" class=\"data row16 col6\" >9.000000</td>\n",
       "            </tr>\n",
       "            <tr>\n",
       "                        <th id=\"T_0974f607_664a_11eb_8226_5cea1d8c16a6level0_row17\" class=\"row_heading level0 row17\" >42CC</th>\n",
       "                        <td id=\"T_0974f607_664a_11eb_8226_5cea1d8c16a6row17_col0\" class=\"data row17 col0\" >nan</td>\n",
       "                        <td id=\"T_0974f607_664a_11eb_8226_5cea1d8c16a6row17_col1\" class=\"data row17 col1\" >nan</td>\n",
       "                        <td id=\"T_0974f607_664a_11eb_8226_5cea1d8c16a6row17_col2\" class=\"data row17 col2\" >nan</td>\n",
       "                        <td id=\"T_0974f607_664a_11eb_8226_5cea1d8c16a6row17_col3\" class=\"data row17 col3\" >nan</td>\n",
       "                        <td id=\"T_0974f607_664a_11eb_8226_5cea1d8c16a6row17_col4\" class=\"data row17 col4\" >nan</td>\n",
       "                        <td id=\"T_0974f607_664a_11eb_8226_5cea1d8c16a6row17_col5\" class=\"data row17 col5\" >nan</td>\n",
       "                        <td id=\"T_0974f607_664a_11eb_8226_5cea1d8c16a6row17_col6\" class=\"data row17 col6\" >41.000000</td>\n",
       "            </tr>\n",
       "    </tbody></table>"
      ],
      "text/plain": [
       "<pandas.io.formats.style.Styler at 0x1f28bb06ca0>"
      ]
     },
     "execution_count": 277,
     "metadata": {},
     "output_type": "execute_result"
    }
   ],
   "source": [
    "table=e19.loc[['05CG','05CH','05CI','106CI','112CA','112CD','112CE','23CA','23CC','53CC','54CD', '54CE','91CA','91CB','113CA','113CB', '113CC','42CC',],\n",
    "              ['Alligator','Cottonmouth','Black Vulture', 'Cotton Rat', 'Black Bear', 'Spotted Skunk', 'Turkey Vulture']]\n",
    "\n",
    " "
   ]
  },
  {
   "cell_type": "code",
   "execution_count": 225,
   "metadata": {},
   "outputs": [
    {
     "data": {
      "text/plain": [
       "Text(0.5, 1.0, 'Scavenging Photos at Experimental Sites in ENP')"
      ]
     },
     "execution_count": 225,
     "metadata": {},
     "output_type": "execute_result"
    },
    {
     "data": {
      "image/png": "[encoded data removed]",
      "text/plain": [
       "<Figure size 864x360 with 1 Axes>"
      ]
     },
     "metadata": {
      "needs_background": "light"
     },
     "output_type": "display_data"
    }
   ],
   "source": [
    "table.plot.bar(figsize=(12,5), stacked=True, )\n",
    "plt.xlabel('Site Name')\n",
    "plt.ylabel('# of Photos')\n",
    "plt.title('Scavenging Photos at Experimental Sites in ENP')"
   ]
  },
  {
   "cell_type": "code",
   "execution_count": 178,
   "metadata": {},
   "outputs": [
    {
     "data": {
      "text/plain": [
       "Alligator          6.000000\n",
       "Cottonmouth       10.000000\n",
       "Black Vulture     71.666667\n",
       "Cotton Rat        45.200000\n",
       "Black Bear         5.000000\n",
       "Spotted Skunk      6.500000\n",
       "Turkey Vulture    40.625000\n",
       "dtype: float64"
      ]
     },
     "execution_count": 178,
     "metadata": {},
     "output_type": "execute_result"
    }
   ],
   "source": [
    "table.mean()"
   ]
  },
  {
   "cell_type": "code",
   "execution_count": 179,
   "metadata": {},
   "outputs": [
    {
     "data": {
      "text/plain": [
       "Alligator               NaN\n",
       "Cottonmouth        3.605551\n",
       "Black Vulture     50.143128\n",
       "Cotton Rat        43.413132\n",
       "Black Bear              NaN\n",
       "Spotted Skunk      6.363961\n",
       "Turkey Vulture    51.699510\n",
       "dtype: float64"
      ]
     },
     "execution_count": 179,
     "metadata": {},
     "output_type": "execute_result"
    }
   ],
   "source": [
    "table.std()"
   ]
  },
  {
   "cell_type": "code",
   "execution_count": 324,
   "metadata": {},
   "outputs": [
    {
     "data": {
      "text/plain": [
       "Alligator           6.0\n",
       "Cottonmouth        14.0\n",
       "Black Vulture     105.0\n",
       "Cotton Rat        100.0\n",
       "Black Bear          5.0\n",
       "Spotted Skunk      11.0\n",
       "Turkey Vulture    163.0\n",
       "dtype: float64"
      ]
     },
     "execution_count": 324,
     "metadata": {},
     "output_type": "execute_result"
    }
   ],
   "source": [
    "table.max()"
   ]
  },
  {
   "cell_type": "code",
   "execution_count": 181,
   "metadata": {},
   "outputs": [],
   "source": [
    "sites_visited=table.count()"
   ]
  },
  {
   "cell_type": "code",
   "execution_count": 187,
   "metadata": {},
   "outputs": [
    {
     "data": {
      "text/plain": [
       "<AxesSubplot:title={'center':'Number of Sites Visited per Species'}, xlabel='Species', ylabel='# of visitations'>"
      ]
     },
     "execution_count": 187,
     "metadata": {},
     "output_type": "execute_result"
    },
    {
     "data": {
      "image/png": "[encoded data removed]",
      "text/plain": [
       "<Figure size 432x288 with 1 Axes>"
      ]
     },
     "metadata": {
      "needs_background": "light"
     },
     "output_type": "display_data"
    }
   ],
   "source": [
    "sites_visited.plot.bar(title='Number of Sites Visited per Species', xlabel='Species',ylabel ='# of visitations')"
   ]
  },
  {
   "cell_type": "raw",
   "metadata": {},
   "source": [
    "This data is a subset of data that was gathered as part of a study I took part in to assess the effect that invasive pythons were having on ecosystem interactions in the greater everglades region. This data isn't very meaningful without the spatial, baseline presence/absence, and habitat data related to the sites, so I just did some basic descriptive statistics like the mean and standard deviation of each species for experiment sites that they interacted with. I also plotted the number of photos for each species per site and the number of sites visited per species."
   ]
  }
 ],
 "metadata": {
  "kernelspec": {
   "display_name": "Python 3",
   "language": "python",
   "name": "python3"
  },
  "language_info": {
   "codemirror_mode": {
    "name": "ipython",
    "version": 3
   },
   "file_extension": ".py",
   "mimetype": "text/x-python",
   "name": "python",
   "nbconvert_exporter": "python",
   "pygments_lexer": "ipython3",
   "version": "3.8.5"
  }
 },
 "nbformat": 4,
 "nbformat_minor": 4
}
