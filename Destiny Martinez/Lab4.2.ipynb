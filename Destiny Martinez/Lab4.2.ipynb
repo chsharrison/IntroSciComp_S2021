{
 "cells": [
  {
   "cell_type": "markdown",
   "metadata": {},
   "source": [
    "Name destiny martinez"
   ]
  },
  {
   "cell_type": "markdown",
   "metadata": {},
   "source": [
    "Labpartner(s)"
   ]
  },
  {
   "cell_type": "code",
   "execution_count": 1,
   "metadata": {},
   "outputs": [],
   "source": [
    "#import statements go here\n",
    "import matplotlib.pyplot as plt\n",
    "import numpy as np\n",
    "import pandas as pd"
   ]
  },
  {
   "cell_type": "markdown",
   "metadata": {},
   "source": [
    "# Lab 4.2 \n",
    "\n",
    "Wednesday labs are due Sunday at midnight"
   ]
  },
  {
   "cell_type": "markdown",
   "metadata": {},
   "source": [
    "## Instructions\n",
    "\n",
    "For each class, download the lab and have it up and running in Jupyter when we begin the class period. This will allow you to code along with the demonstrations and be ready to go. You will be assigned a lab partner in your breakout room, they are your partner for this lab. Put their name above.\n",
    "\n",
    "When you are done with your lab, upload this document to your github folder on the class site. Then submit a url link to the completed lab, along with a screenshot of your **completed score** for the chapter assigned in datacamp to the assignment tab in Blackboard."
   ]
  },
  {
   "cell_type": "markdown",
   "metadata": {},
   "source": [
    "# Warmups 4.2"
   ]
  },
  {
   "cell_type": "markdown",
   "metadata": {},
   "source": [
    "W.1-3 Do exercises 1-3 in http://scipy-lectures.org/intro/numpy/exercises.html#data-statistics. See lab 4.1  on how to load in the data file"
   ]
  },
  {
   "cell_type": "code",
   "execution_count": 2,
   "metadata": {},
   "outputs": [
    {
     "data": {
      "text/plain": [
       "array([[30000.,  4000., 48300.],\n",
       "       [47200.,  6100., 48200.],\n",
       "       [70200.,  9800., 41500.],\n",
       "       [77400., 35200., 38200.],\n",
       "       [36300., 59400., 40600.],\n",
       "       [20600., 41700., 39800.],\n",
       "       [18100., 19000., 38600.],\n",
       "       [21400., 13000., 42300.],\n",
       "       [22000.,  8300., 44500.],\n",
       "       [25400.,  9100., 42100.],\n",
       "       [27100.,  7400., 46000.],\n",
       "       [40300.,  8000., 46800.],\n",
       "       [57000., 12300., 43800.],\n",
       "       [76600., 19500., 40900.],\n",
       "       [52300., 45700., 39400.],\n",
       "       [19500., 51100., 39000.],\n",
       "       [11200., 29700., 36700.],\n",
       "       [ 7600., 15800., 41800.],\n",
       "       [14600.,  9700., 43300.],\n",
       "       [16200., 10100., 41300.],\n",
       "       [24700.,  8600., 47300.]])"
      ]
     },
     "execution_count": 2,
     "metadata": {},
     "output_type": "execute_result"
    }
   ],
   "source": [
    "data = np.loadtxt('populations.txt')\n",
    "year, hares, lynxes, carrots = data.T\n",
    "populations = data[:,1:]\n",
    "populations"
   ]
  },
  {
   "cell_type": "code",
   "execution_count": 3,
   "metadata": {},
   "outputs": [
    {
     "name": "stdout",
     "output_type": "stream",
     "text": [
      "hares, lynxes, carrots\n",
      "mean [34080.95238095 20166.66666667 42400.        ]\n",
      "Std: [20897.90645809 16254.59153691  3322.50622558]\n"
     ]
    }
   ],
   "source": [
    "#largest population for chart above ; type idx.max\n",
    "print(\"hares, lynxes, carrots\")\n",
    "print(\"mean\", populations.mean(axis=0))\n",
    "print(\"Std:\", populations.std(axis=0))"
   ]
  },
  {
   "cell_type": "code",
   "execution_count": 9,
   "metadata": {},
   "outputs": [
    {
     "data": {
      "text/plain": [
       "34080.95238095238"
      ]
     },
     "execution_count": 9,
     "metadata": {},
     "output_type": "execute_result"
    }
   ],
   "source": [
    "# mean and standard deviation\n",
    "hare_mean = np.mean(data[:,1])\n",
    "hare_mean"
   ]
  },
  {
   "cell_type": "code",
   "execution_count": 10,
   "metadata": {},
   "outputs": [
    {
     "data": {
      "text/plain": [
       "42400.0"
      ]
     },
     "execution_count": 10,
     "metadata": {},
     "output_type": "execute_result"
    }
   ],
   "source": [
    "carrot_mean = np.mean(data[:,3])\n",
    "carrot_mean"
   ]
  },
  {
   "cell_type": "code",
   "execution_count": 11,
   "metadata": {},
   "outputs": [
    {
     "data": {
      "text/plain": [
       "77400.0"
      ]
     },
     "execution_count": 11,
     "metadata": {},
     "output_type": "execute_result"
    }
   ],
   "source": [
    "np.max(hares)"
   ]
  },
  {
   "cell_type": "code",
   "execution_count": 12,
   "metadata": {},
   "outputs": [
    {
     "data": {
      "text/plain": [
       "(array([3], dtype=int64),)"
      ]
     },
     "execution_count": 12,
     "metadata": {},
     "output_type": "execute_result"
    }
   ],
   "source": [
    "np.where(hares == 77400)"
   ]
  },
  {
   "cell_type": "code",
   "execution_count": 15,
   "metadata": {},
   "outputs": [
    {
     "data": {
      "text/plain": [
       "59400.0"
      ]
     },
     "execution_count": 15,
     "metadata": {},
     "output_type": "execute_result"
    }
   ],
   "source": [
    "np.max(lynxes)"
   ]
  },
  {
   "cell_type": "code",
   "execution_count": 16,
   "metadata": {},
   "outputs": [
    {
     "data": {
      "text/plain": [
       "(array([4], dtype=int64),)"
      ]
     },
     "execution_count": 16,
     "metadata": {},
     "output_type": "execute_result"
    }
   ],
   "source": [
    "np.where(lynxes == 59400)"
   ]
  },
  {
   "cell_type": "code",
   "execution_count": 18,
   "metadata": {},
   "outputs": [
    {
     "data": {
      "text/plain": [
       "48300.0"
      ]
     },
     "execution_count": 18,
     "metadata": {},
     "output_type": "execute_result"
    }
   ],
   "source": [
    "np.max(carrots)"
   ]
  },
  {
   "cell_type": "code",
   "execution_count": 19,
   "metadata": {},
   "outputs": [
    {
     "data": {
      "text/plain": [
       "(array([0], dtype=int64),)"
      ]
     },
     "execution_count": 19,
     "metadata": {},
     "output_type": "execute_result"
    }
   ],
   "source": [
    "np.where(carrots == 48300)"
   ]
  },
  {
   "cell_type": "code",
   "execution_count": 20,
   "metadata": {},
   "outputs": [
    {
     "data": {
      "text/plain": [
       "array([1900., 1901., 1902., 1903., 1904., 1905., 1906., 1907., 1908.,\n",
       "       1909., 1910., 1911., 1912., 1913., 1914., 1915., 1916., 1917.,\n",
       "       1918., 1919., 1920.])"
      ]
     },
     "execution_count": 20,
     "metadata": {},
     "output_type": "execute_result"
    }
   ],
   "source": [
    "years = data[:,0]\n",
    "years"
   ]
  },
  {
   "cell_type": "code",
   "execution_count": 21,
   "metadata": {},
   "outputs": [
    {
     "data": {
      "text/plain": [
       "array([[30000.,  4000., 48300.],\n",
       "       [47200.,  6100., 48200.],\n",
       "       [70200.,  9800., 41500.],\n",
       "       [77400., 35200., 38200.],\n",
       "       [36300., 59400., 40600.],\n",
       "       [20600., 41700., 39800.],\n",
       "       [18100., 19000., 38600.],\n",
       "       [21400., 13000., 42300.],\n",
       "       [22000.,  8300., 44500.],\n",
       "       [25400.,  9100., 42100.],\n",
       "       [27100.,  7400., 46000.],\n",
       "       [40300.,  8000., 46800.],\n",
       "       [57000., 12300., 43800.],\n",
       "       [76600., 19500., 40900.],\n",
       "       [52300., 45700., 39400.],\n",
       "       [19500., 51100., 39000.],\n",
       "       [11200., 29700., 36700.],\n",
       "       [ 7600., 15800., 41800.],\n",
       "       [14600.,  9700., 43300.],\n",
       "       [16200., 10100., 41300.],\n",
       "       [24700.,  8600., 47300.]])"
      ]
     },
     "execution_count": 21,
     "metadata": {},
     "output_type": "execute_result"
    }
   ],
   "source": [
    "data1 = data[:,1:4]\n",
    "data1"
   ]
  },
  {
   "cell_type": "code",
   "execution_count": 22,
   "metadata": {},
   "outputs": [
    {
     "data": {
      "text/plain": [
       "array([[1, 0, 2],\n",
       "       [1, 0, 2],\n",
       "       [1, 2, 0],\n",
       "       [1, 2, 0],\n",
       "       [0, 2, 1],\n",
       "       [0, 2, 1],\n",
       "       [0, 1, 2],\n",
       "       [1, 0, 2],\n",
       "       [1, 0, 2],\n",
       "       [1, 0, 2],\n",
       "       [1, 0, 2],\n",
       "       [1, 0, 2],\n",
       "       [1, 2, 0],\n",
       "       [1, 2, 0],\n",
       "       [2, 1, 0],\n",
       "       [0, 2, 1],\n",
       "       [0, 1, 2],\n",
       "       [0, 1, 2],\n",
       "       [1, 0, 2],\n",
       "       [1, 0, 2],\n",
       "       [1, 0, 2]], dtype=int64)"
      ]
     },
     "execution_count": 22,
     "metadata": {},
     "output_type": "execute_result"
    }
   ],
   "source": [
    "np.argsort(data1)"
   ]
  },
  {
   "cell_type": "code",
   "execution_count": 23,
   "metadata": {},
   "outputs": [],
   "source": [
    "max_species = np.argmax(data1, axis = 1)"
   ]
  },
  {
   "cell_type": "code",
   "execution_count": 24,
   "metadata": {},
   "outputs": [
    {
     "data": {
      "text/plain": [
       "array([['1900.0', 'carrot'],\n",
       "       ['1901.0', 'carrot'],\n",
       "       ['1902.0', 'hares'],\n",
       "       ['1903.0', 'hares'],\n",
       "       ['1904.0', 'lynxes'],\n",
       "       ['1905.0', 'lynxes'],\n",
       "       ['1906.0', 'carrot'],\n",
       "       ['1907.0', 'carrot'],\n",
       "       ['1908.0', 'carrot'],\n",
       "       ['1909.0', 'carrot'],\n",
       "       ['1910.0', 'carrot'],\n",
       "       ['1911.0', 'carrot'],\n",
       "       ['1912.0', 'hares'],\n",
       "       ['1913.0', 'hares'],\n",
       "       ['1914.0', 'hares'],\n",
       "       ['1915.0', 'lynxes'],\n",
       "       ['1916.0', 'carrot'],\n",
       "       ['1917.0', 'carrot'],\n",
       "       ['1918.0', 'carrot'],\n",
       "       ['1919.0', 'carrot'],\n",
       "       ['1920.0', 'carrot']], dtype='<U32')"
      ]
     },
     "execution_count": 24,
     "metadata": {},
     "output_type": "execute_result"
    }
   ],
   "source": [
    "species = np.array(['hares','lynxes','carrot'])\n",
    "max_species1 = species[max_species]\n",
    "maxpopulation = np.column_stack((years, max_species1))\n",
    "maxpopulation"
   ]
  },
  {
   "cell_type": "markdown",
   "metadata": {},
   "source": [
    "# Lecture 4.2"
   ]
  },
  {
   "cell_type": "markdown",
   "metadata": {},
   "source": [
    "Agenda:\n",
    "- Coding questions\n",
    "- Tabs in python. \n",
    "\n",
    "Some relevant coding humor: https://www.youtube.com/watch?v=JfEIkkDkrmE\n",
    "- All about final projects\n",
    "\n",
    "See final project files on github under Course Materials folder"
   ]
  },
  {
   "cell_type": "code",
   "execution_count": null,
   "metadata": {},
   "outputs": [],
   "source": []
  },
  {
   "cell_type": "code",
   "execution_count": null,
   "metadata": {},
   "outputs": [],
   "source": []
  },
  {
   "cell_type": "markdown",
   "metadata": {},
   "source": []
  },
  {
   "cell_type": "code",
   "execution_count": null,
   "metadata": {},
   "outputs": [],
   "source": []
  },
  {
   "cell_type": "code",
   "execution_count": null,
   "metadata": {},
   "outputs": [],
   "source": []
  },
  {
   "cell_type": "markdown",
   "metadata": {},
   "source": [
    "# Lab 4.2"
   ]
  },
  {
   "cell_type": "markdown",
   "metadata": {},
   "source": [
    "**E.1** Complete intermediate python chapter 3: Logic, Control Flow and Filtering\n",
    "\n",
    "Note that the tutorials here have similar material for your needs:\n",
    "https://github.com/chsharrison/IntroSciComp_S2021/blob/main/Class_materials/resources.md"
   ]
  },
  {
   "cell_type": "code",
   "execution_count": null,
   "metadata": {},
   "outputs": [],
   "source": []
  },
  {
   "cell_type": "markdown",
   "metadata": {},
   "source": [
    "**E.2** Make notes for yourself on all of the progamming tecniques and commands you learned in the datacamp chapter above, including examples, comments and explainitory text. You can do this here or in a separate notebook that you link to here. Basically, you are making a cheat sheet for yourself."
   ]
  },
  {
   "cell_type": "code",
   "execution_count": null,
   "metadata": {},
   "outputs": [],
   "source": []
  },
  {
   "cell_type": "markdown",
   "metadata": {},
   "source": [
    "**E.3** Exercise 1 on https://www.practicepython.org"
   ]
  },
  {
   "cell_type": "code",
   "execution_count": 1,
   "metadata": {},
   "outputs": [
    {
     "name": "stdout",
     "output_type": "stream",
     "text": [
      "please enter your name here: destiny\n",
      "enter your age here: 22\n",
      "destiny will be 100 years old in the year 2099\n"
     ]
    }
   ],
   "source": [
    "name = input(\"please enter your name here: \")\n",
    "age = int(input(\"enter your age here: \"))\n",
    "b = str((100 - age) + 2021)\n",
    "print(name+ \" will be 100 years old in the year \" + b)"
   ]
  },
  {
   "cell_type": "markdown",
   "metadata": {},
   "source": [
    "**E.4** Exercise 2 on https://www.practicepython.org"
   ]
  },
  {
   "cell_type": "code",
   "execution_count": 2,
   "metadata": {},
   "outputs": [
    {
     "name": "stdout",
     "output_type": "stream",
     "text": [
      "destiny, give me a random number:150\n"
     ]
    }
   ],
   "source": [
    "copy = input(name+\", give me a random number:\")"
   ]
  },
  {
   "cell_type": "code",
   "execution_count": 5,
   "metadata": {
    "scrolled": false
   },
   "outputs": [
    {
     "name": "stdout",
     "output_type": "stream",
     "text": [
      "destinywill be 100 years old in the year2099/ndestinywill be 100 years old in the year2099/ndestinywill be 100 years old in the year2099/ndestinywill be 100 years old in the year2099/ndestinywill be 100 years old in the year2099/ndestinywill be 100 years old in the year2099/ndestinywill be 100 years old in the year2099/ndestinywill be 100 years old in the year2099/ndestinywill be 100 years old in the year2099/ndestinywill be 100 years old in the year2099/ndestinywill be 100 years old in the year2099/ndestinywill be 100 years old in the year2099/ndestinywill be 100 years old in the year2099/ndestinywill be 100 years old in the year2099/ndestinywill be 100 years old in the year2099/ndestinywill be 100 years old in the year2099/ndestinywill be 100 years old in the year2099/ndestinywill be 100 years old in the year2099/ndestinywill be 100 years old in the year2099/ndestinywill be 100 years old in the year2099/ndestinywill be 100 years old in the year2099/ndestinywill be 100 years old in the year2099/ndestinywill be 100 years old in the year2099/ndestinywill be 100 years old in the year2099/ndestinywill be 100 years old in the year2099/ndestinywill be 100 years old in the year2099/ndestinywill be 100 years old in the year2099/ndestinywill be 100 years old in the year2099/ndestinywill be 100 years old in the year2099/ndestinywill be 100 years old in the year2099/ndestinywill be 100 years old in the year2099/ndestinywill be 100 years old in the year2099/ndestinywill be 100 years old in the year2099/ndestinywill be 100 years old in the year2099/ndestinywill be 100 years old in the year2099/ndestinywill be 100 years old in the year2099/ndestinywill be 100 years old in the year2099/ndestinywill be 100 years old in the year2099/ndestinywill be 100 years old in the year2099/ndestinywill be 100 years old in the year2099/ndestinywill be 100 years old in the year2099/ndestinywill be 100 years old in the year2099/ndestinywill be 100 years old in the year2099/ndestinywill be 100 years old in the year2099/ndestinywill be 100 years old in the year2099/ndestinywill be 100 years old in the year2099/ndestinywill be 100 years old in the year2099/ndestinywill be 100 years old in the year2099/ndestinywill be 100 years old in the year2099/ndestinywill be 100 years old in the year2099/ndestinywill be 100 years old in the year2099/ndestinywill be 100 years old in the year2099/ndestinywill be 100 years old in the year2099/ndestinywill be 100 years old in the year2099/ndestinywill be 100 years old in the year2099/ndestinywill be 100 years old in the year2099/ndestinywill be 100 years old in the year2099/ndestinywill be 100 years old in the year2099/ndestinywill be 100 years old in the year2099/ndestinywill be 100 years old in the year2099/ndestinywill be 100 years old in the year2099/ndestinywill be 100 years old in the year2099/ndestinywill be 100 years old in the year2099/ndestinywill be 100 years old in the year2099/ndestinywill be 100 years old in the year2099/ndestinywill be 100 years old in the year2099/ndestinywill be 100 years old in the year2099/ndestinywill be 100 years old in the year2099/ndestinywill be 100 years old in the year2099/ndestinywill be 100 years old in the year2099/ndestinywill be 100 years old in the year2099/ndestinywill be 100 years old in the year2099/ndestinywill be 100 years old in the year2099/ndestinywill be 100 years old in the year2099/ndestinywill be 100 years old in the year2099/ndestinywill be 100 years old in the year2099/ndestinywill be 100 years old in the year2099/ndestinywill be 100 years old in the year2099/ndestinywill be 100 years old in the year2099/ndestinywill be 100 years old in the year2099/ndestinywill be 100 years old in the year2099/ndestinywill be 100 years old in the year2099/ndestinywill be 100 years old in the year2099/ndestinywill be 100 years old in the year2099/ndestinywill be 100 years old in the year2099/ndestinywill be 100 years old in the year2099/ndestinywill be 100 years old in the year2099/ndestinywill be 100 years old in the year2099/ndestinywill be 100 years old in the year2099/ndestinywill be 100 years old in the year2099/ndestinywill be 100 years old in the year2099/ndestinywill be 100 years old in the year2099/ndestinywill be 100 years old in the year2099/ndestinywill be 100 years old in the year2099/ndestinywill be 100 years old in the year2099/ndestinywill be 100 years old in the year2099/ndestinywill be 100 years old in the year2099/ndestinywill be 100 years old in the year2099/ndestinywill be 100 years old in the year2099/ndestinywill be 100 years old in the year2099/ndestinywill be 100 years old in the year2099/ndestinywill be 100 years old in the year2099/ndestinywill be 100 years old in the year2099/ndestinywill be 100 years old in the year2099/ndestinywill be 100 years old in the year2099/ndestinywill be 100 years old in the year2099/ndestinywill be 100 years old in the year2099/ndestinywill be 100 years old in the year2099/ndestinywill be 100 years old in the year2099/ndestinywill be 100 years old in the year2099/ndestinywill be 100 years old in the year2099/ndestinywill be 100 years old in the year2099/ndestinywill be 100 years old in the year2099/ndestinywill be 100 years old in the year2099/ndestinywill be 100 years old in the year2099/ndestinywill be 100 years old in the year2099/ndestinywill be 100 years old in the year2099/ndestinywill be 100 years old in the year2099/ndestinywill be 100 years old in the year2099/ndestinywill be 100 years old in the year2099/ndestinywill be 100 years old in the year2099/ndestinywill be 100 years old in the year2099/ndestinywill be 100 years old in the year2099/ndestinywill be 100 years old in the year2099/ndestinywill be 100 years old in the year2099/ndestinywill be 100 years old in the year2099/ndestinywill be 100 years old in the year2099/ndestinywill be 100 years old in the year2099/ndestinywill be 100 years old in the year2099/ndestinywill be 100 years old in the year2099/ndestinywill be 100 years old in the year2099/ndestinywill be 100 years old in the year2099/ndestinywill be 100 years old in the year2099/ndestinywill be 100 years old in the year2099/ndestinywill be 100 years old in the year2099/ndestinywill be 100 years old in the year2099/ndestinywill be 100 years old in the year2099/ndestinywill be 100 years old in the year2099/ndestinywill be 100 years old in the year2099/ndestinywill be 100 years old in the year2099/ndestinywill be 100 years old in the year2099/ndestinywill be 100 years old in the year2099/ndestinywill be 100 years old in the year2099/ndestinywill be 100 years old in the year2099/ndestinywill be 100 years old in the year2099/ndestinywill be 100 years old in the year2099/ndestinywill be 100 years old in the year2099/ndestinywill be 100 years old in the year2099/ndestinywill be 100 years old in the year2099/ndestinywill be 100 years old in the year2099/n\n"
     ]
    }
   ],
   "source": [
    "print((name+\"will be 100 years old in the year\"+ str(b)+\"/n\")*int(copy))"
   ]
  },
  {
   "cell_type": "code",
   "execution_count": 1,
   "metadata": {},
   "outputs": [
    {
     "name": "stdout",
     "output_type": "stream",
     "text": [
      "Hi! input a random number:5\n"
     ]
    }
   ],
   "source": [
    "#exercise 2\n",
    "num = input(\"Hi! input a random number:\")"
   ]
  },
  {
   "cell_type": "code",
   "execution_count": 2,
   "metadata": {},
   "outputs": [
    {
     "name": "stdout",
     "output_type": "stream",
     "text": [
      "your number is odd\n"
     ]
    }
   ],
   "source": [
    "if int(num)%2 == 0:\n",
    "    print(\"your number is even\")\n",
    "else:\n",
    "    print(\"your number is odd\")"
   ]
  },
  {
   "cell_type": "code",
   "execution_count": 3,
   "metadata": {},
   "outputs": [
    {
     "name": "stdout",
     "output_type": "stream",
     "text": [
      "give me a random number to add5:6\n"
     ]
    }
   ],
   "source": [
    "check = input(\"give me a random number to add\"+num+\":\")"
   ]
  },
  {
   "cell_type": "code",
   "execution_count": 4,
   "metadata": {},
   "outputs": [
    {
     "name": "stdout",
     "output_type": "stream",
     "text": [
      "5add odd6\n"
     ]
    }
   ],
   "source": [
    "if int(num)%int(check)== 0:\n",
    "    print(num+\"add by\"+check)\n",
    "else:\n",
    "    print(num+ \"add odd\"+check)"
   ]
  },
  {
   "cell_type": "markdown",
   "metadata": {},
   "source": [
    "Don't forget to do some practicing of what you have been learning, including previous labs"
   ]
  },
  {
   "cell_type": "markdown",
   "metadata": {},
   "source": [
    "**You did it!**"
   ]
  },
  {
   "cell_type": "code",
   "execution_count": null,
   "metadata": {},
   "outputs": [],
   "source": []
  }
 ],
 "metadata": {
  "kernelspec": {
   "display_name": "Python 3",
   "language": "python",
   "name": "python3"
  },
  "language_info": {
   "codemirror_mode": {
    "name": "ipython",
    "version": 3
   },
   "file_extension": ".py",
   "mimetype": "text/x-python",
   "name": "python",
   "nbconvert_exporter": "python",
   "pygments_lexer": "ipython3",
   "version": "3.8.5"
  }
 },
 "nbformat": 4,
 "nbformat_minor": 5
}
